{
 "cells": [
  {
   "cell_type": "code",
   "execution_count": 0,
   "metadata": {
    "application/vnd.databricks.v1+cell": {
     "cellMetadata": {
      "byteLimit": 2048000,
      "rowLimit": 10000
     },
     "inputWidgets": {},
     "nuid": "b7a53f95-cd28-4e26-8937-ef388ae10b13",
     "showTitle": false,
     "title": ""
    }
   },
   "outputs": [
    {
     "output_type": "display_data",
     "data": {
      "text/html": [
       "<style scoped>\n",
       "  .ansiout {\n",
       "    display: block;\n",
       "    unicode-bidi: embed;\n",
       "    white-space: pre-wrap;\n",
       "    word-wrap: break-word;\n",
       "    word-break: break-all;\n",
       "    font-family: \"Menlo\", \"Monaco\", \"Consolas\", \"Ubuntu Mono\", \"Source Code Pro\", monospace;\n",
       "    font-size: 13px;\n",
       "    color: #555;\n",
       "    margin-left: 4px;\n",
       "    line-height: 19px;\n",
       "  }\n",
       "</style>\n",
       "<div class=\"ansiout\"></div>"
      ]
     },
     "metadata": {
      "application/vnd.databricks.v1+output": {
       "addedWidgets": {},
       "arguments": {},
       "data": "<div class=\"ansiout\"></div>",
       "datasetInfos": [],
       "metadata": {},
       "removedWidgets": [],
       "type": "html"
      }
     },
     "output_type": "display_data"
    }
   ],
   "source": [
    "from pyspark.sql.types import *\n",
    "import pyspark.sql.functions as F\n",
    "from pyspark.sql.functions import *"
   ]
  },
  {
   "cell_type": "code",
   "execution_count": 0,
   "metadata": {
    "application/vnd.databricks.v1+cell": {
     "cellMetadata": {
      "byteLimit": 2048000,
      "rowLimit": 10000
     },
     "inputWidgets": {},
     "nuid": "1ad89754-70e1-48fb-9b2b-f991cbf261cf",
     "showTitle": false,
     "title": ""
    }
   },
   "outputs": [
    {
     "output_type": "display_data",
     "data": {
      "text/html": [
       "<style scoped>\n",
       "  .ansiout {\n",
       "    display: block;\n",
       "    unicode-bidi: embed;\n",
       "    white-space: pre-wrap;\n",
       "    word-wrap: break-word;\n",
       "    word-break: break-all;\n",
       "    font-family: \"Menlo\", \"Monaco\", \"Consolas\", \"Ubuntu Mono\", \"Source Code Pro\", monospace;\n",
       "    font-size: 13px;\n",
       "    color: #555;\n",
       "    margin-left: 4px;\n",
       "    line-height: 19px;\n",
       "  }\n",
       "</style>\n",
       "<div class=\"ansiout\"></div>"
      ]
     },
     "metadata": {
      "application/vnd.databricks.v1+output": {
       "addedWidgets": {},
       "arguments": {},
       "data": "<div class=\"ansiout\"></div>",
       "datasetInfos": [],
       "metadata": {},
       "removedWidgets": [],
       "type": "html"
      }
     },
     "output_type": "display_data"
    }
   ],
   "source": [
    "bronze_path = '/mnt/project/landing/'\n",
    "bronze_path = '/mnt/project/bronze/'\n",
    "silver_path = '/mnt/project/silver/'\n",
    "gold_path = '/mnt/project/gold/'"
   ]
  },
  {
   "cell_type": "code",
   "execution_count": 0,
   "metadata": {
    "application/vnd.databricks.v1+cell": {
     "cellMetadata": {
      "byteLimit": 2048000,
      "implicitDf": true,
      "rowLimit": 10000
     },
     "inputWidgets": {},
     "nuid": "b22c4291-0fe2-4b59-9a49-0569059a42e7",
     "showTitle": false,
     "title": ""
    }
   },
   "outputs": [
    {
     "output_type": "display_data",
     "data": {
      "text/html": [
       "<style scoped>\n",
       "  .ansiout {\n",
       "    display: block;\n",
       "    unicode-bidi: embed;\n",
       "    white-space: pre-wrap;\n",
       "    word-wrap: break-word;\n",
       "    word-break: break-all;\n",
       "    font-family: \"Menlo\", \"Monaco\", \"Consolas\", \"Ubuntu Mono\", \"Source Code Pro\", monospace;\n",
       "    font-size: 13px;\n",
       "    color: #555;\n",
       "    margin-left: 4px;\n",
       "    line-height: 19px;\n",
       "  }\n",
       "</style>\n",
       "<div class=\"ansiout\"></div>"
      ]
     },
     "metadata": {
      "application/vnd.databricks.v1+output": {
       "addedWidgets": {},
       "arguments": {},
       "data": "<div class=\"ansiout\"></div>",
       "datasetInfos": [],
       "metadata": {},
       "removedWidgets": [],
       "type": "html"
      }
     },
     "output_type": "display_data"
    }
   ],
   "source": [
    "query = '''\n",
    "SELECT\n",
    "  c.customer_id, c.customer_fname, c.customer_lname as customer_name, c.customer_city,\n",
    "  o.order_id, o.order_date, o.order_customer_id, o.order_status,\n",
    "  -- oi.order_item_id, oi.order_item_order_id, oi.\n",
    "  oi.order_item_quantity, oi.order_item_subtotal, oi.order_item_product_price,\n",
    "  p.product_name, p.product_price,\n",
    "  ca.category_name,\n",
    "  de.department_name\n",
    "FROM delta.`{}/customers` as c, delta.`{}/orders` as o, delta.`{}/order_items` as oi,  delta.`{}/products` as p, delta.`{}/categories` as ca, delta.`{}/departments` as de\n",
    "WHERE c.customer_id = o.order_customer_id\n",
    "AND o.order_id = oi.order_item_order_id\n",
    "AND oi.order_item_product_id = p.product_id\n",
    "AND p.product_category_id = ca.category_id\n",
    "AND ca.category_department_id = de.department_id\n",
    "\n",
    "'''.format(bronze_path, bronze_path, bronze_path, bronze_path, bronze_path, bronze_path)\n",
    "\n",
    "tb_ventas = spark.sql(query)\n"
   ]
  },
  {
   "cell_type": "code",
   "execution_count": 0,
   "metadata": {
    "application/vnd.databricks.v1+cell": {
     "cellMetadata": {
      "byteLimit": 2048000,
      "rowLimit": 10000
     },
     "inputWidgets": {},
     "nuid": "f45eebaa-f319-4d9c-af56-48fd116110a5",
     "showTitle": false,
     "title": ""
    }
   },
   "outputs": [
    {
     "output_type": "display_data",
     "data": {
      "text/html": [
       "<style scoped>\n",
       "  .table-result-container {\n",
       "    max-height: 300px;\n",
       "    overflow: auto;\n",
       "  }\n",
       "  table, th, td {\n",
       "    border: 1px solid black;\n",
       "    border-collapse: collapse;\n",
       "  }\n",
       "  th, td {\n",
       "    padding: 5px;\n",
       "  }\n",
       "  th {\n",
       "    text-align: left;\n",
       "  }\n",
       "</style><div class='table-result-container'><table class='table-result'><thead style='background-color: white'><tr><th>customer_id</th><th>customer_fname</th><th>customer_name</th><th>customer_city</th><th>order_id</th><th>order_date</th><th>order_customer_id</th><th>order_status</th><th>order_item_quantity</th><th>order_item_subtotal</th><th>order_item_product_price</th><th>product_name</th><th>product_price</th><th>category_name</th><th>department_name</th></tr></thead><tbody><tr><td>11599</td><td>Mary</td><td>Malone</td><td>Hickory</td><td>1</td><td>2013-07-25 00:00:00.0</td><td>11599</td><td>CLOSED</td><td>1</td><td>299.98</td><td>299.98</td><td>Diamondback Women's Serene Classic Comfort Bi</td><td>299.98</td><td>Football</td><td>Fitness</td></tr><tr><td>11599</td><td>Mary</td><td>Malone</td><td>Hickory</td><td>1</td><td>2013-07-25 00:00:00.0</td><td>11599</td><td>CLOSED</td><td>1</td><td>299.98</td><td>299.98</td><td>Diamondback Women's Serene Classic Comfort Bi</td><td>299.98</td><td>Soccer</td><td>Fitness</td></tr><tr><td>11599</td><td>Mary</td><td>Malone</td><td>Hickory</td><td>1</td><td>2013-07-25 00:00:00.0</td><td>11599</td><td>CLOSED</td><td>1</td><td>299.98</td><td>299.98</td><td>Diamondback Women's Serene Classic Comfort Bi</td><td>299.98</td><td>Baseball & Softball</td><td>Fitness</td></tr><tr><td>11599</td><td>Mary</td><td>Malone</td><td>Hickory</td><td>1</td><td>2013-07-25 00:00:00.0</td><td>11599</td><td>CLOSED</td><td>1</td><td>299.98</td><td>299.98</td><td>Diamondback Women's Serene Classic Comfort Bi</td><td>299.98</td><td>Basketball</td><td>Fitness</td></tr><tr><td>11599</td><td>Mary</td><td>Malone</td><td>Hickory</td><td>1</td><td>2013-07-25 00:00:00.0</td><td>11599</td><td>CLOSED</td><td>1</td><td>299.98</td><td>299.98</td><td>Diamondback Women's Serene Classic Comfort Bi</td><td>299.98</td><td>Lacrosse</td><td>Fitness</td></tr><tr><td>11599</td><td>Mary</td><td>Malone</td><td>Hickory</td><td>1</td><td>2013-07-25 00:00:00.0</td><td>11599</td><td>CLOSED</td><td>1</td><td>299.98</td><td>299.98</td><td>Diamondback Women's Serene Classic Comfort Bi</td><td>299.98</td><td>Tennis & Racquet</td><td>Fitness</td></tr><tr><td>11599</td><td>Mary</td><td>Malone</td><td>Hickory</td><td>1</td><td>2013-07-25 00:00:00.0</td><td>11599</td><td>CLOSED</td><td>1</td><td>299.98</td><td>299.98</td><td>Diamondback Women's Serene Classic Comfort Bi</td><td>299.98</td><td>Hockey</td><td>Fitness</td></tr><tr><td>11599</td><td>Mary</td><td>Malone</td><td>Hickory</td><td>1</td><td>2013-07-25 00:00:00.0</td><td>11599</td><td>CLOSED</td><td>1</td><td>299.98</td><td>299.98</td><td>Diamondback Women's Serene Classic Comfort Bi</td><td>299.98</td><td>More Sports</td><td>Fitness</td></tr><tr><td>11599</td><td>Mary</td><td>Malone</td><td>Hickory</td><td>1</td><td>2013-07-25 00:00:00.0</td><td>11599</td><td>CLOSED</td><td>1</td><td>299.98</td><td>299.98</td><td>Diamondback Women's Serene Classic Comfort Bi</td><td>299.98</td><td>Cardio Equipment</td><td>Footwear</td></tr><tr><td>11599</td><td>Mary</td><td>Malone</td><td>Hickory</td><td>1</td><td>2013-07-25 00:00:00.0</td><td>11599</td><td>CLOSED</td><td>1</td><td>299.98</td><td>299.98</td><td>Diamondback Women's Serene Classic Comfort Bi</td><td>299.98</td><td>Strength Training</td><td>Footwear</td></tr><tr><td>11599</td><td>Mary</td><td>Malone</td><td>Hickory</td><td>1</td><td>2013-07-25 00:00:00.0</td><td>11599</td><td>CLOSED</td><td>1</td><td>299.98</td><td>299.98</td><td>Diamondback Women's Serene Classic Comfort Bi</td><td>299.98</td><td>Fitness Accessories</td><td>Footwear</td></tr><tr><td>11599</td><td>Mary</td><td>Malone</td><td>Hickory</td><td>1</td><td>2013-07-25 00:00:00.0</td><td>11599</td><td>CLOSED</td><td>1</td><td>299.98</td><td>299.98</td><td>Diamondback Women's Serene Classic Comfort Bi</td><td>299.98</td><td>Boxing & MMA</td><td>Footwear</td></tr><tr><td>11599</td><td>Mary</td><td>Malone</td><td>Hickory</td><td>1</td><td>2013-07-25 00:00:00.0</td><td>11599</td><td>CLOSED</td><td>1</td><td>299.98</td><td>299.98</td><td>Diamondback Women's Serene Classic Comfort Bi</td><td>299.98</td><td>Electronics</td><td>Footwear</td></tr><tr><td>11599</td><td>Mary</td><td>Malone</td><td>Hickory</td><td>1</td><td>2013-07-25 00:00:00.0</td><td>11599</td><td>CLOSED</td><td>1</td><td>299.98</td><td>299.98</td><td>Diamondback Women's Serene Classic Comfort Bi</td><td>299.98</td><td>Yoga & Pilates</td><td>Footwear</td></tr><tr><td>11599</td><td>Mary</td><td>Malone</td><td>Hickory</td><td>1</td><td>2013-07-25 00:00:00.0</td><td>11599</td><td>CLOSED</td><td>1</td><td>299.98</td><td>299.98</td><td>Diamondback Women's Serene Classic Comfort Bi</td><td>299.98</td><td>Training by Sport</td><td>Footwear</td></tr><tr><td>11599</td><td>Mary</td><td>Malone</td><td>Hickory</td><td>1</td><td>2013-07-25 00:00:00.0</td><td>11599</td><td>CLOSED</td><td>1</td><td>299.98</td><td>299.98</td><td>Diamondback Women's Serene Classic Comfort Bi</td><td>299.98</td><td>As Seen on  TV!</td><td>Footwear</td></tr><tr><td>11599</td><td>Mary</td><td>Malone</td><td>Hickory</td><td>1</td><td>2013-07-25 00:00:00.0</td><td>11599</td><td>CLOSED</td><td>1</td><td>299.98</td><td>299.98</td><td>Diamondback Women's Serene Classic Comfort Bi</td><td>299.98</td><td>Cleats</td><td>Apparel</td></tr><tr><td>11599</td><td>Mary</td><td>Malone</td><td>Hickory</td><td>1</td><td>2013-07-25 00:00:00.0</td><td>11599</td><td>CLOSED</td><td>1</td><td>299.98</td><td>299.98</td><td>Diamondback Women's Serene Classic Comfort Bi</td><td>299.98</td><td>Men's Footwear</td><td>Apparel</td></tr><tr><td>11599</td><td>Mary</td><td>Malone</td><td>Hickory</td><td>1</td><td>2013-07-25 00:00:00.0</td><td>11599</td><td>CLOSED</td><td>1</td><td>299.98</td><td>299.98</td><td>Diamondback Women's Serene Classic Comfort Bi</td><td>299.98</td><td>Women's Footwear</td><td>Apparel</td></tr></tbody></table></div>"
      ]
     },
     "metadata": {
      "application/vnd.databricks.v1+output": {
       "addedWidgets": {},
       "aggData": [],
       "aggError": "",
       "aggOverflow": false,
       "aggSchema": [],
       "aggSeriesLimitReached": false,
       "aggType": "",
       "arguments": {},
       "columnCustomDisplayInfos": {},
       "data": [
        [
         11599,
         "Mary",
         "Malone",
         "Hickory",
         1,
         "2013-07-25 00:00:00.0",
         11599,
         "CLOSED",
         1,
         299.98,
         299.98,
         "Diamondback Women's Serene Classic Comfort Bi",
         299.98,
         "Football",
         "Fitness"
        ],
        [
         11599,
         "Mary",
         "Malone",
         "Hickory",
         1,
         "2013-07-25 00:00:00.0",
         11599,
         "CLOSED",
         1,
         299.98,
         299.98,
         "Diamondback Women's Serene Classic Comfort Bi",
         299.98,
         "Soccer",
         "Fitness"
        ],
        [
         11599,
         "Mary",
         "Malone",
         "Hickory",
         1,
         "2013-07-25 00:00:00.0",
         11599,
         "CLOSED",
         1,
         299.98,
         299.98,
         "Diamondback Women's Serene Classic Comfort Bi",
         299.98,
         "Baseball & Softball",
         "Fitness"
        ],
        [
         11599,
         "Mary",
         "Malone",
         "Hickory",
         1,
         "2013-07-25 00:00:00.0",
         11599,
         "CLOSED",
         1,
         299.98,
         299.98,
         "Diamondback Women's Serene Classic Comfort Bi",
         299.98,
         "Basketball",
         "Fitness"
        ],
        [
         11599,
         "Mary",
         "Malone",
         "Hickory",
         1,
         "2013-07-25 00:00:00.0",
         11599,
         "CLOSED",
         1,
         299.98,
         299.98,
         "Diamondback Women's Serene Classic Comfort Bi",
         299.98,
         "Lacrosse",
         "Fitness"
        ],
        [
         11599,
         "Mary",
         "Malone",
         "Hickory",
         1,
         "2013-07-25 00:00:00.0",
         11599,
         "CLOSED",
         1,
         299.98,
         299.98,
         "Diamondback Women's Serene Classic Comfort Bi",
         299.98,
         "Tennis & Racquet",
         "Fitness"
        ],
        [
         11599,
         "Mary",
         "Malone",
         "Hickory",
         1,
         "2013-07-25 00:00:00.0",
         11599,
         "CLOSED",
         1,
         299.98,
         299.98,
         "Diamondback Women's Serene Classic Comfort Bi",
         299.98,
         "Hockey",
         "Fitness"
        ],
        [
         11599,
         "Mary",
         "Malone",
         "Hickory",
         1,
         "2013-07-25 00:00:00.0",
         11599,
         "CLOSED",
         1,
         299.98,
         299.98,
         "Diamondback Women's Serene Classic Comfort Bi",
         299.98,
         "More Sports",
         "Fitness"
        ],
        [
         11599,
         "Mary",
         "Malone",
         "Hickory",
         1,
         "2013-07-25 00:00:00.0",
         11599,
         "CLOSED",
         1,
         299.98,
         299.98,
         "Diamondback Women's Serene Classic Comfort Bi",
         299.98,
         "Cardio Equipment",
         "Footwear"
        ],
        [
         11599,
         "Mary",
         "Malone",
         "Hickory",
         1,
         "2013-07-25 00:00:00.0",
         11599,
         "CLOSED",
         1,
         299.98,
         299.98,
         "Diamondback Women's Serene Classic Comfort Bi",
         299.98,
         "Strength Training",
         "Footwear"
        ],
        [
         11599,
         "Mary",
         "Malone",
         "Hickory",
         1,
         "2013-07-25 00:00:00.0",
         11599,
         "CLOSED",
         1,
         299.98,
         299.98,
         "Diamondback Women's Serene Classic Comfort Bi",
         299.98,
         "Fitness Accessories",
         "Footwear"
        ],
        [
         11599,
         "Mary",
         "Malone",
         "Hickory",
         1,
         "2013-07-25 00:00:00.0",
         11599,
         "CLOSED",
         1,
         299.98,
         299.98,
         "Diamondback Women's Serene Classic Comfort Bi",
         299.98,
         "Boxing & MMA",
         "Footwear"
        ],
        [
         11599,
         "Mary",
         "Malone",
         "Hickory",
         1,
         "2013-07-25 00:00:00.0",
         11599,
         "CLOSED",
         1,
         299.98,
         299.98,
         "Diamondback Women's Serene Classic Comfort Bi",
         299.98,
         "Electronics",
         "Footwear"
        ],
        [
         11599,
         "Mary",
         "Malone",
         "Hickory",
         1,
         "2013-07-25 00:00:00.0",
         11599,
         "CLOSED",
         1,
         299.98,
         299.98,
         "Diamondback Women's Serene Classic Comfort Bi",
         299.98,
         "Yoga & Pilates",
         "Footwear"
        ],
        [
         11599,
         "Mary",
         "Malone",
         "Hickory",
         1,
         "2013-07-25 00:00:00.0",
         11599,
         "CLOSED",
         1,
         299.98,
         299.98,
         "Diamondback Women's Serene Classic Comfort Bi",
         299.98,
         "Training by Sport",
         "Footwear"
        ],
        [
         11599,
         "Mary",
         "Malone",
         "Hickory",
         1,
         "2013-07-25 00:00:00.0",
         11599,
         "CLOSED",
         1,
         299.98,
         299.98,
         "Diamondback Women's Serene Classic Comfort Bi",
         299.98,
         "As Seen on  TV!",
         "Footwear"
        ],
        [
         11599,
         "Mary",
         "Malone",
         "Hickory",
         1,
         "2013-07-25 00:00:00.0",
         11599,
         "CLOSED",
         1,
         299.98,
         299.98,
         "Diamondback Women's Serene Classic Comfort Bi",
         299.98,
         "Cleats",
         "Apparel"
        ],
        [
         11599,
         "Mary",
         "Malone",
         "Hickory",
         1,
         "2013-07-25 00:00:00.0",
         11599,
         "CLOSED",
         1,
         299.98,
         299.98,
         "Diamondback Women's Serene Classic Comfort Bi",
         299.98,
         "Men's Footwear",
         "Apparel"
        ],
        [
         11599,
         "Mary",
         "Malone",
         "Hickory",
         1,
         "2013-07-25 00:00:00.0",
         11599,
         "CLOSED",
         1,
         299.98,
         299.98,
         "Diamondback Women's Serene Classic Comfort Bi",
         299.98,
         "Women's Footwear",
         "Apparel"
        ]
       ],
       "datasetInfos": [],
       "dbfsResultPath": null,
       "isJsonSchema": true,
       "metadata": {},
       "overflow": false,
       "plotOptions": {
        "customPlotOptions": {},
        "displayType": "table",
        "pivotAggregation": null,
        "pivotColumns": null,
        "xColumns": null,
        "yColumns": null
       },
       "removedWidgets": [],
       "schema": [
        {
         "metadata": "{}",
         "name": "customer_id",
         "type": "\"integer\""
        },
        {
         "metadata": "{}",
         "name": "customer_fname",
         "type": "\"string\""
        },
        {
         "metadata": "{}",
         "name": "customer_name",
         "type": "\"string\""
        },
        {
         "metadata": "{}",
         "name": "customer_city",
         "type": "\"string\""
        },
        {
         "metadata": "{}",
         "name": "order_id",
         "type": "\"integer\""
        },
        {
         "metadata": "{}",
         "name": "order_date",
         "type": "\"string\""
        },
        {
         "metadata": "{}",
         "name": "order_customer_id",
         "type": "\"integer\""
        },
        {
         "metadata": "{}",
         "name": "order_status",
         "type": "\"string\""
        },
        {
         "metadata": "{}",
         "name": "order_item_quantity",
         "type": "\"integer\""
        },
        {
         "metadata": "{}",
         "name": "order_item_subtotal",
         "type": "\"float\""
        },
        {
         "metadata": "{}",
         "name": "order_item_product_price",
         "type": "\"float\""
        },
        {
         "metadata": "{}",
         "name": "product_name",
         "type": "\"string\""
        },
        {
         "metadata": "{}",
         "name": "product_price",
         "type": "\"float\""
        },
        {
         "metadata": "{}",
         "name": "category_name",
         "type": "\"string\""
        },
        {
         "metadata": "{}",
         "name": "department_name",
         "type": "\"string\""
        }
       ],
       "type": "table"
      }
     },
     "output_type": "display_data"
    }
   ],
   "source": [
    "display(tb_ventas)"
   ]
  },
  {
   "cell_type": "code",
   "execution_count": 0,
   "metadata": {
    "application/vnd.databricks.v1+cell": {
     "cellMetadata": {
      "byteLimit": 2048000,
      "rowLimit": 10000
     },
     "inputWidgets": {},
     "nuid": "5142b70c-b64a-43d1-9a8e-f80bfd1ccb73",
     "showTitle": false,
     "title": ""
    }
   },
   "outputs": [
    {
     "output_type": "display_data",
     "data": {
      "text/html": [
       "<style scoped>\n",
       "  .ansiout {\n",
       "    display: block;\n",
       "    unicode-bidi: embed;\n",
       "    white-space: pre-wrap;\n",
       "    word-wrap: break-word;\n",
       "    word-break: break-all;\n",
       "    font-family: \"Menlo\", \"Monaco\", \"Consolas\", \"Ubuntu Mono\", \"Source Code Pro\", monospace;\n",
       "    font-size: 13px;\n",
       "    color: #555;\n",
       "    margin-left: 4px;\n",
       "    line-height: 19px;\n",
       "  }\n",
       "</style>\n",
       "<div class=\"ansiout\"></div>"
      ]
     },
     "metadata": {
      "application/vnd.databricks.v1+output": {
       "addedWidgets": {},
       "arguments": {},
       "data": "<div class=\"ansiout\"></div>",
       "datasetInfos": [],
       "metadata": {},
       "removedWidgets": [],
       "type": "html"
      }
     },
     "output_type": "display_data"
    }
   ],
   "source": [
    "tb_ventas.write.mode(\"overwrite\").format(\"delta\").save(f\"{silver_path}/tb_ventas\")"
   ]
  },
  {
   "cell_type": "code",
   "execution_count": 0,
   "metadata": {
    "application/vnd.databricks.v1+cell": {
     "cellMetadata": {},
     "inputWidgets": {},
     "nuid": "b60b2691-52ea-4b0c-8fc4-7f998771ea26",
     "showTitle": false,
     "title": ""
    }
   },
   "outputs": [],
   "source": [
    "query = '''\n",
    "SELECT\n",
    "    customer_id, customer_fname, customer_lname, customer_email,\n",
    "    sum(order_item_quantity) as quantity_item_total,\n",
    "    sum(order_item_subtotal) as total\n",
    "FROM\n",
    "    delta.`{}/customers` as c\n",
    "INNER JOIN\n",
    "    delta.`{}/orders` as o\n",
    "    ON c.customer_id = o.order_customer_id\n",
    "INNER JOIN\n",
    "    delta.`{}/order_items` as oi\n",
    "    ON o.order_id = oi.order_item_order_id\n",
    "WHERE\n",
    "    order_status <> 'CANCELED'\n",
    "GROUP BY\n",
    "    customer_id, customer_fname, customer_lname, customer_email\n",
    "ORDER BY\n",
    "    total DESC\n",
    "LIMIT 20\n",
    "'''.format(bronze_path, bronze_path, bronze_path)\n",
    "\n",
    "statement1 = spark.sql(query)"
   ]
  },
  {
   "cell_type": "code",
   "execution_count": 0,
   "metadata": {
    "application/vnd.databricks.v1+cell": {
     "cellMetadata": {
      "byteLimit": 2048000,
      "rowLimit": 10000
     },
     "inputWidgets": {},
     "nuid": "2e72cdce-458a-4303-a272-ede0aa620c22",
     "showTitle": false,
     "title": ""
    }
   },
   "outputs": [
    {
     "output_type": "display_data",
     "data": {
      "text/html": [
       "<style scoped>\n",
       "  .table-result-container {\n",
       "    max-height: 300px;\n",
       "    overflow: auto;\n",
       "  }\n",
       "  table, th, td {\n",
       "    border: 1px solid black;\n",
       "    border-collapse: collapse;\n",
       "  }\n",
       "  th, td {\n",
       "    padding: 5px;\n",
       "  }\n",
       "  th {\n",
       "    text-align: left;\n",
       "  }\n",
       "</style><div class='table-result-container'><table class='table-result'><thead style='background-color: white'><tr><th>customer_id</th><th>customer_fname</th><th>customer_lname</th><th>customer_email</th><th>quantity_item_total</th><th>total</th></tr></thead><tbody><tr><td>791</td><td>Mary</td><td>Smith</td><td>XXXXXXXXX</td><td>82</td><td>10524.170177459717</td></tr><tr><td>8766</td><td>Mary</td><td>Duncan</td><td>XXXXXXXXX</td><td>87</td><td>9296.140186309814</td></tr><tr><td>1657</td><td>Betty</td><td>Phillips</td><td>XXXXXXXXX</td><td>111</td><td>9223.710151672363</td></tr><tr><td>2641</td><td>Betty</td><td>Spears</td><td>XXXXXXXXX</td><td>90</td><td>9130.920223236084</td></tr><tr><td>1288</td><td>Evelyn</td><td>Thompson</td><td>XXXXXXXXX</td><td>89</td><td>9019.11019897461</td></tr><tr><td>3710</td><td>Ashley</td><td>Smith</td><td>XXXXXXXXX</td><td>89</td><td>9019.10020828247</td></tr><tr><td>5654</td><td>Jerry</td><td>Smith</td><td>XXXXXXXXX</td><td>103</td><td>8904.950210571289</td></tr><tr><td>5624</td><td>Mary</td><td>Mata</td><td>XXXXXXXXX</td><td>89</td><td>8761.980182647705</td></tr><tr><td>5715</td><td>Kelly</td><td>Smith</td><td>XXXXXXXXX</td><td>99</td><td>8595.130157470703</td></tr><tr><td>664</td><td>Bobby</td><td>Jimenez</td><td>XXXXXXXXX</td><td>76</td><td>8394.260208129883</td></tr><tr><td>9371</td><td>Mary</td><td>Patterson</td><td>XXXXXXXXX</td><td>79</td><td>8359.140188217163</td></tr><tr><td>10351</td><td>Teresa</td><td>Gray</td><td>XXXXXXXXX</td><td>69</td><td>8339.260166168213</td></tr><tr><td>2292</td><td>Ashley</td><td>Smith</td><td>XXXXXXXXX</td><td>91</td><td>8293.04016494751</td></tr><tr><td>4663</td><td>Paul</td><td>Smith</td><td>XXXXXXXXX</td><td>91</td><td>8279.890161514282</td></tr><tr><td>3708</td><td>Judy</td><td>Miller</td><td>XXXXXXXXX</td><td>82</td><td>8275.09017944336</td></tr><tr><td>4249</td><td>Mary</td><td>Butler</td><td>XXXXXXXXX</td><td>87</td><td>8268.980131149292</td></tr><tr><td>12284</td><td>Mary</td><td>Smith</td><td>XXXXXXXXX</td><td>110</td><td>8258.620170593262</td></tr><tr><td>5927</td><td>Christopher</td><td>Cooper</td><td>XXXXXXXXX</td><td>82</td><td>8169.130199432373</td></tr><tr><td>5004</td><td>Dorothy</td><td>Friedman</td><td>XXXXXXXXX</td><td>114</td><td>8164.700141906738</td></tr><tr><td>1443</td><td>Denise</td><td>Cohen</td><td>XXXXXXXXX</td><td>86</td><td>8150.130157470703</td></tr></tbody></table></div>"
      ]
     },
     "metadata": {
      "application/vnd.databricks.v1+output": {
       "addedWidgets": {},
       "aggData": [],
       "aggError": "",
       "aggOverflow": false,
       "aggSchema": [],
       "aggSeriesLimitReached": false,
       "aggType": "",
       "arguments": {},
       "columnCustomDisplayInfos": {},
       "data": [
        [
         791,
         "Mary",
         "Smith",
         "XXXXXXXXX",
         82,
         10524.170177459717
        ],
        [
         8766,
         "Mary",
         "Duncan",
         "XXXXXXXXX",
         87,
         9296.140186309814
        ],
        [
         1657,
         "Betty",
         "Phillips",
         "XXXXXXXXX",
         111,
         9223.710151672363
        ],
        [
         2641,
         "Betty",
         "Spears",
         "XXXXXXXXX",
         90,
         9130.920223236084
        ],
        [
         1288,
         "Evelyn",
         "Thompson",
         "XXXXXXXXX",
         89,
         9019.11019897461
        ],
        [
         3710,
         "Ashley",
         "Smith",
         "XXXXXXXXX",
         89,
         9019.10020828247
        ],
        [
         5654,
         "Jerry",
         "Smith",
         "XXXXXXXXX",
         103,
         8904.950210571289
        ],
        [
         5624,
         "Mary",
         "Mata",
         "XXXXXXXXX",
         89,
         8761.980182647705
        ],
        [
         5715,
         "Kelly",
         "Smith",
         "XXXXXXXXX",
         99,
         8595.130157470703
        ],
        [
         664,
         "Bobby",
         "Jimenez",
         "XXXXXXXXX",
         76,
         8394.260208129883
        ],
        [
         9371,
         "Mary",
         "Patterson",
         "XXXXXXXXX",
         79,
         8359.140188217163
        ],
        [
         10351,
         "Teresa",
         "Gray",
         "XXXXXXXXX",
         69,
         8339.260166168213
        ],
        [
         2292,
         "Ashley",
         "Smith",
         "XXXXXXXXX",
         91,
         8293.04016494751
        ],
        [
         4663,
         "Paul",
         "Smith",
         "XXXXXXXXX",
         91,
         8279.890161514282
        ],
        [
         3708,
         "Judy",
         "Miller",
         "XXXXXXXXX",
         82,
         8275.09017944336
        ],
        [
         4249,
         "Mary",
         "Butler",
         "XXXXXXXXX",
         87,
         8268.980131149292
        ],
        [
         12284,
         "Mary",
         "Smith",
         "XXXXXXXXX",
         110,
         8258.620170593262
        ],
        [
         5927,
         "Christopher",
         "Cooper",
         "XXXXXXXXX",
         82,
         8169.130199432373
        ],
        [
         5004,
         "Dorothy",
         "Friedman",
         "XXXXXXXXX",
         114,
         8164.700141906738
        ],
        [
         1443,
         "Denise",
         "Cohen",
         "XXXXXXXXX",
         86,
         8150.130157470703
        ]
       ],
       "datasetInfos": [],
       "dbfsResultPath": null,
       "isJsonSchema": true,
       "metadata": {},
       "overflow": false,
       "plotOptions": {
        "customPlotOptions": {},
        "displayType": "table",
        "pivotAggregation": null,
        "pivotColumns": null,
        "xColumns": null,
        "yColumns": null
       },
       "removedWidgets": [],
       "schema": [
        {
         "metadata": "{}",
         "name": "customer_id",
         "type": "\"integer\""
        },
        {
         "metadata": "{}",
         "name": "customer_fname",
         "type": "\"string\""
        },
        {
         "metadata": "{}",
         "name": "customer_lname",
         "type": "\"string\""
        },
        {
         "metadata": "{}",
         "name": "customer_email",
         "type": "\"string\""
        },
        {
         "metadata": "{}",
         "name": "quantity_item_total",
         "type": "\"long\""
        },
        {
         "metadata": "{}",
         "name": "total",
         "type": "\"double\""
        }
       ],
       "type": "table"
      }
     },
     "output_type": "display_data"
    }
   ],
   "source": [
    "display(statement1)"
   ]
  },
  {
   "cell_type": "code",
   "execution_count": 0,
   "metadata": {
    "application/vnd.databricks.v1+cell": {
     "cellMetadata": {
      "byteLimit": 2048000,
      "rowLimit": 10000
     },
     "inputWidgets": {},
     "nuid": "4c0103cb-7a11-467e-940e-e80661114b6a",
     "showTitle": false,
     "title": ""
    }
   },
   "outputs": [
    {
     "output_type": "display_data",
     "data": {
      "text/html": [
       "<style scoped>\n",
       "  .ansiout {\n",
       "    display: block;\n",
       "    unicode-bidi: embed;\n",
       "    white-space: pre-wrap;\n",
       "    word-wrap: break-word;\n",
       "    word-break: break-all;\n",
       "    font-family: \"Menlo\", \"Monaco\", \"Consolas\", \"Ubuntu Mono\", \"Source Code Pro\", monospace;\n",
       "    font-size: 13px;\n",
       "    color: #555;\n",
       "    margin-left: 4px;\n",
       "    line-height: 19px;\n",
       "  }\n",
       "</style>\n",
       "<div class=\"ansiout\"></div>"
      ]
     },
     "metadata": {
      "application/vnd.databricks.v1+output": {
       "addedWidgets": {},
       "arguments": {},
       "data": "<div class=\"ansiout\"></div>",
       "datasetInfos": [],
       "metadata": {},
       "removedWidgets": [],
       "type": "html"
      }
     },
     "output_type": "display_data"
    }
   ],
   "source": [
    "statement1.write.mode(\"overwrite\").format(\"delta\").save(f\"{silver_path}/statement1\")"
   ]
  },
  {
   "cell_type": "code",
   "execution_count": 0,
   "metadata": {
    "application/vnd.databricks.v1+cell": {
     "cellMetadata": {
      "byteLimit": 2048000,
      "rowLimit": 10000
     },
     "inputWidgets": {},
     "nuid": "3b1fcc0c-bc4a-4ede-a8af-18af0b9ea309",
     "showTitle": false,
     "title": ""
    }
   },
   "outputs": [
    {
     "output_type": "display_data",
     "data": {
      "text/html": [
       "<style scoped>\n",
       "  .ansiout {\n",
       "    display: block;\n",
       "    unicode-bidi: embed;\n",
       "    white-space: pre-wrap;\n",
       "    word-wrap: break-word;\n",
       "    word-break: break-all;\n",
       "    font-family: \"Menlo\", \"Monaco\", \"Consolas\", \"Ubuntu Mono\", \"Source Code Pro\", monospace;\n",
       "    font-size: 13px;\n",
       "    color: #555;\n",
       "    margin-left: 4px;\n",
       "    line-height: 19px;\n",
       "  }\n",
       "</style>\n",
       "<div class=\"ansiout\"></div>"
      ]
     },
     "metadata": {
      "application/vnd.databricks.v1+output": {
       "addedWidgets": {},
       "arguments": {},
       "data": "<div class=\"ansiout\"></div>",
       "datasetInfos": [],
       "metadata": {},
       "removedWidgets": [],
       "type": "html"
      }
     },
     "output_type": "display_data"
    }
   ],
   "source": [
    "query = '''\n",
    "    SELECT\n",
    "                    ca.category_name, sum(order_item_quantity) as item_quantity, cast(sum(order_item_subtotal) AS INT )as total\n",
    "                FROM delta.`{}/order_items` as oi\n",
    "                INNER JOIN\n",
    "                    delta.`{}/products` as p\n",
    "                    ON oi.order_item_product_id = p.product_id\n",
    "                INNER JOIN\n",
    "                    delta.`{}/categories` as ca\n",
    "                    ON p.product_category_id = ca.category_id\n",
    "                GROUP BY ca.category_name\n",
    "'''.format(bronze_path, bronze_path, bronze_path)\n",
    "\n",
    "statement2 = spark.sql(query)"
   ]
  },
  {
   "cell_type": "code",
   "execution_count": 0,
   "metadata": {
    "application/vnd.databricks.v1+cell": {
     "cellMetadata": {
      "byteLimit": 2048000,
      "rowLimit": 10000
     },
     "inputWidgets": {},
     "nuid": "dc269811-ca77-4617-b306-4510c218bbc4",
     "showTitle": false,
     "title": ""
    }
   },
   "outputs": [
    {
     "output_type": "display_data",
     "data": {
      "text/html": [
       "<style scoped>\n",
       "  .table-result-container {\n",
       "    max-height: 300px;\n",
       "    overflow: auto;\n",
       "  }\n",
       "  table, th, td {\n",
       "    border: 1px solid black;\n",
       "    border-collapse: collapse;\n",
       "  }\n",
       "  th, td {\n",
       "    padding: 5px;\n",
       "  }\n",
       "  th {\n",
       "    text-align: left;\n",
       "  }\n",
       "</style><div class='table-result-container'><table class='table-result'><thead style='background-color: white'><tr><th>category_name</th><th>item_quantity</th><th>total</th></tr></thead><tbody><tr><td>Camping & Hiking</td><td>13729</td><td>4118425</td></tr><tr><td>Fitness Accessories</td><td>856</td><td>35601</td></tr><tr><td>Golf Shoes</td><td>1444</td><td>107998</td></tr><tr><td>Men's Footwear</td><td>22246</td><td>2891757</td></tr><tr><td>Electronics</td><td>9436</td><td>371034</td></tr><tr><td>Women's Apparel</td><td>62956</td><td>3147800</td></tr><tr><td>Girls' Apparel</td><td>3615</td><td>151706</td></tr><tr><td>Boxing & MMA</td><td>1265</td><td>85205</td></tr><tr><td>Baseball & Softball</td><td>1785</td><td>94057</td></tr><tr><td>Hunting & Shooting</td><td>1239</td><td>56848</td></tr><tr><td>Golf Apparel</td><td>1025</td><td>34969</td></tr><tr><td>Trade-In</td><td>2822</td><td>68721</td></tr><tr><td>Shop By Sport</td><td>32726</td><td>1309522</td></tr><tr><td>Fishing</td><td>17325</td><td>6929653</td></tr><tr><td>Water Sports</td><td>15540</td><td>3113844</td></tr><tr><td>Accessories</td><td>5349</td><td>133671</td></tr><tr><td>Golf Gloves</td><td>2961</td><td>116695</td></tr><tr><td>Cleats</td><td>73734</td><td>4431942</td></tr><tr><td>Golf Balls</td><td>4384</td><td>77098</td></tr><tr><td>Hockey</td><td>1711</td><td>48360</td></tr><tr><td>Lacrosse</td><td>1021</td><td>39464</td></tr><tr><td>Cardio Equipment</td><td>37587</td><td>3694843</td></tr><tr><td>Tennis & Racquet</td><td>991</td><td>44585</td></tr><tr><td>Indoor/Outdoor Games</td><td>57803</td><td>2888993</td></tr><tr><td>Men's Golf Clubs</td><td>420</td><td>47035</td></tr><tr><td>Basketball</td><td>67</td><td>27099</td></tr><tr><td>Golf Bags & Carts</td><td>61</td><td>10369</td></tr><tr><td>As Seen on  TV!</td><td>206</td><td>20597</td></tr><tr><td>Women's Golf Clubs</td><td>403</td><td>44545</td></tr><tr><td>Strength Training</td><td>111</td><td>54895</td></tr><tr><td>Soccer</td><td>295</td><td>26477</td></tr><tr><td>Kids' Golf Clubs</td><td>645</td><td>98797</td></tr></tbody></table></div>"
      ]
     },
     "metadata": {
      "application/vnd.databricks.v1+output": {
       "addedWidgets": {},
       "aggData": [],
       "aggError": "",
       "aggOverflow": false,
       "aggSchema": [],
       "aggSeriesLimitReached": false,
       "aggType": "",
       "arguments": {},
       "columnCustomDisplayInfos": {},
       "data": [
        [
         "Camping & Hiking",
         13729,
         4118425
        ],
        [
         "Fitness Accessories",
         856,
         35601
        ],
        [
         "Golf Shoes",
         1444,
         107998
        ],
        [
         "Men's Footwear",
         22246,
         2891757
        ],
        [
         "Electronics",
         9436,
         371034
        ],
        [
         "Women's Apparel",
         62956,
         3147800
        ],
        [
         "Girls' Apparel",
         3615,
         151706
        ],
        [
         "Boxing & MMA",
         1265,
         85205
        ],
        [
         "Baseball & Softball",
         1785,
         94057
        ],
        [
         "Hunting & Shooting",
         1239,
         56848
        ],
        [
         "Golf Apparel",
         1025,
         34969
        ],
        [
         "Trade-In",
         2822,
         68721
        ],
        [
         "Shop By Sport",
         32726,
         1309522
        ],
        [
         "Fishing",
         17325,
         6929653
        ],
        [
         "Water Sports",
         15540,
         3113844
        ],
        [
         "Accessories",
         5349,
         133671
        ],
        [
         "Golf Gloves",
         2961,
         116695
        ],
        [
         "Cleats",
         73734,
         4431942
        ],
        [
         "Golf Balls",
         4384,
         77098
        ],
        [
         "Hockey",
         1711,
         48360
        ],
        [
         "Lacrosse",
         1021,
         39464
        ],
        [
         "Cardio Equipment",
         37587,
         3694843
        ],
        [
         "Tennis & Racquet",
         991,
         44585
        ],
        [
         "Indoor/Outdoor Games",
         57803,
         2888993
        ],
        [
         "Men's Golf Clubs",
         420,
         47035
        ],
        [
         "Basketball",
         67,
         27099
        ],
        [
         "Golf Bags & Carts",
         61,
         10369
        ],
        [
         "As Seen on  TV!",
         206,
         20597
        ],
        [
         "Women's Golf Clubs",
         403,
         44545
        ],
        [
         "Strength Training",
         111,
         54895
        ],
        [
         "Soccer",
         295,
         26477
        ],
        [
         "Kids' Golf Clubs",
         645,
         98797
        ]
       ],
       "datasetInfos": [],
       "dbfsResultPath": null,
       "isJsonSchema": true,
       "metadata": {},
       "overflow": false,
       "plotOptions": {
        "customPlotOptions": {},
        "displayType": "table",
        "pivotAggregation": null,
        "pivotColumns": null,
        "xColumns": null,
        "yColumns": null
       },
       "removedWidgets": [],
       "schema": [
        {
         "metadata": "{}",
         "name": "category_name",
         "type": "\"string\""
        },
        {
         "metadata": "{}",
         "name": "item_quantity",
         "type": "\"long\""
        },
        {
         "metadata": "{}",
         "name": "total",
         "type": "\"integer\""
        }
       ],
       "type": "table"
      }
     },
     "output_type": "display_data"
    }
   ],
   "source": [
    "display(statement2)"
   ]
  },
  {
   "cell_type": "code",
   "execution_count": 0,
   "metadata": {
    "application/vnd.databricks.v1+cell": {
     "cellMetadata": {
      "byteLimit": 2048000,
      "rowLimit": 10000
     },
     "inputWidgets": {},
     "nuid": "d964865e-cb63-4c15-85a8-7848585b688f",
     "showTitle": false,
     "title": ""
    }
   },
   "outputs": [
    {
     "output_type": "display_data",
     "data": {
      "text/html": [
       "<style scoped>\n",
       "  .ansiout {\n",
       "    display: block;\n",
       "    unicode-bidi: embed;\n",
       "    white-space: pre-wrap;\n",
       "    word-wrap: break-word;\n",
       "    word-break: break-all;\n",
       "    font-family: \"Menlo\", \"Monaco\", \"Consolas\", \"Ubuntu Mono\", \"Source Code Pro\", monospace;\n",
       "    font-size: 13px;\n",
       "    color: #555;\n",
       "    margin-left: 4px;\n",
       "    line-height: 19px;\n",
       "  }\n",
       "</style>\n",
       "<div class=\"ansiout\"></div>"
      ]
     },
     "metadata": {
      "application/vnd.databricks.v1+output": {
       "addedWidgets": {},
       "arguments": {},
       "data": "<div class=\"ansiout\"></div>",
       "datasetInfos": [],
       "metadata": {},
       "removedWidgets": [],
       "type": "html"
      }
     },
     "output_type": "display_data"
    }
   ],
   "source": [
    "statement2.write.mode(\"overwrite\").format(\"delta\").save(f\"{silver_path}/statement2\")"
   ]
  },
  {
   "cell_type": "code",
   "execution_count": 0,
   "metadata": {
    "application/vnd.databricks.v1+cell": {
     "cellMetadata": {
      "byteLimit": 2048000,
      "rowLimit": 10000
     },
     "inputWidgets": {},
     "nuid": "316c2fac-9dfe-44fc-9f2d-0f2667836491",
     "showTitle": false,
     "title": ""
    }
   },
   "outputs": [
    {
     "output_type": "display_data",
     "data": {
      "text/html": [
       "<style scoped>\n",
       "  .ansiout {\n",
       "    display: block;\n",
       "    unicode-bidi: embed;\n",
       "    white-space: pre-wrap;\n",
       "    word-wrap: break-word;\n",
       "    word-break: break-all;\n",
       "    font-family: \"Menlo\", \"Monaco\", \"Consolas\", \"Ubuntu Mono\", \"Source Code Pro\", monospace;\n",
       "    font-size: 13px;\n",
       "    color: #555;\n",
       "    margin-left: 4px;\n",
       "    line-height: 19px;\n",
       "  }\n",
       "</style>\n",
       "<div class=\"ansiout\"></div>"
      ]
     },
     "metadata": {
      "application/vnd.databricks.v1+output": {
       "addedWidgets": {},
       "arguments": {},
       "data": "<div class=\"ansiout\"></div>",
       "datasetInfos": [],
       "metadata": {},
       "removedWidgets": [],
       "type": "html"
      }
     },
     "output_type": "display_data"
    }
   ],
   "source": [
    "query = '''\n",
    "    SELECT\n",
    "                customer_city, category_name\n",
    "                FROM (SELECT\n",
    "                    customer_city, category_name, count(category_name) as quantity, DENSE_RANK () OVER ( \n",
    "                                PARTITION BY customer_city \n",
    "                                ORDER BY count(category_name) DESC\n",
    "                            ) rank\n",
    "                    FROM\n",
    "                        delta.`{}/customers` as c\n",
    "                    INNER JOIN\n",
    "                        delta.`{}/orders` as o\n",
    "                        ON c.customer_id = o.order_customer_id\n",
    "                    INNER JOIN\n",
    "                        delta.`{}/order_items` as oi\n",
    "                        ON o.order_id = oi.order_item_order_id\n",
    "                    INNER JOIN\n",
    "                        delta.`{}/products` as p\n",
    "                        ON oi.order_item_product_id = p.product_id\n",
    "                    INNER JOIN\n",
    "                        delta.`{}/categories` as ca\n",
    "                        ON p.product_category_id = ca.category_id\n",
    "                    GROUP BY customer_city, category_name\n",
    "                    ) t\n",
    "            WHERE rank = 1\n",
    "'''.format(bronze_path, bronze_path, bronze_path, bronze_path, bronze_path)\n",
    "\n",
    "statement3 = spark.sql(query)"
   ]
  },
  {
   "cell_type": "code",
   "execution_count": 0,
   "metadata": {
    "application/vnd.databricks.v1+cell": {
     "cellMetadata": {
      "byteLimit": 2048000,
      "rowLimit": 10000
     },
     "inputWidgets": {},
     "nuid": "2f10d854-f579-4f59-81d5-ba77ece84331",
     "showTitle": false,
     "title": ""
    }
   },
   "outputs": [
    {
     "output_type": "display_data",
     "data": {
      "text/html": [
       "<style scoped>\n",
       "  .table-result-container {\n",
       "    max-height: 300px;\n",
       "    overflow: auto;\n",
       "  }\n",
       "  table, th, td {\n",
       "    border: 1px solid black;\n",
       "    border-collapse: collapse;\n",
       "  }\n",
       "  th, td {\n",
       "    padding: 5px;\n",
       "  }\n",
       "  th {\n",
       "    text-align: left;\n",
       "  }\n",
       "</style><div class='table-result-container'><table class='table-result'><thead style='background-color: white'><tr><th>customer_city</th><th>category_name</th></tr></thead><tbody><tr><td>Aguadilla</td><td>Cleats</td></tr><tr><td>Alameda</td><td>Cleats</td></tr><tr><td>Albany</td><td>Women's Apparel</td></tr><tr><td>Albuquerque</td><td>Cleats</td></tr><tr><td>Algonquin</td><td>Cleats</td></tr><tr><td>Alhambra</td><td>Women's Apparel</td></tr><tr><td>Allentown</td><td>Cleats</td></tr><tr><td>Alpharetta</td><td>Men's Footwear</td></tr><tr><td>Amarillo</td><td>Cleats</td></tr><tr><td>Amarillo</td><td>Indoor/Outdoor Games</td></tr><tr><td>Anaheim</td><td>Women's Apparel</td></tr><tr><td>Ann Arbor</td><td>Women's Apparel</td></tr><tr><td>Annandale</td><td>Men's Footwear</td></tr><tr><td>Annapolis</td><td>Men's Footwear</td></tr><tr><td>Antioch</td><td>Indoor/Outdoor Games</td></tr><tr><td>Apex</td><td>Cleats</td></tr><tr><td>Apopka</td><td>Fishing</td></tr><tr><td>Arecibo</td><td>Women's Apparel</td></tr><tr><td>Arlington</td><td>Women's Apparel</td></tr><tr><td>Arlington Heights</td><td>Women's Apparel</td></tr><tr><td>Asheboro</td><td>Women's Apparel</td></tr><tr><td>Astoria</td><td>Men's Footwear</td></tr><tr><td>Atlanta</td><td>Men's Footwear</td></tr><tr><td>Augusta</td><td>Indoor/Outdoor Games</td></tr><tr><td>Augusta</td><td>Men's Footwear</td></tr><tr><td>Aurora</td><td>Cleats</td></tr><tr><td>Austin</td><td>Men's Footwear</td></tr><tr><td>Azusa</td><td>Women's Apparel</td></tr><tr><td>Bakersfield</td><td>Women's Apparel</td></tr><tr><td>Baldwin Park</td><td>Cleats</td></tr><tr><td>Ballwin</td><td>Indoor/Outdoor Games</td></tr><tr><td>Ballwin</td><td>Water Sports</td></tr><tr><td>Baltimore</td><td>Cleats</td></tr><tr><td>Bartlett</td><td>Cleats</td></tr><tr><td>Bay Shore</td><td>Women's Apparel</td></tr><tr><td>Bayamon</td><td>Cleats</td></tr><tr><td>Bayonne</td><td>Cleats</td></tr><tr><td>Baytown</td><td>Women's Apparel</td></tr><tr><td>Beaverton</td><td>Men's Footwear</td></tr><tr><td>Bell Gardens</td><td>Indoor/Outdoor Games</td></tr><tr><td>Bellflower</td><td>Indoor/Outdoor Games</td></tr><tr><td>Bellflower</td><td>Cleats</td></tr><tr><td>Bellflower</td><td>Fishing</td></tr><tr><td>Bellingham</td><td>Women's Apparel</td></tr><tr><td>Bellingham</td><td>Indoor/Outdoor Games</td></tr><tr><td>Beloit</td><td>Men's Footwear</td></tr><tr><td>Beloit</td><td>Fishing</td></tr><tr><td>Bend</td><td>Men's Footwear</td></tr><tr><td>Bensalem</td><td>Fishing</td></tr><tr><td>Berwyn</td><td>Cleats</td></tr><tr><td>Billings</td><td>Indoor/Outdoor Games</td></tr><tr><td>Birmingham</td><td>Fishing</td></tr><tr><td>Birmingham</td><td>Water Sports</td></tr><tr><td>Bismarck</td><td>Cleats</td></tr><tr><td>Blacksburg</td><td>Men's Footwear</td></tr><tr><td>Bloomfield</td><td>Cleats</td></tr><tr><td>Bolingbrook</td><td>Men's Footwear</td></tr><tr><td>Bountiful</td><td>Cleats</td></tr><tr><td>Bowling Green</td><td>Cleats</td></tr><tr><td>Brandon</td><td>Men's Footwear</td></tr><tr><td>Brentwood</td><td>Cleats</td></tr><tr><td>Bridgeton</td><td>Men's Footwear</td></tr><tr><td>Brighton</td><td>Water Sports</td></tr><tr><td>Bristol</td><td>Fishing</td></tr><tr><td>Brockton</td><td>Cleats</td></tr><tr><td>Broken Arrow</td><td>Men's Footwear</td></tr><tr><td>Bronx</td><td>Cleats</td></tr><tr><td>Brooklyn</td><td>Cleats</td></tr><tr><td>Broomfield</td><td>Indoor/Outdoor Games</td></tr><tr><td>Brownsville</td><td>Women's Apparel</td></tr><tr><td>Buena Park</td><td>Indoor/Outdoor Games</td></tr><tr><td>Buffalo</td><td>Cleats</td></tr><tr><td>Burnsville</td><td>Fishing</td></tr><tr><td>Caguas</td><td>Cleats</td></tr><tr><td>Campbell</td><td>Cleats</td></tr><tr><td>Canoga Park</td><td>Cleats</td></tr><tr><td>Canovanas</td><td>Women's Apparel</td></tr><tr><td>Canton</td><td>Men's Footwear</td></tr><tr><td>Canyon Country</td><td>Women's Apparel</td></tr><tr><td>Carlisle</td><td>Cleats</td></tr><tr><td>Carlisle</td><td>Men's Footwear</td></tr><tr><td>Carlsbad</td><td>Cleats</td></tr><tr><td>Carmichael</td><td>Fishing</td></tr><tr><td>Carmichael</td><td>Men's Footwear</td></tr><tr><td>Carmichael</td><td>Women's Apparel</td></tr><tr><td>Carol Stream</td><td>Cleats</td></tr><tr><td>Carolina</td><td>Men's Footwear</td></tr><tr><td>Carrollton</td><td>Cleats</td></tr><tr><td>Carson</td><td>Cleats</td></tr><tr><td>Cary</td><td>Cleats</td></tr><tr><td>Catonsville</td><td>Cleats</td></tr><tr><td>Cayey</td><td>Indoor/Outdoor Games</td></tr><tr><td>Cerritos</td><td>Cleats</td></tr><tr><td>Chambersburg</td><td>Cleats</td></tr><tr><td>Chandler</td><td>Cleats</td></tr><tr><td>Chandler</td><td>Men's Footwear</td></tr><tr><td>Chapel Hill</td><td>Cleats</td></tr><tr><td>Charlotte</td><td>Cleats</td></tr><tr><td>Chesapeake</td><td>Cleats</td></tr><tr><td>Chicago</td><td>Cleats</td></tr><tr><td>Chicago Heights</td><td>Fishing</td></tr><tr><td>Chicago Heights</td><td>Cleats</td></tr><tr><td>Chillicothe</td><td>Cleats</td></tr><tr><td>Chillicothe</td><td>Fishing</td></tr><tr><td>Chino</td><td>Women's Apparel</td></tr><tr><td>Chino Hills</td><td>Women's Apparel</td></tr><tr><td>Chula Vista</td><td>Men's Footwear</td></tr><tr><td>Cicero</td><td>Cleats</td></tr><tr><td>Cincinnati</td><td>Cleats</td></tr><tr><td>Citrus Heights</td><td>Women's Apparel</td></tr><tr><td>Clarksville</td><td>Cleats</td></tr><tr><td>Clearfield</td><td>Fishing</td></tr><tr><td>Clementon</td><td>Indoor/Outdoor Games</td></tr><tr><td>Clementon</td><td>Women's Apparel</td></tr><tr><td>Cleveland</td><td>Cleats</td></tr><tr><td>Clovis</td><td>Indoor/Outdoor Games</td></tr><tr><td>College Station</td><td>Women's Apparel</td></tr><tr><td>Colorado Springs</td><td>Men's Footwear</td></tr><tr><td>Colorado Springs</td><td>Cleats</td></tr><tr><td>Colton</td><td>Cleats</td></tr><tr><td>Columbia</td><td>Cleats</td></tr><tr><td>Columbus</td><td>Men's Footwear</td></tr><tr><td>Compton</td><td>Men's Footwear</td></tr><tr><td>Conway</td><td>Men's Footwear</td></tr><tr><td>Cordova</td><td>Men's Footwear</td></tr><tr><td>Corona</td><td>Cleats</td></tr><tr><td>Costa Mesa</td><td>Cleats</td></tr><tr><td>Crown Point</td><td>Men's Footwear</td></tr><tr><td>Crystal Lake</td><td>Water Sports</td></tr><tr><td>Crystal Lake</td><td>Cleats</td></tr><tr><td>Cumberland</td><td>Men's Footwear</td></tr><tr><td>Cupertino</td><td>Cleats</td></tr><tr><td>Cypress</td><td>Cleats</td></tr><tr><td>Dallas</td><td>Cleats</td></tr><tr><td>Daly City</td><td>Men's Footwear</td></tr><tr><td>Danbury</td><td>Fishing</td></tr><tr><td>Davis</td><td>Women's Apparel</td></tr><tr><td>Davis</td><td>Cleats</td></tr><tr><td>Dayton</td><td>Indoor/Outdoor Games</td></tr><tr><td>Dearborn</td><td>Cleats</td></tr><tr><td>Decatur</td><td>Cleats</td></tr><tr><td>Decatur</td><td>Women's Apparel</td></tr><tr><td>Del Rio</td><td>Cleats</td></tr><tr><td>Denton</td><td>Water Sports</td></tr><tr><td>Denver</td><td>Cleats</td></tr><tr><td>Des Plaines</td><td>Fishing</td></tr><tr><td>Detroit</td><td>Men's Footwear</td></tr><tr><td>Diamond Bar</td><td>Indoor/Outdoor Games</td></tr><tr><td>Dorchester Center</td><td>Cleats</td></tr><tr><td>Douglasville</td><td>Fishing</td></tr><tr><td>Doylestown</td><td>Indoor/Outdoor Games</td></tr><tr><td>Dubuque</td><td>Cleats</td></tr><tr><td>Dubuque</td><td>Fishing</td></tr><tr><td>Dubuque</td><td>Men's Footwear</td></tr><tr><td>Duluth</td><td>Cleats</td></tr><tr><td>Duluth</td><td>Water Sports</td></tr><tr><td>Dundalk</td><td>Cleats</td></tr><tr><td>Eagle Pass</td><td>Water Sports</td></tr><tr><td>Eagle Pass</td><td>Women's Apparel</td></tr><tr><td>East Brunswick</td><td>Indoor/Outdoor Games</td></tr><tr><td>East Lansing</td><td>Women's Apparel</td></tr><tr><td>Edinburg</td><td>Cleats</td></tr><tr><td>Edison</td><td>Men's Footwear</td></tr><tr><td>El Cajon</td><td>Men's Footwear</td></tr><tr><td>El Centro</td><td>Cleats</td></tr><tr><td>El Monte</td><td>Indoor/Outdoor Games</td></tr><tr><td>El Paso</td><td>Men's Footwear</td></tr><tr><td>Elgin</td><td>Cleats</td></tr><tr><td>Elk Grove</td><td>Cleats</td></tr><tr><td>Elmhurst</td><td>Men's Footwear</td></tr><tr><td>Elyria</td><td>Cleats</td></tr><tr><td>Encinitas</td><td>Cleats</td></tr><tr><td>Encinitas</td><td>Indoor/Outdoor Games</td></tr><tr><td>Endicott</td><td>Women's Apparel</td></tr><tr><td>Enfield</td><td>Indoor/Outdoor Games</td></tr><tr><td>Englewood</td><td>Women's Apparel</td></tr><tr><td>Escondido</td><td>Women's Apparel</td></tr><tr><td>Eugene</td><td>Women's Apparel</td></tr><tr><td>Everett</td><td>Cleats</td></tr><tr><td>Ewa Beach</td><td>Cleats</td></tr><tr><td>Fairfield</td><td>Fishing</td></tr><tr><td>Far Rockaway</td><td>Men's Footwear</td></tr><tr><td>Fargo</td><td>Indoor/Outdoor Games</td></tr><tr><td>Fargo</td><td>Fishing</td></tr><tr><td>Fargo</td><td>Women's Apparel</td></tr><tr><td>Fargo</td><td>Cleats</td></tr><tr><td>Fayetteville</td><td>Cleats</td></tr><tr><td>Federal Way</td><td>Cleats</td></tr><tr><td>Findlay</td><td>Men's Footwear</td></tr><tr><td>Florissant</td><td>Men's Footwear</td></tr><tr><td>Flushing</td><td>Fishing</td></tr><tr><td>Folsom</td><td>Cleats</td></tr><tr><td>Fond Du Lac</td><td>Cleats</td></tr><tr><td>Fontana</td><td>Men's Footwear</td></tr><tr><td>Forest Hills</td><td>Indoor/Outdoor Games</td></tr><tr><td>Fort Lauderdale</td><td>Cleats</td></tr><tr><td>Fort Washington</td><td>Cleats</td></tr><tr><td>Fort Worth</td><td>Cleats</td></tr><tr><td>Fountain Valley</td><td>Women's Apparel</td></tr><tr><td>Frankfort</td><td>Cleats</td></tr><tr><td>Freehold</td><td>Women's Apparel</td></tr><tr><td>Freeport</td><td>Men's Footwear</td></tr><tr><td>Fremont</td><td>Fishing</td></tr><tr><td>Fresno</td><td>Women's Apparel</td></tr><tr><td>Fullerton</td><td>Cleats</td></tr><tr><td>Gaithersburg</td><td>Cleats</td></tr><tr><td>Garden Grove</td><td>Indoor/Outdoor Games</td></tr><tr><td>Gardena</td><td>Men's Footwear</td></tr><tr><td>Garland</td><td>Men's Footwear</td></tr><tr><td>Germantown</td><td>Men's Footwear</td></tr><tr><td>Gilroy</td><td>Men's Footwear</td></tr><tr><td>Glen Burnie</td><td>Men's Footwear</td></tr><tr><td>Glen Burnie</td><td>Cleats</td></tr><tr><td>Glen Burnie</td><td>Indoor/Outdoor Games</td></tr><tr><td>Glendale</td><td>Cleats</td></tr><tr><td>Glenview</td><td>Cleats</td></tr><tr><td>Goleta</td><td>Cleats</td></tr><tr><td>Goose Creek</td><td>Cleats</td></tr><tr><td>Granada Hills</td><td>Women's Apparel</td></tr><tr><td>Granada Hills</td><td>Cleats</td></tr><tr><td>Grand Prairie</td><td>Cleats</td></tr><tr><td>Granite City</td><td>Men's Footwear</td></tr><tr><td>Granite City</td><td>Cleats</td></tr><tr><td>Greeley</td><td>Men's Footwear</td></tr><tr><td>Greensboro</td><td>Cleats</td></tr><tr><td>Greensburg</td><td>Women's Apparel</td></tr><tr><td>Greenville</td><td>Cleats</td></tr><tr><td>Grove City</td><td>Women's Apparel</td></tr><tr><td>Guayama</td><td>Fishing</td></tr><tr><td>Guaynabo</td><td>Men's Footwear</td></tr><tr><td>Guaynabo</td><td>Camping & Hiking</td></tr><tr><td>Gwynn Oak</td><td>Cleats</td></tr><tr><td>Hacienda Heights</td><td>Indoor/Outdoor Games</td></tr><tr><td>Hacienda Heights</td><td>Fishing</td></tr><tr><td>Hagerstown</td><td>Indoor/Outdoor Games</td></tr><tr><td>Hamilton</td><td>Men's Footwear</td></tr><tr><td>Hampton</td><td>Cleats</td></tr><tr><td>Hamtramck</td><td>Men's Footwear</td></tr><tr><td>Hamtramck</td><td>Indoor/Outdoor Games</td></tr><tr><td>Hanford</td><td>Cleats</td></tr><tr><td>Hanover</td><td>Women's Apparel</td></tr><tr><td>Harlingen</td><td>Water Sports</td></tr><tr><td>Harvey</td><td>Cleats</td></tr><tr><td>Hawthorne</td><td>Cleats</td></tr><tr><td>Hayward</td><td>Men's Footwear</td></tr><tr><td>Hempstead</td><td>Men's Footwear</td></tr><tr><td>Henderson</td><td>Fishing</td></tr><tr><td>Hendersonville</td><td>Women's Apparel</td></tr><tr><td>Henrico</td><td>Women's Apparel</td></tr><tr><td>Henrico</td><td>Men's Footwear</td></tr><tr><td>Hesperia</td><td>Cleats</td></tr><tr><td>Hesperia</td><td>Women's Apparel</td></tr><tr><td>Hesperia</td><td>Men's Footwear</td></tr><tr><td>Hialeah</td><td>Cleats</td></tr><tr><td>Hickory</td><td>Cleats</td></tr><tr><td>Highland</td><td>Cleats</td></tr><tr><td>Highland Park</td><td>Cleats</td></tr><tr><td>Hilliard</td><td>Men's Footwear</td></tr><tr><td>Holland</td><td>Men's Footwear</td></tr><tr><td>Hollister</td><td>Men's Footwear</td></tr><tr><td>Hollywood</td><td>Cleats</td></tr><tr><td>Honolulu</td><td>Men's Footwear</td></tr><tr><td>Houston</td><td>Cleats</td></tr><tr><td>Howell</td><td>Women's Apparel</td></tr><tr><td>Humacao</td><td>Cleats</td></tr><tr><td>Huntington Beach</td><td>Men's Footwear</td></tr><tr><td>Huntington Park</td><td>Men's Footwear</td></tr><tr><td>Huntington Station</td><td>Cleats</td></tr><tr><td>Hyattsville</td><td>Men's Footwear</td></tr><tr><td>Indianapolis</td><td>Cleats</td></tr><tr><td>Indio</td><td>Fishing</td></tr><tr><td>Irving</td><td>Men's Footwear</td></tr><tr><td>Irvington</td><td>Fishing</td></tr><tr><td>Irvington</td><td>Men's Footwear</td></tr><tr><td>Irwin</td><td>Men's Footwear</td></tr><tr><td>Ithaca</td><td>Men's Footwear</td></tr><tr><td>Jackson</td><td>Water Sports</td></tr><tr><td>Jackson Heights</td><td>Cleats</td></tr><tr><td>Jacksonville</td><td>Women's Apparel</td></tr><tr><td>Jacksonville</td><td>Cleats</td></tr><tr><td>Jamaica</td><td>Cleats</td></tr><tr><td>Jersey City</td><td>Cleats</td></tr><tr><td>Joliet</td><td>Men's Footwear</td></tr><tr><td>Jonesboro</td><td>Cleats</td></tr><tr><td>Juana Diaz</td><td>Men's Footwear</td></tr><tr><td>Kailua</td><td>Cleats</td></tr><tr><td>Kaneohe</td><td>Women's Apparel</td></tr><tr><td>Katy</td><td>Cleats</td></tr><tr><td>Kenner</td><td>Fishing</td></tr><tr><td>Kent</td><td>Cleats</td></tr><tr><td>Knoxville</td><td>Women's Apparel</td></tr><tr><td>La Crosse</td><td>Women's Apparel</td></tr><tr><td>La Habra</td><td>Water Sports</td></tr><tr><td>La Mesa</td><td>Men's Footwear</td></tr><tr><td>La Mirada</td><td>Men's Footwear</td></tr><tr><td>La Puente</td><td>Women's Apparel</td></tr><tr><td>Laguna Hills</td><td>Women's Apparel</td></tr><tr><td>Laguna Niguel</td><td>Cleats</td></tr><tr><td>Lake Forest</td><td>Cleats</td></tr><tr><td>Lakewood</td><td>Men's Footwear</td></tr><tr><td>Lancaster</td><td>Women's Apparel</td></tr><tr><td>Lansdale</td><td>Cleats</td></tr><tr><td>Laredo</td><td>Women's Apparel</td></tr><tr><td>Las Cruces</td><td>Cleats</td></tr><tr><td>Las Vegas</td><td>Men's Footwear</td></tr><tr><td>Lawrence</td><td>Women's Apparel</td></tr><tr><td>Lawrence</td><td>Cleats</td></tr><tr><td>Lawrenceville</td><td>Indoor/Outdoor Games</td></tr><tr><td>Lawton</td><td>Women's Apparel</td></tr><tr><td>Lenoir</td><td>Men's Footwear</td></tr><tr><td>Levittown</td><td>Cleats</td></tr><tr><td>Lewisville</td><td>Indoor/Outdoor Games</td></tr><tr><td>Lewisville</td><td>Women's Apparel</td></tr><tr><td>Lilburn</td><td>Cleats</td></tr><tr><td>Lindenhurst</td><td>Women's Apparel</td></tr><tr><td>Lindenhurst</td><td>Cleats</td></tr><tr><td>Lithonia</td><td>Cleats</td></tr><tr><td>Littleton</td><td>Women's Apparel</td></tr><tr><td>Livermore</td><td>Cleats</td></tr><tr><td>Lockport</td><td>Men's Footwear</td></tr><tr><td>Lodi</td><td>Cleats</td></tr><tr><td>Lombard</td><td>Men's Footwear</td></tr><tr><td>Lompoc</td><td>Indoor/Outdoor Games</td></tr><tr><td>Long Beach</td><td>Cleats</td></tr><tr><td>Longmont</td><td>Men's Footwear</td></tr><tr><td>Longview</td><td>Men's Footwear</td></tr><tr><td>Los Angeles</td><td>Cleats</td></tr><tr><td>Louisville</td><td>Cleats</td></tr><tr><td>Loveland</td><td>Women's Apparel</td></tr><tr><td>Lutz</td><td>Cleats</td></tr><tr><td>Lynn</td><td>Cleats</td></tr><tr><td>Lynnwood</td><td>Cleats</td></tr><tr><td>Lynwood</td><td>Women's Apparel</td></tr><tr><td>Madera</td><td>Fishing</td></tr><tr><td>Madison</td><td>Cleats</td></tr><tr><td>Madison</td><td>Men's Footwear</td></tr><tr><td>Malden</td><td>Men's Footwear</td></tr><tr><td>Manati</td><td>Women's Apparel</td></tr><tr><td>Manchester</td><td>Fishing</td></tr><tr><td>Manchester</td><td>Women's Apparel</td></tr><tr><td>Marietta</td><td>Cleats</td></tr><tr><td>Marietta</td><td>Women's Apparel</td></tr><tr><td>Marion</td><td>Cleats</td></tr><tr><td>Marrero</td><td>Cleats</td></tr><tr><td>Martinez</td><td>Men's Footwear</td></tr><tr><td>Martinsburg</td><td>Cleats</td></tr><tr><td>Massapequa</td><td>Indoor/Outdoor Games</td></tr><tr><td>Massillon</td><td>Men's Footwear</td></tr><tr><td>Mayaguez</td><td>Cleats</td></tr><tr><td>Mcallen</td><td>Cleats</td></tr><tr><td>Mchenry</td><td>Cleats</td></tr><tr><td>Mechanicsburg</td><td>Women's Apparel</td></tr><tr><td>Mechanicsburg</td><td>Cleats</td></tr><tr><td>Medford</td><td>Women's Apparel</td></tr><tr><td>Medina</td><td>Women's Apparel</td></tr><tr><td>Memphis</td><td>Cleats</td></tr><tr><td>Mentor</td><td>Women's Apparel</td></tr><tr><td>Mentor</td><td>Men's Footwear</td></tr><tr><td>Merced</td><td>Camping & Hiking</td></tr><tr><td>Merced</td><td>Cleats</td></tr><tr><td>Meridian</td><td>Cleats</td></tr><tr><td>Mesa</td><td>Women's Apparel</td></tr><tr><td>Mesquite</td><td>Cleats</td></tr><tr><td>Metairie</td><td>Men's Footwear</td></tr><tr><td>Methuen</td><td>Cleats</td></tr><tr><td>Miami</td><td>Cleats</td></tr><tr><td>Michigan City</td><td>Indoor/Outdoor Games</td></tr><tr><td>Middletown</td><td>Indoor/Outdoor Games</td></tr><tr><td>Milford</td><td>Cleats</td></tr><tr><td>Mililani</td><td>Women's Apparel</td></tr><tr><td>Milpitas</td><td>Cleats</td></tr><tr><td>Milwaukee</td><td>Men's Footwear</td></tr><tr><td>Mission</td><td>Men's Footwear</td></tr><tr><td>Mission</td><td>Cleats</td></tr><tr><td>Mission Viejo</td><td>Men's Footwear</td></tr><tr><td>Modesto</td><td>Women's Apparel</td></tr><tr><td>Modesto</td><td>Men's Footwear</td></tr><tr><td>Modesto</td><td>Cleats</td></tr><tr><td>Moline</td><td>Men's Footwear</td></tr><tr><td>Montebello</td><td>Cleats</td></tr><tr><td>Moreno Valley</td><td>Women's Apparel</td></tr><tr><td>Morganton</td><td>Water Sports</td></tr><tr><td>Morganton</td><td>Cleats</td></tr><tr><td>Morganton</td><td>Fishing</td></tr><tr><td>Morganton</td><td>Women's Apparel</td></tr><tr><td>Morganton</td><td>Shop By Sport</td></tr><tr><td>Morristown</td><td>Men's Footwear</td></tr><tr><td>Morrisville</td><td>Men's Footwear</td></tr><tr><td>Mount Pleasant</td><td>Cleats</td></tr><tr><td>Mount Pleasant</td><td>Fishing</td></tr><tr><td>Mount Prospect</td><td>Cleats</td></tr><tr><td>Murfreesboro</td><td>Men's Footwear</td></tr><tr><td>Murfreesboro</td><td>Cleats</td></tr><tr><td>Muskegon</td><td>Fishing</td></tr><tr><td>Napa</td><td>Men's Footwear</td></tr><tr><td>Nashville</td><td>Indoor/Outdoor Games</td></tr><tr><td>National City</td><td>Men's Footwear</td></tr><tr><td>National City</td><td>Cardio Equipment</td></tr><tr><td>New Albany</td><td>Men's Footwear</td></tr><tr><td>New Albany</td><td>Fishing</td></tr><tr><td>New Bedford</td><td>Women's Apparel</td></tr><tr><td>New Braunfels</td><td>Men's Footwear</td></tr><tr><td>New Brunswick</td><td>Indoor/Outdoor Games</td></tr><tr><td>New Castle</td><td>Men's Footwear</td></tr><tr><td>New Haven</td><td>Cleats</td></tr><tr><td>New Orleans</td><td>Men's Footwear</td></tr><tr><td>New York</td><td>Cleats</td></tr><tr><td>Newark</td><td>Cleats</td></tr><tr><td>Newburgh</td><td>Women's Apparel</td></tr><tr><td>Norcross</td><td>Men's Footwear</td></tr><tr><td>Norfolk</td><td>Cleats</td></tr><tr><td>Normal</td><td>Water Sports</td></tr><tr><td>North Bergen</td><td>Men's Footwear</td></tr><tr><td>North Hills</td><td>Cleats</td></tr><tr><td>North Hollywood</td><td>Cleats</td></tr><tr><td>North Las Vegas</td><td>Fishing</td></tr><tr><td>North Richland Hills</td><td>Indoor/Outdoor Games</td></tr><tr><td>North Tonawanda</td><td>Men's Footwear</td></tr><tr><td>Norwalk</td><td>Women's Apparel</td></tr><tr><td>O Fallon</td><td>Men's Footwear</td></tr><tr><td>Oak Lawn</td><td>Cleats</td></tr><tr><td>Oakland</td><td>Women's Apparel</td></tr><tr><td>Oceanside</td><td>Men's Footwear</td></tr><tr><td>Ogden</td><td>Cleats</td></tr><tr><td>Olathe</td><td>Women's Apparel</td></tr><tr><td>Ontario</td><td>Men's Footwear</td></tr><tr><td>Opa Locka</td><td>Cleats</td></tr><tr><td>Opelousas</td><td>Cleats</td></tr><tr><td>Orange Park</td><td>Men's Footwear</td></tr><tr><td>Oregon City</td><td>Indoor/Outdoor Games</td></tr><tr><td>Orlando</td><td>Cleats</td></tr><tr><td>Oviedo</td><td>Indoor/Outdoor Games</td></tr><tr><td>Oxnard</td><td>Cleats</td></tr><tr><td>Pacoima</td><td>Indoor/Outdoor Games</td></tr><tr><td>Painesville</td><td>Women's Apparel</td></tr><tr><td>Palatine</td><td>Cleats</td></tr><tr><td>Palmdale</td><td>Cleats</td></tr><tr><td>Palo Alto</td><td>Water Sports</td></tr><tr><td>Palo Alto</td><td>Indoor/Outdoor Games</td></tr><tr><td>Panorama City</td><td>Cleats</td></tr><tr><td>Paramount</td><td>Cleats</td></tr><tr><td>Parkville</td><td>Cleats</td></tr><tr><td>Pasadena</td><td>Cleats</td></tr><tr><td>Passaic</td><td>Women's Apparel</td></tr><tr><td>Pawtucket</td><td>Cleats</td></tr><tr><td>Peabody</td><td>Cleats</td></tr><tr><td>Pekin</td><td>Cleats</td></tr><tr><td>Peoria</td><td>Indoor/Outdoor Games</td></tr><tr><td>Perth Amboy</td><td>Cleats</td></tr><tr><td>Pharr</td><td>Cleats</td></tr><tr><td>Philadelphia</td><td>Cleats</td></tr><tr><td>Phoenix</td><td>Cleats</td></tr><tr><td>Pico Rivera</td><td>Men's Footwear</td></tr><tr><td>Piscataway</td><td>Women's Apparel</td></tr><tr><td>Pittsburg</td><td>Cleats</td></tr><tr><td>Pittsfield</td><td>Fishing</td></tr><tr><td>Placentia</td><td>Indoor/Outdoor Games</td></tr><tr><td>Placentia</td><td>Cleats</td></tr><tr><td>Plainfield</td><td>Women's Apparel</td></tr><tr><td>Plano</td><td>Men's Footwear</td></tr><tr><td>Plymouth</td><td>Cleats</td></tr><tr><td>Pomona</td><td>Women's Apparel</td></tr><tr><td>Pompano Beach</td><td>Cleats</td></tr><tr><td>Ponce</td><td>Camping & Hiking</td></tr><tr><td>Porterville</td><td>Men's Footwear</td></tr><tr><td>Portland</td><td>Cleats</td></tr><tr><td>Potomac</td><td>Indoor/Outdoor Games</td></tr><tr><td>Poway</td><td>Men's Footwear</td></tr><tr><td>Powder Springs</td><td>Men's Footwear</td></tr><tr><td>Powder Springs</td><td>Cleats</td></tr><tr><td>Princeton</td><td>Water Sports</td></tr><tr><td>Provo</td><td>Women's Apparel</td></tr><tr><td>Quincy</td><td>Cleats</td></tr><tr><td>Raleigh</td><td>Cardio Equipment</td></tr><tr><td>Rancho Cordova</td><td>Indoor/Outdoor Games</td></tr><tr><td>Rancho Cucamonga</td><td>Cleats</td></tr><tr><td>Redmond</td><td>Cleats</td></tr><tr><td>Rego Park</td><td>Men's Footwear</td></tr><tr><td>Reno</td><td>Men's Footwear</td></tr><tr><td>Reseda</td><td>Cleats</td></tr><tr><td>Revere</td><td>Cleats</td></tr><tr><td>Reynoldsburg</td><td>Water Sports</td></tr><tr><td>Rialto</td><td>Cleats</td></tr><tr><td>Rialto</td><td>Indoor/Outdoor Games</td></tr><tr><td>Rialto</td><td>Camping & Hiking</td></tr><tr><td>Richardson</td><td>Water Sports</td></tr><tr><td>Richmond</td><td>Men's Footwear</td></tr><tr><td>Ridgewood</td><td>Cleats</td></tr><tr><td>Rio Grande</td><td>Fishing</td></tr><tr><td>Rio Rancho</td><td>Women's Apparel</td></tr><tr><td>Riverside</td><td>Men's Footwear</td></tr><tr><td>Rochester</td><td>Men's Footwear</td></tr><tr><td>Rock Hill</td><td>Cleats</td></tr><tr><td>Rome</td><td>Cleats</td></tr><tr><td>Roseburg</td><td>Men's Footwear</td></tr><tr><td>Rosemead</td><td>Water Sports</td></tr><tr><td>Roseville</td><td>Women's Apparel</td></tr><tr><td>Roswell</td><td>Men's Footwear</td></tr><tr><td>Round Rock</td><td>Cleats</td></tr><tr><td>Rowland Heights</td><td>Men's Footwear</td></tr><tr><td>Sacramento</td><td>Cleats</td></tr><tr><td>Saginaw</td><td>Indoor/Outdoor Games</td></tr><tr><td>Saginaw</td><td>Women's Apparel</td></tr><tr><td>Saint Charles</td><td>Men's Footwear</td></tr><tr><td>Saint Louis</td><td>Men's Footwear</td></tr><tr><td>Saint Paul</td><td>Cleats</td></tr><tr><td>Saint Peters</td><td>Fishing</td></tr><tr><td>Salem</td><td>Cleats</td></tr><tr><td>Salina</td><td>Men's Footwear</td></tr><tr><td>Salinas</td><td>Cleats</td></tr><tr><td>Salt Lake City</td><td>Cleats</td></tr><tr><td>San Antonio</td><td>Cleats</td></tr><tr><td>San Antonio</td><td>Men's Footwear</td></tr><tr><td>San Benito</td><td>Fishing</td></tr><tr><td>San Bernardino</td><td>Cleats</td></tr><tr><td>San Diego</td><td>Cleats</td></tr><tr><td>San Francisco</td><td>Women's Apparel</td></tr><tr><td>San Jose</td><td>Cleats</td></tr><tr><td>San Juan</td><td>Cleats</td></tr><tr><td>San Marcos</td><td>Cleats</td></tr><tr><td>San Pablo</td><td>Fishing</td></tr><tr><td>San Pablo</td><td>Men's Footwear</td></tr><tr><td>San Pedro</td><td>Men's Footwear</td></tr><tr><td>San Ramon</td><td>Men's Footwear</td></tr><tr><td>San Sebastian</td><td>Cleats</td></tr><tr><td>Sandusky</td><td>Women's Apparel</td></tr><tr><td>Sanford</td><td>Women's Apparel</td></tr><tr><td>Santa Ana</td><td>Cleats</td></tr><tr><td>Santa Clara</td><td>Cleats</td></tr><tr><td>Santa Cruz</td><td>Cleats</td></tr><tr><td>Santa Fe</td><td>Water Sports</td></tr><tr><td>Santa Maria</td><td>Cleats</td></tr><tr><td>Santee</td><td>Women's Apparel</td></tr><tr><td>Scottsdale</td><td>Cleats</td></tr><tr><td>Seattle</td><td>Cleats</td></tr><tr><td>Sheboygan</td><td>Indoor/Outdoor Games</td></tr><tr><td>Silver Spring</td><td>Men's Footwear</td></tr><tr><td>Simi Valley</td><td>Cleats</td></tr><tr><td>Smyrna</td><td>Women's Apparel</td></tr><tr><td>South El Monte</td><td>Cleats</td></tr><tr><td>South Gate</td><td>Women's Apparel</td></tr><tr><td>South Ozone Park</td><td>Men's Footwear</td></tr><tr><td>South Richmond Hill</td><td>Men's Footwear</td></tr><tr><td>South San Francisco</td><td>Women's Apparel</td></tr><tr><td>Spokane</td><td>Women's Apparel</td></tr><tr><td>Spring</td><td>Indoor/Outdoor Games</td></tr><tr><td>Spring</td><td>Women's Apparel</td></tr><tr><td>Spring</td><td>Water Sports</td></tr><tr><td>Spring Valley</td><td>Cleats</td></tr><tr><td>Springfield</td><td>Cleats</td></tr><tr><td>Springfield</td><td>Fishing</td></tr><tr><td>Stafford</td><td>Women's Apparel</td></tr><tr><td>Stamford</td><td>Men's Footwear</td></tr><tr><td>Stamford</td><td>Cleats</td></tr><tr><td>Staten Island</td><td>Women's Apparel</td></tr><tr><td>Stockbridge</td><td>Cleats</td></tr><tr><td>Stockton</td><td>Men's Footwear</td></tr><tr><td>Stone Mountain</td><td>Water Sports</td></tr><tr><td>Strongsville</td><td>Cleats</td></tr><tr><td>Sugar Land</td><td>Men's Footwear</td></tr><tr><td>Summerville</td><td>Cleats</td></tr><tr><td>Sumner</td><td>Indoor/Outdoor Games</td></tr><tr><td>Sun Valley</td><td>Women's Apparel</td></tr><tr><td>Sun Valley</td><td>Cleats</td></tr><tr><td>Sunnyvale</td><td>Cleats</td></tr><tr><td>Sylmar</td><td>Women's Apparel</td></tr><tr><td>Sylmar</td><td>Fishing</td></tr><tr><td>Tallahassee</td><td>Cleats</td></tr><tr><td>Tampa</td><td>Cleats</td></tr><tr><td>Taunton</td><td>Cleats</td></tr><tr><td>Taunton</td><td>Indoor/Outdoor Games</td></tr><tr><td>Taunton</td><td>Camping & Hiking</td></tr><tr><td>Taylor</td><td>Camping & Hiking</td></tr><tr><td>Temecula</td><td>Cleats</td></tr><tr><td>Tempe</td><td>Women's Apparel</td></tr><tr><td>Tinley Park</td><td>Cleats</td></tr><tr><td>Tinley Park</td><td>Indoor/Outdoor Games</td></tr><tr><td>Toa Alta</td><td>Indoor/Outdoor Games</td></tr><tr><td>Toa Baja</td><td>Cleats</td></tr><tr><td>Toms River</td><td>Cleats</td></tr><tr><td>Tonawanda</td><td>Cleats</td></tr><tr><td>Tracy</td><td>Cleats</td></tr><tr><td>Tracy</td><td>Fishing</td></tr><tr><td>Troy</td><td>Women's Apparel</td></tr><tr><td>Trujillo Alto</td><td>Indoor/Outdoor Games</td></tr><tr><td>Trujillo Alto</td><td>Cleats</td></tr><tr><td>Tucson</td><td>Cleats</td></tr><tr><td>Tulare</td><td>Cleats</td></tr><tr><td>Tustin</td><td>Men's Footwear</td></tr><tr><td>Union</td><td>Women's Apparel</td></tr><tr><td>Union City</td><td>Women's Apparel</td></tr><tr><td>Upland</td><td>Cleats</td></tr><tr><td>Vacaville</td><td>Men's Footwear</td></tr><tr><td>Vallejo</td><td>Women's Apparel</td></tr><tr><td>Valrico</td><td>Men's Footwear</td></tr><tr><td>Van Nuys</td><td>Men's Footwear</td></tr><tr><td>Vega Baja</td><td>Indoor/Outdoor Games</td></tr><tr><td>Ventura</td><td>Cleats</td></tr><tr><td>Victorville</td><td>Cleats</td></tr><tr><td>Virginia Beach</td><td>Women's Apparel</td></tr><tr><td>Visalia</td><td>Men's Footwear</td></tr><tr><td>Vista</td><td>Cleats</td></tr><tr><td>Waipahu</td><td>Men's Footwear</td></tr><tr><td>Walnut</td><td>Cleats</td></tr><tr><td>Warren</td><td>Cleats</td></tr><tr><td>Washington</td><td>Cleats</td></tr><tr><td>Watsonville</td><td>Cleats</td></tr><tr><td>Waukegan</td><td>Cleats</td></tr><tr><td>Wayne</td><td>Cleats</td></tr><tr><td>Webster</td><td>Cleats</td></tr><tr><td>Weslaco</td><td>Men's Footwear</td></tr><tr><td>West Chester</td><td>Cleats</td></tr><tr><td>West Covina</td><td>Cleats</td></tr><tr><td>West Haven</td><td>Men's Footwear</td></tr><tr><td>West Jordan</td><td>Men's Footwear</td></tr><tr><td>West Lafayette</td><td>Cleats</td></tr><tr><td>West New York</td><td>Cleats</td></tr><tr><td>West New York</td><td>Men's Footwear</td></tr><tr><td>West Orange</td><td>Women's Apparel</td></tr><tr><td>West Orange</td><td>Men's Footwear</td></tr><tr><td>Westerville</td><td>Men's Footwear</td></tr><tr><td>Westland</td><td>Water Sports</td></tr><tr><td>Westminster</td><td>Indoor/Outdoor Games</td></tr><tr><td>Wheaton</td><td>Men's Footwear</td></tr><tr><td>Wheeling</td><td>Women's Apparel</td></tr><tr><td>Wheeling</td><td>Water Sports</td></tr><tr><td>Wheeling</td><td>Cleats</td></tr><tr><td>Wichita</td><td>Indoor/Outdoor Games</td></tr><tr><td>Wilkes Barre</td><td>Women's Apparel</td></tr><tr><td>Williamsport</td><td>Fishing</td></tr><tr><td>Williamsport</td><td>Cleats</td></tr><tr><td>Wilmington</td><td>Fishing</td></tr><tr><td>Winnetka</td><td>Cleats</td></tr><tr><td>Winter Park</td><td>Cleats</td></tr><tr><td>Winter Park</td><td>Men's Footwear</td></tr><tr><td>Woodbridge</td><td>Men's Footwear</td></tr><tr><td>Woodside</td><td>Men's Footwear</td></tr><tr><td>Woonsocket</td><td>Cleats</td></tr><tr><td>Wyandotte</td><td>Cleats</td></tr><tr><td>Wyoming</td><td>Cleats</td></tr><tr><td>Yauco</td><td>Cleats</td></tr><tr><td>Yonkers</td><td>Cleats</td></tr><tr><td>York</td><td>Cleats</td></tr><tr><td>Ypsilanti</td><td>Indoor/Outdoor Games</td></tr><tr><td>Yuma</td><td>Cleats</td></tr><tr><td>Zanesville</td><td>Women's Apparel</td></tr></tbody></table></div>"
      ]
     },
     "metadata": {
      "application/vnd.databricks.v1+output": {
       "addedWidgets": {},
       "aggData": [],
       "aggError": "",
       "aggOverflow": false,
       "aggSchema": [],
       "aggSeriesLimitReached": false,
       "aggType": "",
       "arguments": {},
       "columnCustomDisplayInfos": {},
       "data": [
        [
         "Aguadilla",
         "Cleats"
        ],
        [
         "Alameda",
         "Cleats"
        ],
        [
         "Albany",
         "Women's Apparel"
        ],
        [
         "Albuquerque",
         "Cleats"
        ],
        [
         "Algonquin",
         "Cleats"
        ],
        [
         "Alhambra",
         "Women's Apparel"
        ],
        [
         "Allentown",
         "Cleats"
        ],
        [
         "Alpharetta",
         "Men's Footwear"
        ],
        [
         "Amarillo",
         "Cleats"
        ],
        [
         "Amarillo",
         "Indoor/Outdoor Games"
        ],
        [
         "Anaheim",
         "Women's Apparel"
        ],
        [
         "Ann Arbor",
         "Women's Apparel"
        ],
        [
         "Annandale",
         "Men's Footwear"
        ],
        [
         "Annapolis",
         "Men's Footwear"
        ],
        [
         "Antioch",
         "Indoor/Outdoor Games"
        ],
        [
         "Apex",
         "Cleats"
        ],
        [
         "Apopka",
         "Fishing"
        ],
        [
         "Arecibo",
         "Women's Apparel"
        ],
        [
         "Arlington",
         "Women's Apparel"
        ],
        [
         "Arlington Heights",
         "Women's Apparel"
        ],
        [
         "Asheboro",
         "Women's Apparel"
        ],
        [
         "Astoria",
         "Men's Footwear"
        ],
        [
         "Atlanta",
         "Men's Footwear"
        ],
        [
         "Augusta",
         "Indoor/Outdoor Games"
        ],
        [
         "Augusta",
         "Men's Footwear"
        ],
        [
         "Aurora",
         "Cleats"
        ],
        [
         "Austin",
         "Men's Footwear"
        ],
        [
         "Azusa",
         "Women's Apparel"
        ],
        [
         "Bakersfield",
         "Women's Apparel"
        ],
        [
         "Baldwin Park",
         "Cleats"
        ],
        [
         "Ballwin",
         "Indoor/Outdoor Games"
        ],
        [
         "Ballwin",
         "Water Sports"
        ],
        [
         "Baltimore",
         "Cleats"
        ],
        [
         "Bartlett",
         "Cleats"
        ],
        [
         "Bay Shore",
         "Women's Apparel"
        ],
        [
         "Bayamon",
         "Cleats"
        ],
        [
         "Bayonne",
         "Cleats"
        ],
        [
         "Baytown",
         "Women's Apparel"
        ],
        [
         "Beaverton",
         "Men's Footwear"
        ],
        [
         "Bell Gardens",
         "Indoor/Outdoor Games"
        ],
        [
         "Bellflower",
         "Indoor/Outdoor Games"
        ],
        [
         "Bellflower",
         "Cleats"
        ],
        [
         "Bellflower",
         "Fishing"
        ],
        [
         "Bellingham",
         "Women's Apparel"
        ],
        [
         "Bellingham",
         "Indoor/Outdoor Games"
        ],
        [
         "Beloit",
         "Men's Footwear"
        ],
        [
         "Beloit",
         "Fishing"
        ],
        [
         "Bend",
         "Men's Footwear"
        ],
        [
         "Bensalem",
         "Fishing"
        ],
        [
         "Berwyn",
         "Cleats"
        ],
        [
         "Billings",
         "Indoor/Outdoor Games"
        ],
        [
         "Birmingham",
         "Fishing"
        ],
        [
         "Birmingham",
         "Water Sports"
        ],
        [
         "Bismarck",
         "Cleats"
        ],
        [
         "Blacksburg",
         "Men's Footwear"
        ],
        [
         "Bloomfield",
         "Cleats"
        ],
        [
         "Bolingbrook",
         "Men's Footwear"
        ],
        [
         "Bountiful",
         "Cleats"
        ],
        [
         "Bowling Green",
         "Cleats"
        ],
        [
         "Brandon",
         "Men's Footwear"
        ],
        [
         "Brentwood",
         "Cleats"
        ],
        [
         "Bridgeton",
         "Men's Footwear"
        ],
        [
         "Brighton",
         "Water Sports"
        ],
        [
         "Bristol",
         "Fishing"
        ],
        [
         "Brockton",
         "Cleats"
        ],
        [
         "Broken Arrow",
         "Men's Footwear"
        ],
        [
         "Bronx",
         "Cleats"
        ],
        [
         "Brooklyn",
         "Cleats"
        ],
        [
         "Broomfield",
         "Indoor/Outdoor Games"
        ],
        [
         "Brownsville",
         "Women's Apparel"
        ],
        [
         "Buena Park",
         "Indoor/Outdoor Games"
        ],
        [
         "Buffalo",
         "Cleats"
        ],
        [
         "Burnsville",
         "Fishing"
        ],
        [
         "Caguas",
         "Cleats"
        ],
        [
         "Campbell",
         "Cleats"
        ],
        [
         "Canoga Park",
         "Cleats"
        ],
        [
         "Canovanas",
         "Women's Apparel"
        ],
        [
         "Canton",
         "Men's Footwear"
        ],
        [
         "Canyon Country",
         "Women's Apparel"
        ],
        [
         "Carlisle",
         "Cleats"
        ],
        [
         "Carlisle",
         "Men's Footwear"
        ],
        [
         "Carlsbad",
         "Cleats"
        ],
        [
         "Carmichael",
         "Fishing"
        ],
        [
         "Carmichael",
         "Men's Footwear"
        ],
        [
         "Carmichael",
         "Women's Apparel"
        ],
        [
         "Carol Stream",
         "Cleats"
        ],
        [
         "Carolina",
         "Men's Footwear"
        ],
        [
         "Carrollton",
         "Cleats"
        ],
        [
         "Carson",
         "Cleats"
        ],
        [
         "Cary",
         "Cleats"
        ],
        [
         "Catonsville",
         "Cleats"
        ],
        [
         "Cayey",
         "Indoor/Outdoor Games"
        ],
        [
         "Cerritos",
         "Cleats"
        ],
        [
         "Chambersburg",
         "Cleats"
        ],
        [
         "Chandler",
         "Cleats"
        ],
        [
         "Chandler",
         "Men's Footwear"
        ],
        [
         "Chapel Hill",
         "Cleats"
        ],
        [
         "Charlotte",
         "Cleats"
        ],
        [
         "Chesapeake",
         "Cleats"
        ],
        [
         "Chicago",
         "Cleats"
        ],
        [
         "Chicago Heights",
         "Fishing"
        ],
        [
         "Chicago Heights",
         "Cleats"
        ],
        [
         "Chillicothe",
         "Cleats"
        ],
        [
         "Chillicothe",
         "Fishing"
        ],
        [
         "Chino",
         "Women's Apparel"
        ],
        [
         "Chino Hills",
         "Women's Apparel"
        ],
        [
         "Chula Vista",
         "Men's Footwear"
        ],
        [
         "Cicero",
         "Cleats"
        ],
        [
         "Cincinnati",
         "Cleats"
        ],
        [
         "Citrus Heights",
         "Women's Apparel"
        ],
        [
         "Clarksville",
         "Cleats"
        ],
        [
         "Clearfield",
         "Fishing"
        ],
        [
         "Clementon",
         "Indoor/Outdoor Games"
        ],
        [
         "Clementon",
         "Women's Apparel"
        ],
        [
         "Cleveland",
         "Cleats"
        ],
        [
         "Clovis",
         "Indoor/Outdoor Games"
        ],
        [
         "College Station",
         "Women's Apparel"
        ],
        [
         "Colorado Springs",
         "Men's Footwear"
        ],
        [
         "Colorado Springs",
         "Cleats"
        ],
        [
         "Colton",
         "Cleats"
        ],
        [
         "Columbia",
         "Cleats"
        ],
        [
         "Columbus",
         "Men's Footwear"
        ],
        [
         "Compton",
         "Men's Footwear"
        ],
        [
         "Conway",
         "Men's Footwear"
        ],
        [
         "Cordova",
         "Men's Footwear"
        ],
        [
         "Corona",
         "Cleats"
        ],
        [
         "Costa Mesa",
         "Cleats"
        ],
        [
         "Crown Point",
         "Men's Footwear"
        ],
        [
         "Crystal Lake",
         "Water Sports"
        ],
        [
         "Crystal Lake",
         "Cleats"
        ],
        [
         "Cumberland",
         "Men's Footwear"
        ],
        [
         "Cupertino",
         "Cleats"
        ],
        [
         "Cypress",
         "Cleats"
        ],
        [
         "Dallas",
         "Cleats"
        ],
        [
         "Daly City",
         "Men's Footwear"
        ],
        [
         "Danbury",
         "Fishing"
        ],
        [
         "Davis",
         "Women's Apparel"
        ],
        [
         "Davis",
         "Cleats"
        ],
        [
         "Dayton",
         "Indoor/Outdoor Games"
        ],
        [
         "Dearborn",
         "Cleats"
        ],
        [
         "Decatur",
         "Cleats"
        ],
        [
         "Decatur",
         "Women's Apparel"
        ],
        [
         "Del Rio",
         "Cleats"
        ],
        [
         "Denton",
         "Water Sports"
        ],
        [
         "Denver",
         "Cleats"
        ],
        [
         "Des Plaines",
         "Fishing"
        ],
        [
         "Detroit",
         "Men's Footwear"
        ],
        [
         "Diamond Bar",
         "Indoor/Outdoor Games"
        ],
        [
         "Dorchester Center",
         "Cleats"
        ],
        [
         "Douglasville",
         "Fishing"
        ],
        [
         "Doylestown",
         "Indoor/Outdoor Games"
        ],
        [
         "Dubuque",
         "Cleats"
        ],
        [
         "Dubuque",
         "Fishing"
        ],
        [
         "Dubuque",
         "Men's Footwear"
        ],
        [
         "Duluth",
         "Cleats"
        ],
        [
         "Duluth",
         "Water Sports"
        ],
        [
         "Dundalk",
         "Cleats"
        ],
        [
         "Eagle Pass",
         "Water Sports"
        ],
        [
         "Eagle Pass",
         "Women's Apparel"
        ],
        [
         "East Brunswick",
         "Indoor/Outdoor Games"
        ],
        [
         "East Lansing",
         "Women's Apparel"
        ],
        [
         "Edinburg",
         "Cleats"
        ],
        [
         "Edison",
         "Men's Footwear"
        ],
        [
         "El Cajon",
         "Men's Footwear"
        ],
        [
         "El Centro",
         "Cleats"
        ],
        [
         "El Monte",
         "Indoor/Outdoor Games"
        ],
        [
         "El Paso",
         "Men's Footwear"
        ],
        [
         "Elgin",
         "Cleats"
        ],
        [
         "Elk Grove",
         "Cleats"
        ],
        [
         "Elmhurst",
         "Men's Footwear"
        ],
        [
         "Elyria",
         "Cleats"
        ],
        [
         "Encinitas",
         "Cleats"
        ],
        [
         "Encinitas",
         "Indoor/Outdoor Games"
        ],
        [
         "Endicott",
         "Women's Apparel"
        ],
        [
         "Enfield",
         "Indoor/Outdoor Games"
        ],
        [
         "Englewood",
         "Women's Apparel"
        ],
        [
         "Escondido",
         "Women's Apparel"
        ],
        [
         "Eugene",
         "Women's Apparel"
        ],
        [
         "Everett",
         "Cleats"
        ],
        [
         "Ewa Beach",
         "Cleats"
        ],
        [
         "Fairfield",
         "Fishing"
        ],
        [
         "Far Rockaway",
         "Men's Footwear"
        ],
        [
         "Fargo",
         "Indoor/Outdoor Games"
        ],
        [
         "Fargo",
         "Fishing"
        ],
        [
         "Fargo",
         "Women's Apparel"
        ],
        [
         "Fargo",
         "Cleats"
        ],
        [
         "Fayetteville",
         "Cleats"
        ],
        [
         "Federal Way",
         "Cleats"
        ],
        [
         "Findlay",
         "Men's Footwear"
        ],
        [
         "Florissant",
         "Men's Footwear"
        ],
        [
         "Flushing",
         "Fishing"
        ],
        [
         "Folsom",
         "Cleats"
        ],
        [
         "Fond Du Lac",
         "Cleats"
        ],
        [
         "Fontana",
         "Men's Footwear"
        ],
        [
         "Forest Hills",
         "Indoor/Outdoor Games"
        ],
        [
         "Fort Lauderdale",
         "Cleats"
        ],
        [
         "Fort Washington",
         "Cleats"
        ],
        [
         "Fort Worth",
         "Cleats"
        ],
        [
         "Fountain Valley",
         "Women's Apparel"
        ],
        [
         "Frankfort",
         "Cleats"
        ],
        [
         "Freehold",
         "Women's Apparel"
        ],
        [
         "Freeport",
         "Men's Footwear"
        ],
        [
         "Fremont",
         "Fishing"
        ],
        [
         "Fresno",
         "Women's Apparel"
        ],
        [
         "Fullerton",
         "Cleats"
        ],
        [
         "Gaithersburg",
         "Cleats"
        ],
        [
         "Garden Grove",
         "Indoor/Outdoor Games"
        ],
        [
         "Gardena",
         "Men's Footwear"
        ],
        [
         "Garland",
         "Men's Footwear"
        ],
        [
         "Germantown",
         "Men's Footwear"
        ],
        [
         "Gilroy",
         "Men's Footwear"
        ],
        [
         "Glen Burnie",
         "Men's Footwear"
        ],
        [
         "Glen Burnie",
         "Cleats"
        ],
        [
         "Glen Burnie",
         "Indoor/Outdoor Games"
        ],
        [
         "Glendale",
         "Cleats"
        ],
        [
         "Glenview",
         "Cleats"
        ],
        [
         "Goleta",
         "Cleats"
        ],
        [
         "Goose Creek",
         "Cleats"
        ],
        [
         "Granada Hills",
         "Women's Apparel"
        ],
        [
         "Granada Hills",
         "Cleats"
        ],
        [
         "Grand Prairie",
         "Cleats"
        ],
        [
         "Granite City",
         "Men's Footwear"
        ],
        [
         "Granite City",
         "Cleats"
        ],
        [
         "Greeley",
         "Men's Footwear"
        ],
        [
         "Greensboro",
         "Cleats"
        ],
        [
         "Greensburg",
         "Women's Apparel"
        ],
        [
         "Greenville",
         "Cleats"
        ],
        [
         "Grove City",
         "Women's Apparel"
        ],
        [
         "Guayama",
         "Fishing"
        ],
        [
         "Guaynabo",
         "Men's Footwear"
        ],
        [
         "Guaynabo",
         "Camping & Hiking"
        ],
        [
         "Gwynn Oak",
         "Cleats"
        ],
        [
         "Hacienda Heights",
         "Indoor/Outdoor Games"
        ],
        [
         "Hacienda Heights",
         "Fishing"
        ],
        [
         "Hagerstown",
         "Indoor/Outdoor Games"
        ],
        [
         "Hamilton",
         "Men's Footwear"
        ],
        [
         "Hampton",
         "Cleats"
        ],
        [
         "Hamtramck",
         "Men's Footwear"
        ],
        [
         "Hamtramck",
         "Indoor/Outdoor Games"
        ],
        [
         "Hanford",
         "Cleats"
        ],
        [
         "Hanover",
         "Women's Apparel"
        ],
        [
         "Harlingen",
         "Water Sports"
        ],
        [
         "Harvey",
         "Cleats"
        ],
        [
         "Hawthorne",
         "Cleats"
        ],
        [
         "Hayward",
         "Men's Footwear"
        ],
        [
         "Hempstead",
         "Men's Footwear"
        ],
        [
         "Henderson",
         "Fishing"
        ],
        [
         "Hendersonville",
         "Women's Apparel"
        ],
        [
         "Henrico",
         "Women's Apparel"
        ],
        [
         "Henrico",
         "Men's Footwear"
        ],
        [
         "Hesperia",
         "Cleats"
        ],
        [
         "Hesperia",
         "Women's Apparel"
        ],
        [
         "Hesperia",
         "Men's Footwear"
        ],
        [
         "Hialeah",
         "Cleats"
        ],
        [
         "Hickory",
         "Cleats"
        ],
        [
         "Highland",
         "Cleats"
        ],
        [
         "Highland Park",
         "Cleats"
        ],
        [
         "Hilliard",
         "Men's Footwear"
        ],
        [
         "Holland",
         "Men's Footwear"
        ],
        [
         "Hollister",
         "Men's Footwear"
        ],
        [
         "Hollywood",
         "Cleats"
        ],
        [
         "Honolulu",
         "Men's Footwear"
        ],
        [
         "Houston",
         "Cleats"
        ],
        [
         "Howell",
         "Women's Apparel"
        ],
        [
         "Humacao",
         "Cleats"
        ],
        [
         "Huntington Beach",
         "Men's Footwear"
        ],
        [
         "Huntington Park",
         "Men's Footwear"
        ],
        [
         "Huntington Station",
         "Cleats"
        ],
        [
         "Hyattsville",
         "Men's Footwear"
        ],
        [
         "Indianapolis",
         "Cleats"
        ],
        [
         "Indio",
         "Fishing"
        ],
        [
         "Irving",
         "Men's Footwear"
        ],
        [
         "Irvington",
         "Fishing"
        ],
        [
         "Irvington",
         "Men's Footwear"
        ],
        [
         "Irwin",
         "Men's Footwear"
        ],
        [
         "Ithaca",
         "Men's Footwear"
        ],
        [
         "Jackson",
         "Water Sports"
        ],
        [
         "Jackson Heights",
         "Cleats"
        ],
        [
         "Jacksonville",
         "Women's Apparel"
        ],
        [
         "Jacksonville",
         "Cleats"
        ],
        [
         "Jamaica",
         "Cleats"
        ],
        [
         "Jersey City",
         "Cleats"
        ],
        [
         "Joliet",
         "Men's Footwear"
        ],
        [
         "Jonesboro",
         "Cleats"
        ],
        [
         "Juana Diaz",
         "Men's Footwear"
        ],
        [
         "Kailua",
         "Cleats"
        ],
        [
         "Kaneohe",
         "Women's Apparel"
        ],
        [
         "Katy",
         "Cleats"
        ],
        [
         "Kenner",
         "Fishing"
        ],
        [
         "Kent",
         "Cleats"
        ],
        [
         "Knoxville",
         "Women's Apparel"
        ],
        [
         "La Crosse",
         "Women's Apparel"
        ],
        [
         "La Habra",
         "Water Sports"
        ],
        [
         "La Mesa",
         "Men's Footwear"
        ],
        [
         "La Mirada",
         "Men's Footwear"
        ],
        [
         "La Puente",
         "Women's Apparel"
        ],
        [
         "Laguna Hills",
         "Women's Apparel"
        ],
        [
         "Laguna Niguel",
         "Cleats"
        ],
        [
         "Lake Forest",
         "Cleats"
        ],
        [
         "Lakewood",
         "Men's Footwear"
        ],
        [
         "Lancaster",
         "Women's Apparel"
        ],
        [
         "Lansdale",
         "Cleats"
        ],
        [
         "Laredo",
         "Women's Apparel"
        ],
        [
         "Las Cruces",
         "Cleats"
        ],
        [
         "Las Vegas",
         "Men's Footwear"
        ],
        [
         "Lawrence",
         "Women's Apparel"
        ],
        [
         "Lawrence",
         "Cleats"
        ],
        [
         "Lawrenceville",
         "Indoor/Outdoor Games"
        ],
        [
         "Lawton",
         "Women's Apparel"
        ],
        [
         "Lenoir",
         "Men's Footwear"
        ],
        [
         "Levittown",
         "Cleats"
        ],
        [
         "Lewisville",
         "Indoor/Outdoor Games"
        ],
        [
         "Lewisville",
         "Women's Apparel"
        ],
        [
         "Lilburn",
         "Cleats"
        ],
        [
         "Lindenhurst",
         "Women's Apparel"
        ],
        [
         "Lindenhurst",
         "Cleats"
        ],
        [
         "Lithonia",
         "Cleats"
        ],
        [
         "Littleton",
         "Women's Apparel"
        ],
        [
         "Livermore",
         "Cleats"
        ],
        [
         "Lockport",
         "Men's Footwear"
        ],
        [
         "Lodi",
         "Cleats"
        ],
        [
         "Lombard",
         "Men's Footwear"
        ],
        [
         "Lompoc",
         "Indoor/Outdoor Games"
        ],
        [
         "Long Beach",
         "Cleats"
        ],
        [
         "Longmont",
         "Men's Footwear"
        ],
        [
         "Longview",
         "Men's Footwear"
        ],
        [
         "Los Angeles",
         "Cleats"
        ],
        [
         "Louisville",
         "Cleats"
        ],
        [
         "Loveland",
         "Women's Apparel"
        ],
        [
         "Lutz",
         "Cleats"
        ],
        [
         "Lynn",
         "Cleats"
        ],
        [
         "Lynnwood",
         "Cleats"
        ],
        [
         "Lynwood",
         "Women's Apparel"
        ],
        [
         "Madera",
         "Fishing"
        ],
        [
         "Madison",
         "Cleats"
        ],
        [
         "Madison",
         "Men's Footwear"
        ],
        [
         "Malden",
         "Men's Footwear"
        ],
        [
         "Manati",
         "Women's Apparel"
        ],
        [
         "Manchester",
         "Fishing"
        ],
        [
         "Manchester",
         "Women's Apparel"
        ],
        [
         "Marietta",
         "Cleats"
        ],
        [
         "Marietta",
         "Women's Apparel"
        ],
        [
         "Marion",
         "Cleats"
        ],
        [
         "Marrero",
         "Cleats"
        ],
        [
         "Martinez",
         "Men's Footwear"
        ],
        [
         "Martinsburg",
         "Cleats"
        ],
        [
         "Massapequa",
         "Indoor/Outdoor Games"
        ],
        [
         "Massillon",
         "Men's Footwear"
        ],
        [
         "Mayaguez",
         "Cleats"
        ],
        [
         "Mcallen",
         "Cleats"
        ],
        [
         "Mchenry",
         "Cleats"
        ],
        [
         "Mechanicsburg",
         "Women's Apparel"
        ],
        [
         "Mechanicsburg",
         "Cleats"
        ],
        [
         "Medford",
         "Women's Apparel"
        ],
        [
         "Medina",
         "Women's Apparel"
        ],
        [
         "Memphis",
         "Cleats"
        ],
        [
         "Mentor",
         "Women's Apparel"
        ],
        [
         "Mentor",
         "Men's Footwear"
        ],
        [
         "Merced",
         "Camping & Hiking"
        ],
        [
         "Merced",
         "Cleats"
        ],
        [
         "Meridian",
         "Cleats"
        ],
        [
         "Mesa",
         "Women's Apparel"
        ],
        [
         "Mesquite",
         "Cleats"
        ],
        [
         "Metairie",
         "Men's Footwear"
        ],
        [
         "Methuen",
         "Cleats"
        ],
        [
         "Miami",
         "Cleats"
        ],
        [
         "Michigan City",
         "Indoor/Outdoor Games"
        ],
        [
         "Middletown",
         "Indoor/Outdoor Games"
        ],
        [
         "Milford",
         "Cleats"
        ],
        [
         "Mililani",
         "Women's Apparel"
        ],
        [
         "Milpitas",
         "Cleats"
        ],
        [
         "Milwaukee",
         "Men's Footwear"
        ],
        [
         "Mission",
         "Men's Footwear"
        ],
        [
         "Mission",
         "Cleats"
        ],
        [
         "Mission Viejo",
         "Men's Footwear"
        ],
        [
         "Modesto",
         "Women's Apparel"
        ],
        [
         "Modesto",
         "Men's Footwear"
        ],
        [
         "Modesto",
         "Cleats"
        ],
        [
         "Moline",
         "Men's Footwear"
        ],
        [
         "Montebello",
         "Cleats"
        ],
        [
         "Moreno Valley",
         "Women's Apparel"
        ],
        [
         "Morganton",
         "Water Sports"
        ],
        [
         "Morganton",
         "Cleats"
        ],
        [
         "Morganton",
         "Fishing"
        ],
        [
         "Morganton",
         "Women's Apparel"
        ],
        [
         "Morganton",
         "Shop By Sport"
        ],
        [
         "Morristown",
         "Men's Footwear"
        ],
        [
         "Morrisville",
         "Men's Footwear"
        ],
        [
         "Mount Pleasant",
         "Cleats"
        ],
        [
         "Mount Pleasant",
         "Fishing"
        ],
        [
         "Mount Prospect",
         "Cleats"
        ],
        [
         "Murfreesboro",
         "Men's Footwear"
        ],
        [
         "Murfreesboro",
         "Cleats"
        ],
        [
         "Muskegon",
         "Fishing"
        ],
        [
         "Napa",
         "Men's Footwear"
        ],
        [
         "Nashville",
         "Indoor/Outdoor Games"
        ],
        [
         "National City",
         "Men's Footwear"
        ],
        [
         "National City",
         "Cardio Equipment"
        ],
        [
         "New Albany",
         "Men's Footwear"
        ],
        [
         "New Albany",
         "Fishing"
        ],
        [
         "New Bedford",
         "Women's Apparel"
        ],
        [
         "New Braunfels",
         "Men's Footwear"
        ],
        [
         "New Brunswick",
         "Indoor/Outdoor Games"
        ],
        [
         "New Castle",
         "Men's Footwear"
        ],
        [
         "New Haven",
         "Cleats"
        ],
        [
         "New Orleans",
         "Men's Footwear"
        ],
        [
         "New York",
         "Cleats"
        ],
        [
         "Newark",
         "Cleats"
        ],
        [
         "Newburgh",
         "Women's Apparel"
        ],
        [
         "Norcross",
         "Men's Footwear"
        ],
        [
         "Norfolk",
         "Cleats"
        ],
        [
         "Normal",
         "Water Sports"
        ],
        [
         "North Bergen",
         "Men's Footwear"
        ],
        [
         "North Hills",
         "Cleats"
        ],
        [
         "North Hollywood",
         "Cleats"
        ],
        [
         "North Las Vegas",
         "Fishing"
        ],
        [
         "North Richland Hills",
         "Indoor/Outdoor Games"
        ],
        [
         "North Tonawanda",
         "Men's Footwear"
        ],
        [
         "Norwalk",
         "Women's Apparel"
        ],
        [
         "O Fallon",
         "Men's Footwear"
        ],
        [
         "Oak Lawn",
         "Cleats"
        ],
        [
         "Oakland",
         "Women's Apparel"
        ],
        [
         "Oceanside",
         "Men's Footwear"
        ],
        [
         "Ogden",
         "Cleats"
        ],
        [
         "Olathe",
         "Women's Apparel"
        ],
        [
         "Ontario",
         "Men's Footwear"
        ],
        [
         "Opa Locka",
         "Cleats"
        ],
        [
         "Opelousas",
         "Cleats"
        ],
        [
         "Orange Park",
         "Men's Footwear"
        ],
        [
         "Oregon City",
         "Indoor/Outdoor Games"
        ],
        [
         "Orlando",
         "Cleats"
        ],
        [
         "Oviedo",
         "Indoor/Outdoor Games"
        ],
        [
         "Oxnard",
         "Cleats"
        ],
        [
         "Pacoima",
         "Indoor/Outdoor Games"
        ],
        [
         "Painesville",
         "Women's Apparel"
        ],
        [
         "Palatine",
         "Cleats"
        ],
        [
         "Palmdale",
         "Cleats"
        ],
        [
         "Palo Alto",
         "Water Sports"
        ],
        [
         "Palo Alto",
         "Indoor/Outdoor Games"
        ],
        [
         "Panorama City",
         "Cleats"
        ],
        [
         "Paramount",
         "Cleats"
        ],
        [
         "Parkville",
         "Cleats"
        ],
        [
         "Pasadena",
         "Cleats"
        ],
        [
         "Passaic",
         "Women's Apparel"
        ],
        [
         "Pawtucket",
         "Cleats"
        ],
        [
         "Peabody",
         "Cleats"
        ],
        [
         "Pekin",
         "Cleats"
        ],
        [
         "Peoria",
         "Indoor/Outdoor Games"
        ],
        [
         "Perth Amboy",
         "Cleats"
        ],
        [
         "Pharr",
         "Cleats"
        ],
        [
         "Philadelphia",
         "Cleats"
        ],
        [
         "Phoenix",
         "Cleats"
        ],
        [
         "Pico Rivera",
         "Men's Footwear"
        ],
        [
         "Piscataway",
         "Women's Apparel"
        ],
        [
         "Pittsburg",
         "Cleats"
        ],
        [
         "Pittsfield",
         "Fishing"
        ],
        [
         "Placentia",
         "Indoor/Outdoor Games"
        ],
        [
         "Placentia",
         "Cleats"
        ],
        [
         "Plainfield",
         "Women's Apparel"
        ],
        [
         "Plano",
         "Men's Footwear"
        ],
        [
         "Plymouth",
         "Cleats"
        ],
        [
         "Pomona",
         "Women's Apparel"
        ],
        [
         "Pompano Beach",
         "Cleats"
        ],
        [
         "Ponce",
         "Camping & Hiking"
        ],
        [
         "Porterville",
         "Men's Footwear"
        ],
        [
         "Portland",
         "Cleats"
        ],
        [
         "Potomac",
         "Indoor/Outdoor Games"
        ],
        [
         "Poway",
         "Men's Footwear"
        ],
        [
         "Powder Springs",
         "Men's Footwear"
        ],
        [
         "Powder Springs",
         "Cleats"
        ],
        [
         "Princeton",
         "Water Sports"
        ],
        [
         "Provo",
         "Women's Apparel"
        ],
        [
         "Quincy",
         "Cleats"
        ],
        [
         "Raleigh",
         "Cardio Equipment"
        ],
        [
         "Rancho Cordova",
         "Indoor/Outdoor Games"
        ],
        [
         "Rancho Cucamonga",
         "Cleats"
        ],
        [
         "Redmond",
         "Cleats"
        ],
        [
         "Rego Park",
         "Men's Footwear"
        ],
        [
         "Reno",
         "Men's Footwear"
        ],
        [
         "Reseda",
         "Cleats"
        ],
        [
         "Revere",
         "Cleats"
        ],
        [
         "Reynoldsburg",
         "Water Sports"
        ],
        [
         "Rialto",
         "Cleats"
        ],
        [
         "Rialto",
         "Indoor/Outdoor Games"
        ],
        [
         "Rialto",
         "Camping & Hiking"
        ],
        [
         "Richardson",
         "Water Sports"
        ],
        [
         "Richmond",
         "Men's Footwear"
        ],
        [
         "Ridgewood",
         "Cleats"
        ],
        [
         "Rio Grande",
         "Fishing"
        ],
        [
         "Rio Rancho",
         "Women's Apparel"
        ],
        [
         "Riverside",
         "Men's Footwear"
        ],
        [
         "Rochester",
         "Men's Footwear"
        ],
        [
         "Rock Hill",
         "Cleats"
        ],
        [
         "Rome",
         "Cleats"
        ],
        [
         "Roseburg",
         "Men's Footwear"
        ],
        [
         "Rosemead",
         "Water Sports"
        ],
        [
         "Roseville",
         "Women's Apparel"
        ],
        [
         "Roswell",
         "Men's Footwear"
        ],
        [
         "Round Rock",
         "Cleats"
        ],
        [
         "Rowland Heights",
         "Men's Footwear"
        ],
        [
         "Sacramento",
         "Cleats"
        ],
        [
         "Saginaw",
         "Indoor/Outdoor Games"
        ],
        [
         "Saginaw",
         "Women's Apparel"
        ],
        [
         "Saint Charles",
         "Men's Footwear"
        ],
        [
         "Saint Louis",
         "Men's Footwear"
        ],
        [
         "Saint Paul",
         "Cleats"
        ],
        [
         "Saint Peters",
         "Fishing"
        ],
        [
         "Salem",
         "Cleats"
        ],
        [
         "Salina",
         "Men's Footwear"
        ],
        [
         "Salinas",
         "Cleats"
        ],
        [
         "Salt Lake City",
         "Cleats"
        ],
        [
         "San Antonio",
         "Cleats"
        ],
        [
         "San Antonio",
         "Men's Footwear"
        ],
        [
         "San Benito",
         "Fishing"
        ],
        [
         "San Bernardino",
         "Cleats"
        ],
        [
         "San Diego",
         "Cleats"
        ],
        [
         "San Francisco",
         "Women's Apparel"
        ],
        [
         "San Jose",
         "Cleats"
        ],
        [
         "San Juan",
         "Cleats"
        ],
        [
         "San Marcos",
         "Cleats"
        ],
        [
         "San Pablo",
         "Fishing"
        ],
        [
         "San Pablo",
         "Men's Footwear"
        ],
        [
         "San Pedro",
         "Men's Footwear"
        ],
        [
         "San Ramon",
         "Men's Footwear"
        ],
        [
         "San Sebastian",
         "Cleats"
        ],
        [
         "Sandusky",
         "Women's Apparel"
        ],
        [
         "Sanford",
         "Women's Apparel"
        ],
        [
         "Santa Ana",
         "Cleats"
        ],
        [
         "Santa Clara",
         "Cleats"
        ],
        [
         "Santa Cruz",
         "Cleats"
        ],
        [
         "Santa Fe",
         "Water Sports"
        ],
        [
         "Santa Maria",
         "Cleats"
        ],
        [
         "Santee",
         "Women's Apparel"
        ],
        [
         "Scottsdale",
         "Cleats"
        ],
        [
         "Seattle",
         "Cleats"
        ],
        [
         "Sheboygan",
         "Indoor/Outdoor Games"
        ],
        [
         "Silver Spring",
         "Men's Footwear"
        ],
        [
         "Simi Valley",
         "Cleats"
        ],
        [
         "Smyrna",
         "Women's Apparel"
        ],
        [
         "South El Monte",
         "Cleats"
        ],
        [
         "South Gate",
         "Women's Apparel"
        ],
        [
         "South Ozone Park",
         "Men's Footwear"
        ],
        [
         "South Richmond Hill",
         "Men's Footwear"
        ],
        [
         "South San Francisco",
         "Women's Apparel"
        ],
        [
         "Spokane",
         "Women's Apparel"
        ],
        [
         "Spring",
         "Indoor/Outdoor Games"
        ],
        [
         "Spring",
         "Women's Apparel"
        ],
        [
         "Spring",
         "Water Sports"
        ],
        [
         "Spring Valley",
         "Cleats"
        ],
        [
         "Springfield",
         "Cleats"
        ],
        [
         "Springfield",
         "Fishing"
        ],
        [
         "Stafford",
         "Women's Apparel"
        ],
        [
         "Stamford",
         "Men's Footwear"
        ],
        [
         "Stamford",
         "Cleats"
        ],
        [
         "Staten Island",
         "Women's Apparel"
        ],
        [
         "Stockbridge",
         "Cleats"
        ],
        [
         "Stockton",
         "Men's Footwear"
        ],
        [
         "Stone Mountain",
         "Water Sports"
        ],
        [
         "Strongsville",
         "Cleats"
        ],
        [
         "Sugar Land",
         "Men's Footwear"
        ],
        [
         "Summerville",
         "Cleats"
        ],
        [
         "Sumner",
         "Indoor/Outdoor Games"
        ],
        [
         "Sun Valley",
         "Women's Apparel"
        ],
        [
         "Sun Valley",
         "Cleats"
        ],
        [
         "Sunnyvale",
         "Cleats"
        ],
        [
         "Sylmar",
         "Women's Apparel"
        ],
        [
         "Sylmar",
         "Fishing"
        ],
        [
         "Tallahassee",
         "Cleats"
        ],
        [
         "Tampa",
         "Cleats"
        ],
        [
         "Taunton",
         "Cleats"
        ],
        [
         "Taunton",
         "Indoor/Outdoor Games"
        ],
        [
         "Taunton",
         "Camping & Hiking"
        ],
        [
         "Taylor",
         "Camping & Hiking"
        ],
        [
         "Temecula",
         "Cleats"
        ],
        [
         "Tempe",
         "Women's Apparel"
        ],
        [
         "Tinley Park",
         "Cleats"
        ],
        [
         "Tinley Park",
         "Indoor/Outdoor Games"
        ],
        [
         "Toa Alta",
         "Indoor/Outdoor Games"
        ],
        [
         "Toa Baja",
         "Cleats"
        ],
        [
         "Toms River",
         "Cleats"
        ],
        [
         "Tonawanda",
         "Cleats"
        ],
        [
         "Tracy",
         "Cleats"
        ],
        [
         "Tracy",
         "Fishing"
        ],
        [
         "Troy",
         "Women's Apparel"
        ],
        [
         "Trujillo Alto",
         "Indoor/Outdoor Games"
        ],
        [
         "Trujillo Alto",
         "Cleats"
        ],
        [
         "Tucson",
         "Cleats"
        ],
        [
         "Tulare",
         "Cleats"
        ],
        [
         "Tustin",
         "Men's Footwear"
        ],
        [
         "Union",
         "Women's Apparel"
        ],
        [
         "Union City",
         "Women's Apparel"
        ],
        [
         "Upland",
         "Cleats"
        ],
        [
         "Vacaville",
         "Men's Footwear"
        ],
        [
         "Vallejo",
         "Women's Apparel"
        ],
        [
         "Valrico",
         "Men's Footwear"
        ],
        [
         "Van Nuys",
         "Men's Footwear"
        ],
        [
         "Vega Baja",
         "Indoor/Outdoor Games"
        ],
        [
         "Ventura",
         "Cleats"
        ],
        [
         "Victorville",
         "Cleats"
        ],
        [
         "Virginia Beach",
         "Women's Apparel"
        ],
        [
         "Visalia",
         "Men's Footwear"
        ],
        [
         "Vista",
         "Cleats"
        ],
        [
         "Waipahu",
         "Men's Footwear"
        ],
        [
         "Walnut",
         "Cleats"
        ],
        [
         "Warren",
         "Cleats"
        ],
        [
         "Washington",
         "Cleats"
        ],
        [
         "Watsonville",
         "Cleats"
        ],
        [
         "Waukegan",
         "Cleats"
        ],
        [
         "Wayne",
         "Cleats"
        ],
        [
         "Webster",
         "Cleats"
        ],
        [
         "Weslaco",
         "Men's Footwear"
        ],
        [
         "West Chester",
         "Cleats"
        ],
        [
         "West Covina",
         "Cleats"
        ],
        [
         "West Haven",
         "Men's Footwear"
        ],
        [
         "West Jordan",
         "Men's Footwear"
        ],
        [
         "West Lafayette",
         "Cleats"
        ],
        [
         "West New York",
         "Cleats"
        ],
        [
         "West New York",
         "Men's Footwear"
        ],
        [
         "West Orange",
         "Women's Apparel"
        ],
        [
         "West Orange",
         "Men's Footwear"
        ],
        [
         "Westerville",
         "Men's Footwear"
        ],
        [
         "Westland",
         "Water Sports"
        ],
        [
         "Westminster",
         "Indoor/Outdoor Games"
        ],
        [
         "Wheaton",
         "Men's Footwear"
        ],
        [
         "Wheeling",
         "Women's Apparel"
        ],
        [
         "Wheeling",
         "Water Sports"
        ],
        [
         "Wheeling",
         "Cleats"
        ],
        [
         "Wichita",
         "Indoor/Outdoor Games"
        ],
        [
         "Wilkes Barre",
         "Women's Apparel"
        ],
        [
         "Williamsport",
         "Fishing"
        ],
        [
         "Williamsport",
         "Cleats"
        ],
        [
         "Wilmington",
         "Fishing"
        ],
        [
         "Winnetka",
         "Cleats"
        ],
        [
         "Winter Park",
         "Cleats"
        ],
        [
         "Winter Park",
         "Men's Footwear"
        ],
        [
         "Woodbridge",
         "Men's Footwear"
        ],
        [
         "Woodside",
         "Men's Footwear"
        ],
        [
         "Woonsocket",
         "Cleats"
        ],
        [
         "Wyandotte",
         "Cleats"
        ],
        [
         "Wyoming",
         "Cleats"
        ],
        [
         "Yauco",
         "Cleats"
        ],
        [
         "Yonkers",
         "Cleats"
        ],
        [
         "York",
         "Cleats"
        ],
        [
         "Ypsilanti",
         "Indoor/Outdoor Games"
        ],
        [
         "Yuma",
         "Cleats"
        ],
        [
         "Zanesville",
         "Women's Apparel"
        ]
       ],
       "datasetInfos": [],
       "dbfsResultPath": null,
       "isJsonSchema": true,
       "metadata": {},
       "overflow": false,
       "plotOptions": {
        "customPlotOptions": {},
        "displayType": "table",
        "pivotAggregation": null,
        "pivotColumns": null,
        "xColumns": null,
        "yColumns": null
       },
       "removedWidgets": [],
       "schema": [
        {
         "metadata": "{}",
         "name": "customer_city",
         "type": "\"string\""
        },
        {
         "metadata": "{}",
         "name": "category_name",
         "type": "\"string\""
        }
       ],
       "type": "table"
      }
     },
     "output_type": "display_data"
    }
   ],
   "source": [
    "display(statement3)"
   ]
  },
  {
   "cell_type": "code",
   "execution_count": 0,
   "metadata": {
    "application/vnd.databricks.v1+cell": {
     "cellMetadata": {
      "byteLimit": 2048000,
      "rowLimit": 10000
     },
     "inputWidgets": {},
     "nuid": "51264842-cf7d-4eed-b5ba-25b58bcb674d",
     "showTitle": false,
     "title": ""
    }
   },
   "outputs": [
    {
     "output_type": "display_data",
     "data": {
      "text/html": [
       "<style scoped>\n",
       "  .ansiout {\n",
       "    display: block;\n",
       "    unicode-bidi: embed;\n",
       "    white-space: pre-wrap;\n",
       "    word-wrap: break-word;\n",
       "    word-break: break-all;\n",
       "    font-family: \"Menlo\", \"Monaco\", \"Consolas\", \"Ubuntu Mono\", \"Source Code Pro\", monospace;\n",
       "    font-size: 13px;\n",
       "    color: #555;\n",
       "    margin-left: 4px;\n",
       "    line-height: 19px;\n",
       "  }\n",
       "</style>\n",
       "<div class=\"ansiout\"></div>"
      ]
     },
     "metadata": {
      "application/vnd.databricks.v1+output": {
       "addedWidgets": {},
       "arguments": {},
       "data": "<div class=\"ansiout\"></div>",
       "datasetInfos": [],
       "metadata": {},
       "removedWidgets": [],
       "type": "html"
      }
     },
     "output_type": "display_data"
    }
   ],
   "source": [
    "statement3.write.mode(\"overwrite\").format(\"delta\").save(f\"{silver_path}/statement3\")"
   ]
  },
  {
   "cell_type": "code",
   "execution_count": 0,
   "metadata": {
    "application/vnd.databricks.v1+cell": {
     "cellMetadata": {
      "byteLimit": 2048000,
      "rowLimit": 10000
     },
     "inputWidgets": {},
     "nuid": "0c69c525-205f-4569-a799-280377c0d50a",
     "showTitle": false,
     "title": ""
    }
   },
   "outputs": [
    {
     "output_type": "display_data",
     "data": {
      "text/html": [
       "<style scoped>\n",
       "  .ansiout {\n",
       "    display: block;\n",
       "    unicode-bidi: embed;\n",
       "    white-space: pre-wrap;\n",
       "    word-wrap: break-word;\n",
       "    word-break: break-all;\n",
       "    font-family: \"Menlo\", \"Monaco\", \"Consolas\", \"Ubuntu Mono\", \"Source Code Pro\", monospace;\n",
       "    font-size: 13px;\n",
       "    color: #555;\n",
       "    margin-left: 4px;\n",
       "    line-height: 19px;\n",
       "  }\n",
       "</style>\n",
       "<div class=\"ansiout\"></div>"
      ]
     },
     "metadata": {
      "application/vnd.databricks.v1+output": {
       "addedWidgets": {},
       "arguments": {},
       "data": "<div class=\"ansiout\"></div>",
       "datasetInfos": [],
       "metadata": {},
       "removedWidgets": [],
       "type": "html"
      }
     },
     "output_type": "display_data"
    }
   ],
   "source": [
    "query = '''\n",
    "SELECT\n",
    "    customer_city, product_name, quantity, total\n",
    "FROM (\n",
    "    SELECT\n",
    "        customer_city, product_name,\n",
    "        sum(order_item_quantity) as quantity,\n",
    "        sum(order_item_subtotal) as total,\n",
    "        DENSE_RANK() OVER (PARTITION BY customer_city ORDER BY sum(order_item_quantity) DESC) as rank\n",
    "    FROM\n",
    "        delta.`{}/customers` as c\n",
    "    INNER JOIN\n",
    "        delta.`{}/orders` as o\n",
    "        ON c.customer_id = o.order_customer_id\n",
    "    INNER JOIN\n",
    "        delta.`{}/order_items` as oi\n",
    "        ON o.order_id = oi.order_item_order_id\n",
    "    INNER JOIN\n",
    "        delta.`{}/products` as p\n",
    "        ON oi.order_item_product_id = p.product_id\n",
    "    INNER JOIN\n",
    "        delta.`{}/categories` as ca\n",
    "        ON p.product_category_id = ca.category_id\n",
    "    GROUP BY\n",
    "        customer_city, product_name\n",
    ") t\n",
    "WHERE rank < 6\n",
    "ORDER BY quantity DESC\n",
    "'''.format(bronze_path, bronze_path, bronze_path, bronze_path, bronze_path)\n",
    "\n",
    "statement4 = spark.sql(query)"
   ]
  },
  {
   "cell_type": "code",
   "execution_count": 0,
   "metadata": {
    "application/vnd.databricks.v1+cell": {
     "cellMetadata": {
      "byteLimit": 2048000,
      "rowLimit": 10000
     },
     "inputWidgets": {},
     "nuid": "86133e65-ecc8-46c1-8715-ac239c250e30",
     "showTitle": false,
     "title": ""
    }
   },
   "outputs": [
    {
     "output_type": "display_data",
     "data": {
      "text/html": [
       "<style scoped>\n",
       "  .table-result-container {\n",
       "    max-height: 300px;\n",
       "    overflow: auto;\n",
       "  }\n",
       "  table, th, td {\n",
       "    border: 1px solid black;\n",
       "    border-collapse: collapse;\n",
       "  }\n",
       "  th, td {\n",
       "    padding: 5px;\n",
       "  }\n",
       "  th {\n",
       "    text-align: left;\n",
       "  }\n",
       "</style><div class='table-result-container'><table class='table-result'><thead style='background-color: white'><tr><th>customer_city</th><th>product_name</th><th>quantity</th><th>total</th></tr></thead><tbody><tr><td>Caguas</td><td>Perfect Fitness Perfect Rip Deck</td><td>27276</td><td>1636287.2855148315</td></tr><tr><td>Caguas</td><td>Nike Men's Dri-FIT Victory Golf Polo</td><td>23355</td><td>1167750.0</td></tr><tr><td>Caguas</td><td>O'Brien Men's Neoprene Life Vest</td><td>21590</td><td>1079068.1897773743</td></tr><tr><td>Caguas</td><td>Nike Men's Free 5.0+ Running Shoe</td><td>13530</td><td>1352864.6990203857</td></tr><tr><td>Caguas</td><td>Under Armour Girls' Toddler Spine Surge Runni</td><td>11713</td><td>468402.8778114319</td></tr><tr><td>Chicago</td><td>Perfect Fitness Perfect Rip Deck</td><td>1540</td><td>92384.60255813599</td></tr><tr><td>Los Angeles</td><td>Perfect Fitness Perfect Rip Deck</td><td>1423</td><td>85365.77238464355</td></tr><tr><td>Chicago</td><td>Nike Men's Dri-FIT Victory Golf Polo</td><td>1391</td><td>69550.0</td></tr><tr><td>Chicago</td><td>O'Brien Men's Neoprene Life Vest</td><td>1278</td><td>63874.43938827515</td></tr><tr><td>Brooklyn</td><td>Perfect Fitness Perfect Rip Deck</td><td>1251</td><td>75047.49206924438</td></tr><tr><td>Brooklyn</td><td>Nike Men's Dri-FIT Victory Golf Polo</td><td>1237</td><td>61850.0</td></tr><tr><td>Los Angeles</td><td>Nike Men's Dri-FIT Victory Golf Polo</td><td>1194</td><td>59700.0</td></tr><tr><td>Brooklyn</td><td>O'Brien Men's Neoprene Life Vest</td><td>1185</td><td>59226.299503326416</td></tr><tr><td>Los Angeles</td><td>O'Brien Men's Neoprene Life Vest</td><td>1120</td><td>55977.599559783936</td></tr><tr><td>Chicago</td><td>Nike Men's Free 5.0+ Running Shoe</td><td>789</td><td>78892.11010742188</td></tr><tr><td>Los Angeles</td><td>Nike Men's Free 5.0+ Running Shoe</td><td>737</td><td>73692.6298751831</td></tr><tr><td>Brooklyn</td><td>Nike Men's Free 5.0+ Running Shoe</td><td>721</td><td>72092.78977966309</td></tr><tr><td>New York</td><td>Perfect Fitness Perfect Rip Deck</td><td>719</td><td>43132.81119918823</td></tr><tr><td>Bronx</td><td>Perfect Fitness Perfect Rip Deck</td><td>688</td><td>41273.12115097046</td></tr><tr><td>New York</td><td>Nike Men's Dri-FIT Victory Golf Polo</td><td>661</td><td>33050.0</td></tr><tr><td>Philadelphia</td><td>Perfect Fitness Perfect Rip Deck</td><td>655</td><td>39293.451137542725</td></tr><tr><td>Chicago</td><td>Under Armour Girls' Toddler Spine Surge Runni</td><td>626</td><td>25033.740505218506</td></tr><tr><td>San Diego</td><td>Perfect Fitness Perfect Rip Deck</td><td>612</td><td>36713.88098526001</td></tr><tr><td>Brooklyn</td><td>Under Armour Girls' Toddler Spine Surge Runni</td><td>600</td><td>23994.000457763672</td></tr><tr><td>New York</td><td>O'Brien Men's Neoprene Life Vest</td><td>588</td><td>29388.239768981934</td></tr><tr><td>Los Angeles</td><td>Under Armour Girls' Toddler Spine Surge Runni</td><td>587</td><td>23474.13038635254</td></tr><tr><td>Houston</td><td>Perfect Fitness Perfect Rip Deck</td><td>576</td><td>34554.24097824097</td></tr><tr><td>Philadelphia</td><td>Nike Men's Dri-FIT Victory Golf Polo</td><td>555</td><td>27750.0</td></tr><tr><td>Miami</td><td>Perfect Fitness Perfect Rip Deck</td><td>536</td><td>32154.64083480835</td></tr><tr><td>San Diego</td><td>Nike Men's Dri-FIT Victory Golf Polo</td><td>517</td><td>25850.0</td></tr><tr><td>Bronx</td><td>Nike Men's Dri-FIT Victory Golf Polo</td><td>504</td><td>25200.0</td></tr><tr><td>Philadelphia</td><td>O'Brien Men's Neoprene Life Vest</td><td>502</td><td>25089.95978164673</td></tr><tr><td>Las Vegas</td><td>Perfect Fitness Perfect Rip Deck</td><td>488</td><td>29275.120822906494</td></tr><tr><td>Dallas</td><td>Perfect Fitness Perfect Rip Deck</td><td>482</td><td>28915.1808052063</td></tr><tr><td>Bronx</td><td>O'Brien Men's Neoprene Life Vest</td><td>478</td><td>23890.439796447754</td></tr><tr><td>San Diego</td><td>O'Brien Men's Neoprene Life Vest</td><td>471</td><td>23540.57975769043</td></tr><tr><td>Houston</td><td>Nike Men's Dri-FIT Victory Golf Polo</td><td>440</td><td>22000.0</td></tr><tr><td>Aurora</td><td>Perfect Fitness Perfect Rip Deck</td><td>425</td><td>25495.75068283081</td></tr><tr><td>Dallas</td><td>O'Brien Men's Neoprene Life Vest</td><td>421</td><td>21041.57981109619</td></tr><tr><td>Miami</td><td>O'Brien Men's Neoprene Life Vest</td><td>417</td><td>20841.65982055664</td></tr><tr><td>Houston</td><td>O'Brien Men's Neoprene Life Vest</td><td>395</td><td>19742.099800109863</td></tr><tr><td>New York</td><td>Under Armour Girls' Toddler Spine Surge Runni</td><td>391</td><td>15636.090244293213</td></tr><tr><td>Miami</td><td>Nike Men's Dri-FIT Victory Golf Polo</td><td>388</td><td>19400.0</td></tr><tr><td>San Jose</td><td>Perfect Fitness Perfect Rip Deck</td><td>384</td><td>23036.160636901855</td></tr><tr><td>Las Vegas</td><td>O'Brien Men's Neoprene Life Vest</td><td>379</td><td>18942.41982650757</td></tr><tr><td>Dallas</td><td>Nike Men's Dri-FIT Victory Golf Polo</td><td>370</td><td>18500.0</td></tr><tr><td>New York</td><td>Nike Men's Free 5.0+ Running Shoe</td><td>363</td><td>36296.3699798584</td></tr><tr><td>Las Vegas</td><td>Nike Men's Dri-FIT Victory Golf Polo</td><td>358</td><td>17900.0</td></tr><tr><td>Detroit</td><td>Nike Men's Dri-FIT Victory Golf Polo</td><td>349</td><td>17450.0</td></tr><tr><td>San Jose</td><td>Nike Men's Dri-FIT Victory Golf Polo</td><td>347</td><td>17350.0</td></tr><tr><td>Philadelphia</td><td>Nike Men's Free 5.0+ Running Shoe</td><td>346</td><td>34596.539894104004</td></tr><tr><td>San Antonio</td><td>Perfect Fitness Perfect Rip Deck</td><td>342</td><td>20516.580589294434</td></tr><tr><td>Aurora</td><td>O'Brien Men's Neoprene Life Vest</td><td>334</td><td>16693.319869995117</td></tr><tr><td>Phoenix</td><td>Perfect Fitness Perfect Rip Deck</td><td>333</td><td>19976.670513153076</td></tr><tr><td>Detroit</td><td>Perfect Fitness Perfect Rip Deck</td><td>329</td><td>19736.710563659668</td></tr><tr><td>Detroit</td><td>O'Brien Men's Neoprene Life Vest</td><td>324</td><td>16193.519870758057</td></tr><tr><td>Aurora</td><td>Nike Men's Dri-FIT Victory Golf Polo</td><td>323</td><td>16150.0</td></tr><tr><td>Philadelphia</td><td>Under Armour Girls' Toddler Spine Surge Runni</td><td>314</td><td>12556.860233306885</td></tr><tr><td>Lancaster</td><td>Nike Men's Dri-FIT Victory Golf Polo</td><td>306</td><td>15300.0</td></tr><tr><td>Bronx</td><td>Nike Men's Free 5.0+ Running Shoe</td><td>302</td><td>30196.979988098145</td></tr><tr><td>Las Vegas</td><td>Nike Men's Free 5.0+ Running Shoe</td><td>301</td><td>30096.98998260498</td></tr><tr><td>Phoenix</td><td>O'Brien Men's Neoprene Life Vest</td><td>297</td><td>14844.059894561768</td></tr><tr><td>Houston</td><td>Nike Men's Free 5.0+ Running Shoe</td><td>294</td><td>29397.059928894043</td></tr><tr><td>Phoenix</td><td>Nike Men's Dri-FIT Victory Golf Polo</td><td>292</td><td>14600.0</td></tr><tr><td>Memphis</td><td>Perfect Fitness Perfect Rip Deck</td><td>292</td><td>17517.08048248291</td></tr><tr><td>Albuquerque</td><td>Perfect Fitness Perfect Rip Deck</td><td>290</td><td>17397.100509643555</td></tr><tr><td>Memphis</td><td>Nike Men's Dri-FIT Victory Golf Polo</td><td>289</td><td>14450.0</td></tr><tr><td>Cleveland</td><td>Nike Men's Dri-FIT Victory Golf Polo</td><td>285</td><td>14250.0</td></tr><tr><td>San Diego</td><td>Nike Men's Free 5.0+ Running Shoe</td><td>284</td><td>28397.15993499756</td></tr><tr><td>Virginia Beach</td><td>Nike Men's Dri-FIT Victory Golf Polo</td><td>282</td><td>14100.0</td></tr><tr><td>Fort Lauderdale</td><td>Perfect Fitness Perfect Rip Deck</td><td>276</td><td>16557.240447998047</td></tr><tr><td>Miami</td><td>Nike Men's Free 5.0+ Running Shoe</td><td>272</td><td>27197.280128479004</td></tr><tr><td>Washington</td><td>Perfect Fitness Perfect Rip Deck</td><td>270</td><td>16197.300468444824</td></tr><tr><td>Cleveland</td><td>Perfect Fitness Perfect Rip Deck</td><td>269</td><td>16137.310447692871</td></tr><tr><td>Virginia Beach</td><td>Perfect Fitness Perfect Rip Deck</td><td>266</td><td>15957.34049987793</td></tr><tr><td>Columbus</td><td>Perfect Fitness Perfect Rip Deck</td><td>261</td><td>15657.39045715332</td></tr><tr><td>San Diego</td><td>Under Armour Girls' Toddler Spine Surge Runni</td><td>259</td><td>10357.410186767578</td></tr><tr><td>Cleveland</td><td>O'Brien Men's Neoprene Life Vest</td><td>259</td><td>12944.81990814209</td></tr><tr><td>San Jose</td><td>O'Brien Men's Neoprene Life Vest</td><td>258</td><td>12894.83987045288</td></tr><tr><td>Baltimore</td><td>Perfect Fitness Perfect Rip Deck</td><td>258</td><td>15477.420475006104</td></tr><tr><td>Newark</td><td>Perfect Fitness Perfect Rip Deck</td><td>256</td><td>15357.440464019775</td></tr><tr><td>Albuquerque</td><td>Nike Men's Dri-FIT Victory Golf Polo</td><td>254</td><td>12700.0</td></tr><tr><td>Long Beach</td><td>Perfect Fitness Perfect Rip Deck</td><td>254</td><td>15237.460418701172</td></tr><tr><td>Bronx</td><td>Under Armour Girls' Toddler Spine Surge Runni</td><td>251</td><td>10037.490169525146</td></tr><tr><td>Honolulu</td><td>Perfect Fitness Perfect Rip Deck</td><td>248</td><td>14877.520435333252</td></tr><tr><td>Santa Ana</td><td>Perfect Fitness Perfect Rip Deck</td><td>244</td><td>14637.560428619385</td></tr><tr><td>Virginia Beach</td><td>O'Brien Men's Neoprene Life Vest</td><td>244</td><td>12195.119911193848</td></tr><tr><td>El Paso</td><td>Perfect Fitness Perfect Rip Deck</td><td>244</td><td>14637.560405731201</td></tr><tr><td>Tucson</td><td>Perfect Fitness Perfect Rip Deck</td><td>238</td><td>14277.620403289795</td></tr><tr><td>El Paso</td><td>O'Brien Men's Neoprene Life Vest</td><td>238</td><td>11895.239849090576</td></tr><tr><td>Fort Lauderdale</td><td>O'Brien Men's Neoprene Life Vest</td><td>238</td><td>11895.239917755127</td></tr><tr><td>Bakersfield</td><td>Nike Men's Dri-FIT Victory Golf Polo</td><td>237</td><td>11850.0</td></tr><tr><td>El Paso</td><td>Nike Men's Dri-FIT Victory Golf Polo</td><td>236</td><td>11800.0</td></tr><tr><td>Miami</td><td>Under Armour Girls' Toddler Spine Surge Runni</td><td>233</td><td>9317.670143127441</td></tr><tr><td>Washington</td><td>Nike Men's Dri-FIT Victory Golf Polo</td><td>233</td><td>11650.0</td></tr><tr><td>Columbus</td><td>Nike Men's Dri-FIT Victory Golf Polo</td><td>230</td><td>11500.0</td></tr><tr><td>Fort Lauderdale</td><td>Nike Men's Dri-FIT Victory Golf Polo</td><td>227</td><td>11350.0</td></tr><tr><td>Tucson</td><td>Nike Men's Dri-FIT Victory Golf Polo</td><td>227</td><td>11350.0</td></tr><tr><td>Hialeah</td><td>Perfect Fitness Perfect Rip Deck</td><td>224</td><td>13437.760360717773</td></tr><tr><td>Pompano Beach</td><td>Perfect Fitness Perfect Rip Deck</td><td>222</td><td>13317.780395507812</td></tr><tr><td>Lancaster</td><td>Perfect Fitness Perfect Rip Deck</td><td>220</td><td>13197.800327301025</td></tr><tr><td>Memphis</td><td>O'Brien Men's Neoprene Life Vest</td><td>219</td><td>10945.619903564453</td></tr><tr><td>Washington</td><td>O'Brien Men's Neoprene Life Vest</td><td>216</td><td>10795.679893493652</td></tr><tr><td>Bakersfield</td><td>Perfect Fitness Perfect Rip Deck</td><td>215</td><td>12897.850360870361</td></tr><tr><td>Columbus</td><td>O'Brien Men's Neoprene Life Vest</td><td>214</td><td>10695.719890594482</td></tr><tr><td>Saint Paul</td><td>Perfect Fitness Perfect Rip Deck</td><td>214</td><td>12837.860363006592</td></tr><tr><td>Honolulu</td><td>Nike Men's Dri-FIT Victory Golf Polo</td><td>213</td><td>10650.0</td></tr><tr><td>Las Vegas</td><td>Under Armour Girls' Toddler Spine Surge Runni</td><td>211</td><td>8437.890117645264</td></tr><tr><td>Lancaster</td><td>O'Brien Men's Neoprene Life Vest</td><td>209</td><td>10445.819896697998</td></tr><tr><td>Dallas</td><td>Nike Men's Free 5.0+ Running Shoe</td><td>207</td><td>20697.930015563965</td></tr><tr><td>Detroit</td><td>Nike Men's Free 5.0+ Running Shoe</td><td>202</td><td>20197.980041503906</td></tr><tr><td>Aurora</td><td>Under Armour Girls' Toddler Spine Surge Runni</td><td>201</td><td>8037.990188598633</td></tr><tr><td>Long Beach</td><td>Nike Men's Dri-FIT Victory Golf Polo</td><td>199</td><td>9950.0</td></tr><tr><td>San Jose</td><td>Under Armour Girls' Toddler Spine Surge Runni</td><td>199</td><td>7958.010162353516</td></tr><tr><td>San Antonio</td><td>O'Brien Men's Neoprene Life Vest</td><td>198</td><td>9896.039909362793</td></tr><tr><td>Saint Paul</td><td>O'Brien Men's Neoprene Life Vest</td><td>197</td><td>9846.059921264648</td></tr><tr><td>Dallas</td><td>Under Armour Girls' Toddler Spine Surge Runni</td><td>194</td><td>7758.06014251709</td></tr><tr><td>Santa Ana</td><td>O'Brien Men's Neoprene Life Vest</td><td>194</td><td>9696.119915008545</td></tr><tr><td>Pompano Beach</td><td>O'Brien Men's Neoprene Life Vest</td><td>193</td><td>9646.1399269104</td></tr><tr><td>Honolulu</td><td>O'Brien Men's Neoprene Life Vest</td><td>193</td><td>9646.139904022217</td></tr><tr><td>Aurora</td><td>Nike Men's Free 5.0+ Running Shoe</td><td>192</td><td>19198.079963684082</td></tr><tr><td>New Orleans</td><td>Perfect Fitness Perfect Rip Deck</td><td>192</td><td>11518.08032989502</td></tr><tr><td>Cleveland</td><td>Nike Men's Free 5.0+ Running Shoe</td><td>191</td><td>19098.089904785156</td></tr><tr><td>Houston</td><td>Under Armour Girls' Toddler Spine Surge Runni</td><td>190</td><td>7598.10013961792</td></tr><tr><td>Phoenix</td><td>Under Armour Girls' Toddler Spine Surge Runni</td><td>188</td><td>7518.1201171875</td></tr><tr><td>San Francisco</td><td>Nike Men's Dri-FIT Victory Golf Polo</td><td>188</td><td>9400.0</td></tr><tr><td>San Jose</td><td>Nike Men's Free 5.0+ Running Shoe</td><td>187</td><td>18698.130004882812</td></tr><tr><td>Baltimore</td><td>Nike Men's Dri-FIT Victory Golf Polo</td><td>186</td><td>9300.0</td></tr><tr><td>Tempe</td><td>Nike Men's Dri-FIT Victory Golf Polo</td><td>184</td><td>9200.0</td></tr><tr><td>Tucson</td><td>O'Brien Men's Neoprene Life Vest</td><td>184</td><td>9196.31990814209</td></tr><tr><td>Escondido</td><td>Nike Men's Dri-FIT Victory Golf Polo</td><td>182</td><td>9100.0</td></tr><tr><td>San Antonio</td><td>Nike Men's Dri-FIT Victory Golf Polo</td><td>181</td><td>9050.0</td></tr><tr><td>Tempe</td><td>Perfect Fitness Perfect Rip Deck</td><td>178</td><td>10678.220306396484</td></tr><tr><td>Pompano Beach</td><td>Nike Men's Dri-FIT Victory Golf Polo</td><td>177</td><td>8850.0</td></tr><tr><td>Tampa</td><td>Perfect Fitness Perfect Rip Deck</td><td>176</td><td>10558.24031829834</td></tr><tr><td>Bakersfield</td><td>O'Brien Men's Neoprene Life Vest</td><td>176</td><td>8796.479915618896</td></tr><tr><td>Bayamon</td><td>Perfect Fitness Perfect Rip Deck</td><td>176</td><td>10558.240295410156</td></tr><tr><td>Saint Paul</td><td>Nike Men's Dri-FIT Victory Golf Polo</td><td>174</td><td>8700.0</td></tr><tr><td>Simi Valley</td><td>Perfect Fitness Perfect Rip Deck</td><td>174</td><td>10438.260303497314</td></tr><tr><td>Phoenix</td><td>Nike Men's Free 5.0+ Running Shoe</td><td>172</td><td>17198.27996826172</td></tr><tr><td>Fort Worth</td><td>Perfect Fitness Perfect Rip Deck</td><td>172</td><td>10318.280319213867</td></tr><tr><td>Saint Louis</td><td>Perfect Fitness Perfect Rip Deck</td><td>170</td><td>10198.300281524658</td></tr><tr><td>Baltimore</td><td>O'Brien Men's Neoprene Life Vest</td><td>169</td><td>8446.619945526123</td></tr><tr><td>Albuquerque</td><td>O'Brien Men's Neoprene Life Vest</td><td>169</td><td>8446.619926452637</td></tr><tr><td>Lancaster</td><td>Under Armour Girls' Toddler Spine Surge Runni</td><td>168</td><td>6718.320117950439</td></tr><tr><td>Lancaster</td><td>Nike Men's Free 5.0+ Running Shoe</td><td>168</td><td>16798.319953918457</td></tr><tr><td>Sacramento</td><td>Perfect Fitness Perfect Rip Deck</td><td>168</td><td>10078.320278167725</td></tr><tr><td>Orlando</td><td>Perfect Fitness Perfect Rip Deck</td><td>166</td><td>9958.340278625488</td></tr><tr><td>Tampa</td><td>Nike Men's Dri-FIT Victory Golf Polo</td><td>164</td><td>8200.0</td></tr><tr><td>Buffalo</td><td>Perfect Fitness Perfect Rip Deck</td><td>163</td><td>9778.370235443115</td></tr><tr><td>Fresno</td><td>Nike Men's Dri-FIT Victory Golf Polo</td><td>162</td><td>8100.0</td></tr><tr><td>Portland</td><td>Perfect Fitness Perfect Rip Deck</td><td>160</td><td>9598.40027999878</td></tr><tr><td>Tempe</td><td>O'Brien Men's Neoprene Life Vest</td><td>159</td><td>7946.819934844971</td></tr><tr><td>Newark</td><td>O'Brien Men's Neoprene Life Vest</td><td>158</td><td>7896.839931488037</td></tr><tr><td>Riverside</td><td>Perfect Fitness Perfect Rip Deck</td><td>156</td><td>9358.440254211426</td></tr><tr><td>San Antonio</td><td>Nike Men's Free 5.0+ Running Shoe</td><td>156</td><td>15598.43994140625</td></tr><tr><td>Escondido</td><td>Perfect Fitness Perfect Rip Deck</td><td>155</td><td>9298.450271606445</td></tr><tr><td>Santa Ana</td><td>Nike Men's Dri-FIT Victory Golf Polo</td><td>154</td><td>7700.0</td></tr><tr><td>Corona</td><td>Perfect Fitness Perfect Rip Deck</td><td>154</td><td>9238.460262298584</td></tr><tr><td>Detroit</td><td>Under Armour Girls' Toddler Spine Surge Runni</td><td>154</td><td>6158.460159301758</td></tr><tr><td>Orlando</td><td>Nike Men's Dri-FIT Victory Golf Polo</td><td>154</td><td>7700.0</td></tr><tr><td>Fresno</td><td>Perfect Fitness Perfect Rip Deck</td><td>154</td><td>9238.460250854492</td></tr><tr><td>Laredo</td><td>Nike Men's Dri-FIT Victory Golf Polo</td><td>154</td><td>7700.0</td></tr><tr><td>Orlando</td><td>O'Brien Men's Neoprene Life Vest</td><td>153</td><td>7646.93994140625</td></tr><tr><td>San Juan</td><td>Perfect Fitness Perfect Rip Deck</td><td>153</td><td>9178.470279693604</td></tr><tr><td>Portland</td><td>Nike Men's Dri-FIT Victory Golf Polo</td><td>152</td><td>7600.0</td></tr><tr><td>Long Beach</td><td>O'Brien Men's Neoprene Life Vest</td><td>152</td><td>7596.959911346436</td></tr><tr><td>San Francisco</td><td>Perfect Fitness Perfect Rip Deck</td><td>150</td><td>8998.500289916992</td></tr><tr><td>Fort Worth</td><td>Nike Men's Dri-FIT Victory Golf Polo</td><td>149</td><td>7450.0</td></tr><tr><td>Atlanta</td><td>O'Brien Men's Neoprene Life Vest</td><td>148</td><td>7397.0399169921875</td></tr><tr><td>New Orleans</td><td>Nike Men's Dri-FIT Victory Golf Polo</td><td>148</td><td>7400.0</td></tr><tr><td>Elgin</td><td>Perfect Fitness Perfect Rip Deck</td><td>147</td><td>8818.530269622803</td></tr><tr><td>Newark</td><td>Nike Men's Dri-FIT Victory Golf Polo</td><td>145</td><td>7250.0</td></tr><tr><td>Marietta</td><td>Perfect Fitness Perfect Rip Deck</td><td>144</td><td>8638.560245513916</td></tr><tr><td>Jamaica</td><td>Perfect Fitness Perfect Rip Deck</td><td>144</td><td>8638.560287475586</td></tr><tr><td>Baltimore</td><td>Nike Men's Free 5.0+ Running Shoe</td><td>144</td><td>14398.5599899292</td></tr><tr><td>Marietta</td><td>Nike Men's Dri-FIT Victory Golf Polo</td><td>142</td><td>7100.0</td></tr><tr><td>Memphis</td><td>Nike Men's Free 5.0+ Running Shoe</td><td>142</td><td>14198.579948425293</td></tr><tr><td>New Orleans</td><td>O'Brien Men's Neoprene Life Vest</td><td>142</td><td>7097.159934997559</td></tr><tr><td>Ontario</td><td>Perfect Fitness Perfect Rip Deck</td><td>141</td><td>8458.59022140503</td></tr><tr><td>Portland</td><td>O'Brien Men's Neoprene Life Vest</td><td>141</td><td>7047.179943084717</td></tr><tr><td>Virginia Beach</td><td>Under Armour Girls' Toddler Spine Surge Runni</td><td>141</td><td>5638.590076446533</td></tr><tr><td>Cleveland</td><td>Under Armour Girls' Toddler Spine Surge Runni</td><td>140</td><td>5598.60005569458</td></tr><tr><td>Strongsville</td><td>Perfect Fitness Perfect Rip Deck</td><td>140</td><td>8398.60022354126</td></tr><tr><td>Riverside</td><td>O'Brien Men's Neoprene Life Vest</td><td>139</td><td>6947.219955444336</td></tr><tr><td>West Chester</td><td>Perfect Fitness Perfect Rip Deck</td><td>138</td><td>8278.620208740234</td></tr><tr><td>Saint Louis</td><td>O'Brien Men's Neoprene Life Vest</td><td>137</td><td>6847.259941101074</td></tr><tr><td>Elmhurst</td><td>O'Brien Men's Neoprene Life Vest</td><td>137</td><td>6847.259899139404</td></tr><tr><td>Elmhurst</td><td>Perfect Fitness Perfect Rip Deck</td><td>137</td><td>8218.630226135254</td></tr><tr><td>Hialeah</td><td>O'Brien Men's Neoprene Life Vest</td><td>137</td><td>6847.259941101074</td></tr><tr><td>Laredo</td><td>Perfect Fitness Perfect Rip Deck</td><td>137</td><td>8218.630233764648</td></tr><tr><td>Moreno Valley</td><td>O'Brien Men's Neoprene Life Vest</td><td>137</td><td>6847.259956359863</td></tr><tr><td>El Paso</td><td>Nike Men's Free 5.0+ Running Shoe</td><td>136</td><td>13598.639953613281</td></tr><tr><td>Richmond</td><td>O'Brien Men's Neoprene Life Vest</td><td>135</td><td>6747.299919128418</td></tr><tr><td>Washington</td><td>Under Armour Girls' Toddler Spine Surge Runni</td><td>135</td><td>5398.650077819824</td></tr><tr><td>Elgin</td><td>Nike Men's Dri-FIT Victory Golf Polo</td><td>134</td><td>6700.0</td></tr><tr><td>Fort Lauderdale</td><td>Nike Men's Free 5.0+ Running Shoe</td><td>134</td><td>13398.660026550293</td></tr><tr><td>Hollywood</td><td>Perfect Fitness Perfect Rip Deck</td><td>134</td><td>8038.660232543945</td></tr><tr><td>Salt Lake City</td><td>Perfect Fitness Perfect Rip Deck</td><td>133</td><td>7978.670219421387</td></tr><tr><td>Fort Worth</td><td>O'Brien Men's Neoprene Life Vest</td><td>133</td><td>6647.339942932129</td></tr><tr><td>Fresno</td><td>O'Brien Men's Neoprene Life Vest</td><td>132</td><td>6597.359951019287</td></tr><tr><td>Virginia Beach</td><td>Nike Men's Free 5.0+ Running Shoe</td><td>132</td><td>13198.679954528809</td></tr><tr><td>Florissant</td><td>Perfect Fitness Perfect Rip Deck</td><td>131</td><td>7858.690216064453</td></tr><tr><td>Spring Valley</td><td>Perfect Fitness Perfect Rip Deck</td><td>131</td><td>7858.69021987915</td></tr><tr><td>Columbus</td><td>Nike Men's Free 5.0+ Running Shoe</td><td>131</td><td>13098.689918518066</td></tr><tr><td>Washington</td><td>Nike Men's Free 5.0+ Running Shoe</td><td>130</td><td>12998.700004577637</td></tr><tr><td>San Antonio</td><td>Under Armour Girls' Toddler Spine Surge Runni</td><td>130</td><td>5198.700046539307</td></tr><tr><td>Hayward</td><td>O'Brien Men's Neoprene Life Vest</td><td>130</td><td>6497.399925231934</td></tr><tr><td>Atlanta</td><td>Perfect Fitness Perfect Rip Deck</td><td>129</td><td>7738.710224151611</td></tr><tr><td>El Paso</td><td>Under Armour Girls' Toddler Spine Surge Runni</td><td>129</td><td>5158.71004486084</td></tr><tr><td>Richmond</td><td>Perfect Fitness Perfect Rip Deck</td><td>129</td><td>7738.710193634033</td></tr><tr><td>Moreno Valley</td><td>Nike Men's Dri-FIT Victory Golf Polo</td><td>128</td><td>6400.0</td></tr><tr><td>Elmhurst</td><td>Nike Men's Dri-FIT Victory Golf Polo</td><td>127</td><td>6350.0</td></tr><tr><td>Hialeah</td><td>Nike Men's Dri-FIT Victory Golf Polo</td><td>127</td><td>6350.0</td></tr><tr><td>Buffalo</td><td>Nike Men's Dri-FIT Victory Golf Polo</td><td>126</td><td>6300.0</td></tr><tr><td>Anaheim</td><td>Nike Men's Dri-FIT Victory Golf Polo</td><td>126</td><td>6300.0</td></tr><tr><td>Antioch</td><td>Perfect Fitness Perfect Rip Deck</td><td>124</td><td>7438.760227203369</td></tr><tr><td>Columbia</td><td>Perfect Fitness Perfect Rip Deck</td><td>124</td><td>7438.760223388672</td></tr><tr><td>Buffalo</td><td>O'Brien Men's Neoprene Life Vest</td><td>123</td><td>6147.539947509766</td></tr><tr><td>Laredo</td><td>O'Brien Men's Neoprene Life Vest</td><td>123</td><td>6147.539947509766</td></tr><tr><td>Staten Island</td><td>Nike Men's Dri-FIT Victory Golf Polo</td><td>123</td><td>6150.0</td></tr><tr><td>Baltimore</td><td>Under Armour Girls' Toddler Spine Surge Runni</td><td>123</td><td>4918.770088195801</td></tr><tr><td>Antioch</td><td>Nike Men's Dri-FIT Victory Golf Polo</td><td>123</td><td>6150.0</td></tr><tr><td>Jersey City</td><td>O'Brien Men's Neoprene Life Vest</td><td>122</td><td>6097.559940338135</td></tr><tr><td>Memphis</td><td>Under Armour Girls' Toddler Spine Surge Runni</td><td>122</td><td>4878.780078887939</td></tr><tr><td>Spring Valley</td><td>Nike Men's Dri-FIT Victory Golf Polo</td><td>122</td><td>6100.0</td></tr><tr><td>Tucson</td><td>Nike Men's Free 5.0+ Running Shoe</td><td>121</td><td>12098.790000915527</td></tr><tr><td>Columbus</td><td>Under Armour Girls' Toddler Spine Surge Runni</td><td>121</td><td>4838.790054321289</td></tr><tr><td>Long Beach</td><td>Nike Men's Free 5.0+ Running Shoe</td><td>121</td><td>12098.789962768555</td></tr><tr><td>San Francisco</td><td>O'Brien Men's Neoprene Life Vest</td><td>121</td><td>6047.579948425293</td></tr><tr><td>San Marcos</td><td>Perfect Fitness Perfect Rip Deck</td><td>120</td><td>7198.800186157227</td></tr><tr><td>Amarillo</td><td>Perfect Fitness Perfect Rip Deck</td><td>120</td><td>7198.800224304199</td></tr><tr><td>Salem</td><td>Perfect Fitness Perfect Rip Deck</td><td>120</td><td>7198.800220489502</td></tr><tr><td>Pomona</td><td>Nike Men's Dri-FIT Victory Golf Polo</td><td>119</td><td>5950.0</td></tr><tr><td>Saint Paul</td><td>Nike Men's Free 5.0+ Running Shoe</td><td>119</td><td>11898.809928894043</td></tr><tr><td>Troy</td><td>O'Brien Men's Neoprene Life Vest</td><td>119</td><td>5947.619941711426</td></tr><tr><td>Oceanside</td><td>O'Brien Men's Neoprene Life Vest</td><td>119</td><td>5947.619941711426</td></tr><tr><td>Troy</td><td>Nike Men's Dri-FIT Victory Golf Polo</td><td>118</td><td>5900.0</td></tr><tr><td>Encinitas</td><td>O'Brien Men's Neoprene Life Vest</td><td>118</td><td>5897.639930725098</td></tr><tr><td>Endicott</td><td>Nike Men's Dri-FIT Victory Golf Polo</td><td>118</td><td>5900.0</td></tr><tr><td>Jamaica</td><td>Nike Men's Dri-FIT Victory Golf Polo</td><td>118</td><td>5900.0</td></tr><tr><td>Hialeah</td><td>Under Armour Girls' Toddler Spine Surge Runni</td><td>118</td><td>4718.8200340271</td></tr><tr><td>Hollywood</td><td>O'Brien Men's Neoprene Life Vest</td><td>118</td><td>5897.639930725098</td></tr><tr><td>Chula Vista</td><td>Perfect Fitness Perfect Rip Deck</td><td>117</td><td>7018.830165863037</td></tr><tr><td>Escondido</td><td>O'Brien Men's Neoprene Life Vest</td><td>117</td><td>5847.659942626953</td></tr><tr><td>Oceanside</td><td>Perfect Fitness Perfect Rip Deck</td><td>116</td><td>6958.840167999268</td></tr><tr><td>Antioch</td><td>O'Brien Men's Neoprene Life Vest</td><td>116</td><td>5797.679962158203</td></tr><tr><td>New Orleans</td><td>Nike Men's Free 5.0+ Running Shoe</td><td>116</td><td>11598.839950561523</td></tr><tr><td>Corona</td><td>O'Brien Men's Neoprene Life Vest</td><td>116</td><td>5797.6799659729</td></tr><tr><td>Corona</td><td>Nike Men's Dri-FIT Victory Golf Polo</td><td>116</td><td>5800.0</td></tr><tr><td>Anaheim</td><td>O'Brien Men's Neoprene Life Vest</td><td>115</td><td>5747.699989318848</td></tr><tr><td>Greenville</td><td>Perfect Fitness Perfect Rip Deck</td><td>115</td><td>6898.850200653076</td></tr><tr><td>Salt Lake City</td><td>Nike Men's Dri-FIT Victory Golf Polo</td><td>115</td><td>5750.0</td></tr><tr><td>Simi Valley</td><td>Nike Men's Dri-FIT Victory Golf Polo</td><td>114</td><td>5700.0</td></tr><tr><td>Greensboro</td><td>Perfect Fitness Perfect Rip Deck</td><td>113</td><td>6778.870204925537</td></tr><tr><td>Lakewood</td><td>O'Brien Men's Neoprene Life Vest</td><td>113</td><td>5647.739940643311</td></tr><tr><td>Richmond</td><td>Nike Men's Dri-FIT Victory Golf Polo</td><td>113</td><td>5650.0</td></tr><tr><td>Tucson</td><td>Under Armour Girls' Toddler Spine Surge Runni</td><td>113</td><td>4518.870059967041</td></tr><tr><td>Garden Grove</td><td>O'Brien Men's Neoprene Life Vest</td><td>113</td><td>5647.739963531494</td></tr><tr><td>Saint Louis</td><td>Nike Men's Dri-FIT Victory Golf Polo</td><td>112</td><td>5600.0</td></tr><tr><td>Bend</td><td>Perfect Fitness Perfect Rip Deck</td><td>112</td><td>6718.880176544189</td></tr><tr><td>West Chester</td><td>Nike Men's Dri-FIT Victory Golf Polo</td><td>112</td><td>5600.0</td></tr><tr><td>Bend</td><td>O'Brien Men's Neoprene Life Vest</td><td>112</td><td>5597.7599449157715</td></tr><tr><td>Quincy</td><td>Perfect Fitness Perfect Rip Deck</td><td>112</td><td>6718.88020324707</td></tr><tr><td>Lakewood</td><td>Nike Men's Dri-FIT Victory Golf Polo</td><td>112</td><td>5600.0</td></tr><tr><td>Ontario</td><td>Nike Men's Dri-FIT Victory Golf Polo</td><td>112</td><td>5600.0</td></tr><tr><td>West Chester</td><td>O'Brien Men's Neoprene Life Vest</td><td>111</td><td>5547.779979705811</td></tr><tr><td>Stockton</td><td>Perfect Fitness Perfect Rip Deck</td><td>111</td><td>6658.890190124512</td></tr><tr><td>West Covina</td><td>Perfect Fitness Perfect Rip Deck</td><td>111</td><td>6658.890182495117</td></tr><tr><td>Oceanside</td><td>Nike Men's Dri-FIT Victory Golf Polo</td><td>111</td><td>5550.0</td></tr><tr><td>Colorado Springs</td><td>Perfect Fitness Perfect Rip Deck</td><td>111</td><td>6658.890197753906</td></tr><tr><td>Eugene</td><td>Nike Men's Dri-FIT Victory Golf Polo</td><td>111</td><td>5550.0</td></tr><tr><td>San Juan</td><td>Nike Men's Dri-FIT Victory Golf Polo</td><td>110</td><td>5500.0</td></tr><tr><td>Tempe</td><td>Nike Men's Free 5.0+ Running Shoe</td><td>110</td><td>10998.900009155273</td></tr><tr><td>Bakersfield</td><td>Nike Men's Free 5.0+ Running Shoe</td><td>110</td><td>10998.899955749512</td></tr><tr><td>Humacao</td><td>Perfect Fitness Perfect Rip Deck</td><td>110</td><td>6598.900177001953</td></tr><tr><td>Newark</td><td>Nike Men's Free 5.0+ Running Shoe</td><td>110</td><td>10998.900016784668</td></tr><tr><td>Atlanta</td><td>Nike Men's Dri-FIT Victory Golf Polo</td><td>109</td><td>5450.0</td></tr><tr><td>Dearborn</td><td>Perfect Fitness Perfect Rip Deck</td><td>109</td><td>6538.910175323486</td></tr><tr><td>Fremont</td><td>Perfect Fitness Perfect Rip Deck</td><td>109</td><td>6538.910182952881</td></tr><tr><td>Tampa</td><td>O'Brien Men's Neoprene Life Vest</td><td>109</td><td>5447.819972991943</td></tr><tr><td>Honolulu</td><td>Nike Men's Free 5.0+ Running Shoe</td><td>109</td><td>10898.910026550293</td></tr><tr><td>Riverside</td><td>Under Armour Girls' Toddler Spine Surge Runni</td><td>109</td><td>4358.910049438477</td></tr><tr><td>Elgin</td><td>O'Brien Men's Neoprene Life Vest</td><td>108</td><td>5397.839954376221</td></tr><tr><td>Sacramento</td><td>Nike Men's Free 5.0+ Running Shoe</td><td>108</td><td>10798.920013427734</td></tr><tr><td>Amarillo</td><td>Nike Men's Dri-FIT Victory Golf Polo</td><td>108</td><td>5400.0</td></tr><tr><td>Honolulu</td><td>Under Armour Girls' Toddler Spine Surge Runni</td><td>108</td><td>4318.920059204102</td></tr><tr><td>Compton</td><td>Perfect Fitness Perfect Rip Deck</td><td>108</td><td>6478.920192718506</td></tr><tr><td>El Cajon</td><td>Nike Men's Dri-FIT Victory Golf Polo</td><td>108</td><td>5400.0</td></tr><tr><td>Oxnard</td><td>Perfect Fitness Perfect Rip Deck</td><td>107</td><td>6418.930202484131</td></tr><tr><td>Albuquerque</td><td>Nike Men's Free 5.0+ Running Shoe</td><td>107</td><td>10698.93002319336</td></tr><tr><td>Orlando</td><td>Nike Men's Free 5.0+ Running Shoe</td><td>107</td><td>10698.929969787598</td></tr><tr><td>Modesto</td><td>Nike Men's Dri-FIT Victory Golf Polo</td><td>106</td><td>5300.0</td></tr><tr><td>Fort Lauderdale</td><td>Under Armour Girls' Toddler Spine Surge Runni</td><td>106</td><td>4238.9400634765625</td></tr><tr><td>Costa Mesa</td><td>Perfect Fitness Perfect Rip Deck</td><td>106</td><td>6358.94021987915</td></tr><tr><td>Amarillo</td><td>O'Brien Men's Neoprene Life Vest</td><td>105</td><td>5247.899959564209</td></tr><tr><td>Mission Viejo</td><td>Perfect Fitness Perfect Rip Deck</td><td>105</td><td>6298.950164794922</td></tr><tr><td>San Bernardino</td><td>Nike Men's Dri-FIT Victory Golf Polo</td><td>105</td><td>5250.0</td></tr><tr><td>San Bernardino</td><td>Perfect Fitness Perfect Rip Deck</td><td>105</td><td>6298.950180053711</td></tr><tr><td>Sugar Land</td><td>Nike Men's Dri-FIT Victory Golf Polo</td><td>104</td><td>5200.0</td></tr><tr><td>Van Nuys</td><td>Perfect Fitness Perfect Rip Deck</td><td>104</td><td>6238.960155487061</td></tr><tr><td>Eugene</td><td>Perfect Fitness Perfect Rip Deck</td><td>104</td><td>6238.960178375244</td></tr><tr><td>Sacramento</td><td>Nike Men's Dri-FIT Victory Golf Polo</td><td>104</td><td>5200.0</td></tr><tr><td>Mesa</td><td>Nike Men's Dri-FIT Victory Golf Polo</td><td>104</td><td>5200.0</td></tr><tr><td>Pompano Beach</td><td>Nike Men's Free 5.0+ Running Shoe</td><td>104</td><td>10398.959953308105</td></tr><tr><td>Santa Cruz</td><td>Perfect Fitness Perfect Rip Deck</td><td>103</td><td>6178.970176696777</td></tr><tr><td>Modesto</td><td>Perfect Fitness Perfect Rip Deck</td><td>103</td><td>6178.9701499938965</td></tr><tr><td>Salt Lake City</td><td>O'Brien Men's Neoprene Life Vest</td><td>103</td><td>5147.939960479736</td></tr><tr><td>Union City</td><td>Nike Men's Dri-FIT Victory Golf Polo</td><td>103</td><td>5150.0</td></tr><tr><td>Meridian</td><td>Perfect Fitness Perfect Rip Deck</td><td>103</td><td>6178.970169067383</td></tr><tr><td>Fullerton</td><td>Perfect Fitness Perfect Rip Deck</td><td>103</td><td>6178.970176696777</td></tr><tr><td>Hayward</td><td>Perfect Fitness Perfect Rip Deck</td><td>103</td><td>6178.970142364502</td></tr><tr><td>Escondido</td><td>Under Armour Girls' Toddler Spine Surge Runni</td><td>102</td><td>4078.9800605773926</td></tr><tr><td>Jacksonville</td><td>Perfect Fitness Perfect Rip Deck</td><td>102</td><td>6118.980182647705</td></tr><tr><td>Lakewood</td><td>Perfect Fitness Perfect Rip Deck</td><td>102</td><td>6118.980155944824</td></tr><tr><td>Mission Viejo</td><td>Nike Men's Dri-FIT Victory Golf Polo</td><td>102</td><td>5100.0</td></tr><tr><td>Mission Viejo</td><td>O'Brien Men's Neoprene Life Vest</td><td>102</td><td>5097.959941864014</td></tr><tr><td>Richmond</td><td>Nike Men's Free 5.0+ Running Shoe</td><td>102</td><td>10198.980003356934</td></tr><tr><td>Riverside</td><td>Nike Men's Dri-FIT Victory Golf Polo</td><td>102</td><td>5100.0</td></tr><tr><td>Winnetka</td><td>Perfect Fitness Perfect Rip Deck</td><td>102</td><td>6118.980155944824</td></tr><tr><td>Santa Ana</td><td>Nike Men's Free 5.0+ Running Shoe</td><td>102</td><td>10198.980018615723</td></tr><tr><td>Staten Island</td><td>Perfect Fitness Perfect Rip Deck</td><td>102</td><td>6118.980175018311</td></tr><tr><td>Anaheim</td><td>Perfect Fitness Perfect Rip Deck</td><td>102</td><td>6118.980163574219</td></tr><tr><td>Carlsbad</td><td>Perfect Fitness Perfect Rip Deck</td><td>102</td><td>6118.980163574219</td></tr><tr><td>Newburgh</td><td>Nike Men's Dri-FIT Victory Golf Polo</td><td>102</td><td>5100.0</td></tr><tr><td>Brownsville</td><td>Perfect Fitness Perfect Rip Deck</td><td>101</td><td>6058.990177154541</td></tr><tr><td>Ontario</td><td>O'Brien Men's Neoprene Life Vest</td><td>101</td><td>5047.97993850708</td></tr><tr><td>Jacksonville</td><td>O'Brien Men's Neoprene Life Vest</td><td>101</td><td>5047.979934692383</td></tr><tr><td>Jersey City</td><td>Perfect Fitness Perfect Rip Deck</td><td>101</td><td>6058.99015045166</td></tr><tr><td>Rome</td><td>Perfect Fitness Perfect Rip Deck</td><td>100</td><td>5999.000164031982</td></tr><tr><td>Santa Ana</td><td>Under Armour Girls' Toddler Spine Surge Runni</td><td>100</td><td>3999.0000648498535</td></tr><tr><td>Middletown</td><td>Nike Men's Dri-FIT Victory Golf Polo</td><td>100</td><td>5000.0</td></tr><tr><td>Pompano Beach</td><td>Under Armour Girls' Toddler Spine Surge Runni</td><td>100</td><td>3999.0000648498535</td></tr><tr><td>Garden Grove</td><td>Perfect Fitness Perfect Rip Deck</td><td>100</td><td>5999.000148773193</td></tr><tr><td>Apex</td><td>Nike Men's Dri-FIT Victory Golf Polo</td><td>100</td><td>5000.0</td></tr><tr><td>Newark</td><td>Under Armour Girls' Toddler Spine Surge Runni</td><td>99</td><td>3959.0100708007812</td></tr><tr><td>Roswell</td><td>Perfect Fitness Perfect Rip Deck</td><td>99</td><td>5939.010177612305</td></tr><tr><td>Sacramento</td><td>O'Brien Men's Neoprene Life Vest</td><td>99</td><td>4948.019969940186</td></tr><tr><td>Greeley</td><td>Nike Men's Dri-FIT Victory Golf Polo</td><td>99</td><td>4950.0</td></tr><tr><td>Middletown</td><td>O'Brien Men's Neoprene Life Vest</td><td>99</td><td>4948.019950866699</td></tr><tr><td>Elyria</td><td>Perfect Fitness Perfect Rip Deck</td><td>98</td><td>5879.020175933838</td></tr><tr><td>Riverside</td><td>Nike Men's Free 5.0+ Running Shoe</td><td>98</td><td>9799.019981384277</td></tr><tr><td>Encinitas</td><td>Perfect Fitness Perfect Rip Deck</td><td>98</td><td>5879.020137786865</td></tr><tr><td>Glendale</td><td>Perfect Fitness Perfect Rip Deck</td><td>98</td><td>5879.020168304443</td></tr><tr><td>Middletown</td><td>Perfect Fitness Perfect Rip Deck</td><td>98</td><td>5879.020160675049</td></tr><tr><td>Glendale</td><td>O'Brien Men's Neoprene Life Vest</td><td>98</td><td>4898.039966583252</td></tr><tr><td>Hayward</td><td>Nike Men's Free 5.0+ Running Shoe</td><td>98</td><td>9799.019966125488</td></tr><tr><td>West Chester</td><td>Nike Men's Free 5.0+ Running Shoe</td><td>97</td><td>9699.030006408691</td></tr><tr><td>Pomona</td><td>Perfect Fitness Perfect Rip Deck</td><td>97</td><td>5819.030158996582</td></tr><tr><td>Lockport</td><td>Perfect Fitness Perfect Rip Deck</td><td>97</td><td>5819.030158996582</td></tr><tr><td>Ann Arbor</td><td>Nike Men's Dri-FIT Victory Golf Polo</td><td>97</td><td>4850.0</td></tr><tr><td>Wayne</td><td>Perfect Fitness Perfect Rip Deck</td><td>96</td><td>5759.040176391602</td></tr><tr><td>Winnetka</td><td>O'Brien Men's Neoprene Life Vest</td><td>96</td><td>4798.0799560546875</td></tr><tr><td>Simi Valley</td><td>O'Brien Men's Neoprene Life Vest</td><td>95</td><td>4748.099956512451</td></tr><tr><td>Albuquerque</td><td>Under Armour Girls' Toddler Spine Surge Runni</td><td>95</td><td>3799.050064086914</td></tr><tr><td>New Orleans</td><td>Under Armour Girls' Toddler Spine Surge Runni</td><td>95</td><td>3799.050048828125</td></tr><tr><td>Moreno Valley</td><td>Perfect Fitness Perfect Rip Deck</td><td>94</td><td>5639.060165405273</td></tr><tr><td>Apex</td><td>Perfect Fitness Perfect Rip Deck</td><td>94</td><td>5639.060146331787</td></tr><tr><td>Carlisle</td><td>Perfect Fitness Perfect Rip Deck</td><td>94</td><td>5639.060169219971</td></tr><tr><td>Louisville</td><td>Perfect Fitness Perfect Rip Deck</td><td>94</td><td>5639.060165405273</td></tr><tr><td>Denver</td><td>Perfect Fitness Perfect Rip Deck</td><td>94</td><td>5639.060165405273</td></tr><tr><td>Florissant</td><td>O'Brien Men's Neoprene Life Vest</td><td>94</td><td>4698.119960784912</td></tr><tr><td>York</td><td>Perfect Fitness Perfect Rip Deck</td><td>93</td><td>5579.07014465332</td></tr><tr><td>Irving</td><td>Perfect Fitness Perfect Rip Deck</td><td>93</td><td>5579.070175170898</td></tr><tr><td>Modesto</td><td>O'Brien Men's Neoprene Life Vest</td><td>93</td><td>4648.139938354492</td></tr><tr><td>Garden Grove</td><td>Nike Men's Dri-FIT Victory Golf Polo</td><td>93</td><td>4650.0</td></tr><tr><td>Carlsbad</td><td>O'Brien Men's Neoprene Life Vest</td><td>93</td><td>4648.139949798584</td></tr><tr><td>Hyattsville</td><td>Perfect Fitness Perfect Rip Deck</td><td>92</td><td>5519.080150604248</td></tr><tr><td>Daly City</td><td>Perfect Fitness Perfect Rip Deck</td><td>92</td><td>5519.080165863037</td></tr><tr><td>Indianapolis</td><td>Perfect Fitness Perfect Rip Deck</td><td>92</td><td>5519.080158233643</td></tr><tr><td>Saint Louis</td><td>Nike Men's Free 5.0+ Running Shoe</td><td>92</td><td>9199.079933166504</td></tr><tr><td>Stockton</td><td>Nike Men's Dri-FIT Victory Golf Polo</td><td>92</td><td>4600.0</td></tr><tr><td>Fayetteville</td><td>Perfect Fitness Perfect Rip Deck</td><td>92</td><td>5519.08016204834</td></tr><tr><td>Hollywood</td><td>Nike Men's Dri-FIT Victory Golf Polo</td><td>92</td><td>4600.0</td></tr><tr><td>Long Beach</td><td>Under Armour Girls' Toddler Spine Surge Runni</td><td>91</td><td>3639.0900917053223</td></tr><tr><td>Salem</td><td>Nike Men's Dri-FIT Victory Golf Polo</td><td>91</td><td>4550.0</td></tr><tr><td>West Covina</td><td>O'Brien Men's Neoprene Life Vest</td><td>91</td><td>4548.179954528809</td></tr><tr><td>Augusta</td><td>O'Brien Men's Neoprene Life Vest</td><td>91</td><td>4548.179954528809</td></tr><tr><td>Bend</td><td>Nike Men's Dri-FIT Victory Golf Polo</td><td>91</td><td>4550.0</td></tr><tr><td>Austin</td><td>Nike Men's Dri-FIT Victory Golf Polo</td><td>90</td><td>4500.0</td></tr><tr><td>San Juan</td><td>O'Brien Men's Neoprene Life Vest</td><td>90</td><td>4498.1999588012695</td></tr><tr><td>Staten Island</td><td>O'Brien Men's Neoprene Life Vest</td><td>90</td><td>4498.199932098389</td></tr><tr><td>Eugene</td><td>O'Brien Men's Neoprene Life Vest</td><td>90</td><td>4498.199947357178</td></tr><tr><td>Fort Worth</td><td>Nike Men's Free 5.0+ Running Shoe</td><td>90</td><td>8999.099998474121</td></tr><tr><td>Plano</td><td>O'Brien Men's Neoprene Life Vest</td><td>90</td><td>4498.199962615967</td></tr><tr><td>Vista</td><td>Perfect Fitness Perfect Rip Deck</td><td>89</td><td>5339.11014175415</td></tr><tr><td>Bakersfield</td><td>Under Armour Girls' Toddler Spine Surge Runni</td><td>89</td><td>3559.1100578308105</td></tr><tr><td>Chandler</td><td>Perfect Fitness Perfect Rip Deck</td><td>89</td><td>5339.110137939453</td></tr><tr><td>Sugar Land</td><td>O'Brien Men's Neoprene Life Vest</td><td>88</td><td>4398.239959716797</td></tr><tr><td>Oxnard</td><td>Nike Men's Dri-FIT Victory Golf Polo</td><td>88</td><td>4400.0</td></tr><tr><td>Elgin</td><td>Nike Men's Free 5.0+ Running Shoe</td><td>88</td><td>8799.119972229004</td></tr><tr><td>Fort Worth</td><td>Under Armour Girls' Toddler Spine Surge Runni</td><td>88</td><td>3519.1200828552246</td></tr><tr><td>San Bernardino</td><td>O'Brien Men's Neoprene Life Vest</td><td>87</td><td>4348.259967803955</td></tr><tr><td>San Francisco</td><td>Under Armour Girls' Toddler Spine Surge Runni</td><td>87</td><td>3479.1300506591797</td></tr><tr><td>Seattle</td><td>Perfect Fitness Perfect Rip Deck</td><td>87</td><td>5219.130165100098</td></tr><tr><td>Greenville</td><td>Nike Men's Dri-FIT Victory Golf Polo</td><td>87</td><td>4350.0</td></tr><tr><td>Yonkers</td><td>Perfect Fitness Perfect Rip Deck</td><td>87</td><td>5219.130142211914</td></tr><tr><td>Greensboro</td><td>Nike Men's Dri-FIT Victory Golf Polo</td><td>87</td><td>4350.0</td></tr><tr><td>Carol Stream</td><td>Perfect Fitness Perfect Rip Deck</td><td>87</td><td>5219.130165100098</td></tr><tr><td>Del Rio</td><td>Perfect Fitness Perfect Rip Deck</td><td>87</td><td>5219.130142211914</td></tr><tr><td>Chula Vista</td><td>Nike Men's Dri-FIT Victory Golf Polo</td><td>85</td><td>4250.0</td></tr><tr><td>Sunnyvale</td><td>Nike Men's Dri-FIT Victory Golf Polo</td><td>85</td><td>4250.0</td></tr><tr><td>Irwin</td><td>Perfect Fitness Perfect Rip Deck</td><td>84</td><td>5039.160129547119</td></tr><tr><td>Corona</td><td>Nike Men's Free 5.0+ Running Shoe</td><td>84</td><td>8399.159957885742</td></tr><tr><td>La Crosse</td><td>Nike Men's Dri-FIT Victory Golf Polo</td><td>84</td><td>4200.0</td></tr><tr><td>Wichita</td><td>O'Brien Men's Neoprene Life Vest</td><td>84</td><td>4198.319953918457</td></tr><tr><td>Florissant</td><td>Nike Men's Dri-FIT Victory Golf Polo</td><td>84</td><td>4200.0</td></tr><tr><td>Hayward</td><td>Nike Men's Dri-FIT Victory Golf Polo</td><td>84</td><td>4200.0</td></tr><tr><td>Glendale</td><td>Nike Men's Dri-FIT Victory Golf Polo</td><td>84</td><td>4200.0</td></tr><tr><td>Hamilton</td><td>Perfect Fitness Perfect Rip Deck</td><td>84</td><td>5039.160144805908</td></tr><tr><td>Milford</td><td>Nike Men's Dri-FIT Victory Golf Polo</td><td>83</td><td>4150.0</td></tr><tr><td>Orlando</td><td>Under Armour Girls' Toddler Spine Surge Runni</td><td>83</td><td>3319.1700286865234</td></tr><tr><td>Saint Paul</td><td>Under Armour Girls' Toddler Spine Surge Runni</td><td>83</td><td>3319.170063018799</td></tr><tr><td>Princeton</td><td>Perfect Fitness Perfect Rip Deck</td><td>83</td><td>4979.17013168335</td></tr><tr><td>San Benito</td><td>Perfect Fitness Perfect Rip Deck</td><td>83</td><td>4979.170124053955</td></tr><tr><td>Sunnyvale</td><td>Perfect Fitness Perfect Rip Deck</td><td>83</td><td>4979.170146942139</td></tr><tr><td>Tallahassee</td><td>O'Brien Men's Neoprene Life Vest</td><td>83</td><td>4148.339958190918</td></tr><tr><td>Winnetka</td><td>Nike Men's Dri-FIT Victory Golf Polo</td><td>83</td><td>4150.0</td></tr><tr><td>Loveland</td><td>Nike Men's Dri-FIT Victory Golf Polo</td><td>83</td><td>4150.0</td></tr><tr><td>Oxnard</td><td>O'Brien Men's Neoprene Life Vest</td><td>83</td><td>4148.339962005615</td></tr><tr><td>Portland</td><td>Under Armour Girls' Toddler Spine Surge Runni</td><td>83</td><td>3319.1700592041016</td></tr><tr><td>Lancaster</td><td>Nike Men's CJ Elite 2 TD Football Cleat</td><td>83</td><td>10789.170455932617</td></tr><tr><td>Jacksonville</td><td>Nike Men's Dri-FIT Victory Golf Polo</td><td>83</td><td>4150.0</td></tr><tr><td>New Bedford</td><td>Nike Men's Dri-FIT Victory Golf Polo</td><td>82</td><td>4100.0</td></tr><tr><td>North Hollywood</td><td>Perfect Fitness Perfect Rip Deck</td><td>82</td><td>4919.180130004883</td></tr><tr><td>Plymouth</td><td>Perfect Fitness Perfect Rip Deck</td><td>82</td><td>4919.18013381958</td></tr><tr><td>Union City</td><td>Perfect Fitness Perfect Rip Deck</td><td>82</td><td>4919.180141448975</td></tr><tr><td>Hialeah</td><td>Nike Men's Free 5.0+ Running Shoe</td><td>82</td><td>8199.18002319336</td></tr><tr><td>Irving</td><td>O'Brien Men's Neoprene Life Vest</td><td>82</td><td>4098.3599853515625</td></tr><tr><td>Carrollton</td><td>Perfect Fitness Perfect Rip Deck</td><td>82</td><td>4919.180137634277</td></tr><tr><td>Brownsville</td><td>Nike Men's Dri-FIT Victory Golf Polo</td><td>82</td><td>4100.0</td></tr><tr><td>Apex</td><td>O'Brien Men's Neoprene Life Vest</td><td>81</td><td>4048.3799629211426</td></tr><tr><td>Bell Gardens</td><td>O'Brien Men's Neoprene Life Vest</td><td>81</td><td>4048.3799591064453</td></tr><tr><td>Mesa</td><td>Perfect Fitness Perfect Rip Deck</td><td>81</td><td>4859.190143585205</td></tr><tr><td>Milford</td><td>O'Brien Men's Neoprene Life Vest</td><td>81</td><td>4048.37996673584</td></tr><tr><td>Moline</td><td>Nike Men's Dri-FIT Victory Golf Polo</td><td>81</td><td>4050.0</td></tr><tr><td>Roswell</td><td>Nike Men's Dri-FIT Victory Golf Polo</td><td>81</td><td>4050.0</td></tr><tr><td>Carlisle</td><td>Nike Men's Dri-FIT Victory Golf Polo</td><td>81</td><td>4050.0</td></tr><tr><td>Round Rock</td><td>Perfect Fitness Perfect Rip Deck</td><td>81</td><td>4859.190147399902</td></tr><tr><td>Spring Valley</td><td>O'Brien Men's Neoprene Life Vest</td><td>81</td><td>4048.3799476623535</td></tr><tr><td>El Cajon</td><td>Perfect Fitness Perfect Rip Deck</td><td>81</td><td>4859.190147399902</td></tr><tr><td>Wyoming</td><td>Perfect Fitness Perfect Rip Deck</td><td>81</td><td>4859.190128326416</td></tr><tr><td>Fremont</td><td>Nike Men's Dri-FIT Victory Golf Polo</td><td>81</td><td>4050.0</td></tr><tr><td>Ontario</td><td>Nike Men's Free 5.0+ Running Shoe</td><td>81</td><td>8099.190002441406</td></tr><tr><td>Humacao</td><td>O'Brien Men's Neoprene Life Vest</td><td>80</td><td>3998.399959564209</td></tr><tr><td>Marietta</td><td>Under Armour Girls' Toddler Spine Surge Runni</td><td>80</td><td>3199.200065612793</td></tr><tr><td>Moline</td><td>Perfect Fitness Perfect Rip Deck</td><td>80</td><td>4799.200134277344</td></tr><tr><td>Tallahassee</td><td>Perfect Fitness Perfect Rip Deck</td><td>80</td><td>4799.200138092041</td></tr><tr><td>Oregon City</td><td>O'Brien Men's Neoprene Life Vest</td><td>80</td><td>3998.399971008301</td></tr><tr><td>Saint Louis</td><td>Under Armour Girls' Toddler Spine Surge Runni</td><td>80</td><td>3199.2000465393066</td></tr><tr><td>Bowling Green</td><td>Perfect Fitness Perfect Rip Deck</td><td>80</td><td>4799.2001304626465</td></tr><tr><td>Hamilton</td><td>Nike Men's Dri-FIT Victory Golf Polo</td><td>80</td><td>4000.0</td></tr><tr><td>Kent</td><td>Perfect Fitness Perfect Rip Deck</td><td>80</td><td>4799.200149536133</td></tr><tr><td>Highland</td><td>Perfect Fitness Perfect Rip Deck</td><td>79</td><td>4739.21012878418</td></tr><tr><td>Panorama City</td><td>Perfect Fitness Perfect Rip Deck</td><td>79</td><td>4739.210109710693</td></tr><tr><td>Pomona</td><td>O'Brien Men's Neoprene Life Vest</td><td>79</td><td>3948.4199752807617</td></tr><tr><td>Salinas</td><td>Perfect Fitness Perfect Rip Deck</td><td>79</td><td>4739.2101402282715</td></tr><tr><td>Roswell</td><td>O'Brien Men's Neoprene Life Vest</td><td>79</td><td>3948.41996383667</td></tr><tr><td>Ventura</td><td>Perfect Fitness Perfect Rip Deck</td><td>79</td><td>4739.210117340088</td></tr><tr><td>Ann Arbor</td><td>Perfect Fitness Perfect Rip Deck</td><td>79</td><td>4739.210124969482</td></tr><tr><td>Granada Hills</td><td>Nike Men's Dri-FIT Victory Golf Polo</td><td>79</td><td>3950.0</td></tr><tr><td>Anaheim</td><td>Under Armour Girls' Toddler Spine Surge Runni</td><td>79</td><td>3159.210075378418</td></tr><tr><td>Jackson</td><td>Perfect Fitness Perfect Rip Deck</td><td>78</td><td>4679.220146179199</td></tr><tr><td>Mayaguez</td><td>Perfect Fitness Perfect Rip Deck</td><td>78</td><td>4679.220142364502</td></tr><tr><td>Oceanside</td><td>Nike Men's Free 5.0+ Running Shoe</td><td>78</td><td>7799.220001220703</td></tr><tr><td>Oregon City</td><td>Perfect Fitness Perfect Rip Deck</td><td>78</td><td>4679.220134735107</td></tr><tr><td>Fullerton</td><td>Nike Men's Dri-FIT Victory Golf Polo</td><td>78</td><td>3900.0</td></tr><tr><td>Hamilton</td><td>O'Brien Men's Neoprene Life Vest</td><td>78</td><td>3898.439971923828</td></tr><tr><td>San Juan</td><td>Nike Men's Free 5.0+ Running Shoe</td><td>78</td><td>7799.219985961914</td></tr><tr><td>Endicott</td><td>Nike Men's Free 5.0+ Running Shoe</td><td>78</td><td>7799.220031738281</td></tr><tr><td>Cumberland</td><td>Nike Men's Dri-FIT Victory Golf Polo</td><td>78</td><td>3900.0</td></tr><tr><td>East Lansing</td><td>Nike Men's Dri-FIT Victory Golf Polo</td><td>78</td><td>3900.0</td></tr><tr><td>Cumberland</td><td>Perfect Fitness Perfect Rip Deck</td><td>77</td><td>4619.230136871338</td></tr><tr><td>Fairfield</td><td>O'Brien Men's Neoprene Life Vest</td><td>77</td><td>3848.459945678711</td></tr><tr><td>Harvey</td><td>Perfect Fitness Perfect Rip Deck</td><td>77</td><td>4619.230133056641</td></tr><tr><td>Lawrence</td><td>Nike Men's Dri-FIT Victory Golf Polo</td><td>77</td><td>3850.0</td></tr><tr><td>Walnut</td><td>Perfect Fitness Perfect Rip Deck</td><td>77</td><td>4619.230125427246</td></tr><tr><td>Augusta</td><td>Perfect Fitness Perfect Rip Deck</td><td>77</td><td>4619.230136871338</td></tr><tr><td>Austin</td><td>Perfect Fitness Perfect Rip Deck</td><td>77</td><td>4619.23010635376</td></tr><tr><td>Milford</td><td>Perfect Fitness Perfect Rip Deck</td><td>77</td><td>4619.230125427246</td></tr><tr><td>Carol Stream</td><td>Nike Men's Dri-FIT Victory Golf Polo</td><td>77</td><td>3850.0</td></tr><tr><td>Loveland</td><td>Perfect Fitness Perfect Rip Deck</td><td>77</td><td>4619.230117797852</td></tr><tr><td>Fontana</td><td>Nike Men's Dri-FIT Victory Golf Polo</td><td>76</td><td>3800.0</td></tr><tr><td>Rowland Heights</td><td>Nike Men's Dri-FIT Victory Golf Polo</td><td>76</td><td>3800.0</td></tr><tr><td>Jacksonville</td><td>Nike Men's Free 5.0+ Running Shoe</td><td>76</td><td>7599.240005493164</td></tr><tr><td>Salt Lake City</td><td>Under Armour Girls' Toddler Spine Surge Runni</td><td>76</td><td>3039.240047454834</td></tr><tr><td>Santa Cruz</td><td>O'Brien Men's Neoprene Life Vest</td><td>76</td><td>3798.4799423217773</td></tr><tr><td>Lockport</td><td>O'Brien Men's Neoprene Life Vest</td><td>76</td><td>3798.4799728393555</td></tr><tr><td>Winter Park</td><td>Perfect Fitness Perfect Rip Deck</td><td>76</td><td>4559.240139007568</td></tr><tr><td>Opelousas</td><td>Perfect Fitness Perfect Rip Deck</td><td>76</td><td>4559.240146636963</td></tr><tr><td>Rochester</td><td>Perfect Fitness Perfect Rip Deck</td><td>76</td><td>4559.240123748779</td></tr><tr><td>Catonsville</td><td>Perfect Fitness Perfect Rip Deck</td><td>76</td><td>4559.240119934082</td></tr><tr><td>Milwaukee</td><td>Nike Men's Dri-FIT Victory Golf Polo</td><td>75</td><td>3750.0</td></tr><tr><td>Lake Forest</td><td>O'Brien Men's Neoprene Life Vest</td><td>75</td><td>3748.49995803833</td></tr><tr><td>Piscataway</td><td>Nike Men's Dri-FIT Victory Golf Polo</td><td>75</td><td>3750.0</td></tr><tr><td>Princeton</td><td>Nike Men's Dri-FIT Victory Golf Polo</td><td>75</td><td>3750.0</td></tr><tr><td>San Marcos</td><td>Nike Men's Dri-FIT Victory Golf Polo</td><td>75</td><td>3750.0</td></tr><tr><td>Stamford</td><td>Perfect Fitness Perfect Rip Deck</td><td>75</td><td>4499.250152587891</td></tr><tr><td>Sugar Land</td><td>Perfect Fitness Perfect Rip Deck</td><td>75</td><td>4499.250102996826</td></tr><tr><td>Chesapeake</td><td>Perfect Fitness Perfect Rip Deck</td><td>75</td><td>4499.250141143799</td></tr><tr><td>Ventura</td><td>Nike Men's Dri-FIT Victory Golf Polo</td><td>75</td><td>3750.0</td></tr><tr><td>West Covina</td><td>Nike Men's Dri-FIT Victory Golf Polo</td><td>75</td><td>3750.0</td></tr><tr><td>College Station</td><td>Nike Men's Dri-FIT Victory Golf Polo</td><td>75</td><td>3750.0</td></tr><tr><td>Hanford</td><td>Nike Men's Dri-FIT Victory Golf Polo</td><td>75</td><td>3750.0</td></tr><tr><td>Columbia</td><td>O'Brien Men's Neoprene Life Vest</td><td>75</td><td>3748.4999656677246</td></tr><tr><td>Gardena</td><td>O'Brien Men's Neoprene Life Vest</td><td>75</td><td>3748.499969482422</td></tr><tr><td>Garden Grove</td><td>Nike Men's Free 5.0+ Running Shoe</td><td>74</td><td>7399.260063171387</td></tr><tr><td>Daly City</td><td>O'Brien Men's Neoprene Life Vest</td><td>74</td><td>3698.519973754883</td></tr><tr><td>Freeport</td><td>Nike Men's Dri-FIT Victory Golf Polo</td><td>74</td><td>3700.0</td></tr><tr><td>Hickory</td><td>Perfect Fitness Perfect Rip Deck</td><td>74</td><td>4439.260139465332</td></tr><tr><td>Troy</td><td>Perfect Fitness Perfect Rip Deck</td><td>74</td><td>4439.260105133057</td></tr><tr><td>Van Nuys</td><td>O'Brien Men's Neoprene Life Vest</td><td>74</td><td>3698.51997756958</td></tr><tr><td>Zanesville</td><td>Nike Men's Dri-FIT Victory Golf Polo</td><td>74</td><td>3700.0</td></tr><tr><td>Oceanside</td><td>Under Armour Girls' Toddler Spine Surge Runni</td><td>74</td><td>2959.260055541992</td></tr><tr><td>Pharr</td><td>Perfect Fitness Perfect Rip Deck</td><td>74</td><td>4439.26012802124</td></tr><tr><td>Plymouth</td><td>O'Brien Men's Neoprene Life Vest</td><td>74</td><td>3698.5199546813965</td></tr><tr><td>North Richland Hills</td><td>O'Brien Men's Neoprene Life Vest</td><td>74</td><td>3698.519989013672</td></tr><tr><td>Catonsville</td><td>O'Brien Men's Neoprene Life Vest</td><td>74</td><td>3698.5199432373047</td></tr><tr><td>Montebello</td><td>Perfect Fitness Perfect Rip Deck</td><td>74</td><td>4439.2601318359375</td></tr><tr><td>Bridgeton</td><td>Nike Men's Dri-FIT Victory Golf Polo</td><td>73</td><td>3650.0</td></tr><tr><td>Del Rio</td><td>Nike Men's Dri-FIT Victory Golf Polo</td><td>73</td><td>3650.0</td></tr><tr><td>Denver</td><td>O'Brien Men's Neoprene Life Vest</td><td>73</td><td>3648.539966583252</td></tr><tr><td>Fond Du Lac</td><td>Perfect Fitness Perfect Rip Deck</td><td>73</td><td>4379.270137786865</td></tr><tr><td>Hyattsville</td><td>O'Brien Men's Neoprene Life Vest</td><td>73</td><td>3648.539966583252</td></tr><tr><td>Carrollton</td><td>O'Brien Men's Neoprene Life Vest</td><td>73</td><td>3648.5399742126465</td></tr><tr><td>Hyattsville</td><td>Nike Men's Dri-FIT Victory Golf Polo</td><td>73</td><td>3650.0</td></tr><tr><td>Jersey City</td><td>Nike Men's Dri-FIT Victory Golf Polo</td><td>73</td><td>3650.0</td></tr><tr><td>Las Cruces</td><td>Perfect Fitness Perfect Rip Deck</td><td>73</td><td>4379.270118713379</td></tr><tr><td>Longmont</td><td>O'Brien Men's Neoprene Life Vest</td><td>73</td><td>3648.5399589538574</td></tr><tr><td>Manati</td><td>O'Brien Men's Neoprene Life Vest</td><td>73</td><td>3648.539970397949</td></tr><tr><td>Mayaguez</td><td>Nike Men's Dri-FIT Victory Golf Polo</td><td>73</td><td>3650.0</td></tr><tr><td>Ogden</td><td>Perfect Fitness Perfect Rip Deck</td><td>73</td><td>4379.270130157471</td></tr><tr><td>Chandler</td><td>Nike Men's Dri-FIT Victory Golf Polo</td><td>73</td><td>3650.0</td></tr><tr><td>Salem</td><td>O'Brien Men's Neoprene Life Vest</td><td>73</td><td>3648.53995513916</td></tr><tr><td>South El Monte</td><td>Perfect Fitness Perfect Rip Deck</td><td>73</td><td>4379.270122528076</td></tr><tr><td>Columbia</td><td>Nike Men's Dri-FIT Victory Golf Polo</td><td>73</td><td>3650.0</td></tr><tr><td>Woodbridge</td><td>Perfect Fitness Perfect Rip Deck</td><td>73</td><td>4379.2701416015625</td></tr><tr><td>Fresno</td><td>Nike Men's Free 5.0+ Running Shoe</td><td>73</td><td>7299.269973754883</td></tr><tr><td>Mount Prospect</td><td>Perfect Fitness Perfect Rip Deck</td><td>73</td><td>4379.270126342773</td></tr><tr><td>Atlanta</td><td>Nike Men's Free 5.0+ Running Shoe</td><td>73</td><td>7299.269920349121</td></tr><tr><td>Lake Forest</td><td>Perfect Fitness Perfect Rip Deck</td><td>72</td><td>4319.280113220215</td></tr><tr><td>New Haven</td><td>Perfect Fitness Perfect Rip Deck</td><td>72</td><td>4319.280117034912</td></tr><tr><td>Strongsville</td><td>Nike Men's Dri-FIT Victory Golf Polo</td><td>72</td><td>3600.0</td></tr><tr><td>North Hills</td><td>Perfect Fitness Perfect Rip Deck</td><td>72</td><td>4319.280132293701</td></tr><tr><td>San Marcos</td><td>O'Brien Men's Neoprene Life Vest</td><td>72</td><td>3598.5599670410156</td></tr><tr><td>Chandler</td><td>O'Brien Men's Neoprene Life Vest</td><td>72</td><td>3598.559970855713</td></tr><tr><td>Denver</td><td>Nike Men's Dri-FIT Victory Golf Polo</td><td>72</td><td>3600.0</td></tr><tr><td>Freeport</td><td>Perfect Fitness Perfect Rip Deck</td><td>71</td><td>4259.29012298584</td></tr><tr><td>Highland</td><td>O'Brien Men's Neoprene Life Vest</td><td>71</td><td>3548.5799407958984</td></tr><tr><td>Hamtramck</td><td>Nike Men's Dri-FIT Victory Golf Polo</td><td>71</td><td>3550.0</td></tr><tr><td>Jamaica</td><td>O'Brien Men's Neoprene Life Vest</td><td>71</td><td>3548.5799674987793</td></tr><tr><td>Mission</td><td>Perfect Fitness Perfect Rip Deck</td><td>71</td><td>4259.290115356445</td></tr><tr><td>Opa Locka</td><td>Perfect Fitness Perfect Rip Deck</td><td>71</td><td>4259.290130615234</td></tr><tr><td>Pekin</td><td>O'Brien Men's Neoprene Life Vest</td><td>71</td><td>3548.579948425293</td></tr><tr><td>Tustin</td><td>Perfect Fitness Perfect Rip Deck</td><td>71</td><td>4259.2901039123535</td></tr><tr><td>Campbell</td><td>Perfect Fitness Perfect Rip Deck</td><td>71</td><td>4259.290119171143</td></tr><tr><td>Van Nuys</td><td>Nike Men's Dri-FIT Victory Golf Polo</td><td>71</td><td>3550.0</td></tr><tr><td>Daly City</td><td>Nike Men's Dri-FIT Victory Golf Polo</td><td>71</td><td>3550.0</td></tr><tr><td>Raleigh</td><td>Nike Men's Free 5.0+ Running Shoe</td><td>71</td><td>7099.289993286133</td></tr><tr><td>Dorchester Center</td><td>Perfect Fitness Perfect Rip Deck</td><td>71</td><td>4259.29012298584</td></tr><tr><td>Fontana</td><td>Perfect Fitness Perfect Rip Deck</td><td>71</td><td>4259.2901039123535</td></tr><tr><td>Augusta</td><td>Nike Men's Dri-FIT Victory Golf Polo</td><td>71</td><td>3550.0</td></tr><tr><td>Hanford</td><td>Perfect Fitness Perfect Rip Deck</td><td>70</td><td>4199.300121307373</td></tr><tr><td>Fairfield</td><td>Perfect Fitness Perfect Rip Deck</td><td>70</td><td>4199.300117492676</td></tr><tr><td>Humacao</td><td>Nike Men's Dri-FIT Victory Golf Polo</td><td>70</td><td>3500.0</td></tr><tr><td>Indianapolis</td><td>Nike Men's Dri-FIT Victory Golf Polo</td><td>70</td><td>3500.0</td></tr><tr><td>Indianapolis</td><td>O'Brien Men's Neoprene Life Vest</td><td>70</td><td>3498.5999603271484</td></tr><tr><td>Mission Viejo</td><td>Nike Men's Free 5.0+ Running Shoe</td><td>70</td><td>6999.300003051758</td></tr><tr><td>Mount Pleasant</td><td>O'Brien Men's Neoprene Life Vest</td><td>70</td><td>3498.5999488830566</td></tr><tr><td>Mount Prospect</td><td>Nike Men's Dri-FIT Victory Golf Polo</td><td>70</td><td>3500.0</td></tr><tr><td>North Hollywood</td><td>Nike Men's Dri-FIT Victory Golf Polo</td><td>70</td><td>3500.0</td></tr><tr><td>San Sebastian</td><td>Perfect Fitness Perfect Rip Deck</td><td>70</td><td>4199.300136566162</td></tr><tr><td>Compton</td><td>Nike Men's Dri-FIT Victory Golf Polo</td><td>70</td><td>3500.0</td></tr><tr><td>Tampa</td><td>Nike Men's Free 5.0+ Running Shoe</td><td>70</td><td>6999.300033569336</td></tr><tr><td>York</td><td>Nike Men's Dri-FIT Victory Golf Polo</td><td>70</td><td>3500.0</td></tr><tr><td>Tempe</td><td>Under Armour Girls' Toddler Spine Surge Runni</td><td>70</td><td>2799.3000564575195</td></tr><tr><td>York</td><td>O'Brien Men's Neoprene Life Vest</td><td>70</td><td>3498.5999794006348</td></tr><tr><td>Bloomfield</td><td>Perfect Fitness Perfect Rip Deck</td><td>70</td><td>4199.300132751465</td></tr><tr><td>Canton</td><td>Perfect Fitness Perfect Rip Deck</td><td>70</td><td>4199.300121307373</td></tr><tr><td>Enfield</td><td>O'Brien Men's Neoprene Life Vest</td><td>69</td><td>3448.619956970215</td></tr><tr><td>Milwaukee</td><td>O'Brien Men's Neoprene Life Vest</td><td>69</td><td>3448.619972229004</td></tr><tr><td>Mayaguez</td><td>O'Brien Men's Neoprene Life Vest</td><td>69</td><td>3448.619972229004</td></tr><tr><td>Mililani</td><td>Nike Men's Dri-FIT Victory Golf Polo</td><td>69</td><td>3450.0</td></tr><tr><td>Wyandotte</td><td>Perfect Fitness Perfect Rip Deck</td><td>69</td><td>4139.3101234436035</td></tr><tr><td>Raleigh</td><td>Nike Men's Dri-FIT Victory Golf Polo</td><td>69</td><td>3450.0</td></tr><tr><td>Ypsilanti</td><td>O'Brien Men's Neoprene Life Vest</td><td>69</td><td>3448.619972229004</td></tr><tr><td>Columbia</td><td>Nike Men's Free 5.0+ Running Shoe</td><td>69</td><td>6899.310081481934</td></tr><tr><td>Endicott</td><td>Perfect Fitness Perfect Rip Deck</td><td>69</td><td>4139.310131072998</td></tr><tr><td>Azusa</td><td>Nike Men's Dri-FIT Victory Golf Polo</td><td>69</td><td>3450.0</td></tr><tr><td>Anaheim</td><td>Nike Men's Free 5.0+ Running Shoe</td><td>69</td><td>6899.309997558594</td></tr><tr><td>Greeley</td><td>O'Brien Men's Neoprene Life Vest</td><td>68</td><td>3398.639976501465</td></tr><tr><td>Hampton</td><td>Perfect Fitness Perfect Rip Deck</td><td>68</td><td>4079.3201065063477</td></tr><tr><td>Jackson</td><td>O'Brien Men's Neoprene Life Vest</td><td>68</td><td>3398.6399841308594</td></tr><tr><td>La Mesa</td><td>O'Brien Men's Neoprene Life Vest</td><td>68</td><td>3398.639976501465</td></tr><tr><td>Levittown</td><td>Perfect Fitness Perfect Rip Deck</td><td>68</td><td>4079.3201217651367</td></tr><tr><td>Mililani</td><td>Perfect Fitness Perfect Rip Deck</td><td>68</td><td>4079.320125579834</td></tr><tr><td>Mechanicsburg</td><td>O'Brien Men's Neoprene Life Vest</td><td>68</td><td>3398.6399536132812</td></tr><tr><td>Potomac</td><td>O'Brien Men's Neoprene Life Vest</td><td>68</td><td>3398.6399574279785</td></tr><tr><td>San Benito</td><td>O'Brien Men's Neoprene Life Vest</td><td>68</td><td>3398.6399459838867</td></tr><tr><td>San Francisco</td><td>Nike Men's Free 5.0+ Running Shoe</td><td>68</td><td>6799.31999206543</td></tr><tr><td>San Juan</td><td>Under Armour Girls' Toddler Spine Surge Runni</td><td>68</td><td>2719.3200340270996</td></tr><tr><td>Tustin</td><td>O'Brien Men's Neoprene Life Vest</td><td>68</td><td>3398.6399688720703</td></tr><tr><td>Webster</td><td>Perfect Fitness Perfect Rip Deck</td><td>68</td><td>4079.3201026916504</td></tr><tr><td>York</td><td>Nike Men's Free 5.0+ Running Shoe</td><td>68</td><td>6799.320030212402</td></tr><tr><td>Carson</td><td>Perfect Fitness Perfect Rip Deck</td><td>68</td><td>4079.3200912475586</td></tr><tr><td>Granada Hills</td><td>O'Brien Men's Neoprene Life Vest</td><td>68</td><td>3398.6399536132812</td></tr><tr><td>Elyria</td><td>Nike Men's Dri-FIT Victory Golf Polo</td><td>68</td><td>3400.0</td></tr><tr><td>Enfield</td><td>Perfect Fitness Perfect Rip Deck</td><td>68</td><td>4079.3201332092285</td></tr><tr><td>Raleigh</td><td>Perfect Fitness Perfect Rip Deck</td><td>67</td><td>4019.3301315307617</td></tr><tr><td>Palatine</td><td>Perfect Fitness Perfect Rip Deck</td><td>67</td><td>4019.3300971984863</td></tr><tr><td>Plano</td><td>Perfect Fitness Perfect Rip Deck</td><td>67</td><td>4019.330108642578</td></tr><tr><td>San Marcos</td><td>Nike Men's Free 5.0+ Running Shoe</td><td>67</td><td>6699.3299560546875</td></tr><tr><td>Carlsbad</td><td>Nike Men's Dri-FIT Victory Golf Polo</td><td>67</td><td>3350.0</td></tr><tr><td>Newburgh</td><td>O'Brien Men's Neoprene Life Vest</td><td>67</td><td>3348.6599655151367</td></tr><tr><td>Laredo</td><td>Under Armour Girls' Toddler Spine Surge Runni</td><td>67</td><td>2679.330062866211</td></tr><tr><td>Newburgh</td><td>Perfect Fitness Perfect Rip Deck</td><td>67</td><td>4019.330123901367</td></tr><tr><td>Eugene</td><td>Nike Men's Free 5.0+ Running Shoe</td><td>66</td><td>6599.340019226074</td></tr><tr><td>Fairfield</td><td>Nike Men's Dri-FIT Victory Golf Polo</td><td>66</td><td>3300.0</td></tr><tr><td>Lockport</td><td>Nike Men's Dri-FIT Victory Golf Polo</td><td>66</td><td>3300.0</td></tr><tr><td>Endicott</td><td>O'Brien Men's Neoprene Life Vest</td><td>66</td><td>3298.6799659729004</td></tr><tr><td>Mechanicsburg</td><td>Perfect Fitness Perfect Rip Deck</td><td>66</td><td>3959.3401222229004</td></tr><tr><td>Fresno</td><td>Under Armour Girls' Toddler Spine Surge Runni</td><td>66</td><td>2639.340061187744</td></tr><tr><td>Richmond</td><td>Under Armour Girls' Toddler Spine Surge Runni</td><td>66</td><td>2639.3400650024414</td></tr><tr><td>Garden Grove</td><td>Under Armour Girls' Toddler Spine Surge Runni</td><td>66</td><td>2639.340061187744</td></tr><tr><td>Ogden</td><td>Nike Men's Dri-FIT Victory Golf Polo</td><td>66</td><td>3300.0</td></tr><tr><td>Catonsville</td><td>Nike Men's Dri-FIT Victory Golf Polo</td><td>66</td><td>3300.0</td></tr><tr><td>Cerritos</td><td>O'Brien Men's Neoprene Life Vest</td><td>66</td><td>3298.679973602295</td></tr><tr><td>Cerritos</td><td>Perfect Fitness Perfect Rip Deck</td><td>66</td><td>3959.340118408203</td></tr><tr><td>Arlington</td><td>Nike Men's Dri-FIT Victory Golf Polo</td><td>66</td><td>3300.0</td></tr><tr><td>Lake Forest</td><td>Nike Men's Free 5.0+ Running Shoe</td><td>65</td><td>6499.349967956543</td></tr><tr><td>Hamtramck</td><td>O'Brien Men's Neoprene Life Vest</td><td>65</td><td>3248.6999549865723</td></tr><tr><td>La Mirada</td><td>Nike Men's Dri-FIT Victory Golf Polo</td><td>65</td><td>3250.0</td></tr><tr><td>Manati</td><td>Nike Men's Dri-FIT Victory Golf Polo</td><td>65</td><td>3250.0</td></tr><tr><td>North Richland Hills</td><td>Perfect Fitness Perfect Rip Deck</td><td>65</td><td>3899.350109100342</td></tr><tr><td>Pawtucket</td><td>Perfect Fitness Perfect Rip Deck</td><td>65</td><td>3899.35009765625</td></tr><tr><td>San Benito</td><td>Nike Men's Free 5.0+ Running Shoe</td><td>65</td><td>6499.349998474121</td></tr><tr><td>Stockbridge</td><td>Perfect Fitness Perfect Rip Deck</td><td>65</td><td>3899.350112915039</td></tr><tr><td>Azusa</td><td>Perfect Fitness Perfect Rip Deck</td><td>65</td><td>3899.3501167297363</td></tr><tr><td>Gardena</td><td>Perfect Fitness Perfect Rip Deck</td><td>65</td><td>3899.350112915039</td></tr><tr><td>Vega Baja</td><td>O'Brien Men's Neoprene Life Vest</td><td>65</td><td>3248.6999549865723</td></tr><tr><td>Winnetka</td><td>Nike Men's Free 5.0+ Running Shoe</td><td>65</td><td>6499.350006103516</td></tr><tr><td>Milpitas</td><td>Perfect Fitness Perfect Rip Deck</td><td>64</td><td>3839.360092163086</td></tr><tr><td>Plano</td><td>Nike Men's Dri-FIT Victory Golf Polo</td><td>64</td><td>3200.0</td></tr><tr><td>Pekin</td><td>Nike Men's Free 5.0+ Running Shoe</td><td>64</td><td>6399.360046386719</td></tr><tr><td>Quincy</td><td>Nike Men's Dri-FIT Victory Golf Polo</td><td>64</td><td>3200.0</td></tr><tr><td>Quincy</td><td>O'Brien Men's Neoprene Life Vest</td><td>64</td><td>3198.7199668884277</td></tr><tr><td>Rome</td><td>O'Brien Men's Neoprene Life Vest</td><td>64</td><td>3198.719970703125</td></tr><tr><td>Stockton</td><td>O'Brien Men's Neoprene Life Vest</td><td>64</td><td>3198.7199783325195</td></tr><tr><td>Sugar Land</td><td>Nike Men's Free 5.0+ Running Shoe</td><td>64</td><td>6399.3599853515625</td></tr><tr><td>Union</td><td>Nike Men's Dri-FIT Victory Golf Polo</td><td>64</td><td>3200.0</td></tr><tr><td>Lawrence</td><td>Perfect Fitness Perfect Rip Deck</td><td>64</td><td>3839.3601112365723</td></tr><tr><td>Weslaco</td><td>O'Brien Men's Neoprene Life Vest</td><td>64</td><td>3198.7199783325195</td></tr><tr><td>Atlanta</td><td>Under Armour Girls' Toddler Spine Surge Runni</td><td>64</td><td>2559.360076904297</td></tr><tr><td>Far Rockaway</td><td>Perfect Fitness Perfect Rip Deck</td><td>64</td><td>3839.360118865967</td></tr><tr><td>Ballwin</td><td>O'Brien Men's Neoprene Life Vest</td><td>64</td><td>3198.719970703125</td></tr><tr><td>Brownsville</td><td>O'Brien Men's Neoprene Life Vest</td><td>64</td><td>3198.7199745178223</td></tr><tr><td>Costa Mesa</td><td>O'Brien Men's Neoprene Life Vest</td><td>63</td><td>3148.739963531494</td></tr><tr><td>Dearborn</td><td>Nike Men's Dri-FIT Victory Golf Polo</td><td>63</td><td>3150.0</td></tr><tr><td>Fayetteville</td><td>Nike Men's Dri-FIT Victory Golf Polo</td><td>63</td><td>3150.0</td></tr><tr><td>Huntington Beach</td><td>O'Brien Men's Neoprene Life Vest</td><td>63</td><td>3148.7399711608887</td></tr><tr><td>Fullerton</td><td>O'Brien Men's Neoprene Life Vest</td><td>63</td><td>3148.739959716797</td></tr><tr><td>Irving</td><td>Nike Men's Dri-FIT Victory Golf Polo</td><td>63</td><td>3150.0</td></tr><tr><td>Longmont</td><td>Perfect Fitness Perfect Rip Deck</td><td>63</td><td>3779.370105743408</td></tr><tr><td>Mechanicsburg</td><td>Nike Men's Dri-FIT Victory Golf Polo</td><td>63</td><td>3150.0</td></tr><tr><td>North Hollywood</td><td>O'Brien Men's Neoprene Life Vest</td><td>63</td><td>3148.7399711608887</td></tr><tr><td>North Richland Hills</td><td>Nike Men's Dri-FIT Victory Golf Polo</td><td>63</td><td>3150.0</td></tr><tr><td>Paramount</td><td>Perfect Fitness Perfect Rip Deck</td><td>63</td><td>3779.3701133728027</td></tr><tr><td>Silver Spring</td><td>Nike Men's Dri-FIT Victory Golf Polo</td><td>63</td><td>3150.0</td></tr><tr><td>Scottsdale</td><td>Perfect Fitness Perfect Rip Deck</td><td>63</td><td>3779.370101928711</td></tr><tr><td>South Richmond Hill</td><td>O'Brien Men's Neoprene Life Vest</td><td>63</td><td>3148.739959716797</td></tr><tr><td>Stockbridge</td><td>Nike Men's Dri-FIT Victory Golf Polo</td><td>63</td><td>3150.0</td></tr><tr><td>Tampa</td><td>Under Armour Girls' Toddler Spine Surge Runni</td><td>63</td><td>2519.370048522949</td></tr><tr><td>Warren</td><td>Perfect Fitness Perfect Rip Deck</td><td>63</td><td>3779.370105743408</td></tr><tr><td>Columbia</td><td>Under Armour Girls' Toddler Spine Surge Runni</td><td>63</td><td>2519.370048522949</td></tr><tr><td>Pekin</td><td>Perfect Fitness Perfect Rip Deck</td><td>63</td><td>3779.370090484619</td></tr><tr><td>Portland</td><td>Nike Men's Free 5.0+ Running Shoe</td><td>63</td><td>6299.369972229004</td></tr><tr><td>Bayamon</td><td>Nike Men's Free 5.0+ Running Shoe</td><td>63</td><td>6299.369979858398</td></tr><tr><td>Antioch</td><td>Under Armour Girls' Toddler Spine Surge Runni</td><td>63</td><td>2519.37007522583</td></tr><tr><td>Baldwin Park</td><td>Perfect Fitness Perfect Rip Deck</td><td>63</td><td>3779.370105743408</td></tr><tr><td>Greenville</td><td>Nike Men's Free 5.0+ Running Shoe</td><td>62</td><td>6199.380012512207</td></tr><tr><td>Hayward</td><td>Under Armour Girls' Toddler Spine Surge Runni</td><td>62</td><td>2479.3800201416016</td></tr><tr><td>Jackson</td><td>Nike Men's Dri-FIT Victory Golf Polo</td><td>62</td><td>3100.0</td></tr><tr><td>New Bedford</td><td>O'Brien Men's Neoprene Life Vest</td><td>62</td><td>3098.7599601745605</td></tr><tr><td>Mount Pleasant</td><td>Perfect Fitness Perfect Rip Deck</td><td>62</td><td>3719.3801193237305</td></tr><tr><td>Ontario</td><td>Under Armour Girls' Toddler Spine Surge Runni</td><td>62</td><td>2479.380054473877</td></tr><tr><td>Pacoima</td><td>O'Brien Men's Neoprene Life Vest</td><td>62</td><td>3098.759963989258</td></tr><tr><td>Tallahassee</td><td>Nike Men's Dri-FIT Victory Golf Polo</td><td>62</td><td>3100.0</td></tr><tr><td>Tonawanda</td><td>O'Brien Men's Neoprene Life Vest</td><td>62</td><td>3098.7599563598633</td></tr><tr><td>Waipahu</td><td>Nike Men's Dri-FIT Victory Golf Polo</td><td>62</td><td>3100.0</td></tr><tr><td>Granada Hills</td><td>Perfect Fitness Perfect Rip Deck</td><td>62</td><td>3719.3801078796387</td></tr><tr><td>Laredo</td><td>Nike Men's Free 5.0+ Running Shoe</td><td>62</td><td>6199.380058288574</td></tr><tr><td>Woodbridge</td><td>Nike Men's Dri-FIT Victory Golf Polo</td><td>62</td><td>3100.0</td></tr><tr><td>Bell Gardens</td><td>Perfect Fitness Perfect Rip Deck</td><td>62</td><td>3719.3801193237305</td></tr><tr><td>Fremont</td><td>O'Brien Men's Neoprene Life Vest</td><td>62</td><td>3098.7599868774414</td></tr><tr><td>Chula Vista</td><td>O'Brien Men's Neoprene Life Vest</td><td>62</td><td>3098.759979248047</td></tr><tr><td>Corona</td><td>Under Armour Girls' Toddler Spine Surge Runni</td><td>62</td><td>2479.3800354003906</td></tr><tr><td>Frankfort</td><td>Perfect Fitness Perfect Rip Deck</td><td>61</td><td>3659.3901138305664</td></tr><tr><td>Elmhurst</td><td>Nike Men's Free 5.0+ Running Shoe</td><td>61</td><td>6099.389923095703</td></tr><tr><td>Huntington Beach</td><td>Perfect Fitness Perfect Rip Deck</td><td>61</td><td>3659.390110015869</td></tr><tr><td>Jamaica</td><td>Under Armour Girls' Toddler Spine Surge Runni</td><td>61</td><td>2439.39005279541</td></tr><tr><td>Livermore</td><td>Perfect Fitness Perfect Rip Deck</td><td>61</td><td>3659.3900985717773</td></tr><tr><td>Plainfield</td><td>Nike Men's Dri-FIT Victory Golf Polo</td><td>61</td><td>3050.0</td></tr><tr><td>Porterville</td><td>Perfect Fitness Perfect Rip Deck</td><td>61</td><td>3659.390125274658</td></tr><tr><td>Saginaw</td><td>Nike Men's Dri-FIT Victory Golf Polo</td><td>61</td><td>3050.0</td></tr><tr><td>Walnut</td><td>O'Brien Men's Neoprene Life Vest</td><td>61</td><td>3048.779956817627</td></tr><tr><td>Lenoir</td><td>Perfect Fitness Perfect Rip Deck</td><td>61</td><td>3659.390106201172</td></tr><tr><td>Antioch</td><td>Nike Men's Free 5.0+ Running Shoe</td><td>61</td><td>6099.3900146484375</td></tr><tr><td>West Chester</td><td>Under Armour Girls' Toddler Spine Surge Runni</td><td>61</td><td>2439.3900299072266</td></tr><tr><td>Ypsilanti</td><td>Nike Men's Dri-FIT Victory Golf Polo</td><td>61</td><td>3050.0</td></tr><tr><td>Bell Gardens</td><td>Nike Men's Dri-FIT Victory Golf Polo</td><td>61</td><td>3050.0</td></tr><tr><td>La Mesa</td><td>Nike Men's Dri-FIT Victory Golf Polo</td><td>61</td><td>3050.0</td></tr><tr><td>Cypress</td><td>Perfect Fitness Perfect Rip Deck</td><td>61</td><td>3659.3901023864746</td></tr><tr><td>Kaneohe</td><td>Nike Men's Dri-FIT Victory Golf Polo</td><td>61</td><td>3050.0</td></tr><tr><td>Olathe</td><td>Perfect Fitness Perfect Rip Deck</td><td>60</td><td>3599.400100708008</td></tr><tr><td>Toms River</td><td>Perfect Fitness Perfect Rip Deck</td><td>60</td><td>3599.400100708008</td></tr><tr><td>South Ozone Park</td><td>Nike Men's Dri-FIT Victory Golf Polo</td><td>60</td><td>3000.0</td></tr><tr><td>Tustin</td><td>Nike Men's Dri-FIT Victory Golf Polo</td><td>60</td><td>3000.0</td></tr><tr><td>Watsonville</td><td>Perfect Fitness Perfect Rip Deck</td><td>60</td><td>3599.400100708008</td></tr><tr><td>Webster</td><td>O'Brien Men's Neoprene Life Vest</td><td>60</td><td>2998.7999839782715</td></tr><tr><td>Woonsocket</td><td>Perfect Fitness Perfect Rip Deck</td><td>60</td><td>3599.400100708008</td></tr><tr><td>Ypsilanti</td><td>Perfect Fitness Perfect Rip Deck</td><td>60</td><td>3599.4000968933105</td></tr><tr><td>Mesa</td><td>O'Brien Men's Neoprene Life Vest</td><td>60</td><td>2998.7999839782715</td></tr><tr><td>Methuen</td><td>Perfect Fitness Perfect Rip Deck</td><td>60</td><td>3599.400089263916</td></tr><tr><td>Silver Spring</td><td>Perfect Fitness Perfect Rip Deck</td><td>60</td><td>3599.4000854492188</td></tr><tr><td>Marrero</td><td>Perfect Fitness Perfect Rip Deck</td><td>60</td><td>3599.4001121520996</td></tr><tr><td>Greensboro</td><td>O'Brien Men's Neoprene Life Vest</td><td>60</td><td>2998.7999839782715</td></tr><tr><td>Highland Park</td><td>Perfect Fitness Perfect Rip Deck</td><td>60</td><td>3599.4001083374023</td></tr><tr><td>Hanford</td><td>O'Brien Men's Neoprene Life Vest</td><td>59</td><td>2948.819969177246</td></tr><tr><td>Joliet</td><td>Perfect Fitness Perfect Rip Deck</td><td>59</td><td>3539.41011428833</td></tr><tr><td>Louisville</td><td>Nike Men's Dri-FIT Victory Golf Polo</td><td>59</td><td>2950.0</td></tr><tr><td>Mount Pleasant</td><td>Nike Men's Dri-FIT Victory Golf Polo</td><td>59</td><td>2950.0</td></tr><tr><td>Porterville</td><td>Under Armour Girls' Toddler Spine Surge Runni</td><td>59</td><td>2359.410041809082</td></tr><tr><td>Encinitas</td><td>Nike Men's Dri-FIT Victory Golf Polo</td><td>59</td><td>2950.0</td></tr><tr><td>Piscataway</td><td>Perfect Fitness Perfect Rip Deck</td><td>59</td><td>3539.4100914001465</td></tr><tr><td>Powder Springs</td><td>Perfect Fitness Perfect Rip Deck</td><td>59</td><td>3539.4101066589355</td></tr><tr><td>Ridgewood</td><td>Nike Men's Dri-FIT Victory Golf Polo</td><td>59</td><td>2950.0</td></tr><tr><td>Silver Spring</td><td>O'Brien Men's Neoprene Life Vest</td><td>59</td><td>2948.819965362549</td></tr><tr><td>Simi Valley</td><td>Nike Men's Free 5.0+ Running Shoe</td><td>59</td><td>5899.410026550293</td></tr><tr><td>Tallahassee</td><td>Nike Men's Free 5.0+ Running Shoe</td><td>59</td><td>5899.409973144531</td></tr><tr><td>Oak Lawn</td><td>Perfect Fitness Perfect Rip Deck</td><td>59</td><td>3539.4100952148438</td></tr><tr><td>Toms River</td><td>Nike Men's Free 5.0+ Running Shoe</td><td>59</td><td>5899.410003662109</td></tr><tr><td>Tonawanda</td><td>Perfect Fitness Perfect Rip Deck</td><td>59</td><td>3539.41011428833</td></tr><tr><td>Olathe</td><td>Nike Men's Dri-FIT Victory Golf Polo</td><td>59</td><td>2950.0</td></tr><tr><td>Wichita</td><td>Perfect Fitness Perfect Rip Deck</td><td>59</td><td>3539.4100761413574</td></tr><tr><td>Summerville</td><td>Perfect Fitness Perfect Rip Deck</td><td>59</td><td>3539.4101066589355</td></tr><tr><td>Union City</td><td>O'Brien Men's Neoprene Life Vest</td><td>59</td><td>2948.819984436035</td></tr><tr><td>Carlisle</td><td>O'Brien Men's Neoprene Life Vest</td><td>59</td><td>2948.8199729919434</td></tr><tr><td>El Monte</td><td>O'Brien Men's Neoprene Life Vest</td><td>59</td><td>2948.819980621338</td></tr><tr><td>Brighton</td><td>Nike Men's Dri-FIT Victory Golf Polo</td><td>59</td><td>2950.0</td></tr><tr><td>Fort Washington</td><td>Perfect Fitness Perfect Rip Deck</td><td>58</td><td>3479.4201049804688</td></tr><tr><td>Las Cruces</td><td>O'Brien Men's Neoprene Life Vest</td><td>58</td><td>2898.8399696350098</td></tr><tr><td>Strongsville</td><td>O'Brien Men's Neoprene Life Vest</td><td>58</td><td>2898.8399696350098</td></tr><tr><td>Pomona</td><td>Nike Men's Free 5.0+ Running Shoe</td><td>58</td><td>5799.420013427734</td></tr><tr><td>Martinsburg</td><td>Perfect Fitness Perfect Rip Deck</td><td>58</td><td>3479.420082092285</td></tr><tr><td>Chesapeake</td><td>O'Brien Men's Neoprene Life Vest</td><td>58</td><td>2898.8399810791016</td></tr><tr><td>Diamond Bar</td><td>Perfect Fitness Perfect Rip Deck</td><td>58</td><td>3479.4201011657715</td></tr><tr><td>Elgin</td><td>Under Armour Girls' Toddler Spine Surge Runni</td><td>58</td><td>2319.4200401306152</td></tr><tr><td>Elk Grove</td><td>Perfect Fitness Perfect Rip Deck</td><td>58</td><td>3479.4201126098633</td></tr><tr><td>Hagerstown</td><td>O'Brien Men's Neoprene Life Vest</td><td>58</td><td>2898.8399772644043</td></tr><tr><td>Huntington Beach</td><td>Nike Men's Dri-FIT Victory Golf Polo</td><td>58</td><td>2900.0</td></tr><tr><td>Levittown</td><td>Nike Men's Dri-FIT Victory Golf Polo</td><td>58</td><td>2900.0</td></tr><tr><td>Littleton</td><td>Perfect Fitness Perfect Rip Deck</td><td>58</td><td>3479.4201011657715</td></tr><tr><td>Livermore</td><td>Nike Men's Dri-FIT Victory Golf Polo</td><td>58</td><td>2900.0</td></tr><tr><td>Stamford</td><td>Nike Men's Dri-FIT Victory Golf Polo</td><td>58</td><td>2900.0</td></tr><tr><td>Union City</td><td>Nike Men's Free 5.0+ Running Shoe</td><td>58</td><td>5799.420013427734</td></tr><tr><td>Alameda</td><td>Perfect Fitness Perfect Rip Deck</td><td>58</td><td>3479.4201049804688</td></tr><tr><td>Vega Baja</td><td>Perfect Fitness Perfect Rip Deck</td><td>58</td><td>3479.420093536377</td></tr><tr><td>West Covina</td><td>Nike Men's Free 5.0+ Running Shoe</td><td>58</td><td>5799.419990539551</td></tr><tr><td>Opelousas</td><td>Nike Men's Dri-FIT Victory Golf Polo</td><td>58</td><td>2900.0</td></tr><tr><td>Mililani</td><td>O'Brien Men's Neoprene Life Vest</td><td>58</td><td>2898.8399810791016</td></tr><tr><td>Moreno Valley</td><td>Under Armour Girls' Toddler Spine Surge Runni</td><td>58</td><td>2319.420036315918</td></tr><tr><td>Apex</td><td>Nike Men's Free 5.0+ Running Shoe</td><td>58</td><td>5799.42000579834</td></tr><tr><td>Bayamon</td><td>Nike Men's Dri-FIT Victory Golf Polo</td><td>58</td><td>2900.0</td></tr><tr><td>Carolina</td><td>Perfect Fitness Perfect Rip Deck</td><td>58</td><td>3479.4201049804688</td></tr><tr><td>Clovis</td><td>O'Brien Men's Neoprene Life Vest</td><td>58</td><td>2898.839988708496</td></tr><tr><td>Colorado Springs</td><td>Nike Men's Free 5.0+ Running Shoe</td><td>58</td><td>5799.419982910156</td></tr><tr><td>Compton</td><td>O'Brien Men's Neoprene Life Vest</td><td>58</td><td>2898.840003967285</td></tr><tr><td>Bridgeton</td><td>Perfect Fitness Perfect Rip Deck</td><td>57</td><td>3419.43009185791</td></tr><tr><td>Broken Arrow</td><td>Perfect Fitness Perfect Rip Deck</td><td>57</td><td>3419.4300994873047</td></tr><tr><td>Elyria</td><td>O'Brien Men's Neoprene Life Vest</td><td>57</td><td>2848.8599700927734</td></tr><tr><td>East Brunswick</td><td>O'Brien Men's Neoprene Life Vest</td><td>57</td><td>2848.859962463379</td></tr><tr><td>Florissant</td><td>Under Armour Girls' Toddler Spine Surge Runni</td><td>57</td><td>2279.4300422668457</td></tr><tr><td>Hanover</td><td>Nike Men's Dri-FIT Victory Golf Polo</td><td>57</td><td>2850.0</td></tr><tr><td>Littleton</td><td>O'Brien Men's Neoprene Life Vest</td><td>57</td><td>2848.8599700927734</td></tr><tr><td>Rowland Heights</td><td>Perfect Fitness Perfect Rip Deck</td><td>57</td><td>3419.4300956726074</td></tr><tr><td>Roseville</td><td>Nike Men's Dri-FIT Victory Golf Polo</td><td>57</td><td>2850.0</td></tr><tr><td>Arecibo</td><td>Nike Men's Dri-FIT Victory Golf Polo</td><td>57</td><td>2850.0</td></tr><tr><td>East Lansing</td><td>Nike Men's Free 5.0+ Running Shoe</td><td>57</td><td>5699.429977416992</td></tr><tr><td>Federal Way</td><td>Perfect Fitness Perfect Rip Deck</td><td>57</td><td>3419.430107116699</td></tr><tr><td>Florissant</td><td>Nike Men's Free 5.0+ Running Shoe</td><td>57</td><td>5699.429977416992</td></tr><tr><td>Frankfort</td><td>O'Brien Men's Neoprene Life Vest</td><td>57</td><td>2848.859966278076</td></tr><tr><td>Gardena</td><td>Nike Men's Dri-FIT Victory Golf Polo</td><td>57</td><td>2850.0</td></tr><tr><td>Hampton</td><td>Nike Men's Dri-FIT Victory Golf Polo</td><td>57</td><td>2850.0</td></tr><tr><td>Harlingen</td><td>Perfect Fitness Perfect Rip Deck</td><td>57</td><td>3419.4300804138184</td></tr><tr><td>Hendersonville</td><td>Nike Men's Dri-FIT Victory Golf Polo</td><td>57</td><td>2850.0</td></tr><tr><td>Lombard</td><td>Nike Men's Dri-FIT Victory Golf Polo</td><td>57</td><td>2850.0</td></tr><tr><td>Milford</td><td>Nike Men's Free 5.0+ Running Shoe</td><td>57</td><td>5699.429977416992</td></tr><tr><td>Milwaukee</td><td>Perfect Fitness Perfect Rip Deck</td><td>57</td><td>3419.4300804138184</td></tr><tr><td>Murfreesboro</td><td>Perfect Fitness Perfect Rip Deck</td><td>57</td><td>3419.430088043213</td></tr><tr><td>Wichita</td><td>Nike Men's Dri-FIT Victory Golf Polo</td><td>57</td><td>2850.0</td></tr><tr><td>Roswell</td><td>Nike Men's Free 5.0+ Running Shoe</td><td>57</td><td>5699.430046081543</td></tr><tr><td>Waipahu</td><td>O'Brien Men's Neoprene Life Vest</td><td>57</td><td>2848.859977722168</td></tr><tr><td>Ballwin</td><td>Nike Men's Dri-FIT Victory Golf Polo</td><td>57</td><td>2850.0</td></tr><tr><td>Brandon</td><td>Perfect Fitness Perfect Rip Deck</td><td>57</td><td>3419.430088043213</td></tr><tr><td>Algonquin</td><td>Perfect Fitness Perfect Rip Deck</td><td>57</td><td>3419.4300956726074</td></tr><tr><td>Diamond Bar</td><td>O'Brien Men's Neoprene Life Vest</td><td>56</td><td>2798.879970550537</td></tr><tr><td>Lansdale</td><td>Perfect Fitness Perfect Rip Deck</td><td>56</td><td>3359.4400901794434</td></tr><tr><td>Pasadena</td><td>Perfect Fitness Perfect Rip Deck</td><td>56</td><td>3359.4400901794434</td></tr><tr><td>Carol Stream</td><td>Under Armour Girls' Toddler Spine Surge Runni</td><td>56</td><td>2239.440029144287</td></tr><tr><td>Germantown</td><td>Perfect Fitness Perfect Rip Deck</td><td>56</td><td>3359.4400901794434</td></tr><tr><td>North Hills</td><td>Nike Men's Dri-FIT Victory Golf Polo</td><td>56</td><td>2800.0</td></tr><tr><td>North Las Vegas</td><td>Perfect Fitness Perfect Rip Deck</td><td>56</td><td>3359.4400749206543</td></tr><tr><td>Brownsville</td><td>Nike Men's Free 5.0+ Running Shoe</td><td>56</td><td>5599.440002441406</td></tr><tr><td>Sanford</td><td>Nike Men's Dri-FIT Victory Golf Polo</td><td>56</td><td>2800.0</td></tr><tr><td>Panorama City</td><td>Nike Men's Dri-FIT Victory Golf Polo</td><td>56</td><td>2800.0</td></tr><tr><td>Davis</td><td>Nike Men's Dri-FIT Victory Golf Polo</td><td>56</td><td>2800.0</td></tr><tr><td>Orange Park</td><td>Perfect Fitness Perfect Rip Deck</td><td>56</td><td>3359.440116882324</td></tr><tr><td>Ann Arbor</td><td>O'Brien Men's Neoprene Life Vest</td><td>56</td><td>2798.8799743652344</td></tr><tr><td>Bismarck</td><td>Perfect Fitness Perfect Rip Deck</td><td>56</td><td>3359.4400939941406</td></tr><tr><td>Chesapeake</td><td>Nike Men's Dri-FIT Victory Golf Polo</td><td>55</td><td>2750.0</td></tr><tr><td>Burnsville</td><td>Nike Men's Dri-FIT Victory Golf Polo</td><td>55</td><td>2750.0</td></tr><tr><td>Chino</td><td>Nike Men's Dri-FIT Victory Golf Polo</td><td>55</td><td>2750.0</td></tr><tr><td>Denver</td><td>Nike Men's Free 5.0+ Running Shoe</td><td>55</td><td>5499.449974060059</td></tr><tr><td>East Lansing</td><td>Perfect Fitness Perfect Rip Deck</td><td>55</td><td>3299.450107574463</td></tr><tr><td>Methuen</td><td>Nike Men's Dri-FIT Victory Golf Polo</td><td>55</td><td>2750.0</td></tr><tr><td>Brandon</td><td>Nike Men's Free 5.0+ Running Shoe</td><td>55</td><td>5499.45002746582</td></tr><tr><td>Davis</td><td>Perfect Fitness Perfect Rip Deck</td><td>55</td><td>3299.450096130371</td></tr><tr><td>Encinitas</td><td>Nike Men's Free 5.0+ Running Shoe</td><td>55</td><td>5499.450004577637</td></tr><tr><td>Escondido</td><td>Nike Men's CJ Elite 2 TD Football Cleat</td><td>55</td><td>7149.450302124023</td></tr><tr><td>Eugene</td><td>Under Armour Girls' Toddler Spine Surge Runni</td><td>55</td><td>2199.4500122070312</td></tr><tr><td>Madison</td><td>Perfect Fitness Perfect Rip Deck</td><td>55</td><td>3299.45011138916</td></tr><tr><td>Tonawanda</td><td>Nike Men's Dri-FIT Victory Golf Polo</td><td>55</td><td>2750.0</td></tr><tr><td>Sheboygan</td><td>O'Brien Men's Neoprene Life Vest</td><td>55</td><td>2748.8999786376953</td></tr><tr><td>Strongsville</td><td>Nike Men's Free 5.0+ Running Shoe</td><td>55</td><td>5499.450004577637</td></tr><tr><td>Broken Arrow</td><td>Nike Men's Dri-FIT Victory Golf Polo</td><td>55</td><td>2750.0</td></tr><tr><td>Lawrence</td><td>O'Brien Men's Neoprene Life Vest</td><td>55</td><td>2748.899974822998</td></tr><tr><td>Austin</td><td>Nike Men's CJ Elite 2 TD Football Cleat</td><td>55</td><td>7149.450302124023</td></tr><tr><td>El Centro</td><td>Perfect Fitness Perfect Rip Deck</td><td>54</td><td>3239.460075378418</td></tr><tr><td>El Monte</td><td>Perfect Fitness Perfect Rip Deck</td><td>54</td><td>3239.4600868225098</td></tr><tr><td>Hickory</td><td>Nike Men's Dri-FIT Victory Golf Polo</td><td>54</td><td>2700.0</td></tr><tr><td>Moline</td><td>O'Brien Men's Neoprene Life Vest</td><td>54</td><td>2698.9199752807617</td></tr><tr><td>Lawrenceville</td><td>Nike Men's Dri-FIT Victory Golf Polo</td><td>54</td><td>2700.0</td></tr><tr><td>Porterville</td><td>O'Brien Men's Neoprene Life Vest</td><td>54</td><td>2698.919990539551</td></tr><tr><td>San Bernardino</td><td>Nike Men's Free 5.0+ Running Shoe</td><td>54</td><td>5399.4599609375</td></tr><tr><td>South Ozone Park</td><td>Perfect Fitness Perfect Rip Deck</td><td>54</td><td>3239.4600868225098</td></tr><tr><td>Waukegan</td><td>Perfect Fitness Perfect Rip Deck</td><td>54</td><td>3239.4600830078125</td></tr><tr><td>Carol Stream</td><td>O'Brien Men's Neoprene Life Vest</td><td>54</td><td>2698.9199714660645</td></tr><tr><td>Folsom</td><td>Perfect Fitness Perfect Rip Deck</td><td>54</td><td>3239.460105895996</td></tr><tr><td>Hyattsville</td><td>Under Armour Girls' Toddler Spine Surge Runni</td><td>54</td><td>2159.4600410461426</td></tr><tr><td>Jersey City</td><td>Nike Men's Free 5.0+ Running Shoe</td><td>54</td><td>5399.459976196289</td></tr><tr><td>Meridian</td><td>O'Brien Men's Neoprene Life Vest</td><td>54</td><td>2698.9199714660645</td></tr><tr><td>Orange Park</td><td>Nike Men's Dri-FIT Victory Golf Polo</td><td>54</td><td>2700.0</td></tr><tr><td>Rome</td><td>Nike Men's Free 5.0+ Running Shoe</td><td>54</td><td>5399.460014343262</td></tr><tr><td>Round Rock</td><td>Nike Men's Dri-FIT Victory Golf Polo</td><td>54</td><td>2700.0</td></tr><tr><td>Rowland Heights</td><td>O'Brien Men's Neoprene Life Vest</td><td>54</td><td>2698.9199829101562</td></tr><tr><td>Sacramento</td><td>Under Armour Girls' Toddler Spine Surge Runni</td><td>54</td><td>2159.460033416748</td></tr><tr><td>Santa Cruz</td><td>Nike Men's Dri-FIT Victory Golf Polo</td><td>54</td><td>2700.0</td></tr><tr><td>Seattle</td><td>Under Armour Girls' Toddler Spine Surge Runni</td><td>54</td><td>2159.4600257873535</td></tr><tr><td>Stafford</td><td>Nike Men's Dri-FIT Victory Golf Polo</td><td>54</td><td>2700.0</td></tr><tr><td>Troy</td><td>Nike Men's Free 5.0+ Running Shoe</td><td>54</td><td>5399.460060119629</td></tr><tr><td>Trujillo Alto</td><td>O'Brien Men's Neoprene Life Vest</td><td>54</td><td>2698.9199829101562</td></tr><tr><td>Austin</td><td>Under Armour Girls' Toddler Spine Surge Runni</td><td>54</td><td>2159.460033416748</td></tr><tr><td>Ventura</td><td>O'Brien Men's Neoprene Life Vest</td><td>54</td><td>2698.919967651367</td></tr><tr><td>Chapel Hill</td><td>Perfect Fitness Perfect Rip Deck</td><td>54</td><td>3239.4600944519043</td></tr><tr><td>Tustin</td><td>Nike Men's Free 5.0+ Running Shoe</td><td>54</td><td>5399.4599533081055</td></tr><tr><td>Alpharetta</td><td>Perfect Fitness Perfect Rip Deck</td><td>54</td><td>3239.460102081299</td></tr><tr><td>Colorado Springs</td><td>O'Brien Men's Neoprene Life Vest</td><td>53</td><td>2648.939971923828</td></tr><tr><td>Carrollton</td><td>Nike Men's Dri-FIT Victory Golf Polo</td><td>53</td><td>2650.0</td></tr><tr><td>Costa Mesa</td><td>Nike Men's Dri-FIT Victory Golf Polo</td><td>53</td><td>2650.0</td></tr><tr><td>Dorchester Center</td><td>O'Brien Men's Neoprene Life Vest</td><td>53</td><td>2648.93998336792</td></tr><tr><td>Goose Creek</td><td>Perfect Fitness Perfect Rip Deck</td><td>53</td><td>3179.4701042175293</td></tr><tr><td>Louisville</td><td>O'Brien Men's Neoprene Life Vest</td><td>53</td><td>2648.9399909973145</td></tr><tr><td>La Mesa</td><td>Perfect Fitness Perfect Rip Deck</td><td>53</td><td>3179.4700927734375</td></tr><tr><td>Murfreesboro</td><td>O'Brien Men's Neoprene Life Vest</td><td>53</td><td>2648.939998626709</td></tr><tr><td>Pawtucket</td><td>O'Brien Men's Neoprene Life Vest</td><td>53</td><td>2648.939971923828</td></tr><tr><td>Santee</td><td>Nike Men's Dri-FIT Victory Golf Polo</td><td>53</td><td>2650.0</td></tr><tr><td>Carlisle</td><td>Under Armour Girls' Toddler Spine Surge Runni</td><td>53</td><td>2119.470012664795</td></tr><tr><td>Cupertino</td><td>Perfect Fitness Perfect Rip Deck</td><td>53</td><td>3179.4700965881348</td></tr><tr><td>Ewa Beach</td><td>Perfect Fitness Perfect Rip Deck</td><td>53</td><td>3179.4700813293457</td></tr><tr><td>Hendersonville</td><td>O'Brien Men's Neoprene Life Vest</td><td>53</td><td>2648.9399642944336</td></tr><tr><td>La Crosse</td><td>O'Brien Men's Neoprene Life Vest</td><td>53</td><td>2648.9399757385254</td></tr><tr><td>La Crosse</td><td>Perfect Fitness Perfect Rip Deck</td><td>53</td><td>3179.470085144043</td></tr><tr><td>Lenoir</td><td>Nike Men's Dri-FIT Victory Golf Polo</td><td>53</td><td>2650.0</td></tr><tr><td>Mission</td><td>O'Brien Men's Neoprene Life Vest</td><td>53</td><td>2648.9399757385254</td></tr><tr><td>Napa</td><td>Perfect Fitness Perfect Rip Deck</td><td>53</td><td>3179.4701042175293</td></tr><tr><td>New Haven</td><td>O'Brien Men's Neoprene Life Vest</td><td>53</td><td>2648.9399757385254</td></tr><tr><td>North Las Vegas</td><td>Nike Men's Dri-FIT Victory Golf Polo</td><td>53</td><td>2650.0</td></tr><tr><td>Passaic</td><td>Nike Men's Dri-FIT Victory Golf Polo</td><td>53</td><td>2650.0</td></tr><tr><td>Rock Hill</td><td>Perfect Fitness Perfect Rip Deck</td><td>53</td><td>3179.470100402832</td></tr><tr><td>Salt Lake City</td><td>Nike Men's Free 5.0+ Running Shoe</td><td>53</td><td>5299.4699783325195</td></tr><tr><td>Staten Island</td><td>Nike Men's Free 5.0+ Running Shoe</td><td>53</td><td>5299.470031738281</td></tr><tr><td>Vega Baja</td><td>Nike Men's Dri-FIT Victory Golf Polo</td><td>53</td><td>2650.0</td></tr><tr><td>Wayne</td><td>Nike Men's Dri-FIT Victory Golf Polo</td><td>53</td><td>2650.0</td></tr><tr><td>Bayamon</td><td>O'Brien Men's Neoprene Life Vest</td><td>53</td><td>2648.9399795532227</td></tr><tr><td>Bellflower</td><td>O'Brien Men's Neoprene Life Vest</td><td>53</td><td>2648.939968109131</td></tr><tr><td>Findlay</td><td>Perfect Fitness Perfect Rip Deck</td><td>52</td><td>3119.4800872802734</td></tr><tr><td>Greeley</td><td>Nike Men's Free 5.0+ Running Shoe</td><td>52</td><td>5199.479995727539</td></tr><tr><td>Knoxville</td><td>Nike Men's Dri-FIT Victory Golf Polo</td><td>52</td><td>2600.0</td></tr><tr><td>Murfreesboro</td><td>Nike Men's Dri-FIT Victory Golf Polo</td><td>52</td><td>2600.0</td></tr><tr><td>Saginaw</td><td>O'Brien Men's Neoprene Life Vest</td><td>52</td><td>2598.9599800109863</td></tr><tr><td>Sugar Land</td><td>Under Armour Girls' Toddler Spine Surge Runni</td><td>52</td><td>2079.4800453186035</td></tr><tr><td>Clovis</td><td>Perfect Fitness Perfect Rip Deck</td><td>52</td><td>3119.480110168457</td></tr><tr><td>Amarillo</td><td>Under Armour Girls' Toddler Spine Surge Runni</td><td>52</td><td>2079.480010986328</td></tr><tr><td>Fountain Valley</td><td>Nike Men's Dri-FIT Victory Golf Polo</td><td>52</td><td>2600.0</td></tr><tr><td>Humacao</td><td>Nike Men's Free 5.0+ Running Shoe</td><td>52</td><td>5199.47998046875</td></tr><tr><td>Lake Forest</td><td>Nike Men's Dri-FIT Victory Golf Polo</td><td>52</td><td>2600.0</td></tr><tr><td>Lawrenceville</td><td>O'Brien Men's Neoprene Life Vest</td><td>52</td><td>2598.9599838256836</td></tr><tr><td>New Brunswick</td><td>O'Brien Men's Neoprene Life Vest</td><td>52</td><td>2598.959976196289</td></tr><tr><td>Panorama City</td><td>O'Brien Men's Neoprene Life Vest</td><td>52</td><td>2598.9599800109863</td></tr><tr><td>Pharr</td><td>Nike Men's Dri-FIT Victory Golf Polo</td><td>52</td><td>2600.0</td></tr><tr><td>Ridgewood</td><td>Perfect Fitness Perfect Rip Deck</td><td>52</td><td>3119.4800872802734</td></tr><tr><td>Stockton</td><td>Nike Men's Free 5.0+ Running Shoe</td><td>52</td><td>5199.480010986328</td></tr><tr><td>Union</td><td>Perfect Fitness Perfect Rip Deck</td><td>52</td><td>3119.4801025390625</td></tr><tr><td>Vista</td><td>Nike Men's Dri-FIT Victory Golf Polo</td><td>52</td><td>2600.0</td></tr><tr><td>West New York</td><td>Perfect Fitness Perfect Rip Deck</td><td>52</td><td>3119.4801025390625</td></tr><tr><td>Raleigh</td><td>Under Armour Girls' Toddler Spine Surge Runni</td><td>52</td><td>2079.4800567626953</td></tr><tr><td>Wheaton</td><td>Perfect Fitness Perfect Rip Deck</td><td>52</td><td>3119.4800910949707</td></tr><tr><td>Cary</td><td>Perfect Fitness Perfect Rip Deck</td><td>52</td><td>3119.480083465576</td></tr><tr><td>Buffalo</td><td>Nike Men's Free 5.0+ Running Shoe</td><td>52</td><td>5199.479965209961</td></tr><tr><td>Carson</td><td>Nike Men's Dri-FIT Victory Golf Polo</td><td>52</td><td>2600.0</td></tr><tr><td>Dearborn</td><td>O'Brien Men's Neoprene Life Vest</td><td>51</td><td>2548.9799995422363</td></tr><tr><td>Decatur</td><td>Nike Men's Dri-FIT Victory Golf Polo</td><td>51</td><td>2550.0</td></tr><tr><td>Laguna Niguel</td><td>Perfect Fitness Perfect Rip Deck</td><td>51</td><td>3059.4900970458984</td></tr><tr><td>Irving</td><td>Under Armour Girls' Toddler Spine Surge Runni</td><td>51</td><td>2039.4900131225586</td></tr><tr><td>Lawton</td><td>Nike Men's Dri-FIT Victory Golf Polo</td><td>51</td><td>2550.0</td></tr><tr><td>Orange Park</td><td>O'Brien Men's Neoprene Life Vest</td><td>51</td><td>2548.979953765869</td></tr><tr><td>San Sebastian</td><td>Nike Men's Dri-FIT Victory Golf Polo</td><td>51</td><td>2550.0</td></tr><tr><td>Chandler</td><td>Nike Men's Free 5.0+ Running Shoe</td><td>51</td><td>5099.490013122559</td></tr><tr><td>Florissant</td><td>Nike Men's CJ Elite 2 TD Football Cleat</td><td>51</td><td>6629.490280151367</td></tr><tr><td>Jamaica</td><td>Nike Men's Free 5.0+ Running Shoe</td><td>51</td><td>5099.4899978637695</td></tr><tr><td>Lutz</td><td>Perfect Fitness Perfect Rip Deck</td><td>51</td><td>3059.4900817871094</td></tr><tr><td>Mesa</td><td>Nike Men's Free 5.0+ Running Shoe</td><td>51</td><td>5099.490013122559</td></tr><tr><td>Mesquite</td><td>Perfect Fitness Perfect Rip Deck</td><td>51</td><td>3059.4900703430176</td></tr><tr><td>North Tonawanda</td><td>Perfect Fitness Perfect Rip Deck</td><td>51</td><td>3059.490089416504</td></tr><tr><td>Raleigh</td><td>O'Brien Men's Neoprene Life Vest</td><td>51</td><td>2548.9799880981445</td></tr><tr><td>Salinas</td><td>Nike Men's Dri-FIT Victory Golf Polo</td><td>51</td><td>2550.0</td></tr><tr><td>Seattle</td><td>O'Brien Men's Neoprene Life Vest</td><td>51</td><td>2548.9799575805664</td></tr><tr><td>Stockbridge</td><td>O'Brien Men's Neoprene Life Vest</td><td>51</td><td>2548.97998046875</td></tr><tr><td>Victorville</td><td>O'Brien Men's Neoprene Life Vest</td><td>51</td><td>2548.9799728393555</td></tr><tr><td>Hesperia</td><td>Perfect Fitness Perfect Rip Deck</td><td>51</td><td>3059.490093231201</td></tr><tr><td>Brandon</td><td>Nike Men's Dri-FIT Victory Golf Polo</td><td>51</td><td>2550.0</td></tr><tr><td>Azusa</td><td>O'Brien Men's Neoprene Life Vest</td><td>51</td><td>2548.979965209961</td></tr><tr><td>Beloit</td><td>Nike Men's Dri-FIT Victory Golf Polo</td><td>51</td><td>2550.0</td></tr><tr><td>Colorado Springs</td><td>Nike Men's Dri-FIT Victory Golf Polo</td><td>50</td><td>2500.0</td></tr><tr><td>College Station</td><td>Perfect Fitness Perfect Rip Deck</td><td>50</td><td>2999.500072479248</td></tr><tr><td>Del Rio</td><td>Under Armour Girls' Toddler Spine Surge Runni</td><td>50</td><td>1999.5000038146973</td></tr><tr><td>Fremont</td><td>Nike Men's Free 5.0+ Running Shoe</td><td>50</td><td>4999.499954223633</td></tr><tr><td>Hagerstown</td><td>Nike Men's Dri-FIT Victory Golf Polo</td><td>50</td><td>2500.0</td></tr><tr><td>Huntington Station</td><td>Perfect Fitness Perfect Rip Deck</td><td>50</td><td>2999.5000801086426</td></tr><tr><td>Methuen</td><td>O'Brien Men's Neoprene Life Vest</td><td>50</td><td>2498.9999656677246</td></tr><tr><td>Modesto</td><td>Under Armour Girls' Toddler Spine Surge Runni</td><td>50</td><td>1999.500072479248</td></tr><tr><td>Oxnard</td><td>Under Armour Girls' Toddler Spine Surge Runni</td><td>50</td><td>1999.5000114440918</td></tr><tr><td>San Bernardino</td><td>Under Armour Girls' Toddler Spine Surge Runni</td><td>50</td><td>1999.5000495910645</td></tr><tr><td>Waipahu</td><td>Nike Men's Free 5.0+ Running Shoe</td><td>50</td><td>4999.500015258789</td></tr><tr><td>Mesquite</td><td>Nike Men's Dri-FIT Victory Golf Polo</td><td>50</td><td>2500.0</td></tr><tr><td>Arlington</td><td>Perfect Fitness Perfect Rip Deck</td><td>50</td><td>2999.50008392334</td></tr><tr><td>Fayetteville</td><td>O'Brien Men's Neoprene Life Vest</td><td>50</td><td>2498.999973297119</td></tr><tr><td>Greeley</td><td>Perfect Fitness Perfect Rip Deck</td><td>50</td><td>2999.5000648498535</td></tr><tr><td>Harlingen</td><td>Nike Men's Dri-FIT Victory Golf Polo</td><td>50</td><td>2500.0</td></tr><tr><td>Humacao</td><td>Under Armour Girls' Toddler Spine Surge Runni</td><td>50</td><td>1999.5000495910645</td></tr><tr><td>La Mirada</td><td>Perfect Fitness Perfect Rip Deck</td><td>50</td><td>2999.50008392334</td></tr><tr><td>Louisville</td><td>Under Armour Girls' Toddler Spine Surge Runni</td><td>50</td><td>1999.5000305175781</td></tr><tr><td>Marietta</td><td>O'Brien Men's Neoprene Life Vest</td><td>50</td><td>2498.9999656677246</td></tr><tr><td>Mission</td><td>Nike Men's Dri-FIT Victory Golf Polo</td><td>50</td><td>2500.0</td></tr><tr><td>Morristown</td><td>Nike Men's Dri-FIT Victory Golf Polo</td><td>50</td><td>2500.0</td></tr><tr><td>Newburgh</td><td>Nike Men's Free 5.0+ Running Shoe</td><td>50</td><td>4999.499984741211</td></tr><tr><td>Norfolk</td><td>Perfect Fitness Perfect Rip Deck</td><td>50</td><td>2999.5000762939453</td></tr><tr><td>Ogden</td><td>O'Brien Men's Neoprene Life Vest</td><td>50</td><td>2498.9999618530273</td></tr><tr><td>Revere</td><td>Perfect Fitness Perfect Rip Deck</td><td>50</td><td>2999.5000915527344</td></tr><tr><td>Rome</td><td>Nike Men's Dri-FIT Victory Golf Polo</td><td>50</td><td>2500.0</td></tr><tr><td>San Ramon</td><td>O'Brien Men's Neoprene Life Vest</td><td>50</td><td>2498.9999656677246</td></tr><tr><td>South El Monte</td><td>Nike Men's Dri-FIT Victory Golf Polo</td><td>50</td><td>2500.0</td></tr><tr><td>South San Francisco</td><td>Nike Men's Dri-FIT Victory Golf Polo</td><td>50</td><td>2500.0</td></tr><tr><td>Massapequa</td><td>O'Brien Men's Neoprene Life Vest</td><td>50</td><td>2498.9999771118164</td></tr><tr><td>West Jordan</td><td>Perfect Fitness Perfect Rip Deck</td><td>50</td><td>2999.5000801086426</td></tr><tr><td>Wyoming</td><td>O'Brien Men's Neoprene Life Vest</td><td>50</td><td>2498.999988555908</td></tr><tr><td>Valrico</td><td>Nike Men's Free 5.0+ Running Shoe</td><td>50</td><td>4999.499969482422</td></tr><tr><td>Vista</td><td>O'Brien Men's Neoprene Life Vest</td><td>50</td><td>2498.999988555908</td></tr><tr><td>Austin</td><td>Nike Men's Free 5.0+ Running Shoe</td><td>50</td><td>4999.4999923706055</td></tr><tr><td>Carolina</td><td>Nike Men's Dri-FIT Victory Golf Polo</td><td>50</td><td>2500.0</td></tr><tr><td>Gardena</td><td>Nike Men's Free 5.0+ Running Shoe</td><td>49</td><td>4899.510032653809</td></tr><tr><td>Guayama</td><td>Perfect Fitness Perfect Rip Deck</td><td>49</td><td>2939.510078430176</td></tr><tr><td>Oxnard</td><td>Nike Men's Free 5.0+ Running Shoe</td><td>49</td><td>4899.509956359863</td></tr><tr><td>Union City</td><td>Under Armour Girls' Toddler Spine Surge Runni</td><td>49</td><td>1959.510025024414</td></tr><tr><td>Strongsville</td><td>Under Armour Girls' Toddler Spine Surge Runni</td><td>49</td><td>1959.5100212097168</td></tr><tr><td>Campbell</td><td>Nike Men's Dri-FIT Victory Golf Polo</td><td>49</td><td>2450.0</td></tr><tr><td>Lynnwood</td><td>Perfect Fitness Perfect Rip Deck</td><td>49</td><td>2939.5100860595703</td></tr><tr><td>Perth Amboy</td><td>Nike Men's Dri-FIT Victory Golf Polo</td><td>49</td><td>2450.0</td></tr><tr><td>Reynoldsburg</td><td>Perfect Fitness Perfect Rip Deck</td><td>49</td><td>2939.510078430176</td></tr><tr><td>Santa Clara</td><td>Perfect Fitness Perfect Rip Deck</td><td>49</td><td>2939.5100708007812</td></tr><tr><td>South Richmond Hill</td><td>Perfect Fitness Perfect Rip Deck</td><td>49</td><td>2939.510082244873</td></tr><tr><td>Yauco</td><td>Perfect Fitness Perfect Rip Deck</td><td>49</td><td>2939.5100708007812</td></tr><tr><td>Tulare</td><td>Nike Men's Dri-FIT Victory Golf Polo</td><td>49</td><td>2450.0</td></tr><tr><td>Visalia</td><td>Perfect Fitness Perfect Rip Deck</td><td>49</td><td>2939.5100593566895</td></tr><tr><td>Corona</td><td>Pelican Sunstream 100 Kayak</td><td>49</td><td>9799.510269165039</td></tr><tr><td>Frankfort</td><td>Nike Men's Dri-FIT Victory Golf Polo</td><td>49</td><td>2450.0</td></tr><tr><td>Buffalo</td><td>Under Armour Girls' Toddler Spine Surge Runni</td><td>49</td><td>1959.5100440979004</td></tr><tr><td>Apex</td><td>Under Armour Girls' Toddler Spine Surge Runni</td><td>48</td><td>1919.5200462341309</td></tr><tr><td>Dorchester Center</td><td>Nike Men's Dri-FIT Victory Golf Polo</td><td>48</td><td>2400.0</td></tr><tr><td>Fremont</td><td>Under Armour Girls' Toddler Spine Surge Runni</td><td>48</td><td>1919.5200386047363</td></tr><tr><td>Marrero</td><td>Nike Men's Dri-FIT Victory Golf Polo</td><td>48</td><td>2400.0</td></tr><tr><td>Bayamon</td><td>Under Armour Girls' Toddler Spine Surge Runni</td><td>48</td><td>1919.5200309753418</td></tr><tr><td>Michigan City</td><td>O'Brien Men's Neoprene Life Vest</td><td>48</td><td>2399.0399894714355</td></tr><tr><td>Rio Grande</td><td>Perfect Fitness Perfect Rip Deck</td><td>48</td><td>2879.5200805664062</td></tr><tr><td>Catonsville</td><td>Nike Men's Free 5.0+ Running Shoe</td><td>48</td><td>4799.519989013672</td></tr><tr><td>Dundalk</td><td>Nike Men's Dri-FIT Victory Golf Polo</td><td>48</td><td>2400.0</td></tr><tr><td>Germantown</td><td>Nike Men's Dri-FIT Victory Golf Polo</td><td>48</td><td>2400.0</td></tr><tr><td>Greeley</td><td>Under Armour Girls' Toddler Spine Surge Runni</td><td>48</td><td>1919.5200424194336</td></tr><tr><td>Lilburn</td><td>Perfect Fitness Perfect Rip Deck</td><td>48</td><td>2879.5200729370117</td></tr><tr><td>Martinsburg</td><td>O'Brien Men's Neoprene Life Vest</td><td>48</td><td>2399.039981842041</td></tr><tr><td>Morristown</td><td>Perfect Fitness Perfect Rip Deck</td><td>48</td><td>2879.520076751709</td></tr><tr><td>Opelousas</td><td>O'Brien Men's Neoprene Life Vest</td><td>48</td><td>2399.039966583252</td></tr><tr><td>Pekin</td><td>Nike Men's Dri-FIT Victory Golf Polo</td><td>48</td><td>2400.0</td></tr><tr><td>Bridgeton</td><td>O'Brien Men's Neoprene Life Vest</td><td>48</td><td>2399.0399856567383</td></tr><tr><td>Victorville</td><td>Perfect Fitness Perfect Rip Deck</td><td>48</td><td>2879.5200843811035</td></tr><tr><td>Winnetka</td><td>Under Armour Girls' Toddler Spine Surge Runni</td><td>48</td><td>1919.5200309753418</td></tr><tr><td>Redmond</td><td>Perfect Fitness Perfect Rip Deck</td><td>48</td><td>2879.5200958251953</td></tr><tr><td>Cincinnati</td><td>Perfect Fitness Perfect Rip Deck</td><td>48</td><td>2879.5200729370117</td></tr><tr><td>Highland</td><td>Nike Men's Free 5.0+ Running Shoe</td><td>48</td><td>4799.520004272461</td></tr><tr><td>Apopka</td><td>Nike Men's Dri-FIT Victory Golf Polo</td><td>47</td><td>2350.0</td></tr><tr><td>Ballwin</td><td>Perfect Fitness Perfect Rip Deck</td><td>47</td><td>2819.5300827026367</td></tr><tr><td>Freeport</td><td>O'Brien Men's Neoprene Life Vest</td><td>47</td><td>2349.059986114502</td></tr><tr><td>Glendale</td><td>Nike Men's Free 5.0+ Running Shoe</td><td>47</td><td>4699.529968261719</td></tr><tr><td>Littleton</td><td>Nike Men's Dri-FIT Victory Golf Polo</td><td>47</td><td>2350.0</td></tr><tr><td>New Brunswick</td><td>Perfect Fitness Perfect Rip Deck</td><td>47</td><td>2819.5300827026367</td></tr><tr><td>Plymouth</td><td>Nike Men's Dri-FIT Victory Golf Polo</td><td>47</td><td>2350.0</td></tr><tr><td>Sheboygan</td><td>Perfect Fitness Perfect Rip Deck</td><td>47</td><td>2819.5300788879395</td></tr><tr><td>Clearfield</td><td>Perfect Fitness Perfect Rip Deck</td><td>47</td><td>2819.5300788879395</td></tr><tr><td>Beloit</td><td>Under Armour Girls' Toddler Spine Surge Runni</td><td>47</td><td>1879.5300254821777</td></tr><tr><td>Asheboro</td><td>Nike Men's Dri-FIT Victory Golf Polo</td><td>47</td><td>2350.0</td></tr><tr><td>Freeport</td><td>Under Armour Girls' Toddler Spine Surge Runni</td><td>47</td><td>1879.5300064086914</td></tr><tr><td>Kailua</td><td>Perfect Fitness Perfect Rip Deck</td><td>47</td><td>2819.530075073242</td></tr><tr><td>Manati</td><td>Perfect Fitness Perfect Rip Deck</td><td>47</td><td>2819.530059814453</td></tr><tr><td>Morristown</td><td>O'Brien Men's Neoprene Life Vest</td><td>47</td><td>2349.059986114502</td></tr><tr><td>Norcross</td><td>Perfect Fitness Perfect Rip Deck</td><td>47</td><td>2819.530075073242</td></tr><tr><td>North Tonawanda</td><td>O'Brien Men's Neoprene Life Vest</td><td>47</td><td>2349.0599784851074</td></tr><tr><td>Palmdale</td><td>Perfect Fitness Perfect Rip Deck</td><td>47</td><td>2819.530086517334</td></tr><tr><td>Pittsfield</td><td>Perfect Fitness Perfect Rip Deck</td><td>47</td><td>2819.530075073242</td></tr><tr><td>Rancho Cucamonga</td><td>Perfect Fitness Perfect Rip Deck</td><td>47</td><td>2819.530075073242</td></tr><tr><td>Trujillo Alto</td><td>Perfect Fitness Perfect Rip Deck</td><td>47</td><td>2819.5300636291504</td></tr><tr><td>Vega Baja</td><td>Nike Men's Free 5.0+ Running Shoe</td><td>47</td><td>4699.5300216674805</td></tr><tr><td>Waipahu</td><td>Perfect Fitness Perfect Rip Deck</td><td>47</td><td>2819.530086517334</td></tr><tr><td>Alhambra</td><td>Nike Men's Dri-FIT Victory Golf Polo</td><td>47</td><td>2350.0</td></tr><tr><td>Parkville</td><td>Perfect Fitness Perfect Rip Deck</td><td>47</td><td>2819.530071258545</td></tr><tr><td>Wyoming</td><td>Nike Men's Dri-FIT Victory Golf Polo</td><td>47</td><td>2350.0</td></tr><tr><td>Clarksville</td><td>Perfect Fitness Perfect Rip Deck</td><td>47</td><td>2819.530086517334</td></tr><tr><td>Broken Arrow</td><td>O'Brien Men's Neoprene Life Vest</td><td>47</td><td>2349.0599670410156</td></tr><tr><td>Carolina</td><td>O'Brien Men's Neoprene Life Vest</td><td>47</td><td>2349.059986114502</td></tr><tr><td>Charlotte</td><td>Perfect Fitness Perfect Rip Deck</td><td>46</td><td>2759.540069580078</td></tr><tr><td>Beloit</td><td>O'Brien Men's Neoprene Life Vest</td><td>46</td><td>2299.0799827575684</td></tr><tr><td>Clearfield</td><td>Nike Men's Dri-FIT Victory Golf Polo</td><td>46</td><td>2300.0</td></tr><tr><td>Everett</td><td>Perfect Fitness Perfect Rip Deck</td><td>46</td><td>2759.5400886535645</td></tr><tr><td>Crystal Lake</td><td>Perfect Fitness Perfect Rip Deck</td><td>46</td><td>2759.5400772094727</td></tr><tr><td>Greenville</td><td>Under Armour Girls' Toddler Spine Surge Runni</td><td>46</td><td>1839.5400199890137</td></tr><tr><td>Jonesboro</td><td>Perfect Fitness Perfect Rip Deck</td><td>46</td><td>2759.5400772094727</td></tr><tr><td>Martinsburg</td><td>Nike Men's Dri-FIT Victory Golf Polo</td><td>46</td><td>2300.0</td></tr><tr><td>Roseville</td><td>Perfect Fitness Perfect Rip Deck</td><td>46</td><td>2759.540084838867</td></tr><tr><td>Bismarck</td><td>O'Brien Men's Neoprene Life Vest</td><td>46</td><td>2299.0799865722656</td></tr><tr><td>Sheboygan</td><td>Nike Men's Dri-FIT Victory Golf Polo</td><td>46</td><td>2300.0</td></tr><tr><td>Wayne</td><td>Nike Men's Free 5.0+ Running Shoe</td><td>46</td><td>4599.539970397949</td></tr><tr><td>Chandler</td><td>Under Armour Girls' Toddler Spine Surge Runni</td><td>46</td><td>1839.5400199890137</td></tr><tr><td>Davis</td><td>O'Brien Men's Neoprene Life Vest</td><td>46</td><td>2299.079990386963</td></tr><tr><td>Hamtramck</td><td>Perfect Fitness Perfect Rip Deck</td><td>46</td><td>2759.540069580078</td></tr><tr><td>Hanover</td><td>Perfect Fitness Perfect Rip Deck</td><td>46</td><td>2759.5400886535645</td></tr><tr><td>Hendersonville</td><td>Perfect Fitness Perfect Rip Deck</td><td>46</td><td>2759.540084838867</td></tr><tr><td>Holland</td><td>Perfect Fitness Perfect Rip Deck</td><td>46</td><td>2759.5400581359863</td></tr><tr><td>Knoxville</td><td>O'Brien Men's Neoprene Life Vest</td><td>46</td><td>2299.0799713134766</td></tr><tr><td>Longmont</td><td>Nike Men's Dri-FIT Victory Golf Polo</td><td>46</td><td>2300.0</td></tr><tr><td>Mesa</td><td>Under Armour Girls' Toddler Spine Surge Runni</td><td>46</td><td>1839.5400276184082</td></tr><tr><td>Norfolk</td><td>O'Brien Men's Neoprene Life Vest</td><td>46</td><td>2299.079990386963</td></tr><tr><td>Powder Springs</td><td>O'Brien Men's Neoprene Life Vest</td><td>46</td><td>2299.0799827575684</td></tr><tr><td>Rio Grande</td><td>Nike Men's Dri-FIT Victory Golf Polo</td><td>46</td><td>2300.0</td></tr><tr><td>Salem</td><td>Nike Men's Free 5.0+ Running Shoe</td><td>46</td><td>4599.540008544922</td></tr><tr><td>Tallahassee</td><td>Under Armour Girls' Toddler Spine Surge Runni</td><td>46</td><td>1839.5400390625</td></tr><tr><td>Ventura</td><td>Nike Men's Free 5.0+ Running Shoe</td><td>46</td><td>4599.539993286133</td></tr><tr><td>Wayne</td><td>O'Brien Men's Neoprene Life Vest</td><td>46</td><td>2299.079978942871</td></tr><tr><td>Campbell</td><td>Nike Men's Free 5.0+ Running Shoe</td><td>46</td><td>4599.5400314331055</td></tr><tr><td>Yonkers</td><td>O'Brien Men's Neoprene Life Vest</td><td>46</td><td>2299.0799713134766</td></tr><tr><td>York</td><td>Under Armour Girls' Toddler Spine Surge Runni</td><td>46</td><td>1839.540023803711</td></tr><tr><td>Provo</td><td>Nike Men's Dri-FIT Victory Golf Polo</td><td>46</td><td>2300.0</td></tr><tr><td>Chapel Hill</td><td>Nike Men's Dri-FIT Victory Golf Polo</td><td>46</td><td>2300.0</td></tr><tr><td>Crown Point</td><td>Perfect Fitness Perfect Rip Deck</td><td>46</td><td>2759.54008102417</td></tr><tr><td>Brighton</td><td>O'Brien Men's Neoprene Life Vest</td><td>45</td><td>2249.0999755859375</td></tr><tr><td>Chillicothe</td><td>Nike Men's Dri-FIT Victory Golf Polo</td><td>45</td><td>2250.0</td></tr><tr><td>El Cajon</td><td>O'Brien Men's Neoprene Life Vest</td><td>45</td><td>2249.0999794006348</td></tr><tr><td>Elyria</td><td>Under Armour Girls' Toddler Spine Surge Runni</td><td>45</td><td>1799.549991607666</td></tr><tr><td>Katy</td><td>Perfect Fitness Perfect Rip Deck</td><td>45</td><td>2699.5500869750977</td></tr><tr><td>Lompoc</td><td>O'Brien Men's Neoprene Life Vest</td><td>45</td><td>2249.099983215332</td></tr><tr><td>Reynoldsburg</td><td>Nike Men's Dri-FIT Victory Golf Polo</td><td>45</td><td>2250.0</td></tr><tr><td>Burnsville</td><td>O'Brien Men's Neoprene Life Vest</td><td>45</td><td>2249.099983215332</td></tr><tr><td>San Marcos</td><td>Under Armour Girls' Toddler Spine Surge Runni</td><td>45</td><td>1799.5500183105469</td></tr><tr><td>Waukegan</td><td>Nike Men's Dri-FIT Victory Golf Polo</td><td>45</td><td>2250.0</td></tr><tr><td>Dearborn</td><td>Under Armour Girls' Toddler Spine Surge Runni</td><td>45</td><td>1799.5500030517578</td></tr><tr><td>Baldwin Park</td><td>O'Brien Men's Neoprene Life Vest</td><td>45</td><td>2249.099994659424</td></tr><tr><td>Elmhurst</td><td>Nike Men's CJ Elite 2 TD Football Cleat</td><td>45</td><td>5849.550247192383</td></tr><tr><td>Greensboro</td><td>Nike Men's Free 5.0+ Running Shoe</td><td>45</td><td>4499.54997253418</td></tr><tr><td>Hagerstown</td><td>Nike Men's Free 5.0+ Running Shoe</td><td>45</td><td>4499.550025939941</td></tr><tr><td>Hesperia</td><td>Nike Men's Dri-FIT Victory Golf Polo</td><td>45</td><td>2250.0</td></tr><tr><td>Highland</td><td>Nike Men's Dri-FIT Victory Golf Polo</td><td>45</td><td>2250.0</td></tr><tr><td>Lakewood</td><td>Under Armour Girls' Toddler Spine Surge Runni</td><td>45</td><td>1799.5500411987305</td></tr><tr><td>Lompoc</td><td>Nike Men's Free 5.0+ Running Shoe</td><td>45</td><td>4499.550033569336</td></tr><tr><td>Marietta</td><td>Nike Men's CJ Elite 2 TD Football Cleat</td><td>45</td><td>5849.550247192383</td></tr><tr><td>Milwaukee</td><td>Nike Men's Free 5.0+ Running Shoe</td><td>45</td><td>4499.549995422363</td></tr><tr><td>North Hollywood</td><td>Under Armour Girls' Toddler Spine Surge Runni</td><td>45</td><td>1799.5500183105469</td></tr><tr><td>Provo</td><td>Perfect Fitness Perfect Rip Deck</td><td>45</td><td>2699.550064086914</td></tr><tr><td>Richardson</td><td>O'Brien Men's Neoprene Life Vest</td><td>45</td><td>2249.0999755859375</td></tr><tr><td>Sylmar</td><td>Nike Men's Dri-FIT Victory Golf Polo</td><td>45</td><td>2250.0</td></tr><tr><td>Tonawanda</td><td>Under Armour Girls' Toddler Spine Surge Runni</td><td>45</td><td>1799.5499992370605</td></tr><tr><td>Tulare</td><td>Perfect Fitness Perfect Rip Deck</td><td>45</td><td>2699.550060272217</td></tr><tr><td>Canton</td><td>Nike Men's Free 5.0+ Running Shoe</td><td>45</td><td>4499.550025939941</td></tr><tr><td>Westland</td><td>Perfect Fitness Perfect Rip Deck</td><td>45</td><td>2699.5500679016113</td></tr><tr><td>Westminster</td><td>O'Brien Men's Neoprene Life Vest</td><td>45</td><td>2249.099967956543</td></tr><tr><td>Watsonville</td><td>Nike Men's Free 5.0+ Running Shoe</td><td>45</td><td>4499.549987792969</td></tr><tr><td>East Lansing</td><td>O'Brien Men's Neoprene Life Vest</td><td>45</td><td>2249.0999717712402</td></tr><tr><td>Plano</td><td>Under Armour Girls' Toddler Spine Surge Runni</td><td>45</td><td>1799.5500144958496</td></tr><tr><td>Glenview</td><td>Nike Men's Dri-FIT Victory Golf Polo</td><td>44</td><td>2200.0</td></tr><tr><td>Hamilton</td><td>Nike Men's Free 5.0+ Running Shoe</td><td>44</td><td>4399.559982299805</td></tr><tr><td>Manchester</td><td>Nike Men's Dri-FIT Victory Golf Polo</td><td>44</td><td>2200.0</td></tr><tr><td>Paramount</td><td>O'Brien Men's Neoprene Life Vest</td><td>44</td><td>2199.1199645996094</td></tr><tr><td>Sunnyvale</td><td>O'Brien Men's Neoprene Life Vest</td><td>44</td><td>2199.120002746582</td></tr><tr><td>Troy</td><td>Under Armour Girls' Toddler Spine Surge Runni</td><td>44</td><td>1759.5600509643555</td></tr><tr><td>Forest Hills</td><td>O'Brien Men's Neoprene Life Vest</td><td>44</td><td>2199.1199836730957</td></tr><tr><td>Canyon Country</td><td>Nike Men's Dri-FIT Victory Golf Polo</td><td>44</td><td>2200.0</td></tr><tr><td>Grove City</td><td>Nike Men's Dri-FIT Victory Golf Polo</td><td>44</td><td>2200.0</td></tr><tr><td>Hilliard</td><td>Perfect Fitness Perfect Rip Deck</td><td>44</td><td>2639.5600814819336</td></tr><tr><td>Huntington Beach</td><td>Under Armour Girls' Toddler Spine Surge Runni</td><td>44</td><td>1759.5600280761719</td></tr><tr><td>Irwin</td><td>O'Brien Men's Neoprene Life Vest</td><td>44</td><td>2199.1199836730957</td></tr><tr><td>Lynwood</td><td>Nike Men's Dri-FIT Victory Golf Polo</td><td>44</td><td>2200.0</td></tr><tr><td>New Haven</td><td>Under Armour Girls' Toddler Spine Surge Runni</td><td>44</td><td>1759.5600357055664</td></tr><tr><td>Opa Locka</td><td>Nike Men's Dri-FIT Victory Golf Polo</td><td>44</td><td>2200.0</td></tr><tr><td>Pasadena</td><td>O'Brien Men's Neoprene Life Vest</td><td>44</td><td>2199.119972229004</td></tr><tr><td>Perth Amboy</td><td>Perfect Fitness Perfect Rip Deck</td><td>44</td><td>2639.5600776672363</td></tr><tr><td>Provo</td><td>O'Brien Men's Neoprene Life Vest</td><td>44</td><td>2199.119976043701</td></tr><tr><td>Stone Mountain</td><td>Nike Men's Free 5.0+ Running Shoe</td><td>44</td><td>4399.560028076172</td></tr><tr><td>Temecula</td><td>Perfect Fitness Perfect Rip Deck</td><td>44</td><td>2639.560085296631</td></tr><tr><td>West Orange</td><td>Nike Men's Free 5.0+ Running Shoe</td><td>44</td><td>4399.559982299805</td></tr><tr><td>Westerville</td><td>Perfect Fitness Perfect Rip Deck</td><td>44</td><td>2639.5600624084473</td></tr><tr><td>Wheeling</td><td>Nike Men's Dri-FIT Victory Golf Polo</td><td>44</td><td>2200.0</td></tr><tr><td>Freeport</td><td>Nike Men's Free 5.0+ Running Shoe</td><td>44</td><td>4399.559989929199</td></tr><tr><td>Seattle</td><td>Nike Men's Dri-FIT Victory Golf Polo</td><td>44</td><td>2200.0</td></tr><tr><td>Fairfield</td><td>Nike Men's Free 5.0+ Running Shoe</td><td>44</td><td>4399.559982299805</td></tr><tr><td>Clovis</td><td>Nike Men's Dri-FIT Victory Golf Polo</td><td>44</td><td>2200.0</td></tr><tr><td>Cypress</td><td>Nike Men's Dri-FIT Victory Golf Polo</td><td>44</td><td>2200.0</td></tr><tr><td>Del Rio</td><td>O'Brien Men's Neoprene Life Vest</td><td>43</td><td>2149.1399726867676</td></tr><tr><td>Cicero</td><td>Perfect Fitness Perfect Rip Deck</td><td>43</td><td>2579.5700645446777</td></tr><tr><td>Dundalk</td><td>Perfect Fitness Perfect Rip Deck</td><td>43</td><td>2579.5700645446777</td></tr><tr><td>Kaneohe</td><td>Perfect Fitness Perfect Rip Deck</td><td>43</td><td>2579.5700759887695</td></tr><tr><td>La Habra</td><td>Perfect Fitness Perfect Rip Deck</td><td>43</td><td>2579.5700607299805</td></tr><tr><td>Plainfield</td><td>Perfect Fitness Perfect Rip Deck</td><td>43</td><td>2579.5700645446777</td></tr><tr><td>Rio Rancho</td><td>Perfect Fitness Perfect Rip Deck</td><td>43</td><td>2579.5700912475586</td></tr><tr><td>West Orange</td><td>Nike Men's Dri-FIT Victory Golf Polo</td><td>43</td><td>2150.0</td></tr><tr><td>Irving</td><td>Nike Men's CJ Elite 2 TD Football Cleat</td><td>43</td><td>5589.570236206055</td></tr><tr><td>Brighton</td><td>Nike Men's Free 5.0+ Running Shoe</td><td>43</td><td>4299.569976806641</td></tr><tr><td>Chillicothe</td><td>Perfect Fitness Perfect Rip Deck</td><td>43</td><td>2579.570056915283</td></tr><tr><td>Elyria</td><td>Nike Men's Free 5.0+ Running Shoe</td><td>43</td><td>4299.569984436035</td></tr><tr><td>Kent</td><td>Nike Men's Dri-FIT Victory Golf Polo</td><td>43</td><td>2150.0</td></tr><tr><td>Medford</td><td>Nike Men's Dri-FIT Victory Golf Polo</td><td>43</td><td>2150.0</td></tr><tr><td>Milpitas</td><td>Nike Men's Dri-FIT Victory Golf Polo</td><td>43</td><td>2150.0</td></tr><tr><td>Norfolk</td><td>Under Armour Girls' Toddler Spine Surge Runni</td><td>43</td><td>1719.570011138916</td></tr><tr><td>Rancho Cordova</td><td>Nike Men's Dri-FIT Victory Golf Polo</td><td>43</td><td>2150.0</td></tr><tr><td>Rego Park</td><td>Nike Men's Dri-FIT Victory Golf Polo</td><td>43</td><td>2150.0</td></tr><tr><td>Saint Charles</td><td>Perfect Fitness Perfect Rip Deck</td><td>43</td><td>2579.5700607299805</td></tr><tr><td>San Benito</td><td>Nike Men's Dri-FIT Victory Golf Polo</td><td>43</td><td>2150.0</td></tr><tr><td>Sandusky</td><td>Nike Men's Dri-FIT Victory Golf Polo</td><td>43</td><td>2150.0</td></tr><tr><td>Glenview</td><td>Perfect Fitness Perfect Rip Deck</td><td>43</td><td>2579.5700759887695</td></tr><tr><td>Woodbridge</td><td>O'Brien Men's Neoprene Life Vest</td><td>43</td><td>2149.1399993896484</td></tr><tr><td>Yonkers</td><td>Nike Men's Dri-FIT Victory Golf Polo</td><td>43</td><td>2150.0</td></tr><tr><td>Smyrna</td><td>Nike Men's Dri-FIT Victory Golf Polo</td><td>43</td><td>2150.0</td></tr><tr><td>Spring Valley</td><td>Under Armour Girls' Toddler Spine Surge Runni</td><td>43</td><td>1719.5700187683105</td></tr><tr><td>Brownsville</td><td>Under Armour Girls' Toddler Spine Surge Runni</td><td>43</td><td>1719.5700225830078</td></tr><tr><td>Fontana</td><td>O'Brien Men's Neoprene Life Vest</td><td>43</td><td>2149.1399688720703</td></tr><tr><td>Annapolis</td><td>Perfect Fitness Perfect Rip Deck</td><td>43</td><td>2579.5700721740723</td></tr><tr><td>Bridgeton</td><td>Nike Men's Free 5.0+ Running Shoe</td><td>42</td><td>4199.580032348633</td></tr><tr><td>Buena Park</td><td>O'Brien Men's Neoprene Life Vest</td><td>42</td><td>2099.1599655151367</td></tr><tr><td>Decatur</td><td>Perfect Fitness Perfect Rip Deck</td><td>42</td><td>2519.5800590515137</td></tr><tr><td>Fountain Valley</td><td>Perfect Fitness Perfect Rip Deck</td><td>42</td><td>2519.5800704956055</td></tr><tr><td>Federal Way</td><td>O'Brien Men's Neoprene Life Vest</td><td>42</td><td>2099.159980773926</td></tr><tr><td>Fullerton</td><td>Nike Men's Free 5.0+ Running Shoe</td><td>42</td><td>4199.580032348633</td></tr><tr><td>Lutz</td><td>O'Brien Men's Neoprene Life Vest</td><td>42</td><td>2099.159999847412</td></tr><tr><td>Moline</td><td>Under Armour Girls' Toddler Spine Surge Runni</td><td>42</td><td>1679.5800285339355</td></tr><tr><td>Quincy</td><td>Under Armour Girls' Toddler Spine Surge Runni</td><td>42</td><td>1679.5800132751465</td></tr><tr><td>Annandale</td><td>Nike Men's Dri-FIT Victory Golf Polo</td><td>42</td><td>2100.0</td></tr><tr><td>San Ramon</td><td>Perfect Fitness Perfect Rip Deck</td><td>42</td><td>2519.580066680908</td></tr><tr><td>Pico Rivera</td><td>Perfect Fitness Perfect Rip Deck</td><td>42</td><td>2519.580066680908</td></tr><tr><td>Bend</td><td>Nike Men's CJ Elite 2 TD Football Cleat</td><td>42</td><td>5459.580230712891</td></tr><tr><td>Carson</td><td>O'Brien Men's Neoprene Life Vest</td><td>42</td><td>2099.159980773926</td></tr><tr><td>Denton</td><td>Perfect Fitness Perfect Rip Deck</td><td>42</td><td>2519.5800704956055</td></tr><tr><td>Diamond Bar</td><td>Nike Men's Dri-FIT Victory Golf Polo</td><td>42</td><td>2100.0</td></tr><tr><td>Findlay</td><td>Nike Men's Dri-FIT Victory Golf Polo</td><td>42</td><td>2100.0</td></tr><tr><td>Granada Hills</td><td>Nike Men's Free 5.0+ Running Shoe</td><td>42</td><td>4199.57999420166</td></tr><tr><td>Kent</td><td>O'Brien Men's Neoprene Life Vest</td><td>42</td><td>2099.159999847412</td></tr><tr><td>La Mirada</td><td>O'Brien Men's Neoprene Life Vest</td><td>42</td><td>2099.1599769592285</td></tr><tr><td>Lawrence</td><td>Nike Men's Free 5.0+ Running Shoe</td><td>42</td><td>4199.580009460449</td></tr><tr><td>Metairie</td><td>O'Brien Men's Neoprene Life Vest</td><td>42</td><td>2099.159984588623</td></tr><tr><td>Modesto</td><td>Nike Men's Free 5.0+ Running Shoe</td><td>42</td><td>4199.57999420166</td></tr><tr><td>O Fallon</td><td>Nike Men's Dri-FIT Victory Golf Polo</td><td>42</td><td>2100.0</td></tr><tr><td>Oakland</td><td>Nike Men's Dri-FIT Victory Golf Polo</td><td>42</td><td>2100.0</td></tr><tr><td>Palatine</td><td>O'Brien Men's Neoprene Life Vest</td><td>42</td><td>2099.159996032715</td></tr><tr><td>Princeton</td><td>O'Brien Men's Neoprene Life Vest</td><td>42</td><td>2099.1599769592285</td></tr><tr><td>Rowland Heights</td><td>Nike Men's Free 5.0+ Running Shoe</td><td>42</td><td>4199.580047607422</td></tr><tr><td>Stamford</td><td>O'Brien Men's Neoprene Life Vest</td><td>42</td><td>2099.159984588623</td></tr><tr><td>Sun Valley</td><td>Perfect Fitness Perfect Rip Deck</td><td>42</td><td>2519.5800743103027</td></tr><tr><td>Sylmar</td><td>Perfect Fitness Perfect Rip Deck</td><td>42</td><td>2519.5800743103027</td></tr><tr><td>Bellflower</td><td>Nike Men's Dri-FIT Victory Golf Polo</td><td>42</td><td>2100.0</td></tr><tr><td>West Lafayette</td><td>Perfect Fitness Perfect Rip Deck</td><td>42</td><td>2519.5800704956055</td></tr><tr><td>Wheeling</td><td>Perfect Fitness Perfect Rip Deck</td><td>42</td><td>2519.580062866211</td></tr><tr><td>Duluth</td><td>O'Brien Men's Neoprene Life Vest</td><td>42</td><td>2099.1599769592285</td></tr><tr><td>Bountiful</td><td>Perfect Fitness Perfect Rip Deck</td><td>42</td><td>2519.5800743103027</td></tr><tr><td>Bowling Green</td><td>Nike Men's Dri-FIT Victory Golf Polo</td><td>42</td><td>2100.0</td></tr><tr><td>Bountiful</td><td>O'Brien Men's Neoprene Life Vest</td><td>41</td><td>2049.179973602295</td></tr><tr><td>Canton</td><td>Nike Men's Dri-FIT Victory Golf Polo</td><td>41</td><td>2050.0</td></tr><tr><td>Bismarck</td><td>Nike Men's Dri-FIT Victory Golf Polo</td><td>41</td><td>2050.0</td></tr><tr><td>Carmichael</td><td>Nike Men's Dri-FIT Victory Golf Polo</td><td>41</td><td>2050.0</td></tr><tr><td>Chambersburg</td><td>Perfect Fitness Perfect Rip Deck</td><td>41</td><td>2459.590061187744</td></tr><tr><td>Greensburg</td><td>Nike Men's Dri-FIT Victory Golf Polo</td><td>41</td><td>2050.0</td></tr><tr><td>Jonesboro</td><td>Nike Men's Dri-FIT Victory Golf Polo</td><td>41</td><td>2050.0</td></tr><tr><td>Piscataway</td><td>O'Brien Men's Neoprene Life Vest</td><td>41</td><td>2049.1799812316895</td></tr><tr><td>Mission Viejo</td><td>Under Armour Girls' Toddler Spine Surge Runni</td><td>41</td><td>1639.5900344848633</td></tr><tr><td>Potomac</td><td>Under Armour Girls' Toddler Spine Surge Runni</td><td>41</td><td>1639.5900230407715</td></tr><tr><td>San Pablo</td><td>Perfect Fitness Perfect Rip Deck</td><td>41</td><td>2459.5900802612305</td></tr><tr><td>Stone Mountain</td><td>Nike Men's Dri-FIT Victory Golf Polo</td><td>41</td><td>2050.0</td></tr><tr><td>West Orange</td><td>O'Brien Men's Neoprene Life Vest</td><td>41</td><td>2049.1800079345703</td></tr><tr><td>Brighton</td><td>Perfect Fitness Perfect Rip Deck</td><td>41</td><td>2459.5900497436523</td></tr><tr><td>Alameda</td><td>O'Brien Men's Neoprene Life Vest</td><td>41</td><td>2049.1799850463867</td></tr><tr><td>Carolina</td><td>Nike Men's Free 5.0+ Running Shoe</td><td>41</td><td>4099.590003967285</td></tr><tr><td>Colorado Springs</td><td>Under Armour Girls' Toddler Spine Surge Runni</td><td>41</td><td>1639.5900230407715</td></tr><tr><td>Elmhurst</td><td>Under Armour Girls' Toddler Spine Surge Runni</td><td>41</td><td>1639.5900344848633</td></tr><tr><td>Germantown</td><td>Nike Men's Free 5.0+ Running Shoe</td><td>41</td><td>4099.590003967285</td></tr><tr><td>Goleta</td><td>Perfect Fitness Perfect Rip Deck</td><td>41</td><td>2459.590087890625</td></tr><tr><td>Howell</td><td>Nike Men's Dri-FIT Victory Golf Polo</td><td>41</td><td>2050.0</td></tr><tr><td>Joliet</td><td>Nike Men's Dri-FIT Victory Golf Polo</td><td>41</td><td>2050.0</td></tr><tr><td>Katy</td><td>Nike Men's Dri-FIT Victory Golf Polo</td><td>41</td><td>2050.0</td></tr><tr><td>Lindenhurst</td><td>Perfect Fitness Perfect Rip Deck</td><td>41</td><td>2459.590076446533</td></tr><tr><td>Madison</td><td>Nike Men's Dri-FIT Victory Golf Polo</td><td>41</td><td>2050.0</td></tr><tr><td>Pasadena</td><td>Nike Men's Dri-FIT Victory Golf Polo</td><td>41</td><td>2050.0</td></tr><tr><td>Pittsfield</td><td>Nike Men's Free 5.0+ Running Shoe</td><td>41</td><td>4099.590034484863</td></tr><tr><td>Princeton</td><td>Nike Men's Free 5.0+ Running Shoe</td><td>41</td><td>4099.589950561523</td></tr><tr><td>Redmond</td><td>Nike Men's Dri-FIT Victory Golf Polo</td><td>41</td><td>2050.0</td></tr><tr><td>Ridgewood</td><td>O'Brien Men's Neoprene Life Vest</td><td>41</td><td>2049.179977416992</td></tr><tr><td>Rio Rancho</td><td>Nike Men's Dri-FIT Victory Golf Polo</td><td>41</td><td>2050.0</td></tr><tr><td>San Ramon</td><td>Nike Men's Dri-FIT Victory Golf Polo</td><td>41</td><td>2050.0</td></tr><tr><td>Stockton</td><td>Under Armour Girls' Toddler Spine Surge Runni</td><td>41</td><td>1639.5900382995605</td></tr><tr><td>Toms River</td><td>O'Brien Men's Neoprene Life Vest</td><td>41</td><td>2049.179977416992</td></tr><tr><td>Valrico</td><td>Perfect Fitness Perfect Rip Deck</td><td>41</td><td>2459.5900497436523</td></tr><tr><td>Webster</td><td>Nike Men's Dri-FIT Victory Golf Polo</td><td>41</td><td>2050.0</td></tr><tr><td>Beaverton</td><td>Perfect Fitness Perfect Rip Deck</td><td>41</td><td>2459.590045928955</td></tr><tr><td>West Jordan</td><td>Nike Men's Dri-FIT Victory Golf Polo</td><td>41</td><td>2050.0</td></tr><tr><td>Weslaco</td><td>Nike Men's Dri-FIT Victory Golf Polo</td><td>41</td><td>2050.0</td></tr><tr><td>West Covina</td><td>Under Armour Girls' Toddler Spine Surge Runni</td><td>41</td><td>1639.5900382995605</td></tr><tr><td>Arlington</td><td>O'Brien Men's Neoprene Life Vest</td><td>41</td><td>2049.179988861084</td></tr><tr><td>Baldwin Park</td><td>Nike Men's Dri-FIT Victory Golf Polo</td><td>41</td><td>2050.0</td></tr><tr><td>Costa Mesa</td><td>Nike Men's Free 5.0+ Running Shoe</td><td>40</td><td>3999.6000061035156</td></tr><tr><td>Cary</td><td>O'Brien Men's Neoprene Life Vest</td><td>40</td><td>1999.1999855041504</td></tr><tr><td>College Station</td><td>O'Brien Men's Neoprene Life Vest</td><td>40</td><td>1999.1999740600586</td></tr><tr><td>Dearborn</td><td>Nike Men's Free 5.0+ Running Shoe</td><td>40</td><td>3999.599983215332</td></tr><tr><td>El Centro</td><td>Nike Men's Dri-FIT Victory Golf Polo</td><td>40</td><td>2000.0</td></tr><tr><td>Greenville</td><td>O'Brien Men's Neoprene Life Vest</td><td>40</td><td>1999.1999855041504</td></tr><tr><td>Garland</td><td>Perfect Fitness Perfect Rip Deck</td><td>40</td><td>2399.600067138672</td></tr><tr><td>Hollywood</td><td>Under Armour Girls' Toddler Spine Surge Runni</td><td>40</td><td>1599.6000480651855</td></tr><tr><td>Montebello</td><td>Nike Men's Dri-FIT Victory Golf Polo</td><td>40</td><td>2000.0</td></tr><tr><td>Mount Prospect</td><td>Nike Men's Free 5.0+ Running Shoe</td><td>40</td><td>3999.599983215332</td></tr><tr><td>Pittsburg</td><td>Perfect Fitness Perfect Rip Deck</td><td>40</td><td>2399.60005569458</td></tr><tr><td>Rochester</td><td>O'Brien Men's Neoprene Life Vest</td><td>40</td><td>1999.1999893188477</td></tr><tr><td>Toms River</td><td>Nike Men's Dri-FIT Victory Golf Polo</td><td>40</td><td>2000.0</td></tr><tr><td>Salina</td><td>Nike Men's Dri-FIT Victory Golf Polo</td><td>40</td><td>2000.0</td></tr><tr><td>Painesville</td><td>Nike Men's Dri-FIT Victory Golf Polo</td><td>40</td><td>2000.0</td></tr><tr><td>Chesapeake</td><td>Under Armour Girls' Toddler Spine Surge Runni</td><td>40</td><td>1599.6000442504883</td></tr><tr><td>Duluth</td><td>Perfect Fitness Perfect Rip Deck</td><td>40</td><td>2399.6000633239746</td></tr><tr><td>Enfield</td><td>Nike Men's Free 5.0+ Running Shoe</td><td>40</td><td>3999.600028991699</td></tr><tr><td>Everett</td><td>Nike Men's Dri-FIT Victory Golf Polo</td><td>40</td><td>2000.0</td></tr><tr><td>Fontana</td><td>Nike Men's Free 5.0+ Running Shoe</td><td>40</td><td>3999.5999450683594</td></tr><tr><td>Goose Creek</td><td>Nike Men's Dri-FIT Victory Golf Polo</td><td>40</td><td>2000.0</td></tr><tr><td>Hagerstown</td><td>Perfect Fitness Perfect Rip Deck</td><td>40</td><td>2399.6000595092773</td></tr><tr><td>Katy</td><td>Nike Men's Free 5.0+ Running Shoe</td><td>40</td><td>3999.6000213623047</td></tr><tr><td>Lenoir</td><td>O'Brien Men's Neoprene Life Vest</td><td>40</td><td>1999.1999816894531</td></tr><tr><td>Lompoc</td><td>Nike Men's Dri-FIT Victory Golf Polo</td><td>40</td><td>2000.0</td></tr><tr><td>Middletown</td><td>Nike Men's Free 5.0+ Running Shoe</td><td>40</td><td>3999.5999908447266</td></tr><tr><td>Moreno Valley</td><td>Nike Men's Free 5.0+ Running Shoe</td><td>40</td><td>3999.6000213623047</td></tr><tr><td>Morrisville</td><td>Perfect Fitness Perfect Rip Deck</td><td>40</td><td>2399.6000785827637</td></tr><tr><td>Norcross</td><td>Nike Men's Dri-FIT Victory Golf Polo</td><td>40</td><td>2000.0</td></tr><tr><td>O Fallon</td><td>O'Brien Men's Neoprene Life Vest</td><td>40</td><td>1999.1999778747559</td></tr><tr><td>Opa Locka</td><td>O'Brien Men's Neoprene Life Vest</td><td>40</td><td>1999.1999778747559</td></tr><tr><td>Reseda</td><td>Perfect Fitness Perfect Rip Deck</td><td>40</td><td>2399.600070953369</td></tr><tr><td>Round Rock</td><td>O'Brien Men's Neoprene Life Vest</td><td>40</td><td>1999.1999855041504</td></tr><tr><td>Rancho Cordova</td><td>O'Brien Men's Neoprene Life Vest</td><td>40</td><td>1999.1999740600586</td></tr><tr><td>Van Nuys</td><td>Nike Men's CJ Elite 2 TD Football Cleat</td><td>40</td><td>5199.6002197265625</td></tr><tr><td>Warren</td><td>O'Brien Men's Neoprene Life Vest</td><td>40</td><td>1999.1999778747559</td></tr><tr><td>Yuma</td><td>Perfect Fitness Perfect Rip Deck</td><td>40</td><td>2399.600067138672</td></tr><tr><td>Waukegan</td><td>O'Brien Men's Neoprene Life Vest</td><td>40</td><td>1999.1999893188477</td></tr><tr><td>Zanesville</td><td>Nike Men's Free 5.0+ Running Shoe</td><td>40</td><td>3999.6000213623047</td></tr><tr><td>Passaic</td><td>O'Brien Men's Neoprene Life Vest</td><td>40</td><td>1999.1999702453613</td></tr><tr><td>Orange Park</td><td>Under Armour Girls' Toddler Spine Surge Runni</td><td>40</td><td>1599.600025177002</td></tr><tr><td>Baytown</td><td>Perfect Fitness Perfect Rip Deck</td><td>40</td><td>2399.600070953369</td></tr><tr><td>Bismarck</td><td>Nike Men's Free 5.0+ Running Shoe</td><td>40</td><td>3999.5999755859375</td></tr><tr><td>Chino</td><td>Perfect Fitness Perfect Rip Deck</td><td>39</td><td>2339.6100578308105</td></tr><tr><td>Cumberland</td><td>O'Brien Men's Neoprene Life Vest</td><td>39</td><td>1949.2199974060059</td></tr><tr><td>Endicott</td><td>Under Armour Girls' Toddler Spine Surge Runni</td><td>39</td><td>1559.610019683838</td></tr><tr><td>Holland</td><td>Nike Men's Dri-FIT Victory Golf Polo</td><td>39</td><td>1950.0</td></tr><tr><td>Lakewood</td><td>Nike Men's CJ Elite 2 TD Football Cleat</td><td>39</td><td>5069.610214233398</td></tr><tr><td>Sanford</td><td>O'Brien Men's Neoprene Life Vest</td><td>39</td><td>1949.219985961914</td></tr><tr><td>Saint Charles</td><td>Nike Men's Dri-FIT Victory Golf Polo</td><td>39</td><td>1950.0</td></tr><tr><td>Carrollton</td><td>Under Armour Girls' Toddler Spine Surge Runni</td><td>39</td><td>1559.6100425720215</td></tr><tr><td>Cypress</td><td>O'Brien Men's Neoprene Life Vest</td><td>39</td><td>1949.2199745178223</td></tr><tr><td>Harvey</td><td>O'Brien Men's Neoprene Life Vest</td><td>39</td><td>1949.2199974060059</td></tr><tr><td>Irwin</td><td>Under Armour Girls' Toddler Spine Surge Runni</td><td>39</td><td>1559.6100311279297</td></tr><tr><td>Jersey City</td><td>Under Armour Girls' Toddler Spine Surge Runni</td><td>39</td><td>1559.6100425720215</td></tr><tr><td>Loveland</td><td>Nike Men's Free 5.0+ Running Shoe</td><td>39</td><td>3899.610038757324</td></tr><tr><td>North Las Vegas</td><td>Under Armour Girls' Toddler Spine Surge Runni</td><td>39</td><td>1559.6100311279297</td></tr><tr><td>North Las Vegas</td><td>O'Brien Men's Neoprene Life Vest</td><td>39</td><td>1949.219985961914</td></tr><tr><td>Rego Park</td><td>O'Brien Men's Neoprene Life Vest</td><td>39</td><td>1949.2199821472168</td></tr><tr><td>Westland</td><td>O'Brien Men's Neoprene Life Vest</td><td>39</td><td>1949.2199935913086</td></tr><tr><td>Weslaco</td><td>Nike Men's Free 5.0+ Running Shoe</td><td>39</td><td>3899.6099853515625</td></tr><tr><td>Wichita</td><td>Nike Men's Free 5.0+ Running Shoe</td><td>39</td><td>3899.6100158691406</td></tr><tr><td>Chino</td><td>Under Armour Girls' Toddler Spine Surge Runni</td><td>39</td><td>1559.6100425720215</td></tr><tr><td>Oak Lawn</td><td>Nike Men's Dri-FIT Victory Golf Polo</td><td>39</td><td>1950.0</td></tr><tr><td>Carolina</td><td>Under Armour Girls' Toddler Spine Surge Runni</td><td>39</td><td>1559.6100006103516</td></tr><tr><td>Bellflower</td><td>Perfect Fitness Perfect Rip Deck</td><td>39</td><td>2339.610061645508</td></tr><tr><td>Bristol</td><td>Perfect Fitness Perfect Rip Deck</td><td>39</td><td>2339.610050201416</td></tr><tr><td>Chino Hills</td><td>Nike Men's Dri-FIT Victory Golf Polo</td><td>38</td><td>1900.0</td></tr><tr><td>Chesapeake</td><td>Nike Men's Free 5.0+ Running Shoe</td><td>38</td><td>3799.6200408935547</td></tr><tr><td>Chula Vista</td><td>Nike Men's CJ Elite 2 TD Football Cleat</td><td>38</td><td>4939.620208740234</td></tr><tr><td>Denton</td><td>Under Armour Girls' Toddler Spine Surge Runni</td><td>38</td><td>1519.6200065612793</td></tr><tr><td>Granite City</td><td>Perfect Fitness Perfect Rip Deck</td><td>38</td><td>2279.620071411133</td></tr><tr><td>East Brunswick</td><td>Nike Men's Dri-FIT Victory Golf Polo</td><td>38</td><td>1900.0</td></tr><tr><td>Highland</td><td>Under Armour Girls' Toddler Spine Surge Runni</td><td>38</td><td>1519.6200218200684</td></tr><tr><td>Kent</td><td>Nike Men's Free 5.0+ Running Shoe</td><td>38</td><td>3799.6199798583984</td></tr><tr><td>Loveland</td><td>O'Brien Men's Neoprene Life Vest</td><td>38</td><td>1899.2399787902832</td></tr><tr><td>Mount Prospect</td><td>O'Brien Men's Neoprene Life Vest</td><td>38</td><td>1899.2399711608887</td></tr><tr><td>North Hills</td><td>O'Brien Men's Neoprene Life Vest</td><td>38</td><td>1899.2399940490723</td></tr><tr><td>Placentia</td><td>Perfect Fitness Perfect Rip Deck</td><td>38</td><td>2279.6200523376465</td></tr><tr><td>Roswell</td><td>Under Armour Girls' Toddler Spine Surge Runni</td><td>38</td><td>1519.620044708252</td></tr><tr><td>South Ozone Park</td><td>O'Brien Men's Neoprene Life Vest</td><td>38</td><td>1899.2399826049805</td></tr><tr><td>Alpharetta</td><td>Nike Men's Dri-FIT Victory Golf Polo</td><td>38</td><td>1900.0</td></tr><tr><td>Spring Valley</td><td>Nike Men's Free 5.0+ Running Shoe</td><td>38</td><td>3799.6200256347656</td></tr><tr><td>San Sebastian</td><td>Nike Men's Free 5.0+ Running Shoe</td><td>38</td><td>3799.6199951171875</td></tr><tr><td>Beloit</td><td>Perfect Fitness Perfect Rip Deck</td><td>38</td><td>2279.6200637817383</td></tr><tr><td>Clearfield</td><td>Nike Men's Free 5.0+ Running Shoe</td><td>38</td><td>3799.6200256347656</td></tr><tr><td>El Cajon</td><td>Under Armour Girls' Toddler Spine Surge Runni</td><td>38</td><td>1519.6200370788574</td></tr><tr><td>Greensburg</td><td>O'Brien Men's Neoprene Life Vest</td><td>38</td><td>1899.239974975586</td></tr><tr><td>Hollister</td><td>Nike Men's Dri-FIT Victory Golf Polo</td><td>38</td><td>1900.0</td></tr><tr><td>Hollywood</td><td>Nike Men's CJ Elite 2 TD Football Cleat</td><td>38</td><td>4939.620208740234</td></tr><tr><td>Kaneohe</td><td>O'Brien Men's Neoprene Life Vest</td><td>38</td><td>1899.239974975586</td></tr><tr><td>Kent</td><td>Under Armour Girls' Toddler Spine Surge Runni</td><td>38</td><td>1519.620018005371</td></tr><tr><td>La Crosse</td><td>Nike Men's Free 5.0+ Running Shoe</td><td>38</td><td>3799.6200408935547</td></tr><tr><td>Lindenhurst</td><td>Nike Men's Dri-FIT Victory Golf Polo</td><td>38</td><td>1900.0</td></tr><tr><td>Madison</td><td>O'Brien Men's Neoprene Life Vest</td><td>38</td><td>1899.2399673461914</td></tr><tr><td>Medford</td><td>O'Brien Men's Neoprene Life Vest</td><td>38</td><td>1899.239974975586</td></tr><tr><td>Meridian</td><td>Nike Men's Dri-FIT Victory Golf Polo</td><td>38</td><td>1900.0</td></tr><tr><td>North Hills</td><td>Under Armour Girls' Toddler Spine Surge Runni</td><td>38</td><td>1519.620018005371</td></tr><tr><td>North Tonawanda</td><td>Nike Men's Dri-FIT Victory Golf Polo</td><td>38</td><td>1900.0</td></tr><tr><td>Opa Locka</td><td>Under Armour Girls' Toddler Spine Surge Runni</td><td>38</td><td>1519.6200332641602</td></tr><tr><td>Pawtucket</td><td>Nike Men's Dri-FIT Victory Golf Polo</td><td>38</td><td>1900.0</td></tr><tr><td>Pico Rivera</td><td>Nike Men's Dri-FIT Victory Golf Polo</td><td>38</td><td>1900.0</td></tr><tr><td>Potomac</td><td>Perfect Fitness Perfect Rip Deck</td><td>38</td><td>2279.6200561523438</td></tr><tr><td>Potomac</td><td>Nike Men's Dri-FIT Victory Golf Polo</td><td>38</td><td>1900.0</td></tr><tr><td>Saint Charles</td><td>O'Brien Men's Neoprene Life Vest</td><td>38</td><td>1899.2399864196777</td></tr><tr><td>Salina</td><td>Perfect Fitness Perfect Rip Deck</td><td>38</td><td>2279.6200637817383</td></tr><tr><td>Salinas</td><td>O'Brien Men's Neoprene Life Vest</td><td>38</td><td>1899.239990234375</td></tr><tr><td>Smyrna</td><td>Perfect Fitness Perfect Rip Deck</td><td>38</td><td>2279.6200637817383</td></tr><tr><td>Spokane</td><td>Nike Men's Dri-FIT Victory Golf Polo</td><td>38</td><td>1900.0</td></tr><tr><td>Tonawanda</td><td>Nike Men's Free 5.0+ Running Shoe</td><td>38</td><td>3799.619972229004</td></tr><tr><td>Upland</td><td>Perfect Fitness Perfect Rip Deck</td><td>38</td><td>2279.6200790405273</td></tr><tr><td>West New York</td><td>Nike Men's Free 5.0+ Running Shoe</td><td>38</td><td>3799.6199951171875</td></tr><tr><td>Bay Shore</td><td>Nike Men's Dri-FIT Victory Golf Polo</td><td>38</td><td>1900.0</td></tr><tr><td>West Orange</td><td>Perfect Fitness Perfect Rip Deck</td><td>38</td><td>2279.620048522949</td></tr><tr><td>Yauco</td><td>Nike Men's Dri-FIT Victory Golf Polo</td><td>38</td><td>1900.0</td></tr><tr><td>Mission Viejo</td><td>Nike Men's CJ Elite 2 TD Football Cleat</td><td>38</td><td>4939.620208740234</td></tr><tr><td>Catonsville</td><td>Under Armour Girls' Toddler Spine Surge Runni</td><td>38</td><td>1519.6200141906738</td></tr><tr><td>Milpitas</td><td>O'Brien Men's Neoprene Life Vest</td><td>38</td><td>1899.239974975586</td></tr><tr><td>Billings</td><td>O'Brien Men's Neoprene Life Vest</td><td>37</td><td>1849.259967803955</td></tr><tr><td>Baytown</td><td>Nike Men's Dri-FIT Victory Golf Polo</td><td>37</td><td>1850.0</td></tr><tr><td>Arecibo</td><td>Perfect Fitness Perfect Rip Deck</td><td>37</td><td>2219.630069732666</td></tr><tr><td>Cordova</td><td>Nike Men's Dri-FIT Victory Golf Polo</td><td>37</td><td>1850.0</td></tr><tr><td>Brandon</td><td>O'Brien Men's Neoprene Life Vest</td><td>37</td><td>1849.2599792480469</td></tr><tr><td>Cordova</td><td>Perfect Fitness Perfect Rip Deck</td><td>37</td><td>2219.630058288574</td></tr><tr><td>Jacksonville</td><td>Under Armour Girls' Toddler Spine Surge Runni</td><td>37</td><td>1479.6300201416016</td></tr><tr><td>Medford</td><td>Perfect Fitness Perfect Rip Deck</td><td>37</td><td>2219.6300773620605</td></tr><tr><td>Richardson</td><td>Perfect Fitness Perfect Rip Deck</td><td>37</td><td>2219.6300735473633</td></tr><tr><td>Bolingbrook</td><td>Perfect Fitness Perfect Rip Deck</td><td>37</td><td>2219.630058288574</td></tr><tr><td>Salina</td><td>O'Brien Men's Neoprene Life Vest</td><td>37</td><td>1849.2599754333496</td></tr><tr><td>Sunnyvale</td><td>Under Armour Girls' Toddler Spine Surge Runni</td><td>37</td><td>1479.6300239562988</td></tr><tr><td>Sun Valley</td><td>Nike Men's Dri-FIT Victory Golf Polo</td><td>37</td><td>1850.0</td></tr><tr><td>Alpharetta</td><td>O'Brien Men's Neoprene Life Vest</td><td>37</td><td>1849.2599792480469</td></tr><tr><td>Cerritos</td><td>Under Armour Girls' Toddler Spine Surge Runni</td><td>37</td><td>1479.630012512207</td></tr><tr><td>Daly City</td><td>Nike Men's Free 5.0+ Running Shoe</td><td>37</td><td>3699.629997253418</td></tr><tr><td>Flushing</td><td>Perfect Fitness Perfect Rip Deck</td><td>37</td><td>2219.6300659179688</td></tr><tr><td>Greensboro</td><td>Under Armour Girls' Toddler Spine Surge Runni</td><td>37</td><td>1479.6300315856934</td></tr><tr><td>Hyattsville</td><td>Nike Men's CJ Elite 2 TD Football Cleat</td><td>37</td><td>4809.63020324707</td></tr><tr><td>Lansdale</td><td>O'Brien Men's Neoprene Life Vest</td><td>37</td><td>1849.2599792480469</td></tr><tr><td>Manati</td><td>Under Armour Girls' Toddler Spine Surge Runni</td><td>37</td><td>1479.6300315856934</td></tr><tr><td>Milford</td><td>Under Armour Girls' Toddler Spine Surge Runni</td><td>37</td><td>1479.6300086975098</td></tr><tr><td>Napa</td><td>O'Brien Men's Neoprene Life Vest</td><td>37</td><td>1849.259994506836</td></tr><tr><td>New Albany</td><td>Perfect Fitness Perfect Rip Deck</td><td>37</td><td>2219.630054473877</td></tr><tr><td>Quincy</td><td>Nike Men's Free 5.0+ Running Shoe</td><td>37</td><td>3699.629997253418</td></tr><tr><td>Saginaw</td><td>Perfect Fitness Perfect Rip Deck</td><td>37</td><td>2219.630054473877</td></tr><tr><td>Sanford</td><td>Perfect Fitness Perfect Rip Deck</td><td>37</td><td>2219.630069732666</td></tr><tr><td>Santa Clara</td><td>Nike Men's Dri-FIT Victory Golf Polo</td><td>37</td><td>1850.0</td></tr><tr><td>Seattle</td><td>Nike Men's Free 5.0+ Running Shoe</td><td>37</td><td>3699.6300201416016</td></tr><tr><td>Placentia</td><td>O'Brien Men's Neoprene Life Vest</td><td>37</td><td>1849.2599983215332</td></tr><tr><td>Tinley Park</td><td>Perfect Fitness Perfect Rip Deck</td><td>37</td><td>2219.6300659179688</td></tr><tr><td>Tulare</td><td>O'Brien Men's Neoprene Life Vest</td><td>37</td><td>1849.2599830627441</td></tr><tr><td>Walnut</td><td>Nike Men's Dri-FIT Victory Golf Polo</td><td>37</td><td>1850.0</td></tr><tr><td>Valrico</td><td>Nike Men's Dri-FIT Victory Golf Polo</td><td>37</td><td>1850.0</td></tr><tr><td>West Jordan</td><td>O'Brien Men's Neoprene Life Vest</td><td>37</td><td>1849.2599830627441</td></tr><tr><td>Algonquin</td><td>O'Brien Men's Neoprene Life Vest</td><td>37</td><td>1849.2599754333496</td></tr><tr><td>Alhambra</td><td>Perfect Fitness Perfect Rip Deck</td><td>37</td><td>2219.630058288574</td></tr><tr><td>Doylestown</td><td>O'Brien Men's Neoprene Life Vest</td><td>36</td><td>1799.2799987792969</td></tr><tr><td>Eagle Pass</td><td>Perfect Fitness Perfect Rip Deck</td><td>36</td><td>2159.640068054199</td></tr><tr><td>El Centro</td><td>Nike Men's Free 5.0+ Running Shoe</td><td>36</td><td>3599.639991760254</td></tr><tr><td>Elk Grove</td><td>O'Brien Men's Neoprene Life Vest</td><td>36</td><td>1799.2799644470215</td></tr><tr><td>Fontana</td><td>Under Armour Girls' Toddler Spine Surge Runni</td><td>36</td><td>1439.640037536621</td></tr><tr><td>Holland</td><td>O'Brien Men's Neoprene Life Vest</td><td>36</td><td>1799.2800025939941</td></tr><tr><td>Hamilton</td><td>Nike Men's CJ Elite 2 TD Football Cleat</td><td>36</td><td>4679.640197753906</td></tr><tr><td>Irwin</td><td>Nike Men's Free 5.0+ Running Shoe</td><td>36</td><td>3599.6399841308594</td></tr><tr><td>Mount Pleasant</td><td>Nike Men's Free 5.0+ Running Shoe</td><td>36</td><td>3599.639961242676</td></tr><tr><td>Norfolk</td><td>Nike Men's Dri-FIT Victory Golf Polo</td><td>36</td><td>1800.0</td></tr><tr><td>Rochester</td><td>Nike Men's Dri-FIT Victory Golf Polo</td><td>36</td><td>1800.0</td></tr><tr><td>Plainfield</td><td>O'Brien Men's Neoprene Life Vest</td><td>36</td><td>1799.2799797058105</td></tr><tr><td>San Benito</td><td>Under Armour Girls' Toddler Spine Surge Runni</td><td>36</td><td>1439.6400260925293</td></tr><tr><td>Silver Spring</td><td>Nike Men's CJ Elite 2 TD Football Cleat</td><td>36</td><td>4679.640197753906</td></tr><tr><td>Warren</td><td>Nike Men's Free 5.0+ Running Shoe</td><td>36</td><td>3599.639991760254</td></tr><tr><td>Wilkes Barre</td><td>O'Brien Men's Neoprene Life Vest</td><td>36</td><td>1799.2799835205078</td></tr><tr><td>Bismarck</td><td>Under Armour Girls' Toddler Spine Surge Runni</td><td>36</td><td>1439.6400108337402</td></tr><tr><td>El Cajon</td><td>Nike Men's CJ Elite 2 TD Football Cleat</td><td>36</td><td>4679.640197753906</td></tr><tr><td>Elk Grove</td><td>Nike Men's Dri-FIT Victory Golf Polo</td><td>36</td><td>1800.0</td></tr><tr><td>Fargo</td><td>Perfect Fitness Perfect Rip Deck</td><td>36</td><td>2159.640064239502</td></tr><tr><td>Fayetteville</td><td>Under Armour Girls' Toddler Spine Surge Runni</td><td>36</td><td>1439.6400146484375</td></tr><tr><td>Fort Washington</td><td>O'Brien Men's Neoprene Life Vest</td><td>36</td><td>1799.2799682617188</td></tr><tr><td>Gilroy</td><td>Nike Men's Dri-FIT Victory Golf Polo</td><td>36</td><td>1800.0</td></tr><tr><td>Goose Creek</td><td>Under Armour Girls' Toddler Spine Surge Runni</td><td>36</td><td>1439.6400146484375</td></tr><tr><td>Hickory</td><td>O'Brien Men's Neoprene Life Vest</td><td>36</td><td>1799.2799797058105</td></tr><tr><td>Huntington Station</td><td>Nike Men's Dri-FIT Victory Golf Polo</td><td>36</td><td>1800.0</td></tr><tr><td>Levittown</td><td>O'Brien Men's Neoprene Life Vest</td><td>36</td><td>1799.2799911499023</td></tr><tr><td>Lindenhurst</td><td>O'Brien Men's Neoprene Life Vest</td><td>36</td><td>1799.2799987792969</td></tr><tr><td>Martinez</td><td>Nike Men's Dri-FIT Victory Golf Polo</td><td>36</td><td>1800.0</td></tr><tr><td>Moline</td><td>Nike Men's Free 5.0+ Running Shoe</td><td>36</td><td>3599.640007019043</td></tr><tr><td>New Bedford</td><td>Perfect Fitness Perfect Rip Deck</td><td>36</td><td>2159.640064239502</td></tr><tr><td>New Brunswick</td><td>Nike Men's Dri-FIT Victory Golf Polo</td><td>36</td><td>1800.0</td></tr><tr><td>North Richland Hills</td><td>Nike Men's Free 5.0+ Running Shoe</td><td>36</td><td>3599.639961242676</td></tr><tr><td>North Richland Hills</td><td>Under Armour Girls' Toddler Spine Surge Runni</td><td>36</td><td>1439.640007019043</td></tr><tr><td>Pasadena</td><td>Nike Men's Free 5.0+ Running Shoe</td><td>36</td><td>3599.640007019043</td></tr><tr><td>Rochester</td><td>Under Armour Girls' Toddler Spine Surge Runni</td><td>36</td><td>1439.6400299072266</td></tr><tr><td>San Ramon</td><td>Nike Men's Free 5.0+ Running Shoe</td><td>36</td><td>3599.6400604248047</td></tr><tr><td>San Sebastian</td><td>O'Brien Men's Neoprene Life Vest</td><td>36</td><td>1799.2799797058105</td></tr><tr><td>Scottsdale</td><td>Nike Men's Dri-FIT Victory Golf Polo</td><td>36</td><td>1800.0</td></tr><tr><td>Scottsdale</td><td>Nike Men's Free 5.0+ Running Shoe</td><td>36</td><td>3599.6399993896484</td></tr><tr><td>Springfield</td><td>Perfect Fitness Perfect Rip Deck</td><td>36</td><td>2159.6400604248047</td></tr><tr><td>Vista</td><td>Nike Men's Free 5.0+ Running Shoe</td><td>36</td><td>3599.640007019043</td></tr><tr><td>Wayne</td><td>Under Armour Girls' Toddler Spine Surge Runni</td><td>36</td><td>1439.640022277832</td></tr><tr><td>Weslaco</td><td>Perfect Fitness Perfect Rip Deck</td><td>36</td><td>2159.6400451660156</td></tr><tr><td>Westerville</td><td>Under Armour Girls' Toddler Spine Surge Runni</td><td>36</td><td>1439.6400146484375</td></tr><tr><td>Algonquin</td><td>Nike Men's Dri-FIT Victory Golf Polo</td><td>36</td><td>1800.0</td></tr><tr><td>Williamsport</td><td>Perfect Fitness Perfect Rip Deck</td><td>36</td><td>2159.640068054199</td></tr><tr><td>Pharr</td><td>O'Brien Men's Neoprene Life Vest</td><td>36</td><td>1799.2799835205078</td></tr><tr><td>Carmichael</td><td>Perfect Fitness Perfect Rip Deck</td><td>36</td><td>2159.640064239502</td></tr><tr><td>Compton</td><td>Nike Men's CJ Elite 2 TD Football Cleat</td><td>36</td><td>4679.640197753906</td></tr><tr><td>Albany</td><td>Nike Men's Dri-FIT Victory Golf Polo</td><td>36</td><td>1800.0</td></tr><tr><td>Bellflower</td><td>Under Armour Girls' Toddler Spine Surge Runni</td><td>35</td><td>1399.650016784668</td></tr><tr><td>Beaverton</td><td>O'Brien Men's Neoprene Life Vest</td><td>35</td><td>1749.2999801635742</td></tr><tr><td>Bountiful</td><td>Nike Men's Dri-FIT Victory Golf Polo</td><td>35</td><td>1750.0</td></tr><tr><td>Canyon Country</td><td>Perfect Fitness Perfect Rip Deck</td><td>35</td><td>2099.650062561035</td></tr><tr><td>Chula Vista</td><td>Under Armour Girls' Toddler Spine Surge Runni</td><td>35</td><td>1399.6500129699707</td></tr><tr><td>Fullerton</td><td>Under Armour Girls' Toddler Spine Surge Runni</td><td>35</td><td>1399.6500282287598</td></tr><tr><td>Hacienda Heights</td><td>O'Brien Men's Neoprene Life Vest</td><td>35</td><td>1749.2999801635742</td></tr><tr><td>North Bergen</td><td>Perfect Fitness Perfect Rip Deck</td><td>35</td><td>2099.6500549316406</td></tr><tr><td>Pawtucket</td><td>Nike Men's Free 5.0+ Running Shoe</td><td>35</td><td>3499.650047302246</td></tr><tr><td>Silver Spring</td><td>Nike Men's Free 5.0+ Running Shoe</td><td>35</td><td>3499.64998626709</td></tr><tr><td>Santa Clara</td><td>O'Brien Men's Neoprene Life Vest</td><td>35</td><td>1749.2999839782715</td></tr><tr><td>Arecibo</td><td>Under Armour Girls' Toddler Spine Surge Runni</td><td>35</td><td>1399.6500091552734</td></tr><tr><td>Broomfield</td><td>O'Brien Men's Neoprene Life Vest</td><td>35</td><td>1749.2999839782715</td></tr><tr><td>Cerritos</td><td>Nike Men's Dri-FIT Victory Golf Polo</td><td>35</td><td>1750.0</td></tr><tr><td>Denton</td><td>O'Brien Men's Neoprene Life Vest</td><td>35</td><td>1749.2999839782715</td></tr><tr><td>Duluth</td><td>Nike Men's Dri-FIT Victory Golf Polo</td><td>35</td><td>1750.0</td></tr><tr><td>Edison</td><td>O'Brien Men's Neoprene Life Vest</td><td>35</td><td>1749.2999801635742</td></tr><tr><td>Fullerton</td><td>Nike Men's CJ Elite 2 TD Football Cleat</td><td>35</td><td>4549.650192260742</td></tr><tr><td>Highland Park</td><td>O'Brien Men's Neoprene Life Vest</td><td>35</td><td>1749.299976348877</td></tr><tr><td>Laguna Niguel</td><td>O'Brien Men's Neoprene Life Vest</td><td>35</td><td>1749.2999801635742</td></tr><tr><td>Medina</td><td>Nike Men's Dri-FIT Victory Golf Polo</td><td>35</td><td>1750.0</td></tr><tr><td>North Bergen</td><td>Nike Men's Dri-FIT Victory Golf Polo</td><td>35</td><td>1750.0</td></tr><tr><td>Opelousas</td><td>Nike Men's Free 5.0+ Running Shoe</td><td>35</td><td>3499.6499786376953</td></tr><tr><td>Pacoima</td><td>Nike Men's Dri-FIT Victory Golf Polo</td><td>35</td><td>1750.0</td></tr><tr><td>Pharr</td><td>Nike Men's Free 5.0+ Running Shoe</td><td>35</td><td>3499.6499633789062</td></tr><tr><td>Roseburg</td><td>Perfect Fitness Perfect Rip Deck</td><td>35</td><td>2099.650058746338</td></tr><tr><td>San Pablo</td><td>Nike Men's Dri-FIT Victory Golf Polo</td><td>35</td><td>1750.0</td></tr><tr><td>Santa Clara</td><td>Under Armour Girls' Toddler Spine Surge Runni</td><td>35</td><td>1399.6500091552734</td></tr><tr><td>South Richmond Hill</td><td>Nike Men's Dri-FIT Victory Golf Polo</td><td>35</td><td>1750.0</td></tr><tr><td>Wichita</td><td>Under Armour Girls' Toddler Spine Surge Runni</td><td>35</td><td>1399.6499862670898</td></tr><tr><td>Visalia</td><td>O'Brien Men's Neoprene Life Vest</td><td>35</td><td>1749.2999839782715</td></tr><tr><td>Wyandotte</td><td>O'Brien Men's Neoprene Life Vest</td><td>35</td><td>1749.299976348877</td></tr><tr><td>Far Rockaway</td><td>Nike Men's Dri-FIT Victory Golf Polo</td><td>35</td><td>1750.0</td></tr><tr><td>Forest Hills</td><td>Nike Men's Dri-FIT Victory Golf Polo</td><td>35</td><td>1750.0</td></tr><tr><td>Apopka</td><td>Nike Men's Free 5.0+ Running Shoe</td><td>35</td><td>3499.6499938964844</td></tr><tr><td>Amarillo</td><td>Nike Men's Free 5.0+ Running Shoe</td><td>35</td><td>3499.6499786376953</td></tr><tr><td>Annandale</td><td>O'Brien Men's Neoprene Life Vest</td><td>35</td><td>1749.299991607666</td></tr><tr><td>Murfreesboro</td><td>Under Armour Girls' Toddler Spine Surge Runni</td><td>34</td><td>1359.6600036621094</td></tr><tr><td>North Las Vegas</td><td>Nike Men's Free 5.0+ Running Shoe</td><td>34</td><td>3399.6600189208984</td></tr><tr><td>Saint Charles</td><td>Under Armour Girls' Toddler Spine Surge Runni</td><td>34</td><td>1359.6600151062012</td></tr><tr><td>Annandale</td><td>Perfect Fitness Perfect Rip Deck</td><td>34</td><td>2039.6600494384766</td></tr><tr><td>Lewisville</td><td>Nike Men's Dri-FIT Victory Golf Polo</td><td>34</td><td>1700.0</td></tr><tr><td>Piscataway</td><td>Nike Men's Free 5.0+ Running Shoe</td><td>34</td><td>3399.660041809082</td></tr><tr><td>Redmond</td><td>O'Brien Men's Neoprene Life Vest</td><td>34</td><td>1699.3199768066406</td></tr><tr><td>Salem</td><td>Nike Men's CJ Elite 2 TD Football Cleat</td><td>34</td><td>4419.660186767578</td></tr><tr><td>Staten Island</td><td>Under Armour Girls' Toddler Spine Surge Runni</td><td>34</td><td>1359.660026550293</td></tr><tr><td>Woodside</td><td>Nike Men's Dri-FIT Victory Golf Polo</td><td>34</td><td>1700.0</td></tr><tr><td>Annapolis</td><td>Nike Men's Dri-FIT Victory Golf Polo</td><td>34</td><td>1700.0</td></tr><tr><td>Crown Point</td><td>Nike Men's Dri-FIT Victory Golf Polo</td><td>34</td><td>1700.0</td></tr><tr><td>Flushing</td><td>O'Brien Men's Neoprene Life Vest</td><td>34</td><td>1699.3199882507324</td></tr><tr><td>Lockport</td><td>Nike Men's CJ Elite 2 TD Football Cleat</td><td>34</td><td>4419.660186767578</td></tr><tr><td>Martinsburg</td><td>Nike Men's Free 5.0+ Running Shoe</td><td>34</td><td>3399.6600189208984</td></tr><tr><td>Powder Springs</td><td>Nike Men's Dri-FIT Victory Golf Polo</td><td>34</td><td>1700.0</td></tr><tr><td>Redmond</td><td>Nike Men's Free 5.0+ Running Shoe</td><td>34</td><td>3399.6600036621094</td></tr><tr><td>Ridgewood</td><td>Nike Men's Free 5.0+ Running Shoe</td><td>34</td><td>3399.6600189208984</td></tr><tr><td>Simi Valley</td><td>Under Armour Girls' Toddler Spine Surge Runni</td><td>34</td><td>1359.6600227355957</td></tr><tr><td>Ventura</td><td>Under Armour Girls' Toddler Spine Surge Runni</td><td>34</td><td>1359.6600303649902</td></tr><tr><td>Watsonville</td><td>Nike Men's Dri-FIT Victory Golf Polo</td><td>34</td><td>1700.0</td></tr><tr><td>Beaverton</td><td>Nike Men's Free 5.0+ Running Shoe</td><td>34</td><td>3399.6600341796875</td></tr><tr><td>Clementon</td><td>O'Brien Men's Neoprene Life Vest</td><td>34</td><td>1699.3199844360352</td></tr><tr><td>El Monte</td><td>Nike Men's Dri-FIT Victory Golf Polo</td><td>34</td><td>1700.0</td></tr><tr><td>Ewa Beach</td><td>Nike Men's Dri-FIT Victory Golf Polo</td><td>34</td><td>1700.0</td></tr><tr><td>Hawthorne</td><td>Perfect Fitness Perfect Rip Deck</td><td>34</td><td>2039.6600532531738</td></tr><tr><td>Fond Du Lac</td><td>Nike Men's Dri-FIT Victory Golf Polo</td><td>34</td><td>1700.0</td></tr><tr><td>Huntington Park</td><td>Perfect Fitness Perfect Rip Deck</td><td>34</td><td>2039.6600379943848</td></tr><tr><td>Laguna Niguel</td><td>Nike Men's Dri-FIT Victory Golf Polo</td><td>34</td><td>1700.0</td></tr><tr><td>Metairie</td><td>Perfect Fitness Perfect Rip Deck</td><td>34</td><td>2039.660057067871</td></tr><tr><td>Rosemead</td><td>O'Brien Men's Neoprene Life Vest</td><td>34</td><td>1699.319995880127</td></tr><tr><td>Stafford</td><td>O'Brien Men's Neoprene Life Vest</td><td>34</td><td>1699.319969177246</td></tr><tr><td>Woodbridge</td><td>Under Armour Girls' Toddler Spine Surge Runni</td><td>34</td><td>1359.6600151062012</td></tr><tr><td>Bowling Green</td><td>O'Brien Men's Neoprene Life Vest</td><td>34</td><td>1699.3199844360352</td></tr><tr><td>Encinitas</td><td>Nike Men's CJ Elite 2 TD Football Cleat</td><td>34</td><td>4419.660186767578</td></tr><tr><td>Glendale</td><td>Nike Men's CJ Elite 2 TD Football Cleat</td><td>34</td><td>4419.660186767578</td></tr><tr><td>Irwin</td><td>Nike Men's Dri-FIT Victory Golf Polo</td><td>34</td><td>1700.0</td></tr><tr><td>Jonesboro</td><td>Under Armour Girls' Toddler Spine Surge Runni</td><td>34</td><td>1359.6600036621094</td></tr><tr><td>La Habra</td><td>O'Brien Men's Neoprene Life Vest</td><td>34</td><td>1699.319980621338</td></tr><tr><td>Laguna Hills</td><td>Nike Men's Dri-FIT Victory Golf Polo</td><td>34</td><td>1700.0</td></tr><tr><td>Lawrenceville</td><td>Perfect Fitness Perfect Rip Deck</td><td>34</td><td>2039.6600494384766</td></tr><tr><td>Lawton</td><td>Perfect Fitness Perfect Rip Deck</td><td>34</td><td>2039.6600532531738</td></tr><tr><td>Danbury</td><td>Nike Men's Free 5.0+ Running Shoe</td><td>33</td><td>3299.6699752807617</td></tr><tr><td>Davis</td><td>Under Armour Girls' Toddler Spine Surge Runni</td><td>33</td><td>1319.6700019836426</td></tr><tr><td>Henrico</td><td>Perfect Fitness Perfect Rip Deck</td><td>33</td><td>1979.6700477600098</td></tr><tr><td>Arlington</td><td>Nike Men's Free 5.0+ Running Shoe</td><td>33</td><td>3299.6700134277344</td></tr><tr><td>Dorchester Center</td><td>Under Armour Girls' Toddler Spine Surge Runni</td><td>33</td><td>1319.6700134277344</td></tr><tr><td>Hilliard</td><td>O'Brien Men's Neoprene Life Vest</td><td>33</td><td>1649.339988708496</td></tr><tr><td>Lewisville</td><td>O'Brien Men's Neoprene Life Vest</td><td>33</td><td>1649.339988708496</td></tr><tr><td>Rio Grande</td><td>O'Brien Men's Neoprene Life Vest</td><td>33</td><td>1649.339988708496</td></tr><tr><td>Chapel Hill</td><td>O'Brien Men's Neoprene Life Vest</td><td>33</td><td>1649.339988708496</td></tr><tr><td>Everett</td><td>Nike Men's Free 5.0+ Running Shoe</td><td>33</td><td>3299.6700134277344</td></tr><tr><td>Freeport</td><td>Nike Men's CJ Elite 2 TD Football Cleat</td><td>33</td><td>4289.670181274414</td></tr><tr><td>Hyattsville</td><td>Nike Men's Free 5.0+ Running Shoe</td><td>33</td><td>3299.67000579834</td></tr><tr><td>Joliet</td><td>O'Brien Men's Neoprene Life Vest</td><td>33</td><td>1649.3399925231934</td></tr><tr><td>Lynnwood</td><td>Nike Men's Dri-FIT Victory Golf Polo</td><td>33</td><td>1650.0</td></tr><tr><td>New Bedford</td><td>Nike Men's Free 5.0+ Running Shoe</td><td>33</td><td>3299.670021057129</td></tr><tr><td>Roseburg</td><td>Nike Men's Dri-FIT Victory Golf Polo</td><td>33</td><td>1650.0</td></tr><tr><td>Toa Baja</td><td>Perfect Fitness Perfect Rip Deck</td><td>33</td><td>1979.670051574707</td></tr><tr><td>Princeton</td><td>Pelican Sunstream 100 Kayak</td><td>33</td><td>6599.670181274414</td></tr><tr><td>Clementon</td><td>Perfect Fitness Perfect Rip Deck</td><td>33</td><td>1979.6700553894043</td></tr><tr><td>Flushing</td><td>Nike Men's Dri-FIT Victory Golf Polo</td><td>33</td><td>1650.0</td></tr><tr><td>Gilroy</td><td>Perfect Fitness Perfect Rip Deck</td><td>33</td><td>1979.6700553894043</td></tr><tr><td>Guayama</td><td>Under Armour Girls' Toddler Spine Surge Runni</td><td>33</td><td>1319.6700019836426</td></tr><tr><td>Irvington</td><td>Perfect Fitness Perfect Rip Deck</td><td>33</td><td>1979.670051574707</td></tr><tr><td>Juana Diaz</td><td>Perfect Fitness Perfect Rip Deck</td><td>33</td><td>1979.6700630187988</td></tr><tr><td>Laguna Hills</td><td>Perfect Fitness Perfect Rip Deck</td><td>33</td><td>1979.6700706481934</td></tr><tr><td>Manchester</td><td>O'Brien Men's Neoprene Life Vest</td><td>33</td><td>1649.3399848937988</td></tr><tr><td>New Brunswick</td><td>Nike Men's Free 5.0+ Running Shoe</td><td>33</td><td>3299.6699829101562</td></tr><tr><td>Porterville</td><td>Nike Men's Dri-FIT Victory Golf Polo</td><td>33</td><td>1650.0</td></tr><tr><td>Trujillo Alto</td><td>Nike Men's Dri-FIT Victory Golf Polo</td><td>33</td><td>1650.0</td></tr><tr><td>Walnut</td><td>Nike Men's Free 5.0+ Running Shoe</td><td>33</td><td>3299.669990539551</td></tr><tr><td>Wheaton</td><td>Nike Men's Free 5.0+ Running Shoe</td><td>33</td><td>3299.6699752807617</td></tr><tr><td>Princeton</td><td>Under Armour Girls' Toddler Spine Surge Runni</td><td>33</td><td>1319.6699981689453</td></tr><tr><td>Clementon</td><td>Nike Men's Dri-FIT Victory Golf Polo</td><td>33</td><td>1650.0</td></tr><tr><td>Folsom</td><td>O'Brien Men's Neoprene Life Vest</td><td>33</td><td>1649.3399772644043</td></tr><tr><td>Henrico</td><td>Nike Men's Dri-FIT Victory Golf Polo</td><td>33</td><td>1650.0</td></tr><tr><td>Las Cruces</td><td>Under Armour Girls' Toddler Spine Surge Runni</td><td>33</td><td>1319.6700134277344</td></tr><tr><td>Michigan City</td><td>Perfect Fitness Perfect Rip Deck</td><td>33</td><td>1979.6700553894043</td></tr><tr><td>Poway</td><td>Perfect Fitness Perfect Rip Deck</td><td>33</td><td>1979.6700706481934</td></tr><tr><td>Warren</td><td>Nike Men's Dri-FIT Victory Golf Polo</td><td>33</td><td>1650.0</td></tr><tr><td>Yauco</td><td>Nike Men's Free 5.0+ Running Shoe</td><td>33</td><td>3299.6699600219727</td></tr><tr><td>Compton</td><td>Nike Men's Free 5.0+ Running Shoe</td><td>33</td><td>3299.669967651367</td></tr><tr><td>Costa Mesa</td><td>Under Armour Girls' Toddler Spine Surge Runni</td><td>32</td><td>1279.680030822754</td></tr><tr><td>Cumberland</td><td>Under Armour Girls' Toddler Spine Surge Runni</td><td>32</td><td>1279.6800422668457</td></tr><tr><td>Davis</td><td>Nike Men's Free 5.0+ Running Shoe</td><td>32</td><td>3199.6800079345703</td></tr><tr><td>Pacoima</td><td>Perfect Fitness Perfect Rip Deck</td><td>32</td><td>1919.6800498962402</td></tr><tr><td>Dayton</td><td>O'Brien Men's Neoprene Life Vest</td><td>32</td><td>1599.3599891662598</td></tr><tr><td>Irvington</td><td>Nike Men's Dri-FIT Victory Golf Polo</td><td>32</td><td>1600.0</td></tr><tr><td>Rock Hill</td><td>O'Brien Men's Neoprene Life Vest</td><td>32</td><td>1599.359977722168</td></tr><tr><td>Passaic</td><td>Perfect Fitness Perfect Rip Deck</td><td>32</td><td>1919.6800537109375</td></tr><tr><td>Decatur</td><td>Nike Men's Free 5.0+ Running Shoe</td><td>32</td><td>3199.679977416992</td></tr><tr><td>Fargo</td><td>Nike Men's Free 5.0+ Running Shoe</td><td>32</td><td>3199.6800079345703</td></tr><tr><td>Jackson</td><td>Nike Men's Free 5.0+ Running Shoe</td><td>32</td><td>3199.6800079345703</td></tr><tr><td>Massillon</td><td>Perfect Fitness Perfect Rip Deck</td><td>32</td><td>1919.680046081543</td></tr><tr><td>Roseburg</td><td>O'Brien Men's Neoprene Life Vest</td><td>32</td><td>1599.3599815368652</td></tr><tr><td>Tustin</td><td>Under Armour Girls' Toddler Spine Surge Runni</td><td>32</td><td>1279.680019378662</td></tr><tr><td>Plymouth</td><td>Nike Men's Free 5.0+ Running Shoe</td><td>32</td><td>3199.6799850463867</td></tr><tr><td>Chapel Hill</td><td>Under Armour Girls' Toddler Spine Surge Runni</td><td>32</td><td>1279.6799926757812</td></tr><tr><td>Far Rockaway</td><td>O'Brien Men's Neoprene Life Vest</td><td>32</td><td>1599.3599739074707</td></tr><tr><td>Federal Way</td><td>Nike Men's Dri-FIT Victory Golf Polo</td><td>32</td><td>1600.0</td></tr><tr><td>Findlay</td><td>O'Brien Men's Neoprene Life Vest</td><td>32</td><td>1599.3599891662598</td></tr><tr><td>La Puente</td><td>Nike Men's Dri-FIT Victory Golf Polo</td><td>32</td><td>1600.0</td></tr><tr><td>Murfreesboro</td><td>Nike Men's Free 5.0+ Running Shoe</td><td>32</td><td>3199.6799697875977</td></tr><tr><td>Napa</td><td>Nike Men's Dri-FIT Victory Golf Polo</td><td>32</td><td>1600.0</td></tr><tr><td>Roseville</td><td>Nike Men's Free 5.0+ Running Shoe</td><td>32</td><td>3199.6799926757812</td></tr><tr><td>Salinas</td><td>Under Armour Girls' Toddler Spine Surge Runni</td><td>32</td><td>1279.6800079345703</td></tr><tr><td>Van Nuys</td><td>Nike Men's Free 5.0+ Running Shoe</td><td>32</td><td>3199.6799850463867</td></tr><tr><td>Wyoming</td><td>Under Armour Girls' Toddler Spine Surge Runni</td><td>32</td><td>1279.6800270080566</td></tr><tr><td>Tinley Park</td><td>O'Brien Men's Neoprene Life Vest</td><td>32</td><td>1599.3599815368652</td></tr><tr><td>Chicago Heights</td><td>Perfect Fitness Perfect Rip Deck</td><td>32</td><td>1919.6800689697266</td></tr><tr><td>Carson</td><td>Nike Men's Free 5.0+ Running Shoe</td><td>32</td><td>3199.680000305176</td></tr><tr><td>Greensburg</td><td>Perfect Fitness Perfect Rip Deck</td><td>32</td><td>1919.6800384521484</td></tr><tr><td>Las Cruces</td><td>Nike Men's Dri-FIT Victory Golf Polo</td><td>32</td><td>1600.0</td></tr><tr><td>Oregon City</td><td>Nike Men's Dri-FIT Victory Golf Polo</td><td>32</td><td>1600.0</td></tr><tr><td>Stone Mountain</td><td>Perfect Fitness Perfect Rip Deck</td><td>32</td><td>1919.6800498962402</td></tr><tr><td>Wilkes Barre</td><td>Perfect Fitness Perfect Rip Deck</td><td>32</td><td>1919.6800537109375</td></tr><tr><td>Wyandotte</td><td>Nike Men's Dri-FIT Victory Golf Polo</td><td>32</td><td>1600.0</td></tr><tr><td>Brockton</td><td>Perfect Fitness Perfect Rip Deck</td><td>32</td><td>1919.6800575256348</td></tr><tr><td>Alhambra</td><td>O'Brien Men's Neoprene Life Vest</td><td>31</td><td>1549.3799858093262</td></tr><tr><td>Apopka</td><td>Perfect Fitness Perfect Rip Deck</td><td>31</td><td>1859.6900596618652</td></tr><tr><td>Azusa</td><td>Nike Men's Free 5.0+ Running Shoe</td><td>31</td><td>3099.6900024414062</td></tr><tr><td>Arlington Heights</td><td>Perfect Fitness Perfect Rip Deck</td><td>31</td><td>1859.6900634765625</td></tr><tr><td>Berwyn</td><td>Perfect Fitness Perfect Rip Deck</td><td>31</td><td>1859.6900596618652</td></tr><tr><td>Harlingen</td><td>O'Brien Men's Neoprene Life Vest</td><td>31</td><td>1549.3799896240234</td></tr><tr><td>Glenview</td><td>O'Brien Men's Neoprene Life Vest</td><td>31</td><td>1549.3799743652344</td></tr><tr><td>Blacksburg</td><td>Nike Men's Dri-FIT Victory Golf Polo</td><td>31</td><td>1550.0</td></tr><tr><td>Carmichael</td><td>O'Brien Men's Neoprene Life Vest</td><td>31</td><td>1549.3799858093262</td></tr><tr><td>Hawthorne</td><td>Nike Men's Dri-FIT Victory Golf Polo</td><td>31</td><td>1550.0</td></tr><tr><td>Lutz</td><td>Nike Men's Dri-FIT Victory Golf Polo</td><td>31</td><td>1550.0</td></tr><tr><td>Peoria</td><td>Under Armour Girls' Toddler Spine Surge Runni</td><td>31</td><td>1239.6900253295898</td></tr><tr><td>Peabody</td><td>Perfect Fitness Perfect Rip Deck</td><td>31</td><td>1859.690055847168</td></tr><tr><td>Canoga Park</td><td>Perfect Fitness Perfect Rip Deck</td><td>31</td><td>1859.6900596618652</td></tr><tr><td>Carson</td><td>Under Armour Girls' Toddler Spine Surge Runni</td><td>31</td><td>1239.690029144287</td></tr><tr><td>Cordova</td><td>Under Armour Girls' Toddler Spine Surge Runni</td><td>31</td><td>1239.6900329589844</td></tr><tr><td>Highland Park</td><td>Nike Men's Dri-FIT Victory Golf Polo</td><td>31</td><td>1550.0</td></tr><tr><td>Hilliard</td><td>Nike Men's Dri-FIT Victory Golf Polo</td><td>31</td><td>1550.0</td></tr><tr><td>Massapequa</td><td>Perfect Fitness Perfect Rip Deck</td><td>31</td><td>1859.6900482177734</td></tr><tr><td>Milpitas</td><td>Under Armour Girls' Toddler Spine Surge Runni</td><td>31</td><td>1239.690013885498</td></tr><tr><td>Plano</td><td>Nike Men's Free 5.0+ Running Shoe</td><td>31</td><td>3099.6900024414062</td></tr><tr><td>Salina</td><td>Under Armour Girls' Toddler Spine Surge Runni</td><td>31</td><td>1239.6900215148926</td></tr><tr><td>Sylmar</td><td>O'Brien Men's Neoprene Life Vest</td><td>31</td><td>1549.379997253418</td></tr><tr><td>Summerville</td><td>Nike Men's Free 5.0+ Running Shoe</td><td>31</td><td>3099.6900177001953</td></tr><tr><td>Carlisle</td><td>Nike Men's Free 5.0+ Running Shoe</td><td>31</td><td>3099.689971923828</td></tr><tr><td>Cicero</td><td>Nike Men's Dri-FIT Victory Golf Polo</td><td>31</td><td>1550.0</td></tr><tr><td>Dundalk</td><td>O'Brien Men's Neoprene Life Vest</td><td>31</td><td>1549.3799858093262</td></tr><tr><td>Fargo</td><td>O'Brien Men's Neoprene Life Vest</td><td>31</td><td>1549.379981994629</td></tr><tr><td>Ithaca</td><td>O'Brien Men's Neoprene Life Vest</td><td>31</td><td>1549.3799858093262</td></tr><tr><td>Knoxville</td><td>Perfect Fitness Perfect Rip Deck</td><td>31</td><td>1859.6900520324707</td></tr><tr><td>Massillon</td><td>O'Brien Men's Neoprene Life Vest</td><td>31</td><td>1549.3799743652344</td></tr><tr><td>New Albany</td><td>Nike Men's Dri-FIT Victory Golf Polo</td><td>31</td><td>1550.0</td></tr><tr><td>Newburgh</td><td>Nike Men's CJ Elite 2 TD Football Cleat</td><td>31</td><td>4029.690170288086</td></tr><tr><td>Reseda</td><td>Nike Men's Dri-FIT Victory Golf Polo</td><td>31</td><td>1550.0</td></tr><tr><td>Salinas</td><td>Nike Men's Free 5.0+ Running Shoe</td><td>31</td><td>3099.6900329589844</td></tr><tr><td>Springfield</td><td>Nike Men's Dri-FIT Victory Golf Polo</td><td>31</td><td>1550.0</td></tr><tr><td>Vallejo</td><td>Perfect Fitness Perfect Rip Deck</td><td>31</td><td>1859.690055847168</td></tr><tr><td>Woodbridge</td><td>Nike Men's CJ Elite 2 TD Football Cleat</td><td>31</td><td>4029.690170288086</td></tr><tr><td>Westland</td><td>Nike Men's Free 5.0+ Running Shoe</td><td>31</td><td>3099.6899795532227</td></tr><tr><td>Aguadilla</td><td>Perfect Fitness Perfect Rip Deck</td><td>31</td><td>1859.6900520324707</td></tr><tr><td>Colton</td><td>Perfect Fitness Perfect Rip Deck</td><td>31</td><td>1859.6900634765625</td></tr><tr><td>Gilroy</td><td>O'Brien Men's Neoprene Life Vest</td><td>31</td><td>1549.379981994629</td></tr><tr><td>La Mesa</td><td>Nike Men's Free 5.0+ Running Shoe</td><td>31</td><td>3099.6900024414062</td></tr><tr><td>Metairie</td><td>Nike Men's Dri-FIT Victory Golf Polo</td><td>31</td><td>1550.0</td></tr><tr><td>Oak Lawn</td><td>O'Brien Men's Neoprene Life Vest</td><td>31</td><td>1549.3799896240234</td></tr><tr><td>Stockbridge</td><td>Nike Men's Free 5.0+ Running Shoe</td><td>31</td><td>3099.6900177001953</td></tr><tr><td>Vallejo</td><td>Nike Men's Dri-FIT Victory Golf Polo</td><td>31</td><td>1550.0</td></tr><tr><td>Woonsocket</td><td>Under Armour Girls' Toddler Spine Surge Runni</td><td>31</td><td>1239.6899948120117</td></tr><tr><td>Alameda</td><td>Nike Men's Free 5.0+ Running Shoe</td><td>31</td><td>3099.689987182617</td></tr><tr><td>Broomfield</td><td>Nike Men's Dri-FIT Victory Golf Polo</td><td>30</td><td>1500.0</td></tr><tr><td>Campbell</td><td>Under Armour Girls' Toddler Spine Surge Runni</td><td>30</td><td>1199.7000122070312</td></tr><tr><td>Daly City</td><td>Under Armour Girls' Toddler Spine Surge Runni</td><td>30</td><td>1199.700023651123</td></tr><tr><td>Mesquite</td><td>Nike Men's Free 5.0+ Running Shoe</td><td>30</td><td>2999.7000045776367</td></tr><tr><td>Canoga Park</td><td>O'Brien Men's Neoprene Life Vest</td><td>30</td><td>1499.3999862670898</td></tr><tr><td>Canton</td><td>O'Brien Men's Neoprene Life Vest</td><td>30</td><td>1499.400001525879</td></tr><tr><td>Denver</td><td>Under Armour Girls' Toddler Spine Surge Runni</td><td>30</td><td>1199.7000045776367</td></tr><tr><td>Glendale</td><td>Pelican Sunstream 100 Kayak</td><td>30</td><td>5999.700164794922</td></tr><tr><td>Muskegon</td><td>Nike Men's Free 5.0+ Running Shoe</td><td>30</td><td>2999.700019836426</td></tr><tr><td>Middletown</td><td>Under Armour Girls' Toddler Spine Surge Runni</td><td>30</td><td>1199.7000122070312</td></tr><tr><td>Canoga Park</td><td>Under Armour Girls' Toddler Spine Surge Runni</td><td>30</td><td>1199.700008392334</td></tr><tr><td>Cayey</td><td>O'Brien Men's Neoprene Life Vest</td><td>30</td><td>1499.3999862670898</td></tr><tr><td>Clarksville</td><td>Nike Men's Dri-FIT Victory Golf Polo</td><td>30</td><td>1500.0</td></tr><tr><td>Diamond Bar</td><td>Nike Men's Free 5.0+ Running Shoe</td><td>30</td><td>2999.699996948242</td></tr><tr><td>East Brunswick</td><td>Perfect Fitness Perfect Rip Deck</td><td>30</td><td>1799.7000465393066</td></tr><tr><td>Glendale</td><td>Field & Stream Sportsman 16 Gun Fire Safe</td><td>30</td><td>11999.400329589844</td></tr><tr><td>Jackson Heights</td><td>Perfect Fitness Perfect Rip Deck</td><td>30</td><td>1799.7000541687012</td></tr><tr><td>Oviedo</td><td>O'Brien Men's Neoprene Life Vest</td><td>30</td><td>1499.3999824523926</td></tr><tr><td>Peoria</td><td>O'Brien Men's Neoprene Life Vest</td><td>30</td><td>1499.3999824523926</td></tr><tr><td>Santa Cruz</td><td>Nike Men's Free 5.0+ Running Shoe</td><td>30</td><td>2999.699981689453</td></tr><tr><td>Santa Cruz</td><td>Under Armour Girls' Toddler Spine Surge Runni</td><td>30</td><td>1199.700023651123</td></tr><tr><td>Beaverton</td><td>Nike Men's Dri-FIT Victory Golf Polo</td><td>30</td><td>1500.0</td></tr><tr><td>Cerritos</td><td>Nike Men's Free 5.0+ Running Shoe</td><td>30</td><td>2999.699996948242</td></tr><tr><td>Clementon</td><td>Nike Men's Free 5.0+ Running Shoe</td><td>30</td><td>2999.7000122070312</td></tr><tr><td>Cordova</td><td>O'Brien Men's Neoprene Life Vest</td><td>30</td><td>1499.3999862670898</td></tr><tr><td>Eagle Pass</td><td>Nike Men's Dri-FIT Victory Golf Polo</td><td>30</td><td>1500.0</td></tr><tr><td>Everett</td><td>O'Brien Men's Neoprene Life Vest</td><td>30</td><td>1499.3999786376953</td></tr><tr><td>Fargo</td><td>Nike Men's Dri-FIT Victory Golf Polo</td><td>30</td><td>1500.0</td></tr><tr><td>Grand Prairie</td><td>Perfect Fitness Perfect Rip Deck</td><td>30</td><td>1799.7000427246094</td></tr><tr><td>Lodi</td><td>Perfect Fitness Perfect Rip Deck</td><td>30</td><td>1799.7000617980957</td></tr><tr><td>Martinsburg</td><td>Under Armour Girls' Toddler Spine Surge Runni</td><td>30</td><td>1199.7000198364258</td></tr><tr><td>Peoria</td><td>Nike Men's Dri-FIT Victory Golf Polo</td><td>30</td><td>1500.0</td></tr><tr><td>Pomona</td><td>Under Armour Girls' Toddler Spine Surge Runni</td><td>30</td><td>1199.7000198364258</td></tr><tr><td>Summerville</td><td>Nike Men's Dri-FIT Victory Golf Polo</td><td>30</td><td>1500.0</td></tr><tr><td>Wilkes Barre</td><td>Nike Men's Dri-FIT Victory Golf Polo</td><td>30</td><td>1500.0</td></tr><tr><td>Vista</td><td>Under Armour Girls' Toddler Spine Surge Runni</td><td>30</td><td>1199.7000350952148</td></tr><tr><td>Bend</td><td>Under Armour Girls' Toddler Spine Surge Runni</td><td>30</td><td>1199.7000274658203</td></tr><tr><td>Bayonne</td><td>Perfect Fitness Perfect Rip Deck</td><td>30</td><td>1799.7000541687012</td></tr><tr><td>Annapolis</td><td>Under Armour Girls' Toddler Spine Surge Runni</td><td>30</td><td>1199.700038909912</td></tr><tr><td>Chino Hills</td><td>Under Armour Girls' Toddler Spine Surge Runni</td><td>30</td><td>1199.700008392334</td></tr><tr><td>Cumberland</td><td>Nike Men's Free 5.0+ Running Shoe</td><td>30</td><td>2999.7000122070312</td></tr><tr><td>Gaithersburg</td><td>Nike Men's Dri-FIT Victory Golf Polo</td><td>30</td><td>1500.0</td></tr><tr><td>Indianapolis</td><td>Nike Men's Free 5.0+ Running Shoe</td><td>30</td><td>2999.699996948242</td></tr><tr><td>Merced</td><td>Nike Men's Dri-FIT Victory Golf Polo</td><td>30</td><td>1500.0</td></tr><tr><td>Rowland Heights</td><td>Nike Men's CJ Elite 2 TD Football Cleat</td><td>30</td><td>3899.700164794922</td></tr><tr><td>Valrico</td><td>O'Brien Men's Neoprene Life Vest</td><td>30</td><td>1499.399990081787</td></tr><tr><td>Zanesville</td><td>Perfect Fitness Perfect Rip Deck</td><td>30</td><td>1799.7000579833984</td></tr><tr><td>Arlington Heights</td><td>Nike Men's Dri-FIT Victory Golf Polo</td><td>30</td><td>1500.0</td></tr><tr><td>Billings</td><td>Nike Men's Dri-FIT Victory Golf Polo</td><td>29</td><td>1450.0</td></tr><tr><td>Bridgeton</td><td>Under Armour Girls' Toddler Spine Surge Runni</td><td>29</td><td>1159.7100105285645</td></tr><tr><td>Ann Arbor</td><td>Under Armour Girls' Toddler Spine Surge Runni</td><td>29</td><td>1159.7100257873535</td></tr><tr><td>Brockton</td><td>Nike Men's Dri-FIT Victory Golf Polo</td><td>29</td><td>1450.0</td></tr><tr><td>Huntington Beach</td><td>Nike Men's Free 5.0+ Running Shoe</td><td>29</td><td>2899.7099990844727</td></tr><tr><td>Bend</td><td>Pelican Sunstream 100 Kayak</td><td>29</td><td>5799.710159301758</td></tr><tr><td>Burnsville</td><td>Perfect Fitness Perfect Rip Deck</td><td>29</td><td>1739.7100372314453</td></tr><tr><td>Cicero</td><td>Under Armour Girls' Toddler Spine Surge Runni</td><td>29</td><td>1159.710018157959</td></tr><tr><td>Katy</td><td>O'Brien Men's Neoprene Life Vest</td><td>29</td><td>1449.419994354248</td></tr><tr><td>Mayaguez</td><td>Under Armour Girls' Toddler Spine Surge Runni</td><td>29</td><td>1159.7099990844727</td></tr><tr><td>Oregon City</td><td>Under Armour Girls' Toddler Spine Surge Runni</td><td>29</td><td>1159.7100410461426</td></tr><tr><td>Bend</td><td>Nike Men's Free 5.0+ Running Shoe</td><td>29</td><td>2899.7099838256836</td></tr><tr><td>Cary</td><td>Nike Men's Free 5.0+ Running Shoe</td><td>29</td><td>2899.7099685668945</td></tr><tr><td>Clarksville</td><td>O'Brien Men's Neoprene Life Vest</td><td>29</td><td>1449.4199829101562</td></tr><tr><td>El Centro</td><td>O'Brien Men's Neoprene Life Vest</td><td>29</td><td>1449.419994354248</td></tr><tr><td>Lenoir</td><td>Nike Men's CJ Elite 2 TD Football Cleat</td><td>29</td><td>3769.710159301758</td></tr><tr><td>Mechanicsburg</td><td>Nike Men's Free 5.0+ Running Shoe</td><td>29</td><td>2899.7099685668945</td></tr><tr><td>New Braunfels</td><td>O'Brien Men's Neoprene Life Vest</td><td>29</td><td>1449.419994354248</td></tr><tr><td>Santa Maria</td><td>Perfect Fitness Perfect Rip Deck</td><td>29</td><td>1739.7100524902344</td></tr><tr><td>South Gate</td><td>Nike Men's Dri-FIT Victory Golf Polo</td><td>29</td><td>1450.0</td></tr><tr><td>York</td><td>Nike Men's CJ Elite 2 TD Football Cleat</td><td>29</td><td>3769.710159301758</td></tr><tr><td>Hesperia</td><td>Nike Men's Free 5.0+ Running Shoe</td><td>29</td><td>2899.7100143432617</td></tr><tr><td>Albany</td><td>O'Brien Men's Neoprene Life Vest</td><td>29</td><td>1449.4199752807617</td></tr><tr><td>Clarksville</td><td>Nike Men's Free 5.0+ Running Shoe</td><td>29</td><td>2899.710006713867</td></tr><tr><td>Enfield</td><td>Nike Men's Dri-FIT Victory Golf Polo</td><td>29</td><td>1450.0</td></tr><tr><td>Englewood</td><td>Nike Men's Dri-FIT Victory Golf Polo</td><td>29</td><td>1450.0</td></tr><tr><td>Lithonia</td><td>Perfect Fitness Perfect Rip Deck</td><td>29</td><td>1739.7100410461426</td></tr><tr><td>Manati</td><td>Nike Men's Free 5.0+ Running Shoe</td><td>29</td><td>2899.7099990844727</td></tr><tr><td>New Albany</td><td>Nike Men's Free 5.0+ Running Shoe</td><td>29</td><td>2899.709991455078</td></tr><tr><td>New Brunswick</td><td>Under Armour Girls' Toddler Spine Surge Runni</td><td>29</td><td>1159.7099952697754</td></tr><tr><td>New Haven</td><td>Nike Men's Free 5.0+ Running Shoe</td><td>29</td><td>2899.709991455078</td></tr><tr><td>South El Monte</td><td>O'Brien Men's Neoprene Life Vest</td><td>29</td><td>1449.4199905395508</td></tr><tr><td>Stone Mountain</td><td>Under Armour Girls' Toddler Spine Surge Runni</td><td>29</td><td>1159.7100143432617</td></tr><tr><td>West Haven</td><td>Nike Men's Free 5.0+ Running Shoe</td><td>29</td><td>2899.7099838256836</td></tr><tr><td>Ypsilanti</td><td>Under Armour Girls' Toddler Spine Surge Runni</td><td>29</td><td>1159.710033416748</td></tr><tr><td>Wyandotte</td><td>Nike Men's Free 5.0+ Running Shoe</td><td>29</td><td>2899.7099609375</td></tr><tr><td>Hollister</td><td>Perfect Fitness Perfect Rip Deck</td><td>29</td><td>1739.7100563049316</td></tr><tr><td>Des Plaines</td><td>Perfect Fitness Perfect Rip Deck</td><td>29</td><td>1739.7100639343262</td></tr><tr><td>Granite City</td><td>Nike Men's Dri-FIT Victory Golf Polo</td><td>29</td><td>1450.0</td></tr><tr><td>Massapequa</td><td>Nike Men's Dri-FIT Victory Golf Polo</td><td>29</td><td>1450.0</td></tr><tr><td>New Albany</td><td>O'Brien Men's Neoprene Life Vest</td><td>29</td><td>1449.4199867248535</td></tr><tr><td>Ogden</td><td>Under Armour Girls' Toddler Spine Surge Runni</td><td>29</td><td>1159.710033416748</td></tr><tr><td>Westerville</td><td>Nike Men's Dri-FIT Victory Golf Polo</td><td>29</td><td>1450.0</td></tr><tr><td>Zanesville</td><td>Under Armour Girls' Toddler Spine Surge Runni</td><td>29</td><td>1159.7100372314453</td></tr><tr><td>Olathe</td><td>Nike Men's Free 5.0+ Running Shoe</td><td>29</td><td>2899.7100143432617</td></tr><tr><td>Augusta</td><td>Under Armour Girls' Toddler Spine Surge Runni</td><td>28</td><td>1119.7200088500977</td></tr><tr><td>Berwyn</td><td>O'Brien Men's Neoprene Life Vest</td><td>28</td><td>1399.4399757385254</td></tr><tr><td>Blacksburg</td><td>Perfect Fitness Perfect Rip Deck</td><td>28</td><td>1679.7200393676758</td></tr><tr><td>Burnsville</td><td>Nike Men's Free 5.0+ Running Shoe</td><td>28</td><td>2799.7199935913086</td></tr><tr><td>Charlotte</td><td>Nike Men's Free 5.0+ Running Shoe</td><td>28</td><td>2799.720016479492</td></tr><tr><td>Garland</td><td>Nike Men's Free 5.0+ Running Shoe</td><td>28</td><td>2799.7200088500977</td></tr><tr><td>Norfolk</td><td>Nike Men's Free 5.0+ Running Shoe</td><td>28</td><td>2799.720001220703</td></tr><tr><td>Chino</td><td>O'Brien Men's Neoprene Life Vest</td><td>28</td><td>1399.4399871826172</td></tr><tr><td>Denton</td><td>Nike Men's Dri-FIT Victory Golf Polo</td><td>28</td><td>1400.0</td></tr><tr><td>Guayama</td><td>Nike Men's Free 5.0+ Running Shoe</td><td>28</td><td>2799.720001220703</td></tr><tr><td>Indio</td><td>Perfect Fitness Perfect Rip Deck</td><td>28</td><td>1679.7200508117676</td></tr><tr><td>North Hollywood</td><td>Nike Men's CJ Elite 2 TD Football Cleat</td><td>28</td><td>3639.7201538085938</td></tr><tr><td>Peoria</td><td>Perfect Fitness Perfect Rip Deck</td><td>28</td><td>1679.7200469970703</td></tr><tr><td>South San Francisco</td><td>O'Brien Men's Neoprene Life Vest</td><td>28</td><td>1399.4399909973145</td></tr><tr><td>Alameda</td><td>Nike Men's Dri-FIT Victory Golf Polo</td><td>28</td><td>1400.0</td></tr><tr><td>Cincinnati</td><td>O'Brien Men's Neoprene Life Vest</td><td>28</td><td>1399.43998336792</td></tr><tr><td>Dorchester Center</td><td>Nike Men's Free 5.0+ Running Shoe</td><td>28</td><td>2799.719985961914</td></tr><tr><td>Edinburg</td><td>Perfect Fitness Perfect Rip Deck</td><td>28</td><td>1679.7200469970703</td></tr><tr><td>Guaynabo</td><td>Perfect Fitness Perfect Rip Deck</td><td>28</td><td>1679.7200317382812</td></tr><tr><td>Harlingen</td><td>Nike Men's Free 5.0+ Running Shoe</td><td>28</td><td>2799.719985961914</td></tr><tr><td>Indio</td><td>Nike Men's Dri-FIT Victory Golf Polo</td><td>28</td><td>1400.0</td></tr><tr><td>Kailua</td><td>Nike Men's Free 5.0+ Running Shoe</td><td>28</td><td>2799.720016479492</td></tr><tr><td>Ogden</td><td>Nike Men's Free 5.0+ Running Shoe</td><td>28</td><td>2799.720001220703</td></tr><tr><td>Powder Springs</td><td>Under Armour Girls' Toddler Spine Surge Runni</td><td>28</td><td>1119.7200202941895</td></tr><tr><td>Rochester</td><td>Nike Men's Free 5.0+ Running Shoe</td><td>28</td><td>2799.720001220703</td></tr><tr><td>Temecula</td><td>Under Armour Girls' Toddler Spine Surge Runni</td><td>28</td><td>1119.719985961914</td></tr><tr><td>Walnut</td><td>Under Armour Girls' Toddler Spine Surge Runni</td><td>28</td><td>1119.7200241088867</td></tr><tr><td>Morrisville</td><td>Nike Men's Dri-FIT Victory Golf Polo</td><td>28</td><td>1400.0</td></tr><tr><td>Algonquin</td><td>Under Armour Girls' Toddler Spine Surge Runni</td><td>28</td><td>1119.7200241088867</td></tr><tr><td>Citrus Heights</td><td>Perfect Fitness Perfect Rip Deck</td><td>28</td><td>1679.7200469970703</td></tr><tr><td>Crystal Lake</td><td>Under Armour Girls' Toddler Spine Surge Runni</td><td>28</td><td>1119.7200012207031</td></tr><tr><td>Duluth</td><td>Nike Men's Free 5.0+ Running Shoe</td><td>28</td><td>2799.719985961914</td></tr><tr><td>Fayetteville</td><td>Nike Men's Free 5.0+ Running Shoe</td><td>28</td><td>2799.720016479492</td></tr><tr><td>Folsom</td><td>Nike Men's Free 5.0+ Running Shoe</td><td>28</td><td>2799.720016479492</td></tr><tr><td>Hanover</td><td>Nike Men's Free 5.0+ Running Shoe</td><td>28</td><td>2799.719985961914</td></tr><tr><td>Hesperia</td><td>O'Brien Men's Neoprene Life Vest</td><td>28</td><td>1399.4399871826172</td></tr><tr><td>Hickory</td><td>Under Armour Girls' Toddler Spine Surge Runni</td><td>28</td><td>1119.7200164794922</td></tr><tr><td>Jackson</td><td>Pelican Sunstream 100 Kayak</td><td>28</td><td>5599.720153808594</td></tr><tr><td>Longmont</td><td>Nike Men's CJ Elite 2 TD Football Cleat</td><td>28</td><td>3639.7201538085938</td></tr><tr><td>Lynwood</td><td>Perfect Fitness Perfect Rip Deck</td><td>28</td><td>1679.7200469970703</td></tr><tr><td>Orange Park</td><td>Nike Men's Free 5.0+ Running Shoe</td><td>28</td><td>2799.719970703125</td></tr><tr><td>Reynoldsburg</td><td>Nike Men's Free 5.0+ Running Shoe</td><td>28</td><td>2799.720016479492</td></tr><tr><td>Rome</td><td>Under Armour Girls' Toddler Spine Surge Runni</td><td>28</td><td>1119.7200317382812</td></tr><tr><td>Santa Clara</td><td>Nike Men's Free 5.0+ Running Shoe</td><td>28</td><td>2799.7199935913086</td></tr><tr><td>Temecula</td><td>O'Brien Men's Neoprene Life Vest</td><td>28</td><td>1399.4399909973145</td></tr><tr><td>West Jordan</td><td>Nike Men's Free 5.0+ Running Shoe</td><td>28</td><td>2799.7199935913086</td></tr><tr><td>West Jordan</td><td>Under Armour Girls' Toddler Spine Surge Runni</td><td>28</td><td>1119.7200088500977</td></tr><tr><td>South Ozone Park</td><td>Nike Men's Free 5.0+ Running Shoe</td><td>28</td><td>2799.7199935913086</td></tr><tr><td>Milwaukee</td><td>Under Armour Girls' Toddler Spine Surge Runni</td><td>28</td><td>1119.7200355529785</td></tr><tr><td>Methuen</td><td>Under Armour Girls' Toddler Spine Surge Runni</td><td>28</td><td>1119.7200050354004</td></tr><tr><td>Dayton</td><td>Nike Men's Dri-FIT Victory Golf Polo</td><td>28</td><td>1400.0</td></tr><tr><td>Dundalk</td><td>Under Armour Girls' Toddler Spine Surge Runni</td><td>28</td><td>1119.7200050354004</td></tr><tr><td>Fountain Valley</td><td>O'Brien Men's Neoprene Life Vest</td><td>28</td><td>1399.43998336792</td></tr><tr><td>Huntington Station</td><td>O'Brien Men's Neoprene Life Vest</td><td>28</td><td>1399.4399871826172</td></tr><tr><td>Kailua</td><td>O'Brien Men's Neoprene Life Vest</td><td>28</td><td>1399.4399871826172</td></tr><tr><td>Martinez</td><td>Under Armour Girls' Toddler Spine Surge Runni</td><td>28</td><td>1119.7200317382812</td></tr><tr><td>Richardson</td><td>Nike Men's Free 5.0+ Running Shoe</td><td>28</td><td>2799.7200241088867</td></tr><tr><td>Santee</td><td>Perfect Fitness Perfect Rip Deck</td><td>28</td><td>1679.7200393676758</td></tr><tr><td>Wheaton</td><td>Under Armour Girls' Toddler Spine Surge Runni</td><td>28</td><td>1119.7200164794922</td></tr><tr><td>Wheeling</td><td>Nike Men's Free 5.0+ Running Shoe</td><td>28</td><td>2799.7199935913086</td></tr><tr><td>Milwaukee</td><td>Nike Men's CJ Elite 2 TD Football Cleat</td><td>28</td><td>3639.7201538085938</td></tr><tr><td>Bensalem</td><td>O'Brien Men's Neoprene Life Vest</td><td>27</td><td>1349.4599838256836</td></tr><tr><td>Buena Park</td><td>Perfect Fitness Perfect Rip Deck</td><td>27</td><td>1619.7300491333008</td></tr><tr><td>Carlsbad</td><td>Nike Men's Free 5.0+ Running Shoe</td><td>27</td><td>2699.730010986328</td></tr><tr><td>Buena Park</td><td>Nike Men's Dri-FIT Victory Golf Polo</td><td>27</td><td>1350.0</td></tr><tr><td>Carlsbad</td><td>Under Armour Girls' Toddler Spine Surge Runni</td><td>27</td><td>1079.7300338745117</td></tr><tr><td>Guaynabo</td><td>Nike Men's Dri-FIT Victory Golf Polo</td><td>27</td><td>1350.0</td></tr><tr><td>Cary</td><td>Nike Men's Dri-FIT Victory Golf Polo</td><td>27</td><td>1350.0</td></tr><tr><td>Douglasville</td><td>O'Brien Men's Neoprene Life Vest</td><td>27</td><td>1349.4599990844727</td></tr><tr><td>Hawthorne</td><td>O'Brien Men's Neoprene Life Vest</td><td>27</td><td>1349.4599800109863</td></tr><tr><td>Loveland</td><td>Under Armour Girls' Toddler Spine Surge Runni</td><td>27</td><td>1079.7300148010254</td></tr><tr><td>Victorville</td><td>Nike Men's Free 5.0+ Running Shoe</td><td>27</td><td>2699.729995727539</td></tr><tr><td>Alhambra</td><td>Under Armour Girls' Toddler Spine Surge Runni</td><td>27</td><td>1079.7300262451172</td></tr><tr><td>Cincinnati</td><td>Nike Men's Dri-FIT Victory Golf Polo</td><td>27</td><td>1350.0</td></tr><tr><td>Clearfield</td><td>O'Brien Men's Neoprene Life Vest</td><td>27</td><td>1349.459976196289</td></tr><tr><td>Doylestown</td><td>Perfect Fitness Perfect Rip Deck</td><td>27</td><td>1619.730052947998</td></tr><tr><td>Findlay</td><td>Nike Men's Free 5.0+ Running Shoe</td><td>27</td><td>2699.730010986328</td></tr><tr><td>Huntington Park</td><td>Nike Men's Dri-FIT Victory Golf Polo</td><td>27</td><td>1350.0</td></tr><tr><td>Knoxville</td><td>Nike Men's Free 5.0+ Running Shoe</td><td>27</td><td>2699.729995727539</td></tr><tr><td>Lynn</td><td>O'Brien Men's Neoprene Life Vest</td><td>27</td><td>1349.4599876403809</td></tr><tr><td>Newburgh</td><td>Under Armour Girls' Toddler Spine Surge Runni</td><td>27</td><td>1079.7300338745117</td></tr><tr><td>Victorville</td><td>Nike Men's Dri-FIT Victory Golf Polo</td><td>27</td><td>1350.0</td></tr><tr><td>Saint Charles</td><td>Nike Men's Free 5.0+ Running Shoe</td><td>27</td><td>2699.7300033569336</td></tr><tr><td>Ann Arbor</td><td>Nike Men's Free 5.0+ Running Shoe</td><td>27</td><td>2699.7300033569336</td></tr><tr><td>Crystal Lake</td><td>O'Brien Men's Neoprene Life Vest</td><td>27</td><td>1349.4599876403809</td></tr><tr><td>Danbury</td><td>Nike Men's Dri-FIT Victory Golf Polo</td><td>27</td><td>1350.0</td></tr><tr><td>Dubuque</td><td>Perfect Fitness Perfect Rip Deck</td><td>27</td><td>1619.7300300598145</td></tr><tr><td>Flushing</td><td>Under Armour Girls' Toddler Spine Surge Runni</td><td>27</td><td>1079.7300186157227</td></tr><tr><td>Gaithersburg</td><td>Perfect Fitness Perfect Rip Deck</td><td>27</td><td>1619.730037689209</td></tr><tr><td>Jonesboro</td><td>O'Brien Men's Neoprene Life Vest</td><td>27</td><td>1349.4599952697754</td></tr><tr><td>Lilburn</td><td>Nike Men's Dri-FIT Victory Golf Polo</td><td>27</td><td>1350.0</td></tr><tr><td>Lockport</td><td>Nike Men's Free 5.0+ Running Shoe</td><td>27</td><td>2699.7299880981445</td></tr><tr><td>Lynwood</td><td>O'Brien Men's Neoprene Life Vest</td><td>27</td><td>1349.4600067138672</td></tr><tr><td>Olathe</td><td>O'Brien Men's Neoprene Life Vest</td><td>27</td><td>1349.4599990844727</td></tr><tr><td>Oregon City</td><td>Nike Men's Free 5.0+ Running Shoe</td><td>27</td><td>2699.729965209961</td></tr><tr><td>Visalia</td><td>Nike Men's Dri-FIT Victory Golf Polo</td><td>27</td><td>1350.0</td></tr><tr><td>West New York</td><td>Nike Men's Dri-FIT Victory Golf Polo</td><td>27</td><td>1350.0</td></tr><tr><td>Vallejo</td><td>O'Brien Men's Neoprene Life Vest</td><td>27</td><td>1349.4599800109863</td></tr><tr><td>Reseda</td><td>O'Brien Men's Neoprene Life Vest</td><td>27</td><td>1349.4599876403809</td></tr><tr><td>Apopka</td><td>Under Armour Girls' Toddler Spine Surge Runni</td><td>27</td><td>1079.7300186157227</td></tr><tr><td>Del Rio</td><td>Nike Men's CJ Elite 2 TD Football Cleat</td><td>27</td><td>3509.7301483154297</td></tr><tr><td>Fairfield</td><td>Field & Stream Sportsman 16 Gun Fire Safe</td><td>27</td><td>10799.46029663086</td></tr><tr><td>Guayama</td><td>O'Brien Men's Neoprene Life Vest</td><td>27</td><td>1349.4599952697754</td></tr><tr><td>Lompoc</td><td>Perfect Fitness Perfect Rip Deck</td><td>27</td><td>1619.730037689209</td></tr><tr><td>Mchenry</td><td>Under Armour Girls' Toddler Spine Surge Runni</td><td>27</td><td>1079.7299880981445</td></tr><tr><td>Paramount</td><td>Nike Men's Dri-FIT Victory Golf Polo</td><td>27</td><td>1350.0</td></tr><tr><td>Winter Park</td><td>Nike Men's Dri-FIT Victory Golf Polo</td><td>27</td><td>1350.0</td></tr><tr><td>Yauco</td><td>O'Brien Men's Neoprene Life Vest</td><td>27</td><td>1349.4600067138672</td></tr><tr><td>Augusta</td><td>Nike Men's CJ Elite 2 TD Football Cleat</td><td>27</td><td>3509.7301483154297</td></tr><tr><td>Bay Shore</td><td>Perfect Fitness Perfect Rip Deck</td><td>26</td><td>1559.7400283813477</td></tr><tr><td>Bell Gardens</td><td>Under Armour Girls' Toddler Spine Surge Runni</td><td>26</td><td>1039.7399978637695</td></tr><tr><td>Bellflower</td><td>Nike Men's Free 5.0+ Running Shoe</td><td>26</td><td>2599.7400283813477</td></tr><tr><td>Henderson</td><td>Nike Men's Free 5.0+ Running Shoe</td><td>26</td><td>2599.7399673461914</td></tr><tr><td>Bloomfield</td><td>O'Brien Men's Neoprene Life Vest</td><td>26</td><td>1299.479995727539</td></tr><tr><td>Bloomfield</td><td>Nike Men's Dri-FIT Victory Golf Polo</td><td>26</td><td>1300.0</td></tr><tr><td>Henderson</td><td>O'Brien Men's Neoprene Life Vest</td><td>26</td><td>1299.47998046875</td></tr><tr><td>Merced</td><td>Perfect Fitness Perfect Rip Deck</td><td>26</td><td>1559.740047454834</td></tr><tr><td>Brentwood</td><td>Perfect Fitness Perfect Rip Deck</td><td>26</td><td>1559.7400512695312</td></tr><tr><td>Ewa Beach</td><td>Under Armour Girls' Toddler Spine Surge Runni</td><td>26</td><td>1039.7400169372559</td></tr><tr><td>Hilliard</td><td>Nike Men's Free 5.0+ Running Shoe</td><td>26</td><td>2599.739974975586</td></tr><tr><td>Longmont</td><td>Nike Men's Free 5.0+ Running Shoe</td><td>26</td><td>2599.7400131225586</td></tr><tr><td>Morganton</td><td>Nike Men's Dri-FIT Victory Golf Polo</td><td>26</td><td>1300.0</td></tr><tr><td>Redmond</td><td>Under Armour Girls' Toddler Spine Surge Runni</td><td>26</td><td>1039.7400131225586</td></tr><tr><td>Ballwin</td><td>Nike Men's Free 5.0+ Running Shoe</td><td>26</td><td>2599.7399826049805</td></tr><tr><td>Canovanas</td><td>Perfect Fitness Perfect Rip Deck</td><td>26</td><td>1559.7400360107422</td></tr><tr><td>Cayey</td><td>Perfect Fitness Perfect Rip Deck</td><td>26</td><td>1559.7400512695312</td></tr><tr><td>Far Rockaway</td><td>Under Armour Girls' Toddler Spine Surge Runni</td><td>26</td><td>1039.7400131225586</td></tr><tr><td>Glen Burnie</td><td>Perfect Fitness Perfect Rip Deck</td><td>26</td><td>1559.740047454834</td></tr><tr><td>Juana Diaz</td><td>Nike Men's Dri-FIT Victory Golf Polo</td><td>26</td><td>1300.0</td></tr><tr><td>Juana Diaz</td><td>O'Brien Men's Neoprene Life Vest</td><td>26</td><td>1299.4799842834473</td></tr><tr><td>Longmont</td><td>Field & Stream Sportsman 16 Gun Fire Safe</td><td>26</td><td>10399.480285644531</td></tr><tr><td>Manchester</td><td>Nike Men's Free 5.0+ Running Shoe</td><td>26</td><td>2599.739944458008</td></tr><tr><td>Muskegon</td><td>O'Brien Men's Neoprene Life Vest</td><td>26</td><td>1299.4799919128418</td></tr><tr><td>New Haven</td><td>Nike Men's Dri-FIT Victory Golf Polo</td><td>26</td><td>1300.0</td></tr><tr><td>Richardson</td><td>Nike Men's Dri-FIT Victory Golf Polo</td><td>26</td><td>1300.0</td></tr><tr><td>South Richmond Hill</td><td>Nike Men's Free 5.0+ Running Shoe</td><td>26</td><td>2599.739990234375</td></tr><tr><td>West Haven</td><td>O'Brien Men's Neoprene Life Vest</td><td>26</td><td>1299.479995727539</td></tr><tr><td>Carrollton</td><td>Nike Men's Free 5.0+ Running Shoe</td><td>26</td><td>2599.7399978637695</td></tr><tr><td>College Station</td><td>Nike Men's Free 5.0+ Running Shoe</td><td>26</td><td>2599.7399978637695</td></tr><tr><td>Colton</td><td>Nike Men's Dri-FIT Victory Golf Polo</td><td>26</td><td>1300.0</td></tr><tr><td>Forest Hills</td><td>Nike Men's Free 5.0+ Running Shoe</td><td>26</td><td>2599.740020751953</td></tr><tr><td>Guaynabo</td><td>O'Brien Men's Neoprene Life Vest</td><td>26</td><td>1299.4799766540527</td></tr><tr><td>Hamtramck</td><td>Under Armour Girls' Toddler Spine Surge Runni</td><td>26</td><td>1039.7400169372559</td></tr><tr><td>La Habra</td><td>Nike Men's Dri-FIT Victory Golf Polo</td><td>26</td><td>1300.0</td></tr><tr><td>Lansdale</td><td>Nike Men's Free 5.0+ Running Shoe</td><td>26</td><td>2599.739990234375</td></tr><tr><td>Lynn</td><td>Perfect Fitness Perfect Rip Deck</td><td>26</td><td>1559.7400245666504</td></tr><tr><td>Mchenry</td><td>Perfect Fitness Perfect Rip Deck</td><td>26</td><td>1559.7400398254395</td></tr><tr><td>Mentor</td><td>Nike Men's Dri-FIT Victory Golf Polo</td><td>26</td><td>1300.0</td></tr><tr><td>Nashville</td><td>O'Brien Men's Neoprene Life Vest</td><td>26</td><td>1299.479995727539</td></tr><tr><td>Palatine</td><td>Nike Men's Dri-FIT Victory Golf Polo</td><td>26</td><td>1300.0</td></tr><tr><td>Piscataway</td><td>Under Armour Girls' Toddler Spine Surge Runni</td><td>26</td><td>1039.7400283813477</td></tr><tr><td>Sandusky</td><td>O'Brien Men's Neoprene Life Vest</td><td>26</td><td>1299.4799919128418</td></tr><tr><td>Stafford</td><td>Perfect Fitness Perfect Rip Deck</td><td>26</td><td>1559.7400512695312</td></tr><tr><td>Taylor</td><td>Nike Men's Dri-FIT Victory Golf Polo</td><td>26</td><td>1300.0</td></tr><tr><td>Wheeling</td><td>O'Brien Men's Neoprene Life Vest</td><td>26</td><td>1299.4799880981445</td></tr><tr><td>Albany</td><td>Nike Men's Free 5.0+ Running Shoe</td><td>26</td><td>2599.7399673461914</td></tr><tr><td>Eagle Pass</td><td>Under Armour Girls' Toddler Spine Surge Runni</td><td>26</td><td>1039.7400169372559</td></tr><tr><td>Gardena</td><td>Nike Men's CJ Elite 2 TD Football Cleat</td><td>26</td><td>3379.7401428222656</td></tr><tr><td>Henderson</td><td>Nike Men's Dri-FIT Victory Golf Polo</td><td>26</td><td>1300.0</td></tr><tr><td>Livermore</td><td>O'Brien Men's Neoprene Life Vest</td><td>26</td><td>1299.4799919128418</td></tr><tr><td>Lynn</td><td>Nike Men's Dri-FIT Victory Golf Polo</td><td>26</td><td>1300.0</td></tr><tr><td>Mentor</td><td>Perfect Fitness Perfect Rip Deck</td><td>26</td><td>1559.7400398254395</td></tr><tr><td>Powder Springs</td><td>Nike Men's Free 5.0+ Running Shoe</td><td>26</td><td>2599.7399978637695</td></tr><tr><td>South El Monte</td><td>Under Armour Girls' Toddler Spine Surge Runni</td><td>26</td><td>1039.740032196045</td></tr><tr><td>Toa Alta</td><td>O'Brien Men's Neoprene Life Vest</td><td>26</td><td>1299.4799842834473</td></tr><tr><td>Wilmington</td><td>Nike Men's Dri-FIT Victory Golf Polo</td><td>26</td><td>1300.0</td></tr><tr><td>Apopka</td><td>O'Brien Men's Neoprene Life Vest</td><td>26</td><td>1299.4799919128418</td></tr><tr><td>Bloomfield</td><td>Nike Men's Free 5.0+ Running Shoe</td><td>25</td><td>2499.75</td></tr><tr><td>Bristol</td><td>Nike Men's Dri-FIT Victory Golf Polo</td><td>25</td><td>1250.0</td></tr><tr><td>Gilroy</td><td>Under Armour Girls' Toddler Spine Surge Runni</td><td>25</td><td>999.7500114440918</td></tr><tr><td>Pekin</td><td>Under Armour Girls' Toddler Spine Surge Runni</td><td>25</td><td>999.7500114440918</td></tr><tr><td>Canton</td><td>Under Armour Girls' Toddler Spine Surge Runni</td><td>25</td><td>999.7500190734863</td></tr><tr><td>Granite City</td><td>O'Brien Men's Neoprene Life Vest</td><td>25</td><td>1249.4999923706055</td></tr><tr><td>Marion</td><td>Perfect Fitness Perfect Rip Deck</td><td>25</td><td>1499.7500381469727</td></tr><tr><td>Pittsburg</td><td>Nike Men's Free 5.0+ Running Shoe</td><td>25</td><td>2499.75</td></tr><tr><td>San Pablo</td><td>Nike Men's Free 5.0+ Running Shoe</td><td>25</td><td>2499.7500228881836</td></tr><tr><td>Beaverton</td><td>Under Armour Girls' Toddler Spine Surge Runni</td><td>25</td><td>999.7500152587891</td></tr><tr><td>Chino</td><td>Nike Men's Free 5.0+ Running Shoe</td><td>25</td><td>2499.749969482422</td></tr><tr><td>Crystal Lake</td><td>Nike Men's Dri-FIT Victory Golf Polo</td><td>25</td><td>1250.0</td></tr><tr><td>Grove City</td><td>Perfect Fitness Perfect Rip Deck</td><td>25</td><td>1499.7500343322754</td></tr><tr><td>Highland Park</td><td>Under Armour Girls' Toddler Spine Surge Runni</td><td>25</td><td>999.7500381469727</td></tr><tr><td>Medina</td><td>Perfect Fitness Perfect Rip Deck</td><td>25</td><td>1499.75004196167</td></tr><tr><td>Morristown</td><td>Nike Men's Free 5.0+ Running Shoe</td><td>25</td><td>2499.7499923706055</td></tr><tr><td>Provo</td><td>Under Armour Girls' Toddler Spine Surge Runni</td><td>25</td><td>999.7500152587891</td></tr><tr><td>Rego Park</td><td>Nike Men's CJ Elite 2 TD Football Cleat</td><td>25</td><td>3249.7501373291016</td></tr><tr><td>San Sebastian</td><td>Under Armour Girls' Toddler Spine Surge Runni</td><td>25</td><td>999.7500038146973</td></tr><tr><td>Waipahu</td><td>Nike Men's CJ Elite 2 TD Football Cleat</td><td>25</td><td>3249.7501373291016</td></tr><tr><td>Wyoming</td><td>Nike Men's Free 5.0+ Running Shoe</td><td>25</td><td>2499.7499923706055</td></tr><tr><td>Bell Gardens</td><td>Nike Men's Free 5.0+ Running Shoe</td><td>25</td><td>2499.750015258789</td></tr><tr><td>Crystal Lake</td><td>Nike Men's Free 5.0+ Running Shoe</td><td>25</td><td>2499.7499923706055</td></tr><tr><td>Edison</td><td>Perfect Fitness Perfect Rip Deck</td><td>25</td><td>1499.7500305175781</td></tr><tr><td>Hanford</td><td>Under Armour Girls' Toddler Spine Surge Runni</td><td>25</td><td>999.7500228881836</td></tr><tr><td>Joliet</td><td>Under Armour Girls' Toddler Spine Surge Runni</td><td>25</td><td>999.7499961853027</td></tr><tr><td>Littleton</td><td>Under Armour Girls' Toddler Spine Surge Runni</td><td>25</td><td>999.7499961853027</td></tr><tr><td>Michigan City</td><td>Nike Men's Dri-FIT Victory Golf Polo</td><td>25</td><td>1250.0</td></tr><tr><td>Morristown</td><td>Under Armour Girls' Toddler Spine Surge Runni</td><td>25</td><td>999.7500267028809</td></tr><tr><td>Napa</td><td>Nike Men's Free 5.0+ Running Shoe</td><td>25</td><td>2499.749969482422</td></tr><tr><td>Revere</td><td>Nike Men's Dri-FIT Victory Golf Polo</td><td>25</td><td>1250.0</td></tr><tr><td>Rio Rancho</td><td>Nike Men's Free 5.0+ Running Shoe</td><td>25</td><td>2499.750045776367</td></tr><tr><td>Santa Fe</td><td>Nike Men's Dri-FIT Victory Golf Polo</td><td>25</td><td>1250.0</td></tr><tr><td>Waipahu</td><td>Under Armour Girls' Toddler Spine Surge Runni</td><td>25</td><td>999.7500228881836</td></tr><tr><td>Williamsport</td><td>O'Brien Men's Neoprene Life Vest</td><td>25</td><td>1249.5000038146973</td></tr><tr><td>Zanesville</td><td>O'Brien Men's Neoprene Life Vest</td><td>25</td><td>1249.499984741211</td></tr><tr><td>Peabody</td><td>Nike Men's Free 5.0+ Running Shoe</td><td>25</td><td>2499.7500076293945</td></tr><tr><td>Bellingham</td><td>O'Brien Men's Neoprene Life Vest</td><td>25</td><td>1249.4999923706055</td></tr><tr><td>Garland</td><td>Nike Men's Dri-FIT Victory Golf Polo</td><td>25</td><td>1250.0</td></tr><tr><td>Longview</td><td>Perfect Fitness Perfect Rip Deck</td><td>25</td><td>1499.7500495910645</td></tr><tr><td>Mission</td><td>Nike Men's Free 5.0+ Running Shoe</td><td>25</td><td>2499.75</td></tr><tr><td>North Richland Hills</td><td>Nike Men's CJ Elite 2 TD Football Cleat</td><td>25</td><td>3249.7501373291016</td></tr><tr><td>Rio Rancho</td><td>O'Brien Men's Neoprene Life Vest</td><td>25</td><td>1249.499984741211</td></tr><tr><td>Spring</td><td>Nike Men's Dri-FIT Victory Golf Polo</td><td>25</td><td>1250.0</td></tr><tr><td>Wyandotte</td><td>Under Armour Girls' Toddler Spine Surge Runni</td><td>25</td><td>999.7500228881836</td></tr><tr><td>Blacksburg</td><td>O'Brien Men's Neoprene Life Vest</td><td>25</td><td>1249.4999885559082</td></tr><tr><td>Arecibo</td><td>Nike Men's Free 5.0+ Running Shoe</td><td>25</td><td>2499.7499923706055</td></tr><tr><td>Brandon</td><td>Under Armour Girls' Toddler Spine Surge Runni</td><td>24</td><td>959.7600212097168</td></tr><tr><td>Brighton</td><td>Pelican Sunstream 100 Kayak</td><td>24</td><td>4799.7601318359375</td></tr><tr><td>Harlingen</td><td>Under Armour Girls' Toddler Spine Surge Runni</td><td>24</td><td>959.7600021362305</td></tr><tr><td>Bristol</td><td>O'Brien Men's Neoprene Life Vest</td><td>24</td><td>1199.5200004577637</td></tr><tr><td>Hilliard</td><td>Under Armour Girls' Toddler Spine Surge Runni</td><td>24</td><td>959.7600250244141</td></tr><tr><td>Palmdale</td><td>Nike Men's Dri-FIT Victory Golf Polo</td><td>24</td><td>1200.0</td></tr><tr><td>Broken Arrow</td><td>Nike Men's CJ Elite 2 TD Football Cleat</td><td>24</td><td>3119.7601318359375</td></tr><tr><td>La Mesa</td><td>Nike Men's CJ Elite 2 TD Football Cleat</td><td>24</td><td>3119.7601318359375</td></tr><tr><td>Massillon</td><td>Under Armour Girls' Toddler Spine Surge Runni</td><td>24</td><td>959.7600173950195</td></tr><tr><td>Peabody</td><td>O'Brien Men's Neoprene Life Vest</td><td>24</td><td>1199.5199890136719</td></tr><tr><td>Rochester</td><td>Nike Men's CJ Elite 2 TD Football Cleat</td><td>24</td><td>3119.7601318359375</td></tr><tr><td>Sunnyvale</td><td>Pelican Sunstream 100 Kayak</td><td>24</td><td>4799.7601318359375</td></tr><tr><td>Cary</td><td>Under Armour Girls' Toddler Spine Surge Runni</td><td>24</td><td>959.7600059509277</td></tr><tr><td>Danbury</td><td>O'Brien Men's Neoprene Life Vest</td><td>24</td><td>1199.5199737548828</td></tr><tr><td>La Mirada</td><td>Nike Men's CJ Elite 2 TD Football Cleat</td><td>24</td><td>3119.7601318359375</td></tr><tr><td>Montebello</td><td>O'Brien Men's Neoprene Life Vest</td><td>24</td><td>1199.5199928283691</td></tr><tr><td>New Castle</td><td>O'Brien Men's Neoprene Life Vest</td><td>24</td><td>1199.5199928283691</td></tr><tr><td>Quincy</td><td>Nike Men's CJ Elite 2 TD Football Cleat</td><td>24</td><td>3119.7601318359375</td></tr><tr><td>Rancho Cucamonga</td><td>Nike Men's Dri-FIT Victory Golf Polo</td><td>24</td><td>1200.0</td></tr><tr><td>Rosemead</td><td>Nike Men's Dri-FIT Victory Golf Polo</td><td>24</td><td>1200.0</td></tr><tr><td>San Bernardino</td><td>Field & Stream Sportsman 16 Gun Fire Safe</td><td>24</td><td>9599.520263671875</td></tr><tr><td>Taylor</td><td>Perfect Fitness Perfect Rip Deck</td><td>24</td><td>1439.7600440979004</td></tr><tr><td>Tinley Park</td><td>Nike Men's Dri-FIT Victory Golf Polo</td><td>24</td><td>1200.0</td></tr><tr><td>Hampton</td><td>Under Armour Girls' Toddler Spine Surge Runni</td><td>24</td><td>959.7600059509277</td></tr><tr><td>Baldwin Park</td><td>Under Armour Girls' Toddler Spine Surge Runni</td><td>24</td><td>959.7600173950195</td></tr><tr><td>Cupertino</td><td>Nike Men's Dri-FIT Victory Golf Polo</td><td>24</td><td>1200.0</td></tr><tr><td>Decatur</td><td>O'Brien Men's Neoprene Life Vest</td><td>24</td><td>1199.5199813842773</td></tr><tr><td>Flushing</td><td>Nike Men's Free 5.0+ Running Shoe</td><td>24</td><td>2399.759994506836</td></tr><tr><td>Lithonia</td><td>Nike Men's Dri-FIT Victory Golf Polo</td><td>24</td><td>1200.0</td></tr><tr><td>Manchester</td><td>Perfect Fitness Perfect Rip Deck</td><td>24</td><td>1439.7600326538086</td></tr><tr><td>Morrisville</td><td>Under Armour Girls' Toddler Spine Surge Runni</td><td>24</td><td>959.7600250244141</td></tr><tr><td>North Tonawanda</td><td>Nike Men's Free 5.0+ Running Shoe</td><td>24</td><td>2399.7600021362305</td></tr><tr><td>Opelousas</td><td>Diamondback Women's Serene Classic Comfort Bi</td><td>24</td><td>7199.520263671875</td></tr><tr><td>Rancho Cordova</td><td>Perfect Fitness Perfect Rip Deck</td><td>24</td><td>1439.760025024414</td></tr><tr><td>Rego Park</td><td>Perfect Fitness Perfect Rip Deck</td><td>24</td><td>1439.7600326538086</td></tr><tr><td>Reynoldsburg</td><td>O'Brien Men's Neoprene Life Vest</td><td>24</td><td>1199.5199928283691</td></tr><tr><td>Rosemead</td><td>Perfect Fitness Perfect Rip Deck</td><td>24</td><td>1439.7600440979004</td></tr><tr><td>San Pablo</td><td>Under Armour Girls' Toddler Spine Surge Runni</td><td>24</td><td>959.7600173950195</td></tr><tr><td>Santa Cruz</td><td>Nike Men's CJ Elite 2 TD Football Cleat</td><td>24</td><td>3119.7601318359375</td></tr><tr><td>Wilkes Barre</td><td>Under Armour Girls' Toddler Spine Surge Runni</td><td>24</td><td>959.7600135803223</td></tr><tr><td>Woodside</td><td>O'Brien Men's Neoprene Life Vest</td><td>24</td><td>1199.5199813842773</td></tr><tr><td>Stamford</td><td>Nike Men's CJ Elite 2 TD Football Cleat</td><td>24</td><td>3119.7601318359375</td></tr><tr><td>Bolingbrook</td><td>Nike Men's Dri-FIT Victory Golf Polo</td><td>24</td><td>1200.0</td></tr><tr><td>Bayonne</td><td>Nike Men's Dri-FIT Victory Golf Polo</td><td>24</td><td>1200.0</td></tr><tr><td>Fond Du Lac</td><td>O'Brien Men's Neoprene Life Vest</td><td>24</td><td>1199.5199928283691</td></tr><tr><td>Marrero</td><td>Nike Men's Free 5.0+ Running Shoe</td><td>24</td><td>2399.759994506836</td></tr><tr><td>New Albany</td><td>Under Armour Girls' Toddler Spine Surge Runni</td><td>24</td><td>959.7600059509277</td></tr><tr><td>Painesville</td><td>Nike Men's Free 5.0+ Running Shoe</td><td>24</td><td>2399.760009765625</td></tr><tr><td>Ridgewood</td><td>Under Armour Girls' Toddler Spine Surge Runni</td><td>24</td><td>959.7600135803223</td></tr><tr><td>Round Rock</td><td>Under Armour Girls' Toddler Spine Surge Runni</td><td>24</td><td>959.760009765625</td></tr><tr><td>Santa Fe</td><td>O'Brien Men's Neoprene Life Vest</td><td>24</td><td>1199.5199890136719</td></tr><tr><td>Woodside</td><td>Under Armour Girls' Toddler Spine Surge Runni</td><td>24</td><td>959.7600326538086</td></tr><tr><td>Summerville</td><td>O'Brien Men's Neoprene Life Vest</td><td>24</td><td>1199.5200004577637</td></tr><tr><td>Baytown</td><td>O'Brien Men's Neoprene Life Vest</td><td>24</td><td>1199.5199890136719</td></tr><tr><td>Bartlett</td><td>Perfect Fitness Perfect Rip Deck</td><td>23</td><td>1379.7700462341309</td></tr><tr><td>Bayonne</td><td>O'Brien Men's Neoprene Life Vest</td><td>23</td><td>1149.5399894714355</td></tr><tr><td>Bayonne</td><td>Under Armour Girls' Toddler Spine Surge Runni</td><td>23</td><td>919.7700157165527</td></tr><tr><td>Baytown</td><td>Under Armour Girls' Toddler Spine Surge Runni</td><td>23</td><td>919.77001953125</td></tr><tr><td>Bensalem</td><td>Nike Men's Free 5.0+ Running Shoe</td><td>23</td><td>2299.7700119018555</td></tr><tr><td>Lynn</td><td>Nike Men's Free 5.0+ Running Shoe</td><td>23</td><td>2299.769973754883</td></tr><tr><td>Bensalem</td><td>Perfect Fitness Perfect Rip Deck</td><td>23</td><td>1379.7700424194336</td></tr><tr><td>Burnsville</td><td>Field & Stream Sportsman 16 Gun Fire Safe</td><td>23</td><td>9199.540252685547</td></tr><tr><td>Madera</td><td>Nike Men's Dri-FIT Victory Golf Polo</td><td>23</td><td>1150.0</td></tr><tr><td>Mount Pleasant</td><td>Under Armour Girls' Toddler Spine Surge Runni</td><td>23</td><td>919.7700271606445</td></tr><tr><td>Billings</td><td>Perfect Fitness Perfect Rip Deck</td><td>23</td><td>1379.770034790039</td></tr><tr><td>Campbell</td><td>O'Brien Men's Neoprene Life Vest</td><td>23</td><td>1149.5399932861328</td></tr><tr><td>Des Plaines</td><td>Nike Men's Dri-FIT Victory Golf Polo</td><td>23</td><td>1150.0</td></tr><tr><td>Martinez</td><td>Perfect Fitness Perfect Rip Deck</td><td>23</td><td>1379.7700424194336</td></tr><tr><td>Martinez</td><td>Nike Men's Free 5.0+ Running Shoe</td><td>23</td><td>2299.770004272461</td></tr><tr><td>Mount Pleasant</td><td>Field & Stream Sportsman 16 Gun Fire Safe</td><td>23</td><td>9199.540252685547</td></tr><tr><td>Rialto</td><td>O'Brien Men's Neoprene Life Vest</td><td>23</td><td>1149.5400009155273</td></tr><tr><td>Ithaca</td><td>Nike Men's Free 5.0+ Running Shoe</td><td>23</td><td>2299.77001953125</td></tr><tr><td>Carmichael</td><td>Nike Men's Free 5.0+ Running Shoe</td><td>23</td><td>2299.769989013672</td></tr><tr><td>Cincinnati</td><td>Nike Men's Free 5.0+ Running Shoe</td><td>23</td><td>2299.77001953125</td></tr><tr><td>Far Rockaway</td><td>Nike Men's CJ Elite 2 TD Football Cleat</td><td>23</td><td>2989.7701263427734</td></tr><tr><td>Henderson</td><td>Perfect Fitness Perfect Rip Deck</td><td>23</td><td>1379.7700424194336</td></tr><tr><td>Medina</td><td>O'Brien Men's Neoprene Life Vest</td><td>23</td><td>1149.5399894714355</td></tr><tr><td>Metairie</td><td>Under Armour Girls' Toddler Spine Surge Runni</td><td>23</td><td>919.7699966430664</td></tr><tr><td>Mount Prospect</td><td>Under Armour Girls' Toddler Spine Surge Runni</td><td>23</td><td>919.7700119018555</td></tr><tr><td>New Castle</td><td>Perfect Fitness Perfect Rip Deck</td><td>23</td><td>1379.770034790039</td></tr><tr><td>San Pablo</td><td>O'Brien Men's Neoprene Life Vest</td><td>23</td><td>1149.5399894714355</td></tr><tr><td>Spring</td><td>O'Brien Men's Neoprene Life Vest</td><td>23</td><td>1149.5399856567383</td></tr><tr><td>Woonsocket</td><td>O'Brien Men's Neoprene Life Vest</td><td>23</td><td>1149.5399894714355</td></tr><tr><td>Lake Forest</td><td>Nike Men's CJ Elite 2 TD Football Cleat</td><td>23</td><td>2989.7701263427734</td></tr><tr><td>Chino Hills</td><td>Perfect Fitness Perfect Rip Deck</td><td>23</td><td>1379.7700462341309</td></tr><tr><td>College Station</td><td>Nike Men's CJ Elite 2 TD Football Cleat</td><td>23</td><td>2989.7701263427734</td></tr><tr><td>Conway</td><td>Perfect Fitness Perfect Rip Deck</td><td>23</td><td>1379.7700309753418</td></tr><tr><td>Hamtramck</td><td>Nike Men's CJ Elite 2 TD Football Cleat</td><td>23</td><td>2989.7701263427734</td></tr><tr><td>Hickory</td><td>Nike Men's CJ Elite 2 TD Football Cleat</td><td>23</td><td>2989.7701263427734</td></tr><tr><td>Hickory</td><td>Nike Men's Free 5.0+ Running Shoe</td><td>23</td><td>2299.7700119018555</td></tr><tr><td>Meridian</td><td>Under Armour Girls' Toddler Spine Surge Runni</td><td>23</td><td>919.7700157165527</td></tr><tr><td>Methuen</td><td>Nike Men's Free 5.0+ Running Shoe</td><td>23</td><td>2299.7699813842773</td></tr><tr><td>Michigan City</td><td>Under Armour Girls' Toddler Spine Surge Runni</td><td>23</td><td>919.7700004577637</td></tr><tr><td>New Braunfels</td><td>Nike Men's Dri-FIT Victory Golf Polo</td><td>23</td><td>1150.0</td></tr><tr><td>Oak Lawn</td><td>Under Armour Girls' Toddler Spine Surge Runni</td><td>23</td><td>919.7700271606445</td></tr><tr><td>Olathe</td><td>Under Armour Girls' Toddler Spine Surge Runni</td><td>23</td><td>919.7700119018555</td></tr><tr><td>Sandusky</td><td>Perfect Fitness Perfect Rip Deck</td><td>23</td><td>1379.7700309753418</td></tr><tr><td>Upland</td><td>Nike Men's Dri-FIT Victory Golf Polo</td><td>23</td><td>1150.0</td></tr><tr><td>Warren</td><td>Under Armour Girls' Toddler Spine Surge Runni</td><td>23</td><td>919.77001953125</td></tr><tr><td>Westminster</td><td>Perfect Fitness Perfect Rip Deck</td><td>23</td><td>1379.7700271606445</td></tr><tr><td>Lenoir</td><td>Under Armour Girls' Toddler Spine Surge Runni</td><td>23</td><td>919.7700386047363</td></tr><tr><td>Albany</td><td>Perfect Fitness Perfect Rip Deck</td><td>23</td><td>1379.7700386047363</td></tr><tr><td>Dayton</td><td>Under Armour Girls' Toddler Spine Surge Runni</td><td>23</td><td>919.7700080871582</td></tr><tr><td>Hanover</td><td>O'Brien Men's Neoprene Life Vest</td><td>23</td><td>1149.5399894714355</td></tr><tr><td>Huntington Park</td><td>Nike Men's Free 5.0+ Running Shoe</td><td>23</td><td>2299.77001953125</td></tr><tr><td>Mesquite</td><td>Under Armour Girls' Toddler Spine Surge Runni</td><td>23</td><td>919.7700042724609</td></tr><tr><td>Mililani</td><td>Field & Stream Sportsman 16 Gun Fire Safe</td><td>23</td><td>9199.540252685547</td></tr><tr><td>Pittsfield</td><td>Nike Men's Dri-FIT Victory Golf Polo</td><td>23</td><td>1150.0</td></tr><tr><td>South Richmond Hill</td><td>Under Armour Girls' Toddler Spine Surge Runni</td><td>23</td><td>919.7700119018555</td></tr><tr><td>West Lafayette</td><td>O'Brien Men's Neoprene Life Vest</td><td>23</td><td>1149.5399932861328</td></tr><tr><td>Lutz</td><td>Under Armour Girls' Toddler Spine Surge Runni</td><td>23</td><td>919.77001953125</td></tr><tr><td>Indio</td><td>Nike Men's Free 5.0+ Running Shoe</td><td>23</td><td>2299.7700119018555</td></tr><tr><td>Bay Shore</td><td>O'Brien Men's Neoprene Life Vest</td><td>22</td><td>1099.559986114502</td></tr><tr><td>Billings</td><td>Under Armour Girls' Toddler Spine Surge Runni</td><td>22</td><td>879.7800216674805</td></tr><tr><td>Laguna Hills</td><td>Nike Men's Free 5.0+ Running Shoe</td><td>22</td><td>2199.780029296875</td></tr><tr><td>Brockton</td><td>Nike Men's Free 5.0+ Running Shoe</td><td>22</td><td>2199.779983520508</td></tr><tr><td>Cupertino</td><td>Under Armour Girls' Toddler Spine Surge Runni</td><td>22</td><td>879.7799949645996</td></tr><tr><td>Laguna Niguel</td><td>Nike Men's Free 5.0+ Running Shoe</td><td>22</td><td>2199.779998779297</td></tr><tr><td>North Bergen</td><td>O'Brien Men's Neoprene Life Vest</td><td>22</td><td>1099.559986114502</td></tr><tr><td>Brockton</td><td>O'Brien Men's Neoprene Life Vest</td><td>22</td><td>1099.5599899291992</td></tr><tr><td>Cupertino</td><td>O'Brien Men's Neoprene Life Vest</td><td>22</td><td>1099.5599822998047</td></tr><tr><td>Fort Washington</td><td>Under Armour Girls' Toddler Spine Surge Runni</td><td>22</td><td>879.7800064086914</td></tr><tr><td>Lansdale</td><td>Under Armour Girls' Toddler Spine Surge Runni</td><td>22</td><td>879.7800216674805</td></tr><tr><td>Massapequa</td><td>Under Armour Girls' Toddler Spine Surge Runni</td><td>22</td><td>879.7800216674805</td></tr><tr><td>Opa Locka</td><td>Nike Men's Free 5.0+ Running Shoe</td><td>22</td><td>2199.779998779297</td></tr><tr><td>Reynoldsburg</td><td>Pelican Sunstream 100 Kayak</td><td>22</td><td>4399.780120849609</td></tr><tr><td>La Puente</td><td>Perfect Fitness Perfect Rip Deck</td><td>22</td><td>1319.7800331115723</td></tr><tr><td>Chambersburg</td><td>O'Brien Men's Neoprene Life Vest</td><td>22</td><td>1099.5599822998047</td></tr><tr><td>Citrus Heights</td><td>Nike Men's Dri-FIT Victory Golf Polo</td><td>22</td><td>1100.0</td></tr><tr><td>Danbury</td><td>Perfect Fitness Perfect Rip Deck</td><td>22</td><td>1319.7800331115723</td></tr><tr><td>Eagle Pass</td><td>O'Brien Men's Neoprene Life Vest</td><td>22</td><td>1099.560001373291</td></tr><tr><td>Garland</td><td>Under Armour Girls' Toddler Spine Surge Runni</td><td>22</td><td>879.7800140380859</td></tr><tr><td>Granite City</td><td>Under Armour Girls' Toddler Spine Surge Runni</td><td>22</td><td>879.7800102233887</td></tr><tr><td>Lawton</td><td>O'Brien Men's Neoprene Life Vest</td><td>22</td><td>1099.560001373291</td></tr><tr><td>Massillon</td><td>Nike Men's Free 5.0+ Running Shoe</td><td>22</td><td>2199.779983520508</td></tr><tr><td>Mission</td><td>Nike Men's CJ Elite 2 TD Football Cleat</td><td>22</td><td>2859.7801208496094</td></tr><tr><td>Palatine</td><td>Nike Men's Free 5.0+ Running Shoe</td><td>22</td><td>2199.7800064086914</td></tr><tr><td>Perth Amboy</td><td>Nike Men's Free 5.0+ Running Shoe</td><td>22</td><td>2199.779998779297</td></tr><tr><td>Rock Hill</td><td>Nike Men's Dri-FIT Victory Golf Polo</td><td>22</td><td>1100.0</td></tr><tr><td>South Gate</td><td>Perfect Fitness Perfect Rip Deck</td><td>22</td><td>1319.7800369262695</td></tr><tr><td>Westminster</td><td>Under Armour Girls' Toddler Spine Surge Runni</td><td>22</td><td>879.7800331115723</td></tr><tr><td>Union</td><td>Nike Men's Free 5.0+ Running Shoe</td><td>22</td><td>2199.7800216674805</td></tr><tr><td>Astoria</td><td>Perfect Fitness Perfect Rip Deck</td><td>22</td><td>1319.780029296875</td></tr><tr><td>Clementon</td><td>Under Armour Girls' Toddler Spine Surge Runni</td><td>22</td><td>879.7799987792969</td></tr><tr><td>Colton</td><td>Under Armour Girls' Toddler Spine Surge Runni</td><td>22</td><td>879.7800102233887</td></tr><tr><td>Doylestown</td><td>Nike Men's Dri-FIT Victory Golf Polo</td><td>22</td><td>1100.0</td></tr><tr><td>East Lansing</td><td>Under Armour Girls' Toddler Spine Surge Runni</td><td>22</td><td>879.7800140380859</td></tr><tr><td>Englewood</td><td>Perfect Fitness Perfect Rip Deck</td><td>22</td><td>1319.7800407409668</td></tr><tr><td>Germantown</td><td>Nike Men's CJ Elite 2 TD Football Cleat</td><td>22</td><td>2859.7801208496094</td></tr><tr><td>Hempstead</td><td>O'Brien Men's Neoprene Life Vest</td><td>22</td><td>1099.5599975585938</td></tr><tr><td>La Habra</td><td>Under Armour Girls' Toddler Spine Surge Runni</td><td>22</td><td>879.7799911499023</td></tr><tr><td>Longview</td><td>Nike Men's Dri-FIT Victory Golf Polo</td><td>22</td><td>1100.0</td></tr><tr><td>Longview</td><td>Nike Men's Free 5.0+ Running Shoe</td><td>22</td><td>2199.7799911499023</td></tr><tr><td>Mcallen</td><td>Perfect Fitness Perfect Rip Deck</td><td>22</td><td>1319.7800407409668</td></tr><tr><td>Mission</td><td>Under Armour Girls' Toddler Spine Surge Runni</td><td>22</td><td>879.7800178527832</td></tr><tr><td>New Braunfels</td><td>Nike Men's Free 5.0+ Running Shoe</td><td>22</td><td>2199.7799911499023</td></tr><tr><td>Perth Amboy</td><td>O'Brien Men's Neoprene Life Vest</td><td>22</td><td>1099.5599899291992</td></tr><tr><td>Pittsfield</td><td>Under Armour Girls' Toddler Spine Surge Runni</td><td>22</td><td>879.7800178527832</td></tr><tr><td>Porterville</td><td>Nike Men's CJ Elite 2 TD Football Cleat</td><td>22</td><td>2859.7801208496094</td></tr><tr><td>Salina</td><td>Nike Men's Free 5.0+ Running Shoe</td><td>22</td><td>2199.779983520508</td></tr><tr><td>South Ozone Park</td><td>Nike Men's CJ Elite 2 TD Football Cleat</td><td>22</td><td>2859.7801208496094</td></tr><tr><td>Springfield</td><td>O'Brien Men's Neoprene Life Vest</td><td>22</td><td>1099.5599937438965</td></tr><tr><td>Williamsport</td><td>Nike Men's Dri-FIT Victory Golf Polo</td><td>22</td><td>1100.0</td></tr><tr><td>Weslaco</td><td>Nike Men's CJ Elite 2 TD Football Cleat</td><td>22</td><td>2859.7801208496094</td></tr><tr><td>Ballwin</td><td>Under Armour Girls' Toddler Spine Surge Runni</td><td>22</td><td>879.7800331115723</td></tr><tr><td>Arlington Heights</td><td>Nike Men's Free 5.0+ Running Shoe</td><td>22</td><td>2199.7799911499023</td></tr><tr><td>Conway</td><td>Nike Men's Dri-FIT Victory Golf Polo</td><td>22</td><td>1100.0</td></tr><tr><td>Forest Hills</td><td>Perfect Fitness Perfect Rip Deck</td><td>22</td><td>1319.7800407409668</td></tr><tr><td>Goose Creek</td><td>O'Brien Men's Neoprene Life Vest</td><td>22</td><td>1099.560001373291</td></tr><tr><td>La Mirada</td><td>Nike Men's Free 5.0+ Running Shoe</td><td>22</td><td>2199.7800064086914</td></tr><tr><td>Louisville</td><td>Nike Men's CJ Elite 2 TD Football Cleat</td><td>22</td><td>2859.7801208496094</td></tr><tr><td>Mililani</td><td>Under Armour Girls' Toddler Spine Surge Runni</td><td>22</td><td>879.7800216674805</td></tr><tr><td>New Braunfels</td><td>Perfect Fitness Perfect Rip Deck</td><td>22</td><td>1319.7800178527832</td></tr><tr><td>Rancho Cucamonga</td><td>Nike Men's Free 5.0+ Running Shoe</td><td>22</td><td>2199.7799682617188</td></tr><tr><td>Scottsdale</td><td>O'Brien Men's Neoprene Life Vest</td><td>22</td><td>1099.559986114502</td></tr><tr><td>Tulare</td><td>Nike Men's Free 5.0+ Running Shoe</td><td>22</td><td>2199.780029296875</td></tr><tr><td>West New York</td><td>O'Brien Men's Neoprene Life Vest</td><td>22</td><td>1099.559986114502</td></tr><tr><td>Ballwin</td><td>Pelican Sunstream 100 Kayak</td><td>22</td><td>4399.780120849609</td></tr><tr><td>Allentown</td><td>Perfect Fitness Perfect Rip Deck</td><td>22</td><td>1319.7800331115723</td></tr><tr><td>Bellingham</td><td>Nike Men's Dri-FIT Victory Golf Polo</td><td>21</td><td>1050.0</td></tr><tr><td>Broken Arrow</td><td>Under Armour Girls' Toddler Spine Surge Runni</td><td>21</td><td>839.7900009155273</td></tr><tr><td>Broomfield</td><td>Perfect Fitness Perfect Rip Deck</td><td>21</td><td>1259.7900352478027</td></tr><tr><td>Algonquin</td><td>Nike Men's Free 5.0+ Running Shoe</td><td>21</td><td>2099.790023803711</td></tr><tr><td>Canoga Park</td><td>Nike Men's Dri-FIT Victory Golf Polo</td><td>21</td><td>1050.0</td></tr><tr><td>Clovis</td><td>Nike Men's Free 5.0+ Running Shoe</td><td>21</td><td>2099.790008544922</td></tr><tr><td>Mchenry</td><td>O'Brien Men's Neoprene Life Vest</td><td>21</td><td>1049.5799827575684</td></tr><tr><td>Arecibo</td><td>O'Brien Men's Neoprene Life Vest</td><td>21</td><td>1049.5799980163574</td></tr><tr><td>Canovanas</td><td>Nike Men's Dri-FIT Victory Golf Polo</td><td>21</td><td>1050.0</td></tr><tr><td>Cordova</td><td>Nike Men's CJ Elite 2 TD Football Cleat</td><td>21</td><td>2729.7901153564453</td></tr><tr><td>Holland</td><td>Nike Men's Free 5.0+ Running Shoe</td><td>21</td><td>2099.7900161743164</td></tr><tr><td>Napa</td><td>Nike Men's CJ Elite 2 TD Football Cleat</td><td>21</td><td>2729.7901153564453</td></tr><tr><td>Oak Lawn</td><td>Nike Men's Free 5.0+ Running Shoe</td><td>21</td><td>2099.7900009155273</td></tr><tr><td>Sheboygan</td><td>Nike Men's Free 5.0+ Running Shoe</td><td>21</td><td>2099.790023803711</td></tr><tr><td>Asheboro</td><td>Perfect Fitness Perfect Rip Deck</td><td>21</td><td>1259.7900390625</td></tr><tr><td>Chillicothe</td><td>Nike Men's Free 5.0+ Running Shoe</td><td>21</td><td>2099.7899856567383</td></tr><tr><td>Douglasville</td><td>Nike Men's Dri-FIT Victory Golf Polo</td><td>21</td><td>1050.0</td></tr><tr><td>Glen Burnie</td><td>O'Brien Men's Neoprene Life Vest</td><td>21</td><td>1049.5799865722656</td></tr><tr><td>Huntington Station</td><td>Under Armour Girls' Toddler Spine Surge Runni</td><td>21</td><td>839.7900314331055</td></tr><tr><td>Lansdale</td><td>Nike Men's Dri-FIT Victory Golf Polo</td><td>21</td><td>1050.0</td></tr><tr><td>New Bedford</td><td>Nike Men's CJ Elite 2 TD Football Cleat</td><td>21</td><td>2729.7901153564453</td></tr><tr><td>Palmdale</td><td>O'Brien Men's Neoprene Life Vest</td><td>21</td><td>1049.579990386963</td></tr><tr><td>Pico Rivera</td><td>Nike Men's Free 5.0+ Running Shoe</td><td>21</td><td>2099.78995513916</td></tr><tr><td>Stamford</td><td>Under Armour Girls' Toddler Spine Surge Runni</td><td>21</td><td>839.7900123596191</td></tr><tr><td>Visalia</td><td>Nike Men's CJ Elite 2 TD Football Cleat</td><td>21</td><td>2729.7901153564453</td></tr><tr><td>Rialto</td><td>Perfect Fitness Perfect Rip Deck</td><td>21</td><td>1259.7900314331055</td></tr><tr><td>Baytown</td><td>Nike Men's Free 5.0+ Running Shoe</td><td>21</td><td>2099.7899856567383</td></tr><tr><td>Clarksville</td><td>Under Armour Girls' Toddler Spine Surge Runni</td><td>21</td><td>839.7900047302246</td></tr><tr><td>Germantown</td><td>O'Brien Men's Neoprene Life Vest</td><td>21</td><td>1049.5799942016602</td></tr><tr><td>Granada Hills</td><td>Nike Men's CJ Elite 2 TD Football Cleat</td><td>21</td><td>2729.7901153564453</td></tr><tr><td>Granite City</td><td>Nike Men's Free 5.0+ Running Shoe</td><td>21</td><td>2099.790023803711</td></tr><tr><td>Indio</td><td>O'Brien Men's Neoprene Life Vest</td><td>21</td><td>1049.5799865722656</td></tr><tr><td>Las Cruces</td><td>Nike Men's Free 5.0+ Running Shoe</td><td>21</td><td>2099.789970397949</td></tr><tr><td>Lawton</td><td>Nike Men's Free 5.0+ Running Shoe</td><td>21</td><td>2099.7900161743164</td></tr><tr><td>Norcross</td><td>O'Brien Men's Neoprene Life Vest</td><td>21</td><td>1049.579990386963</td></tr><tr><td>Pasadena</td><td>Under Armour Girls' Toddler Spine Surge Runni</td><td>21</td><td>839.7900123596191</td></tr><tr><td>Placentia</td><td>Under Armour Girls' Toddler Spine Surge Runni</td><td>21</td><td>839.7900161743164</td></tr><tr><td>Rancho Cordova</td><td>Nike Men's Free 5.0+ Running Shoe</td><td>21</td><td>2099.790008544922</td></tr><tr><td>Tracy</td><td>Perfect Fitness Perfect Rip Deck</td><td>21</td><td>1259.790023803711</td></tr><tr><td>Webster</td><td>Nike Men's CJ Elite 2 TD Football Cleat</td><td>21</td><td>2729.7901153564453</td></tr><tr><td>Webster</td><td>Nike Men's Free 5.0+ Running Shoe</td><td>21</td><td>2099.790008544922</td></tr><tr><td>Westland</td><td>Nike Men's Dri-FIT Victory Golf Polo</td><td>21</td><td>1050.0</td></tr><tr><td>Madison</td><td>Nike Men's Free 5.0+ Running Shoe</td><td>21</td><td>2099.790008544922</td></tr><tr><td>Littleton</td><td>Nike Men's Free 5.0+ Running Shoe</td><td>21</td><td>2099.7899627685547</td></tr><tr><td>Highland Park</td><td>Nike Men's Free 5.0+ Running Shoe</td><td>21</td><td>2099.7899856567383</td></tr><tr><td>Joliet</td><td>Nike Men's CJ Elite 2 TD Football Cleat</td><td>21</td><td>2729.7901153564453</td></tr><tr><td>Lewisville</td><td>Perfect Fitness Perfect Rip Deck</td><td>21</td><td>1259.7900428771973</td></tr><tr><td>O Fallon</td><td>Under Armour Girls' Toddler Spine Surge Runni</td><td>21</td><td>839.7900085449219</td></tr><tr><td>Pharr</td><td>Nike Men's CJ Elite 2 TD Football Cleat</td><td>21</td><td>2729.7901153564453</td></tr><tr><td>Rancho Cucamonga</td><td>O'Brien Men's Neoprene Life Vest</td><td>21</td><td>1049.5799942016602</td></tr><tr><td>West Haven</td><td>Perfect Fitness Perfect Rip Deck</td><td>21</td><td>1259.7900314331055</td></tr><tr><td>Winter Park</td><td>Nike Men's CJ Elite 2 TD Football Cleat</td><td>21</td><td>2729.7901153564453</td></tr><tr><td>Madera</td><td>Perfect Fitness Perfect Rip Deck</td><td>21</td><td>1259.7900352478027</td></tr><tr><td>Conway</td><td>O'Brien Men's Neoprene Life Vest</td><td>20</td><td>999.5999984741211</td></tr><tr><td>Cordova</td><td>Nike Men's Free 5.0+ Running Shoe</td><td>20</td><td>1999.7999877929688</td></tr><tr><td>Cypress</td><td>Under Armour Girls' Toddler Spine Surge Runni</td><td>20</td><td>799.8000259399414</td></tr><tr><td>Lynnwood</td><td>Nike Men's Free 5.0+ Running Shoe</td><td>20</td><td>1999.8000030517578</td></tr><tr><td>Potomac</td><td>Field & Stream Sportsman 16 Gun Fire Safe</td><td>20</td><td>7999.6002197265625</td></tr><tr><td>Des Plaines</td><td>O'Brien Men's Neoprene Life Vest</td><td>20</td><td>999.599983215332</td></tr><tr><td>Hanover</td><td>Under Armour Girls' Toddler Spine Surge Runni</td><td>20</td><td>799.8000183105469</td></tr><tr><td>Massillon</td><td>Nike Men's Dri-FIT Victory Golf Polo</td><td>20</td><td>1000.0</td></tr><tr><td>Metairie</td><td>Nike Men's CJ Elite 2 TD Football Cleat</td><td>20</td><td>2599.8001098632812</td></tr><tr><td>Roseville</td><td>O'Brien Men's Neoprene Life Vest</td><td>20</td><td>999.5999870300293</td></tr><tr><td>Poway</td><td>O'Brien Men's Neoprene Life Vest</td><td>20</td><td>999.599983215332</td></tr><tr><td>Edison</td><td>Nike Men's Dri-FIT Victory Golf Polo</td><td>20</td><td>1000.0</td></tr><tr><td>El Monte</td><td>Under Armour Girls' Toddler Spine Surge Runni</td><td>20</td><td>799.8000183105469</td></tr><tr><td>Harvey</td><td>Under Armour Girls' Toddler Spine Surge Runni</td><td>20</td><td>799.8000106811523</td></tr><tr><td>La Crosse</td><td>Nike Men's CJ Elite 2 TD Football Cleat</td><td>20</td><td>2599.8001098632812</td></tr><tr><td>Mcallen</td><td>Nike Men's Dri-FIT Victory Golf Polo</td><td>20</td><td>1000.0</td></tr><tr><td>Merced</td><td>O'Brien Men's Neoprene Life Vest</td><td>20</td><td>999.5999870300293</td></tr><tr><td>Montebello</td><td>Nike Men's Free 5.0+ Running Shoe</td><td>20</td><td>1999.7999801635742</td></tr><tr><td>North Hills</td><td>Nike Men's Free 5.0+ Running Shoe</td><td>20</td><td>1999.7999801635742</td></tr><tr><td>Saint Peters</td><td>Nike Men's Dri-FIT Victory Golf Polo</td><td>20</td><td>1000.0</td></tr><tr><td>Westland</td><td>Under Armour Girls' Toddler Spine Surge Runni</td><td>20</td><td>799.8000106811523</td></tr><tr><td>Rosemead</td><td>Nike Men's Free 5.0+ Running Shoe</td><td>20</td><td>1999.7999954223633</td></tr><tr><td>Asheboro</td><td>Nike Men's Free 5.0+ Running Shoe</td><td>20</td><td>1999.8000183105469</td></tr><tr><td>Findlay</td><td>Under Armour Girls' Toddler Spine Surge Runni</td><td>20</td><td>799.8000183105469</td></tr><tr><td>Goleta</td><td>Under Armour Girls' Toddler Spine Surge Runni</td><td>20</td><td>799.8000030517578</td></tr><tr><td>Irvington</td><td>O'Brien Men's Neoprene Life Vest</td><td>20</td><td>999.5999946594238</td></tr><tr><td>Lawrenceville</td><td>Under Armour Girls' Toddler Spine Surge Runni</td><td>20</td><td>799.8000221252441</td></tr><tr><td>Livermore</td><td>Field & Stream Sportsman 16 Gun Fire Safe</td><td>20</td><td>7999.6002197265625</td></tr><tr><td>Mcallen</td><td>O'Brien Men's Neoprene Life Vest</td><td>20</td><td>999.5999908447266</td></tr><tr><td>Meridian</td><td>Nike Men's CJ Elite 2 TD Football Cleat</td><td>20</td><td>2599.8001098632812</td></tr><tr><td>Mesquite</td><td>O'Brien Men's Neoprene Life Vest</td><td>20</td><td>999.5999870300293</td></tr><tr><td>Morrisville</td><td>Nike Men's Free 5.0+ Running Shoe</td><td>20</td><td>1999.8000030517578</td></tr><tr><td>Palatine</td><td>Nike Men's CJ Elite 2 TD Football Cleat</td><td>20</td><td>2599.8001098632812</td></tr><tr><td>Panorama City</td><td>Nike Men's Free 5.0+ Running Shoe</td><td>20</td><td>1999.7999725341797</td></tr><tr><td>Stockbridge</td><td>Nike Men's CJ Elite 2 TD Football Cleat</td><td>20</td><td>2599.8001098632812</td></tr><tr><td>Tulare</td><td>Under Armour Girls' Toddler Spine Surge Runni</td><td>20</td><td>799.8000144958496</td></tr><tr><td>Wheeling</td><td>Under Armour Girls' Toddler Spine Surge Runni</td><td>20</td><td>799.8000106811523</td></tr><tr><td>Ypsilanti</td><td>Nike Men's Free 5.0+ Running Shoe</td><td>20</td><td>1999.800033569336</td></tr><tr><td>West Jordan</td><td>Nike Men's CJ Elite 2 TD Football Cleat</td><td>20</td><td>2599.8001098632812</td></tr><tr><td>Charlotte</td><td>Nike Men's Dri-FIT Victory Golf Polo</td><td>20</td><td>1000.0</td></tr><tr><td>Alpharetta</td><td>Nike Men's CJ Elite 2 TD Football Cleat</td><td>20</td><td>2599.8001098632812</td></tr><tr><td>Aguadilla</td><td>O'Brien Men's Neoprene Life Vest</td><td>20</td><td>999.5999908447266</td></tr><tr><td>Grove City</td><td>O'Brien Men's Neoprene Life Vest</td><td>20</td><td>999.5999908447266</td></tr><tr><td>Jackson Heights</td><td>Nike Men's Dri-FIT Victory Golf Polo</td><td>20</td><td>1000.0</td></tr><tr><td>Lombard</td><td>Under Armour Girls' Toddler Spine Surge Runni</td><td>20</td><td>799.8000106811523</td></tr><tr><td>Metairie</td><td>Nike Men's Free 5.0+ Running Shoe</td><td>20</td><td>1999.7999877929688</td></tr><tr><td>Normal</td><td>Perfect Fitness Perfect Rip Deck</td><td>20</td><td>1199.800033569336</td></tr><tr><td>Pico Rivera</td><td>Nike Men's CJ Elite 2 TD Football Cleat</td><td>20</td><td>2599.8001098632812</td></tr><tr><td>West Haven</td><td>Nike Men's CJ Elite 2 TD Football Cleat</td><td>20</td><td>2599.8001098632812</td></tr><tr><td>Winter Park</td><td>O'Brien Men's Neoprene Life Vest</td><td>20</td><td>999.5999870300293</td></tr><tr><td>Yonkers</td><td>Nike Men's Free 5.0+ Running Shoe</td><td>20</td><td>1999.8000030517578</td></tr><tr><td>Allentown</td><td>Nike Men's Dri-FIT Victory Golf Polo</td><td>20</td><td>1000.0</td></tr><tr><td>Beloit</td><td>Nike Men's CJ Elite 2 TD Football Cleat</td><td>19</td><td>2469.810104370117</td></tr><tr><td>Beloit</td><td>Field & Stream Sportsman 16 Gun Fire Safe</td><td>19</td><td>7599.620208740234</td></tr><tr><td>Bowling Green</td><td>Nike Men's Free 5.0+ Running Shoe</td><td>19</td><td>1899.8100051879883</td></tr><tr><td>Carlsbad</td><td>Nike Men's CJ Elite 2 TD Football Cleat</td><td>19</td><td>2469.810104370117</td></tr><tr><td>Gilroy</td><td>Nike Men's CJ Elite 2 TD Football Cleat</td><td>19</td><td>2469.810104370117</td></tr><tr><td>Carol Stream</td><td>Nike Men's CJ Elite 2 TD Football Cleat</td><td>19</td><td>2469.810104370117</td></tr><tr><td>Hagerstown</td><td>Under Armour Girls' Toddler Spine Surge Runni</td><td>19</td><td>759.8100166320801</td></tr><tr><td>Morganton</td><td>Under Armour Girls' Toddler Spine Surge Runni</td><td>19</td><td>759.8100051879883</td></tr><tr><td>Santa Fe</td><td>Perfect Fitness Perfect Rip Deck</td><td>19</td><td>1139.8100357055664</td></tr><tr><td>Carol Stream</td><td>Field & Stream Sportsman 16 Gun Fire Safe</td><td>19</td><td>7599.620208740234</td></tr><tr><td>Clearfield</td><td>Field & Stream Sportsman 16 Gun Fire Safe</td><td>19</td><td>7599.620208740234</td></tr><tr><td>Hampton</td><td>Diamondback Women's Serene Classic Comfort Bi</td><td>19</td><td>5699.620208740234</td></tr><tr><td>Kent</td><td>Nike Men's CJ Elite 2 TD Football Cleat</td><td>19</td><td>2469.810104370117</td></tr><tr><td>Morristown</td><td>Nike Men's CJ Elite 2 TD Football Cleat</td><td>19</td><td>2469.810104370117</td></tr><tr><td>Oakland</td><td>Perfect Fitness Perfect Rip Deck</td><td>19</td><td>1139.8100280761719</td></tr><tr><td>South El Monte</td><td>Nike Men's Free 5.0+ Running Shoe</td><td>19</td><td>1899.8099899291992</td></tr><tr><td>Santee</td><td>O'Brien Men's Neoprene Life Vest</td><td>19</td><td>949.6199836730957</td></tr><tr><td>Chambersburg</td><td>Nike Men's Free 5.0+ Running Shoe</td><td>19</td><td>1899.8099899291992</td></tr><tr><td>Cupertino</td><td>Nike Men's Free 5.0+ Running Shoe</td><td>19</td><td>1899.8099975585938</td></tr><tr><td>Folsom</td><td>Nike Men's Dri-FIT Victory Golf Polo</td><td>19</td><td>950.0</td></tr><tr><td>Indianapolis</td><td>Nike Men's CJ Elite 2 TD Football Cleat</td><td>19</td><td>2469.810104370117</td></tr><tr><td>Ithaca</td><td>Nike Men's Dri-FIT Victory Golf Polo</td><td>19</td><td>950.0</td></tr><tr><td>La Puente</td><td>O'Brien Men's Neoprene Life Vest</td><td>19</td><td>949.6199951171875</td></tr><tr><td>Lithonia</td><td>O'Brien Men's Neoprene Life Vest</td><td>19</td><td>949.619987487793</td></tr><tr><td>New Castle</td><td>Nike Men's Dri-FIT Victory Golf Polo</td><td>19</td><td>950.0</td></tr><tr><td>Normal</td><td>Nike Men's Free 5.0+ Running Shoe</td><td>19</td><td>1899.8099822998047</td></tr><tr><td>Palo Alto</td><td>O'Brien Men's Neoprene Life Vest</td><td>19</td><td>949.6199913024902</td></tr><tr><td>Plainfield</td><td>Nike Men's CJ Elite 2 TD Football Cleat</td><td>19</td><td>2469.810104370117</td></tr><tr><td>Vacaville</td><td>Nike Men's Free 5.0+ Running Shoe</td><td>19</td><td>1899.8100280761719</td></tr><tr><td>West Haven</td><td>Nike Men's Dri-FIT Victory Golf Polo</td><td>19</td><td>950.0</td></tr><tr><td>Smyrna</td><td>O'Brien Men's Neoprene Life Vest</td><td>19</td><td>949.619987487793</td></tr><tr><td>Round Rock</td><td>Nike Men's Free 5.0+ Running Shoe</td><td>19</td><td>1899.8099899291992</td></tr><tr><td>Duluth</td><td>Under Armour Girls' Toddler Spine Surge Runni</td><td>19</td><td>759.8100204467773</td></tr><tr><td>Fond Du Lac</td><td>Nike Men's Free 5.0+ Running Shoe</td><td>19</td><td>1899.8099975585938</td></tr><tr><td>Fort Washington</td><td>Nike Men's Free 5.0+ Running Shoe</td><td>19</td><td>1899.8099822998047</td></tr><tr><td>Ithaca</td><td>Perfect Fitness Perfect Rip Deck</td><td>19</td><td>1139.8100280761719</td></tr><tr><td>Juana Diaz</td><td>Nike Men's Free 5.0+ Running Shoe</td><td>19</td><td>1899.8099899291992</td></tr><tr><td>Lawrence</td><td>Pelican Sunstream 100 Kayak</td><td>19</td><td>3799.810104370117</td></tr><tr><td>Lombard</td><td>Nike Men's CJ Elite 2 TD Football Cleat</td><td>19</td><td>2469.810104370117</td></tr><tr><td>Longview</td><td>O'Brien Men's Neoprene Life Vest</td><td>19</td><td>949.6199836730957</td></tr><tr><td>Norcross</td><td>Nike Men's CJ Elite 2 TD Football Cleat</td><td>19</td><td>2469.810104370117</td></tr><tr><td>North Bergen</td><td>Nike Men's Free 5.0+ Running Shoe</td><td>19</td><td>1899.8100051879883</td></tr><tr><td>North Hills</td><td>Nike Men's CJ Elite 2 TD Football Cleat</td><td>19</td><td>2469.810104370117</td></tr><tr><td>Panorama City</td><td>Field & Stream Sportsman 16 Gun Fire Safe</td><td>19</td><td>7599.620208740234</td></tr><tr><td>Potomac</td><td>Nike Men's Free 5.0+ Running Shoe</td><td>19</td><td>1899.8099975585938</td></tr><tr><td>Rego Park</td><td>Under Armour Girls' Toddler Spine Surge Runni</td><td>19</td><td>759.8100051879883</td></tr><tr><td>Vacaville</td><td>Nike Men's Dri-FIT Victory Golf Polo</td><td>19</td><td>950.0</td></tr><tr><td>Westerville</td><td>Nike Men's Free 5.0+ Running Shoe</td><td>19</td><td>1899.8100128173828</td></tr><tr><td>Yonkers</td><td>Field & Stream Sportsman 16 Gun Fire Safe</td><td>19</td><td>7599.620208740234</td></tr><tr><td>Valrico</td><td>Nike Men's CJ Elite 2 TD Football Cleat</td><td>19</td><td>2469.810104370117</td></tr><tr><td>Saginaw</td><td>Nike Men's Free 5.0+ Running Shoe</td><td>19</td><td>1899.8100128173828</td></tr><tr><td>Bayonne</td><td>Nike Men's Free 5.0+ Running Shoe</td><td>19</td><td>1899.8100051879883</td></tr><tr><td>Asheboro</td><td>O'Brien Men's Neoprene Life Vest</td><td>19</td><td>949.6199951171875</td></tr><tr><td>Elk Grove</td><td>Nike Men's Free 5.0+ Running Shoe</td><td>19</td><td>1899.8099822998047</td></tr><tr><td>Frankfort</td><td>Under Armour Girls' Toddler Spine Surge Runni</td><td>19</td><td>759.8100204467773</td></tr><tr><td>Kailua</td><td>Nike Men's Dri-FIT Victory Golf Polo</td><td>19</td><td>950.0</td></tr><tr><td>Lilburn</td><td>O'Brien Men's Neoprene Life Vest</td><td>19</td><td>949.6199951171875</td></tr><tr><td>Morganton</td><td>Nike Men's Free 5.0+ Running Shoe</td><td>19</td><td>1899.8100204467773</td></tr><tr><td>North Las Vegas</td><td>Field & Stream Sportsman 16 Gun Fire Safe</td><td>19</td><td>7599.620208740234</td></tr><tr><td>Paramount</td><td>Nike Men's Free 5.0+ Running Shoe</td><td>19</td><td>1899.8100051879883</td></tr><tr><td>Rosemead</td><td>Under Armour Girls' Toddler Spine Surge Runni</td><td>19</td><td>759.8100166320801</td></tr><tr><td>Wilkes Barre</td><td>Nike Men's Free 5.0+ Running Shoe</td><td>19</td><td>1899.8099899291992</td></tr><tr><td>Woodside</td><td>Perfect Fitness Perfect Rip Deck</td><td>19</td><td>1139.8100357055664</td></tr><tr><td>Astoria</td><td>O'Brien Men's Neoprene Life Vest</td><td>19</td><td>949.619987487793</td></tr><tr><td>Buena Park</td><td>Under Armour Girls' Toddler Spine Surge Runni</td><td>18</td><td>719.8199996948242</td></tr><tr><td>Chino Hills</td><td>O'Brien Men's Neoprene Life Vest</td><td>18</td><td>899.6399917602539</td></tr><tr><td>Guayama</td><td>Field & Stream Sportsman 16 Gun Fire Safe</td><td>18</td><td>7199.640197753906</td></tr><tr><td>Crown Point</td><td>Nike Men's CJ Elite 2 TD Football Cleat</td><td>18</td><td>2339.820098876953</td></tr><tr><td>Hacienda Heights</td><td>Under Armour Girls' Toddler Spine Surge Runni</td><td>18</td><td>719.8200035095215</td></tr><tr><td>Marrero</td><td>O'Brien Men's Neoprene Life Vest</td><td>18</td><td>899.6399917602539</td></tr><tr><td>Astoria</td><td>Nike Men's Dri-FIT Victory Golf Polo</td><td>18</td><td>900.0</td></tr><tr><td>Crystal Lake</td><td>Pelican Sunstream 100 Kayak</td><td>18</td><td>3599.820098876953</td></tr><tr><td>Edison</td><td>Under Armour Girls' Toddler Spine Surge Runni</td><td>18</td><td>719.820011138916</td></tr><tr><td>Hampton</td><td>Nike Men's CJ Elite 2 TD Football Cleat</td><td>18</td><td>2339.820098876953</td></tr><tr><td>Katy</td><td>Under Armour Girls' Toddler Spine Surge Runni</td><td>18</td><td>719.8200149536133</td></tr><tr><td>Mchenry</td><td>Nike Men's Free 5.0+ Running Shoe</td><td>18</td><td>1799.8199996948242</td></tr><tr><td>Pittsfield</td><td>O'Brien Men's Neoprene Life Vest</td><td>18</td><td>899.6399917602539</td></tr><tr><td>Scottsdale</td><td>Nike Men's CJ Elite 2 TD Football Cleat</td><td>18</td><td>2339.820098876953</td></tr><tr><td>Sandusky</td><td>Nike Men's Free 5.0+ Running Shoe</td><td>18</td><td>1799.8199920654297</td></tr><tr><td>Douglasville</td><td>Perfect Fitness Perfect Rip Deck</td><td>18</td><td>1079.820026397705</td></tr><tr><td>Elk Grove</td><td>Under Armour Girls' Toddler Spine Surge Runni</td><td>18</td><td>719.819995880127</td></tr><tr><td>Fountain Valley</td><td>Under Armour Girls' Toddler Spine Surge Runni</td><td>18</td><td>719.8200187683105</td></tr><tr><td>Harvey</td><td>Nike Men's Dri-FIT Victory Golf Polo</td><td>18</td><td>900.0</td></tr><tr><td>Hesperia</td><td>Under Armour Girls' Toddler Spine Surge Runni</td><td>18</td><td>719.8200035095215</td></tr><tr><td>La Crosse</td><td>Pelican Sunstream 100 Kayak</td><td>18</td><td>3599.820098876953</td></tr><tr><td>Lombard</td><td>O'Brien Men's Neoprene Life Vest</td><td>18</td><td>899.6399879455566</td></tr><tr><td>Mentor</td><td>Nike Men's Free 5.0+ Running Shoe</td><td>18</td><td>1799.8199920654297</td></tr><tr><td>Norwalk</td><td>Perfect Fitness Perfect Rip Deck</td><td>18</td><td>1079.820026397705</td></tr><tr><td>Plainfield</td><td>Nike Men's Free 5.0+ Running Shoe</td><td>18</td><td>1799.8200073242188</td></tr><tr><td>Rio Grande</td><td>Field & Stream Sportsman 16 Gun Fire Safe</td><td>18</td><td>7199.640197753906</td></tr><tr><td>Trujillo Alto</td><td>Nike Men's Free 5.0+ Running Shoe</td><td>18</td><td>1799.8199844360352</td></tr><tr><td>West New York</td><td>Under Armour Girls' Toddler Spine Surge Runni</td><td>18</td><td>719.820011138916</td></tr><tr><td>Santa Clara</td><td>Nike Men's CJ Elite 2 TD Football Cleat</td><td>18</td><td>2339.820098876953</td></tr><tr><td>Annapolis</td><td>O'Brien Men's Neoprene Life Vest</td><td>18</td><td>899.6400032043457</td></tr><tr><td>Ewa Beach</td><td>Nike Men's CJ Elite 2 TD Football Cleat</td><td>18</td><td>2339.820098876953</td></tr><tr><td>Glen Burnie</td><td>Under Armour Girls' Toddler Spine Surge Runni</td><td>18</td><td>719.8200263977051</td></tr><tr><td>Goose Creek</td><td>Nike Men's Free 5.0+ Running Shoe</td><td>18</td><td>1799.8200073242188</td></tr><tr><td>Jackson Heights</td><td>O'Brien Men's Neoprene Life Vest</td><td>18</td><td>899.6399841308594</td></tr><tr><td>Jackson Heights</td><td>Nike Men's Free 5.0+ Running Shoe</td><td>18</td><td>1799.8200073242188</td></tr><tr><td>La Crosse</td><td>Field & Stream Sportsman 16 Gun Fire Safe</td><td>18</td><td>7199.640197753906</td></tr><tr><td>Lutz</td><td>Nike Men's Free 5.0+ Running Shoe</td><td>18</td><td>1799.8200073242188</td></tr><tr><td>Madison</td><td>Nike Men's CJ Elite 2 TD Football Cleat</td><td>18</td><td>2339.820098876953</td></tr><tr><td>Mentor</td><td>O'Brien Men's Neoprene Life Vest</td><td>18</td><td>899.6399879455566</td></tr><tr><td>O Fallon</td><td>Perfect Fitness Perfect Rip Deck</td><td>18</td><td>1079.8200149536133</td></tr><tr><td>Passaic</td><td>Under Armour Girls' Toddler Spine Surge Runni</td><td>18</td><td>719.819995880127</td></tr><tr><td>Plymouth</td><td>Diamondback Women's Serene Classic Comfort Bi</td><td>18</td><td>5399.640197753906</td></tr><tr><td>Roseburg</td><td>Nike Men's Free 5.0+ Running Shoe</td><td>18</td><td>1799.8199920654297</td></tr><tr><td>San Ramon</td><td>Nike Men's CJ Elite 2 TD Football Cleat</td><td>18</td><td>2339.820098876953</td></tr><tr><td>Vacaville</td><td>Perfect Fitness Perfect Rip Deck</td><td>18</td><td>1079.8200340270996</td></tr><tr><td>Vega Baja</td><td>Under Armour Girls' Toddler Spine Surge Runni</td><td>18</td><td>719.820011138916</td></tr><tr><td>West Orange</td><td>Under Armour Girls' Toddler Spine Surge Runni</td><td>18</td><td>719.8200149536133</td></tr><tr><td>Yuma</td><td>O'Brien Men's Neoprene Life Vest</td><td>18</td><td>899.6399879455566</td></tr><tr><td>Scottsdale</td><td>Field & Stream Sportsman 16 Gun Fire Safe</td><td>18</td><td>7199.640197753906</td></tr><tr><td>Arlington Heights</td><td>O'Brien Men's Neoprene Life Vest</td><td>18</td><td>899.6399879455566</td></tr><tr><td>Allentown</td><td>Under Armour Girls' Toddler Spine Surge Runni</td><td>18</td><td>719.8200073242188</td></tr><tr><td>Fort Washington</td><td>Nike Men's Dri-FIT Victory Golf Polo</td><td>18</td><td>900.0</td></tr><tr><td>Grove City</td><td>Under Armour Girls' Toddler Spine Surge Runni</td><td>18</td><td>719.8200263977051</td></tr><tr><td>Juana Diaz</td><td>Nike Men's CJ Elite 2 TD Football Cleat</td><td>18</td><td>2339.820098876953</td></tr><tr><td>Lodi</td><td>Nike Men's Free 5.0+ Running Shoe</td><td>18</td><td>1799.8200073242188</td></tr><tr><td>Marrero</td><td>Nike Men's CJ Elite 2 TD Football Cleat</td><td>18</td><td>2339.820098876953</td></tr><tr><td>Pittsfield</td><td>Field & Stream Sportsman 16 Gun Fire Safe</td><td>18</td><td>7199.640197753906</td></tr><tr><td>Revere</td><td>O'Brien Men's Neoprene Life Vest</td><td>18</td><td>899.6399917602539</td></tr><tr><td>San Ramon</td><td>Under Armour Girls' Toddler Spine Surge Runni</td><td>18</td><td>719.8200073242188</td></tr><tr><td>Visalia</td><td>Nike Men's Free 5.0+ Running Shoe</td><td>18</td><td>1799.8200149536133</td></tr><tr><td>Williamsport</td><td>Under Armour Girls' Toddler Spine Surge Runni</td><td>18</td><td>719.8200035095215</td></tr><tr><td>Watsonville</td><td>O'Brien Men's Neoprene Life Vest</td><td>18</td><td>899.6399955749512</td></tr><tr><td>Alameda</td><td>Pelican Sunstream 100 Kayak</td><td>18</td><td>3599.820098876953</td></tr><tr><td>Bloomfield</td><td>Under Armour Girls' Toddler Spine Surge Runni</td><td>17</td><td>679.830005645752</td></tr><tr><td>Canyon Country</td><td>Nike Men's Free 5.0+ Running Shoe</td><td>17</td><td>1699.8300094604492</td></tr><tr><td>Cerritos</td><td>Nike Men's CJ Elite 2 TD Football Cleat</td><td>17</td><td>2209.830093383789</td></tr><tr><td>Gaithersburg</td><td>O'Brien Men's Neoprene Life Vest</td><td>17</td><td>849.6600074768066</td></tr><tr><td>Chapel Hill</td><td>Nike Men's CJ Elite 2 TD Football Cleat</td><td>17</td><td>2209.830093383789</td></tr><tr><td>Glen Burnie</td><td>Nike Men's Dri-FIT Victory Golf Polo</td><td>17</td><td>850.0</td></tr><tr><td>Mechanicsburg</td><td>Under Armour Girls' Toddler Spine Surge Runni</td><td>17</td><td>679.8300132751465</td></tr><tr><td>Sumner</td><td>O'Brien Men's Neoprene Life Vest</td><td>17</td><td>849.6599960327148</td></tr><tr><td>Chillicothe</td><td>O'Brien Men's Neoprene Life Vest</td><td>17</td><td>849.6599960327148</td></tr><tr><td>Crown Point</td><td>Nike Men's Free 5.0+ Running Shoe</td><td>17</td><td>1699.8300018310547</td></tr><tr><td>Glenview</td><td>Nike Men's Free 5.0+ Running Shoe</td><td>17</td><td>1699.8299865722656</td></tr><tr><td>Indianapolis</td><td>Pelican Sunstream 100 Kayak</td><td>17</td><td>3399.830093383789</td></tr><tr><td>Mechanicsburg</td><td>Nike Men's CJ Elite 2 TD Football Cleat</td><td>17</td><td>2209.830093383789</td></tr><tr><td>Saint Peters</td><td>O'Brien Men's Neoprene Life Vest</td><td>17</td><td>849.659984588623</td></tr><tr><td>Webster</td><td>Field & Stream Sportsman 16 Gun Fire Safe</td><td>17</td><td>6799.660186767578</td></tr><tr><td>Vacaville</td><td>Under Armour Girls' Toddler Spine Surge Runni</td><td>17</td><td>679.8300285339355</td></tr><tr><td>Chillicothe</td><td>Field & Stream Sportsman 16 Gun Fire Safe</td><td>17</td><td>6799.660186767578</td></tr><tr><td>Diamond Bar</td><td>Nike Men's CJ Elite 2 TD Football Cleat</td><td>17</td><td>2209.830093383789</td></tr><tr><td>El Monte</td><td>Nike Men's CJ Elite 2 TD Football Cleat</td><td>17</td><td>2209.830093383789</td></tr><tr><td>Hanford</td><td>Nike Men's Free 5.0+ Running Shoe</td><td>17</td><td>1699.8299865722656</td></tr><tr><td>Holland</td><td>Nike Men's CJ Elite 2 TD Football Cleat</td><td>17</td><td>2209.830093383789</td></tr><tr><td>Kaneohe</td><td>Pelican Sunstream 100 Kayak</td><td>17</td><td>3399.830093383789</td></tr><tr><td>Lynnwood</td><td>O'Brien Men's Neoprene Life Vest</td><td>17</td><td>849.6599960327148</td></tr><tr><td>Morganton</td><td>O'Brien Men's Neoprene Life Vest</td><td>17</td><td>849.6599922180176</td></tr><tr><td>Norwalk</td><td>Nike Men's Dri-FIT Victory Golf Polo</td><td>17</td><td>850.0</td></tr><tr><td>Saint Peters</td><td>Perfect Fitness Perfect Rip Deck</td><td>17</td><td>1019.8300247192383</td></tr><tr><td>Sanford</td><td>Nike Men's Free 5.0+ Running Shoe</td><td>17</td><td>1699.8299713134766</td></tr><tr><td>Westerville</td><td>Nike Men's CJ Elite 2 TD Football Cleat</td><td>17</td><td>2209.830093383789</td></tr><tr><td>Wilmington</td><td>Nike Men's Free 5.0+ Running Shoe</td><td>17</td><td>1699.8299713134766</td></tr><tr><td>Waukegan</td><td>Nike Men's CJ Elite 2 TD Football Cleat</td><td>17</td><td>2209.830093383789</td></tr><tr><td>Berwyn</td><td>Nike Men's Free 5.0+ Running Shoe</td><td>17</td><td>1699.8299865722656</td></tr><tr><td>Chillicothe</td><td>Under Armour Girls' Toddler Spine Surge Runni</td><td>17</td><td>679.830005645752</td></tr><tr><td>Douglasville</td><td>Nike Men's Free 5.0+ Running Shoe</td><td>17</td><td>1699.8300094604492</td></tr><tr><td>Enfield</td><td>Field & Stream Sportsman 16 Gun Fire Safe</td><td>17</td><td>6799.660186767578</td></tr><tr><td>Englewood</td><td>O'Brien Men's Neoprene Life Vest</td><td>17</td><td>849.6599960327148</td></tr><tr><td>Huntington Park</td><td>O'Brien Men's Neoprene Life Vest</td><td>17</td><td>849.6600036621094</td></tr><tr><td>Indianapolis</td><td>Under Armour Girls' Toddler Spine Surge Runni</td><td>17</td><td>679.8300132751465</td></tr><tr><td>Levittown</td><td>Under Armour Girls' Toddler Spine Surge Runni</td><td>17</td><td>679.8300094604492</td></tr><tr><td>Martinez</td><td>Nike Men's CJ Elite 2 TD Football Cleat</td><td>17</td><td>2209.830093383789</td></tr><tr><td>Mayaguez</td><td>Nike Men's Free 5.0+ Running Shoe</td><td>17</td><td>1699.8299942016602</td></tr><tr><td>Muskegon</td><td>Nike Men's Dri-FIT Victory Golf Polo</td><td>17</td><td>850.0</td></tr><tr><td>Paramount</td><td>Nike Men's CJ Elite 2 TD Football Cleat</td><td>17</td><td>2209.830093383789</td></tr><tr><td>Rancho Cordova</td><td>Under Armour Girls' Toddler Spine Surge Runni</td><td>17</td><td>679.8300132751465</td></tr><tr><td>San Pedro</td><td>Perfect Fitness Perfect Rip Deck</td><td>17</td><td>1019.8300285339355</td></tr><tr><td>Smyrna</td><td>Under Armour Girls' Toddler Spine Surge Runni</td><td>17</td><td>679.8300247192383</td></tr><tr><td>South San Francisco</td><td>Perfect Fitness Perfect Rip Deck</td><td>17</td><td>1019.8300285339355</td></tr><tr><td>Wheaton</td><td>Nike Men's Dri-FIT Victory Golf Polo</td><td>17</td><td>850.0</td></tr><tr><td>Woodside</td><td>Nike Men's Free 5.0+ Running Shoe</td><td>17</td><td>1699.8300247192383</td></tr><tr><td>Yuma</td><td>Nike Men's Free 5.0+ Running Shoe</td><td>17</td><td>1699.829978942871</td></tr><tr><td>Wayne</td><td>Nike Men's CJ Elite 2 TD Football Cleat</td><td>17</td><td>2209.830093383789</td></tr><tr><td>Berwyn</td><td>Nike Men's Dri-FIT Victory Golf Polo</td><td>17</td><td>850.0</td></tr><tr><td>Astoria</td><td>Nike Men's Free 5.0+ Running Shoe</td><td>17</td><td>1699.8299865722656</td></tr><tr><td>Eagle Pass</td><td>Nike Men's Free 5.0+ Running Shoe</td><td>17</td><td>1699.8300323486328</td></tr><tr><td>Federal Way</td><td>Nike Men's Free 5.0+ Running Shoe</td><td>17</td><td>1699.8300247192383</td></tr><tr><td>Indianapolis</td><td>Diamondback Women's Serene Classic Comfort Bi</td><td>17</td><td>5099.660186767578</td></tr><tr><td>Lombard</td><td>Perfect Fitness Perfect Rip Deck</td><td>17</td><td>1019.8300361633301</td></tr><tr><td>Mchenry</td><td>Nike Men's Dri-FIT Victory Golf Polo</td><td>17</td><td>850.0</td></tr><tr><td>Rio Grande</td><td>Nike Men's CJ Elite 2 TD Football Cleat</td><td>17</td><td>2209.830093383789</td></tr><tr><td>San Pedro</td><td>Nike Men's Dri-FIT Victory Golf Polo</td><td>17</td><td>850.0</td></tr><tr><td>Spokane</td><td>Nike Men's Free 5.0+ Running Shoe</td><td>17</td><td>1699.8300170898438</td></tr><tr><td>Wheaton</td><td>Nike Men's CJ Elite 2 TD Football Cleat</td><td>17</td><td>2209.830093383789</td></tr><tr><td>Woonsocket</td><td>Nike Men's Dri-FIT Victory Golf Polo</td><td>17</td><td>850.0</td></tr><tr><td>Wilmington</td><td>Perfect Fitness Perfect Rip Deck</td><td>17</td><td>1019.8300247192383</td></tr><tr><td>Alpharetta</td><td>Under Armour Girls' Toddler Spine Surge Runni</td><td>17</td><td>679.8300247192383</td></tr><tr><td>Canyon Country</td><td>Under Armour Girls' Toddler Spine Surge Runni</td><td>16</td><td>639.8400115966797</td></tr><tr><td>Chicago Heights</td><td>Nike Men's Dri-FIT Victory Golf Polo</td><td>16</td><td>800.0</td></tr><tr><td>Kaneohe</td><td>Nike Men's Free 5.0+ Running Shoe</td><td>16</td><td>1599.8399658203125</td></tr><tr><td>Chino</td><td>Field & Stream Sportsman 16 Gun Fire Safe</td><td>16</td><td>6399.68017578125</td></tr><tr><td>Lodi</td><td>Under Armour Girls' Toddler Spine Surge Runni</td><td>16</td><td>639.8400039672852</td></tr><tr><td>Pawtucket</td><td>Diamondback Women's Serene Classic Comfort Bi</td><td>16</td><td>4799.68017578125</td></tr><tr><td>Chino Hills</td><td>Nike Men's Free 5.0+ Running Shoe</td><td>16</td><td>1599.8399963378906</td></tr><tr><td>Douglasville</td><td>Under Armour Girls' Toddler Spine Surge Runni</td><td>16</td><td>639.8400115966797</td></tr><tr><td>Madera</td><td>O'Brien Men's Neoprene Life Vest</td><td>16</td><td>799.6799964904785</td></tr><tr><td>Muskegon</td><td>Under Armour Girls' Toddler Spine Surge Runni</td><td>16</td><td>639.8400039672852</td></tr><tr><td>Provo</td><td>Nike Men's Free 5.0+ Running Shoe</td><td>16</td><td>1599.839988708496</td></tr><tr><td>Spring</td><td>Perfect Fitness Perfect Rip Deck</td><td>16</td><td>959.8400268554688</td></tr><tr><td>Astoria</td><td>Under Armour Girls' Toddler Spine Surge Runni</td><td>16</td><td>639.840015411377</td></tr><tr><td>Decatur</td><td>Under Armour Girls' Toddler Spine Surge Runni</td><td>16</td><td>639.840015411377</td></tr><tr><td>Dundalk</td><td>Nike Men's Free 5.0+ Running Shoe</td><td>16</td><td>1599.8399658203125</td></tr><tr><td>Frankfort</td><td>Nike Men's CJ Elite 2 TD Football Cleat</td><td>16</td><td>2079.840087890625</td></tr><tr><td>Manchester</td><td>Under Armour Girls' Toddler Spine Surge Runni</td><td>16</td><td>639.8400230407715</td></tr><tr><td>Medina</td><td>Nike Men's Free 5.0+ Running Shoe</td><td>16</td><td>1599.8399963378906</td></tr><tr><td>Muskegon</td><td>Perfect Fitness Perfect Rip Deck</td><td>16</td><td>959.8400192260742</td></tr><tr><td>Norwalk</td><td>Nike Men's Free 5.0+ Running Shoe</td><td>16</td><td>1599.8400192260742</td></tr><tr><td>Rock Hill</td><td>Nike Men's Free 5.0+ Running Shoe</td><td>16</td><td>1599.8399963378906</td></tr><tr><td>Sandusky</td><td>Under Armour Girls' Toddler Spine Surge Runni</td><td>16</td><td>639.8400115966797</td></tr><tr><td>Taunton</td><td>O'Brien Men's Neoprene Life Vest</td><td>16</td><td>799.679988861084</td></tr><tr><td>Vacaville</td><td>O'Brien Men's Neoprene Life Vest</td><td>16</td><td>799.679988861084</td></tr><tr><td>Bay Shore</td><td>Under Armour Girls' Toddler Spine Surge Runni</td><td>16</td><td>639.8400115966797</td></tr><tr><td>Denton</td><td>Pelican Sunstream 100 Kayak</td><td>16</td><td>3199.840087890625</td></tr><tr><td>Folsom</td><td>Nike Men's CJ Elite 2 TD Football Cleat</td><td>16</td><td>2079.840087890625</td></tr><tr><td>Goleta</td><td>O'Brien Men's Neoprene Life Vest</td><td>16</td><td>799.6799964904785</td></tr><tr><td>Hawthorne</td><td>Nike Men's Free 5.0+ Running Shoe</td><td>16</td><td>1599.8400192260742</td></tr><tr><td>Milpitas</td><td>Nike Men's CJ Elite 2 TD Football Cleat</td><td>16</td><td>2079.840087890625</td></tr><tr><td>Montebello</td><td>Nike Men's CJ Elite 2 TD Football Cleat</td><td>16</td><td>2079.840087890625</td></tr><tr><td>Nashville</td><td>Under Armour Girls' Toddler Spine Surge Runni</td><td>16</td><td>639.8399925231934</td></tr><tr><td>O Fallon</td><td>Nike Men's CJ Elite 2 TD Football Cleat</td><td>16</td><td>2079.840087890625</td></tr><tr><td>Painesville</td><td>O'Brien Men's Neoprene Life Vest</td><td>16</td><td>799.680004119873</td></tr><tr><td>San Pedro</td><td>O'Brien Men's Neoprene Life Vest</td><td>16</td><td>799.6800003051758</td></tr><tr><td>Santa Maria</td><td>Nike Men's Dri-FIT Victory Golf Polo</td><td>16</td><td>800.0</td></tr><tr><td>Santa Maria</td><td>O'Brien Men's Neoprene Life Vest</td><td>16</td><td>799.6799964904785</td></tr><tr><td>Temecula</td><td>Nike Men's Free 5.0+ Running Shoe</td><td>16</td><td>1599.839988708496</td></tr><tr><td>Vallejo</td><td>Under Armour Girls' Toddler Spine Surge Runni</td><td>16</td><td>639.8400039672852</td></tr><tr><td>Waukegan</td><td>Under Armour Girls' Toddler Spine Surge Runni</td><td>16</td><td>639.840015411377</td></tr><tr><td>Winter Park</td><td>Field & Stream Sportsman 16 Gun Fire Safe</td><td>16</td><td>6399.68017578125</td></tr><tr><td>Bolingbrook</td><td>Nike Men's CJ Elite 2 TD Football Cleat</td><td>16</td><td>2079.840087890625</td></tr><tr><td>Fond Du Lac</td><td>Nike Men's CJ Elite 2 TD Football Cleat</td><td>16</td><td>2079.840087890625</td></tr><tr><td>Irvington</td><td>Under Armour Girls' Toddler Spine Surge Runni</td><td>16</td><td>639.8400115966797</td></tr><tr><td>Morganton</td><td>Perfect Fitness Perfect Rip Deck</td><td>16</td><td>959.8400230407715</td></tr><tr><td>National City</td><td>Nike Men's Free 5.0+ Running Shoe</td><td>16</td><td>1599.8400115966797</td></tr><tr><td>Pawtucket</td><td>Field & Stream Sportsman 16 Gun Fire Safe</td><td>16</td><td>6399.68017578125</td></tr><tr><td>South Gate</td><td>O'Brien Men's Neoprene Life Vest</td><td>16</td><td>799.6799926757812</td></tr><tr><td>Toa Baja</td><td>Nike Men's Dri-FIT Victory Golf Polo</td><td>16</td><td>800.0</td></tr><tr><td>Wheaton</td><td>O'Brien Men's Neoprene Life Vest</td><td>16</td><td>799.679988861084</td></tr><tr><td>Bowling Green</td><td>Field & Stream Sportsman 16 Gun Fire Safe</td><td>16</td><td>6399.68017578125</td></tr><tr><td>Alhambra</td><td>Nike Men's Free 5.0+ Running Shoe</td><td>16</td><td>1599.8399963378906</td></tr><tr><td>Charlotte</td><td>O'Brien Men's Neoprene Life Vest</td><td>15</td><td>749.6999893188477</td></tr><tr><td>Chillicothe</td><td>Nike Men's CJ Elite 2 TD Football Cleat</td><td>15</td><td>1949.850082397461</td></tr><tr><td>Garland</td><td>O'Brien Men's Neoprene Life Vest</td><td>15</td><td>749.6999855041504</td></tr><tr><td>Nashville</td><td>Perfect Fitness Perfect Rip Deck</td><td>15</td><td>899.8500213623047</td></tr><tr><td>Citrus Heights</td><td>Nike Men's Free 5.0+ Running Shoe</td><td>15</td><td>1499.8499908447266</td></tr><tr><td>Guaynabo</td><td>Nike Men's Free 5.0+ Running Shoe</td><td>15</td><td>1499.8500213623047</td></tr><tr><td>Jonesboro</td><td>Nike Men's CJ Elite 2 TD Football Cleat</td><td>15</td><td>1949.850082397461</td></tr><tr><td>North Tonawanda</td><td>Under Armour Girls' Toddler Spine Surge Runni</td><td>15</td><td>599.8500099182129</td></tr><tr><td>Peabody</td><td>Under Armour Girls' Toddler Spine Surge Runni</td><td>15</td><td>599.8500022888184</td></tr><tr><td>Bensalem</td><td>Nike Men's Dri-FIT Victory Golf Polo</td><td>15</td><td>750.0</td></tr><tr><td>Colton</td><td>Nike Men's Free 5.0+ Running Shoe</td><td>15</td><td>1499.8499908447266</td></tr><tr><td>Dubuque</td><td>O'Brien Men's Neoprene Life Vest</td><td>15</td><td>749.6999931335449</td></tr><tr><td>Gwynn Oak</td><td>Nike Men's Free 5.0+ Running Shoe</td><td>15</td><td>1499.8500061035156</td></tr><tr><td>Hacienda Heights</td><td>Perfect Fitness Perfect Rip Deck</td><td>15</td><td>899.8500213623047</td></tr><tr><td>Kenner</td><td>Perfect Fitness Perfect Rip Deck</td><td>15</td><td>899.850025177002</td></tr><tr><td>Lawton</td><td>Under Armour Girls' Toddler Spine Surge Runni</td><td>15</td><td>599.8500213623047</td></tr><tr><td>North Tonawanda</td><td>Nike Men's CJ Elite 2 TD Football Cleat</td><td>15</td><td>1949.850082397461</td></tr><tr><td>Palmdale</td><td>Nike Men's Free 5.0+ Running Shoe</td><td>15</td><td>1499.849998474121</td></tr><tr><td>Peabody</td><td>Nike Men's Dri-FIT Victory Golf Polo</td><td>15</td><td>750.0</td></tr><tr><td>Saginaw</td><td>Pelican Sunstream 100 Kayak</td><td>15</td><td>2999.850082397461</td></tr><tr><td>West Lafayette</td><td>Nike Men's Free 5.0+ Running Shoe</td><td>15</td><td>1499.8500061035156</td></tr><tr><td>Chambersburg</td><td>Under Armour Girls' Toddler Spine Surge Runni</td><td>15</td><td>599.8500213623047</td></tr><tr><td>Annandale</td><td>Nike Men's Free 5.0+ Running Shoe</td><td>15</td><td>1499.8500137329102</td></tr><tr><td>Des Plaines</td><td>Nike Men's Free 5.0+ Running Shoe</td><td>15</td><td>1499.8499755859375</td></tr><tr><td>El Centro</td><td>Field & Stream Sportsman 16 Gun Fire Safe</td><td>15</td><td>5999.700164794922</td></tr><tr><td>El Centro</td><td>Under Armour Girls' Toddler Spine Surge Runni</td><td>15</td><td>599.8500213623047</td></tr><tr><td>Hacienda Heights</td><td>Nike Men's Dri-FIT Victory Golf Polo</td><td>15</td><td>750.0</td></tr><tr><td>Hendersonville</td><td>Under Armour Girls' Toddler Spine Surge Runni</td><td>15</td><td>599.8500099182129</td></tr><tr><td>Hollister</td><td>O'Brien Men's Neoprene Life Vest</td><td>15</td><td>749.6999969482422</td></tr><tr><td>La Habra</td><td>Pelican Sunstream 100 Kayak</td><td>15</td><td>2999.850082397461</td></tr><tr><td>Lilburn</td><td>Under Armour Girls' Toddler Spine Surge Runni</td><td>15</td><td>599.8500022888184</td></tr><tr><td>Livermore</td><td>Nike Men's CJ Elite 2 TD Football Cleat</td><td>15</td><td>1949.850082397461</td></tr><tr><td>Palo Alto</td><td>Nike Men's Dri-FIT Victory Golf Polo</td><td>15</td><td>750.0</td></tr><tr><td>Parkville</td><td>Nike Men's Dri-FIT Victory Golf Polo</td><td>15</td><td>750.0</td></tr><tr><td>Perth Amboy</td><td>Nike Men's CJ Elite 2 TD Football Cleat</td><td>15</td><td>1949.850082397461</td></tr><tr><td>Sanford</td><td>Pelican Sunstream 100 Kayak</td><td>15</td><td>2999.850082397461</td></tr><tr><td>South San Francisco</td><td>Under Armour Girls' Toddler Spine Surge Runni</td><td>15</td><td>599.850025177002</td></tr><tr><td>Woonsocket</td><td>Nike Men's Free 5.0+ Running Shoe</td><td>15</td><td>1499.849967956543</td></tr><tr><td>Toa Baja</td><td>Nike Men's Free 5.0+ Running Shoe</td><td>15</td><td>1499.8499908447266</td></tr><tr><td>Marrero</td><td>Pelican Sunstream 100 Kayak</td><td>15</td><td>2999.850082397461</td></tr><tr><td>Annapolis</td><td>Nike Men's CJ Elite 2 TD Football Cleat</td><td>15</td><td>1949.850082397461</td></tr><tr><td>Annandale</td><td>Nike Men's CJ Elite 2 TD Football Cleat</td><td>15</td><td>1949.850082397461</td></tr><tr><td>Englewood</td><td>Under Armour Girls' Toddler Spine Surge Runni</td><td>15</td><td>599.8500099182129</td></tr><tr><td>Howell</td><td>Perfect Fitness Perfect Rip Deck</td><td>15</td><td>899.8500289916992</td></tr><tr><td>Laguna Hills</td><td>O'Brien Men's Neoprene Life Vest</td><td>15</td><td>749.6999931335449</td></tr><tr><td>Lynwood</td><td>Under Armour Girls' Toddler Spine Surge Runni</td><td>15</td><td>599.8500022888184</td></tr><tr><td>Passaic</td><td>Nike Men's Free 5.0+ Running Shoe</td><td>15</td><td>1499.849998474121</td></tr><tr><td>Roseburg</td><td>Nike Men's CJ Elite 2 TD Football Cleat</td><td>15</td><td>1949.850082397461</td></tr><tr><td>Sumner</td><td>Perfect Fitness Perfect Rip Deck</td><td>15</td><td>899.850025177002</td></tr><tr><td>Sylmar</td><td>Field & Stream Sportsman 16 Gun Fire Safe</td><td>15</td><td>5999.700164794922</td></tr><tr><td>Baldwin Park</td><td>Nike Men's Free 5.0+ Running Shoe</td><td>15</td><td>1499.849998474121</td></tr><tr><td>Azusa</td><td>Under Armour Girls' Toddler Spine Surge Runni</td><td>14</td><td>559.8600196838379</td></tr><tr><td>Bensalem</td><td>Under Armour Girls' Toddler Spine Surge Runni</td><td>14</td><td>559.8600120544434</td></tr><tr><td>Cayey</td><td>Nike Men's Dri-FIT Victory Golf Polo</td><td>14</td><td>700.0</td></tr><tr><td>Charlotte</td><td>Field & Stream Sportsman 16 Gun Fire Safe</td><td>14</td><td>5599.720153808594</td></tr><tr><td>Cincinnati</td><td>Under Armour Girls' Toddler Spine Surge Runni</td><td>14</td><td>559.8600158691406</td></tr><tr><td>Fountain Valley</td><td>Nike Men's Free 5.0+ Running Shoe</td><td>14</td><td>1399.859992980957</td></tr><tr><td>Citrus Heights</td><td>O'Brien Men's Neoprene Life Vest</td><td>14</td><td>699.7199935913086</td></tr><tr><td>Guaynabo</td><td>Diamondback Women's Serene Classic Comfort Bi</td><td>14</td><td>4199.720153808594</td></tr><tr><td>Longview</td><td>Nike Men's CJ Elite 2 TD Football Cleat</td><td>14</td><td>1819.8600769042969</td></tr><tr><td>Annandale</td><td>Diamondback Women's Serene Classic Comfort Bi</td><td>14</td><td>4199.720153808594</td></tr><tr><td>Crown Point</td><td>Under Armour Girls' Toddler Spine Surge Runni</td><td>14</td><td>559.8600158691406</td></tr><tr><td>Guaynabo</td><td>Nike Men's CJ Elite 2 TD Football Cleat</td><td>14</td><td>1819.8600769042969</td></tr><tr><td>Hendersonville</td><td>Diamondback Women's Serene Classic Comfort Bi</td><td>14</td><td>4199.720153808594</td></tr><tr><td>Morrisville</td><td>O'Brien Men's Neoprene Life Vest</td><td>14</td><td>699.7199935913086</td></tr><tr><td>Norwalk</td><td>O'Brien Men's Neoprene Life Vest</td><td>14</td><td>699.7199935913086</td></tr><tr><td>Scottsdale</td><td>Under Armour Girls' Toddler Spine Surge Runni</td><td>14</td><td>559.8600120544434</td></tr><tr><td>Azusa</td><td>Diamondback Women's Serene Classic Comfort Bi</td><td>14</td><td>4199.720153808594</td></tr><tr><td>Cypress</td><td>Nike Men's CJ Elite 2 TD Football Cleat</td><td>14</td><td>1819.8600769042969</td></tr><tr><td>Gwynn Oak</td><td>Perfect Fitness Perfect Rip Deck</td><td>14</td><td>839.8600234985352</td></tr><tr><td>Kenner</td><td>O'Brien Men's Neoprene Life Vest</td><td>14</td><td>699.7199974060059</td></tr><tr><td>Laguna Hills</td><td>Under Armour Girls' Toddler Spine Surge Runni</td><td>14</td><td>559.8599967956543</td></tr><tr><td>Muskegon</td><td>Field & Stream Sportsman 16 Gun Fire Safe</td><td>14</td><td>5599.720153808594</td></tr><tr><td>New Albany</td><td>Nike Men's CJ Elite 2 TD Football Cleat</td><td>14</td><td>1819.8600769042969</td></tr><tr><td>Oakland</td><td>Nike Men's Free 5.0+ Running Shoe</td><td>14</td><td>1399.859992980957</td></tr><tr><td>Peoria</td><td>Nike Men's Free 5.0+ Running Shoe</td><td>14</td><td>1399.8600006103516</td></tr><tr><td>Sheboygan</td><td>Field & Stream Sportsman 16 Gun Fire Safe</td><td>14</td><td>5599.720153808594</td></tr><tr><td>Stone Mountain</td><td>Pelican Sunstream 100 Kayak</td><td>14</td><td>2799.860076904297</td></tr><tr><td>Rio Rancho</td><td>Under Armour Girls' Toddler Spine Surge Runni</td><td>14</td><td>559.8600082397461</td></tr><tr><td>Elk Grove</td><td>Nike Men's CJ Elite 2 TD Football Cleat</td><td>14</td><td>1819.8600769042969</td></tr><tr><td>Des Plaines</td><td>Field & Stream Sportsman 16 Gun Fire Safe</td><td>14</td><td>5599.720153808594</td></tr><tr><td>Kenner</td><td>Nike Men's Free 5.0+ Running Shoe</td><td>14</td><td>1399.859992980957</td></tr><tr><td>Lawrenceville</td><td>Pelican Sunstream 100 Kayak</td><td>14</td><td>2799.860076904297</td></tr><tr><td>Levittown</td><td>Nike Men's CJ Elite 2 TD Football Cleat</td><td>14</td><td>1819.8600769042969</td></tr><tr><td>Nashville</td><td>Nike Men's Dri-FIT Victory Golf Polo</td><td>14</td><td>700.0</td></tr><tr><td>New Albany</td><td>Field & Stream Sportsman 16 Gun Fire Safe</td><td>14</td><td>5599.720153808594</td></tr><tr><td>New Braunfels</td><td>Nike Men's CJ Elite 2 TD Football Cleat</td><td>14</td><td>1819.8600769042969</td></tr><tr><td>Palo Alto</td><td>Under Armour Girls' Toddler Spine Surge Runni</td><td>14</td><td>559.8600006103516</td></tr><tr><td>Pico Rivera</td><td>O'Brien Men's Neoprene Life Vest</td><td>14</td><td>699.7199935913086</td></tr><tr><td>Redmond</td><td>Nike Men's CJ Elite 2 TD Football Cleat</td><td>14</td><td>1819.8600769042969</td></tr><tr><td>Toa Baja</td><td>Under Armour Girls' Toddler Spine Surge Runni</td><td>14</td><td>559.8600120544434</td></tr><tr><td>Toms River</td><td>Under Armour Girls' Toddler Spine Surge Runni</td><td>14</td><td>559.8600006103516</td></tr><tr><td>Roseville</td><td>Nike Men's CJ Elite 2 TD Football Cleat</td><td>14</td><td>1819.8600769042969</td></tr><tr><td>Federal Way</td><td>Pelican Sunstream 100 Kayak</td><td>14</td><td>2799.860076904297</td></tr><tr><td>Elk Grove</td><td>Field & Stream Sportsman 16 Gun Fire Safe</td><td>14</td><td>5599.720153808594</td></tr><tr><td>Dubuque</td><td>Nike Men's Dri-FIT Victory Golf Polo</td><td>14</td><td>700.0</td></tr><tr><td>Kenner</td><td>Nike Men's Dri-FIT Victory Golf Polo</td><td>14</td><td>700.0</td></tr><tr><td>Lilburn</td><td>Nike Men's Free 5.0+ Running Shoe</td><td>14</td><td>1399.859977722168</td></tr><tr><td>North Bergen</td><td>Nike Men's CJ Elite 2 TD Football Cleat</td><td>14</td><td>1819.8600769042969</td></tr><tr><td>Parkville</td><td>O'Brien Men's Neoprene Life Vest</td><td>14</td><td>699.7199974060059</td></tr><tr><td>Reseda</td><td>Under Armour Girls' Toddler Spine Surge Runni</td><td>14</td><td>559.8600120544434</td></tr><tr><td>Woodside</td><td>Nike Men's CJ Elite 2 TD Football Cleat</td><td>14</td><td>1819.8600769042969</td></tr><tr><td>Yauco</td><td>Under Armour Girls' Toddler Spine Surge Runni</td><td>14</td><td>559.8600158691406</td></tr><tr><td>Englewood</td><td>Nike Men's Free 5.0+ Running Shoe</td><td>14</td><td>1399.859992980957</td></tr><tr><td>Bristol</td><td>Field & Stream Sportsman 16 Gun Fire Safe</td><td>13</td><td>5199.740142822266</td></tr><tr><td>Canyon Country</td><td>Diamondback Women's Serene Classic Comfort Bi</td><td>13</td><td>3899.7401428222656</td></tr><tr><td>Ithaca</td><td>Under Armour Girls' Toddler Spine Surge Runni</td><td>13</td><td>519.8700065612793</td></tr><tr><td>Canyon Country</td><td>Nike Men's CJ Elite 2 TD Football Cleat</td><td>13</td><td>1689.8700714111328</td></tr><tr><td>Jackson Heights</td><td>Under Armour Girls' Toddler Spine Surge Runni</td><td>13</td><td>519.8700065612793</td></tr><tr><td>Placentia</td><td>Nike Men's Dri-FIT Victory Golf Polo</td><td>13</td><td>650.0</td></tr><tr><td>Carmichael</td><td>Field & Stream Sportsman 16 Gun Fire Safe</td><td>13</td><td>5199.740142822266</td></tr><tr><td>East Brunswick</td><td>Under Armour Girls' Toddler Spine Surge Runni</td><td>13</td><td>519.8700103759766</td></tr><tr><td>Lompoc</td><td>Nike Men's CJ Elite 2 TD Football Cleat</td><td>13</td><td>1689.8700714111328</td></tr><tr><td>National City</td><td>Perfect Fitness Perfect Rip Deck</td><td>13</td><td>779.8700180053711</td></tr><tr><td>Rancho Cucamonga</td><td>Under Armour Girls' Toddler Spine Surge Runni</td><td>13</td><td>519.8700103759766</td></tr><tr><td>Springfield</td><td>Field & Stream Sportsman 16 Gun Fire Safe</td><td>13</td><td>5199.740142822266</td></tr><tr><td>Blacksburg</td><td>Nike Men's CJ Elite 2 TD Football Cleat</td><td>13</td><td>1689.8700714111328</td></tr><tr><td>Carmichael</td><td>Nike Men's CJ Elite 2 TD Football Cleat</td><td>13</td><td>1689.8700714111328</td></tr><tr><td>Cicero</td><td>Nike Men's Free 5.0+ Running Shoe</td><td>13</td><td>1299.870018005371</td></tr><tr><td>Edison</td><td>Nike Men's Free 5.0+ Running Shoe</td><td>13</td><td>1299.8700256347656</td></tr><tr><td>Glenview</td><td>Diamondback Women's Serene Classic Comfort Bi</td><td>13</td><td>3899.7401428222656</td></tr><tr><td>Lynnwood</td><td>Nike Men's CJ Elite 2 TD Football Cleat</td><td>13</td><td>1689.8700714111328</td></tr><tr><td>New Castle</td><td>Under Armour Girls' Toddler Spine Surge Runni</td><td>13</td><td>519.8699989318848</td></tr><tr><td>Normal</td><td>Pelican Sunstream 100 Kayak</td><td>13</td><td>2599.870071411133</td></tr><tr><td>Reno</td><td>Nike Men's Dri-FIT Victory Golf Polo</td><td>13</td><td>650.0</td></tr><tr><td>Rialto</td><td>Under Armour Girls' Toddler Spine Surge Runni</td><td>13</td><td>519.8700218200684</td></tr><tr><td>Sun Valley</td><td>Nike Men's Free 5.0+ Running Shoe</td><td>13</td><td>1299.870018005371</td></tr><tr><td>Union</td><td>Under Armour Girls' Toddler Spine Surge Runni</td><td>13</td><td>519.870002746582</td></tr><tr><td>Westminster</td><td>Nike Men's Free 5.0+ Running Shoe</td><td>13</td><td>1299.870018005371</td></tr><tr><td>Brentwood</td><td>O'Brien Men's Neoprene Life Vest</td><td>13</td><td>649.7399940490723</td></tr><tr><td>Albany</td><td>Under Armour Girls' Toddler Spine Surge Runni</td><td>13</td><td>519.8700103759766</td></tr><tr><td>Chicago Heights</td><td>Nike Men's Free 5.0+ Running Shoe</td><td>13</td><td>1299.870002746582</td></tr><tr><td>Clovis</td><td>Nike Men's CJ Elite 2 TD Football Cleat</td><td>13</td><td>1689.8700714111328</td></tr><tr><td>Cupertino</td><td>Diamondback Women's Serene Classic Comfort Bi</td><td>13</td><td>3899.7401428222656</td></tr><tr><td>Everett</td><td>Nike Men's CJ Elite 2 TD Football Cleat</td><td>13</td><td>1689.8700714111328</td></tr><tr><td>Goleta</td><td>Nike Men's Free 5.0+ Running Shoe</td><td>13</td><td>1299.8699951171875</td></tr><tr><td>Grand Prairie</td><td>Nike Men's Free 5.0+ Running Shoe</td><td>13</td><td>1299.8700103759766</td></tr><tr><td>Marion</td><td>Nike Men's Free 5.0+ Running Shoe</td><td>13</td><td>1299.8699951171875</td></tr><tr><td>Martinez</td><td>O'Brien Men's Neoprene Life Vest</td><td>13</td><td>649.7400016784668</td></tr><tr><td>Norcross</td><td>Diamondback Women's Serene Classic Comfort Bi</td><td>13</td><td>3899.7401428222656</td></tr><tr><td>Oviedo</td><td>Perfect Fitness Perfect Rip Deck</td><td>13</td><td>779.8700180053711</td></tr><tr><td>Oviedo</td><td>Nike Men's Dri-FIT Victory Golf Polo</td><td>13</td><td>650.0</td></tr><tr><td>Revere</td><td>Nike Men's Free 5.0+ Running Shoe</td><td>13</td><td>1299.869987487793</td></tr><tr><td>Richardson</td><td>Pelican Sunstream 100 Kayak</td><td>13</td><td>2599.870071411133</td></tr><tr><td>Rosemead</td><td>Pelican Sunstream 100 Kayak</td><td>13</td><td>2599.870071411133</td></tr><tr><td>Sylmar</td><td>Nike Men's Free 5.0+ Running Shoe</td><td>13</td><td>1299.8700103759766</td></tr><tr><td>Upland</td><td>O'Brien Men's Neoprene Life Vest</td><td>13</td><td>649.7400016784668</td></tr><tr><td>Vacaville</td><td>Nike Men's CJ Elite 2 TD Football Cleat</td><td>13</td><td>1689.8700714111328</td></tr><tr><td>West Lafayette</td><td>Under Armour Girls' Toddler Spine Surge Runni</td><td>13</td><td>519.8700103759766</td></tr><tr><td>Hollister</td><td>Nike Men's CJ Elite 2 TD Football Cleat</td><td>13</td><td>1689.8700714111328</td></tr><tr><td>Allentown</td><td>Nike Men's Free 5.0+ Running Shoe</td><td>13</td><td>1299.8699951171875</td></tr><tr><td>East Brunswick</td><td>Nike Men's Free 5.0+ Running Shoe</td><td>13</td><td>1299.869987487793</td></tr><tr><td>Ewa Beach</td><td>Pelican Sunstream 100 Kayak</td><td>13</td><td>2599.870071411133</td></tr><tr><td>Henrico</td><td>Nike Men's Free 5.0+ Running Shoe</td><td>13</td><td>1299.8700256347656</td></tr><tr><td>Massapequa</td><td>Nike Men's Free 5.0+ Running Shoe</td><td>13</td><td>1299.869972229004</td></tr><tr><td>Normal</td><td>Under Armour Girls' Toddler Spine Surge Runni</td><td>13</td><td>519.8700103759766</td></tr><tr><td>Pacoima</td><td>Field & Stream Sportsman 16 Gun Fire Safe</td><td>13</td><td>5199.740142822266</td></tr><tr><td>San Pedro</td><td>Nike Men's CJ Elite 2 TD Football Cleat</td><td>13</td><td>1689.8700714111328</td></tr><tr><td>Tracy</td><td>Nike Men's Dri-FIT Victory Golf Polo</td><td>13</td><td>650.0</td></tr><tr><td>Vallejo</td><td>Nike Men's Free 5.0+ Running Shoe</td><td>13</td><td>1299.870002746582</td></tr><tr><td>Watsonville</td><td>Nike Men's CJ Elite 2 TD Football Cleat</td><td>13</td><td>1689.8700714111328</td></tr><tr><td>Bellingham</td><td>Under Armour Girls' Toddler Spine Surge Runni</td><td>13</td><td>519.8699951171875</td></tr><tr><td>Bountiful</td><td>Nike Men's CJ Elite 2 TD Football Cleat</td><td>12</td><td>1559.8800659179688</td></tr><tr><td>Brentwood</td><td>Under Armour Girls' Toddler Spine Surge Runni</td><td>12</td><td>479.88000869750977</td></tr><tr><td>Bristol</td><td>Pelican Sunstream 100 Kayak</td><td>12</td><td>2399.8800659179688</td></tr><tr><td>Canoga Park</td><td>Nike Men's CJ Elite 2 TD Football Cleat</td><td>12</td><td>1559.8800659179688</td></tr><tr><td>Hawthorne</td><td>Under Armour Girls' Toddler Spine Surge Runni</td><td>12</td><td>479.88002014160156</td></tr><tr><td>Rock Hill</td><td>Field & Stream Sportsman 16 Gun Fire Safe</td><td>12</td><td>4799.7601318359375</td></tr><tr><td>Clarksville</td><td>Nike Men's CJ Elite 2 TD Football Cleat</td><td>12</td><td>1559.8800659179688</td></tr><tr><td>Henrico</td><td>Nike Men's CJ Elite 2 TD Football Cleat</td><td>12</td><td>1559.8800659179688</td></tr><tr><td>Lynwood</td><td>Pelican Sunstream 100 Kayak</td><td>12</td><td>2399.8800659179688</td></tr><tr><td>Saint Peters</td><td>Nike Men's Free 5.0+ Running Shoe</td><td>12</td><td>1199.880012512207</td></tr><tr><td>Summerville</td><td>Nike Men's CJ Elite 2 TD Football Cleat</td><td>12</td><td>1559.8800659179688</td></tr><tr><td>Bartlett</td><td>Nike Men's Dri-FIT Victory Golf Polo</td><td>12</td><td>600.0</td></tr><tr><td>Dayton</td><td>Perfect Fitness Perfect Rip Deck</td><td>12</td><td>719.8800201416016</td></tr><tr><td>Howell</td><td>Nike Men's CJ Elite 2 TD Football Cleat</td><td>12</td><td>1559.8800659179688</td></tr><tr><td>Howell</td><td>Pelican Sunstream 100 Kayak</td><td>12</td><td>2399.8800659179688</td></tr><tr><td>Madera</td><td>Under Armour Girls' Toddler Spine Surge Runni</td><td>12</td><td>479.88000869750977</td></tr><tr><td>New Braunfels</td><td>Field & Stream Sportsman 16 Gun Fire Safe</td><td>12</td><td>4799.7601318359375</td></tr><tr><td>Smyrna</td><td>Nike Men's Free 5.0+ Running Shoe</td><td>12</td><td>1199.8799896240234</td></tr><tr><td>Sun Valley</td><td>O'Brien Men's Neoprene Life Vest</td><td>12</td><td>599.7599983215332</td></tr><tr><td>Toa Alta</td><td>Perfect Fitness Perfect Rip Deck</td><td>12</td><td>719.8800239562988</td></tr><tr><td>Wilmington</td><td>O'Brien Men's Neoprene Life Vest</td><td>12</td><td>599.7599906921387</td></tr><tr><td>Bellingham</td><td>Nike Men's Free 5.0+ Running Shoe</td><td>12</td><td>1199.8799896240234</td></tr><tr><td>Dubuque</td><td>Under Armour Girls' Toddler Spine Surge Runni</td><td>12</td><td>479.88002014160156</td></tr><tr><td>East Brunswick</td><td>Field & Stream Sportsman 16 Gun Fire Safe</td><td>12</td><td>4799.7601318359375</td></tr><tr><td>Howell</td><td>O'Brien Men's Neoprene Life Vest</td><td>12</td><td>599.7599945068359</td></tr><tr><td>Howell</td><td>Field & Stream Sportsman 16 Gun Fire Safe</td><td>12</td><td>4799.7601318359375</td></tr><tr><td>Huntington Park</td><td>Nike Men's CJ Elite 2 TD Football Cleat</td><td>12</td><td>1559.8800659179688</td></tr><tr><td>Mentor</td><td>Under Armour Girls' Toddler Spine Surge Runni</td><td>12</td><td>479.88000869750977</td></tr><tr><td>New Castle</td><td>Nike Men's Free 5.0+ Running Shoe</td><td>12</td><td>1199.879981994629</td></tr><tr><td>Normal</td><td>Nike Men's CJ Elite 2 TD Football Cleat</td><td>12</td><td>1559.8800659179688</td></tr><tr><td>Summerville</td><td>Field & Stream Sportsman 16 Gun Fire Safe</td><td>12</td><td>4799.7601318359375</td></tr><tr><td>Taylor</td><td>Under Armour Girls' Toddler Spine Surge Runni</td><td>12</td><td>479.88001251220703</td></tr><tr><td>Trujillo Alto</td><td>Field & Stream Sportsman 16 Gun Fire Safe</td><td>12</td><td>4799.7601318359375</td></tr><tr><td>Union</td><td>Diamondback Women's Serene Classic Comfort Bi</td><td>12</td><td>3599.7601318359375</td></tr><tr><td>Yuma</td><td>Nike Men's Dri-FIT Victory Golf Polo</td><td>12</td><td>600.0</td></tr><tr><td>Reno</td><td>Under Armour Girls' Toddler Spine Surge Runni</td><td>12</td><td>479.87999725341797</td></tr><tr><td>Painesville</td><td>Under Armour Girls' Toddler Spine Surge Runni</td><td>12</td><td>479.88000869750977</td></tr><tr><td>Allentown</td><td>O'Brien Men's Neoprene Life Vest</td><td>12</td><td>599.7599945068359</td></tr><tr><td>East Brunswick</td><td>Pelican Sunstream 100 Kayak</td><td>12</td><td>2399.8800659179688</td></tr><tr><td>Lindenhurst</td><td>Nike Men's Free 5.0+ Running Shoe</td><td>12</td><td>1199.879997253418</td></tr><tr><td>Merced</td><td>Nike Men's Free 5.0+ Running Shoe</td><td>12</td><td>1199.879981994629</td></tr><tr><td>North Bergen</td><td>Under Armour Girls' Toddler Spine Surge Runni</td><td>12</td><td>479.88002014160156</td></tr><tr><td>Summerville</td><td>Pelican Sunstream 100 Kayak</td><td>12</td><td>2399.8800659179688</td></tr><tr><td>Tinley Park</td><td>Nike Men's Free 5.0+ Running Shoe</td><td>12</td><td>1199.8799896240234</td></tr><tr><td>Westminster</td><td>Nike Men's Dri-FIT Victory Golf Polo</td><td>12</td><td>600.0</td></tr><tr><td>Pittsburg</td><td>Nike Men's CJ Elite 2 TD Football Cleat</td><td>12</td><td>1559.8800659179688</td></tr><tr><td>Arlington</td><td>Under Armour Girls' Toddler Spine Surge Runni</td><td>12</td><td>479.88000869750977</td></tr><tr><td>Bountiful</td><td>Pelican Sunstream 100 Kayak</td><td>11</td><td>2199.8900604248047</td></tr><tr><td>Brockton</td><td>Under Armour Girls' Toddler Spine Surge Runni</td><td>11</td><td>439.89000701904297</td></tr><tr><td>Grand Prairie</td><td>Under Armour Girls' Toddler Spine Surge Runni</td><td>11</td><td>439.89000701904297</td></tr><tr><td>Brockton</td><td>Pelican Sunstream 100 Kayak</td><td>11</td><td>2199.8900604248047</td></tr><tr><td>Grand Prairie</td><td>O'Brien Men's Neoprene Life Vest</td><td>11</td><td>549.7799949645996</td></tr><tr><td>Mentor</td><td>Nike Men's CJ Elite 2 TD Football Cleat</td><td>11</td><td>1429.8900604248047</td></tr><tr><td>Broomfield</td><td>Nike Men's Free 5.0+ Running Shoe</td><td>11</td><td>1099.8900146484375</td></tr><tr><td>Hempstead</td><td>Nike Men's Dri-FIT Victory Golf Polo</td><td>11</td><td>550.0</td></tr><tr><td>Knoxville</td><td>Pelican Sunstream 100 Kayak</td><td>11</td><td>2199.8900604248047</td></tr><tr><td>Michigan City</td><td>Nike Men's CJ Elite 2 TD Football Cleat</td><td>11</td><td>1429.8900604248047</td></tr><tr><td>Poway</td><td>Under Armour Girls' Toddler Spine Surge Runni</td><td>11</td><td>439.8900146484375</td></tr><tr><td>Victorville</td><td>Nike Men's CJ Elite 2 TD Football Cleat</td><td>11</td><td>1429.8900604248047</td></tr><tr><td>Canoga Park</td><td>Pelican Sunstream 100 Kayak</td><td>11</td><td>2199.8900604248047</td></tr><tr><td>Cicero</td><td>Nike Men's CJ Elite 2 TD Football Cleat</td><td>11</td><td>1429.8900604248047</td></tr><tr><td>Henrico</td><td>Under Armour Girls' Toddler Spine Surge Runni</td><td>11</td><td>439.89000701904297</td></tr><tr><td>Hollister</td><td>Under Armour Girls' Toddler Spine Surge Runni</td><td>11</td><td>439.89001083374023</td></tr><tr><td>Knoxville</td><td>Field & Stream Sportsman 16 Gun Fire Safe</td><td>11</td><td>4399.780120849609</td></tr><tr><td>Lynn</td><td>Under Armour Girls' Toddler Spine Surge Runni</td><td>11</td><td>439.8900032043457</td></tr><tr><td>Norwalk</td><td>Under Armour Girls' Toddler Spine Surge Runni</td><td>11</td><td>439.8900146484375</td></tr><tr><td>Parkville</td><td>Pelican Sunstream 100 Kayak</td><td>11</td><td>2199.8900604248047</td></tr><tr><td>Poway</td><td>Nike Men's CJ Elite 2 TD Football Cleat</td><td>11</td><td>1429.8900604248047</td></tr><tr><td>Saint Peters</td><td>Under Armour Girls' Toddler Spine Surge Runni</td><td>11</td><td>439.8900032043457</td></tr><tr><td>Williamsport</td><td>Field & Stream Sportsman 16 Gun Fire Safe</td><td>11</td><td>4399.780120849609</td></tr><tr><td>Bountiful</td><td>Nike Men's Free 5.0+ Running Shoe</td><td>11</td><td>1099.8899765014648</td></tr><tr><td>Bensalem</td><td>Field & Stream Sportsman 16 Gun Fire Safe</td><td>11</td><td>4399.780120849609</td></tr><tr><td>Cicero</td><td>O'Brien Men's Neoprene Life Vest</td><td>11</td><td>549.7799911499023</td></tr><tr><td>Conway</td><td>Nike Men's CJ Elite 2 TD Football Cleat</td><td>11</td><td>1429.8900604248047</td></tr><tr><td>Indio</td><td>Field & Stream Sportsman 16 Gun Fire Safe</td><td>11</td><td>4399.780120849609</td></tr><tr><td>Irvington</td><td>Nike Men's Free 5.0+ Running Shoe</td><td>11</td><td>1099.8899841308594</td></tr><tr><td>La Puente</td><td>Nike Men's Free 5.0+ Running Shoe</td><td>11</td><td>1099.8899993896484</td></tr><tr><td>Madera</td><td>Field & Stream Sportsman 16 Gun Fire Safe</td><td>11</td><td>4399.780120849609</td></tr><tr><td>Madera</td><td>Nike Men's Free 5.0+ Running Shoe</td><td>11</td><td>1099.8899841308594</td></tr><tr><td>Palmdale</td><td>Diamondback Women's Serene Classic Comfort Bi</td><td>11</td><td>3299.7801208496094</td></tr><tr><td>Parkville</td><td>Nike Men's Free 5.0+ Running Shoe</td><td>11</td><td>1099.8899841308594</td></tr><tr><td>Perth Amboy</td><td>Diamondback Women's Serene Classic Comfort Bi</td><td>11</td><td>3299.7801208496094</td></tr><tr><td>Rio Rancho</td><td>Nike Men's CJ Elite 2 TD Football Cleat</td><td>11</td><td>1429.8900604248047</td></tr><tr><td>South San Francisco</td><td>Nike Men's CJ Elite 2 TD Football Cleat</td><td>11</td><td>1429.8900604248047</td></tr><tr><td>Taylor</td><td>Diamondback Women's Serene Classic Comfort Bi</td><td>11</td><td>3299.7801208496094</td></tr><tr><td>Yuma</td><td>Diamondback Women's Serene Classic Comfort Bi</td><td>11</td><td>3299.7801208496094</td></tr><tr><td>Wilmington</td><td>Under Armour Girls' Toddler Spine Surge Runni</td><td>11</td><td>439.88999938964844</td></tr><tr><td>Tracy</td><td>O'Brien Men's Neoprene Life Vest</td><td>11</td><td>549.7799911499023</td></tr><tr><td>Bolingbrook</td><td>Nike Men's Free 5.0+ Running Shoe</td><td>11</td><td>1099.8899993896484</td></tr><tr><td>Billings</td><td>Pelican Sunstream 100 Kayak</td><td>11</td><td>2199.8900604248047</td></tr><tr><td>Doylestown</td><td>Field & Stream Sportsman 16 Gun Fire Safe</td><td>11</td><td>4399.780120849609</td></tr><tr><td>Ithaca</td><td>Nike Men's CJ Elite 2 TD Football Cleat</td><td>11</td><td>1429.8900604248047</td></tr><tr><td>Laguna Niguel</td><td>Diamondback Women's Serene Classic Comfort Bi</td><td>11</td><td>3299.7801208496094</td></tr><tr><td>Medford</td><td>Nike Men's Free 5.0+ Running Shoe</td><td>11</td><td>1099.8899841308594</td></tr><tr><td>Placentia</td><td>Nike Men's CJ Elite 2 TD Football Cleat</td><td>11</td><td>1429.8900604248047</td></tr><tr><td>Saint Peters</td><td>Field & Stream Sportsman 16 Gun Fire Safe</td><td>11</td><td>4399.780120849609</td></tr><tr><td>Toa Baja</td><td>O'Brien Men's Neoprene Life Vest</td><td>11</td><td>549.7799911499023</td></tr><tr><td>Yuma</td><td>Field & Stream Sportsman 16 Gun Fire Safe</td><td>11</td><td>4399.780120849609</td></tr><tr><td>Upland</td><td>Under Armour Girls' Toddler Spine Surge Runni</td><td>11</td><td>439.8899955749512</td></tr><tr><td>Billings</td><td>Nike Men's Free 5.0+ Running Shoe</td><td>11</td><td>1099.8899765014648</td></tr><tr><td>Arlington Heights</td><td>Under Armour Girls' Toddler Spine Surge Runni</td><td>10</td><td>399.90000915527344</td></tr><tr><td>Bartlett</td><td>Under Armour Girls' Toddler Spine Surge Runni</td><td>10</td><td>399.8999938964844</td></tr><tr><td>Cayey</td><td>Nike Men's Free 5.0+ Running Shoe</td><td>10</td><td>999.9000015258789</td></tr><tr><td>Brentwood</td><td>Nike Men's Free 5.0+ Running Shoe</td><td>10</td><td>999.9000091552734</td></tr><tr><td>Chambersburg</td><td>Nike Men's Dri-FIT Victory Golf Polo</td><td>10</td><td>500.0</td></tr><tr><td>Doylestown</td><td>Diamondback Women's Serene Classic Comfort Bi</td><td>10</td><td>2999.8001098632812</td></tr><tr><td>Malden</td><td>O'Brien Men's Neoprene Life Vest</td><td>10</td><td>499.7999954223633</td></tr><tr><td>Brockton</td><td>Nike Men's CJ Elite 2 TD Football Cleat</td><td>10</td><td>1299.9000549316406</td></tr><tr><td>Danbury</td><td>Field & Stream Sportsman 16 Gun Fire Safe</td><td>10</td><td>3999.8001098632812</td></tr><tr><td>Doylestown</td><td>Under Armour Girls' Toddler Spine Surge Runni</td><td>10</td><td>399.9000053405762</td></tr><tr><td>Harvey</td><td>Diamondback Women's Serene Classic Comfort Bi</td><td>10</td><td>2999.8001098632812</td></tr><tr><td>Marion</td><td>O'Brien Men's Neoprene Life Vest</td><td>10</td><td>499.79999923706055</td></tr><tr><td>Painesville</td><td>Nike Men's CJ Elite 2 TD Football Cleat</td><td>10</td><td>1299.9000549316406</td></tr><tr><td>Santa Fe</td><td>Pelican Sunstream 100 Kayak</td><td>10</td><td>1999.9000549316406</td></tr><tr><td>Brockton</td><td>Diamondback Women's Serene Classic Comfort Bi</td><td>10</td><td>2999.8001098632812</td></tr><tr><td>Doylestown</td><td>Nike Men's CJ Elite 2 TD Football Cleat</td><td>10</td><td>1299.9000549316406</td></tr><tr><td>Fargo</td><td>Field & Stream Sportsman 16 Gun Fire Safe</td><td>10</td><td>3999.8001098632812</td></tr><tr><td>Henderson</td><td>Under Armour Girls' Toddler Spine Surge Runni</td><td>10</td><td>399.9000129699707</td></tr><tr><td>Huntington Station</td><td>Field & Stream Sportsman 16 Gun Fire Safe</td><td>10</td><td>3999.8001098632812</td></tr><tr><td>Medford</td><td>Diamondback Women's Serene Classic Comfort Bi</td><td>10</td><td>2999.8001098632812</td></tr><tr><td>Medford</td><td>Under Armour Girls' Toddler Spine Surge Runni</td><td>10</td><td>399.9000053405762</td></tr><tr><td>Peoria</td><td>Field & Stream Sportsman 16 Gun Fire Safe</td><td>10</td><td>3999.8001098632812</td></tr><tr><td>Reseda</td><td>Pelican Sunstream 100 Kayak</td><td>10</td><td>1999.9000549316406</td></tr><tr><td>Spokane</td><td>O'Brien Men's Neoprene Life Vest</td><td>10</td><td>499.7999954223633</td></tr><tr><td>Stafford</td><td>Under Armour Girls' Toddler Spine Surge Runni</td><td>10</td><td>399.9000015258789</td></tr><tr><td>Upland</td><td>Nike Men's Free 5.0+ Running Shoe</td><td>10</td><td>999.9000015258789</td></tr><tr><td>Canovanas</td><td>Nike Men's Free 5.0+ Running Shoe</td><td>10</td><td>999.9000015258789</td></tr><tr><td>Edinburg</td><td>Nike Men's Dri-FIT Victory Golf Polo</td><td>10</td><td>500.0</td></tr><tr><td>Goleta</td><td>Nike Men's Dri-FIT Victory Golf Polo</td><td>10</td><td>500.0</td></tr><tr><td>Greensburg</td><td>Pelican Sunstream 100 Kayak</td><td>10</td><td>1999.9000549316406</td></tr><tr><td>Henderson</td><td>Field & Stream Sportsman 16 Gun Fire Safe</td><td>10</td><td>3999.8001098632812</td></tr><tr><td>Huntington Station</td><td>Pelican Sunstream 100 Kayak</td><td>10</td><td>1999.9000549316406</td></tr><tr><td>Indio</td><td>Under Armour Girls' Toddler Spine Surge Runni</td><td>10</td><td>399.90000915527344</td></tr><tr><td>Medford</td><td>Pelican Sunstream 100 Kayak</td><td>10</td><td>1999.9000549316406</td></tr><tr><td>Nashville</td><td>Nike Men's Free 5.0+ Running Shoe</td><td>10</td><td>999.9000091552734</td></tr><tr><td>Peoria</td><td>Nike Men's CJ Elite 2 TD Football Cleat</td><td>10</td><td>1299.9000549316406</td></tr><tr><td>Revere</td><td>Nike Men's CJ Elite 2 TD Football Cleat</td><td>10</td><td>1299.9000549316406</td></tr><tr><td>Rialto</td><td>Nike Men's Free 5.0+ Running Shoe</td><td>10</td><td>999.9000244140625</td></tr><tr><td>Spring</td><td>Titleist Pro V1x Golf Balls</td><td>10</td><td>479.90001678466797</td></tr><tr><td>Sun Valley</td><td>Nike Men's CJ Elite 2 TD Football Cleat</td><td>10</td><td>1299.9000549316406</td></tr><tr><td>Taunton</td><td>Perfect Fitness Perfect Rip Deck</td><td>10</td><td>599.900016784668</td></tr><tr><td>Vallejo</td><td>Nike Men's CJ Elite 2 TD Football Cleat</td><td>10</td><td>1299.9000549316406</td></tr><tr><td>Temecula</td><td>Nike Men's Dri-FIT Victory Golf Polo</td><td>10</td><td>500.0</td></tr><tr><td>Lodi</td><td>Nike Men's Dri-FIT Victory Golf Polo</td><td>10</td><td>500.0</td></tr><tr><td>Hacienda Heights</td><td>Field & Stream Sportsman 16 Gun Fire Safe</td><td>10</td><td>3999.8001098632812</td></tr><tr><td>Howell</td><td>Nike Men's Free 5.0+ Running Shoe</td><td>10</td><td>999.9000015258789</td></tr><tr><td>Lodi</td><td>O'Brien Men's Neoprene Life Vest</td><td>10</td><td>499.7999954223633</td></tr><tr><td>Normal</td><td>Nike Men's Dri-FIT Victory Golf Polo</td><td>10</td><td>500.0</td></tr><tr><td>Pittsburg</td><td>O'Brien Men's Neoprene Life Vest</td><td>10</td><td>499.7999954223633</td></tr><tr><td>Saint Peters</td><td>Diamondback Women's Serene Classic Comfort Bi</td><td>10</td><td>2999.8001098632812</td></tr><tr><td>Taunton</td><td>Nike Men's Dri-FIT Victory Golf Polo</td><td>10</td><td>500.0</td></tr><tr><td>West Lafayette</td><td>Field & Stream Sportsman 16 Gun Fire Safe</td><td>10</td><td>3999.8001098632812</td></tr><tr><td>Santa Fe</td><td>Nike Men's Free 5.0+ Running Shoe</td><td>10</td><td>999.8999862670898</td></tr><tr><td>Bloomfield</td><td>Diamondback Women's Serene Classic Comfort Bi</td><td>9</td><td>2699.820098876953</td></tr><tr><td>Brentwood</td><td>Nike Men's Dri-FIT Victory Golf Polo</td><td>9</td><td>450.0</td></tr><tr><td>Buena Park</td><td>Field & Stream Sportsman 16 Gun Fire Safe</td><td>9</td><td>3599.820098876953</td></tr><tr><td>Hacienda Heights</td><td>Diamondback Women's Serene Classic Comfort Bi</td><td>9</td><td>2699.820098876953</td></tr><tr><td>Bolingbrook</td><td>O'Brien Men's Neoprene Life Vest</td><td>9</td><td>449.8199920654297</td></tr><tr><td>Chicago Heights</td><td>Field & Stream Sportsman 16 Gun Fire Safe</td><td>9</td><td>3599.820098876953</td></tr><tr><td>Conway</td><td>Under Armour Girls' Toddler Spine Surge Runni</td><td>9</td><td>359.9100036621094</td></tr><tr><td>Hempstead</td><td>Nike Men's CJ Elite 2 TD Football Cleat</td><td>9</td><td>1169.9100494384766</td></tr><tr><td>Lynn</td><td>Pelican Sunstream 100 Kayak</td><td>9</td><td>1799.9100494384766</td></tr><tr><td>Poway</td><td>Nike Men's Dri-FIT Victory Golf Polo</td><td>9</td><td>450.0</td></tr><tr><td>Pacoima</td><td>Under Armour Girls' Toddler Spine Surge Runni</td><td>9</td><td>359.9100112915039</td></tr><tr><td>Citrus Heights</td><td>Pelican Sunstream 100 Kayak</td><td>9</td><td>1799.9100494384766</td></tr><tr><td>Dayton</td><td>Nike Men's CJ Elite 2 TD Football Cleat</td><td>9</td><td>1169.9100494384766</td></tr><tr><td>Edinburg</td><td>Under Armour Girls' Toddler Spine Surge Runni</td><td>9</td><td>359.9100036621094</td></tr><tr><td>Henrico</td><td>Pelican Sunstream 100 Kayak</td><td>9</td><td>1799.9100494384766</td></tr><tr><td>Kenner</td><td>Field & Stream Sportsman 16 Gun Fire Safe</td><td>9</td><td>3599.820098876953</td></tr><tr><td>Malden</td><td>Perfect Fitness Perfect Rip Deck</td><td>9</td><td>539.9100112915039</td></tr><tr><td>Medina</td><td>Nike Men's CJ Elite 2 TD Football Cleat</td><td>9</td><td>1169.9100494384766</td></tr><tr><td>Reno</td><td>Nike Men's Free 5.0+ Running Shoe</td><td>9</td><td>899.9100036621094</td></tr><tr><td>Santee</td><td>Field & Stream Sportsman 16 Gun Fire Safe</td><td>9</td><td>3599.820098876953</td></tr><tr><td>Spring</td><td>Under Armour Girls' Toddler Spine Surge Runni</td><td>9</td><td>359.9100112915039</td></tr><tr><td>Pacoima</td><td>Nike Men's CJ Elite 2 TD Football Cleat</td><td>9</td><td>1169.9100494384766</td></tr><tr><td>Bolingbrook</td><td>Pelican Sunstream 100 Kayak</td><td>9</td><td>1799.9100494384766</td></tr><tr><td>Citrus Heights</td><td>Under Armour Girls' Toddler Spine Surge Runni</td><td>9</td><td>359.9100151062012</td></tr><tr><td>Dubuque</td><td>Nike Men's CJ Elite 2 TD Football Cleat</td><td>9</td><td>1169.9100494384766</td></tr><tr><td>Forest Hills</td><td>Under Armour Girls' Toddler Spine Surge Runni</td><td>9</td><td>359.9100112915039</td></tr><tr><td>Forest Hills</td><td>Nike Men's CJ Elite 2 TD Football Cleat</td><td>9</td><td>1169.9100494384766</td></tr><tr><td>Howell</td><td>Under Armour Girls' Toddler Spine Surge Runni</td><td>9</td><td>359.9100036621094</td></tr><tr><td>Lewisville</td><td>Nike Men's CJ Elite 2 TD Football Cleat</td><td>9</td><td>1169.9100494384766</td></tr><tr><td>Lithonia</td><td>Nike Men's CJ Elite 2 TD Football Cleat</td><td>9</td><td>1169.9100494384766</td></tr><tr><td>Medina</td><td>Pelican Sunstream 100 Kayak</td><td>9</td><td>1799.9100494384766</td></tr><tr><td>Merced</td><td>Diamondback Women's Serene Classic Comfort Bi</td><td>9</td><td>2699.820098876953</td></tr><tr><td>Oakland</td><td>Nike Men's CJ Elite 2 TD Football Cleat</td><td>9</td><td>1169.9100494384766</td></tr><tr><td>South Gate</td><td>Pelican Sunstream 100 Kayak</td><td>9</td><td>1799.9100494384766</td></tr><tr><td>South Gate</td><td>Nike Men's Free 5.0+ Running Shoe</td><td>9</td><td>899.9100112915039</td></tr><tr><td>Spring</td><td>Glove It Women's Mod Oval 3-Zip Carry All Gol</td><td>9</td><td>197.90999603271484</td></tr><tr><td>Victorville</td><td>Field & Stream Sportsman 16 Gun Fire Safe</td><td>9</td><td>3599.820098876953</td></tr><tr><td>Spokane</td><td>Perfect Fitness Perfect Rip Deck</td><td>9</td><td>539.9100112915039</td></tr><tr><td>Bolingbrook</td><td>Field & Stream Sportsman 16 Gun Fire Safe</td><td>9</td><td>3599.820098876953</td></tr><tr><td>Berwyn</td><td>Under Armour Girls' Toddler Spine Surge Runni</td><td>9</td><td>359.9100112915039</td></tr><tr><td>Aguadilla</td><td>Field & Stream Sportsman 16 Gun Fire Safe</td><td>9</td><td>3599.820098876953</td></tr><tr><td>Dubuque</td><td>Field & Stream Sportsman 16 Gun Fire Safe</td><td>9</td><td>3599.820098876953</td></tr><tr><td>Gwynn Oak</td><td>Nike Men's Dri-FIT Victory Golf Polo</td><td>9</td><td>450.0</td></tr><tr><td>Lynn</td><td>Nike Men's CJ Elite 2 TD Football Cleat</td><td>9</td><td>1169.9100494384766</td></tr><tr><td>Medina</td><td>Under Armour Girls' Toddler Spine Surge Runni</td><td>9</td><td>359.9100112915039</td></tr><tr><td>Pacoima</td><td>Diamondback Women's Serene Classic Comfort Bi</td><td>9</td><td>2699.820098876953</td></tr><tr><td>South Gate</td><td>Nike Men's CJ Elite 2 TD Football Cleat</td><td>9</td><td>1169.9100494384766</td></tr><tr><td>Taylor</td><td>O'Brien Men's Neoprene Life Vest</td><td>9</td><td>449.8200035095215</td></tr><tr><td>Tinley Park</td><td>Nike Men's CJ Elite 2 TD Football Cleat</td><td>9</td><td>1169.9100494384766</td></tr><tr><td>Bay Shore</td><td>Nike Men's Free 5.0+ Running Shoe</td><td>9</td><td>899.9100036621094</td></tr><tr><td>Cayey</td><td>Field & Stream Sportsman 16 Gun Fire Safe</td><td>8</td><td>3199.840087890625</td></tr><tr><td>Colton</td><td>Nike Men's CJ Elite 2 TD Football Cleat</td><td>8</td><td>1039.9200439453125</td></tr><tr><td>Freehold</td><td>Nike Men's Dri-FIT Victory Golf Polo</td><td>8</td><td>400.0</td></tr><tr><td>Marion</td><td>Under Armour Girls' Toddler Spine Surge Runni</td><td>8</td><td>319.9200134277344</td></tr><tr><td>Gaithersburg</td><td>Under Armour Girls' Toddler Spine Surge Runni</td><td>8</td><td>319.9200019836426</td></tr><tr><td>Greensburg</td><td>Under Armour Girls' Toddler Spine Surge Runni</td><td>8</td><td>319.9200134277344</td></tr><tr><td>Mcallen</td><td>Nike Men's Free 5.0+ Running Shoe</td><td>8</td><td>799.9199829101562</td></tr><tr><td>Peabody</td><td>Field & Stream Sportsman 16 Gun Fire Safe</td><td>8</td><td>3199.840087890625</td></tr><tr><td>Birmingham</td><td>Under Armour Girls' Toddler Spine Surge Runni</td><td>8</td><td>319.9200019836426</td></tr><tr><td>Glen Burnie</td><td>Nike Men's CJ Elite 2 TD Football Cleat</td><td>8</td><td>1039.9200439453125</td></tr><tr><td>Henderson</td><td>Nike Men's CJ Elite 2 TD Football Cleat</td><td>8</td><td>1039.9200439453125</td></tr><tr><td>Juana Diaz</td><td>Diamondback Women's Serene Classic Comfort Bi</td><td>8</td><td>2399.840087890625</td></tr><tr><td>Mentor</td><td>Diamondback Women's Serene Classic Comfort Bi</td><td>8</td><td>2399.840087890625</td></tr><tr><td>Ponce</td><td>Nike Men's Dri-FIT Victory Golf Polo</td><td>8</td><td>400.0</td></tr><tr><td>San Pedro</td><td>Under Armour Girls' Toddler Spine Surge Runni</td><td>8</td><td>319.9200019836426</td></tr><tr><td>Temecula</td><td>Nike Men's CJ Elite 2 TD Football Cleat</td><td>8</td><td>1039.9200439453125</td></tr><tr><td>Birmingham</td><td>Nike Men's Free 5.0+ Running Shoe</td><td>8</td><td>799.9199981689453</td></tr><tr><td>Jackson Heights</td><td>Nike Men's CJ Elite 2 TD Football Cleat</td><td>8</td><td>1039.9200439453125</td></tr><tr><td>Kailua</td><td>Field & Stream Sportsman 16 Gun Fire Safe</td><td>8</td><td>3199.840087890625</td></tr><tr><td>Lithonia</td><td>Pelican Sunstream 100 Kayak</td><td>8</td><td>1599.9200439453125</td></tr><tr><td>National City</td><td>Nike Men's Dri-FIT Victory Golf Polo</td><td>8</td><td>400.0</td></tr><tr><td>Palo Alto</td><td>Perfect Fitness Perfect Rip Deck</td><td>8</td><td>479.9200134277344</td></tr><tr><td>Ponce</td><td>Perfect Fitness Perfect Rip Deck</td><td>8</td><td>479.9200134277344</td></tr><tr><td>Santee</td><td>Nike Men's CJ Elite 2 TD Football Cleat</td><td>8</td><td>1039.9200439453125</td></tr><tr><td>Taunton</td><td>Nike Men's Free 5.0+ Running Shoe</td><td>8</td><td>799.9199829101562</td></tr><tr><td>Tracy</td><td>Field & Stream Sportsman 16 Gun Fire Safe</td><td>8</td><td>3199.840087890625</td></tr><tr><td>Marion</td><td>Nike Men's Dri-FIT Victory Golf Polo</td><td>8</td><td>400.0</td></tr><tr><td>Canovanas</td><td>O'Brien Men's Neoprene Life Vest</td><td>8</td><td>399.8399963378906</td></tr><tr><td>Asheboro</td><td>Field & Stream Sportsman 16 Gun Fire Safe</td><td>8</td><td>3199.840087890625</td></tr><tr><td>Juana Diaz</td><td>Team Golf San Francisco Giants Putter Grip</td><td>8</td><td>199.9199981689453</td></tr><tr><td>Lithonia</td><td>Nike Men's Free 5.0+ Running Shoe</td><td>8</td><td>799.9199981689453</td></tr><tr><td>Parkville</td><td>Nike Men's CJ Elite 2 TD Football Cleat</td><td>8</td><td>1039.9200439453125</td></tr><tr><td>San Pedro</td><td>Diamondback Women's Serene Classic Comfort Bi</td><td>8</td><td>2399.840087890625</td></tr><tr><td>Temecula</td><td>Pelican Sunstream 100 Kayak</td><td>8</td><td>1599.9200439453125</td></tr><tr><td>Lompoc</td><td>Field & Stream Sportsman 16 Gun Fire Safe</td><td>8</td><td>3199.840087890625</td></tr><tr><td>Bellingham</td><td>Perfect Fitness Perfect Rip Deck</td><td>8</td><td>479.9200096130371</td></tr><tr><td>Berwyn</td><td>Nike Men's CJ Elite 2 TD Football Cleat</td><td>7</td><td>909.9300384521484</td></tr><tr><td>Blacksburg</td><td>Bag Boy M330 Push Cart</td><td>7</td><td>559.9299926757812</td></tr><tr><td>Broomfield</td><td>Nike Men's CJ Elite 2 TD Football Cleat</td><td>7</td><td>909.9300384521484</td></tr><tr><td>Freehold</td><td>Perfect Fitness Perfect Rip Deck</td><td>7</td><td>419.93001556396484</td></tr><tr><td>Buena Park</td><td>Pelican Sunstream 100 Kayak</td><td>7</td><td>1399.9300384521484</td></tr><tr><td>Gaithersburg</td><td>Nike Men's CJ Elite 2 TD Football Cleat</td><td>7</td><td>909.9300384521484</td></tr><tr><td>Morganton</td><td>Pelican Sunstream 100 Kayak</td><td>7</td><td>1399.9300384521484</td></tr><tr><td>Buena Park</td><td>Nike Men's Free 5.0+ Running Shoe</td><td>7</td><td>699.9299926757812</td></tr><tr><td>Gaithersburg</td><td>Pelican Sunstream 100 Kayak</td><td>7</td><td>1399.9300384521484</td></tr><tr><td>La Puente</td><td>Field & Stream Sportsman 16 Gun Fire Safe</td><td>7</td><td>2799.860076904297</td></tr><tr><td>Morganton</td><td>Field & Stream Sportsman 16 Gun Fire Safe</td><td>7</td><td>2799.860076904297</td></tr><tr><td>Poway</td><td>LIJA Women's Eyelet Sleeveless Golf Polo</td><td>7</td><td>455.0</td></tr><tr><td>South Gate</td><td>Diamondback Women's Serene Classic Comfort Bi</td><td>7</td><td>2099.860076904297</td></tr><tr><td>Canovanas</td><td>Under Armour Girls' Toddler Spine Surge Runni</td><td>7</td><td>279.9300079345703</td></tr><tr><td>Chicago Heights</td><td>Diamondback Women's Serene Classic Comfort Bi</td><td>7</td><td>2099.860076904297</td></tr><tr><td>Grand Prairie</td><td>Nike Men's CJ Elite 2 TD Football Cleat</td><td>7</td><td>909.9300384521484</td></tr><tr><td>Grove City</td><td>Nike Men's Free 5.0+ Running Shoe</td><td>7</td><td>699.9299926757812</td></tr><tr><td>Lewisville</td><td>Diamondback Women's Serene Classic Comfort Bi</td><td>7</td><td>2099.860076904297</td></tr><tr><td>Lodi</td><td>Nike Men's CJ Elite 2 TD Football Cleat</td><td>7</td><td>909.9300384521484</td></tr><tr><td>Oakland</td><td>O'Brien Men's Neoprene Life Vest</td><td>7</td><td>349.8599967956543</td></tr><tr><td>Oviedo</td><td>Nike Men's CJ Elite 2 TD Football Cleat</td><td>7</td><td>909.9300384521484</td></tr><tr><td>Poway</td><td>Field & Stream Sportsman 16 Gun Fire Safe</td><td>7</td><td>2799.860076904297</td></tr><tr><td>Rialto</td><td>Diamondback Women's Serene Classic Comfort Bi</td><td>7</td><td>2099.860076904297</td></tr><tr><td>Springfield</td><td>Nike Men's CJ Elite 2 TD Football Cleat</td><td>7</td><td>909.9300384521484</td></tr><tr><td>Berwyn</td><td>Pelican Sunstream 100 Kayak</td><td>7</td><td>1399.9300384521484</td></tr><tr><td>Clementon</td><td>Field & Stream Sportsman 16 Gun Fire Safe</td><td>7</td><td>2799.860076904297</td></tr><tr><td>Clementon</td><td>Nike Men's CJ Elite 2 TD Football Cleat</td><td>7</td><td>909.9300384521484</td></tr><tr><td>Gwynn Oak</td><td>Under Armour Girls' Toddler Spine Surge Runni</td><td>7</td><td>279.9300003051758</td></tr><tr><td>Kailua</td><td>Nike Men's CJ Elite 2 TD Football Cleat</td><td>7</td><td>909.9300384521484</td></tr><tr><td>Lewisville</td><td>Pelican Sunstream 100 Kayak</td><td>7</td><td>1399.9300384521484</td></tr><tr><td>Lodi</td><td>Field & Stream Sportsman 16 Gun Fire Safe</td><td>7</td><td>2799.860076904297</td></tr><tr><td>Mcallen</td><td>Field & Stream Sportsman 16 Gun Fire Safe</td><td>7</td><td>2799.860076904297</td></tr><tr><td>Oakland</td><td>Pelican Sunstream 100 Kayak</td><td>7</td><td>1399.9300384521484</td></tr><tr><td>Palo Alto</td><td>Titleist Pro V1x Golf Balls</td><td>7</td><td>335.9300079345703</td></tr><tr><td>Pittsburg</td><td>Diamondback Women's Serene Classic Comfort Bi</td><td>7</td><td>2099.860076904297</td></tr><tr><td>Reno</td><td>O'Brien Men's Neoprene Life Vest</td><td>7</td><td>349.8599967956543</td></tr><tr><td>San Pedro</td><td>Field & Stream Sportsman 16 Gun Fire Safe</td><td>7</td><td>2799.860076904297</td></tr><tr><td>Santa Fe</td><td>Nike Men's CJ Elite 2 TD Football Cleat</td><td>7</td><td>909.9300384521484</td></tr><tr><td>Sumner</td><td>Under Armour Girls' Toddler Spine Surge Runni</td><td>7</td><td>279.9300079345703</td></tr><tr><td>Santa Maria</td><td>Under Armour Girls' Toddler Spine Surge Runni</td><td>7</td><td>279.9300079345703</td></tr><tr><td>Berwyn</td><td>Field & Stream Sportsman 16 Gun Fire Safe</td><td>7</td><td>2799.860076904297</td></tr><tr><td>Bayonne</td><td>Field & Stream Sportsman 16 Gun Fire Safe</td><td>7</td><td>2799.860076904297</td></tr><tr><td>Edinburg</td><td>Nike Men's CJ Elite 2 TD Football Cleat</td><td>7</td><td>909.9300384521484</td></tr><tr><td>Kailua</td><td>Under Armour Girls' Toddler Spine Surge Runni</td><td>7</td><td>279.9300117492676</td></tr><tr><td>Lewisville</td><td>Nike Men's Free 5.0+ Running Shoe</td><td>7</td><td>699.9300003051758</td></tr><tr><td>Mcallen</td><td>Nike Men's CJ Elite 2 TD Football Cleat</td><td>7</td><td>909.9300384521484</td></tr><tr><td>Ponce</td><td>Diamondback Women's Serene Classic Comfort Bi</td><td>7</td><td>2099.860076904297</td></tr><tr><td>Reno</td><td>Nike Men's CJ Elite 2 TD Football Cleat</td><td>7</td><td>909.9300384521484</td></tr><tr><td>Santa Fe</td><td>Field & Stream Sportsman 16 Gun Fire Safe</td><td>7</td><td>2799.860076904297</td></tr><tr><td>Wilmington</td><td>Field & Stream Sportsman 16 Gun Fire Safe</td><td>7</td><td>2799.860076904297</td></tr><tr><td>South Gate</td><td>Under Armour Girls' Toddler Spine Surge Runni</td><td>7</td><td>279.9300079345703</td></tr><tr><td>Bayonne</td><td>Nike Men's CJ Elite 2 TD Football Cleat</td><td>7</td><td>909.9300384521484</td></tr><tr><td>Longview</td><td>Under Armour Girls' Toddler Spine Surge Runni</td><td>6</td><td>239.94001007080078</td></tr><tr><td>Aguadilla</td><td>Diamondback Women's Serene Classic Comfort Bi</td><td>6</td><td>1799.8800659179688</td></tr><tr><td>Mcallen</td><td>Under Armour Girls' Toddler Spine Surge Runni</td><td>6</td><td>239.94001007080078</td></tr><tr><td>Reno</td><td>Titleist Pro V1 High Numbers Personalized Gol</td><td>6</td><td>311.94001388549805</td></tr><tr><td>Aguadilla</td><td>Nike Men's CJ Elite 2 TD Football Cleat</td><td>6</td><td>779.9400329589844</td></tr><tr><td>Oviedo</td><td>Nike Men's Free 5.0+ Running Shoe</td><td>6</td><td>599.9399871826172</td></tr><tr><td>Reno</td><td>Diamondback Women's Serene Classic Comfort Bi</td><td>6</td><td>1799.8800659179688</td></tr><tr><td>Santa Maria</td><td>Nike Men's CJ Elite 2 TD Football Cleat</td><td>6</td><td>779.9400329589844</td></tr><tr><td>Longview</td><td>Field & Stream Sportsman 16 Gun Fire Safe</td><td>6</td><td>2399.8800659179688</td></tr><tr><td>Aguadilla</td><td>Nike Men's Dri-FIT Victory Golf Polo</td><td>6</td><td>300.0</td></tr><tr><td>Santa Maria</td><td>Field & Stream Sportsman 16 Gun Fire Safe</td><td>6</td><td>2399.8800659179688</td></tr><tr><td>Toa Alta</td><td>Nike Men's CJ Elite 2 TD Football Cleat</td><td>6</td><td>779.9400329589844</td></tr><tr><td>Toa Alta</td><td>Under Armour Girls' Toddler Spine Surge Runni</td><td>6</td><td>239.94000625610352</td></tr><tr><td>Ponce</td><td>Nike Men's Free 5.0+ Running Shoe</td><td>6</td><td>599.9399871826172</td></tr><tr><td>Kenner</td><td>Diamondback Women's Serene Classic Comfort Bi</td><td>6</td><td>1799.8800659179688</td></tr><tr><td>Edinburg</td><td>Pelican Sunstream 100 Kayak</td><td>6</td><td>1199.9400329589844</td></tr><tr><td>Toa Alta</td><td>Nike Men's Free 5.0+ Running Shoe</td><td>6</td><td>599.9400024414062</td></tr><tr><td>Tracy</td><td>Nike Men's Free 5.0+ Running Shoe</td><td>6</td><td>599.9400100708008</td></tr><tr><td>Henderson</td><td>Pelican Sunstream 100 Kayak</td><td>6</td><td>1199.9400329589844</td></tr><tr><td>Grand Prairie</td><td>Nike Men's Dri-FIT Victory Golf Polo</td><td>5</td><td>250.0</td></tr><tr><td>Grand Prairie</td><td>Diamondback Women's Serene Classic Comfort Bi</td><td>5</td><td>1499.9000549316406</td></tr><tr><td>Gwynn Oak</td><td>O'Brien Men's Neoprene Life Vest</td><td>5</td><td>249.89999771118164</td></tr><tr><td>National City</td><td>Nike Men's CJ Elite 2 TD Football Cleat</td><td>5</td><td>649.9500274658203</td></tr><tr><td>Stafford</td><td>Nike Men's Free 5.0+ Running Shoe</td><td>5</td><td>499.9499969482422</td></tr><tr><td>Bartlett</td><td>adidas Men's Germany Black Crest Away Tee</td><td>5</td><td>125.0</td></tr><tr><td>Gwynn Oak</td><td>Nike Men's CJ Elite 2 TD Football Cleat</td><td>5</td><td>649.9500274658203</td></tr><tr><td>Hempstead</td><td>Under Armour Girls' Toddler Spine Surge Runni</td><td>5</td><td>199.95000457763672</td></tr><tr><td>Oviedo</td><td>Field & Stream Sportsman 16 Gun Fire Safe</td><td>5</td><td>1999.9000549316406</td></tr><tr><td>Spokane</td><td>Field & Stream Sportsman 16 Gun Fire Safe</td><td>5</td><td>1999.9000549316406</td></tr><tr><td>Stafford</td><td>Diamondback Women's Serene Classic Comfort Bi</td><td>5</td><td>1499.9000549316406</td></tr><tr><td>Taunton</td><td>Diamondback Women's Serene Classic Comfort Bi</td><td>5</td><td>1499.9000549316406</td></tr><tr><td>Grand Prairie</td><td>Field & Stream Sportsman 16 Gun Fire Safe</td><td>5</td><td>1999.9000549316406</td></tr><tr><td>Birmingham</td><td>Perfect Fitness Perfect Rip Deck</td><td>5</td><td>299.950008392334</td></tr><tr><td>Hempstead</td><td>Bag Boy M330 Push Cart</td><td>5</td><td>399.95001220703125</td></tr><tr><td>Lindenhurst</td><td>Diamondback Women's Serene Classic Comfort Bi</td><td>5</td><td>1499.9000549316406</td></tr><tr><td>Ponce</td><td>Top Flite Women's 2014 XL Hybrid</td><td>5</td><td>99.94999694824219</td></tr><tr><td>Stafford</td><td>Team Golf New England Patriots Putter Grip</td><td>5</td><td>124.94999694824219</td></tr><tr><td>Stafford</td><td>Field & Stream Sportsman 16 Gun Fire Safe</td><td>5</td><td>1999.9000549316406</td></tr><tr><td>Stafford</td><td>Pelican Sunstream 100 Kayak</td><td>5</td><td>999.9500274658203</td></tr><tr><td>Taunton</td><td>Clicgear 8.0 Shoe Brush</td><td>5</td><td>49.95000076293945</td></tr><tr><td>Toa Alta</td><td>Diamondback Women's Serene Classic Comfort Bi</td><td>5</td><td>1499.9000549316406</td></tr><tr><td>Grand Prairie</td><td>Bridgestone e6 Straight Distance NFL San Dieg</td><td>5</td><td>159.9499969482422</td></tr><tr><td>Birmingham</td><td>Field & Stream Sportsman 16 Gun Fire Safe</td><td>5</td><td>1999.9000549316406</td></tr><tr><td>Birmingham</td><td>Pelican Sunstream 100 Kayak</td><td>5</td><td>999.9500274658203</td></tr><tr><td>Malden</td><td>Nike Men's CJ Elite 2 TD Football Cleat</td><td>5</td><td>649.9500274658203</td></tr><tr><td>Ponce</td><td>Glove It Women's Mod Oval 3-Zip Carry All Gol</td><td>5</td><td>109.94999694824219</td></tr><tr><td>Stafford</td><td>Columbia Men's PFG Anchor Tough T-Shirt</td><td>5</td><td>150.0</td></tr><tr><td>Toa Alta</td><td>Pelican Sunstream 100 Kayak</td><td>5</td><td>999.9500274658203</td></tr><tr><td>Stafford</td><td>Nike Men's CJ Elite 2 TD Football Cleat</td><td>5</td><td>649.9500274658203</td></tr><tr><td>Birmingham</td><td>O'Brien Men's Neoprene Life Vest</td><td>5</td><td>249.89999771118164</td></tr><tr><td>Birmingham</td><td>Nike Men's CJ Elite 2 TD Football Cleat</td><td>4</td><td>519.9600219726562</td></tr><tr><td>Hempstead</td><td>Perfect Fitness Perfect Rip Deck</td><td>4</td><td>239.9600067138672</td></tr><tr><td>Hempstead</td><td>Nike Men's Free 5.0+ Running Shoe</td><td>4</td><td>399.9599914550781</td></tr><tr><td>Birmingham</td><td>Under Armour Kids' Mercenary Slide</td><td>4</td><td>111.95999908447266</td></tr><tr><td>Marion</td><td>Field & Stream Sportsman 16 Gun Fire Safe</td><td>4</td><td>1599.9200439453125</td></tr><tr><td>Birmingham</td><td>Nike Men's Dri-FIT Victory Golf Polo</td><td>4</td><td>200.0</td></tr><tr><td>National City</td><td>O'Brien Men's Neoprene Life Vest</td><td>4</td><td>199.9199981689453</td></tr><tr><td>Taunton</td><td>Titleist Pro V1x High Numbers Golf Balls</td><td>4</td><td>191.9600067138672</td></tr><tr><td>Kenner</td><td>Under Armour Girls' Toddler Spine Surge Runni</td><td>4</td><td>159.9600067138672</td></tr><tr><td>Bartlett</td><td>Nike Men's CJ Elite 2 TD Football Cleat</td><td>4</td><td>519.9600219726562</td></tr><tr><td>National City</td><td>Nike Women's Legend V-Neck T-Shirt</td><td>4</td><td>100.0</td></tr><tr><td>Santa Maria</td><td>Diamondback Women's Serene Classic Comfort Bi</td><td>4</td><td>1199.9200439453125</td></tr><tr><td>Taunton</td><td>Field & Stream Sportsman 16 Gun Fire Safe</td><td>4</td><td>1599.9200439453125</td></tr><tr><td>Sumner</td><td>Pelican Sunstream 100 Kayak</td><td>4</td><td>799.9600219726562</td></tr><tr><td>Kenner</td><td>Under Armour Kids' Mercenary Slide</td><td>4</td><td>111.95999908447266</td></tr><tr><td>Bartlett</td><td>Field & Stream Sportsman 16 Gun Fire Safe</td><td>4</td><td>1599.9200439453125</td></tr><tr><td>Aguadilla</td><td>Under Armour Girls' Toddler Spine Surge Runni</td><td>4</td><td>159.9600067138672</td></tr><tr><td>Sumner</td><td>Nike Kids' Grade School KD VI Basketball Shoe</td><td>4</td><td>399.9599914550781</td></tr><tr><td>Toa Alta</td><td>Field & Stream Sportsman 16 Gun Fire Safe</td><td>4</td><td>1599.9200439453125</td></tr><tr><td>Kenner</td><td>Nike Men's CJ Elite 2 TD Football Cleat</td><td>4</td><td>519.9600219726562</td></tr><tr><td>Birmingham</td><td>Diamondback Women's Serene Classic Comfort Bi</td><td>3</td><td>899.9400329589844</td></tr><tr><td>Malden</td><td>Diamondback Women's Serene Classic Comfort Bi</td><td>3</td><td>899.9400329589844</td></tr><tr><td>Ponce</td><td>Nike Men's CJ Elite 2 TD Football Cleat</td><td>3</td><td>389.9700164794922</td></tr><tr><td>Ponce</td><td>Under Armour Girls' Toddler Spine Surge Runni</td><td>3</td><td>119.97000122070312</td></tr><tr><td>Sumner</td><td>Nike Men's Dri-FIT Victory Golf Polo</td><td>3</td><td>150.0</td></tr><tr><td>Freehold</td><td>Nike Men's Free 5.0+ Running Shoe</td><td>2</td><td>199.97999572753906</td></tr><tr><td>Freehold</td><td>Diamondback Women's Serene Classic Comfort Bi</td><td>2</td><td>599.9600219726562</td></tr><tr><td>Freehold</td><td>Pelican Sunstream 100 Kayak</td><td>2</td><td>399.9800109863281</td></tr><tr><td>Malden</td><td>Field & Stream Sportsman 16 Gun Fire Safe</td><td>2</td><td>799.9600219726562</td></tr><tr><td>Freehold</td><td>Nike Men's CJ Elite 2 TD Football Cleat</td><td>1</td><td>129.99000549316406</td></tr><tr><td>Freehold</td><td>Team Golf Tennessee Volunteers Putter Grip</td><td>1</td><td>24.989999771118164</td></tr><tr><td>Freehold</td><td>O'Brien Men's Neoprene Life Vest</td><td>1</td><td>49.97999954223633</td></tr></tbody></table></div>"
      ]
     },
     "metadata": {
      "application/vnd.databricks.v1+output": {
       "addedWidgets": {},
       "aggData": [],
       "aggError": "",
       "aggOverflow": false,
       "aggSchema": [],
       "aggSeriesLimitReached": false,
       "aggType": "",
       "arguments": {},
       "columnCustomDisplayInfos": {},
       "data": [
        [
         "Caguas",
         "Perfect Fitness Perfect Rip Deck",
         27276,
         1636287.2855148315
        ],
        [
         "Caguas",
         "Nike Men's Dri-FIT Victory Golf Polo",
         23355,
         1167750.0
        ],
        [
         "Caguas",
         "O'Brien Men's Neoprene Life Vest",
         21590,
         1079068.1897773743
        ],
        [
         "Caguas",
         "Nike Men's Free 5.0+ Running Shoe",
         13530,
         1352864.6990203857
        ],
        [
         "Caguas",
         "Under Armour Girls' Toddler Spine Surge Runni",
         11713,
         468402.8778114319
        ],
        [
         "Chicago",
         "Perfect Fitness Perfect Rip Deck",
         1540,
         92384.60255813599
        ],
        [
         "Los Angeles",
         "Perfect Fitness Perfect Rip Deck",
         1423,
         85365.77238464355
        ],
        [
         "Chicago",
         "Nike Men's Dri-FIT Victory Golf Polo",
         1391,
         69550.0
        ],
        [
         "Chicago",
         "O'Brien Men's Neoprene Life Vest",
         1278,
         63874.43938827515
        ],
        [
         "Brooklyn",
         "Perfect Fitness Perfect Rip Deck",
         1251,
         75047.49206924438
        ],
        [
         "Brooklyn",
         "Nike Men's Dri-FIT Victory Golf Polo",
         1237,
         61850.0
        ],
        [
         "Los Angeles",
         "Nike Men's Dri-FIT Victory Golf Polo",
         1194,
         59700.0
        ],
        [
         "Brooklyn",
         "O'Brien Men's Neoprene Life Vest",
         1185,
         59226.299503326416
        ],
        [
         "Los Angeles",
         "O'Brien Men's Neoprene Life Vest",
         1120,
         55977.599559783936
        ],
        [
         "Chicago",
         "Nike Men's Free 5.0+ Running Shoe",
         789,
         78892.11010742188
        ],
        [
         "Los Angeles",
         "Nike Men's Free 5.0+ Running Shoe",
         737,
         73692.6298751831
        ],
        [
         "Brooklyn",
         "Nike Men's Free 5.0+ Running Shoe",
         721,
         72092.78977966309
        ],
        [
         "New York",
         "Perfect Fitness Perfect Rip Deck",
         719,
         43132.81119918823
        ],
        [
         "Bronx",
         "Perfect Fitness Perfect Rip Deck",
         688,
         41273.12115097046
        ],
        [
         "New York",
         "Nike Men's Dri-FIT Victory Golf Polo",
         661,
         33050.0
        ],
        [
         "Philadelphia",
         "Perfect Fitness Perfect Rip Deck",
         655,
         39293.451137542725
        ],
        [
         "Chicago",
         "Under Armour Girls' Toddler Spine Surge Runni",
         626,
         25033.740505218506
        ],
        [
         "San Diego",
         "Perfect Fitness Perfect Rip Deck",
         612,
         36713.88098526001
        ],
        [
         "Brooklyn",
         "Under Armour Girls' Toddler Spine Surge Runni",
         600,
         23994.000457763672
        ],
        [
         "New York",
         "O'Brien Men's Neoprene Life Vest",
         588,
         29388.239768981934
        ],
        [
         "Los Angeles",
         "Under Armour Girls' Toddler Spine Surge Runni",
         587,
         23474.13038635254
        ],
        [
         "Houston",
         "Perfect Fitness Perfect Rip Deck",
         576,
         34554.24097824097
        ],
        [
         "Philadelphia",
         "Nike Men's Dri-FIT Victory Golf Polo",
         555,
         27750.0
        ],
        [
         "Miami",
         "Perfect Fitness Perfect Rip Deck",
         536,
         32154.64083480835
        ],
        [
         "San Diego",
         "Nike Men's Dri-FIT Victory Golf Polo",
         517,
         25850.0
        ],
        [
         "Bronx",
         "Nike Men's Dri-FIT Victory Golf Polo",
         504,
         25200.0
        ],
        [
         "Philadelphia",
         "O'Brien Men's Neoprene Life Vest",
         502,
         25089.95978164673
        ],
        [
         "Las Vegas",
         "Perfect Fitness Perfect Rip Deck",
         488,
         29275.120822906494
        ],
        [
         "Dallas",
         "Perfect Fitness Perfect Rip Deck",
         482,
         28915.1808052063
        ],
        [
         "Bronx",
         "O'Brien Men's Neoprene Life Vest",
         478,
         23890.439796447754
        ],
        [
         "San Diego",
         "O'Brien Men's Neoprene Life Vest",
         471,
         23540.57975769043
        ],
        [
         "Houston",
         "Nike Men's Dri-FIT Victory Golf Polo",
         440,
         22000.0
        ],
        [
         "Aurora",
         "Perfect Fitness Perfect Rip Deck",
         425,
         25495.75068283081
        ],
        [
         "Dallas",
         "O'Brien Men's Neoprene Life Vest",
         421,
         21041.57981109619
        ],
        [
         "Miami",
         "O'Brien Men's Neoprene Life Vest",
         417,
         20841.65982055664
        ],
        [
         "Houston",
         "O'Brien Men's Neoprene Life Vest",
         395,
         19742.099800109863
        ],
        [
         "New York",
         "Under Armour Girls' Toddler Spine Surge Runni",
         391,
         15636.090244293213
        ],
        [
         "Miami",
         "Nike Men's Dri-FIT Victory Golf Polo",
         388,
         19400.0
        ],
        [
         "San Jose",
         "Perfect Fitness Perfect Rip Deck",
         384,
         23036.160636901855
        ],
        [
         "Las Vegas",
         "O'Brien Men's Neoprene Life Vest",
         379,
         18942.41982650757
        ],
        [
         "Dallas",
         "Nike Men's Dri-FIT Victory Golf Polo",
         370,
         18500.0
        ],
        [
         "New York",
         "Nike Men's Free 5.0+ Running Shoe",
         363,
         36296.3699798584
        ],
        [
         "Las Vegas",
         "Nike Men's Dri-FIT Victory Golf Polo",
         358,
         17900.0
        ],
        [
         "Detroit",
         "Nike Men's Dri-FIT Victory Golf Polo",
         349,
         17450.0
        ],
        [
         "San Jose",
         "Nike Men's Dri-FIT Victory Golf Polo",
         347,
         17350.0
        ],
        [
         "Philadelphia",
         "Nike Men's Free 5.0+ Running Shoe",
         346,
         34596.539894104004
        ],
        [
         "San Antonio",
         "Perfect Fitness Perfect Rip Deck",
         342,
         20516.580589294434
        ],
        [
         "Aurora",
         "O'Brien Men's Neoprene Life Vest",
         334,
         16693.319869995117
        ],
        [
         "Phoenix",
         "Perfect Fitness Perfect Rip Deck",
         333,
         19976.670513153076
        ],
        [
         "Detroit",
         "Perfect Fitness Perfect Rip Deck",
         329,
         19736.710563659668
        ],
        [
         "Detroit",
         "O'Brien Men's Neoprene Life Vest",
         324,
         16193.519870758057
        ],
        [
         "Aurora",
         "Nike Men's Dri-FIT Victory Golf Polo",
         323,
         16150.0
        ],
        [
         "Philadelphia",
         "Under Armour Girls' Toddler Spine Surge Runni",
         314,
         12556.860233306885
        ],
        [
         "Lancaster",
         "Nike Men's Dri-FIT Victory Golf Polo",
         306,
         15300.0
        ],
        [
         "Bronx",
         "Nike Men's Free 5.0+ Running Shoe",
         302,
         30196.979988098145
        ],
        [
         "Las Vegas",
         "Nike Men's Free 5.0+ Running Shoe",
         301,
         30096.98998260498
        ],
        [
         "Phoenix",
         "O'Brien Men's Neoprene Life Vest",
         297,
         14844.059894561768
        ],
        [
         "Houston",
         "Nike Men's Free 5.0+ Running Shoe",
         294,
         29397.059928894043
        ],
        [
         "Phoenix",
         "Nike Men's Dri-FIT Victory Golf Polo",
         292,
         14600.0
        ],
        [
         "Memphis",
         "Perfect Fitness Perfect Rip Deck",
         292,
         17517.08048248291
        ],
        [
         "Albuquerque",
         "Perfect Fitness Perfect Rip Deck",
         290,
         17397.100509643555
        ],
        [
         "Memphis",
         "Nike Men's Dri-FIT Victory Golf Polo",
         289,
         14450.0
        ],
        [
         "Cleveland",
         "Nike Men's Dri-FIT Victory Golf Polo",
         285,
         14250.0
        ],
        [
         "San Diego",
         "Nike Men's Free 5.0+ Running Shoe",
         284,
         28397.15993499756
        ],
        [
         "Virginia Beach",
         "Nike Men's Dri-FIT Victory Golf Polo",
         282,
         14100.0
        ],
        [
         "Fort Lauderdale",
         "Perfect Fitness Perfect Rip Deck",
         276,
         16557.240447998047
        ],
        [
         "Miami",
         "Nike Men's Free 5.0+ Running Shoe",
         272,
         27197.280128479004
        ],
        [
         "Washington",
         "Perfect Fitness Perfect Rip Deck",
         270,
         16197.300468444824
        ],
        [
         "Cleveland",
         "Perfect Fitness Perfect Rip Deck",
         269,
         16137.310447692871
        ],
        [
         "Virginia Beach",
         "Perfect Fitness Perfect Rip Deck",
         266,
         15957.34049987793
        ],
        [
         "Columbus",
         "Perfect Fitness Perfect Rip Deck",
         261,
         15657.39045715332
        ],
        [
         "San Diego",
         "Under Armour Girls' Toddler Spine Surge Runni",
         259,
         10357.410186767578
        ],
        [
         "Cleveland",
         "O'Brien Men's Neoprene Life Vest",
         259,
         12944.81990814209
        ],
        [
         "San Jose",
         "O'Brien Men's Neoprene Life Vest",
         258,
         12894.83987045288
        ],
        [
         "Baltimore",
         "Perfect Fitness Perfect Rip Deck",
         258,
         15477.420475006104
        ],
        [
         "Newark",
         "Perfect Fitness Perfect Rip Deck",
         256,
         15357.440464019775
        ],
        [
         "Albuquerque",
         "Nike Men's Dri-FIT Victory Golf Polo",
         254,
         12700.0
        ],
        [
         "Long Beach",
         "Perfect Fitness Perfect Rip Deck",
         254,
         15237.460418701172
        ],
        [
         "Bronx",
         "Under Armour Girls' Toddler Spine Surge Runni",
         251,
         10037.490169525146
        ],
        [
         "Honolulu",
         "Perfect Fitness Perfect Rip Deck",
         248,
         14877.520435333252
        ],
        [
         "Santa Ana",
         "Perfect Fitness Perfect Rip Deck",
         244,
         14637.560428619385
        ],
        [
         "Virginia Beach",
         "O'Brien Men's Neoprene Life Vest",
         244,
         12195.119911193848
        ],
        [
         "El Paso",
         "Perfect Fitness Perfect Rip Deck",
         244,
         14637.560405731201
        ],
        [
         "Tucson",
         "Perfect Fitness Perfect Rip Deck",
         238,
         14277.620403289795
        ],
        [
         "El Paso",
         "O'Brien Men's Neoprene Life Vest",
         238,
         11895.239849090576
        ],
        [
         "Fort Lauderdale",
         "O'Brien Men's Neoprene Life Vest",
         238,
         11895.239917755127
        ],
        [
         "Bakersfield",
         "Nike Men's Dri-FIT Victory Golf Polo",
         237,
         11850.0
        ],
        [
         "El Paso",
         "Nike Men's Dri-FIT Victory Golf Polo",
         236,
         11800.0
        ],
        [
         "Miami",
         "Under Armour Girls' Toddler Spine Surge Runni",
         233,
         9317.670143127441
        ],
        [
         "Washington",
         "Nike Men's Dri-FIT Victory Golf Polo",
         233,
         11650.0
        ],
        [
         "Columbus",
         "Nike Men's Dri-FIT Victory Golf Polo",
         230,
         11500.0
        ],
        [
         "Fort Lauderdale",
         "Nike Men's Dri-FIT Victory Golf Polo",
         227,
         11350.0
        ],
        [
         "Tucson",
         "Nike Men's Dri-FIT Victory Golf Polo",
         227,
         11350.0
        ],
        [
         "Hialeah",
         "Perfect Fitness Perfect Rip Deck",
         224,
         13437.760360717773
        ],
        [
         "Pompano Beach",
         "Perfect Fitness Perfect Rip Deck",
         222,
         13317.780395507812
        ],
        [
         "Lancaster",
         "Perfect Fitness Perfect Rip Deck",
         220,
         13197.800327301025
        ],
        [
         "Memphis",
         "O'Brien Men's Neoprene Life Vest",
         219,
         10945.619903564453
        ],
        [
         "Washington",
         "O'Brien Men's Neoprene Life Vest",
         216,
         10795.679893493652
        ],
        [
         "Bakersfield",
         "Perfect Fitness Perfect Rip Deck",
         215,
         12897.850360870361
        ],
        [
         "Columbus",
         "O'Brien Men's Neoprene Life Vest",
         214,
         10695.719890594482
        ],
        [
         "Saint Paul",
         "Perfect Fitness Perfect Rip Deck",
         214,
         12837.860363006592
        ],
        [
         "Honolulu",
         "Nike Men's Dri-FIT Victory Golf Polo",
         213,
         10650.0
        ],
        [
         "Las Vegas",
         "Under Armour Girls' Toddler Spine Surge Runni",
         211,
         8437.890117645264
        ],
        [
         "Lancaster",
         "O'Brien Men's Neoprene Life Vest",
         209,
         10445.819896697998
        ],
        [
         "Dallas",
         "Nike Men's Free 5.0+ Running Shoe",
         207,
         20697.930015563965
        ],
        [
         "Detroit",
         "Nike Men's Free 5.0+ Running Shoe",
         202,
         20197.980041503906
        ],
        [
         "Aurora",
         "Under Armour Girls' Toddler Spine Surge Runni",
         201,
         8037.990188598633
        ],
        [
         "Long Beach",
         "Nike Men's Dri-FIT Victory Golf Polo",
         199,
         9950.0
        ],
        [
         "San Jose",
         "Under Armour Girls' Toddler Spine Surge Runni",
         199,
         7958.010162353516
        ],
        [
         "San Antonio",
         "O'Brien Men's Neoprene Life Vest",
         198,
         9896.039909362793
        ],
        [
         "Saint Paul",
         "O'Brien Men's Neoprene Life Vest",
         197,
         9846.059921264648
        ],
        [
         "Dallas",
         "Under Armour Girls' Toddler Spine Surge Runni",
         194,
         7758.06014251709
        ],
        [
         "Santa Ana",
         "O'Brien Men's Neoprene Life Vest",
         194,
         9696.119915008545
        ],
        [
         "Pompano Beach",
         "O'Brien Men's Neoprene Life Vest",
         193,
         9646.1399269104
        ],
        [
         "Honolulu",
         "O'Brien Men's Neoprene Life Vest",
         193,
         9646.139904022217
        ],
        [
         "Aurora",
         "Nike Men's Free 5.0+ Running Shoe",
         192,
         19198.079963684082
        ],
        [
         "New Orleans",
         "Perfect Fitness Perfect Rip Deck",
         192,
         11518.08032989502
        ],
        [
         "Cleveland",
         "Nike Men's Free 5.0+ Running Shoe",
         191,
         19098.089904785156
        ],
        [
         "Houston",
         "Under Armour Girls' Toddler Spine Surge Runni",
         190,
         7598.10013961792
        ],
        [
         "Phoenix",
         "Under Armour Girls' Toddler Spine Surge Runni",
         188,
         7518.1201171875
        ],
        [
         "San Francisco",
         "Nike Men's Dri-FIT Victory Golf Polo",
         188,
         9400.0
        ],
        [
         "San Jose",
         "Nike Men's Free 5.0+ Running Shoe",
         187,
         18698.130004882812
        ],
        [
         "Baltimore",
         "Nike Men's Dri-FIT Victory Golf Polo",
         186,
         9300.0
        ],
        [
         "Tempe",
         "Nike Men's Dri-FIT Victory Golf Polo",
         184,
         9200.0
        ],
        [
         "Tucson",
         "O'Brien Men's Neoprene Life Vest",
         184,
         9196.31990814209
        ],
        [
         "Escondido",
         "Nike Men's Dri-FIT Victory Golf Polo",
         182,
         9100.0
        ],
        [
         "San Antonio",
         "Nike Men's Dri-FIT Victory Golf Polo",
         181,
         9050.0
        ],
        [
         "Tempe",
         "Perfect Fitness Perfect Rip Deck",
         178,
         10678.220306396484
        ],
        [
         "Pompano Beach",
         "Nike Men's Dri-FIT Victory Golf Polo",
         177,
         8850.0
        ],
        [
         "Tampa",
         "Perfect Fitness Perfect Rip Deck",
         176,
         10558.24031829834
        ],
        [
         "Bakersfield",
         "O'Brien Men's Neoprene Life Vest",
         176,
         8796.479915618896
        ],
        [
         "Bayamon",
         "Perfect Fitness Perfect Rip Deck",
         176,
         10558.240295410156
        ],
        [
         "Saint Paul",
         "Nike Men's Dri-FIT Victory Golf Polo",
         174,
         8700.0
        ],
        [
         "Simi Valley",
         "Perfect Fitness Perfect Rip Deck",
         174,
         10438.260303497314
        ],
        [
         "Phoenix",
         "Nike Men's Free 5.0+ Running Shoe",
         172,
         17198.27996826172
        ],
        [
         "Fort Worth",
         "Perfect Fitness Perfect Rip Deck",
         172,
         10318.280319213867
        ],
        [
         "Saint Louis",
         "Perfect Fitness Perfect Rip Deck",
         170,
         10198.300281524658
        ],
        [
         "Baltimore",
         "O'Brien Men's Neoprene Life Vest",
         169,
         8446.619945526123
        ],
        [
         "Albuquerque",
         "O'Brien Men's Neoprene Life Vest",
         169,
         8446.619926452637
        ],
        [
         "Lancaster",
         "Under Armour Girls' Toddler Spine Surge Runni",
         168,
         6718.320117950439
        ],
        [
         "Lancaster",
         "Nike Men's Free 5.0+ Running Shoe",
         168,
         16798.319953918457
        ],
        [
         "Sacramento",
         "Perfect Fitness Perfect Rip Deck",
         168,
         10078.320278167725
        ],
        [
         "Orlando",
         "Perfect Fitness Perfect Rip Deck",
         166,
         9958.340278625488
        ],
        [
         "Tampa",
         "Nike Men's Dri-FIT Victory Golf Polo",
         164,
         8200.0
        ],
        [
         "Buffalo",
         "Perfect Fitness Perfect Rip Deck",
         163,
         9778.370235443115
        ],
        [
         "Fresno",
         "Nike Men's Dri-FIT Victory Golf Polo",
         162,
         8100.0
        ],
        [
         "Portland",
         "Perfect Fitness Perfect Rip Deck",
         160,
         9598.40027999878
        ],
        [
         "Tempe",
         "O'Brien Men's Neoprene Life Vest",
         159,
         7946.819934844971
        ],
        [
         "Newark",
         "O'Brien Men's Neoprene Life Vest",
         158,
         7896.839931488037
        ],
        [
         "Riverside",
         "Perfect Fitness Perfect Rip Deck",
         156,
         9358.440254211426
        ],
        [
         "San Antonio",
         "Nike Men's Free 5.0+ Running Shoe",
         156,
         15598.43994140625
        ],
        [
         "Escondido",
         "Perfect Fitness Perfect Rip Deck",
         155,
         9298.450271606445
        ],
        [
         "Santa Ana",
         "Nike Men's Dri-FIT Victory Golf Polo",
         154,
         7700.0
        ],
        [
         "Corona",
         "Perfect Fitness Perfect Rip Deck",
         154,
         9238.460262298584
        ],
        [
         "Detroit",
         "Under Armour Girls' Toddler Spine Surge Runni",
         154,
         6158.460159301758
        ],
        [
         "Orlando",
         "Nike Men's Dri-FIT Victory Golf Polo",
         154,
         7700.0
        ],
        [
         "Fresno",
         "Perfect Fitness Perfect Rip Deck",
         154,
         9238.460250854492
        ],
        [
         "Laredo",
         "Nike Men's Dri-FIT Victory Golf Polo",
         154,
         7700.0
        ],
        [
         "Orlando",
         "O'Brien Men's Neoprene Life Vest",
         153,
         7646.93994140625
        ],
        [
         "San Juan",
         "Perfect Fitness Perfect Rip Deck",
         153,
         9178.470279693604
        ],
        [
         "Portland",
         "Nike Men's Dri-FIT Victory Golf Polo",
         152,
         7600.0
        ],
        [
         "Long Beach",
         "O'Brien Men's Neoprene Life Vest",
         152,
         7596.959911346436
        ],
        [
         "San Francisco",
         "Perfect Fitness Perfect Rip Deck",
         150,
         8998.500289916992
        ],
        [
         "Fort Worth",
         "Nike Men's Dri-FIT Victory Golf Polo",
         149,
         7450.0
        ],
        [
         "Atlanta",
         "O'Brien Men's Neoprene Life Vest",
         148,
         7397.0399169921875
        ],
        [
         "New Orleans",
         "Nike Men's Dri-FIT Victory Golf Polo",
         148,
         7400.0
        ],
        [
         "Elgin",
         "Perfect Fitness Perfect Rip Deck",
         147,
         8818.530269622803
        ],
        [
         "Newark",
         "Nike Men's Dri-FIT Victory Golf Polo",
         145,
         7250.0
        ],
        [
         "Marietta",
         "Perfect Fitness Perfect Rip Deck",
         144,
         8638.560245513916
        ],
        [
         "Jamaica",
         "Perfect Fitness Perfect Rip Deck",
         144,
         8638.560287475586
        ],
        [
         "Baltimore",
         "Nike Men's Free 5.0+ Running Shoe",
         144,
         14398.5599899292
        ],
        [
         "Marietta",
         "Nike Men's Dri-FIT Victory Golf Polo",
         142,
         7100.0
        ],
        [
         "Memphis",
         "Nike Men's Free 5.0+ Running Shoe",
         142,
         14198.579948425293
        ],
        [
         "New Orleans",
         "O'Brien Men's Neoprene Life Vest",
         142,
         7097.159934997559
        ],
        [
         "Ontario",
         "Perfect Fitness Perfect Rip Deck",
         141,
         8458.59022140503
        ],
        [
         "Portland",
         "O'Brien Men's Neoprene Life Vest",
         141,
         7047.179943084717
        ],
        [
         "Virginia Beach",
         "Under Armour Girls' Toddler Spine Surge Runni",
         141,
         5638.590076446533
        ],
        [
         "Cleveland",
         "Under Armour Girls' Toddler Spine Surge Runni",
         140,
         5598.60005569458
        ],
        [
         "Strongsville",
         "Perfect Fitness Perfect Rip Deck",
         140,
         8398.60022354126
        ],
        [
         "Riverside",
         "O'Brien Men's Neoprene Life Vest",
         139,
         6947.219955444336
        ],
        [
         "West Chester",
         "Perfect Fitness Perfect Rip Deck",
         138,
         8278.620208740234
        ],
        [
         "Saint Louis",
         "O'Brien Men's Neoprene Life Vest",
         137,
         6847.259941101074
        ],
        [
         "Elmhurst",
         "O'Brien Men's Neoprene Life Vest",
         137,
         6847.259899139404
        ],
        [
         "Elmhurst",
         "Perfect Fitness Perfect Rip Deck",
         137,
         8218.630226135254
        ],
        [
         "Hialeah",
         "O'Brien Men's Neoprene Life Vest",
         137,
         6847.259941101074
        ],
        [
         "Laredo",
         "Perfect Fitness Perfect Rip Deck",
         137,
         8218.630233764648
        ],
        [
         "Moreno Valley",
         "O'Brien Men's Neoprene Life Vest",
         137,
         6847.259956359863
        ],
        [
         "El Paso",
         "Nike Men's Free 5.0+ Running Shoe",
         136,
         13598.639953613281
        ],
        [
         "Richmond",
         "O'Brien Men's Neoprene Life Vest",
         135,
         6747.299919128418
        ],
        [
         "Washington",
         "Under Armour Girls' Toddler Spine Surge Runni",
         135,
         5398.650077819824
        ],
        [
         "Elgin",
         "Nike Men's Dri-FIT Victory Golf Polo",
         134,
         6700.0
        ],
        [
         "Fort Lauderdale",
         "Nike Men's Free 5.0+ Running Shoe",
         134,
         13398.660026550293
        ],
        [
         "Hollywood",
         "Perfect Fitness Perfect Rip Deck",
         134,
         8038.660232543945
        ],
        [
         "Salt Lake City",
         "Perfect Fitness Perfect Rip Deck",
         133,
         7978.670219421387
        ],
        [
         "Fort Worth",
         "O'Brien Men's Neoprene Life Vest",
         133,
         6647.339942932129
        ],
        [
         "Fresno",
         "O'Brien Men's Neoprene Life Vest",
         132,
         6597.359951019287
        ],
        [
         "Virginia Beach",
         "Nike Men's Free 5.0+ Running Shoe",
         132,
         13198.679954528809
        ],
        [
         "Florissant",
         "Perfect Fitness Perfect Rip Deck",
         131,
         7858.690216064453
        ],
        [
         "Spring Valley",
         "Perfect Fitness Perfect Rip Deck",
         131,
         7858.69021987915
        ],
        [
         "Columbus",
         "Nike Men's Free 5.0+ Running Shoe",
         131,
         13098.689918518066
        ],
        [
         "Washington",
         "Nike Men's Free 5.0+ Running Shoe",
         130,
         12998.700004577637
        ],
        [
         "San Antonio",
         "Under Armour Girls' Toddler Spine Surge Runni",
         130,
         5198.700046539307
        ],
        [
         "Hayward",
         "O'Brien Men's Neoprene Life Vest",
         130,
         6497.399925231934
        ],
        [
         "Atlanta",
         "Perfect Fitness Perfect Rip Deck",
         129,
         7738.710224151611
        ],
        [
         "El Paso",
         "Under Armour Girls' Toddler Spine Surge Runni",
         129,
         5158.71004486084
        ],
        [
         "Richmond",
         "Perfect Fitness Perfect Rip Deck",
         129,
         7738.710193634033
        ],
        [
         "Moreno Valley",
         "Nike Men's Dri-FIT Victory Golf Polo",
         128,
         6400.0
        ],
        [
         "Elmhurst",
         "Nike Men's Dri-FIT Victory Golf Polo",
         127,
         6350.0
        ],
        [
         "Hialeah",
         "Nike Men's Dri-FIT Victory Golf Polo",
         127,
         6350.0
        ],
        [
         "Buffalo",
         "Nike Men's Dri-FIT Victory Golf Polo",
         126,
         6300.0
        ],
        [
         "Anaheim",
         "Nike Men's Dri-FIT Victory Golf Polo",
         126,
         6300.0
        ],
        [
         "Antioch",
         "Perfect Fitness Perfect Rip Deck",
         124,
         7438.760227203369
        ],
        [
         "Columbia",
         "Perfect Fitness Perfect Rip Deck",
         124,
         7438.760223388672
        ],
        [
         "Buffalo",
         "O'Brien Men's Neoprene Life Vest",
         123,
         6147.539947509766
        ],
        [
         "Laredo",
         "O'Brien Men's Neoprene Life Vest",
         123,
         6147.539947509766
        ],
        [
         "Staten Island",
         "Nike Men's Dri-FIT Victory Golf Polo",
         123,
         6150.0
        ],
        [
         "Baltimore",
         "Under Armour Girls' Toddler Spine Surge Runni",
         123,
         4918.770088195801
        ],
        [
         "Antioch",
         "Nike Men's Dri-FIT Victory Golf Polo",
         123,
         6150.0
        ],
        [
         "Jersey City",
         "O'Brien Men's Neoprene Life Vest",
         122,
         6097.559940338135
        ],
        [
         "Memphis",
         "Under Armour Girls' Toddler Spine Surge Runni",
         122,
         4878.780078887939
        ],
        [
         "Spring Valley",
         "Nike Men's Dri-FIT Victory Golf Polo",
         122,
         6100.0
        ],
        [
         "Tucson",
         "Nike Men's Free 5.0+ Running Shoe",
         121,
         12098.790000915527
        ],
        [
         "Columbus",
         "Under Armour Girls' Toddler Spine Surge Runni",
         121,
         4838.790054321289
        ],
        [
         "Long Beach",
         "Nike Men's Free 5.0+ Running Shoe",
         121,
         12098.789962768555
        ],
        [
         "San Francisco",
         "O'Brien Men's Neoprene Life Vest",
         121,
         6047.579948425293
        ],
        [
         "San Marcos",
         "Perfect Fitness Perfect Rip Deck",
         120,
         7198.800186157227
        ],
        [
         "Amarillo",
         "Perfect Fitness Perfect Rip Deck",
         120,
         7198.800224304199
        ],
        [
         "Salem",
         "Perfect Fitness Perfect Rip Deck",
         120,
         7198.800220489502
        ],
        [
         "Pomona",
         "Nike Men's Dri-FIT Victory Golf Polo",
         119,
         5950.0
        ],
        [
         "Saint Paul",
         "Nike Men's Free 5.0+ Running Shoe",
         119,
         11898.809928894043
        ],
        [
         "Troy",
         "O'Brien Men's Neoprene Life Vest",
         119,
         5947.619941711426
        ],
        [
         "Oceanside",
         "O'Brien Men's Neoprene Life Vest",
         119,
         5947.619941711426
        ],
        [
         "Troy",
         "Nike Men's Dri-FIT Victory Golf Polo",
         118,
         5900.0
        ],
        [
         "Encinitas",
         "O'Brien Men's Neoprene Life Vest",
         118,
         5897.639930725098
        ],
        [
         "Endicott",
         "Nike Men's Dri-FIT Victory Golf Polo",
         118,
         5900.0
        ],
        [
         "Jamaica",
         "Nike Men's Dri-FIT Victory Golf Polo",
         118,
         5900.0
        ],
        [
         "Hialeah",
         "Under Armour Girls' Toddler Spine Surge Runni",
         118,
         4718.8200340271
        ],
        [
         "Hollywood",
         "O'Brien Men's Neoprene Life Vest",
         118,
         5897.639930725098
        ],
        [
         "Chula Vista",
         "Perfect Fitness Perfect Rip Deck",
         117,
         7018.830165863037
        ],
        [
         "Escondido",
         "O'Brien Men's Neoprene Life Vest",
         117,
         5847.659942626953
        ],
        [
         "Oceanside",
         "Perfect Fitness Perfect Rip Deck",
         116,
         6958.840167999268
        ],
        [
         "Antioch",
         "O'Brien Men's Neoprene Life Vest",
         116,
         5797.679962158203
        ],
        [
         "New Orleans",
         "Nike Men's Free 5.0+ Running Shoe",
         116,
         11598.839950561523
        ],
        [
         "Corona",
         "O'Brien Men's Neoprene Life Vest",
         116,
         5797.6799659729
        ],
        [
         "Corona",
         "Nike Men's Dri-FIT Victory Golf Polo",
         116,
         5800.0
        ],
        [
         "Anaheim",
         "O'Brien Men's Neoprene Life Vest",
         115,
         5747.699989318848
        ],
        [
         "Greenville",
         "Perfect Fitness Perfect Rip Deck",
         115,
         6898.850200653076
        ],
        [
         "Salt Lake City",
         "Nike Men's Dri-FIT Victory Golf Polo",
         115,
         5750.0
        ],
        [
         "Simi Valley",
         "Nike Men's Dri-FIT Victory Golf Polo",
         114,
         5700.0
        ],
        [
         "Greensboro",
         "Perfect Fitness Perfect Rip Deck",
         113,
         6778.870204925537
        ],
        [
         "Lakewood",
         "O'Brien Men's Neoprene Life Vest",
         113,
         5647.739940643311
        ],
        [
         "Richmond",
         "Nike Men's Dri-FIT Victory Golf Polo",
         113,
         5650.0
        ],
        [
         "Tucson",
         "Under Armour Girls' Toddler Spine Surge Runni",
         113,
         4518.870059967041
        ],
        [
         "Garden Grove",
         "O'Brien Men's Neoprene Life Vest",
         113,
         5647.739963531494
        ],
        [
         "Saint Louis",
         "Nike Men's Dri-FIT Victory Golf Polo",
         112,
         5600.0
        ],
        [
         "Bend",
         "Perfect Fitness Perfect Rip Deck",
         112,
         6718.880176544189
        ],
        [
         "West Chester",
         "Nike Men's Dri-FIT Victory Golf Polo",
         112,
         5600.0
        ],
        [
         "Bend",
         "O'Brien Men's Neoprene Life Vest",
         112,
         5597.7599449157715
        ],
        [
         "Quincy",
         "Perfect Fitness Perfect Rip Deck",
         112,
         6718.88020324707
        ],
        [
         "Lakewood",
         "Nike Men's Dri-FIT Victory Golf Polo",
         112,
         5600.0
        ],
        [
         "Ontario",
         "Nike Men's Dri-FIT Victory Golf Polo",
         112,
         5600.0
        ],
        [
         "West Chester",
         "O'Brien Men's Neoprene Life Vest",
         111,
         5547.779979705811
        ],
        [
         "Stockton",
         "Perfect Fitness Perfect Rip Deck",
         111,
         6658.890190124512
        ],
        [
         "West Covina",
         "Perfect Fitness Perfect Rip Deck",
         111,
         6658.890182495117
        ],
        [
         "Oceanside",
         "Nike Men's Dri-FIT Victory Golf Polo",
         111,
         5550.0
        ],
        [
         "Colorado Springs",
         "Perfect Fitness Perfect Rip Deck",
         111,
         6658.890197753906
        ],
        [
         "Eugene",
         "Nike Men's Dri-FIT Victory Golf Polo",
         111,
         5550.0
        ],
        [
         "San Juan",
         "Nike Men's Dri-FIT Victory Golf Polo",
         110,
         5500.0
        ],
        [
         "Tempe",
         "Nike Men's Free 5.0+ Running Shoe",
         110,
         10998.900009155273
        ],
        [
         "Bakersfield",
         "Nike Men's Free 5.0+ Running Shoe",
         110,
         10998.899955749512
        ],
        [
         "Humacao",
         "Perfect Fitness Perfect Rip Deck",
         110,
         6598.900177001953
        ],
        [
         "Newark",
         "Nike Men's Free 5.0+ Running Shoe",
         110,
         10998.900016784668
        ],
        [
         "Atlanta",
         "Nike Men's Dri-FIT Victory Golf Polo",
         109,
         5450.0
        ],
        [
         "Dearborn",
         "Perfect Fitness Perfect Rip Deck",
         109,
         6538.910175323486
        ],
        [
         "Fremont",
         "Perfect Fitness Perfect Rip Deck",
         109,
         6538.910182952881
        ],
        [
         "Tampa",
         "O'Brien Men's Neoprene Life Vest",
         109,
         5447.819972991943
        ],
        [
         "Honolulu",
         "Nike Men's Free 5.0+ Running Shoe",
         109,
         10898.910026550293
        ],
        [
         "Riverside",
         "Under Armour Girls' Toddler Spine Surge Runni",
         109,
         4358.910049438477
        ],
        [
         "Elgin",
         "O'Brien Men's Neoprene Life Vest",
         108,
         5397.839954376221
        ],
        [
         "Sacramento",
         "Nike Men's Free 5.0+ Running Shoe",
         108,
         10798.920013427734
        ],
        [
         "Amarillo",
         "Nike Men's Dri-FIT Victory Golf Polo",
         108,
         5400.0
        ],
        [
         "Honolulu",
         "Under Armour Girls' Toddler Spine Surge Runni",
         108,
         4318.920059204102
        ],
        [
         "Compton",
         "Perfect Fitness Perfect Rip Deck",
         108,
         6478.920192718506
        ],
        [
         "El Cajon",
         "Nike Men's Dri-FIT Victory Golf Polo",
         108,
         5400.0
        ],
        [
         "Oxnard",
         "Perfect Fitness Perfect Rip Deck",
         107,
         6418.930202484131
        ],
        [
         "Albuquerque",
         "Nike Men's Free 5.0+ Running Shoe",
         107,
         10698.93002319336
        ],
        [
         "Orlando",
         "Nike Men's Free 5.0+ Running Shoe",
         107,
         10698.929969787598
        ],
        [
         "Modesto",
         "Nike Men's Dri-FIT Victory Golf Polo",
         106,
         5300.0
        ],
        [
         "Fort Lauderdale",
         "Under Armour Girls' Toddler Spine Surge Runni",
         106,
         4238.9400634765625
        ],
        [
         "Costa Mesa",
         "Perfect Fitness Perfect Rip Deck",
         106,
         6358.94021987915
        ],
        [
         "Amarillo",
         "O'Brien Men's Neoprene Life Vest",
         105,
         5247.899959564209
        ],
        [
         "Mission Viejo",
         "Perfect Fitness Perfect Rip Deck",
         105,
         6298.950164794922
        ],
        [
         "San Bernardino",
         "Nike Men's Dri-FIT Victory Golf Polo",
         105,
         5250.0
        ],
        [
         "San Bernardino",
         "Perfect Fitness Perfect Rip Deck",
         105,
         6298.950180053711
        ],
        [
         "Sugar Land",
         "Nike Men's Dri-FIT Victory Golf Polo",
         104,
         5200.0
        ],
        [
         "Van Nuys",
         "Perfect Fitness Perfect Rip Deck",
         104,
         6238.960155487061
        ],
        [
         "Eugene",
         "Perfect Fitness Perfect Rip Deck",
         104,
         6238.960178375244
        ],
        [
         "Sacramento",
         "Nike Men's Dri-FIT Victory Golf Polo",
         104,
         5200.0
        ],
        [
         "Mesa",
         "Nike Men's Dri-FIT Victory Golf Polo",
         104,
         5200.0
        ],
        [
         "Pompano Beach",
         "Nike Men's Free 5.0+ Running Shoe",
         104,
         10398.959953308105
        ],
        [
         "Santa Cruz",
         "Perfect Fitness Perfect Rip Deck",
         103,
         6178.970176696777
        ],
        [
         "Modesto",
         "Perfect Fitness Perfect Rip Deck",
         103,
         6178.9701499938965
        ],
        [
         "Salt Lake City",
         "O'Brien Men's Neoprene Life Vest",
         103,
         5147.939960479736
        ],
        [
         "Union City",
         "Nike Men's Dri-FIT Victory Golf Polo",
         103,
         5150.0
        ],
        [
         "Meridian",
         "Perfect Fitness Perfect Rip Deck",
         103,
         6178.970169067383
        ],
        [
         "Fullerton",
         "Perfect Fitness Perfect Rip Deck",
         103,
         6178.970176696777
        ],
        [
         "Hayward",
         "Perfect Fitness Perfect Rip Deck",
         103,
         6178.970142364502
        ],
        [
         "Escondido",
         "Under Armour Girls' Toddler Spine Surge Runni",
         102,
         4078.9800605773926
        ],
        [
         "Jacksonville",
         "Perfect Fitness Perfect Rip Deck",
         102,
         6118.980182647705
        ],
        [
         "Lakewood",
         "Perfect Fitness Perfect Rip Deck",
         102,
         6118.980155944824
        ],
        [
         "Mission Viejo",
         "Nike Men's Dri-FIT Victory Golf Polo",
         102,
         5100.0
        ],
        [
         "Mission Viejo",
         "O'Brien Men's Neoprene Life Vest",
         102,
         5097.959941864014
        ],
        [
         "Richmond",
         "Nike Men's Free 5.0+ Running Shoe",
         102,
         10198.980003356934
        ],
        [
         "Riverside",
         "Nike Men's Dri-FIT Victory Golf Polo",
         102,
         5100.0
        ],
        [
         "Winnetka",
         "Perfect Fitness Perfect Rip Deck",
         102,
         6118.980155944824
        ],
        [
         "Santa Ana",
         "Nike Men's Free 5.0+ Running Shoe",
         102,
         10198.980018615723
        ],
        [
         "Staten Island",
         "Perfect Fitness Perfect Rip Deck",
         102,
         6118.980175018311
        ],
        [
         "Anaheim",
         "Perfect Fitness Perfect Rip Deck",
         102,
         6118.980163574219
        ],
        [
         "Carlsbad",
         "Perfect Fitness Perfect Rip Deck",
         102,
         6118.980163574219
        ],
        [
         "Newburgh",
         "Nike Men's Dri-FIT Victory Golf Polo",
         102,
         5100.0
        ],
        [
         "Brownsville",
         "Perfect Fitness Perfect Rip Deck",
         101,
         6058.990177154541
        ],
        [
         "Ontario",
         "O'Brien Men's Neoprene Life Vest",
         101,
         5047.97993850708
        ],
        [
         "Jacksonville",
         "O'Brien Men's Neoprene Life Vest",
         101,
         5047.979934692383
        ],
        [
         "Jersey City",
         "Perfect Fitness Perfect Rip Deck",
         101,
         6058.99015045166
        ],
        [
         "Rome",
         "Perfect Fitness Perfect Rip Deck",
         100,
         5999.000164031982
        ],
        [
         "Santa Ana",
         "Under Armour Girls' Toddler Spine Surge Runni",
         100,
         3999.0000648498535
        ],
        [
         "Middletown",
         "Nike Men's Dri-FIT Victory Golf Polo",
         100,
         5000.0
        ],
        [
         "Pompano Beach",
         "Under Armour Girls' Toddler Spine Surge Runni",
         100,
         3999.0000648498535
        ],
        [
         "Garden Grove",
         "Perfect Fitness Perfect Rip Deck",
         100,
         5999.000148773193
        ],
        [
         "Apex",
         "Nike Men's Dri-FIT Victory Golf Polo",
         100,
         5000.0
        ],
        [
         "Newark",
         "Under Armour Girls' Toddler Spine Surge Runni",
         99,
         3959.0100708007812
        ],
        [
         "Roswell",
         "Perfect Fitness Perfect Rip Deck",
         99,
         5939.010177612305
        ],
        [
         "Sacramento",
         "O'Brien Men's Neoprene Life Vest",
         99,
         4948.019969940186
        ],
        [
         "Greeley",
         "Nike Men's Dri-FIT Victory Golf Polo",
         99,
         4950.0
        ],
        [
         "Middletown",
         "O'Brien Men's Neoprene Life Vest",
         99,
         4948.019950866699
        ],
        [
         "Elyria",
         "Perfect Fitness Perfect Rip Deck",
         98,
         5879.020175933838
        ],
        [
         "Riverside",
         "Nike Men's Free 5.0+ Running Shoe",
         98,
         9799.019981384277
        ],
        [
         "Encinitas",
         "Perfect Fitness Perfect Rip Deck",
         98,
         5879.020137786865
        ],
        [
         "Glendale",
         "Perfect Fitness Perfect Rip Deck",
         98,
         5879.020168304443
        ],
        [
         "Middletown",
         "Perfect Fitness Perfect Rip Deck",
         98,
         5879.020160675049
        ],
        [
         "Glendale",
         "O'Brien Men's Neoprene Life Vest",
         98,
         4898.039966583252
        ],
        [
         "Hayward",
         "Nike Men's Free 5.0+ Running Shoe",
         98,
         9799.019966125488
        ],
        [
         "West Chester",
         "Nike Men's Free 5.0+ Running Shoe",
         97,
         9699.030006408691
        ],
        [
         "Pomona",
         "Perfect Fitness Perfect Rip Deck",
         97,
         5819.030158996582
        ],
        [
         "Lockport",
         "Perfect Fitness Perfect Rip Deck",
         97,
         5819.030158996582
        ],
        [
         "Ann Arbor",
         "Nike Men's Dri-FIT Victory Golf Polo",
         97,
         4850.0
        ],
        [
         "Wayne",
         "Perfect Fitness Perfect Rip Deck",
         96,
         5759.040176391602
        ],
        [
         "Winnetka",
         "O'Brien Men's Neoprene Life Vest",
         96,
         4798.0799560546875
        ],
        [
         "Simi Valley",
         "O'Brien Men's Neoprene Life Vest",
         95,
         4748.099956512451
        ],
        [
         "Albuquerque",
         "Under Armour Girls' Toddler Spine Surge Runni",
         95,
         3799.050064086914
        ],
        [
         "New Orleans",
         "Under Armour Girls' Toddler Spine Surge Runni",
         95,
         3799.050048828125
        ],
        [
         "Moreno Valley",
         "Perfect Fitness Perfect Rip Deck",
         94,
         5639.060165405273
        ],
        [
         "Apex",
         "Perfect Fitness Perfect Rip Deck",
         94,
         5639.060146331787
        ],
        [
         "Carlisle",
         "Perfect Fitness Perfect Rip Deck",
         94,
         5639.060169219971
        ],
        [
         "Louisville",
         "Perfect Fitness Perfect Rip Deck",
         94,
         5639.060165405273
        ],
        [
         "Denver",
         "Perfect Fitness Perfect Rip Deck",
         94,
         5639.060165405273
        ],
        [
         "Florissant",
         "O'Brien Men's Neoprene Life Vest",
         94,
         4698.119960784912
        ],
        [
         "York",
         "Perfect Fitness Perfect Rip Deck",
         93,
         5579.07014465332
        ],
        [
         "Irving",
         "Perfect Fitness Perfect Rip Deck",
         93,
         5579.070175170898
        ],
        [
         "Modesto",
         "O'Brien Men's Neoprene Life Vest",
         93,
         4648.139938354492
        ],
        [
         "Garden Grove",
         "Nike Men's Dri-FIT Victory Golf Polo",
         93,
         4650.0
        ],
        [
         "Carlsbad",
         "O'Brien Men's Neoprene Life Vest",
         93,
         4648.139949798584
        ],
        [
         "Hyattsville",
         "Perfect Fitness Perfect Rip Deck",
         92,
         5519.080150604248
        ],
        [
         "Daly City",
         "Perfect Fitness Perfect Rip Deck",
         92,
         5519.080165863037
        ],
        [
         "Indianapolis",
         "Perfect Fitness Perfect Rip Deck",
         92,
         5519.080158233643
        ],
        [
         "Saint Louis",
         "Nike Men's Free 5.0+ Running Shoe",
         92,
         9199.079933166504
        ],
        [
         "Stockton",
         "Nike Men's Dri-FIT Victory Golf Polo",
         92,
         4600.0
        ],
        [
         "Fayetteville",
         "Perfect Fitness Perfect Rip Deck",
         92,
         5519.08016204834
        ],
        [
         "Hollywood",
         "Nike Men's Dri-FIT Victory Golf Polo",
         92,
         4600.0
        ],
        [
         "Long Beach",
         "Under Armour Girls' Toddler Spine Surge Runni",
         91,
         3639.0900917053223
        ],
        [
         "Salem",
         "Nike Men's Dri-FIT Victory Golf Polo",
         91,
         4550.0
        ],
        [
         "West Covina",
         "O'Brien Men's Neoprene Life Vest",
         91,
         4548.179954528809
        ],
        [
         "Augusta",
         "O'Brien Men's Neoprene Life Vest",
         91,
         4548.179954528809
        ],
        [
         "Bend",
         "Nike Men's Dri-FIT Victory Golf Polo",
         91,
         4550.0
        ],
        [
         "Austin",
         "Nike Men's Dri-FIT Victory Golf Polo",
         90,
         4500.0
        ],
        [
         "San Juan",
         "O'Brien Men's Neoprene Life Vest",
         90,
         4498.1999588012695
        ],
        [
         "Staten Island",
         "O'Brien Men's Neoprene Life Vest",
         90,
         4498.199932098389
        ],
        [
         "Eugene",
         "O'Brien Men's Neoprene Life Vest",
         90,
         4498.199947357178
        ],
        [
         "Fort Worth",
         "Nike Men's Free 5.0+ Running Shoe",
         90,
         8999.099998474121
        ],
        [
         "Plano",
         "O'Brien Men's Neoprene Life Vest",
         90,
         4498.199962615967
        ],
        [
         "Vista",
         "Perfect Fitness Perfect Rip Deck",
         89,
         5339.11014175415
        ],
        [
         "Bakersfield",
         "Under Armour Girls' Toddler Spine Surge Runni",
         89,
         3559.1100578308105
        ],
        [
         "Chandler",
         "Perfect Fitness Perfect Rip Deck",
         89,
         5339.110137939453
        ],
        [
         "Sugar Land",
         "O'Brien Men's Neoprene Life Vest",
         88,
         4398.239959716797
        ],
        [
         "Oxnard",
         "Nike Men's Dri-FIT Victory Golf Polo",
         88,
         4400.0
        ],
        [
         "Elgin",
         "Nike Men's Free 5.0+ Running Shoe",
         88,
         8799.119972229004
        ],
        [
         "Fort Worth",
         "Under Armour Girls' Toddler Spine Surge Runni",
         88,
         3519.1200828552246
        ],
        [
         "San Bernardino",
         "O'Brien Men's Neoprene Life Vest",
         87,
         4348.259967803955
        ],
        [
         "San Francisco",
         "Under Armour Girls' Toddler Spine Surge Runni",
         87,
         3479.1300506591797
        ],
        [
         "Seattle",
         "Perfect Fitness Perfect Rip Deck",
         87,
         5219.130165100098
        ],
        [
         "Greenville",
         "Nike Men's Dri-FIT Victory Golf Polo",
         87,
         4350.0
        ],
        [
         "Yonkers",
         "Perfect Fitness Perfect Rip Deck",
         87,
         5219.130142211914
        ],
        [
         "Greensboro",
         "Nike Men's Dri-FIT Victory Golf Polo",
         87,
         4350.0
        ],
        [
         "Carol Stream",
         "Perfect Fitness Perfect Rip Deck",
         87,
         5219.130165100098
        ],
        [
         "Del Rio",
         "Perfect Fitness Perfect Rip Deck",
         87,
         5219.130142211914
        ],
        [
         "Chula Vista",
         "Nike Men's Dri-FIT Victory Golf Polo",
         85,
         4250.0
        ],
        [
         "Sunnyvale",
         "Nike Men's Dri-FIT Victory Golf Polo",
         85,
         4250.0
        ],
        [
         "Irwin",
         "Perfect Fitness Perfect Rip Deck",
         84,
         5039.160129547119
        ],
        [
         "Corona",
         "Nike Men's Free 5.0+ Running Shoe",
         84,
         8399.159957885742
        ],
        [
         "La Crosse",
         "Nike Men's Dri-FIT Victory Golf Polo",
         84,
         4200.0
        ],
        [
         "Wichita",
         "O'Brien Men's Neoprene Life Vest",
         84,
         4198.319953918457
        ],
        [
         "Florissant",
         "Nike Men's Dri-FIT Victory Golf Polo",
         84,
         4200.0
        ],
        [
         "Hayward",
         "Nike Men's Dri-FIT Victory Golf Polo",
         84,
         4200.0
        ],
        [
         "Glendale",
         "Nike Men's Dri-FIT Victory Golf Polo",
         84,
         4200.0
        ],
        [
         "Hamilton",
         "Perfect Fitness Perfect Rip Deck",
         84,
         5039.160144805908
        ],
        [
         "Milford",
         "Nike Men's Dri-FIT Victory Golf Polo",
         83,
         4150.0
        ],
        [
         "Orlando",
         "Under Armour Girls' Toddler Spine Surge Runni",
         83,
         3319.1700286865234
        ],
        [
         "Saint Paul",
         "Under Armour Girls' Toddler Spine Surge Runni",
         83,
         3319.170063018799
        ],
        [
         "Princeton",
         "Perfect Fitness Perfect Rip Deck",
         83,
         4979.17013168335
        ],
        [
         "San Benito",
         "Perfect Fitness Perfect Rip Deck",
         83,
         4979.170124053955
        ],
        [
         "Sunnyvale",
         "Perfect Fitness Perfect Rip Deck",
         83,
         4979.170146942139
        ],
        [
         "Tallahassee",
         "O'Brien Men's Neoprene Life Vest",
         83,
         4148.339958190918
        ],
        [
         "Winnetka",
         "Nike Men's Dri-FIT Victory Golf Polo",
         83,
         4150.0
        ],
        [
         "Loveland",
         "Nike Men's Dri-FIT Victory Golf Polo",
         83,
         4150.0
        ],
        [
         "Oxnard",
         "O'Brien Men's Neoprene Life Vest",
         83,
         4148.339962005615
        ],
        [
         "Portland",
         "Under Armour Girls' Toddler Spine Surge Runni",
         83,
         3319.1700592041016
        ],
        [
         "Lancaster",
         "Nike Men's CJ Elite 2 TD Football Cleat",
         83,
         10789.170455932617
        ],
        [
         "Jacksonville",
         "Nike Men's Dri-FIT Victory Golf Polo",
         83,
         4150.0
        ],
        [
         "New Bedford",
         "Nike Men's Dri-FIT Victory Golf Polo",
         82,
         4100.0
        ],
        [
         "North Hollywood",
         "Perfect Fitness Perfect Rip Deck",
         82,
         4919.180130004883
        ],
        [
         "Plymouth",
         "Perfect Fitness Perfect Rip Deck",
         82,
         4919.18013381958
        ],
        [
         "Union City",
         "Perfect Fitness Perfect Rip Deck",
         82,
         4919.180141448975
        ],
        [
         "Hialeah",
         "Nike Men's Free 5.0+ Running Shoe",
         82,
         8199.18002319336
        ],
        [
         "Irving",
         "O'Brien Men's Neoprene Life Vest",
         82,
         4098.3599853515625
        ],
        [
         "Carrollton",
         "Perfect Fitness Perfect Rip Deck",
         82,
         4919.180137634277
        ],
        [
         "Brownsville",
         "Nike Men's Dri-FIT Victory Golf Polo",
         82,
         4100.0
        ],
        [
         "Apex",
         "O'Brien Men's Neoprene Life Vest",
         81,
         4048.3799629211426
        ],
        [
         "Bell Gardens",
         "O'Brien Men's Neoprene Life Vest",
         81,
         4048.3799591064453
        ],
        [
         "Mesa",
         "Perfect Fitness Perfect Rip Deck",
         81,
         4859.190143585205
        ],
        [
         "Milford",
         "O'Brien Men's Neoprene Life Vest",
         81,
         4048.37996673584
        ],
        [
         "Moline",
         "Nike Men's Dri-FIT Victory Golf Polo",
         81,
         4050.0
        ],
        [
         "Roswell",
         "Nike Men's Dri-FIT Victory Golf Polo",
         81,
         4050.0
        ],
        [
         "Carlisle",
         "Nike Men's Dri-FIT Victory Golf Polo",
         81,
         4050.0
        ],
        [
         "Round Rock",
         "Perfect Fitness Perfect Rip Deck",
         81,
         4859.190147399902
        ],
        [
         "Spring Valley",
         "O'Brien Men's Neoprene Life Vest",
         81,
         4048.3799476623535
        ],
        [
         "El Cajon",
         "Perfect Fitness Perfect Rip Deck",
         81,
         4859.190147399902
        ],
        [
         "Wyoming",
         "Perfect Fitness Perfect Rip Deck",
         81,
         4859.190128326416
        ],
        [
         "Fremont",
         "Nike Men's Dri-FIT Victory Golf Polo",
         81,
         4050.0
        ],
        [
         "Ontario",
         "Nike Men's Free 5.0+ Running Shoe",
         81,
         8099.190002441406
        ],
        [
         "Humacao",
         "O'Brien Men's Neoprene Life Vest",
         80,
         3998.399959564209
        ],
        [
         "Marietta",
         "Under Armour Girls' Toddler Spine Surge Runni",
         80,
         3199.200065612793
        ],
        [
         "Moline",
         "Perfect Fitness Perfect Rip Deck",
         80,
         4799.200134277344
        ],
        [
         "Tallahassee",
         "Perfect Fitness Perfect Rip Deck",
         80,
         4799.200138092041
        ],
        [
         "Oregon City",
         "O'Brien Men's Neoprene Life Vest",
         80,
         3998.399971008301
        ],
        [
         "Saint Louis",
         "Under Armour Girls' Toddler Spine Surge Runni",
         80,
         3199.2000465393066
        ],
        [
         "Bowling Green",
         "Perfect Fitness Perfect Rip Deck",
         80,
         4799.2001304626465
        ],
        [
         "Hamilton",
         "Nike Men's Dri-FIT Victory Golf Polo",
         80,
         4000.0
        ],
        [
         "Kent",
         "Perfect Fitness Perfect Rip Deck",
         80,
         4799.200149536133
        ],
        [
         "Highland",
         "Perfect Fitness Perfect Rip Deck",
         79,
         4739.21012878418
        ],
        [
         "Panorama City",
         "Perfect Fitness Perfect Rip Deck",
         79,
         4739.210109710693
        ],
        [
         "Pomona",
         "O'Brien Men's Neoprene Life Vest",
         79,
         3948.4199752807617
        ],
        [
         "Salinas",
         "Perfect Fitness Perfect Rip Deck",
         79,
         4739.2101402282715
        ],
        [
         "Roswell",
         "O'Brien Men's Neoprene Life Vest",
         79,
         3948.41996383667
        ],
        [
         "Ventura",
         "Perfect Fitness Perfect Rip Deck",
         79,
         4739.210117340088
        ],
        [
         "Ann Arbor",
         "Perfect Fitness Perfect Rip Deck",
         79,
         4739.210124969482
        ],
        [
         "Granada Hills",
         "Nike Men's Dri-FIT Victory Golf Polo",
         79,
         3950.0
        ],
        [
         "Anaheim",
         "Under Armour Girls' Toddler Spine Surge Runni",
         79,
         3159.210075378418
        ],
        [
         "Jackson",
         "Perfect Fitness Perfect Rip Deck",
         78,
         4679.220146179199
        ],
        [
         "Mayaguez",
         "Perfect Fitness Perfect Rip Deck",
         78,
         4679.220142364502
        ],
        [
         "Oceanside",
         "Nike Men's Free 5.0+ Running Shoe",
         78,
         7799.220001220703
        ],
        [
         "Oregon City",
         "Perfect Fitness Perfect Rip Deck",
         78,
         4679.220134735107
        ],
        [
         "Fullerton",
         "Nike Men's Dri-FIT Victory Golf Polo",
         78,
         3900.0
        ],
        [
         "Hamilton",
         "O'Brien Men's Neoprene Life Vest",
         78,
         3898.439971923828
        ],
        [
         "San Juan",
         "Nike Men's Free 5.0+ Running Shoe",
         78,
         7799.219985961914
        ],
        [
         "Endicott",
         "Nike Men's Free 5.0+ Running Shoe",
         78,
         7799.220031738281
        ],
        [
         "Cumberland",
         "Nike Men's Dri-FIT Victory Golf Polo",
         78,
         3900.0
        ],
        [
         "East Lansing",
         "Nike Men's Dri-FIT Victory Golf Polo",
         78,
         3900.0
        ],
        [
         "Cumberland",
         "Perfect Fitness Perfect Rip Deck",
         77,
         4619.230136871338
        ],
        [
         "Fairfield",
         "O'Brien Men's Neoprene Life Vest",
         77,
         3848.459945678711
        ],
        [
         "Harvey",
         "Perfect Fitness Perfect Rip Deck",
         77,
         4619.230133056641
        ],
        [
         "Lawrence",
         "Nike Men's Dri-FIT Victory Golf Polo",
         77,
         3850.0
        ],
        [
         "Walnut",
         "Perfect Fitness Perfect Rip Deck",
         77,
         4619.230125427246
        ],
        [
         "Augusta",
         "Perfect Fitness Perfect Rip Deck",
         77,
         4619.230136871338
        ],
        [
         "Austin",
         "Perfect Fitness Perfect Rip Deck",
         77,
         4619.23010635376
        ],
        [
         "Milford",
         "Perfect Fitness Perfect Rip Deck",
         77,
         4619.230125427246
        ],
        [
         "Carol Stream",
         "Nike Men's Dri-FIT Victory Golf Polo",
         77,
         3850.0
        ],
        [
         "Loveland",
         "Perfect Fitness Perfect Rip Deck",
         77,
         4619.230117797852
        ],
        [
         "Fontana",
         "Nike Men's Dri-FIT Victory Golf Polo",
         76,
         3800.0
        ],
        [
         "Rowland Heights",
         "Nike Men's Dri-FIT Victory Golf Polo",
         76,
         3800.0
        ],
        [
         "Jacksonville",
         "Nike Men's Free 5.0+ Running Shoe",
         76,
         7599.240005493164
        ],
        [
         "Salt Lake City",
         "Under Armour Girls' Toddler Spine Surge Runni",
         76,
         3039.240047454834
        ],
        [
         "Santa Cruz",
         "O'Brien Men's Neoprene Life Vest",
         76,
         3798.4799423217773
        ],
        [
         "Lockport",
         "O'Brien Men's Neoprene Life Vest",
         76,
         3798.4799728393555
        ],
        [
         "Winter Park",
         "Perfect Fitness Perfect Rip Deck",
         76,
         4559.240139007568
        ],
        [
         "Opelousas",
         "Perfect Fitness Perfect Rip Deck",
         76,
         4559.240146636963
        ],
        [
         "Rochester",
         "Perfect Fitness Perfect Rip Deck",
         76,
         4559.240123748779
        ],
        [
         "Catonsville",
         "Perfect Fitness Perfect Rip Deck",
         76,
         4559.240119934082
        ],
        [
         "Milwaukee",
         "Nike Men's Dri-FIT Victory Golf Polo",
         75,
         3750.0
        ],
        [
         "Lake Forest",
         "O'Brien Men's Neoprene Life Vest",
         75,
         3748.49995803833
        ],
        [
         "Piscataway",
         "Nike Men's Dri-FIT Victory Golf Polo",
         75,
         3750.0
        ],
        [
         "Princeton",
         "Nike Men's Dri-FIT Victory Golf Polo",
         75,
         3750.0
        ],
        [
         "San Marcos",
         "Nike Men's Dri-FIT Victory Golf Polo",
         75,
         3750.0
        ],
        [
         "Stamford",
         "Perfect Fitness Perfect Rip Deck",
         75,
         4499.250152587891
        ],
        [
         "Sugar Land",
         "Perfect Fitness Perfect Rip Deck",
         75,
         4499.250102996826
        ],
        [
         "Chesapeake",
         "Perfect Fitness Perfect Rip Deck",
         75,
         4499.250141143799
        ],
        [
         "Ventura",
         "Nike Men's Dri-FIT Victory Golf Polo",
         75,
         3750.0
        ],
        [
         "West Covina",
         "Nike Men's Dri-FIT Victory Golf Polo",
         75,
         3750.0
        ],
        [
         "College Station",
         "Nike Men's Dri-FIT Victory Golf Polo",
         75,
         3750.0
        ],
        [
         "Hanford",
         "Nike Men's Dri-FIT Victory Golf Polo",
         75,
         3750.0
        ],
        [
         "Columbia",
         "O'Brien Men's Neoprene Life Vest",
         75,
         3748.4999656677246
        ],
        [
         "Gardena",
         "O'Brien Men's Neoprene Life Vest",
         75,
         3748.499969482422
        ],
        [
         "Garden Grove",
         "Nike Men's Free 5.0+ Running Shoe",
         74,
         7399.260063171387
        ],
        [
         "Daly City",
         "O'Brien Men's Neoprene Life Vest",
         74,
         3698.519973754883
        ],
        [
         "Freeport",
         "Nike Men's Dri-FIT Victory Golf Polo",
         74,
         3700.0
        ],
        [
         "Hickory",
         "Perfect Fitness Perfect Rip Deck",
         74,
         4439.260139465332
        ],
        [
         "Troy",
         "Perfect Fitness Perfect Rip Deck",
         74,
         4439.260105133057
        ],
        [
         "Van Nuys",
         "O'Brien Men's Neoprene Life Vest",
         74,
         3698.51997756958
        ],
        [
         "Zanesville",
         "Nike Men's Dri-FIT Victory Golf Polo",
         74,
         3700.0
        ],
        [
         "Oceanside",
         "Under Armour Girls' Toddler Spine Surge Runni",
         74,
         2959.260055541992
        ],
        [
         "Pharr",
         "Perfect Fitness Perfect Rip Deck",
         74,
         4439.26012802124
        ],
        [
         "Plymouth",
         "O'Brien Men's Neoprene Life Vest",
         74,
         3698.5199546813965
        ],
        [
         "North Richland Hills",
         "O'Brien Men's Neoprene Life Vest",
         74,
         3698.519989013672
        ],
        [
         "Catonsville",
         "O'Brien Men's Neoprene Life Vest",
         74,
         3698.5199432373047
        ],
        [
         "Montebello",
         "Perfect Fitness Perfect Rip Deck",
         74,
         4439.2601318359375
        ],
        [
         "Bridgeton",
         "Nike Men's Dri-FIT Victory Golf Polo",
         73,
         3650.0
        ],
        [
         "Del Rio",
         "Nike Men's Dri-FIT Victory Golf Polo",
         73,
         3650.0
        ],
        [
         "Denver",
         "O'Brien Men's Neoprene Life Vest",
         73,
         3648.539966583252
        ],
        [
         "Fond Du Lac",
         "Perfect Fitness Perfect Rip Deck",
         73,
         4379.270137786865
        ],
        [
         "Hyattsville",
         "O'Brien Men's Neoprene Life Vest",
         73,
         3648.539966583252
        ],
        [
         "Carrollton",
         "O'Brien Men's Neoprene Life Vest",
         73,
         3648.5399742126465
        ],
        [
         "Hyattsville",
         "Nike Men's Dri-FIT Victory Golf Polo",
         73,
         3650.0
        ],
        [
         "Jersey City",
         "Nike Men's Dri-FIT Victory Golf Polo",
         73,
         3650.0
        ],
        [
         "Las Cruces",
         "Perfect Fitness Perfect Rip Deck",
         73,
         4379.270118713379
        ],
        [
         "Longmont",
         "O'Brien Men's Neoprene Life Vest",
         73,
         3648.5399589538574
        ],
        [
         "Manati",
         "O'Brien Men's Neoprene Life Vest",
         73,
         3648.539970397949
        ],
        [
         "Mayaguez",
         "Nike Men's Dri-FIT Victory Golf Polo",
         73,
         3650.0
        ],
        [
         "Ogden",
         "Perfect Fitness Perfect Rip Deck",
         73,
         4379.270130157471
        ],
        [
         "Chandler",
         "Nike Men's Dri-FIT Victory Golf Polo",
         73,
         3650.0
        ],
        [
         "Salem",
         "O'Brien Men's Neoprene Life Vest",
         73,
         3648.53995513916
        ],
        [
         "South El Monte",
         "Perfect Fitness Perfect Rip Deck",
         73,
         4379.270122528076
        ],
        [
         "Columbia",
         "Nike Men's Dri-FIT Victory Golf Polo",
         73,
         3650.0
        ],
        [
         "Woodbridge",
         "Perfect Fitness Perfect Rip Deck",
         73,
         4379.2701416015625
        ],
        [
         "Fresno",
         "Nike Men's Free 5.0+ Running Shoe",
         73,
         7299.269973754883
        ],
        [
         "Mount Prospect",
         "Perfect Fitness Perfect Rip Deck",
         73,
         4379.270126342773
        ],
        [
         "Atlanta",
         "Nike Men's Free 5.0+ Running Shoe",
         73,
         7299.269920349121
        ],
        [
         "Lake Forest",
         "Perfect Fitness Perfect Rip Deck",
         72,
         4319.280113220215
        ],
        [
         "New Haven",
         "Perfect Fitness Perfect Rip Deck",
         72,
         4319.280117034912
        ],
        [
         "Strongsville",
         "Nike Men's Dri-FIT Victory Golf Polo",
         72,
         3600.0
        ],
        [
         "North Hills",
         "Perfect Fitness Perfect Rip Deck",
         72,
         4319.280132293701
        ],
        [
         "San Marcos",
         "O'Brien Men's Neoprene Life Vest",
         72,
         3598.5599670410156
        ],
        [
         "Chandler",
         "O'Brien Men's Neoprene Life Vest",
         72,
         3598.559970855713
        ],
        [
         "Denver",
         "Nike Men's Dri-FIT Victory Golf Polo",
         72,
         3600.0
        ],
        [
         "Freeport",
         "Perfect Fitness Perfect Rip Deck",
         71,
         4259.29012298584
        ],
        [
         "Highland",
         "O'Brien Men's Neoprene Life Vest",
         71,
         3548.5799407958984
        ],
        [
         "Hamtramck",
         "Nike Men's Dri-FIT Victory Golf Polo",
         71,
         3550.0
        ],
        [
         "Jamaica",
         "O'Brien Men's Neoprene Life Vest",
         71,
         3548.5799674987793
        ],
        [
         "Mission",
         "Perfect Fitness Perfect Rip Deck",
         71,
         4259.290115356445
        ],
        [
         "Opa Locka",
         "Perfect Fitness Perfect Rip Deck",
         71,
         4259.290130615234
        ],
        [
         "Pekin",
         "O'Brien Men's Neoprene Life Vest",
         71,
         3548.579948425293
        ],
        [
         "Tustin",
         "Perfect Fitness Perfect Rip Deck",
         71,
         4259.2901039123535
        ],
        [
         "Campbell",
         "Perfect Fitness Perfect Rip Deck",
         71,
         4259.290119171143
        ],
        [
         "Van Nuys",
         "Nike Men's Dri-FIT Victory Golf Polo",
         71,
         3550.0
        ],
        [
         "Daly City",
         "Nike Men's Dri-FIT Victory Golf Polo",
         71,
         3550.0
        ],
        [
         "Raleigh",
         "Nike Men's Free 5.0+ Running Shoe",
         71,
         7099.289993286133
        ],
        [
         "Dorchester Center",
         "Perfect Fitness Perfect Rip Deck",
         71,
         4259.29012298584
        ],
        [
         "Fontana",
         "Perfect Fitness Perfect Rip Deck",
         71,
         4259.2901039123535
        ],
        [
         "Augusta",
         "Nike Men's Dri-FIT Victory Golf Polo",
         71,
         3550.0
        ],
        [
         "Hanford",
         "Perfect Fitness Perfect Rip Deck",
         70,
         4199.300121307373
        ],
        [
         "Fairfield",
         "Perfect Fitness Perfect Rip Deck",
         70,
         4199.300117492676
        ],
        [
         "Humacao",
         "Nike Men's Dri-FIT Victory Golf Polo",
         70,
         3500.0
        ],
        [
         "Indianapolis",
         "Nike Men's Dri-FIT Victory Golf Polo",
         70,
         3500.0
        ],
        [
         "Indianapolis",
         "O'Brien Men's Neoprene Life Vest",
         70,
         3498.5999603271484
        ],
        [
         "Mission Viejo",
         "Nike Men's Free 5.0+ Running Shoe",
         70,
         6999.300003051758
        ],
        [
         "Mount Pleasant",
         "O'Brien Men's Neoprene Life Vest",
         70,
         3498.5999488830566
        ],
        [
         "Mount Prospect",
         "Nike Men's Dri-FIT Victory Golf Polo",
         70,
         3500.0
        ],
        [
         "North Hollywood",
         "Nike Men's Dri-FIT Victory Golf Polo",
         70,
         3500.0
        ],
        [
         "San Sebastian",
         "Perfect Fitness Perfect Rip Deck",
         70,
         4199.300136566162
        ],
        [
         "Compton",
         "Nike Men's Dri-FIT Victory Golf Polo",
         70,
         3500.0
        ],
        [
         "Tampa",
         "Nike Men's Free 5.0+ Running Shoe",
         70,
         6999.300033569336
        ],
        [
         "York",
         "Nike Men's Dri-FIT Victory Golf Polo",
         70,
         3500.0
        ],
        [
         "Tempe",
         "Under Armour Girls' Toddler Spine Surge Runni",
         70,
         2799.3000564575195
        ],
        [
         "York",
         "O'Brien Men's Neoprene Life Vest",
         70,
         3498.5999794006348
        ],
        [
         "Bloomfield",
         "Perfect Fitness Perfect Rip Deck",
         70,
         4199.300132751465
        ],
        [
         "Canton",
         "Perfect Fitness Perfect Rip Deck",
         70,
         4199.300121307373
        ],
        [
         "Enfield",
         "O'Brien Men's Neoprene Life Vest",
         69,
         3448.619956970215
        ],
        [
         "Milwaukee",
         "O'Brien Men's Neoprene Life Vest",
         69,
         3448.619972229004
        ],
        [
         "Mayaguez",
         "O'Brien Men's Neoprene Life Vest",
         69,
         3448.619972229004
        ],
        [
         "Mililani",
         "Nike Men's Dri-FIT Victory Golf Polo",
         69,
         3450.0
        ],
        [
         "Wyandotte",
         "Perfect Fitness Perfect Rip Deck",
         69,
         4139.3101234436035
        ],
        [
         "Raleigh",
         "Nike Men's Dri-FIT Victory Golf Polo",
         69,
         3450.0
        ],
        [
         "Ypsilanti",
         "O'Brien Men's Neoprene Life Vest",
         69,
         3448.619972229004
        ],
        [
         "Columbia",
         "Nike Men's Free 5.0+ Running Shoe",
         69,
         6899.310081481934
        ],
        [
         "Endicott",
         "Perfect Fitness Perfect Rip Deck",
         69,
         4139.310131072998
        ],
        [
         "Azusa",
         "Nike Men's Dri-FIT Victory Golf Polo",
         69,
         3450.0
        ],
        [
         "Anaheim",
         "Nike Men's Free 5.0+ Running Shoe",
         69,
         6899.309997558594
        ],
        [
         "Greeley",
         "O'Brien Men's Neoprene Life Vest",
         68,
         3398.639976501465
        ],
        [
         "Hampton",
         "Perfect Fitness Perfect Rip Deck",
         68,
         4079.3201065063477
        ],
        [
         "Jackson",
         "O'Brien Men's Neoprene Life Vest",
         68,
         3398.6399841308594
        ],
        [
         "La Mesa",
         "O'Brien Men's Neoprene Life Vest",
         68,
         3398.639976501465
        ],
        [
         "Levittown",
         "Perfect Fitness Perfect Rip Deck",
         68,
         4079.3201217651367
        ],
        [
         "Mililani",
         "Perfect Fitness Perfect Rip Deck",
         68,
         4079.320125579834
        ],
        [
         "Mechanicsburg",
         "O'Brien Men's Neoprene Life Vest",
         68,
         3398.6399536132812
        ],
        [
         "Potomac",
         "O'Brien Men's Neoprene Life Vest",
         68,
         3398.6399574279785
        ],
        [
         "San Benito",
         "O'Brien Men's Neoprene Life Vest",
         68,
         3398.6399459838867
        ],
        [
         "San Francisco",
         "Nike Men's Free 5.0+ Running Shoe",
         68,
         6799.31999206543
        ],
        [
         "San Juan",
         "Under Armour Girls' Toddler Spine Surge Runni",
         68,
         2719.3200340270996
        ],
        [
         "Tustin",
         "O'Brien Men's Neoprene Life Vest",
         68,
         3398.6399688720703
        ],
        [
         "Webster",
         "Perfect Fitness Perfect Rip Deck",
         68,
         4079.3201026916504
        ],
        [
         "York",
         "Nike Men's Free 5.0+ Running Shoe",
         68,
         6799.320030212402
        ],
        [
         "Carson",
         "Perfect Fitness Perfect Rip Deck",
         68,
         4079.3200912475586
        ],
        [
         "Granada Hills",
         "O'Brien Men's Neoprene Life Vest",
         68,
         3398.6399536132812
        ],
        [
         "Elyria",
         "Nike Men's Dri-FIT Victory Golf Polo",
         68,
         3400.0
        ],
        [
         "Enfield",
         "Perfect Fitness Perfect Rip Deck",
         68,
         4079.3201332092285
        ],
        [
         "Raleigh",
         "Perfect Fitness Perfect Rip Deck",
         67,
         4019.3301315307617
        ],
        [
         "Palatine",
         "Perfect Fitness Perfect Rip Deck",
         67,
         4019.3300971984863
        ],
        [
         "Plano",
         "Perfect Fitness Perfect Rip Deck",
         67,
         4019.330108642578
        ],
        [
         "San Marcos",
         "Nike Men's Free 5.0+ Running Shoe",
         67,
         6699.3299560546875
        ],
        [
         "Carlsbad",
         "Nike Men's Dri-FIT Victory Golf Polo",
         67,
         3350.0
        ],
        [
         "Newburgh",
         "O'Brien Men's Neoprene Life Vest",
         67,
         3348.6599655151367
        ],
        [
         "Laredo",
         "Under Armour Girls' Toddler Spine Surge Runni",
         67,
         2679.330062866211
        ],
        [
         "Newburgh",
         "Perfect Fitness Perfect Rip Deck",
         67,
         4019.330123901367
        ],
        [
         "Eugene",
         "Nike Men's Free 5.0+ Running Shoe",
         66,
         6599.340019226074
        ],
        [
         "Fairfield",
         "Nike Men's Dri-FIT Victory Golf Polo",
         66,
         3300.0
        ],
        [
         "Lockport",
         "Nike Men's Dri-FIT Victory Golf Polo",
         66,
         3300.0
        ],
        [
         "Endicott",
         "O'Brien Men's Neoprene Life Vest",
         66,
         3298.6799659729004
        ],
        [
         "Mechanicsburg",
         "Perfect Fitness Perfect Rip Deck",
         66,
         3959.3401222229004
        ],
        [
         "Fresno",
         "Under Armour Girls' Toddler Spine Surge Runni",
         66,
         2639.340061187744
        ],
        [
         "Richmond",
         "Under Armour Girls' Toddler Spine Surge Runni",
         66,
         2639.3400650024414
        ],
        [
         "Garden Grove",
         "Under Armour Girls' Toddler Spine Surge Runni",
         66,
         2639.340061187744
        ],
        [
         "Ogden",
         "Nike Men's Dri-FIT Victory Golf Polo",
         66,
         3300.0
        ],
        [
         "Catonsville",
         "Nike Men's Dri-FIT Victory Golf Polo",
         66,
         3300.0
        ],
        [
         "Cerritos",
         "O'Brien Men's Neoprene Life Vest",
         66,
         3298.679973602295
        ],
        [
         "Cerritos",
         "Perfect Fitness Perfect Rip Deck",
         66,
         3959.340118408203
        ],
        [
         "Arlington",
         "Nike Men's Dri-FIT Victory Golf Polo",
         66,
         3300.0
        ],
        [
         "Lake Forest",
         "Nike Men's Free 5.0+ Running Shoe",
         65,
         6499.349967956543
        ],
        [
         "Hamtramck",
         "O'Brien Men's Neoprene Life Vest",
         65,
         3248.6999549865723
        ],
        [
         "La Mirada",
         "Nike Men's Dri-FIT Victory Golf Polo",
         65,
         3250.0
        ],
        [
         "Manati",
         "Nike Men's Dri-FIT Victory Golf Polo",
         65,
         3250.0
        ],
        [
         "North Richland Hills",
         "Perfect Fitness Perfect Rip Deck",
         65,
         3899.350109100342
        ],
        [
         "Pawtucket",
         "Perfect Fitness Perfect Rip Deck",
         65,
         3899.35009765625
        ],
        [
         "San Benito",
         "Nike Men's Free 5.0+ Running Shoe",
         65,
         6499.349998474121
        ],
        [
         "Stockbridge",
         "Perfect Fitness Perfect Rip Deck",
         65,
         3899.350112915039
        ],
        [
         "Azusa",
         "Perfect Fitness Perfect Rip Deck",
         65,
         3899.3501167297363
        ],
        [
         "Gardena",
         "Perfect Fitness Perfect Rip Deck",
         65,
         3899.350112915039
        ],
        [
         "Vega Baja",
         "O'Brien Men's Neoprene Life Vest",
         65,
         3248.6999549865723
        ],
        [
         "Winnetka",
         "Nike Men's Free 5.0+ Running Shoe",
         65,
         6499.350006103516
        ],
        [
         "Milpitas",
         "Perfect Fitness Perfect Rip Deck",
         64,
         3839.360092163086
        ],
        [
         "Plano",
         "Nike Men's Dri-FIT Victory Golf Polo",
         64,
         3200.0
        ],
        [
         "Pekin",
         "Nike Men's Free 5.0+ Running Shoe",
         64,
         6399.360046386719
        ],
        [
         "Quincy",
         "Nike Men's Dri-FIT Victory Golf Polo",
         64,
         3200.0
        ],
        [
         "Quincy",
         "O'Brien Men's Neoprene Life Vest",
         64,
         3198.7199668884277
        ],
        [
         "Rome",
         "O'Brien Men's Neoprene Life Vest",
         64,
         3198.719970703125
        ],
        [
         "Stockton",
         "O'Brien Men's Neoprene Life Vest",
         64,
         3198.7199783325195
        ],
        [
         "Sugar Land",
         "Nike Men's Free 5.0+ Running Shoe",
         64,
         6399.3599853515625
        ],
        [
         "Union",
         "Nike Men's Dri-FIT Victory Golf Polo",
         64,
         3200.0
        ],
        [
         "Lawrence",
         "Perfect Fitness Perfect Rip Deck",
         64,
         3839.3601112365723
        ],
        [
         "Weslaco",
         "O'Brien Men's Neoprene Life Vest",
         64,
         3198.7199783325195
        ],
        [
         "Atlanta",
         "Under Armour Girls' Toddler Spine Surge Runni",
         64,
         2559.360076904297
        ],
        [
         "Far Rockaway",
         "Perfect Fitness Perfect Rip Deck",
         64,
         3839.360118865967
        ],
        [
         "Ballwin",
         "O'Brien Men's Neoprene Life Vest",
         64,
         3198.719970703125
        ],
        [
         "Brownsville",
         "O'Brien Men's Neoprene Life Vest",
         64,
         3198.7199745178223
        ],
        [
         "Costa Mesa",
         "O'Brien Men's Neoprene Life Vest",
         63,
         3148.739963531494
        ],
        [
         "Dearborn",
         "Nike Men's Dri-FIT Victory Golf Polo",
         63,
         3150.0
        ],
        [
         "Fayetteville",
         "Nike Men's Dri-FIT Victory Golf Polo",
         63,
         3150.0
        ],
        [
         "Huntington Beach",
         "O'Brien Men's Neoprene Life Vest",
         63,
         3148.7399711608887
        ],
        [
         "Fullerton",
         "O'Brien Men's Neoprene Life Vest",
         63,
         3148.739959716797
        ],
        [
         "Irving",
         "Nike Men's Dri-FIT Victory Golf Polo",
         63,
         3150.0
        ],
        [
         "Longmont",
         "Perfect Fitness Perfect Rip Deck",
         63,
         3779.370105743408
        ],
        [
         "Mechanicsburg",
         "Nike Men's Dri-FIT Victory Golf Polo",
         63,
         3150.0
        ],
        [
         "North Hollywood",
         "O'Brien Men's Neoprene Life Vest",
         63,
         3148.7399711608887
        ],
        [
         "North Richland Hills",
         "Nike Men's Dri-FIT Victory Golf Polo",
         63,
         3150.0
        ],
        [
         "Paramount",
         "Perfect Fitness Perfect Rip Deck",
         63,
         3779.3701133728027
        ],
        [
         "Silver Spring",
         "Nike Men's Dri-FIT Victory Golf Polo",
         63,
         3150.0
        ],
        [
         "Scottsdale",
         "Perfect Fitness Perfect Rip Deck",
         63,
         3779.370101928711
        ],
        [
         "South Richmond Hill",
         "O'Brien Men's Neoprene Life Vest",
         63,
         3148.739959716797
        ],
        [
         "Stockbridge",
         "Nike Men's Dri-FIT Victory Golf Polo",
         63,
         3150.0
        ],
        [
         "Tampa",
         "Under Armour Girls' Toddler Spine Surge Runni",
         63,
         2519.370048522949
        ],
        [
         "Warren",
         "Perfect Fitness Perfect Rip Deck",
         63,
         3779.370105743408
        ],
        [
         "Columbia",
         "Under Armour Girls' Toddler Spine Surge Runni",
         63,
         2519.370048522949
        ],
        [
         "Pekin",
         "Perfect Fitness Perfect Rip Deck",
         63,
         3779.370090484619
        ],
        [
         "Portland",
         "Nike Men's Free 5.0+ Running Shoe",
         63,
         6299.369972229004
        ],
        [
         "Bayamon",
         "Nike Men's Free 5.0+ Running Shoe",
         63,
         6299.369979858398
        ],
        [
         "Antioch",
         "Under Armour Girls' Toddler Spine Surge Runni",
         63,
         2519.37007522583
        ],
        [
         "Baldwin Park",
         "Perfect Fitness Perfect Rip Deck",
         63,
         3779.370105743408
        ],
        [
         "Greenville",
         "Nike Men's Free 5.0+ Running Shoe",
         62,
         6199.380012512207
        ],
        [
         "Hayward",
         "Under Armour Girls' Toddler Spine Surge Runni",
         62,
         2479.3800201416016
        ],
        [
         "Jackson",
         "Nike Men's Dri-FIT Victory Golf Polo",
         62,
         3100.0
        ],
        [
         "New Bedford",
         "O'Brien Men's Neoprene Life Vest",
         62,
         3098.7599601745605
        ],
        [
         "Mount Pleasant",
         "Perfect Fitness Perfect Rip Deck",
         62,
         3719.3801193237305
        ],
        [
         "Ontario",
         "Under Armour Girls' Toddler Spine Surge Runni",
         62,
         2479.380054473877
        ],
        [
         "Pacoima",
         "O'Brien Men's Neoprene Life Vest",
         62,
         3098.759963989258
        ],
        [
         "Tallahassee",
         "Nike Men's Dri-FIT Victory Golf Polo",
         62,
         3100.0
        ],
        [
         "Tonawanda",
         "O'Brien Men's Neoprene Life Vest",
         62,
         3098.7599563598633
        ],
        [
         "Waipahu",
         "Nike Men's Dri-FIT Victory Golf Polo",
         62,
         3100.0
        ],
        [
         "Granada Hills",
         "Perfect Fitness Perfect Rip Deck",
         62,
         3719.3801078796387
        ],
        [
         "Laredo",
         "Nike Men's Free 5.0+ Running Shoe",
         62,
         6199.380058288574
        ],
        [
         "Woodbridge",
         "Nike Men's Dri-FIT Victory Golf Polo",
         62,
         3100.0
        ],
        [
         "Bell Gardens",
         "Perfect Fitness Perfect Rip Deck",
         62,
         3719.3801193237305
        ],
        [
         "Fremont",
         "O'Brien Men's Neoprene Life Vest",
         62,
         3098.7599868774414
        ],
        [
         "Chula Vista",
         "O'Brien Men's Neoprene Life Vest",
         62,
         3098.759979248047
        ],
        [
         "Corona",
         "Under Armour Girls' Toddler Spine Surge Runni",
         62,
         2479.3800354003906
        ],
        [
         "Frankfort",
         "Perfect Fitness Perfect Rip Deck",
         61,
         3659.3901138305664
        ],
        [
         "Elmhurst",
         "Nike Men's Free 5.0+ Running Shoe",
         61,
         6099.389923095703
        ],
        [
         "Huntington Beach",
         "Perfect Fitness Perfect Rip Deck",
         61,
         3659.390110015869
        ],
        [
         "Jamaica",
         "Under Armour Girls' Toddler Spine Surge Runni",
         61,
         2439.39005279541
        ],
        [
         "Livermore",
         "Perfect Fitness Perfect Rip Deck",
         61,
         3659.3900985717773
        ],
        [
         "Plainfield",
         "Nike Men's Dri-FIT Victory Golf Polo",
         61,
         3050.0
        ],
        [
         "Porterville",
         "Perfect Fitness Perfect Rip Deck",
         61,
         3659.390125274658
        ],
        [
         "Saginaw",
         "Nike Men's Dri-FIT Victory Golf Polo",
         61,
         3050.0
        ],
        [
         "Walnut",
         "O'Brien Men's Neoprene Life Vest",
         61,
         3048.779956817627
        ],
        [
         "Lenoir",
         "Perfect Fitness Perfect Rip Deck",
         61,
         3659.390106201172
        ],
        [
         "Antioch",
         "Nike Men's Free 5.0+ Running Shoe",
         61,
         6099.3900146484375
        ],
        [
         "West Chester",
         "Under Armour Girls' Toddler Spine Surge Runni",
         61,
         2439.3900299072266
        ],
        [
         "Ypsilanti",
         "Nike Men's Dri-FIT Victory Golf Polo",
         61,
         3050.0
        ],
        [
         "Bell Gardens",
         "Nike Men's Dri-FIT Victory Golf Polo",
         61,
         3050.0
        ],
        [
         "La Mesa",
         "Nike Men's Dri-FIT Victory Golf Polo",
         61,
         3050.0
        ],
        [
         "Cypress",
         "Perfect Fitness Perfect Rip Deck",
         61,
         3659.3901023864746
        ],
        [
         "Kaneohe",
         "Nike Men's Dri-FIT Victory Golf Polo",
         61,
         3050.0
        ],
        [
         "Olathe",
         "Perfect Fitness Perfect Rip Deck",
         60,
         3599.400100708008
        ],
        [
         "Toms River",
         "Perfect Fitness Perfect Rip Deck",
         60,
         3599.400100708008
        ],
        [
         "South Ozone Park",
         "Nike Men's Dri-FIT Victory Golf Polo",
         60,
         3000.0
        ],
        [
         "Tustin",
         "Nike Men's Dri-FIT Victory Golf Polo",
         60,
         3000.0
        ],
        [
         "Watsonville",
         "Perfect Fitness Perfect Rip Deck",
         60,
         3599.400100708008
        ],
        [
         "Webster",
         "O'Brien Men's Neoprene Life Vest",
         60,
         2998.7999839782715
        ],
        [
         "Woonsocket",
         "Perfect Fitness Perfect Rip Deck",
         60,
         3599.400100708008
        ],
        [
         "Ypsilanti",
         "Perfect Fitness Perfect Rip Deck",
         60,
         3599.4000968933105
        ],
        [
         "Mesa",
         "O'Brien Men's Neoprene Life Vest",
         60,
         2998.7999839782715
        ],
        [
         "Methuen",
         "Perfect Fitness Perfect Rip Deck",
         60,
         3599.400089263916
        ],
        [
         "Silver Spring",
         "Perfect Fitness Perfect Rip Deck",
         60,
         3599.4000854492188
        ],
        [
         "Marrero",
         "Perfect Fitness Perfect Rip Deck",
         60,
         3599.4001121520996
        ],
        [
         "Greensboro",
         "O'Brien Men's Neoprene Life Vest",
         60,
         2998.7999839782715
        ],
        [
         "Highland Park",
         "Perfect Fitness Perfect Rip Deck",
         60,
         3599.4001083374023
        ],
        [
         "Hanford",
         "O'Brien Men's Neoprene Life Vest",
         59,
         2948.819969177246
        ],
        [
         "Joliet",
         "Perfect Fitness Perfect Rip Deck",
         59,
         3539.41011428833
        ],
        [
         "Louisville",
         "Nike Men's Dri-FIT Victory Golf Polo",
         59,
         2950.0
        ],
        [
         "Mount Pleasant",
         "Nike Men's Dri-FIT Victory Golf Polo",
         59,
         2950.0
        ],
        [
         "Porterville",
         "Under Armour Girls' Toddler Spine Surge Runni",
         59,
         2359.410041809082
        ],
        [
         "Encinitas",
         "Nike Men's Dri-FIT Victory Golf Polo",
         59,
         2950.0
        ],
        [
         "Piscataway",
         "Perfect Fitness Perfect Rip Deck",
         59,
         3539.4100914001465
        ],
        [
         "Powder Springs",
         "Perfect Fitness Perfect Rip Deck",
         59,
         3539.4101066589355
        ],
        [
         "Ridgewood",
         "Nike Men's Dri-FIT Victory Golf Polo",
         59,
         2950.0
        ],
        [
         "Silver Spring",
         "O'Brien Men's Neoprene Life Vest",
         59,
         2948.819965362549
        ],
        [
         "Simi Valley",
         "Nike Men's Free 5.0+ Running Shoe",
         59,
         5899.410026550293
        ],
        [
         "Tallahassee",
         "Nike Men's Free 5.0+ Running Shoe",
         59,
         5899.409973144531
        ],
        [
         "Oak Lawn",
         "Perfect Fitness Perfect Rip Deck",
         59,
         3539.4100952148438
        ],
        [
         "Toms River",
         "Nike Men's Free 5.0+ Running Shoe",
         59,
         5899.410003662109
        ],
        [
         "Tonawanda",
         "Perfect Fitness Perfect Rip Deck",
         59,
         3539.41011428833
        ],
        [
         "Olathe",
         "Nike Men's Dri-FIT Victory Golf Polo",
         59,
         2950.0
        ],
        [
         "Wichita",
         "Perfect Fitness Perfect Rip Deck",
         59,
         3539.4100761413574
        ],
        [
         "Summerville",
         "Perfect Fitness Perfect Rip Deck",
         59,
         3539.4101066589355
        ],
        [
         "Union City",
         "O'Brien Men's Neoprene Life Vest",
         59,
         2948.819984436035
        ],
        [
         "Carlisle",
         "O'Brien Men's Neoprene Life Vest",
         59,
         2948.8199729919434
        ],
        [
         "El Monte",
         "O'Brien Men's Neoprene Life Vest",
         59,
         2948.819980621338
        ],
        [
         "Brighton",
         "Nike Men's Dri-FIT Victory Golf Polo",
         59,
         2950.0
        ],
        [
         "Fort Washington",
         "Perfect Fitness Perfect Rip Deck",
         58,
         3479.4201049804688
        ],
        [
         "Las Cruces",
         "O'Brien Men's Neoprene Life Vest",
         58,
         2898.8399696350098
        ],
        [
         "Strongsville",
         "O'Brien Men's Neoprene Life Vest",
         58,
         2898.8399696350098
        ],
        [
         "Pomona",
         "Nike Men's Free 5.0+ Running Shoe",
         58,
         5799.420013427734
        ],
        [
         "Martinsburg",
         "Perfect Fitness Perfect Rip Deck",
         58,
         3479.420082092285
        ],
        [
         "Chesapeake",
         "O'Brien Men's Neoprene Life Vest",
         58,
         2898.8399810791016
        ],
        [
         "Diamond Bar",
         "Perfect Fitness Perfect Rip Deck",
         58,
         3479.4201011657715
        ],
        [
         "Elgin",
         "Under Armour Girls' Toddler Spine Surge Runni",
         58,
         2319.4200401306152
        ],
        [
         "Elk Grove",
         "Perfect Fitness Perfect Rip Deck",
         58,
         3479.4201126098633
        ],
        [
         "Hagerstown",
         "O'Brien Men's Neoprene Life Vest",
         58,
         2898.8399772644043
        ],
        [
         "Huntington Beach",
         "Nike Men's Dri-FIT Victory Golf Polo",
         58,
         2900.0
        ],
        [
         "Levittown",
         "Nike Men's Dri-FIT Victory Golf Polo",
         58,
         2900.0
        ],
        [
         "Littleton",
         "Perfect Fitness Perfect Rip Deck",
         58,
         3479.4201011657715
        ],
        [
         "Livermore",
         "Nike Men's Dri-FIT Victory Golf Polo",
         58,
         2900.0
        ],
        [
         "Stamford",
         "Nike Men's Dri-FIT Victory Golf Polo",
         58,
         2900.0
        ],
        [
         "Union City",
         "Nike Men's Free 5.0+ Running Shoe",
         58,
         5799.420013427734
        ],
        [
         "Alameda",
         "Perfect Fitness Perfect Rip Deck",
         58,
         3479.4201049804688
        ],
        [
         "Vega Baja",
         "Perfect Fitness Perfect Rip Deck",
         58,
         3479.420093536377
        ],
        [
         "West Covina",
         "Nike Men's Free 5.0+ Running Shoe",
         58,
         5799.419990539551
        ],
        [
         "Opelousas",
         "Nike Men's Dri-FIT Victory Golf Polo",
         58,
         2900.0
        ],
        [
         "Mililani",
         "O'Brien Men's Neoprene Life Vest",
         58,
         2898.8399810791016
        ],
        [
         "Moreno Valley",
         "Under Armour Girls' Toddler Spine Surge Runni",
         58,
         2319.420036315918
        ],
        [
         "Apex",
         "Nike Men's Free 5.0+ Running Shoe",
         58,
         5799.42000579834
        ],
        [
         "Bayamon",
         "Nike Men's Dri-FIT Victory Golf Polo",
         58,
         2900.0
        ],
        [
         "Carolina",
         "Perfect Fitness Perfect Rip Deck",
         58,
         3479.4201049804688
        ],
        [
         "Clovis",
         "O'Brien Men's Neoprene Life Vest",
         58,
         2898.839988708496
        ],
        [
         "Colorado Springs",
         "Nike Men's Free 5.0+ Running Shoe",
         58,
         5799.419982910156
        ],
        [
         "Compton",
         "O'Brien Men's Neoprene Life Vest",
         58,
         2898.840003967285
        ],
        [
         "Bridgeton",
         "Perfect Fitness Perfect Rip Deck",
         57,
         3419.43009185791
        ],
        [
         "Broken Arrow",
         "Perfect Fitness Perfect Rip Deck",
         57,
         3419.4300994873047
        ],
        [
         "Elyria",
         "O'Brien Men's Neoprene Life Vest",
         57,
         2848.8599700927734
        ],
        [
         "East Brunswick",
         "O'Brien Men's Neoprene Life Vest",
         57,
         2848.859962463379
        ],
        [
         "Florissant",
         "Under Armour Girls' Toddler Spine Surge Runni",
         57,
         2279.4300422668457
        ],
        [
         "Hanover",
         "Nike Men's Dri-FIT Victory Golf Polo",
         57,
         2850.0
        ],
        [
         "Littleton",
         "O'Brien Men's Neoprene Life Vest",
         57,
         2848.8599700927734
        ],
        [
         "Rowland Heights",
         "Perfect Fitness Perfect Rip Deck",
         57,
         3419.4300956726074
        ],
        [
         "Roseville",
         "Nike Men's Dri-FIT Victory Golf Polo",
         57,
         2850.0
        ],
        [
         "Arecibo",
         "Nike Men's Dri-FIT Victory Golf Polo",
         57,
         2850.0
        ],
        [
         "East Lansing",
         "Nike Men's Free 5.0+ Running Shoe",
         57,
         5699.429977416992
        ],
        [
         "Federal Way",
         "Perfect Fitness Perfect Rip Deck",
         57,
         3419.430107116699
        ],
        [
         "Florissant",
         "Nike Men's Free 5.0+ Running Shoe",
         57,
         5699.429977416992
        ],
        [
         "Frankfort",
         "O'Brien Men's Neoprene Life Vest",
         57,
         2848.859966278076
        ],
        [
         "Gardena",
         "Nike Men's Dri-FIT Victory Golf Polo",
         57,
         2850.0
        ],
        [
         "Hampton",
         "Nike Men's Dri-FIT Victory Golf Polo",
         57,
         2850.0
        ],
        [
         "Harlingen",
         "Perfect Fitness Perfect Rip Deck",
         57,
         3419.4300804138184
        ],
        [
         "Hendersonville",
         "Nike Men's Dri-FIT Victory Golf Polo",
         57,
         2850.0
        ],
        [
         "Lombard",
         "Nike Men's Dri-FIT Victory Golf Polo",
         57,
         2850.0
        ],
        [
         "Milford",
         "Nike Men's Free 5.0+ Running Shoe",
         57,
         5699.429977416992
        ],
        [
         "Milwaukee",
         "Perfect Fitness Perfect Rip Deck",
         57,
         3419.4300804138184
        ],
        [
         "Murfreesboro",
         "Perfect Fitness Perfect Rip Deck",
         57,
         3419.430088043213
        ],
        [
         "Wichita",
         "Nike Men's Dri-FIT Victory Golf Polo",
         57,
         2850.0
        ],
        [
         "Roswell",
         "Nike Men's Free 5.0+ Running Shoe",
         57,
         5699.430046081543
        ],
        [
         "Waipahu",
         "O'Brien Men's Neoprene Life Vest",
         57,
         2848.859977722168
        ],
        [
         "Ballwin",
         "Nike Men's Dri-FIT Victory Golf Polo",
         57,
         2850.0
        ],
        [
         "Brandon",
         "Perfect Fitness Perfect Rip Deck",
         57,
         3419.430088043213
        ],
        [
         "Algonquin",
         "Perfect Fitness Perfect Rip Deck",
         57,
         3419.4300956726074
        ],
        [
         "Diamond Bar",
         "O'Brien Men's Neoprene Life Vest",
         56,
         2798.879970550537
        ],
        [
         "Lansdale",
         "Perfect Fitness Perfect Rip Deck",
         56,
         3359.4400901794434
        ],
        [
         "Pasadena",
         "Perfect Fitness Perfect Rip Deck",
         56,
         3359.4400901794434
        ],
        [
         "Carol Stream",
         "Under Armour Girls' Toddler Spine Surge Runni",
         56,
         2239.440029144287
        ],
        [
         "Germantown",
         "Perfect Fitness Perfect Rip Deck",
         56,
         3359.4400901794434
        ],
        [
         "North Hills",
         "Nike Men's Dri-FIT Victory Golf Polo",
         56,
         2800.0
        ],
        [
         "North Las Vegas",
         "Perfect Fitness Perfect Rip Deck",
         56,
         3359.4400749206543
        ],
        [
         "Brownsville",
         "Nike Men's Free 5.0+ Running Shoe",
         56,
         5599.440002441406
        ],
        [
         "Sanford",
         "Nike Men's Dri-FIT Victory Golf Polo",
         56,
         2800.0
        ],
        [
         "Panorama City",
         "Nike Men's Dri-FIT Victory Golf Polo",
         56,
         2800.0
        ],
        [
         "Davis",
         "Nike Men's Dri-FIT Victory Golf Polo",
         56,
         2800.0
        ],
        [
         "Orange Park",
         "Perfect Fitness Perfect Rip Deck",
         56,
         3359.440116882324
        ],
        [
         "Ann Arbor",
         "O'Brien Men's Neoprene Life Vest",
         56,
         2798.8799743652344
        ],
        [
         "Bismarck",
         "Perfect Fitness Perfect Rip Deck",
         56,
         3359.4400939941406
        ],
        [
         "Chesapeake",
         "Nike Men's Dri-FIT Victory Golf Polo",
         55,
         2750.0
        ],
        [
         "Burnsville",
         "Nike Men's Dri-FIT Victory Golf Polo",
         55,
         2750.0
        ],
        [
         "Chino",
         "Nike Men's Dri-FIT Victory Golf Polo",
         55,
         2750.0
        ],
        [
         "Denver",
         "Nike Men's Free 5.0+ Running Shoe",
         55,
         5499.449974060059
        ],
        [
         "East Lansing",
         "Perfect Fitness Perfect Rip Deck",
         55,
         3299.450107574463
        ],
        [
         "Methuen",
         "Nike Men's Dri-FIT Victory Golf Polo",
         55,
         2750.0
        ],
        [
         "Brandon",
         "Nike Men's Free 5.0+ Running Shoe",
         55,
         5499.45002746582
        ],
        [
         "Davis",
         "Perfect Fitness Perfect Rip Deck",
         55,
         3299.450096130371
        ],
        [
         "Encinitas",
         "Nike Men's Free 5.0+ Running Shoe",
         55,
         5499.450004577637
        ],
        [
         "Escondido",
         "Nike Men's CJ Elite 2 TD Football Cleat",
         55,
         7149.450302124023
        ],
        [
         "Eugene",
         "Under Armour Girls' Toddler Spine Surge Runni",
         55,
         2199.4500122070312
        ],
        [
         "Madison",
         "Perfect Fitness Perfect Rip Deck",
         55,
         3299.45011138916
        ],
        [
         "Tonawanda",
         "Nike Men's Dri-FIT Victory Golf Polo",
         55,
         2750.0
        ],
        [
         "Sheboygan",
         "O'Brien Men's Neoprene Life Vest",
         55,
         2748.8999786376953
        ],
        [
         "Strongsville",
         "Nike Men's Free 5.0+ Running Shoe",
         55,
         5499.450004577637
        ],
        [
         "Broken Arrow",
         "Nike Men's Dri-FIT Victory Golf Polo",
         55,
         2750.0
        ],
        [
         "Lawrence",
         "O'Brien Men's Neoprene Life Vest",
         55,
         2748.899974822998
        ],
        [
         "Austin",
         "Nike Men's CJ Elite 2 TD Football Cleat",
         55,
         7149.450302124023
        ],
        [
         "El Centro",
         "Perfect Fitness Perfect Rip Deck",
         54,
         3239.460075378418
        ],
        [
         "El Monte",
         "Perfect Fitness Perfect Rip Deck",
         54,
         3239.4600868225098
        ],
        [
         "Hickory",
         "Nike Men's Dri-FIT Victory Golf Polo",
         54,
         2700.0
        ],
        [
         "Moline",
         "O'Brien Men's Neoprene Life Vest",
         54,
         2698.9199752807617
        ],
        [
         "Lawrenceville",
         "Nike Men's Dri-FIT Victory Golf Polo",
         54,
         2700.0
        ],
        [
         "Porterville",
         "O'Brien Men's Neoprene Life Vest",
         54,
         2698.919990539551
        ],
        [
         "San Bernardino",
         "Nike Men's Free 5.0+ Running Shoe",
         54,
         5399.4599609375
        ],
        [
         "South Ozone Park",
         "Perfect Fitness Perfect Rip Deck",
         54,
         3239.4600868225098
        ],
        [
         "Waukegan",
         "Perfect Fitness Perfect Rip Deck",
         54,
         3239.4600830078125
        ],
        [
         "Carol Stream",
         "O'Brien Men's Neoprene Life Vest",
         54,
         2698.9199714660645
        ],
        [
         "Folsom",
         "Perfect Fitness Perfect Rip Deck",
         54,
         3239.460105895996
        ],
        [
         "Hyattsville",
         "Under Armour Girls' Toddler Spine Surge Runni",
         54,
         2159.4600410461426
        ],
        [
         "Jersey City",
         "Nike Men's Free 5.0+ Running Shoe",
         54,
         5399.459976196289
        ],
        [
         "Meridian",
         "O'Brien Men's Neoprene Life Vest",
         54,
         2698.9199714660645
        ],
        [
         "Orange Park",
         "Nike Men's Dri-FIT Victory Golf Polo",
         54,
         2700.0
        ],
        [
         "Rome",
         "Nike Men's Free 5.0+ Running Shoe",
         54,
         5399.460014343262
        ],
        [
         "Round Rock",
         "Nike Men's Dri-FIT Victory Golf Polo",
         54,
         2700.0
        ],
        [
         "Rowland Heights",
         "O'Brien Men's Neoprene Life Vest",
         54,
         2698.9199829101562
        ],
        [
         "Sacramento",
         "Under Armour Girls' Toddler Spine Surge Runni",
         54,
         2159.460033416748
        ],
        [
         "Santa Cruz",
         "Nike Men's Dri-FIT Victory Golf Polo",
         54,
         2700.0
        ],
        [
         "Seattle",
         "Under Armour Girls' Toddler Spine Surge Runni",
         54,
         2159.4600257873535
        ],
        [
         "Stafford",
         "Nike Men's Dri-FIT Victory Golf Polo",
         54,
         2700.0
        ],
        [
         "Troy",
         "Nike Men's Free 5.0+ Running Shoe",
         54,
         5399.460060119629
        ],
        [
         "Trujillo Alto",
         "O'Brien Men's Neoprene Life Vest",
         54,
         2698.9199829101562
        ],
        [
         "Austin",
         "Under Armour Girls' Toddler Spine Surge Runni",
         54,
         2159.460033416748
        ],
        [
         "Ventura",
         "O'Brien Men's Neoprene Life Vest",
         54,
         2698.919967651367
        ],
        [
         "Chapel Hill",
         "Perfect Fitness Perfect Rip Deck",
         54,
         3239.4600944519043
        ],
        [
         "Tustin",
         "Nike Men's Free 5.0+ Running Shoe",
         54,
         5399.4599533081055
        ],
        [
         "Alpharetta",
         "Perfect Fitness Perfect Rip Deck",
         54,
         3239.460102081299
        ],
        [
         "Colorado Springs",
         "O'Brien Men's Neoprene Life Vest",
         53,
         2648.939971923828
        ],
        [
         "Carrollton",
         "Nike Men's Dri-FIT Victory Golf Polo",
         53,
         2650.0
        ],
        [
         "Costa Mesa",
         "Nike Men's Dri-FIT Victory Golf Polo",
         53,
         2650.0
        ],
        [
         "Dorchester Center",
         "O'Brien Men's Neoprene Life Vest",
         53,
         2648.93998336792
        ],
        [
         "Goose Creek",
         "Perfect Fitness Perfect Rip Deck",
         53,
         3179.4701042175293
        ],
        [
         "Louisville",
         "O'Brien Men's Neoprene Life Vest",
         53,
         2648.9399909973145
        ],
        [
         "La Mesa",
         "Perfect Fitness Perfect Rip Deck",
         53,
         3179.4700927734375
        ],
        [
         "Murfreesboro",
         "O'Brien Men's Neoprene Life Vest",
         53,
         2648.939998626709
        ],
        [
         "Pawtucket",
         "O'Brien Men's Neoprene Life Vest",
         53,
         2648.939971923828
        ],
        [
         "Santee",
         "Nike Men's Dri-FIT Victory Golf Polo",
         53,
         2650.0
        ],
        [
         "Carlisle",
         "Under Armour Girls' Toddler Spine Surge Runni",
         53,
         2119.470012664795
        ],
        [
         "Cupertino",
         "Perfect Fitness Perfect Rip Deck",
         53,
         3179.4700965881348
        ],
        [
         "Ewa Beach",
         "Perfect Fitness Perfect Rip Deck",
         53,
         3179.4700813293457
        ],
        [
         "Hendersonville",
         "O'Brien Men's Neoprene Life Vest",
         53,
         2648.9399642944336
        ],
        [
         "La Crosse",
         "O'Brien Men's Neoprene Life Vest",
         53,
         2648.9399757385254
        ],
        [
         "La Crosse",
         "Perfect Fitness Perfect Rip Deck",
         53,
         3179.470085144043
        ],
        [
         "Lenoir",
         "Nike Men's Dri-FIT Victory Golf Polo",
         53,
         2650.0
        ],
        [
         "Mission",
         "O'Brien Men's Neoprene Life Vest",
         53,
         2648.9399757385254
        ],
        [
         "Napa",
         "Perfect Fitness Perfect Rip Deck",
         53,
         3179.4701042175293
        ],
        [
         "New Haven",
         "O'Brien Men's Neoprene Life Vest",
         53,
         2648.9399757385254
        ],
        [
         "North Las Vegas",
         "Nike Men's Dri-FIT Victory Golf Polo",
         53,
         2650.0
        ],
        [
         "Passaic",
         "Nike Men's Dri-FIT Victory Golf Polo",
         53,
         2650.0
        ],
        [
         "Rock Hill",
         "Perfect Fitness Perfect Rip Deck",
         53,
         3179.470100402832
        ],
        [
         "Salt Lake City",
         "Nike Men's Free 5.0+ Running Shoe",
         53,
         5299.4699783325195
        ],
        [
         "Staten Island",
         "Nike Men's Free 5.0+ Running Shoe",
         53,
         5299.470031738281
        ],
        [
         "Vega Baja",
         "Nike Men's Dri-FIT Victory Golf Polo",
         53,
         2650.0
        ],
        [
         "Wayne",
         "Nike Men's Dri-FIT Victory Golf Polo",
         53,
         2650.0
        ],
        [
         "Bayamon",
         "O'Brien Men's Neoprene Life Vest",
         53,
         2648.9399795532227
        ],
        [
         "Bellflower",
         "O'Brien Men's Neoprene Life Vest",
         53,
         2648.939968109131
        ],
        [
         "Findlay",
         "Perfect Fitness Perfect Rip Deck",
         52,
         3119.4800872802734
        ],
        [
         "Greeley",
         "Nike Men's Free 5.0+ Running Shoe",
         52,
         5199.479995727539
        ],
        [
         "Knoxville",
         "Nike Men's Dri-FIT Victory Golf Polo",
         52,
         2600.0
        ],
        [
         "Murfreesboro",
         "Nike Men's Dri-FIT Victory Golf Polo",
         52,
         2600.0
        ],
        [
         "Saginaw",
         "O'Brien Men's Neoprene Life Vest",
         52,
         2598.9599800109863
        ],
        [
         "Sugar Land",
         "Under Armour Girls' Toddler Spine Surge Runni",
         52,
         2079.4800453186035
        ],
        [
         "Clovis",
         "Perfect Fitness Perfect Rip Deck",
         52,
         3119.480110168457
        ],
        [
         "Amarillo",
         "Under Armour Girls' Toddler Spine Surge Runni",
         52,
         2079.480010986328
        ],
        [
         "Fountain Valley",
         "Nike Men's Dri-FIT Victory Golf Polo",
         52,
         2600.0
        ],
        [
         "Humacao",
         "Nike Men's Free 5.0+ Running Shoe",
         52,
         5199.47998046875
        ],
        [
         "Lake Forest",
         "Nike Men's Dri-FIT Victory Golf Polo",
         52,
         2600.0
        ],
        [
         "Lawrenceville",
         "O'Brien Men's Neoprene Life Vest",
         52,
         2598.9599838256836
        ],
        [
         "New Brunswick",
         "O'Brien Men's Neoprene Life Vest",
         52,
         2598.959976196289
        ],
        [
         "Panorama City",
         "O'Brien Men's Neoprene Life Vest",
         52,
         2598.9599800109863
        ],
        [
         "Pharr",
         "Nike Men's Dri-FIT Victory Golf Polo",
         52,
         2600.0
        ],
        [
         "Ridgewood",
         "Perfect Fitness Perfect Rip Deck",
         52,
         3119.4800872802734
        ],
        [
         "Stockton",
         "Nike Men's Free 5.0+ Running Shoe",
         52,
         5199.480010986328
        ],
        [
         "Union",
         "Perfect Fitness Perfect Rip Deck",
         52,
         3119.4801025390625
        ],
        [
         "Vista",
         "Nike Men's Dri-FIT Victory Golf Polo",
         52,
         2600.0
        ],
        [
         "West New York",
         "Perfect Fitness Perfect Rip Deck",
         52,
         3119.4801025390625
        ],
        [
         "Raleigh",
         "Under Armour Girls' Toddler Spine Surge Runni",
         52,
         2079.4800567626953
        ],
        [
         "Wheaton",
         "Perfect Fitness Perfect Rip Deck",
         52,
         3119.4800910949707
        ],
        [
         "Cary",
         "Perfect Fitness Perfect Rip Deck",
         52,
         3119.480083465576
        ],
        [
         "Buffalo",
         "Nike Men's Free 5.0+ Running Shoe",
         52,
         5199.479965209961
        ],
        [
         "Carson",
         "Nike Men's Dri-FIT Victory Golf Polo",
         52,
         2600.0
        ],
        [
         "Dearborn",
         "O'Brien Men's Neoprene Life Vest",
         51,
         2548.9799995422363
        ],
        [
         "Decatur",
         "Nike Men's Dri-FIT Victory Golf Polo",
         51,
         2550.0
        ],
        [
         "Laguna Niguel",
         "Perfect Fitness Perfect Rip Deck",
         51,
         3059.4900970458984
        ],
        [
         "Irving",
         "Under Armour Girls' Toddler Spine Surge Runni",
         51,
         2039.4900131225586
        ],
        [
         "Lawton",
         "Nike Men's Dri-FIT Victory Golf Polo",
         51,
         2550.0
        ],
        [
         "Orange Park",
         "O'Brien Men's Neoprene Life Vest",
         51,
         2548.979953765869
        ],
        [
         "San Sebastian",
         "Nike Men's Dri-FIT Victory Golf Polo",
         51,
         2550.0
        ],
        [
         "Chandler",
         "Nike Men's Free 5.0+ Running Shoe",
         51,
         5099.490013122559
        ],
        [
         "Florissant",
         "Nike Men's CJ Elite 2 TD Football Cleat",
         51,
         6629.490280151367
        ],
        [
         "Jamaica",
         "Nike Men's Free 5.0+ Running Shoe",
         51,
         5099.4899978637695
        ],
        [
         "Lutz",
         "Perfect Fitness Perfect Rip Deck",
         51,
         3059.4900817871094
        ],
        [
         "Mesa",
         "Nike Men's Free 5.0+ Running Shoe",
         51,
         5099.490013122559
        ],
        [
         "Mesquite",
         "Perfect Fitness Perfect Rip Deck",
         51,
         3059.4900703430176
        ],
        [
         "North Tonawanda",
         "Perfect Fitness Perfect Rip Deck",
         51,
         3059.490089416504
        ],
        [
         "Raleigh",
         "O'Brien Men's Neoprene Life Vest",
         51,
         2548.9799880981445
        ],
        [
         "Salinas",
         "Nike Men's Dri-FIT Victory Golf Polo",
         51,
         2550.0
        ],
        [
         "Seattle",
         "O'Brien Men's Neoprene Life Vest",
         51,
         2548.9799575805664
        ],
        [
         "Stockbridge",
         "O'Brien Men's Neoprene Life Vest",
         51,
         2548.97998046875
        ],
        [
         "Victorville",
         "O'Brien Men's Neoprene Life Vest",
         51,
         2548.9799728393555
        ],
        [
         "Hesperia",
         "Perfect Fitness Perfect Rip Deck",
         51,
         3059.490093231201
        ],
        [
         "Brandon",
         "Nike Men's Dri-FIT Victory Golf Polo",
         51,
         2550.0
        ],
        [
         "Azusa",
         "O'Brien Men's Neoprene Life Vest",
         51,
         2548.979965209961
        ],
        [
         "Beloit",
         "Nike Men's Dri-FIT Victory Golf Polo",
         51,
         2550.0
        ],
        [
         "Colorado Springs",
         "Nike Men's Dri-FIT Victory Golf Polo",
         50,
         2500.0
        ],
        [
         "College Station",
         "Perfect Fitness Perfect Rip Deck",
         50,
         2999.500072479248
        ],
        [
         "Del Rio",
         "Under Armour Girls' Toddler Spine Surge Runni",
         50,
         1999.5000038146973
        ],
        [
         "Fremont",
         "Nike Men's Free 5.0+ Running Shoe",
         50,
         4999.499954223633
        ],
        [
         "Hagerstown",
         "Nike Men's Dri-FIT Victory Golf Polo",
         50,
         2500.0
        ],
        [
         "Huntington Station",
         "Perfect Fitness Perfect Rip Deck",
         50,
         2999.5000801086426
        ],
        [
         "Methuen",
         "O'Brien Men's Neoprene Life Vest",
         50,
         2498.9999656677246
        ],
        [
         "Modesto",
         "Under Armour Girls' Toddler Spine Surge Runni",
         50,
         1999.500072479248
        ],
        [
         "Oxnard",
         "Under Armour Girls' Toddler Spine Surge Runni",
         50,
         1999.5000114440918
        ],
        [
         "San Bernardino",
         "Under Armour Girls' Toddler Spine Surge Runni",
         50,
         1999.5000495910645
        ],
        [
         "Waipahu",
         "Nike Men's Free 5.0+ Running Shoe",
         50,
         4999.500015258789
        ],
        [
         "Mesquite",
         "Nike Men's Dri-FIT Victory Golf Polo",
         50,
         2500.0
        ],
        [
         "Arlington",
         "Perfect Fitness Perfect Rip Deck",
         50,
         2999.50008392334
        ],
        [
         "Fayetteville",
         "O'Brien Men's Neoprene Life Vest",
         50,
         2498.999973297119
        ],
        [
         "Greeley",
         "Perfect Fitness Perfect Rip Deck",
         50,
         2999.5000648498535
        ],
        [
         "Harlingen",
         "Nike Men's Dri-FIT Victory Golf Polo",
         50,
         2500.0
        ],
        [
         "Humacao",
         "Under Armour Girls' Toddler Spine Surge Runni",
         50,
         1999.5000495910645
        ],
        [
         "La Mirada",
         "Perfect Fitness Perfect Rip Deck",
         50,
         2999.50008392334
        ],
        [
         "Louisville",
         "Under Armour Girls' Toddler Spine Surge Runni",
         50,
         1999.5000305175781
        ],
        [
         "Marietta",
         "O'Brien Men's Neoprene Life Vest",
         50,
         2498.9999656677246
        ],
        [
         "Mission",
         "Nike Men's Dri-FIT Victory Golf Polo",
         50,
         2500.0
        ],
        [
         "Morristown",
         "Nike Men's Dri-FIT Victory Golf Polo",
         50,
         2500.0
        ],
        [
         "Newburgh",
         "Nike Men's Free 5.0+ Running Shoe",
         50,
         4999.499984741211
        ],
        [
         "Norfolk",
         "Perfect Fitness Perfect Rip Deck",
         50,
         2999.5000762939453
        ],
        [
         "Ogden",
         "O'Brien Men's Neoprene Life Vest",
         50,
         2498.9999618530273
        ],
        [
         "Revere",
         "Perfect Fitness Perfect Rip Deck",
         50,
         2999.5000915527344
        ],
        [
         "Rome",
         "Nike Men's Dri-FIT Victory Golf Polo",
         50,
         2500.0
        ],
        [
         "San Ramon",
         "O'Brien Men's Neoprene Life Vest",
         50,
         2498.9999656677246
        ],
        [
         "South El Monte",
         "Nike Men's Dri-FIT Victory Golf Polo",
         50,
         2500.0
        ],
        [
         "South San Francisco",
         "Nike Men's Dri-FIT Victory Golf Polo",
         50,
         2500.0
        ],
        [
         "Massapequa",
         "O'Brien Men's Neoprene Life Vest",
         50,
         2498.9999771118164
        ],
        [
         "West Jordan",
         "Perfect Fitness Perfect Rip Deck",
         50,
         2999.5000801086426
        ],
        [
         "Wyoming",
         "O'Brien Men's Neoprene Life Vest",
         50,
         2498.999988555908
        ],
        [
         "Valrico",
         "Nike Men's Free 5.0+ Running Shoe",
         50,
         4999.499969482422
        ],
        [
         "Vista",
         "O'Brien Men's Neoprene Life Vest",
         50,
         2498.999988555908
        ],
        [
         "Austin",
         "Nike Men's Free 5.0+ Running Shoe",
         50,
         4999.4999923706055
        ],
        [
         "Carolina",
         "Nike Men's Dri-FIT Victory Golf Polo",
         50,
         2500.0
        ],
        [
         "Gardena",
         "Nike Men's Free 5.0+ Running Shoe",
         49,
         4899.510032653809
        ],
        [
         "Guayama",
         "Perfect Fitness Perfect Rip Deck",
         49,
         2939.510078430176
        ],
        [
         "Oxnard",
         "Nike Men's Free 5.0+ Running Shoe",
         49,
         4899.509956359863
        ],
        [
         "Union City",
         "Under Armour Girls' Toddler Spine Surge Runni",
         49,
         1959.510025024414
        ],
        [
         "Strongsville",
         "Under Armour Girls' Toddler Spine Surge Runni",
         49,
         1959.5100212097168
        ],
        [
         "Campbell",
         "Nike Men's Dri-FIT Victory Golf Polo",
         49,
         2450.0
        ],
        [
         "Lynnwood",
         "Perfect Fitness Perfect Rip Deck",
         49,
         2939.5100860595703
        ],
        [
         "Perth Amboy",
         "Nike Men's Dri-FIT Victory Golf Polo",
         49,
         2450.0
        ],
        [
         "Reynoldsburg",
         "Perfect Fitness Perfect Rip Deck",
         49,
         2939.510078430176
        ],
        [
         "Santa Clara",
         "Perfect Fitness Perfect Rip Deck",
         49,
         2939.5100708007812
        ],
        [
         "South Richmond Hill",
         "Perfect Fitness Perfect Rip Deck",
         49,
         2939.510082244873
        ],
        [
         "Yauco",
         "Perfect Fitness Perfect Rip Deck",
         49,
         2939.5100708007812
        ],
        [
         "Tulare",
         "Nike Men's Dri-FIT Victory Golf Polo",
         49,
         2450.0
        ],
        [
         "Visalia",
         "Perfect Fitness Perfect Rip Deck",
         49,
         2939.5100593566895
        ],
        [
         "Corona",
         "Pelican Sunstream 100 Kayak",
         49,
         9799.510269165039
        ],
        [
         "Frankfort",
         "Nike Men's Dri-FIT Victory Golf Polo",
         49,
         2450.0
        ],
        [
         "Buffalo",
         "Under Armour Girls' Toddler Spine Surge Runni",
         49,
         1959.5100440979004
        ],
        [
         "Apex",
         "Under Armour Girls' Toddler Spine Surge Runni",
         48,
         1919.5200462341309
        ],
        [
         "Dorchester Center",
         "Nike Men's Dri-FIT Victory Golf Polo",
         48,
         2400.0
        ],
        [
         "Fremont",
         "Under Armour Girls' Toddler Spine Surge Runni",
         48,
         1919.5200386047363
        ],
        [
         "Marrero",
         "Nike Men's Dri-FIT Victory Golf Polo",
         48,
         2400.0
        ],
        [
         "Bayamon",
         "Under Armour Girls' Toddler Spine Surge Runni",
         48,
         1919.5200309753418
        ],
        [
         "Michigan City",
         "O'Brien Men's Neoprene Life Vest",
         48,
         2399.0399894714355
        ],
        [
         "Rio Grande",
         "Perfect Fitness Perfect Rip Deck",
         48,
         2879.5200805664062
        ],
        [
         "Catonsville",
         "Nike Men's Free 5.0+ Running Shoe",
         48,
         4799.519989013672
        ],
        [
         "Dundalk",
         "Nike Men's Dri-FIT Victory Golf Polo",
         48,
         2400.0
        ],
        [
         "Germantown",
         "Nike Men's Dri-FIT Victory Golf Polo",
         48,
         2400.0
        ],
        [
         "Greeley",
         "Under Armour Girls' Toddler Spine Surge Runni",
         48,
         1919.5200424194336
        ],
        [
         "Lilburn",
         "Perfect Fitness Perfect Rip Deck",
         48,
         2879.5200729370117
        ],
        [
         "Martinsburg",
         "O'Brien Men's Neoprene Life Vest",
         48,
         2399.039981842041
        ],
        [
         "Morristown",
         "Perfect Fitness Perfect Rip Deck",
         48,
         2879.520076751709
        ],
        [
         "Opelousas",
         "O'Brien Men's Neoprene Life Vest",
         48,
         2399.039966583252
        ],
        [
         "Pekin",
         "Nike Men's Dri-FIT Victory Golf Polo",
         48,
         2400.0
        ],
        [
         "Bridgeton",
         "O'Brien Men's Neoprene Life Vest",
         48,
         2399.0399856567383
        ],
        [
         "Victorville",
         "Perfect Fitness Perfect Rip Deck",
         48,
         2879.5200843811035
        ],
        [
         "Winnetka",
         "Under Armour Girls' Toddler Spine Surge Runni",
         48,
         1919.5200309753418
        ],
        [
         "Redmond",
         "Perfect Fitness Perfect Rip Deck",
         48,
         2879.5200958251953
        ],
        [
         "Cincinnati",
         "Perfect Fitness Perfect Rip Deck",
         48,
         2879.5200729370117
        ],
        [
         "Highland",
         "Nike Men's Free 5.0+ Running Shoe",
         48,
         4799.520004272461
        ],
        [
         "Apopka",
         "Nike Men's Dri-FIT Victory Golf Polo",
         47,
         2350.0
        ],
        [
         "Ballwin",
         "Perfect Fitness Perfect Rip Deck",
         47,
         2819.5300827026367
        ],
        [
         "Freeport",
         "O'Brien Men's Neoprene Life Vest",
         47,
         2349.059986114502
        ],
        [
         "Glendale",
         "Nike Men's Free 5.0+ Running Shoe",
         47,
         4699.529968261719
        ],
        [
         "Littleton",
         "Nike Men's Dri-FIT Victory Golf Polo",
         47,
         2350.0
        ],
        [
         "New Brunswick",
         "Perfect Fitness Perfect Rip Deck",
         47,
         2819.5300827026367
        ],
        [
         "Plymouth",
         "Nike Men's Dri-FIT Victory Golf Polo",
         47,
         2350.0
        ],
        [
         "Sheboygan",
         "Perfect Fitness Perfect Rip Deck",
         47,
         2819.5300788879395
        ],
        [
         "Clearfield",
         "Perfect Fitness Perfect Rip Deck",
         47,
         2819.5300788879395
        ],
        [
         "Beloit",
         "Under Armour Girls' Toddler Spine Surge Runni",
         47,
         1879.5300254821777
        ],
        [
         "Asheboro",
         "Nike Men's Dri-FIT Victory Golf Polo",
         47,
         2350.0
        ],
        [
         "Freeport",
         "Under Armour Girls' Toddler Spine Surge Runni",
         47,
         1879.5300064086914
        ],
        [
         "Kailua",
         "Perfect Fitness Perfect Rip Deck",
         47,
         2819.530075073242
        ],
        [
         "Manati",
         "Perfect Fitness Perfect Rip Deck",
         47,
         2819.530059814453
        ],
        [
         "Morristown",
         "O'Brien Men's Neoprene Life Vest",
         47,
         2349.059986114502
        ],
        [
         "Norcross",
         "Perfect Fitness Perfect Rip Deck",
         47,
         2819.530075073242
        ],
        [
         "North Tonawanda",
         "O'Brien Men's Neoprene Life Vest",
         47,
         2349.0599784851074
        ],
        [
         "Palmdale",
         "Perfect Fitness Perfect Rip Deck",
         47,
         2819.530086517334
        ],
        [
         "Pittsfield",
         "Perfect Fitness Perfect Rip Deck",
         47,
         2819.530075073242
        ],
        [
         "Rancho Cucamonga",
         "Perfect Fitness Perfect Rip Deck",
         47,
         2819.530075073242
        ],
        [
         "Trujillo Alto",
         "Perfect Fitness Perfect Rip Deck",
         47,
         2819.5300636291504
        ],
        [
         "Vega Baja",
         "Nike Men's Free 5.0+ Running Shoe",
         47,
         4699.5300216674805
        ],
        [
         "Waipahu",
         "Perfect Fitness Perfect Rip Deck",
         47,
         2819.530086517334
        ],
        [
         "Alhambra",
         "Nike Men's Dri-FIT Victory Golf Polo",
         47,
         2350.0
        ],
        [
         "Parkville",
         "Perfect Fitness Perfect Rip Deck",
         47,
         2819.530071258545
        ],
        [
         "Wyoming",
         "Nike Men's Dri-FIT Victory Golf Polo",
         47,
         2350.0
        ],
        [
         "Clarksville",
         "Perfect Fitness Perfect Rip Deck",
         47,
         2819.530086517334
        ],
        [
         "Broken Arrow",
         "O'Brien Men's Neoprene Life Vest",
         47,
         2349.0599670410156
        ],
        [
         "Carolina",
         "O'Brien Men's Neoprene Life Vest",
         47,
         2349.059986114502
        ],
        [
         "Charlotte",
         "Perfect Fitness Perfect Rip Deck",
         46,
         2759.540069580078
        ],
        [
         "Beloit",
         "O'Brien Men's Neoprene Life Vest",
         46,
         2299.0799827575684
        ],
        [
         "Clearfield",
         "Nike Men's Dri-FIT Victory Golf Polo",
         46,
         2300.0
        ],
        [
         "Everett",
         "Perfect Fitness Perfect Rip Deck",
         46,
         2759.5400886535645
        ],
        [
         "Crystal Lake",
         "Perfect Fitness Perfect Rip Deck",
         46,
         2759.5400772094727
        ],
        [
         "Greenville",
         "Under Armour Girls' Toddler Spine Surge Runni",
         46,
         1839.5400199890137
        ],
        [
         "Jonesboro",
         "Perfect Fitness Perfect Rip Deck",
         46,
         2759.5400772094727
        ],
        [
         "Martinsburg",
         "Nike Men's Dri-FIT Victory Golf Polo",
         46,
         2300.0
        ],
        [
         "Roseville",
         "Perfect Fitness Perfect Rip Deck",
         46,
         2759.540084838867
        ],
        [
         "Bismarck",
         "O'Brien Men's Neoprene Life Vest",
         46,
         2299.0799865722656
        ],
        [
         "Sheboygan",
         "Nike Men's Dri-FIT Victory Golf Polo",
         46,
         2300.0
        ],
        [
         "Wayne",
         "Nike Men's Free 5.0+ Running Shoe",
         46,
         4599.539970397949
        ],
        [
         "Chandler",
         "Under Armour Girls' Toddler Spine Surge Runni",
         46,
         1839.5400199890137
        ],
        [
         "Davis",
         "O'Brien Men's Neoprene Life Vest",
         46,
         2299.079990386963
        ],
        [
         "Hamtramck",
         "Perfect Fitness Perfect Rip Deck",
         46,
         2759.540069580078
        ],
        [
         "Hanover",
         "Perfect Fitness Perfect Rip Deck",
         46,
         2759.5400886535645
        ],
        [
         "Hendersonville",
         "Perfect Fitness Perfect Rip Deck",
         46,
         2759.540084838867
        ],
        [
         "Holland",
         "Perfect Fitness Perfect Rip Deck",
         46,
         2759.5400581359863
        ],
        [
         "Knoxville",
         "O'Brien Men's Neoprene Life Vest",
         46,
         2299.0799713134766
        ],
        [
         "Longmont",
         "Nike Men's Dri-FIT Victory Golf Polo",
         46,
         2300.0
        ],
        [
         "Mesa",
         "Under Armour Girls' Toddler Spine Surge Runni",
         46,
         1839.5400276184082
        ],
        [
         "Norfolk",
         "O'Brien Men's Neoprene Life Vest",
         46,
         2299.079990386963
        ],
        [
         "Powder Springs",
         "O'Brien Men's Neoprene Life Vest",
         46,
         2299.0799827575684
        ],
        [
         "Rio Grande",
         "Nike Men's Dri-FIT Victory Golf Polo",
         46,
         2300.0
        ],
        [
         "Salem",
         "Nike Men's Free 5.0+ Running Shoe",
         46,
         4599.540008544922
        ],
        [
         "Tallahassee",
         "Under Armour Girls' Toddler Spine Surge Runni",
         46,
         1839.5400390625
        ],
        [
         "Ventura",
         "Nike Men's Free 5.0+ Running Shoe",
         46,
         4599.539993286133
        ],
        [
         "Wayne",
         "O'Brien Men's Neoprene Life Vest",
         46,
         2299.079978942871
        ],
        [
         "Campbell",
         "Nike Men's Free 5.0+ Running Shoe",
         46,
         4599.5400314331055
        ],
        [
         "Yonkers",
         "O'Brien Men's Neoprene Life Vest",
         46,
         2299.0799713134766
        ],
        [
         "York",
         "Under Armour Girls' Toddler Spine Surge Runni",
         46,
         1839.540023803711
        ],
        [
         "Provo",
         "Nike Men's Dri-FIT Victory Golf Polo",
         46,
         2300.0
        ],
        [
         "Chapel Hill",
         "Nike Men's Dri-FIT Victory Golf Polo",
         46,
         2300.0
        ],
        [
         "Crown Point",
         "Perfect Fitness Perfect Rip Deck",
         46,
         2759.54008102417
        ],
        [
         "Brighton",
         "O'Brien Men's Neoprene Life Vest",
         45,
         2249.0999755859375
        ],
        [
         "Chillicothe",
         "Nike Men's Dri-FIT Victory Golf Polo",
         45,
         2250.0
        ],
        [
         "El Cajon",
         "O'Brien Men's Neoprene Life Vest",
         45,
         2249.0999794006348
        ],
        [
         "Elyria",
         "Under Armour Girls' Toddler Spine Surge Runni",
         45,
         1799.549991607666
        ],
        [
         "Katy",
         "Perfect Fitness Perfect Rip Deck",
         45,
         2699.5500869750977
        ],
        [
         "Lompoc",
         "O'Brien Men's Neoprene Life Vest",
         45,
         2249.099983215332
        ],
        [
         "Reynoldsburg",
         "Nike Men's Dri-FIT Victory Golf Polo",
         45,
         2250.0
        ],
        [
         "Burnsville",
         "O'Brien Men's Neoprene Life Vest",
         45,
         2249.099983215332
        ],
        [
         "San Marcos",
         "Under Armour Girls' Toddler Spine Surge Runni",
         45,
         1799.5500183105469
        ],
        [
         "Waukegan",
         "Nike Men's Dri-FIT Victory Golf Polo",
         45,
         2250.0
        ],
        [
         "Dearborn",
         "Under Armour Girls' Toddler Spine Surge Runni",
         45,
         1799.5500030517578
        ],
        [
         "Baldwin Park",
         "O'Brien Men's Neoprene Life Vest",
         45,
         2249.099994659424
        ],
        [
         "Elmhurst",
         "Nike Men's CJ Elite 2 TD Football Cleat",
         45,
         5849.550247192383
        ],
        [
         "Greensboro",
         "Nike Men's Free 5.0+ Running Shoe",
         45,
         4499.54997253418
        ],
        [
         "Hagerstown",
         "Nike Men's Free 5.0+ Running Shoe",
         45,
         4499.550025939941
        ],
        [
         "Hesperia",
         "Nike Men's Dri-FIT Victory Golf Polo",
         45,
         2250.0
        ],
        [
         "Highland",
         "Nike Men's Dri-FIT Victory Golf Polo",
         45,
         2250.0
        ],
        [
         "Lakewood",
         "Under Armour Girls' Toddler Spine Surge Runni",
         45,
         1799.5500411987305
        ],
        [
         "Lompoc",
         "Nike Men's Free 5.0+ Running Shoe",
         45,
         4499.550033569336
        ],
        [
         "Marietta",
         "Nike Men's CJ Elite 2 TD Football Cleat",
         45,
         5849.550247192383
        ],
        [
         "Milwaukee",
         "Nike Men's Free 5.0+ Running Shoe",
         45,
         4499.549995422363
        ],
        [
         "North Hollywood",
         "Under Armour Girls' Toddler Spine Surge Runni",
         45,
         1799.5500183105469
        ],
        [
         "Provo",
         "Perfect Fitness Perfect Rip Deck",
         45,
         2699.550064086914
        ],
        [
         "Richardson",
         "O'Brien Men's Neoprene Life Vest",
         45,
         2249.0999755859375
        ],
        [
         "Sylmar",
         "Nike Men's Dri-FIT Victory Golf Polo",
         45,
         2250.0
        ],
        [
         "Tonawanda",
         "Under Armour Girls' Toddler Spine Surge Runni",
         45,
         1799.5499992370605
        ],
        [
         "Tulare",
         "Perfect Fitness Perfect Rip Deck",
         45,
         2699.550060272217
        ],
        [
         "Canton",
         "Nike Men's Free 5.0+ Running Shoe",
         45,
         4499.550025939941
        ],
        [
         "Westland",
         "Perfect Fitness Perfect Rip Deck",
         45,
         2699.5500679016113
        ],
        [
         "Westminster",
         "O'Brien Men's Neoprene Life Vest",
         45,
         2249.099967956543
        ],
        [
         "Watsonville",
         "Nike Men's Free 5.0+ Running Shoe",
         45,
         4499.549987792969
        ],
        [
         "East Lansing",
         "O'Brien Men's Neoprene Life Vest",
         45,
         2249.0999717712402
        ],
        [
         "Plano",
         "Under Armour Girls' Toddler Spine Surge Runni",
         45,
         1799.5500144958496
        ],
        [
         "Glenview",
         "Nike Men's Dri-FIT Victory Golf Polo",
         44,
         2200.0
        ],
        [
         "Hamilton",
         "Nike Men's Free 5.0+ Running Shoe",
         44,
         4399.559982299805
        ],
        [
         "Manchester",
         "Nike Men's Dri-FIT Victory Golf Polo",
         44,
         2200.0
        ],
        [
         "Paramount",
         "O'Brien Men's Neoprene Life Vest",
         44,
         2199.1199645996094
        ],
        [
         "Sunnyvale",
         "O'Brien Men's Neoprene Life Vest",
         44,
         2199.120002746582
        ],
        [
         "Troy",
         "Under Armour Girls' Toddler Spine Surge Runni",
         44,
         1759.5600509643555
        ],
        [
         "Forest Hills",
         "O'Brien Men's Neoprene Life Vest",
         44,
         2199.1199836730957
        ],
        [
         "Canyon Country",
         "Nike Men's Dri-FIT Victory Golf Polo",
         44,
         2200.0
        ],
        [
         "Grove City",
         "Nike Men's Dri-FIT Victory Golf Polo",
         44,
         2200.0
        ],
        [
         "Hilliard",
         "Perfect Fitness Perfect Rip Deck",
         44,
         2639.5600814819336
        ],
        [
         "Huntington Beach",
         "Under Armour Girls' Toddler Spine Surge Runni",
         44,
         1759.5600280761719
        ],
        [
         "Irwin",
         "O'Brien Men's Neoprene Life Vest",
         44,
         2199.1199836730957
        ],
        [
         "Lynwood",
         "Nike Men's Dri-FIT Victory Golf Polo",
         44,
         2200.0
        ],
        [
         "New Haven",
         "Under Armour Girls' Toddler Spine Surge Runni",
         44,
         1759.5600357055664
        ],
        [
         "Opa Locka",
         "Nike Men's Dri-FIT Victory Golf Polo",
         44,
         2200.0
        ],
        [
         "Pasadena",
         "O'Brien Men's Neoprene Life Vest",
         44,
         2199.119972229004
        ],
        [
         "Perth Amboy",
         "Perfect Fitness Perfect Rip Deck",
         44,
         2639.5600776672363
        ],
        [
         "Provo",
         "O'Brien Men's Neoprene Life Vest",
         44,
         2199.119976043701
        ],
        [
         "Stone Mountain",
         "Nike Men's Free 5.0+ Running Shoe",
         44,
         4399.560028076172
        ],
        [
         "Temecula",
         "Perfect Fitness Perfect Rip Deck",
         44,
         2639.560085296631
        ],
        [
         "West Orange",
         "Nike Men's Free 5.0+ Running Shoe",
         44,
         4399.559982299805
        ],
        [
         "Westerville",
         "Perfect Fitness Perfect Rip Deck",
         44,
         2639.5600624084473
        ],
        [
         "Wheeling",
         "Nike Men's Dri-FIT Victory Golf Polo",
         44,
         2200.0
        ],
        [
         "Freeport",
         "Nike Men's Free 5.0+ Running Shoe",
         44,
         4399.559989929199
        ],
        [
         "Seattle",
         "Nike Men's Dri-FIT Victory Golf Polo",
         44,
         2200.0
        ],
        [
         "Fairfield",
         "Nike Men's Free 5.0+ Running Shoe",
         44,
         4399.559982299805
        ],
        [
         "Clovis",
         "Nike Men's Dri-FIT Victory Golf Polo",
         44,
         2200.0
        ],
        [
         "Cypress",
         "Nike Men's Dri-FIT Victory Golf Polo",
         44,
         2200.0
        ],
        [
         "Del Rio",
         "O'Brien Men's Neoprene Life Vest",
         43,
         2149.1399726867676
        ],
        [
         "Cicero",
         "Perfect Fitness Perfect Rip Deck",
         43,
         2579.5700645446777
        ],
        [
         "Dundalk",
         "Perfect Fitness Perfect Rip Deck",
         43,
         2579.5700645446777
        ],
        [
         "Kaneohe",
         "Perfect Fitness Perfect Rip Deck",
         43,
         2579.5700759887695
        ],
        [
         "La Habra",
         "Perfect Fitness Perfect Rip Deck",
         43,
         2579.5700607299805
        ],
        [
         "Plainfield",
         "Perfect Fitness Perfect Rip Deck",
         43,
         2579.5700645446777
        ],
        [
         "Rio Rancho",
         "Perfect Fitness Perfect Rip Deck",
         43,
         2579.5700912475586
        ],
        [
         "West Orange",
         "Nike Men's Dri-FIT Victory Golf Polo",
         43,
         2150.0
        ],
        [
         "Irving",
         "Nike Men's CJ Elite 2 TD Football Cleat",
         43,
         5589.570236206055
        ],
        [
         "Brighton",
         "Nike Men's Free 5.0+ Running Shoe",
         43,
         4299.569976806641
        ],
        [
         "Chillicothe",
         "Perfect Fitness Perfect Rip Deck",
         43,
         2579.570056915283
        ],
        [
         "Elyria",
         "Nike Men's Free 5.0+ Running Shoe",
         43,
         4299.569984436035
        ],
        [
         "Kent",
         "Nike Men's Dri-FIT Victory Golf Polo",
         43,
         2150.0
        ],
        [
         "Medford",
         "Nike Men's Dri-FIT Victory Golf Polo",
         43,
         2150.0
        ],
        [
         "Milpitas",
         "Nike Men's Dri-FIT Victory Golf Polo",
         43,
         2150.0
        ],
        [
         "Norfolk",
         "Under Armour Girls' Toddler Spine Surge Runni",
         43,
         1719.570011138916
        ],
        [
         "Rancho Cordova",
         "Nike Men's Dri-FIT Victory Golf Polo",
         43,
         2150.0
        ],
        [
         "Rego Park",
         "Nike Men's Dri-FIT Victory Golf Polo",
         43,
         2150.0
        ],
        [
         "Saint Charles",
         "Perfect Fitness Perfect Rip Deck",
         43,
         2579.5700607299805
        ],
        [
         "San Benito",
         "Nike Men's Dri-FIT Victory Golf Polo",
         43,
         2150.0
        ],
        [
         "Sandusky",
         "Nike Men's Dri-FIT Victory Golf Polo",
         43,
         2150.0
        ],
        [
         "Glenview",
         "Perfect Fitness Perfect Rip Deck",
         43,
         2579.5700759887695
        ],
        [
         "Woodbridge",
         "O'Brien Men's Neoprene Life Vest",
         43,
         2149.1399993896484
        ],
        [
         "Yonkers",
         "Nike Men's Dri-FIT Victory Golf Polo",
         43,
         2150.0
        ],
        [
         "Smyrna",
         "Nike Men's Dri-FIT Victory Golf Polo",
         43,
         2150.0
        ],
        [
         "Spring Valley",
         "Under Armour Girls' Toddler Spine Surge Runni",
         43,
         1719.5700187683105
        ],
        [
         "Brownsville",
         "Under Armour Girls' Toddler Spine Surge Runni",
         43,
         1719.5700225830078
        ],
        [
         "Fontana",
         "O'Brien Men's Neoprene Life Vest",
         43,
         2149.1399688720703
        ],
        [
         "Annapolis",
         "Perfect Fitness Perfect Rip Deck",
         43,
         2579.5700721740723
        ],
        [
         "Bridgeton",
         "Nike Men's Free 5.0+ Running Shoe",
         42,
         4199.580032348633
        ],
        [
         "Buena Park",
         "O'Brien Men's Neoprene Life Vest",
         42,
         2099.1599655151367
        ],
        [
         "Decatur",
         "Perfect Fitness Perfect Rip Deck",
         42,
         2519.5800590515137
        ],
        [
         "Fountain Valley",
         "Perfect Fitness Perfect Rip Deck",
         42,
         2519.5800704956055
        ],
        [
         "Federal Way",
         "O'Brien Men's Neoprene Life Vest",
         42,
         2099.159980773926
        ],
        [
         "Fullerton",
         "Nike Men's Free 5.0+ Running Shoe",
         42,
         4199.580032348633
        ],
        [
         "Lutz",
         "O'Brien Men's Neoprene Life Vest",
         42,
         2099.159999847412
        ],
        [
         "Moline",
         "Under Armour Girls' Toddler Spine Surge Runni",
         42,
         1679.5800285339355
        ],
        [
         "Quincy",
         "Under Armour Girls' Toddler Spine Surge Runni",
         42,
         1679.5800132751465
        ],
        [
         "Annandale",
         "Nike Men's Dri-FIT Victory Golf Polo",
         42,
         2100.0
        ],
        [
         "San Ramon",
         "Perfect Fitness Perfect Rip Deck",
         42,
         2519.580066680908
        ],
        [
         "Pico Rivera",
         "Perfect Fitness Perfect Rip Deck",
         42,
         2519.580066680908
        ],
        [
         "Bend",
         "Nike Men's CJ Elite 2 TD Football Cleat",
         42,
         5459.580230712891
        ],
        [
         "Carson",
         "O'Brien Men's Neoprene Life Vest",
         42,
         2099.159980773926
        ],
        [
         "Denton",
         "Perfect Fitness Perfect Rip Deck",
         42,
         2519.5800704956055
        ],
        [
         "Diamond Bar",
         "Nike Men's Dri-FIT Victory Golf Polo",
         42,
         2100.0
        ],
        [
         "Findlay",
         "Nike Men's Dri-FIT Victory Golf Polo",
         42,
         2100.0
        ],
        [
         "Granada Hills",
         "Nike Men's Free 5.0+ Running Shoe",
         42,
         4199.57999420166
        ],
        [
         "Kent",
         "O'Brien Men's Neoprene Life Vest",
         42,
         2099.159999847412
        ],
        [
         "La Mirada",
         "O'Brien Men's Neoprene Life Vest",
         42,
         2099.1599769592285
        ],
        [
         "Lawrence",
         "Nike Men's Free 5.0+ Running Shoe",
         42,
         4199.580009460449
        ],
        [
         "Metairie",
         "O'Brien Men's Neoprene Life Vest",
         42,
         2099.159984588623
        ],
        [
         "Modesto",
         "Nike Men's Free 5.0+ Running Shoe",
         42,
         4199.57999420166
        ],
        [
         "O Fallon",
         "Nike Men's Dri-FIT Victory Golf Polo",
         42,
         2100.0
        ],
        [
         "Oakland",
         "Nike Men's Dri-FIT Victory Golf Polo",
         42,
         2100.0
        ],
        [
         "Palatine",
         "O'Brien Men's Neoprene Life Vest",
         42,
         2099.159996032715
        ],
        [
         "Princeton",
         "O'Brien Men's Neoprene Life Vest",
         42,
         2099.1599769592285
        ],
        [
         "Rowland Heights",
         "Nike Men's Free 5.0+ Running Shoe",
         42,
         4199.580047607422
        ],
        [
         "Stamford",
         "O'Brien Men's Neoprene Life Vest",
         42,
         2099.159984588623
        ],
        [
         "Sun Valley",
         "Perfect Fitness Perfect Rip Deck",
         42,
         2519.5800743103027
        ],
        [
         "Sylmar",
         "Perfect Fitness Perfect Rip Deck",
         42,
         2519.5800743103027
        ],
        [
         "Bellflower",
         "Nike Men's Dri-FIT Victory Golf Polo",
         42,
         2100.0
        ],
        [
         "West Lafayette",
         "Perfect Fitness Perfect Rip Deck",
         42,
         2519.5800704956055
        ],
        [
         "Wheeling",
         "Perfect Fitness Perfect Rip Deck",
         42,
         2519.580062866211
        ],
        [
         "Duluth",
         "O'Brien Men's Neoprene Life Vest",
         42,
         2099.1599769592285
        ],
        [
         "Bountiful",
         "Perfect Fitness Perfect Rip Deck",
         42,
         2519.5800743103027
        ],
        [
         "Bowling Green",
         "Nike Men's Dri-FIT Victory Golf Polo",
         42,
         2100.0
        ],
        [
         "Bountiful",
         "O'Brien Men's Neoprene Life Vest",
         41,
         2049.179973602295
        ],
        [
         "Canton",
         "Nike Men's Dri-FIT Victory Golf Polo",
         41,
         2050.0
        ],
        [
         "Bismarck",
         "Nike Men's Dri-FIT Victory Golf Polo",
         41,
         2050.0
        ],
        [
         "Carmichael",
         "Nike Men's Dri-FIT Victory Golf Polo",
         41,
         2050.0
        ],
        [
         "Chambersburg",
         "Perfect Fitness Perfect Rip Deck",
         41,
         2459.590061187744
        ],
        [
         "Greensburg",
         "Nike Men's Dri-FIT Victory Golf Polo",
         41,
         2050.0
        ],
        [
         "Jonesboro",
         "Nike Men's Dri-FIT Victory Golf Polo",
         41,
         2050.0
        ],
        [
         "Piscataway",
         "O'Brien Men's Neoprene Life Vest",
         41,
         2049.1799812316895
        ],
        [
         "Mission Viejo",
         "Under Armour Girls' Toddler Spine Surge Runni",
         41,
         1639.5900344848633
        ],
        [
         "Potomac",
         "Under Armour Girls' Toddler Spine Surge Runni",
         41,
         1639.5900230407715
        ],
        [
         "San Pablo",
         "Perfect Fitness Perfect Rip Deck",
         41,
         2459.5900802612305
        ],
        [
         "Stone Mountain",
         "Nike Men's Dri-FIT Victory Golf Polo",
         41,
         2050.0
        ],
        [
         "West Orange",
         "O'Brien Men's Neoprene Life Vest",
         41,
         2049.1800079345703
        ],
        [
         "Brighton",
         "Perfect Fitness Perfect Rip Deck",
         41,
         2459.5900497436523
        ],
        [
         "Alameda",
         "O'Brien Men's Neoprene Life Vest",
         41,
         2049.1799850463867
        ],
        [
         "Carolina",
         "Nike Men's Free 5.0+ Running Shoe",
         41,
         4099.590003967285
        ],
        [
         "Colorado Springs",
         "Under Armour Girls' Toddler Spine Surge Runni",
         41,
         1639.5900230407715
        ],
        [
         "Elmhurst",
         "Under Armour Girls' Toddler Spine Surge Runni",
         41,
         1639.5900344848633
        ],
        [
         "Germantown",
         "Nike Men's Free 5.0+ Running Shoe",
         41,
         4099.590003967285
        ],
        [
         "Goleta",
         "Perfect Fitness Perfect Rip Deck",
         41,
         2459.590087890625
        ],
        [
         "Howell",
         "Nike Men's Dri-FIT Victory Golf Polo",
         41,
         2050.0
        ],
        [
         "Joliet",
         "Nike Men's Dri-FIT Victory Golf Polo",
         41,
         2050.0
        ],
        [
         "Katy",
         "Nike Men's Dri-FIT Victory Golf Polo",
         41,
         2050.0
        ],
        [
         "Lindenhurst",
         "Perfect Fitness Perfect Rip Deck",
         41,
         2459.590076446533
        ],
        [
         "Madison",
         "Nike Men's Dri-FIT Victory Golf Polo",
         41,
         2050.0
        ],
        [
         "Pasadena",
         "Nike Men's Dri-FIT Victory Golf Polo",
         41,
         2050.0
        ],
        [
         "Pittsfield",
         "Nike Men's Free 5.0+ Running Shoe",
         41,
         4099.590034484863
        ],
        [
         "Princeton",
         "Nike Men's Free 5.0+ Running Shoe",
         41,
         4099.589950561523
        ],
        [
         "Redmond",
         "Nike Men's Dri-FIT Victory Golf Polo",
         41,
         2050.0
        ],
        [
         "Ridgewood",
         "O'Brien Men's Neoprene Life Vest",
         41,
         2049.179977416992
        ],
        [
         "Rio Rancho",
         "Nike Men's Dri-FIT Victory Golf Polo",
         41,
         2050.0
        ],
        [
         "San Ramon",
         "Nike Men's Dri-FIT Victory Golf Polo",
         41,
         2050.0
        ],
        [
         "Stockton",
         "Under Armour Girls' Toddler Spine Surge Runni",
         41,
         1639.5900382995605
        ],
        [
         "Toms River",
         "O'Brien Men's Neoprene Life Vest",
         41,
         2049.179977416992
        ],
        [
         "Valrico",
         "Perfect Fitness Perfect Rip Deck",
         41,
         2459.5900497436523
        ],
        [
         "Webster",
         "Nike Men's Dri-FIT Victory Golf Polo",
         41,
         2050.0
        ],
        [
         "Beaverton",
         "Perfect Fitness Perfect Rip Deck",
         41,
         2459.590045928955
        ],
        [
         "West Jordan",
         "Nike Men's Dri-FIT Victory Golf Polo",
         41,
         2050.0
        ],
        [
         "Weslaco",
         "Nike Men's Dri-FIT Victory Golf Polo",
         41,
         2050.0
        ],
        [
         "West Covina",
         "Under Armour Girls' Toddler Spine Surge Runni",
         41,
         1639.5900382995605
        ],
        [
         "Arlington",
         "O'Brien Men's Neoprene Life Vest",
         41,
         2049.179988861084
        ],
        [
         "Baldwin Park",
         "Nike Men's Dri-FIT Victory Golf Polo",
         41,
         2050.0
        ],
        [
         "Costa Mesa",
         "Nike Men's Free 5.0+ Running Shoe",
         40,
         3999.6000061035156
        ],
        [
         "Cary",
         "O'Brien Men's Neoprene Life Vest",
         40,
         1999.1999855041504
        ],
        [
         "College Station",
         "O'Brien Men's Neoprene Life Vest",
         40,
         1999.1999740600586
        ],
        [
         "Dearborn",
         "Nike Men's Free 5.0+ Running Shoe",
         40,
         3999.599983215332
        ],
        [
         "El Centro",
         "Nike Men's Dri-FIT Victory Golf Polo",
         40,
         2000.0
        ],
        [
         "Greenville",
         "O'Brien Men's Neoprene Life Vest",
         40,
         1999.1999855041504
        ],
        [
         "Garland",
         "Perfect Fitness Perfect Rip Deck",
         40,
         2399.600067138672
        ],
        [
         "Hollywood",
         "Under Armour Girls' Toddler Spine Surge Runni",
         40,
         1599.6000480651855
        ],
        [
         "Montebello",
         "Nike Men's Dri-FIT Victory Golf Polo",
         40,
         2000.0
        ],
        [
         "Mount Prospect",
         "Nike Men's Free 5.0+ Running Shoe",
         40,
         3999.599983215332
        ],
        [
         "Pittsburg",
         "Perfect Fitness Perfect Rip Deck",
         40,
         2399.60005569458
        ],
        [
         "Rochester",
         "O'Brien Men's Neoprene Life Vest",
         40,
         1999.1999893188477
        ],
        [
         "Toms River",
         "Nike Men's Dri-FIT Victory Golf Polo",
         40,
         2000.0
        ],
        [
         "Salina",
         "Nike Men's Dri-FIT Victory Golf Polo",
         40,
         2000.0
        ],
        [
         "Painesville",
         "Nike Men's Dri-FIT Victory Golf Polo",
         40,
         2000.0
        ],
        [
         "Chesapeake",
         "Under Armour Girls' Toddler Spine Surge Runni",
         40,
         1599.6000442504883
        ],
        [
         "Duluth",
         "Perfect Fitness Perfect Rip Deck",
         40,
         2399.6000633239746
        ],
        [
         "Enfield",
         "Nike Men's Free 5.0+ Running Shoe",
         40,
         3999.600028991699
        ],
        [
         "Everett",
         "Nike Men's Dri-FIT Victory Golf Polo",
         40,
         2000.0
        ],
        [
         "Fontana",
         "Nike Men's Free 5.0+ Running Shoe",
         40,
         3999.5999450683594
        ],
        [
         "Goose Creek",
         "Nike Men's Dri-FIT Victory Golf Polo",
         40,
         2000.0
        ],
        [
         "Hagerstown",
         "Perfect Fitness Perfect Rip Deck",
         40,
         2399.6000595092773
        ],
        [
         "Katy",
         "Nike Men's Free 5.0+ Running Shoe",
         40,
         3999.6000213623047
        ],
        [
         "Lenoir",
         "O'Brien Men's Neoprene Life Vest",
         40,
         1999.1999816894531
        ],
        [
         "Lompoc",
         "Nike Men's Dri-FIT Victory Golf Polo",
         40,
         2000.0
        ],
        [
         "Middletown",
         "Nike Men's Free 5.0+ Running Shoe",
         40,
         3999.5999908447266
        ],
        [
         "Moreno Valley",
         "Nike Men's Free 5.0+ Running Shoe",
         40,
         3999.6000213623047
        ],
        [
         "Morrisville",
         "Perfect Fitness Perfect Rip Deck",
         40,
         2399.6000785827637
        ],
        [
         "Norcross",
         "Nike Men's Dri-FIT Victory Golf Polo",
         40,
         2000.0
        ],
        [
         "O Fallon",
         "O'Brien Men's Neoprene Life Vest",
         40,
         1999.1999778747559
        ],
        [
         "Opa Locka",
         "O'Brien Men's Neoprene Life Vest",
         40,
         1999.1999778747559
        ],
        [
         "Reseda",
         "Perfect Fitness Perfect Rip Deck",
         40,
         2399.600070953369
        ],
        [
         "Round Rock",
         "O'Brien Men's Neoprene Life Vest",
         40,
         1999.1999855041504
        ],
        [
         "Rancho Cordova",
         "O'Brien Men's Neoprene Life Vest",
         40,
         1999.1999740600586
        ],
        [
         "Van Nuys",
         "Nike Men's CJ Elite 2 TD Football Cleat",
         40,
         5199.6002197265625
        ],
        [
         "Warren",
         "O'Brien Men's Neoprene Life Vest",
         40,
         1999.1999778747559
        ],
        [
         "Yuma",
         "Perfect Fitness Perfect Rip Deck",
         40,
         2399.600067138672
        ],
        [
         "Waukegan",
         "O'Brien Men's Neoprene Life Vest",
         40,
         1999.1999893188477
        ],
        [
         "Zanesville",
         "Nike Men's Free 5.0+ Running Shoe",
         40,
         3999.6000213623047
        ],
        [
         "Passaic",
         "O'Brien Men's Neoprene Life Vest",
         40,
         1999.1999702453613
        ],
        [
         "Orange Park",
         "Under Armour Girls' Toddler Spine Surge Runni",
         40,
         1599.600025177002
        ],
        [
         "Baytown",
         "Perfect Fitness Perfect Rip Deck",
         40,
         2399.600070953369
        ],
        [
         "Bismarck",
         "Nike Men's Free 5.0+ Running Shoe",
         40,
         3999.5999755859375
        ],
        [
         "Chino",
         "Perfect Fitness Perfect Rip Deck",
         39,
         2339.6100578308105
        ],
        [
         "Cumberland",
         "O'Brien Men's Neoprene Life Vest",
         39,
         1949.2199974060059
        ],
        [
         "Endicott",
         "Under Armour Girls' Toddler Spine Surge Runni",
         39,
         1559.610019683838
        ],
        [
         "Holland",
         "Nike Men's Dri-FIT Victory Golf Polo",
         39,
         1950.0
        ],
        [
         "Lakewood",
         "Nike Men's CJ Elite 2 TD Football Cleat",
         39,
         5069.610214233398
        ],
        [
         "Sanford",
         "O'Brien Men's Neoprene Life Vest",
         39,
         1949.219985961914
        ],
        [
         "Saint Charles",
         "Nike Men's Dri-FIT Victory Golf Polo",
         39,
         1950.0
        ],
        [
         "Carrollton",
         "Under Armour Girls' Toddler Spine Surge Runni",
         39,
         1559.6100425720215
        ],
        [
         "Cypress",
         "O'Brien Men's Neoprene Life Vest",
         39,
         1949.2199745178223
        ],
        [
         "Harvey",
         "O'Brien Men's Neoprene Life Vest",
         39,
         1949.2199974060059
        ],
        [
         "Irwin",
         "Under Armour Girls' Toddler Spine Surge Runni",
         39,
         1559.6100311279297
        ],
        [
         "Jersey City",
         "Under Armour Girls' Toddler Spine Surge Runni",
         39,
         1559.6100425720215
        ],
        [
         "Loveland",
         "Nike Men's Free 5.0+ Running Shoe",
         39,
         3899.610038757324
        ],
        [
         "North Las Vegas",
         "Under Armour Girls' Toddler Spine Surge Runni",
         39,
         1559.6100311279297
        ],
        [
         "North Las Vegas",
         "O'Brien Men's Neoprene Life Vest",
         39,
         1949.219985961914
        ],
        [
         "Rego Park",
         "O'Brien Men's Neoprene Life Vest",
         39,
         1949.2199821472168
        ],
        [
         "Westland",
         "O'Brien Men's Neoprene Life Vest",
         39,
         1949.2199935913086
        ],
        [
         "Weslaco",
         "Nike Men's Free 5.0+ Running Shoe",
         39,
         3899.6099853515625
        ],
        [
         "Wichita",
         "Nike Men's Free 5.0+ Running Shoe",
         39,
         3899.6100158691406
        ],
        [
         "Chino",
         "Under Armour Girls' Toddler Spine Surge Runni",
         39,
         1559.6100425720215
        ],
        [
         "Oak Lawn",
         "Nike Men's Dri-FIT Victory Golf Polo",
         39,
         1950.0
        ],
        [
         "Carolina",
         "Under Armour Girls' Toddler Spine Surge Runni",
         39,
         1559.6100006103516
        ],
        [
         "Bellflower",
         "Perfect Fitness Perfect Rip Deck",
         39,
         2339.610061645508
        ],
        [
         "Bristol",
         "Perfect Fitness Perfect Rip Deck",
         39,
         2339.610050201416
        ],
        [
         "Chino Hills",
         "Nike Men's Dri-FIT Victory Golf Polo",
         38,
         1900.0
        ],
        [
         "Chesapeake",
         "Nike Men's Free 5.0+ Running Shoe",
         38,
         3799.6200408935547
        ],
        [
         "Chula Vista",
         "Nike Men's CJ Elite 2 TD Football Cleat",
         38,
         4939.620208740234
        ],
        [
         "Denton",
         "Under Armour Girls' Toddler Spine Surge Runni",
         38,
         1519.6200065612793
        ],
        [
         "Granite City",
         "Perfect Fitness Perfect Rip Deck",
         38,
         2279.620071411133
        ],
        [
         "East Brunswick",
         "Nike Men's Dri-FIT Victory Golf Polo",
         38,
         1900.0
        ],
        [
         "Highland",
         "Under Armour Girls' Toddler Spine Surge Runni",
         38,
         1519.6200218200684
        ],
        [
         "Kent",
         "Nike Men's Free 5.0+ Running Shoe",
         38,
         3799.6199798583984
        ],
        [
         "Loveland",
         "O'Brien Men's Neoprene Life Vest",
         38,
         1899.2399787902832
        ],
        [
         "Mount Prospect",
         "O'Brien Men's Neoprene Life Vest",
         38,
         1899.2399711608887
        ],
        [
         "North Hills",
         "O'Brien Men's Neoprene Life Vest",
         38,
         1899.2399940490723
        ],
        [
         "Placentia",
         "Perfect Fitness Perfect Rip Deck",
         38,
         2279.6200523376465
        ],
        [
         "Roswell",
         "Under Armour Girls' Toddler Spine Surge Runni",
         38,
         1519.620044708252
        ],
        [
         "South Ozone Park",
         "O'Brien Men's Neoprene Life Vest",
         38,
         1899.2399826049805
        ],
        [
         "Alpharetta",
         "Nike Men's Dri-FIT Victory Golf Polo",
         38,
         1900.0
        ],
        [
         "Spring Valley",
         "Nike Men's Free 5.0+ Running Shoe",
         38,
         3799.6200256347656
        ],
        [
         "San Sebastian",
         "Nike Men's Free 5.0+ Running Shoe",
         38,
         3799.6199951171875
        ],
        [
         "Beloit",
         "Perfect Fitness Perfect Rip Deck",
         38,
         2279.6200637817383
        ],
        [
         "Clearfield",
         "Nike Men's Free 5.0+ Running Shoe",
         38,
         3799.6200256347656
        ],
        [
         "El Cajon",
         "Under Armour Girls' Toddler Spine Surge Runni",
         38,
         1519.6200370788574
        ],
        [
         "Greensburg",
         "O'Brien Men's Neoprene Life Vest",
         38,
         1899.239974975586
        ],
        [
         "Hollister",
         "Nike Men's Dri-FIT Victory Golf Polo",
         38,
         1900.0
        ],
        [
         "Hollywood",
         "Nike Men's CJ Elite 2 TD Football Cleat",
         38,
         4939.620208740234
        ],
        [
         "Kaneohe",
         "O'Brien Men's Neoprene Life Vest",
         38,
         1899.239974975586
        ],
        [
         "Kent",
         "Under Armour Girls' Toddler Spine Surge Runni",
         38,
         1519.620018005371
        ],
        [
         "La Crosse",
         "Nike Men's Free 5.0+ Running Shoe",
         38,
         3799.6200408935547
        ],
        [
         "Lindenhurst",
         "Nike Men's Dri-FIT Victory Golf Polo",
         38,
         1900.0
        ],
        [
         "Madison",
         "O'Brien Men's Neoprene Life Vest",
         38,
         1899.2399673461914
        ],
        [
         "Medford",
         "O'Brien Men's Neoprene Life Vest",
         38,
         1899.239974975586
        ],
        [
         "Meridian",
         "Nike Men's Dri-FIT Victory Golf Polo",
         38,
         1900.0
        ],
        [
         "North Hills",
         "Under Armour Girls' Toddler Spine Surge Runni",
         38,
         1519.620018005371
        ],
        [
         "North Tonawanda",
         "Nike Men's Dri-FIT Victory Golf Polo",
         38,
         1900.0
        ],
        [
         "Opa Locka",
         "Under Armour Girls' Toddler Spine Surge Runni",
         38,
         1519.6200332641602
        ],
        [
         "Pawtucket",
         "Nike Men's Dri-FIT Victory Golf Polo",
         38,
         1900.0
        ],
        [
         "Pico Rivera",
         "Nike Men's Dri-FIT Victory Golf Polo",
         38,
         1900.0
        ],
        [
         "Potomac",
         "Perfect Fitness Perfect Rip Deck",
         38,
         2279.6200561523438
        ],
        [
         "Potomac",
         "Nike Men's Dri-FIT Victory Golf Polo",
         38,
         1900.0
        ],
        [
         "Saint Charles",
         "O'Brien Men's Neoprene Life Vest",
         38,
         1899.2399864196777
        ],
        [
         "Salina",
         "Perfect Fitness Perfect Rip Deck",
         38,
         2279.6200637817383
        ],
        [
         "Salinas",
         "O'Brien Men's Neoprene Life Vest",
         38,
         1899.239990234375
        ],
        [
         "Smyrna",
         "Perfect Fitness Perfect Rip Deck",
         38,
         2279.6200637817383
        ],
        [
         "Spokane",
         "Nike Men's Dri-FIT Victory Golf Polo",
         38,
         1900.0
        ],
        [
         "Tonawanda",
         "Nike Men's Free 5.0+ Running Shoe",
         38,
         3799.619972229004
        ],
        [
         "Upland",
         "Perfect Fitness Perfect Rip Deck",
         38,
         2279.6200790405273
        ],
        [
         "West New York",
         "Nike Men's Free 5.0+ Running Shoe",
         38,
         3799.6199951171875
        ],
        [
         "Bay Shore",
         "Nike Men's Dri-FIT Victory Golf Polo",
         38,
         1900.0
        ],
        [
         "West Orange",
         "Perfect Fitness Perfect Rip Deck",
         38,
         2279.620048522949
        ],
        [
         "Yauco",
         "Nike Men's Dri-FIT Victory Golf Polo",
         38,
         1900.0
        ],
        [
         "Mission Viejo",
         "Nike Men's CJ Elite 2 TD Football Cleat",
         38,
         4939.620208740234
        ],
        [
         "Catonsville",
         "Under Armour Girls' Toddler Spine Surge Runni",
         38,
         1519.6200141906738
        ],
        [
         "Milpitas",
         "O'Brien Men's Neoprene Life Vest",
         38,
         1899.239974975586
        ],
        [
         "Billings",
         "O'Brien Men's Neoprene Life Vest",
         37,
         1849.259967803955
        ],
        [
         "Baytown",
         "Nike Men's Dri-FIT Victory Golf Polo",
         37,
         1850.0
        ],
        [
         "Arecibo",
         "Perfect Fitness Perfect Rip Deck",
         37,
         2219.630069732666
        ],
        [
         "Cordova",
         "Nike Men's Dri-FIT Victory Golf Polo",
         37,
         1850.0
        ],
        [
         "Brandon",
         "O'Brien Men's Neoprene Life Vest",
         37,
         1849.2599792480469
        ],
        [
         "Cordova",
         "Perfect Fitness Perfect Rip Deck",
         37,
         2219.630058288574
        ],
        [
         "Jacksonville",
         "Under Armour Girls' Toddler Spine Surge Runni",
         37,
         1479.6300201416016
        ],
        [
         "Medford",
         "Perfect Fitness Perfect Rip Deck",
         37,
         2219.6300773620605
        ],
        [
         "Richardson",
         "Perfect Fitness Perfect Rip Deck",
         37,
         2219.6300735473633
        ],
        [
         "Bolingbrook",
         "Perfect Fitness Perfect Rip Deck",
         37,
         2219.630058288574
        ],
        [
         "Salina",
         "O'Brien Men's Neoprene Life Vest",
         37,
         1849.2599754333496
        ],
        [
         "Sunnyvale",
         "Under Armour Girls' Toddler Spine Surge Runni",
         37,
         1479.6300239562988
        ],
        [
         "Sun Valley",
         "Nike Men's Dri-FIT Victory Golf Polo",
         37,
         1850.0
        ],
        [
         "Alpharetta",
         "O'Brien Men's Neoprene Life Vest",
         37,
         1849.2599792480469
        ],
        [
         "Cerritos",
         "Under Armour Girls' Toddler Spine Surge Runni",
         37,
         1479.630012512207
        ],
        [
         "Daly City",
         "Nike Men's Free 5.0+ Running Shoe",
         37,
         3699.629997253418
        ],
        [
         "Flushing",
         "Perfect Fitness Perfect Rip Deck",
         37,
         2219.6300659179688
        ],
        [
         "Greensboro",
         "Under Armour Girls' Toddler Spine Surge Runni",
         37,
         1479.6300315856934
        ],
        [
         "Hyattsville",
         "Nike Men's CJ Elite 2 TD Football Cleat",
         37,
         4809.63020324707
        ],
        [
         "Lansdale",
         "O'Brien Men's Neoprene Life Vest",
         37,
         1849.2599792480469
        ],
        [
         "Manati",
         "Under Armour Girls' Toddler Spine Surge Runni",
         37,
         1479.6300315856934
        ],
        [
         "Milford",
         "Under Armour Girls' Toddler Spine Surge Runni",
         37,
         1479.6300086975098
        ],
        [
         "Napa",
         "O'Brien Men's Neoprene Life Vest",
         37,
         1849.259994506836
        ],
        [
         "New Albany",
         "Perfect Fitness Perfect Rip Deck",
         37,
         2219.630054473877
        ],
        [
         "Quincy",
         "Nike Men's Free 5.0+ Running Shoe",
         37,
         3699.629997253418
        ],
        [
         "Saginaw",
         "Perfect Fitness Perfect Rip Deck",
         37,
         2219.630054473877
        ],
        [
         "Sanford",
         "Perfect Fitness Perfect Rip Deck",
         37,
         2219.630069732666
        ],
        [
         "Santa Clara",
         "Nike Men's Dri-FIT Victory Golf Polo",
         37,
         1850.0
        ],
        [
         "Seattle",
         "Nike Men's Free 5.0+ Running Shoe",
         37,
         3699.6300201416016
        ],
        [
         "Placentia",
         "O'Brien Men's Neoprene Life Vest",
         37,
         1849.2599983215332
        ],
        [
         "Tinley Park",
         "Perfect Fitness Perfect Rip Deck",
         37,
         2219.6300659179688
        ],
        [
         "Tulare",
         "O'Brien Men's Neoprene Life Vest",
         37,
         1849.2599830627441
        ],
        [
         "Walnut",
         "Nike Men's Dri-FIT Victory Golf Polo",
         37,
         1850.0
        ],
        [
         "Valrico",
         "Nike Men's Dri-FIT Victory Golf Polo",
         37,
         1850.0
        ],
        [
         "West Jordan",
         "O'Brien Men's Neoprene Life Vest",
         37,
         1849.2599830627441
        ],
        [
         "Algonquin",
         "O'Brien Men's Neoprene Life Vest",
         37,
         1849.2599754333496
        ],
        [
         "Alhambra",
         "Perfect Fitness Perfect Rip Deck",
         37,
         2219.630058288574
        ],
        [
         "Doylestown",
         "O'Brien Men's Neoprene Life Vest",
         36,
         1799.2799987792969
        ],
        [
         "Eagle Pass",
         "Perfect Fitness Perfect Rip Deck",
         36,
         2159.640068054199
        ],
        [
         "El Centro",
         "Nike Men's Free 5.0+ Running Shoe",
         36,
         3599.639991760254
        ],
        [
         "Elk Grove",
         "O'Brien Men's Neoprene Life Vest",
         36,
         1799.2799644470215
        ],
        [
         "Fontana",
         "Under Armour Girls' Toddler Spine Surge Runni",
         36,
         1439.640037536621
        ],
        [
         "Holland",
         "O'Brien Men's Neoprene Life Vest",
         36,
         1799.2800025939941
        ],
        [
         "Hamilton",
         "Nike Men's CJ Elite 2 TD Football Cleat",
         36,
         4679.640197753906
        ],
        [
         "Irwin",
         "Nike Men's Free 5.0+ Running Shoe",
         36,
         3599.6399841308594
        ],
        [
         "Mount Pleasant",
         "Nike Men's Free 5.0+ Running Shoe",
         36,
         3599.639961242676
        ],
        [
         "Norfolk",
         "Nike Men's Dri-FIT Victory Golf Polo",
         36,
         1800.0
        ],
        [
         "Rochester",
         "Nike Men's Dri-FIT Victory Golf Polo",
         36,
         1800.0
        ],
        [
         "Plainfield",
         "O'Brien Men's Neoprene Life Vest",
         36,
         1799.2799797058105
        ],
        [
         "San Benito",
         "Under Armour Girls' Toddler Spine Surge Runni",
         36,
         1439.6400260925293
        ],
        [
         "Silver Spring",
         "Nike Men's CJ Elite 2 TD Football Cleat",
         36,
         4679.640197753906
        ],
        [
         "Warren",
         "Nike Men's Free 5.0+ Running Shoe",
         36,
         3599.639991760254
        ],
        [
         "Wilkes Barre",
         "O'Brien Men's Neoprene Life Vest",
         36,
         1799.2799835205078
        ],
        [
         "Bismarck",
         "Under Armour Girls' Toddler Spine Surge Runni",
         36,
         1439.6400108337402
        ],
        [
         "El Cajon",
         "Nike Men's CJ Elite 2 TD Football Cleat",
         36,
         4679.640197753906
        ],
        [
         "Elk Grove",
         "Nike Men's Dri-FIT Victory Golf Polo",
         36,
         1800.0
        ],
        [
         "Fargo",
         "Perfect Fitness Perfect Rip Deck",
         36,
         2159.640064239502
        ],
        [
         "Fayetteville",
         "Under Armour Girls' Toddler Spine Surge Runni",
         36,
         1439.6400146484375
        ],
        [
         "Fort Washington",
         "O'Brien Men's Neoprene Life Vest",
         36,
         1799.2799682617188
        ],
        [
         "Gilroy",
         "Nike Men's Dri-FIT Victory Golf Polo",
         36,
         1800.0
        ],
        [
         "Goose Creek",
         "Under Armour Girls' Toddler Spine Surge Runni",
         36,
         1439.6400146484375
        ],
        [
         "Hickory",
         "O'Brien Men's Neoprene Life Vest",
         36,
         1799.2799797058105
        ],
        [
         "Huntington Station",
         "Nike Men's Dri-FIT Victory Golf Polo",
         36,
         1800.0
        ],
        [
         "Levittown",
         "O'Brien Men's Neoprene Life Vest",
         36,
         1799.2799911499023
        ],
        [
         "Lindenhurst",
         "O'Brien Men's Neoprene Life Vest",
         36,
         1799.2799987792969
        ],
        [
         "Martinez",
         "Nike Men's Dri-FIT Victory Golf Polo",
         36,
         1800.0
        ],
        [
         "Moline",
         "Nike Men's Free 5.0+ Running Shoe",
         36,
         3599.640007019043
        ],
        [
         "New Bedford",
         "Perfect Fitness Perfect Rip Deck",
         36,
         2159.640064239502
        ],
        [
         "New Brunswick",
         "Nike Men's Dri-FIT Victory Golf Polo",
         36,
         1800.0
        ],
        [
         "North Richland Hills",
         "Nike Men's Free 5.0+ Running Shoe",
         36,
         3599.639961242676
        ],
        [
         "North Richland Hills",
         "Under Armour Girls' Toddler Spine Surge Runni",
         36,
         1439.640007019043
        ],
        [
         "Pasadena",
         "Nike Men's Free 5.0+ Running Shoe",
         36,
         3599.640007019043
        ],
        [
         "Rochester",
         "Under Armour Girls' Toddler Spine Surge Runni",
         36,
         1439.6400299072266
        ],
        [
         "San Ramon",
         "Nike Men's Free 5.0+ Running Shoe",
         36,
         3599.6400604248047
        ],
        [
         "San Sebastian",
         "O'Brien Men's Neoprene Life Vest",
         36,
         1799.2799797058105
        ],
        [
         "Scottsdale",
         "Nike Men's Dri-FIT Victory Golf Polo",
         36,
         1800.0
        ],
        [
         "Scottsdale",
         "Nike Men's Free 5.0+ Running Shoe",
         36,
         3599.6399993896484
        ],
        [
         "Springfield",
         "Perfect Fitness Perfect Rip Deck",
         36,
         2159.6400604248047
        ],
        [
         "Vista",
         "Nike Men's Free 5.0+ Running Shoe",
         36,
         3599.640007019043
        ],
        [
         "Wayne",
         "Under Armour Girls' Toddler Spine Surge Runni",
         36,
         1439.640022277832
        ],
        [
         "Weslaco",
         "Perfect Fitness Perfect Rip Deck",
         36,
         2159.6400451660156
        ],
        [
         "Westerville",
         "Under Armour Girls' Toddler Spine Surge Runni",
         36,
         1439.6400146484375
        ],
        [
         "Algonquin",
         "Nike Men's Dri-FIT Victory Golf Polo",
         36,
         1800.0
        ],
        [
         "Williamsport",
         "Perfect Fitness Perfect Rip Deck",
         36,
         2159.640068054199
        ],
        [
         "Pharr",
         "O'Brien Men's Neoprene Life Vest",
         36,
         1799.2799835205078
        ],
        [
         "Carmichael",
         "Perfect Fitness Perfect Rip Deck",
         36,
         2159.640064239502
        ],
        [
         "Compton",
         "Nike Men's CJ Elite 2 TD Football Cleat",
         36,
         4679.640197753906
        ],
        [
         "Albany",
         "Nike Men's Dri-FIT Victory Golf Polo",
         36,
         1800.0
        ],
        [
         "Bellflower",
         "Under Armour Girls' Toddler Spine Surge Runni",
         35,
         1399.650016784668
        ],
        [
         "Beaverton",
         "O'Brien Men's Neoprene Life Vest",
         35,
         1749.2999801635742
        ],
        [
         "Bountiful",
         "Nike Men's Dri-FIT Victory Golf Polo",
         35,
         1750.0
        ],
        [
         "Canyon Country",
         "Perfect Fitness Perfect Rip Deck",
         35,
         2099.650062561035
        ],
        [
         "Chula Vista",
         "Under Armour Girls' Toddler Spine Surge Runni",
         35,
         1399.6500129699707
        ],
        [
         "Fullerton",
         "Under Armour Girls' Toddler Spine Surge Runni",
         35,
         1399.6500282287598
        ],
        [
         "Hacienda Heights",
         "O'Brien Men's Neoprene Life Vest",
         35,
         1749.2999801635742
        ],
        [
         "North Bergen",
         "Perfect Fitness Perfect Rip Deck",
         35,
         2099.6500549316406
        ],
        [
         "Pawtucket",
         "Nike Men's Free 5.0+ Running Shoe",
         35,
         3499.650047302246
        ],
        [
         "Silver Spring",
         "Nike Men's Free 5.0+ Running Shoe",
         35,
         3499.64998626709
        ],
        [
         "Santa Clara",
         "O'Brien Men's Neoprene Life Vest",
         35,
         1749.2999839782715
        ],
        [
         "Arecibo",
         "Under Armour Girls' Toddler Spine Surge Runni",
         35,
         1399.6500091552734
        ],
        [
         "Broomfield",
         "O'Brien Men's Neoprene Life Vest",
         35,
         1749.2999839782715
        ],
        [
         "Cerritos",
         "Nike Men's Dri-FIT Victory Golf Polo",
         35,
         1750.0
        ],
        [
         "Denton",
         "O'Brien Men's Neoprene Life Vest",
         35,
         1749.2999839782715
        ],
        [
         "Duluth",
         "Nike Men's Dri-FIT Victory Golf Polo",
         35,
         1750.0
        ],
        [
         "Edison",
         "O'Brien Men's Neoprene Life Vest",
         35,
         1749.2999801635742
        ],
        [
         "Fullerton",
         "Nike Men's CJ Elite 2 TD Football Cleat",
         35,
         4549.650192260742
        ],
        [
         "Highland Park",
         "O'Brien Men's Neoprene Life Vest",
         35,
         1749.299976348877
        ],
        [
         "Laguna Niguel",
         "O'Brien Men's Neoprene Life Vest",
         35,
         1749.2999801635742
        ],
        [
         "Medina",
         "Nike Men's Dri-FIT Victory Golf Polo",
         35,
         1750.0
        ],
        [
         "North Bergen",
         "Nike Men's Dri-FIT Victory Golf Polo",
         35,
         1750.0
        ],
        [
         "Opelousas",
         "Nike Men's Free 5.0+ Running Shoe",
         35,
         3499.6499786376953
        ],
        [
         "Pacoima",
         "Nike Men's Dri-FIT Victory Golf Polo",
         35,
         1750.0
        ],
        [
         "Pharr",
         "Nike Men's Free 5.0+ Running Shoe",
         35,
         3499.6499633789062
        ],
        [
         "Roseburg",
         "Perfect Fitness Perfect Rip Deck",
         35,
         2099.650058746338
        ],
        [
         "San Pablo",
         "Nike Men's Dri-FIT Victory Golf Polo",
         35,
         1750.0
        ],
        [
         "Santa Clara",
         "Under Armour Girls' Toddler Spine Surge Runni",
         35,
         1399.6500091552734
        ],
        [
         "South Richmond Hill",
         "Nike Men's Dri-FIT Victory Golf Polo",
         35,
         1750.0
        ],
        [
         "Wichita",
         "Under Armour Girls' Toddler Spine Surge Runni",
         35,
         1399.6499862670898
        ],
        [
         "Visalia",
         "O'Brien Men's Neoprene Life Vest",
         35,
         1749.2999839782715
        ],
        [
         "Wyandotte",
         "O'Brien Men's Neoprene Life Vest",
         35,
         1749.299976348877
        ],
        [
         "Far Rockaway",
         "Nike Men's Dri-FIT Victory Golf Polo",
         35,
         1750.0
        ],
        [
         "Forest Hills",
         "Nike Men's Dri-FIT Victory Golf Polo",
         35,
         1750.0
        ],
        [
         "Apopka",
         "Nike Men's Free 5.0+ Running Shoe",
         35,
         3499.6499938964844
        ],
        [
         "Amarillo",
         "Nike Men's Free 5.0+ Running Shoe",
         35,
         3499.6499786376953
        ],
        [
         "Annandale",
         "O'Brien Men's Neoprene Life Vest",
         35,
         1749.299991607666
        ],
        [
         "Murfreesboro",
         "Under Armour Girls' Toddler Spine Surge Runni",
         34,
         1359.6600036621094
        ],
        [
         "North Las Vegas",
         "Nike Men's Free 5.0+ Running Shoe",
         34,
         3399.6600189208984
        ],
        [
         "Saint Charles",
         "Under Armour Girls' Toddler Spine Surge Runni",
         34,
         1359.6600151062012
        ],
        [
         "Annandale",
         "Perfect Fitness Perfect Rip Deck",
         34,
         2039.6600494384766
        ],
        [
         "Lewisville",
         "Nike Men's Dri-FIT Victory Golf Polo",
         34,
         1700.0
        ],
        [
         "Piscataway",
         "Nike Men's Free 5.0+ Running Shoe",
         34,
         3399.660041809082
        ],
        [
         "Redmond",
         "O'Brien Men's Neoprene Life Vest",
         34,
         1699.3199768066406
        ],
        [
         "Salem",
         "Nike Men's CJ Elite 2 TD Football Cleat",
         34,
         4419.660186767578
        ],
        [
         "Staten Island",
         "Under Armour Girls' Toddler Spine Surge Runni",
         34,
         1359.660026550293
        ],
        [
         "Woodside",
         "Nike Men's Dri-FIT Victory Golf Polo",
         34,
         1700.0
        ],
        [
         "Annapolis",
         "Nike Men's Dri-FIT Victory Golf Polo",
         34,
         1700.0
        ],
        [
         "Crown Point",
         "Nike Men's Dri-FIT Victory Golf Polo",
         34,
         1700.0
        ],
        [
         "Flushing",
         "O'Brien Men's Neoprene Life Vest",
         34,
         1699.3199882507324
        ],
        [
         "Lockport",
         "Nike Men's CJ Elite 2 TD Football Cleat",
         34,
         4419.660186767578
        ],
        [
         "Martinsburg",
         "Nike Men's Free 5.0+ Running Shoe",
         34,
         3399.6600189208984
        ],
        [
         "Powder Springs",
         "Nike Men's Dri-FIT Victory Golf Polo",
         34,
         1700.0
        ],
        [
         "Redmond",
         "Nike Men's Free 5.0+ Running Shoe",
         34,
         3399.6600036621094
        ],
        [
         "Ridgewood",
         "Nike Men's Free 5.0+ Running Shoe",
         34,
         3399.6600189208984
        ],
        [
         "Simi Valley",
         "Under Armour Girls' Toddler Spine Surge Runni",
         34,
         1359.6600227355957
        ],
        [
         "Ventura",
         "Under Armour Girls' Toddler Spine Surge Runni",
         34,
         1359.6600303649902
        ],
        [
         "Watsonville",
         "Nike Men's Dri-FIT Victory Golf Polo",
         34,
         1700.0
        ],
        [
         "Beaverton",
         "Nike Men's Free 5.0+ Running Shoe",
         34,
         3399.6600341796875
        ],
        [
         "Clementon",
         "O'Brien Men's Neoprene Life Vest",
         34,
         1699.3199844360352
        ],
        [
         "El Monte",
         "Nike Men's Dri-FIT Victory Golf Polo",
         34,
         1700.0
        ],
        [
         "Ewa Beach",
         "Nike Men's Dri-FIT Victory Golf Polo",
         34,
         1700.0
        ],
        [
         "Hawthorne",
         "Perfect Fitness Perfect Rip Deck",
         34,
         2039.6600532531738
        ],
        [
         "Fond Du Lac",
         "Nike Men's Dri-FIT Victory Golf Polo",
         34,
         1700.0
        ],
        [
         "Huntington Park",
         "Perfect Fitness Perfect Rip Deck",
         34,
         2039.6600379943848
        ],
        [
         "Laguna Niguel",
         "Nike Men's Dri-FIT Victory Golf Polo",
         34,
         1700.0
        ],
        [
         "Metairie",
         "Perfect Fitness Perfect Rip Deck",
         34,
         2039.660057067871
        ],
        [
         "Rosemead",
         "O'Brien Men's Neoprene Life Vest",
         34,
         1699.319995880127
        ],
        [
         "Stafford",
         "O'Brien Men's Neoprene Life Vest",
         34,
         1699.319969177246
        ],
        [
         "Woodbridge",
         "Under Armour Girls' Toddler Spine Surge Runni",
         34,
         1359.6600151062012
        ],
        [
         "Bowling Green",
         "O'Brien Men's Neoprene Life Vest",
         34,
         1699.3199844360352
        ],
        [
         "Encinitas",
         "Nike Men's CJ Elite 2 TD Football Cleat",
         34,
         4419.660186767578
        ],
        [
         "Glendale",
         "Nike Men's CJ Elite 2 TD Football Cleat",
         34,
         4419.660186767578
        ],
        [
         "Irwin",
         "Nike Men's Dri-FIT Victory Golf Polo",
         34,
         1700.0
        ],
        [
         "Jonesboro",
         "Under Armour Girls' Toddler Spine Surge Runni",
         34,
         1359.6600036621094
        ],
        [
         "La Habra",
         "O'Brien Men's Neoprene Life Vest",
         34,
         1699.319980621338
        ],
        [
         "Laguna Hills",
         "Nike Men's Dri-FIT Victory Golf Polo",
         34,
         1700.0
        ],
        [
         "Lawrenceville",
         "Perfect Fitness Perfect Rip Deck",
         34,
         2039.6600494384766
        ],
        [
         "Lawton",
         "Perfect Fitness Perfect Rip Deck",
         34,
         2039.6600532531738
        ],
        [
         "Danbury",
         "Nike Men's Free 5.0+ Running Shoe",
         33,
         3299.6699752807617
        ],
        [
         "Davis",
         "Under Armour Girls' Toddler Spine Surge Runni",
         33,
         1319.6700019836426
        ],
        [
         "Henrico",
         "Perfect Fitness Perfect Rip Deck",
         33,
         1979.6700477600098
        ],
        [
         "Arlington",
         "Nike Men's Free 5.0+ Running Shoe",
         33,
         3299.6700134277344
        ],
        [
         "Dorchester Center",
         "Under Armour Girls' Toddler Spine Surge Runni",
         33,
         1319.6700134277344
        ],
        [
         "Hilliard",
         "O'Brien Men's Neoprene Life Vest",
         33,
         1649.339988708496
        ],
        [
         "Lewisville",
         "O'Brien Men's Neoprene Life Vest",
         33,
         1649.339988708496
        ],
        [
         "Rio Grande",
         "O'Brien Men's Neoprene Life Vest",
         33,
         1649.339988708496
        ],
        [
         "Chapel Hill",
         "O'Brien Men's Neoprene Life Vest",
         33,
         1649.339988708496
        ],
        [
         "Everett",
         "Nike Men's Free 5.0+ Running Shoe",
         33,
         3299.6700134277344
        ],
        [
         "Freeport",
         "Nike Men's CJ Elite 2 TD Football Cleat",
         33,
         4289.670181274414
        ],
        [
         "Hyattsville",
         "Nike Men's Free 5.0+ Running Shoe",
         33,
         3299.67000579834
        ],
        [
         "Joliet",
         "O'Brien Men's Neoprene Life Vest",
         33,
         1649.3399925231934
        ],
        [
         "Lynnwood",
         "Nike Men's Dri-FIT Victory Golf Polo",
         33,
         1650.0
        ],
        [
         "New Bedford",
         "Nike Men's Free 5.0+ Running Shoe",
         33,
         3299.670021057129
        ],
        [
         "Roseburg",
         "Nike Men's Dri-FIT Victory Golf Polo",
         33,
         1650.0
        ],
        [
         "Toa Baja",
         "Perfect Fitness Perfect Rip Deck",
         33,
         1979.670051574707
        ],
        [
         "Princeton",
         "Pelican Sunstream 100 Kayak",
         33,
         6599.670181274414
        ],
        [
         "Clementon",
         "Perfect Fitness Perfect Rip Deck",
         33,
         1979.6700553894043
        ],
        [
         "Flushing",
         "Nike Men's Dri-FIT Victory Golf Polo",
         33,
         1650.0
        ],
        [
         "Gilroy",
         "Perfect Fitness Perfect Rip Deck",
         33,
         1979.6700553894043
        ],
        [
         "Guayama",
         "Under Armour Girls' Toddler Spine Surge Runni",
         33,
         1319.6700019836426
        ],
        [
         "Irvington",
         "Perfect Fitness Perfect Rip Deck",
         33,
         1979.670051574707
        ],
        [
         "Juana Diaz",
         "Perfect Fitness Perfect Rip Deck",
         33,
         1979.6700630187988
        ],
        [
         "Laguna Hills",
         "Perfect Fitness Perfect Rip Deck",
         33,
         1979.6700706481934
        ],
        [
         "Manchester",
         "O'Brien Men's Neoprene Life Vest",
         33,
         1649.3399848937988
        ],
        [
         "New Brunswick",
         "Nike Men's Free 5.0+ Running Shoe",
         33,
         3299.6699829101562
        ],
        [
         "Porterville",
         "Nike Men's Dri-FIT Victory Golf Polo",
         33,
         1650.0
        ],
        [
         "Trujillo Alto",
         "Nike Men's Dri-FIT Victory Golf Polo",
         33,
         1650.0
        ],
        [
         "Walnut",
         "Nike Men's Free 5.0+ Running Shoe",
         33,
         3299.669990539551
        ],
        [
         "Wheaton",
         "Nike Men's Free 5.0+ Running Shoe",
         33,
         3299.6699752807617
        ],
        [
         "Princeton",
         "Under Armour Girls' Toddler Spine Surge Runni",
         33,
         1319.6699981689453
        ],
        [
         "Clementon",
         "Nike Men's Dri-FIT Victory Golf Polo",
         33,
         1650.0
        ],
        [
         "Folsom",
         "O'Brien Men's Neoprene Life Vest",
         33,
         1649.3399772644043
        ],
        [
         "Henrico",
         "Nike Men's Dri-FIT Victory Golf Polo",
         33,
         1650.0
        ],
        [
         "Las Cruces",
         "Under Armour Girls' Toddler Spine Surge Runni",
         33,
         1319.6700134277344
        ],
        [
         "Michigan City",
         "Perfect Fitness Perfect Rip Deck",
         33,
         1979.6700553894043
        ],
        [
         "Poway",
         "Perfect Fitness Perfect Rip Deck",
         33,
         1979.6700706481934
        ],
        [
         "Warren",
         "Nike Men's Dri-FIT Victory Golf Polo",
         33,
         1650.0
        ],
        [
         "Yauco",
         "Nike Men's Free 5.0+ Running Shoe",
         33,
         3299.6699600219727
        ],
        [
         "Compton",
         "Nike Men's Free 5.0+ Running Shoe",
         33,
         3299.669967651367
        ],
        [
         "Costa Mesa",
         "Under Armour Girls' Toddler Spine Surge Runni",
         32,
         1279.680030822754
        ],
        [
         "Cumberland",
         "Under Armour Girls' Toddler Spine Surge Runni",
         32,
         1279.6800422668457
        ],
        [
         "Davis",
         "Nike Men's Free 5.0+ Running Shoe",
         32,
         3199.6800079345703
        ],
        [
         "Pacoima",
         "Perfect Fitness Perfect Rip Deck",
         32,
         1919.6800498962402
        ],
        [
         "Dayton",
         "O'Brien Men's Neoprene Life Vest",
         32,
         1599.3599891662598
        ],
        [
         "Irvington",
         "Nike Men's Dri-FIT Victory Golf Polo",
         32,
         1600.0
        ],
        [
         "Rock Hill",
         "O'Brien Men's Neoprene Life Vest",
         32,
         1599.359977722168
        ],
        [
         "Passaic",
         "Perfect Fitness Perfect Rip Deck",
         32,
         1919.6800537109375
        ],
        [
         "Decatur",
         "Nike Men's Free 5.0+ Running Shoe",
         32,
         3199.679977416992
        ],
        [
         "Fargo",
         "Nike Men's Free 5.0+ Running Shoe",
         32,
         3199.6800079345703
        ],
        [
         "Jackson",
         "Nike Men's Free 5.0+ Running Shoe",
         32,
         3199.6800079345703
        ],
        [
         "Massillon",
         "Perfect Fitness Perfect Rip Deck",
         32,
         1919.680046081543
        ],
        [
         "Roseburg",
         "O'Brien Men's Neoprene Life Vest",
         32,
         1599.3599815368652
        ],
        [
         "Tustin",
         "Under Armour Girls' Toddler Spine Surge Runni",
         32,
         1279.680019378662
        ],
        [
         "Plymouth",
         "Nike Men's Free 5.0+ Running Shoe",
         32,
         3199.6799850463867
        ],
        [
         "Chapel Hill",
         "Under Armour Girls' Toddler Spine Surge Runni",
         32,
         1279.6799926757812
        ],
        [
         "Far Rockaway",
         "O'Brien Men's Neoprene Life Vest",
         32,
         1599.3599739074707
        ],
        [
         "Federal Way",
         "Nike Men's Dri-FIT Victory Golf Polo",
         32,
         1600.0
        ],
        [
         "Findlay",
         "O'Brien Men's Neoprene Life Vest",
         32,
         1599.3599891662598
        ],
        [
         "La Puente",
         "Nike Men's Dri-FIT Victory Golf Polo",
         32,
         1600.0
        ],
        [
         "Murfreesboro",
         "Nike Men's Free 5.0+ Running Shoe",
         32,
         3199.6799697875977
        ],
        [
         "Napa",
         "Nike Men's Dri-FIT Victory Golf Polo",
         32,
         1600.0
        ],
        [
         "Roseville",
         "Nike Men's Free 5.0+ Running Shoe",
         32,
         3199.6799926757812
        ],
        [
         "Salinas",
         "Under Armour Girls' Toddler Spine Surge Runni",
         32,
         1279.6800079345703
        ],
        [
         "Van Nuys",
         "Nike Men's Free 5.0+ Running Shoe",
         32,
         3199.6799850463867
        ],
        [
         "Wyoming",
         "Under Armour Girls' Toddler Spine Surge Runni",
         32,
         1279.6800270080566
        ],
        [
         "Tinley Park",
         "O'Brien Men's Neoprene Life Vest",
         32,
         1599.3599815368652
        ],
        [
         "Chicago Heights",
         "Perfect Fitness Perfect Rip Deck",
         32,
         1919.6800689697266
        ],
        [
         "Carson",
         "Nike Men's Free 5.0+ Running Shoe",
         32,
         3199.680000305176
        ],
        [
         "Greensburg",
         "Perfect Fitness Perfect Rip Deck",
         32,
         1919.6800384521484
        ],
        [
         "Las Cruces",
         "Nike Men's Dri-FIT Victory Golf Polo",
         32,
         1600.0
        ],
        [
         "Oregon City",
         "Nike Men's Dri-FIT Victory Golf Polo",
         32,
         1600.0
        ],
        [
         "Stone Mountain",
         "Perfect Fitness Perfect Rip Deck",
         32,
         1919.6800498962402
        ],
        [
         "Wilkes Barre",
         "Perfect Fitness Perfect Rip Deck",
         32,
         1919.6800537109375
        ],
        [
         "Wyandotte",
         "Nike Men's Dri-FIT Victory Golf Polo",
         32,
         1600.0
        ],
        [
         "Brockton",
         "Perfect Fitness Perfect Rip Deck",
         32,
         1919.6800575256348
        ],
        [
         "Alhambra",
         "O'Brien Men's Neoprene Life Vest",
         31,
         1549.3799858093262
        ],
        [
         "Apopka",
         "Perfect Fitness Perfect Rip Deck",
         31,
         1859.6900596618652
        ],
        [
         "Azusa",
         "Nike Men's Free 5.0+ Running Shoe",
         31,
         3099.6900024414062
        ],
        [
         "Arlington Heights",
         "Perfect Fitness Perfect Rip Deck",
         31,
         1859.6900634765625
        ],
        [
         "Berwyn",
         "Perfect Fitness Perfect Rip Deck",
         31,
         1859.6900596618652
        ],
        [
         "Harlingen",
         "O'Brien Men's Neoprene Life Vest",
         31,
         1549.3799896240234
        ],
        [
         "Glenview",
         "O'Brien Men's Neoprene Life Vest",
         31,
         1549.3799743652344
        ],
        [
         "Blacksburg",
         "Nike Men's Dri-FIT Victory Golf Polo",
         31,
         1550.0
        ],
        [
         "Carmichael",
         "O'Brien Men's Neoprene Life Vest",
         31,
         1549.3799858093262
        ],
        [
         "Hawthorne",
         "Nike Men's Dri-FIT Victory Golf Polo",
         31,
         1550.0
        ],
        [
         "Lutz",
         "Nike Men's Dri-FIT Victory Golf Polo",
         31,
         1550.0
        ],
        [
         "Peoria",
         "Under Armour Girls' Toddler Spine Surge Runni",
         31,
         1239.6900253295898
        ],
        [
         "Peabody",
         "Perfect Fitness Perfect Rip Deck",
         31,
         1859.690055847168
        ],
        [
         "Canoga Park",
         "Perfect Fitness Perfect Rip Deck",
         31,
         1859.6900596618652
        ],
        [
         "Carson",
         "Under Armour Girls' Toddler Spine Surge Runni",
         31,
         1239.690029144287
        ],
        [
         "Cordova",
         "Under Armour Girls' Toddler Spine Surge Runni",
         31,
         1239.6900329589844
        ],
        [
         "Highland Park",
         "Nike Men's Dri-FIT Victory Golf Polo",
         31,
         1550.0
        ],
        [
         "Hilliard",
         "Nike Men's Dri-FIT Victory Golf Polo",
         31,
         1550.0
        ],
        [
         "Massapequa",
         "Perfect Fitness Perfect Rip Deck",
         31,
         1859.6900482177734
        ],
        [
         "Milpitas",
         "Under Armour Girls' Toddler Spine Surge Runni",
         31,
         1239.690013885498
        ],
        [
         "Plano",
         "Nike Men's Free 5.0+ Running Shoe",
         31,
         3099.6900024414062
        ],
        [
         "Salina",
         "Under Armour Girls' Toddler Spine Surge Runni",
         31,
         1239.6900215148926
        ],
        [
         "Sylmar",
         "O'Brien Men's Neoprene Life Vest",
         31,
         1549.379997253418
        ],
        [
         "Summerville",
         "Nike Men's Free 5.0+ Running Shoe",
         31,
         3099.6900177001953
        ],
        [
         "Carlisle",
         "Nike Men's Free 5.0+ Running Shoe",
         31,
         3099.689971923828
        ],
        [
         "Cicero",
         "Nike Men's Dri-FIT Victory Golf Polo",
         31,
         1550.0
        ],
        [
         "Dundalk",
         "O'Brien Men's Neoprene Life Vest",
         31,
         1549.3799858093262
        ],
        [
         "Fargo",
         "O'Brien Men's Neoprene Life Vest",
         31,
         1549.379981994629
        ],
        [
         "Ithaca",
         "O'Brien Men's Neoprene Life Vest",
         31,
         1549.3799858093262
        ],
        [
         "Knoxville",
         "Perfect Fitness Perfect Rip Deck",
         31,
         1859.6900520324707
        ],
        [
         "Massillon",
         "O'Brien Men's Neoprene Life Vest",
         31,
         1549.3799743652344
        ],
        [
         "New Albany",
         "Nike Men's Dri-FIT Victory Golf Polo",
         31,
         1550.0
        ],
        [
         "Newburgh",
         "Nike Men's CJ Elite 2 TD Football Cleat",
         31,
         4029.690170288086
        ],
        [
         "Reseda",
         "Nike Men's Dri-FIT Victory Golf Polo",
         31,
         1550.0
        ],
        [
         "Salinas",
         "Nike Men's Free 5.0+ Running Shoe",
         31,
         3099.6900329589844
        ],
        [
         "Springfield",
         "Nike Men's Dri-FIT Victory Golf Polo",
         31,
         1550.0
        ],
        [
         "Vallejo",
         "Perfect Fitness Perfect Rip Deck",
         31,
         1859.690055847168
        ],
        [
         "Woodbridge",
         "Nike Men's CJ Elite 2 TD Football Cleat",
         31,
         4029.690170288086
        ],
        [
         "Westland",
         "Nike Men's Free 5.0+ Running Shoe",
         31,
         3099.6899795532227
        ],
        [
         "Aguadilla",
         "Perfect Fitness Perfect Rip Deck",
         31,
         1859.6900520324707
        ],
        [
         "Colton",
         "Perfect Fitness Perfect Rip Deck",
         31,
         1859.6900634765625
        ],
        [
         "Gilroy",
         "O'Brien Men's Neoprene Life Vest",
         31,
         1549.379981994629
        ],
        [
         "La Mesa",
         "Nike Men's Free 5.0+ Running Shoe",
         31,
         3099.6900024414062
        ],
        [
         "Metairie",
         "Nike Men's Dri-FIT Victory Golf Polo",
         31,
         1550.0
        ],
        [
         "Oak Lawn",
         "O'Brien Men's Neoprene Life Vest",
         31,
         1549.3799896240234
        ],
        [
         "Stockbridge",
         "Nike Men's Free 5.0+ Running Shoe",
         31,
         3099.6900177001953
        ],
        [
         "Vallejo",
         "Nike Men's Dri-FIT Victory Golf Polo",
         31,
         1550.0
        ],
        [
         "Woonsocket",
         "Under Armour Girls' Toddler Spine Surge Runni",
         31,
         1239.6899948120117
        ],
        [
         "Alameda",
         "Nike Men's Free 5.0+ Running Shoe",
         31,
         3099.689987182617
        ],
        [
         "Broomfield",
         "Nike Men's Dri-FIT Victory Golf Polo",
         30,
         1500.0
        ],
        [
         "Campbell",
         "Under Armour Girls' Toddler Spine Surge Runni",
         30,
         1199.7000122070312
        ],
        [
         "Daly City",
         "Under Armour Girls' Toddler Spine Surge Runni",
         30,
         1199.700023651123
        ],
        [
         "Mesquite",
         "Nike Men's Free 5.0+ Running Shoe",
         30,
         2999.7000045776367
        ],
        [
         "Canoga Park",
         "O'Brien Men's Neoprene Life Vest",
         30,
         1499.3999862670898
        ],
        [
         "Canton",
         "O'Brien Men's Neoprene Life Vest",
         30,
         1499.400001525879
        ],
        [
         "Denver",
         "Under Armour Girls' Toddler Spine Surge Runni",
         30,
         1199.7000045776367
        ],
        [
         "Glendale",
         "Pelican Sunstream 100 Kayak",
         30,
         5999.700164794922
        ],
        [
         "Muskegon",
         "Nike Men's Free 5.0+ Running Shoe",
         30,
         2999.700019836426
        ],
        [
         "Middletown",
         "Under Armour Girls' Toddler Spine Surge Runni",
         30,
         1199.7000122070312
        ],
        [
         "Canoga Park",
         "Under Armour Girls' Toddler Spine Surge Runni",
         30,
         1199.700008392334
        ],
        [
         "Cayey",
         "O'Brien Men's Neoprene Life Vest",
         30,
         1499.3999862670898
        ],
        [
         "Clarksville",
         "Nike Men's Dri-FIT Victory Golf Polo",
         30,
         1500.0
        ],
        [
         "Diamond Bar",
         "Nike Men's Free 5.0+ Running Shoe",
         30,
         2999.699996948242
        ],
        [
         "East Brunswick",
         "Perfect Fitness Perfect Rip Deck",
         30,
         1799.7000465393066
        ],
        [
         "Glendale",
         "Field & Stream Sportsman 16 Gun Fire Safe",
         30,
         11999.400329589844
        ],
        [
         "Jackson Heights",
         "Perfect Fitness Perfect Rip Deck",
         30,
         1799.7000541687012
        ],
        [
         "Oviedo",
         "O'Brien Men's Neoprene Life Vest",
         30,
         1499.3999824523926
        ],
        [
         "Peoria",
         "O'Brien Men's Neoprene Life Vest",
         30,
         1499.3999824523926
        ],
        [
         "Santa Cruz",
         "Nike Men's Free 5.0+ Running Shoe",
         30,
         2999.699981689453
        ],
        [
         "Santa Cruz",
         "Under Armour Girls' Toddler Spine Surge Runni",
         30,
         1199.700023651123
        ],
        [
         "Beaverton",
         "Nike Men's Dri-FIT Victory Golf Polo",
         30,
         1500.0
        ],
        [
         "Cerritos",
         "Nike Men's Free 5.0+ Running Shoe",
         30,
         2999.699996948242
        ],
        [
         "Clementon",
         "Nike Men's Free 5.0+ Running Shoe",
         30,
         2999.7000122070312
        ],
        [
         "Cordova",
         "O'Brien Men's Neoprene Life Vest",
         30,
         1499.3999862670898
        ],
        [
         "Eagle Pass",
         "Nike Men's Dri-FIT Victory Golf Polo",
         30,
         1500.0
        ],
        [
         "Everett",
         "O'Brien Men's Neoprene Life Vest",
         30,
         1499.3999786376953
        ],
        [
         "Fargo",
         "Nike Men's Dri-FIT Victory Golf Polo",
         30,
         1500.0
        ],
        [
         "Grand Prairie",
         "Perfect Fitness Perfect Rip Deck",
         30,
         1799.7000427246094
        ],
        [
         "Lodi",
         "Perfect Fitness Perfect Rip Deck",
         30,
         1799.7000617980957
        ],
        [
         "Martinsburg",
         "Under Armour Girls' Toddler Spine Surge Runni",
         30,
         1199.7000198364258
        ],
        [
         "Peoria",
         "Nike Men's Dri-FIT Victory Golf Polo",
         30,
         1500.0
        ],
        [
         "Pomona",
         "Under Armour Girls' Toddler Spine Surge Runni",
         30,
         1199.7000198364258
        ],
        [
         "Summerville",
         "Nike Men's Dri-FIT Victory Golf Polo",
         30,
         1500.0
        ],
        [
         "Wilkes Barre",
         "Nike Men's Dri-FIT Victory Golf Polo",
         30,
         1500.0
        ],
        [
         "Vista",
         "Under Armour Girls' Toddler Spine Surge Runni",
         30,
         1199.7000350952148
        ],
        [
         "Bend",
         "Under Armour Girls' Toddler Spine Surge Runni",
         30,
         1199.7000274658203
        ],
        [
         "Bayonne",
         "Perfect Fitness Perfect Rip Deck",
         30,
         1799.7000541687012
        ],
        [
         "Annapolis",
         "Under Armour Girls' Toddler Spine Surge Runni",
         30,
         1199.700038909912
        ],
        [
         "Chino Hills",
         "Under Armour Girls' Toddler Spine Surge Runni",
         30,
         1199.700008392334
        ],
        [
         "Cumberland",
         "Nike Men's Free 5.0+ Running Shoe",
         30,
         2999.7000122070312
        ],
        [
         "Gaithersburg",
         "Nike Men's Dri-FIT Victory Golf Polo",
         30,
         1500.0
        ],
        [
         "Indianapolis",
         "Nike Men's Free 5.0+ Running Shoe",
         30,
         2999.699996948242
        ],
        [
         "Merced",
         "Nike Men's Dri-FIT Victory Golf Polo",
         30,
         1500.0
        ],
        [
         "Rowland Heights",
         "Nike Men's CJ Elite 2 TD Football Cleat",
         30,
         3899.700164794922
        ],
        [
         "Valrico",
         "O'Brien Men's Neoprene Life Vest",
         30,
         1499.399990081787
        ],
        [
         "Zanesville",
         "Perfect Fitness Perfect Rip Deck",
         30,
         1799.7000579833984
        ],
        [
         "Arlington Heights",
         "Nike Men's Dri-FIT Victory Golf Polo",
         30,
         1500.0
        ],
        [
         "Billings",
         "Nike Men's Dri-FIT Victory Golf Polo",
         29,
         1450.0
        ],
        [
         "Bridgeton",
         "Under Armour Girls' Toddler Spine Surge Runni",
         29,
         1159.7100105285645
        ],
        [
         "Ann Arbor",
         "Under Armour Girls' Toddler Spine Surge Runni",
         29,
         1159.7100257873535
        ],
        [
         "Brockton",
         "Nike Men's Dri-FIT Victory Golf Polo",
         29,
         1450.0
        ],
        [
         "Huntington Beach",
         "Nike Men's Free 5.0+ Running Shoe",
         29,
         2899.7099990844727
        ],
        [
         "Bend",
         "Pelican Sunstream 100 Kayak",
         29,
         5799.710159301758
        ],
        [
         "Burnsville",
         "Perfect Fitness Perfect Rip Deck",
         29,
         1739.7100372314453
        ],
        [
         "Cicero",
         "Under Armour Girls' Toddler Spine Surge Runni",
         29,
         1159.710018157959
        ],
        [
         "Katy",
         "O'Brien Men's Neoprene Life Vest",
         29,
         1449.419994354248
        ],
        [
         "Mayaguez",
         "Under Armour Girls' Toddler Spine Surge Runni",
         29,
         1159.7099990844727
        ],
        [
         "Oregon City",
         "Under Armour Girls' Toddler Spine Surge Runni",
         29,
         1159.7100410461426
        ],
        [
         "Bend",
         "Nike Men's Free 5.0+ Running Shoe",
         29,
         2899.7099838256836
        ],
        [
         "Cary",
         "Nike Men's Free 5.0+ Running Shoe",
         29,
         2899.7099685668945
        ],
        [
         "Clarksville",
         "O'Brien Men's Neoprene Life Vest",
         29,
         1449.4199829101562
        ],
        [
         "El Centro",
         "O'Brien Men's Neoprene Life Vest",
         29,
         1449.419994354248
        ],
        [
         "Lenoir",
         "Nike Men's CJ Elite 2 TD Football Cleat",
         29,
         3769.710159301758
        ],
        [
         "Mechanicsburg",
         "Nike Men's Free 5.0+ Running Shoe",
         29,
         2899.7099685668945
        ],
        [
         "New Braunfels",
         "O'Brien Men's Neoprene Life Vest",
         29,
         1449.419994354248
        ],
        [
         "Santa Maria",
         "Perfect Fitness Perfect Rip Deck",
         29,
         1739.7100524902344
        ],
        [
         "South Gate",
         "Nike Men's Dri-FIT Victory Golf Polo",
         29,
         1450.0
        ],
        [
         "York",
         "Nike Men's CJ Elite 2 TD Football Cleat",
         29,
         3769.710159301758
        ],
        [
         "Hesperia",
         "Nike Men's Free 5.0+ Running Shoe",
         29,
         2899.7100143432617
        ],
        [
         "Albany",
         "O'Brien Men's Neoprene Life Vest",
         29,
         1449.4199752807617
        ],
        [
         "Clarksville",
         "Nike Men's Free 5.0+ Running Shoe",
         29,
         2899.710006713867
        ],
        [
         "Enfield",
         "Nike Men's Dri-FIT Victory Golf Polo",
         29,
         1450.0
        ],
        [
         "Englewood",
         "Nike Men's Dri-FIT Victory Golf Polo",
         29,
         1450.0
        ],
        [
         "Lithonia",
         "Perfect Fitness Perfect Rip Deck",
         29,
         1739.7100410461426
        ],
        [
         "Manati",
         "Nike Men's Free 5.0+ Running Shoe",
         29,
         2899.7099990844727
        ],
        [
         "New Albany",
         "Nike Men's Free 5.0+ Running Shoe",
         29,
         2899.709991455078
        ],
        [
         "New Brunswick",
         "Under Armour Girls' Toddler Spine Surge Runni",
         29,
         1159.7099952697754
        ],
        [
         "New Haven",
         "Nike Men's Free 5.0+ Running Shoe",
         29,
         2899.709991455078
        ],
        [
         "South El Monte",
         "O'Brien Men's Neoprene Life Vest",
         29,
         1449.4199905395508
        ],
        [
         "Stone Mountain",
         "Under Armour Girls' Toddler Spine Surge Runni",
         29,
         1159.7100143432617
        ],
        [
         "West Haven",
         "Nike Men's Free 5.0+ Running Shoe",
         29,
         2899.7099838256836
        ],
        [
         "Ypsilanti",
         "Under Armour Girls' Toddler Spine Surge Runni",
         29,
         1159.710033416748
        ],
        [
         "Wyandotte",
         "Nike Men's Free 5.0+ Running Shoe",
         29,
         2899.7099609375
        ],
        [
         "Hollister",
         "Perfect Fitness Perfect Rip Deck",
         29,
         1739.7100563049316
        ],
        [
         "Des Plaines",
         "Perfect Fitness Perfect Rip Deck",
         29,
         1739.7100639343262
        ],
        [
         "Granite City",
         "Nike Men's Dri-FIT Victory Golf Polo",
         29,
         1450.0
        ],
        [
         "Massapequa",
         "Nike Men's Dri-FIT Victory Golf Polo",
         29,
         1450.0
        ],
        [
         "New Albany",
         "O'Brien Men's Neoprene Life Vest",
         29,
         1449.4199867248535
        ],
        [
         "Ogden",
         "Under Armour Girls' Toddler Spine Surge Runni",
         29,
         1159.710033416748
        ],
        [
         "Westerville",
         "Nike Men's Dri-FIT Victory Golf Polo",
         29,
         1450.0
        ],
        [
         "Zanesville",
         "Under Armour Girls' Toddler Spine Surge Runni",
         29,
         1159.7100372314453
        ],
        [
         "Olathe",
         "Nike Men's Free 5.0+ Running Shoe",
         29,
         2899.7100143432617
        ],
        [
         "Augusta",
         "Under Armour Girls' Toddler Spine Surge Runni",
         28,
         1119.7200088500977
        ],
        [
         "Berwyn",
         "O'Brien Men's Neoprene Life Vest",
         28,
         1399.4399757385254
        ],
        [
         "Blacksburg",
         "Perfect Fitness Perfect Rip Deck",
         28,
         1679.7200393676758
        ],
        [
         "Burnsville",
         "Nike Men's Free 5.0+ Running Shoe",
         28,
         2799.7199935913086
        ],
        [
         "Charlotte",
         "Nike Men's Free 5.0+ Running Shoe",
         28,
         2799.720016479492
        ],
        [
         "Garland",
         "Nike Men's Free 5.0+ Running Shoe",
         28,
         2799.7200088500977
        ],
        [
         "Norfolk",
         "Nike Men's Free 5.0+ Running Shoe",
         28,
         2799.720001220703
        ],
        [
         "Chino",
         "O'Brien Men's Neoprene Life Vest",
         28,
         1399.4399871826172
        ],
        [
         "Denton",
         "Nike Men's Dri-FIT Victory Golf Polo",
         28,
         1400.0
        ],
        [
         "Guayama",
         "Nike Men's Free 5.0+ Running Shoe",
         28,
         2799.720001220703
        ],
        [
         "Indio",
         "Perfect Fitness Perfect Rip Deck",
         28,
         1679.7200508117676
        ],
        [
         "North Hollywood",
         "Nike Men's CJ Elite 2 TD Football Cleat",
         28,
         3639.7201538085938
        ],
        [
         "Peoria",
         "Perfect Fitness Perfect Rip Deck",
         28,
         1679.7200469970703
        ],
        [
         "South San Francisco",
         "O'Brien Men's Neoprene Life Vest",
         28,
         1399.4399909973145
        ],
        [
         "Alameda",
         "Nike Men's Dri-FIT Victory Golf Polo",
         28,
         1400.0
        ],
        [
         "Cincinnati",
         "O'Brien Men's Neoprene Life Vest",
         28,
         1399.43998336792
        ],
        [
         "Dorchester Center",
         "Nike Men's Free 5.0+ Running Shoe",
         28,
         2799.719985961914
        ],
        [
         "Edinburg",
         "Perfect Fitness Perfect Rip Deck",
         28,
         1679.7200469970703
        ],
        [
         "Guaynabo",
         "Perfect Fitness Perfect Rip Deck",
         28,
         1679.7200317382812
        ],
        [
         "Harlingen",
         "Nike Men's Free 5.0+ Running Shoe",
         28,
         2799.719985961914
        ],
        [
         "Indio",
         "Nike Men's Dri-FIT Victory Golf Polo",
         28,
         1400.0
        ],
        [
         "Kailua",
         "Nike Men's Free 5.0+ Running Shoe",
         28,
         2799.720016479492
        ],
        [
         "Ogden",
         "Nike Men's Free 5.0+ Running Shoe",
         28,
         2799.720001220703
        ],
        [
         "Powder Springs",
         "Under Armour Girls' Toddler Spine Surge Runni",
         28,
         1119.7200202941895
        ],
        [
         "Rochester",
         "Nike Men's Free 5.0+ Running Shoe",
         28,
         2799.720001220703
        ],
        [
         "Temecula",
         "Under Armour Girls' Toddler Spine Surge Runni",
         28,
         1119.719985961914
        ],
        [
         "Walnut",
         "Under Armour Girls' Toddler Spine Surge Runni",
         28,
         1119.7200241088867
        ],
        [
         "Morrisville",
         "Nike Men's Dri-FIT Victory Golf Polo",
         28,
         1400.0
        ],
        [
         "Algonquin",
         "Under Armour Girls' Toddler Spine Surge Runni",
         28,
         1119.7200241088867
        ],
        [
         "Citrus Heights",
         "Perfect Fitness Perfect Rip Deck",
         28,
         1679.7200469970703
        ],
        [
         "Crystal Lake",
         "Under Armour Girls' Toddler Spine Surge Runni",
         28,
         1119.7200012207031
        ],
        [
         "Duluth",
         "Nike Men's Free 5.0+ Running Shoe",
         28,
         2799.719985961914
        ],
        [
         "Fayetteville",
         "Nike Men's Free 5.0+ Running Shoe",
         28,
         2799.720016479492
        ],
        [
         "Folsom",
         "Nike Men's Free 5.0+ Running Shoe",
         28,
         2799.720016479492
        ],
        [
         "Hanover",
         "Nike Men's Free 5.0+ Running Shoe",
         28,
         2799.719985961914
        ],
        [
         "Hesperia",
         "O'Brien Men's Neoprene Life Vest",
         28,
         1399.4399871826172
        ],
        [
         "Hickory",
         "Under Armour Girls' Toddler Spine Surge Runni",
         28,
         1119.7200164794922
        ],
        [
         "Jackson",
         "Pelican Sunstream 100 Kayak",
         28,
         5599.720153808594
        ],
        [
         "Longmont",
         "Nike Men's CJ Elite 2 TD Football Cleat",
         28,
         3639.7201538085938
        ],
        [
         "Lynwood",
         "Perfect Fitness Perfect Rip Deck",
         28,
         1679.7200469970703
        ],
        [
         "Orange Park",
         "Nike Men's Free 5.0+ Running Shoe",
         28,
         2799.719970703125
        ],
        [
         "Reynoldsburg",
         "Nike Men's Free 5.0+ Running Shoe",
         28,
         2799.720016479492
        ],
        [
         "Rome",
         "Under Armour Girls' Toddler Spine Surge Runni",
         28,
         1119.7200317382812
        ],
        [
         "Santa Clara",
         "Nike Men's Free 5.0+ Running Shoe",
         28,
         2799.7199935913086
        ],
        [
         "Temecula",
         "O'Brien Men's Neoprene Life Vest",
         28,
         1399.4399909973145
        ],
        [
         "West Jordan",
         "Nike Men's Free 5.0+ Running Shoe",
         28,
         2799.7199935913086
        ],
        [
         "West Jordan",
         "Under Armour Girls' Toddler Spine Surge Runni",
         28,
         1119.7200088500977
        ],
        [
         "South Ozone Park",
         "Nike Men's Free 5.0+ Running Shoe",
         28,
         2799.7199935913086
        ],
        [
         "Milwaukee",
         "Under Armour Girls' Toddler Spine Surge Runni",
         28,
         1119.7200355529785
        ],
        [
         "Methuen",
         "Under Armour Girls' Toddler Spine Surge Runni",
         28,
         1119.7200050354004
        ],
        [
         "Dayton",
         "Nike Men's Dri-FIT Victory Golf Polo",
         28,
         1400.0
        ],
        [
         "Dundalk",
         "Under Armour Girls' Toddler Spine Surge Runni",
         28,
         1119.7200050354004
        ],
        [
         "Fountain Valley",
         "O'Brien Men's Neoprene Life Vest",
         28,
         1399.43998336792
        ],
        [
         "Huntington Station",
         "O'Brien Men's Neoprene Life Vest",
         28,
         1399.4399871826172
        ],
        [
         "Kailua",
         "O'Brien Men's Neoprene Life Vest",
         28,
         1399.4399871826172
        ],
        [
         "Martinez",
         "Under Armour Girls' Toddler Spine Surge Runni",
         28,
         1119.7200317382812
        ],
        [
         "Richardson",
         "Nike Men's Free 5.0+ Running Shoe",
         28,
         2799.7200241088867
        ],
        [
         "Santee",
         "Perfect Fitness Perfect Rip Deck",
         28,
         1679.7200393676758
        ],
        [
         "Wheaton",
         "Under Armour Girls' Toddler Spine Surge Runni",
         28,
         1119.7200164794922
        ],
        [
         "Wheeling",
         "Nike Men's Free 5.0+ Running Shoe",
         28,
         2799.7199935913086
        ],
        [
         "Milwaukee",
         "Nike Men's CJ Elite 2 TD Football Cleat",
         28,
         3639.7201538085938
        ],
        [
         "Bensalem",
         "O'Brien Men's Neoprene Life Vest",
         27,
         1349.4599838256836
        ],
        [
         "Buena Park",
         "Perfect Fitness Perfect Rip Deck",
         27,
         1619.7300491333008
        ],
        [
         "Carlsbad",
         "Nike Men's Free 5.0+ Running Shoe",
         27,
         2699.730010986328
        ],
        [
         "Buena Park",
         "Nike Men's Dri-FIT Victory Golf Polo",
         27,
         1350.0
        ],
        [
         "Carlsbad",
         "Under Armour Girls' Toddler Spine Surge Runni",
         27,
         1079.7300338745117
        ],
        [
         "Guaynabo",
         "Nike Men's Dri-FIT Victory Golf Polo",
         27,
         1350.0
        ],
        [
         "Cary",
         "Nike Men's Dri-FIT Victory Golf Polo",
         27,
         1350.0
        ],
        [
         "Douglasville",
         "O'Brien Men's Neoprene Life Vest",
         27,
         1349.4599990844727
        ],
        [
         "Hawthorne",
         "O'Brien Men's Neoprene Life Vest",
         27,
         1349.4599800109863
        ],
        [
         "Loveland",
         "Under Armour Girls' Toddler Spine Surge Runni",
         27,
         1079.7300148010254
        ],
        [
         "Victorville",
         "Nike Men's Free 5.0+ Running Shoe",
         27,
         2699.729995727539
        ],
        [
         "Alhambra",
         "Under Armour Girls' Toddler Spine Surge Runni",
         27,
         1079.7300262451172
        ],
        [
         "Cincinnati",
         "Nike Men's Dri-FIT Victory Golf Polo",
         27,
         1350.0
        ],
        [
         "Clearfield",
         "O'Brien Men's Neoprene Life Vest",
         27,
         1349.459976196289
        ],
        [
         "Doylestown",
         "Perfect Fitness Perfect Rip Deck",
         27,
         1619.730052947998
        ],
        [
         "Findlay",
         "Nike Men's Free 5.0+ Running Shoe",
         27,
         2699.730010986328
        ],
        [
         "Huntington Park",
         "Nike Men's Dri-FIT Victory Golf Polo",
         27,
         1350.0
        ],
        [
         "Knoxville",
         "Nike Men's Free 5.0+ Running Shoe",
         27,
         2699.729995727539
        ],
        [
         "Lynn",
         "O'Brien Men's Neoprene Life Vest",
         27,
         1349.4599876403809
        ],
        [
         "Newburgh",
         "Under Armour Girls' Toddler Spine Surge Runni",
         27,
         1079.7300338745117
        ],
        [
         "Victorville",
         "Nike Men's Dri-FIT Victory Golf Polo",
         27,
         1350.0
        ],
        [
         "Saint Charles",
         "Nike Men's Free 5.0+ Running Shoe",
         27,
         2699.7300033569336
        ],
        [
         "Ann Arbor",
         "Nike Men's Free 5.0+ Running Shoe",
         27,
         2699.7300033569336
        ],
        [
         "Crystal Lake",
         "O'Brien Men's Neoprene Life Vest",
         27,
         1349.4599876403809
        ],
        [
         "Danbury",
         "Nike Men's Dri-FIT Victory Golf Polo",
         27,
         1350.0
        ],
        [
         "Dubuque",
         "Perfect Fitness Perfect Rip Deck",
         27,
         1619.7300300598145
        ],
        [
         "Flushing",
         "Under Armour Girls' Toddler Spine Surge Runni",
         27,
         1079.7300186157227
        ],
        [
         "Gaithersburg",
         "Perfect Fitness Perfect Rip Deck",
         27,
         1619.730037689209
        ],
        [
         "Jonesboro",
         "O'Brien Men's Neoprene Life Vest",
         27,
         1349.4599952697754
        ],
        [
         "Lilburn",
         "Nike Men's Dri-FIT Victory Golf Polo",
         27,
         1350.0
        ],
        [
         "Lockport",
         "Nike Men's Free 5.0+ Running Shoe",
         27,
         2699.7299880981445
        ],
        [
         "Lynwood",
         "O'Brien Men's Neoprene Life Vest",
         27,
         1349.4600067138672
        ],
        [
         "Olathe",
         "O'Brien Men's Neoprene Life Vest",
         27,
         1349.4599990844727
        ],
        [
         "Oregon City",
         "Nike Men's Free 5.0+ Running Shoe",
         27,
         2699.729965209961
        ],
        [
         "Visalia",
         "Nike Men's Dri-FIT Victory Golf Polo",
         27,
         1350.0
        ],
        [
         "West New York",
         "Nike Men's Dri-FIT Victory Golf Polo",
         27,
         1350.0
        ],
        [
         "Vallejo",
         "O'Brien Men's Neoprene Life Vest",
         27,
         1349.4599800109863
        ],
        [
         "Reseda",
         "O'Brien Men's Neoprene Life Vest",
         27,
         1349.4599876403809
        ],
        [
         "Apopka",
         "Under Armour Girls' Toddler Spine Surge Runni",
         27,
         1079.7300186157227
        ],
        [
         "Del Rio",
         "Nike Men's CJ Elite 2 TD Football Cleat",
         27,
         3509.7301483154297
        ],
        [
         "Fairfield",
         "Field & Stream Sportsman 16 Gun Fire Safe",
         27,
         10799.46029663086
        ],
        [
         "Guayama",
         "O'Brien Men's Neoprene Life Vest",
         27,
         1349.4599952697754
        ],
        [
         "Lompoc",
         "Perfect Fitness Perfect Rip Deck",
         27,
         1619.730037689209
        ],
        [
         "Mchenry",
         "Under Armour Girls' Toddler Spine Surge Runni",
         27,
         1079.7299880981445
        ],
        [
         "Paramount",
         "Nike Men's Dri-FIT Victory Golf Polo",
         27,
         1350.0
        ],
        [
         "Winter Park",
         "Nike Men's Dri-FIT Victory Golf Polo",
         27,
         1350.0
        ],
        [
         "Yauco",
         "O'Brien Men's Neoprene Life Vest",
         27,
         1349.4600067138672
        ],
        [
         "Augusta",
         "Nike Men's CJ Elite 2 TD Football Cleat",
         27,
         3509.7301483154297
        ],
        [
         "Bay Shore",
         "Perfect Fitness Perfect Rip Deck",
         26,
         1559.7400283813477
        ],
        [
         "Bell Gardens",
         "Under Armour Girls' Toddler Spine Surge Runni",
         26,
         1039.7399978637695
        ],
        [
         "Bellflower",
         "Nike Men's Free 5.0+ Running Shoe",
         26,
         2599.7400283813477
        ],
        [
         "Henderson",
         "Nike Men's Free 5.0+ Running Shoe",
         26,
         2599.7399673461914
        ],
        [
         "Bloomfield",
         "O'Brien Men's Neoprene Life Vest",
         26,
         1299.479995727539
        ],
        [
         "Bloomfield",
         "Nike Men's Dri-FIT Victory Golf Polo",
         26,
         1300.0
        ],
        [
         "Henderson",
         "O'Brien Men's Neoprene Life Vest",
         26,
         1299.47998046875
        ],
        [
         "Merced",
         "Perfect Fitness Perfect Rip Deck",
         26,
         1559.740047454834
        ],
        [
         "Brentwood",
         "Perfect Fitness Perfect Rip Deck",
         26,
         1559.7400512695312
        ],
        [
         "Ewa Beach",
         "Under Armour Girls' Toddler Spine Surge Runni",
         26,
         1039.7400169372559
        ],
        [
         "Hilliard",
         "Nike Men's Free 5.0+ Running Shoe",
         26,
         2599.739974975586
        ],
        [
         "Longmont",
         "Nike Men's Free 5.0+ Running Shoe",
         26,
         2599.7400131225586
        ],
        [
         "Morganton",
         "Nike Men's Dri-FIT Victory Golf Polo",
         26,
         1300.0
        ],
        [
         "Redmond",
         "Under Armour Girls' Toddler Spine Surge Runni",
         26,
         1039.7400131225586
        ],
        [
         "Ballwin",
         "Nike Men's Free 5.0+ Running Shoe",
         26,
         2599.7399826049805
        ],
        [
         "Canovanas",
         "Perfect Fitness Perfect Rip Deck",
         26,
         1559.7400360107422
        ],
        [
         "Cayey",
         "Perfect Fitness Perfect Rip Deck",
         26,
         1559.7400512695312
        ],
        [
         "Far Rockaway",
         "Under Armour Girls' Toddler Spine Surge Runni",
         26,
         1039.7400131225586
        ],
        [
         "Glen Burnie",
         "Perfect Fitness Perfect Rip Deck",
         26,
         1559.740047454834
        ],
        [
         "Juana Diaz",
         "Nike Men's Dri-FIT Victory Golf Polo",
         26,
         1300.0
        ],
        [
         "Juana Diaz",
         "O'Brien Men's Neoprene Life Vest",
         26,
         1299.4799842834473
        ],
        [
         "Longmont",
         "Field & Stream Sportsman 16 Gun Fire Safe",
         26,
         10399.480285644531
        ],
        [
         "Manchester",
         "Nike Men's Free 5.0+ Running Shoe",
         26,
         2599.739944458008
        ],
        [
         "Muskegon",
         "O'Brien Men's Neoprene Life Vest",
         26,
         1299.4799919128418
        ],
        [
         "New Haven",
         "Nike Men's Dri-FIT Victory Golf Polo",
         26,
         1300.0
        ],
        [
         "Richardson",
         "Nike Men's Dri-FIT Victory Golf Polo",
         26,
         1300.0
        ],
        [
         "South Richmond Hill",
         "Nike Men's Free 5.0+ Running Shoe",
         26,
         2599.739990234375
        ],
        [
         "West Haven",
         "O'Brien Men's Neoprene Life Vest",
         26,
         1299.479995727539
        ],
        [
         "Carrollton",
         "Nike Men's Free 5.0+ Running Shoe",
         26,
         2599.7399978637695
        ],
        [
         "College Station",
         "Nike Men's Free 5.0+ Running Shoe",
         26,
         2599.7399978637695
        ],
        [
         "Colton",
         "Nike Men's Dri-FIT Victory Golf Polo",
         26,
         1300.0
        ],
        [
         "Forest Hills",
         "Nike Men's Free 5.0+ Running Shoe",
         26,
         2599.740020751953
        ],
        [
         "Guaynabo",
         "O'Brien Men's Neoprene Life Vest",
         26,
         1299.4799766540527
        ],
        [
         "Hamtramck",
         "Under Armour Girls' Toddler Spine Surge Runni",
         26,
         1039.7400169372559
        ],
        [
         "La Habra",
         "Nike Men's Dri-FIT Victory Golf Polo",
         26,
         1300.0
        ],
        [
         "Lansdale",
         "Nike Men's Free 5.0+ Running Shoe",
         26,
         2599.739990234375
        ],
        [
         "Lynn",
         "Perfect Fitness Perfect Rip Deck",
         26,
         1559.7400245666504
        ],
        [
         "Mchenry",
         "Perfect Fitness Perfect Rip Deck",
         26,
         1559.7400398254395
        ],
        [
         "Mentor",
         "Nike Men's Dri-FIT Victory Golf Polo",
         26,
         1300.0
        ],
        [
         "Nashville",
         "O'Brien Men's Neoprene Life Vest",
         26,
         1299.479995727539
        ],
        [
         "Palatine",
         "Nike Men's Dri-FIT Victory Golf Polo",
         26,
         1300.0
        ],
        [
         "Piscataway",
         "Under Armour Girls' Toddler Spine Surge Runni",
         26,
         1039.7400283813477
        ],
        [
         "Sandusky",
         "O'Brien Men's Neoprene Life Vest",
         26,
         1299.4799919128418
        ],
        [
         "Stafford",
         "Perfect Fitness Perfect Rip Deck",
         26,
         1559.7400512695312
        ],
        [
         "Taylor",
         "Nike Men's Dri-FIT Victory Golf Polo",
         26,
         1300.0
        ],
        [
         "Wheeling",
         "O'Brien Men's Neoprene Life Vest",
         26,
         1299.4799880981445
        ],
        [
         "Albany",
         "Nike Men's Free 5.0+ Running Shoe",
         26,
         2599.7399673461914
        ],
        [
         "Eagle Pass",
         "Under Armour Girls' Toddler Spine Surge Runni",
         26,
         1039.7400169372559
        ],
        [
         "Gardena",
         "Nike Men's CJ Elite 2 TD Football Cleat",
         26,
         3379.7401428222656
        ],
        [
         "Henderson",
         "Nike Men's Dri-FIT Victory Golf Polo",
         26,
         1300.0
        ],
        [
         "Livermore",
         "O'Brien Men's Neoprene Life Vest",
         26,
         1299.4799919128418
        ],
        [
         "Lynn",
         "Nike Men's Dri-FIT Victory Golf Polo",
         26,
         1300.0
        ],
        [
         "Mentor",
         "Perfect Fitness Perfect Rip Deck",
         26,
         1559.7400398254395
        ],
        [
         "Powder Springs",
         "Nike Men's Free 5.0+ Running Shoe",
         26,
         2599.7399978637695
        ],
        [
         "South El Monte",
         "Under Armour Girls' Toddler Spine Surge Runni",
         26,
         1039.740032196045
        ],
        [
         "Toa Alta",
         "O'Brien Men's Neoprene Life Vest",
         26,
         1299.4799842834473
        ],
        [
         "Wilmington",
         "Nike Men's Dri-FIT Victory Golf Polo",
         26,
         1300.0
        ],
        [
         "Apopka",
         "O'Brien Men's Neoprene Life Vest",
         26,
         1299.4799919128418
        ],
        [
         "Bloomfield",
         "Nike Men's Free 5.0+ Running Shoe",
         25,
         2499.75
        ],
        [
         "Bristol",
         "Nike Men's Dri-FIT Victory Golf Polo",
         25,
         1250.0
        ],
        [
         "Gilroy",
         "Under Armour Girls' Toddler Spine Surge Runni",
         25,
         999.7500114440918
        ],
        [
         "Pekin",
         "Under Armour Girls' Toddler Spine Surge Runni",
         25,
         999.7500114440918
        ],
        [
         "Canton",
         "Under Armour Girls' Toddler Spine Surge Runni",
         25,
         999.7500190734863
        ],
        [
         "Granite City",
         "O'Brien Men's Neoprene Life Vest",
         25,
         1249.4999923706055
        ],
        [
         "Marion",
         "Perfect Fitness Perfect Rip Deck",
         25,
         1499.7500381469727
        ],
        [
         "Pittsburg",
         "Nike Men's Free 5.0+ Running Shoe",
         25,
         2499.75
        ],
        [
         "San Pablo",
         "Nike Men's Free 5.0+ Running Shoe",
         25,
         2499.7500228881836
        ],
        [
         "Beaverton",
         "Under Armour Girls' Toddler Spine Surge Runni",
         25,
         999.7500152587891
        ],
        [
         "Chino",
         "Nike Men's Free 5.0+ Running Shoe",
         25,
         2499.749969482422
        ],
        [
         "Crystal Lake",
         "Nike Men's Dri-FIT Victory Golf Polo",
         25,
         1250.0
        ],
        [
         "Grove City",
         "Perfect Fitness Perfect Rip Deck",
         25,
         1499.7500343322754
        ],
        [
         "Highland Park",
         "Under Armour Girls' Toddler Spine Surge Runni",
         25,
         999.7500381469727
        ],
        [
         "Medina",
         "Perfect Fitness Perfect Rip Deck",
         25,
         1499.75004196167
        ],
        [
         "Morristown",
         "Nike Men's Free 5.0+ Running Shoe",
         25,
         2499.7499923706055
        ],
        [
         "Provo",
         "Under Armour Girls' Toddler Spine Surge Runni",
         25,
         999.7500152587891
        ],
        [
         "Rego Park",
         "Nike Men's CJ Elite 2 TD Football Cleat",
         25,
         3249.7501373291016
        ],
        [
         "San Sebastian",
         "Under Armour Girls' Toddler Spine Surge Runni",
         25,
         999.7500038146973
        ],
        [
         "Waipahu",
         "Nike Men's CJ Elite 2 TD Football Cleat",
         25,
         3249.7501373291016
        ],
        [
         "Wyoming",
         "Nike Men's Free 5.0+ Running Shoe",
         25,
         2499.7499923706055
        ],
        [
         "Bell Gardens",
         "Nike Men's Free 5.0+ Running Shoe",
         25,
         2499.750015258789
        ],
        [
         "Crystal Lake",
         "Nike Men's Free 5.0+ Running Shoe",
         25,
         2499.7499923706055
        ],
        [
         "Edison",
         "Perfect Fitness Perfect Rip Deck",
         25,
         1499.7500305175781
        ],
        [
         "Hanford",
         "Under Armour Girls' Toddler Spine Surge Runni",
         25,
         999.7500228881836
        ],
        [
         "Joliet",
         "Under Armour Girls' Toddler Spine Surge Runni",
         25,
         999.7499961853027
        ],
        [
         "Littleton",
         "Under Armour Girls' Toddler Spine Surge Runni",
         25,
         999.7499961853027
        ],
        [
         "Michigan City",
         "Nike Men's Dri-FIT Victory Golf Polo",
         25,
         1250.0
        ],
        [
         "Morristown",
         "Under Armour Girls' Toddler Spine Surge Runni",
         25,
         999.7500267028809
        ],
        [
         "Napa",
         "Nike Men's Free 5.0+ Running Shoe",
         25,
         2499.749969482422
        ],
        [
         "Revere",
         "Nike Men's Dri-FIT Victory Golf Polo",
         25,
         1250.0
        ],
        [
         "Rio Rancho",
         "Nike Men's Free 5.0+ Running Shoe",
         25,
         2499.750045776367
        ],
        [
         "Santa Fe",
         "Nike Men's Dri-FIT Victory Golf Polo",
         25,
         1250.0
        ],
        [
         "Waipahu",
         "Under Armour Girls' Toddler Spine Surge Runni",
         25,
         999.7500228881836
        ],
        [
         "Williamsport",
         "O'Brien Men's Neoprene Life Vest",
         25,
         1249.5000038146973
        ],
        [
         "Zanesville",
         "O'Brien Men's Neoprene Life Vest",
         25,
         1249.499984741211
        ],
        [
         "Peabody",
         "Nike Men's Free 5.0+ Running Shoe",
         25,
         2499.7500076293945
        ],
        [
         "Bellingham",
         "O'Brien Men's Neoprene Life Vest",
         25,
         1249.4999923706055
        ],
        [
         "Garland",
         "Nike Men's Dri-FIT Victory Golf Polo",
         25,
         1250.0
        ],
        [
         "Longview",
         "Perfect Fitness Perfect Rip Deck",
         25,
         1499.7500495910645
        ],
        [
         "Mission",
         "Nike Men's Free 5.0+ Running Shoe",
         25,
         2499.75
        ],
        [
         "North Richland Hills",
         "Nike Men's CJ Elite 2 TD Football Cleat",
         25,
         3249.7501373291016
        ],
        [
         "Rio Rancho",
         "O'Brien Men's Neoprene Life Vest",
         25,
         1249.499984741211
        ],
        [
         "Spring",
         "Nike Men's Dri-FIT Victory Golf Polo",
         25,
         1250.0
        ],
        [
         "Wyandotte",
         "Under Armour Girls' Toddler Spine Surge Runni",
         25,
         999.7500228881836
        ],
        [
         "Blacksburg",
         "O'Brien Men's Neoprene Life Vest",
         25,
         1249.4999885559082
        ],
        [
         "Arecibo",
         "Nike Men's Free 5.0+ Running Shoe",
         25,
         2499.7499923706055
        ],
        [
         "Brandon",
         "Under Armour Girls' Toddler Spine Surge Runni",
         24,
         959.7600212097168
        ],
        [
         "Brighton",
         "Pelican Sunstream 100 Kayak",
         24,
         4799.7601318359375
        ],
        [
         "Harlingen",
         "Under Armour Girls' Toddler Spine Surge Runni",
         24,
         959.7600021362305
        ],
        [
         "Bristol",
         "O'Brien Men's Neoprene Life Vest",
         24,
         1199.5200004577637
        ],
        [
         "Hilliard",
         "Under Armour Girls' Toddler Spine Surge Runni",
         24,
         959.7600250244141
        ],
        [
         "Palmdale",
         "Nike Men's Dri-FIT Victory Golf Polo",
         24,
         1200.0
        ],
        [
         "Broken Arrow",
         "Nike Men's CJ Elite 2 TD Football Cleat",
         24,
         3119.7601318359375
        ],
        [
         "La Mesa",
         "Nike Men's CJ Elite 2 TD Football Cleat",
         24,
         3119.7601318359375
        ],
        [
         "Massillon",
         "Under Armour Girls' Toddler Spine Surge Runni",
         24,
         959.7600173950195
        ],
        [
         "Peabody",
         "O'Brien Men's Neoprene Life Vest",
         24,
         1199.5199890136719
        ],
        [
         "Rochester",
         "Nike Men's CJ Elite 2 TD Football Cleat",
         24,
         3119.7601318359375
        ],
        [
         "Sunnyvale",
         "Pelican Sunstream 100 Kayak",
         24,
         4799.7601318359375
        ],
        [
         "Cary",
         "Under Armour Girls' Toddler Spine Surge Runni",
         24,
         959.7600059509277
        ],
        [
         "Danbury",
         "O'Brien Men's Neoprene Life Vest",
         24,
         1199.5199737548828
        ],
        [
         "La Mirada",
         "Nike Men's CJ Elite 2 TD Football Cleat",
         24,
         3119.7601318359375
        ],
        [
         "Montebello",
         "O'Brien Men's Neoprene Life Vest",
         24,
         1199.5199928283691
        ],
        [
         "New Castle",
         "O'Brien Men's Neoprene Life Vest",
         24,
         1199.5199928283691
        ],
        [
         "Quincy",
         "Nike Men's CJ Elite 2 TD Football Cleat",
         24,
         3119.7601318359375
        ],
        [
         "Rancho Cucamonga",
         "Nike Men's Dri-FIT Victory Golf Polo",
         24,
         1200.0
        ],
        [
         "Rosemead",
         "Nike Men's Dri-FIT Victory Golf Polo",
         24,
         1200.0
        ],
        [
         "San Bernardino",
         "Field & Stream Sportsman 16 Gun Fire Safe",
         24,
         9599.520263671875
        ],
        [
         "Taylor",
         "Perfect Fitness Perfect Rip Deck",
         24,
         1439.7600440979004
        ],
        [
         "Tinley Park",
         "Nike Men's Dri-FIT Victory Golf Polo",
         24,
         1200.0
        ],
        [
         "Hampton",
         "Under Armour Girls' Toddler Spine Surge Runni",
         24,
         959.7600059509277
        ],
        [
         "Baldwin Park",
         "Under Armour Girls' Toddler Spine Surge Runni",
         24,
         959.7600173950195
        ],
        [
         "Cupertino",
         "Nike Men's Dri-FIT Victory Golf Polo",
         24,
         1200.0
        ],
        [
         "Decatur",
         "O'Brien Men's Neoprene Life Vest",
         24,
         1199.5199813842773
        ],
        [
         "Flushing",
         "Nike Men's Free 5.0+ Running Shoe",
         24,
         2399.759994506836
        ],
        [
         "Lithonia",
         "Nike Men's Dri-FIT Victory Golf Polo",
         24,
         1200.0
        ],
        [
         "Manchester",
         "Perfect Fitness Perfect Rip Deck",
         24,
         1439.7600326538086
        ],
        [
         "Morrisville",
         "Under Armour Girls' Toddler Spine Surge Runni",
         24,
         959.7600250244141
        ],
        [
         "North Tonawanda",
         "Nike Men's Free 5.0+ Running Shoe",
         24,
         2399.7600021362305
        ],
        [
         "Opelousas",
         "Diamondback Women's Serene Classic Comfort Bi",
         24,
         7199.520263671875
        ],
        [
         "Rancho Cordova",
         "Perfect Fitness Perfect Rip Deck",
         24,
         1439.760025024414
        ],
        [
         "Rego Park",
         "Perfect Fitness Perfect Rip Deck",
         24,
         1439.7600326538086
        ],
        [
         "Reynoldsburg",
         "O'Brien Men's Neoprene Life Vest",
         24,
         1199.5199928283691
        ],
        [
         "Rosemead",
         "Perfect Fitness Perfect Rip Deck",
         24,
         1439.7600440979004
        ],
        [
         "San Pablo",
         "Under Armour Girls' Toddler Spine Surge Runni",
         24,
         959.7600173950195
        ],
        [
         "Santa Cruz",
         "Nike Men's CJ Elite 2 TD Football Cleat",
         24,
         3119.7601318359375
        ],
        [
         "Wilkes Barre",
         "Under Armour Girls' Toddler Spine Surge Runni",
         24,
         959.7600135803223
        ],
        [
         "Woodside",
         "O'Brien Men's Neoprene Life Vest",
         24,
         1199.5199813842773
        ],
        [
         "Stamford",
         "Nike Men's CJ Elite 2 TD Football Cleat",
         24,
         3119.7601318359375
        ],
        [
         "Bolingbrook",
         "Nike Men's Dri-FIT Victory Golf Polo",
         24,
         1200.0
        ],
        [
         "Bayonne",
         "Nike Men's Dri-FIT Victory Golf Polo",
         24,
         1200.0
        ],
        [
         "Fond Du Lac",
         "O'Brien Men's Neoprene Life Vest",
         24,
         1199.5199928283691
        ],
        [
         "Marrero",
         "Nike Men's Free 5.0+ Running Shoe",
         24,
         2399.759994506836
        ],
        [
         "New Albany",
         "Under Armour Girls' Toddler Spine Surge Runni",
         24,
         959.7600059509277
        ],
        [
         "Painesville",
         "Nike Men's Free 5.0+ Running Shoe",
         24,
         2399.760009765625
        ],
        [
         "Ridgewood",
         "Under Armour Girls' Toddler Spine Surge Runni",
         24,
         959.7600135803223
        ],
        [
         "Round Rock",
         "Under Armour Girls' Toddler Spine Surge Runni",
         24,
         959.760009765625
        ],
        [
         "Santa Fe",
         "O'Brien Men's Neoprene Life Vest",
         24,
         1199.5199890136719
        ],
        [
         "Woodside",
         "Under Armour Girls' Toddler Spine Surge Runni",
         24,
         959.7600326538086
        ],
        [
         "Summerville",
         "O'Brien Men's Neoprene Life Vest",
         24,
         1199.5200004577637
        ],
        [
         "Baytown",
         "O'Brien Men's Neoprene Life Vest",
         24,
         1199.5199890136719
        ],
        [
         "Bartlett",
         "Perfect Fitness Perfect Rip Deck",
         23,
         1379.7700462341309
        ],
        [
         "Bayonne",
         "O'Brien Men's Neoprene Life Vest",
         23,
         1149.5399894714355
        ],
        [
         "Bayonne",
         "Under Armour Girls' Toddler Spine Surge Runni",
         23,
         919.7700157165527
        ],
        [
         "Baytown",
         "Under Armour Girls' Toddler Spine Surge Runni",
         23,
         919.77001953125
        ],
        [
         "Bensalem",
         "Nike Men's Free 5.0+ Running Shoe",
         23,
         2299.7700119018555
        ],
        [
         "Lynn",
         "Nike Men's Free 5.0+ Running Shoe",
         23,
         2299.769973754883
        ],
        [
         "Bensalem",
         "Perfect Fitness Perfect Rip Deck",
         23,
         1379.7700424194336
        ],
        [
         "Burnsville",
         "Field & Stream Sportsman 16 Gun Fire Safe",
         23,
         9199.540252685547
        ],
        [
         "Madera",
         "Nike Men's Dri-FIT Victory Golf Polo",
         23,
         1150.0
        ],
        [
         "Mount Pleasant",
         "Under Armour Girls' Toddler Spine Surge Runni",
         23,
         919.7700271606445
        ],
        [
         "Billings",
         "Perfect Fitness Perfect Rip Deck",
         23,
         1379.770034790039
        ],
        [
         "Campbell",
         "O'Brien Men's Neoprene Life Vest",
         23,
         1149.5399932861328
        ],
        [
         "Des Plaines",
         "Nike Men's Dri-FIT Victory Golf Polo",
         23,
         1150.0
        ],
        [
         "Martinez",
         "Perfect Fitness Perfect Rip Deck",
         23,
         1379.7700424194336
        ],
        [
         "Martinez",
         "Nike Men's Free 5.0+ Running Shoe",
         23,
         2299.770004272461
        ],
        [
         "Mount Pleasant",
         "Field & Stream Sportsman 16 Gun Fire Safe",
         23,
         9199.540252685547
        ],
        [
         "Rialto",
         "O'Brien Men's Neoprene Life Vest",
         23,
         1149.5400009155273
        ],
        [
         "Ithaca",
         "Nike Men's Free 5.0+ Running Shoe",
         23,
         2299.77001953125
        ],
        [
         "Carmichael",
         "Nike Men's Free 5.0+ Running Shoe",
         23,
         2299.769989013672
        ],
        [
         "Cincinnati",
         "Nike Men's Free 5.0+ Running Shoe",
         23,
         2299.77001953125
        ],
        [
         "Far Rockaway",
         "Nike Men's CJ Elite 2 TD Football Cleat",
         23,
         2989.7701263427734
        ],
        [
         "Henderson",
         "Perfect Fitness Perfect Rip Deck",
         23,
         1379.7700424194336
        ],
        [
         "Medina",
         "O'Brien Men's Neoprene Life Vest",
         23,
         1149.5399894714355
        ],
        [
         "Metairie",
         "Under Armour Girls' Toddler Spine Surge Runni",
         23,
         919.7699966430664
        ],
        [
         "Mount Prospect",
         "Under Armour Girls' Toddler Spine Surge Runni",
         23,
         919.7700119018555
        ],
        [
         "New Castle",
         "Perfect Fitness Perfect Rip Deck",
         23,
         1379.770034790039
        ],
        [
         "San Pablo",
         "O'Brien Men's Neoprene Life Vest",
         23,
         1149.5399894714355
        ],
        [
         "Spring",
         "O'Brien Men's Neoprene Life Vest",
         23,
         1149.5399856567383
        ],
        [
         "Woonsocket",
         "O'Brien Men's Neoprene Life Vest",
         23,
         1149.5399894714355
        ],
        [
         "Lake Forest",
         "Nike Men's CJ Elite 2 TD Football Cleat",
         23,
         2989.7701263427734
        ],
        [
         "Chino Hills",
         "Perfect Fitness Perfect Rip Deck",
         23,
         1379.7700462341309
        ],
        [
         "College Station",
         "Nike Men's CJ Elite 2 TD Football Cleat",
         23,
         2989.7701263427734
        ],
        [
         "Conway",
         "Perfect Fitness Perfect Rip Deck",
         23,
         1379.7700309753418
        ],
        [
         "Hamtramck",
         "Nike Men's CJ Elite 2 TD Football Cleat",
         23,
         2989.7701263427734
        ],
        [
         "Hickory",
         "Nike Men's CJ Elite 2 TD Football Cleat",
         23,
         2989.7701263427734
        ],
        [
         "Hickory",
         "Nike Men's Free 5.0+ Running Shoe",
         23,
         2299.7700119018555
        ],
        [
         "Meridian",
         "Under Armour Girls' Toddler Spine Surge Runni",
         23,
         919.7700157165527
        ],
        [
         "Methuen",
         "Nike Men's Free 5.0+ Running Shoe",
         23,
         2299.7699813842773
        ],
        [
         "Michigan City",
         "Under Armour Girls' Toddler Spine Surge Runni",
         23,
         919.7700004577637
        ],
        [
         "New Braunfels",
         "Nike Men's Dri-FIT Victory Golf Polo",
         23,
         1150.0
        ],
        [
         "Oak Lawn",
         "Under Armour Girls' Toddler Spine Surge Runni",
         23,
         919.7700271606445
        ],
        [
         "Olathe",
         "Under Armour Girls' Toddler Spine Surge Runni",
         23,
         919.7700119018555
        ],
        [
         "Sandusky",
         "Perfect Fitness Perfect Rip Deck",
         23,
         1379.7700309753418
        ],
        [
         "Upland",
         "Nike Men's Dri-FIT Victory Golf Polo",
         23,
         1150.0
        ],
        [
         "Warren",
         "Under Armour Girls' Toddler Spine Surge Runni",
         23,
         919.77001953125
        ],
        [
         "Westminster",
         "Perfect Fitness Perfect Rip Deck",
         23,
         1379.7700271606445
        ],
        [
         "Lenoir",
         "Under Armour Girls' Toddler Spine Surge Runni",
         23,
         919.7700386047363
        ],
        [
         "Albany",
         "Perfect Fitness Perfect Rip Deck",
         23,
         1379.7700386047363
        ],
        [
         "Dayton",
         "Under Armour Girls' Toddler Spine Surge Runni",
         23,
         919.7700080871582
        ],
        [
         "Hanover",
         "O'Brien Men's Neoprene Life Vest",
         23,
         1149.5399894714355
        ],
        [
         "Huntington Park",
         "Nike Men's Free 5.0+ Running Shoe",
         23,
         2299.77001953125
        ],
        [
         "Mesquite",
         "Under Armour Girls' Toddler Spine Surge Runni",
         23,
         919.7700042724609
        ],
        [
         "Mililani",
         "Field & Stream Sportsman 16 Gun Fire Safe",
         23,
         9199.540252685547
        ],
        [
         "Pittsfield",
         "Nike Men's Dri-FIT Victory Golf Polo",
         23,
         1150.0
        ],
        [
         "South Richmond Hill",
         "Under Armour Girls' Toddler Spine Surge Runni",
         23,
         919.7700119018555
        ],
        [
         "West Lafayette",
         "O'Brien Men's Neoprene Life Vest",
         23,
         1149.5399932861328
        ],
        [
         "Lutz",
         "Under Armour Girls' Toddler Spine Surge Runni",
         23,
         919.77001953125
        ],
        [
         "Indio",
         "Nike Men's Free 5.0+ Running Shoe",
         23,
         2299.7700119018555
        ],
        [
         "Bay Shore",
         "O'Brien Men's Neoprene Life Vest",
         22,
         1099.559986114502
        ],
        [
         "Billings",
         "Under Armour Girls' Toddler Spine Surge Runni",
         22,
         879.7800216674805
        ],
        [
         "Laguna Hills",
         "Nike Men's Free 5.0+ Running Shoe",
         22,
         2199.780029296875
        ],
        [
         "Brockton",
         "Nike Men's Free 5.0+ Running Shoe",
         22,
         2199.779983520508
        ],
        [
         "Cupertino",
         "Under Armour Girls' Toddler Spine Surge Runni",
         22,
         879.7799949645996
        ],
        [
         "Laguna Niguel",
         "Nike Men's Free 5.0+ Running Shoe",
         22,
         2199.779998779297
        ],
        [
         "North Bergen",
         "O'Brien Men's Neoprene Life Vest",
         22,
         1099.559986114502
        ],
        [
         "Brockton",
         "O'Brien Men's Neoprene Life Vest",
         22,
         1099.5599899291992
        ],
        [
         "Cupertino",
         "O'Brien Men's Neoprene Life Vest",
         22,
         1099.5599822998047
        ],
        [
         "Fort Washington",
         "Under Armour Girls' Toddler Spine Surge Runni",
         22,
         879.7800064086914
        ],
        [
         "Lansdale",
         "Under Armour Girls' Toddler Spine Surge Runni",
         22,
         879.7800216674805
        ],
        [
         "Massapequa",
         "Under Armour Girls' Toddler Spine Surge Runni",
         22,
         879.7800216674805
        ],
        [
         "Opa Locka",
         "Nike Men's Free 5.0+ Running Shoe",
         22,
         2199.779998779297
        ],
        [
         "Reynoldsburg",
         "Pelican Sunstream 100 Kayak",
         22,
         4399.780120849609
        ],
        [
         "La Puente",
         "Perfect Fitness Perfect Rip Deck",
         22,
         1319.7800331115723
        ],
        [
         "Chambersburg",
         "O'Brien Men's Neoprene Life Vest",
         22,
         1099.5599822998047
        ],
        [
         "Citrus Heights",
         "Nike Men's Dri-FIT Victory Golf Polo",
         22,
         1100.0
        ],
        [
         "Danbury",
         "Perfect Fitness Perfect Rip Deck",
         22,
         1319.7800331115723
        ],
        [
         "Eagle Pass",
         "O'Brien Men's Neoprene Life Vest",
         22,
         1099.560001373291
        ],
        [
         "Garland",
         "Under Armour Girls' Toddler Spine Surge Runni",
         22,
         879.7800140380859
        ],
        [
         "Granite City",
         "Under Armour Girls' Toddler Spine Surge Runni",
         22,
         879.7800102233887
        ],
        [
         "Lawton",
         "O'Brien Men's Neoprene Life Vest",
         22,
         1099.560001373291
        ],
        [
         "Massillon",
         "Nike Men's Free 5.0+ Running Shoe",
         22,
         2199.779983520508
        ],
        [
         "Mission",
         "Nike Men's CJ Elite 2 TD Football Cleat",
         22,
         2859.7801208496094
        ],
        [
         "Palatine",
         "Nike Men's Free 5.0+ Running Shoe",
         22,
         2199.7800064086914
        ],
        [
         "Perth Amboy",
         "Nike Men's Free 5.0+ Running Shoe",
         22,
         2199.779998779297
        ],
        [
         "Rock Hill",
         "Nike Men's Dri-FIT Victory Golf Polo",
         22,
         1100.0
        ],
        [
         "South Gate",
         "Perfect Fitness Perfect Rip Deck",
         22,
         1319.7800369262695
        ],
        [
         "Westminster",
         "Under Armour Girls' Toddler Spine Surge Runni",
         22,
         879.7800331115723
        ],
        [
         "Union",
         "Nike Men's Free 5.0+ Running Shoe",
         22,
         2199.7800216674805
        ],
        [
         "Astoria",
         "Perfect Fitness Perfect Rip Deck",
         22,
         1319.780029296875
        ],
        [
         "Clementon",
         "Under Armour Girls' Toddler Spine Surge Runni",
         22,
         879.7799987792969
        ],
        [
         "Colton",
         "Under Armour Girls' Toddler Spine Surge Runni",
         22,
         879.7800102233887
        ],
        [
         "Doylestown",
         "Nike Men's Dri-FIT Victory Golf Polo",
         22,
         1100.0
        ],
        [
         "East Lansing",
         "Under Armour Girls' Toddler Spine Surge Runni",
         22,
         879.7800140380859
        ],
        [
         "Englewood",
         "Perfect Fitness Perfect Rip Deck",
         22,
         1319.7800407409668
        ],
        [
         "Germantown",
         "Nike Men's CJ Elite 2 TD Football Cleat",
         22,
         2859.7801208496094
        ],
        [
         "Hempstead",
         "O'Brien Men's Neoprene Life Vest",
         22,
         1099.5599975585938
        ],
        [
         "La Habra",
         "Under Armour Girls' Toddler Spine Surge Runni",
         22,
         879.7799911499023
        ],
        [
         "Longview",
         "Nike Men's Dri-FIT Victory Golf Polo",
         22,
         1100.0
        ],
        [
         "Longview",
         "Nike Men's Free 5.0+ Running Shoe",
         22,
         2199.7799911499023
        ],
        [
         "Mcallen",
         "Perfect Fitness Perfect Rip Deck",
         22,
         1319.7800407409668
        ],
        [
         "Mission",
         "Under Armour Girls' Toddler Spine Surge Runni",
         22,
         879.7800178527832
        ],
        [
         "New Braunfels",
         "Nike Men's Free 5.0+ Running Shoe",
         22,
         2199.7799911499023
        ],
        [
         "Perth Amboy",
         "O'Brien Men's Neoprene Life Vest",
         22,
         1099.5599899291992
        ],
        [
         "Pittsfield",
         "Under Armour Girls' Toddler Spine Surge Runni",
         22,
         879.7800178527832
        ],
        [
         "Porterville",
         "Nike Men's CJ Elite 2 TD Football Cleat",
         22,
         2859.7801208496094
        ],
        [
         "Salina",
         "Nike Men's Free 5.0+ Running Shoe",
         22,
         2199.779983520508
        ],
        [
         "South Ozone Park",
         "Nike Men's CJ Elite 2 TD Football Cleat",
         22,
         2859.7801208496094
        ],
        [
         "Springfield",
         "O'Brien Men's Neoprene Life Vest",
         22,
         1099.5599937438965
        ],
        [
         "Williamsport",
         "Nike Men's Dri-FIT Victory Golf Polo",
         22,
         1100.0
        ],
        [
         "Weslaco",
         "Nike Men's CJ Elite 2 TD Football Cleat",
         22,
         2859.7801208496094
        ],
        [
         "Ballwin",
         "Under Armour Girls' Toddler Spine Surge Runni",
         22,
         879.7800331115723
        ],
        [
         "Arlington Heights",
         "Nike Men's Free 5.0+ Running Shoe",
         22,
         2199.7799911499023
        ],
        [
         "Conway",
         "Nike Men's Dri-FIT Victory Golf Polo",
         22,
         1100.0
        ],
        [
         "Forest Hills",
         "Perfect Fitness Perfect Rip Deck",
         22,
         1319.7800407409668
        ],
        [
         "Goose Creek",
         "O'Brien Men's Neoprene Life Vest",
         22,
         1099.560001373291
        ],
        [
         "La Mirada",
         "Nike Men's Free 5.0+ Running Shoe",
         22,
         2199.7800064086914
        ],
        [
         "Louisville",
         "Nike Men's CJ Elite 2 TD Football Cleat",
         22,
         2859.7801208496094
        ],
        [
         "Mililani",
         "Under Armour Girls' Toddler Spine Surge Runni",
         22,
         879.7800216674805
        ],
        [
         "New Braunfels",
         "Perfect Fitness Perfect Rip Deck",
         22,
         1319.7800178527832
        ],
        [
         "Rancho Cucamonga",
         "Nike Men's Free 5.0+ Running Shoe",
         22,
         2199.7799682617188
        ],
        [
         "Scottsdale",
         "O'Brien Men's Neoprene Life Vest",
         22,
         1099.559986114502
        ],
        [
         "Tulare",
         "Nike Men's Free 5.0+ Running Shoe",
         22,
         2199.780029296875
        ],
        [
         "West New York",
         "O'Brien Men's Neoprene Life Vest",
         22,
         1099.559986114502
        ],
        [
         "Ballwin",
         "Pelican Sunstream 100 Kayak",
         22,
         4399.780120849609
        ],
        [
         "Allentown",
         "Perfect Fitness Perfect Rip Deck",
         22,
         1319.7800331115723
        ],
        [
         "Bellingham",
         "Nike Men's Dri-FIT Victory Golf Polo",
         21,
         1050.0
        ],
        [
         "Broken Arrow",
         "Under Armour Girls' Toddler Spine Surge Runni",
         21,
         839.7900009155273
        ],
        [
         "Broomfield",
         "Perfect Fitness Perfect Rip Deck",
         21,
         1259.7900352478027
        ],
        [
         "Algonquin",
         "Nike Men's Free 5.0+ Running Shoe",
         21,
         2099.790023803711
        ],
        [
         "Canoga Park",
         "Nike Men's Dri-FIT Victory Golf Polo",
         21,
         1050.0
        ],
        [
         "Clovis",
         "Nike Men's Free 5.0+ Running Shoe",
         21,
         2099.790008544922
        ],
        [
         "Mchenry",
         "O'Brien Men's Neoprene Life Vest",
         21,
         1049.5799827575684
        ],
        [
         "Arecibo",
         "O'Brien Men's Neoprene Life Vest",
         21,
         1049.5799980163574
        ],
        [
         "Canovanas",
         "Nike Men's Dri-FIT Victory Golf Polo",
         21,
         1050.0
        ],
        [
         "Cordova",
         "Nike Men's CJ Elite 2 TD Football Cleat",
         21,
         2729.7901153564453
        ],
        [
         "Holland",
         "Nike Men's Free 5.0+ Running Shoe",
         21,
         2099.7900161743164
        ],
        [
         "Napa",
         "Nike Men's CJ Elite 2 TD Football Cleat",
         21,
         2729.7901153564453
        ],
        [
         "Oak Lawn",
         "Nike Men's Free 5.0+ Running Shoe",
         21,
         2099.7900009155273
        ],
        [
         "Sheboygan",
         "Nike Men's Free 5.0+ Running Shoe",
         21,
         2099.790023803711
        ],
        [
         "Asheboro",
         "Perfect Fitness Perfect Rip Deck",
         21,
         1259.7900390625
        ],
        [
         "Chillicothe",
         "Nike Men's Free 5.0+ Running Shoe",
         21,
         2099.7899856567383
        ],
        [
         "Douglasville",
         "Nike Men's Dri-FIT Victory Golf Polo",
         21,
         1050.0
        ],
        [
         "Glen Burnie",
         "O'Brien Men's Neoprene Life Vest",
         21,
         1049.5799865722656
        ],
        [
         "Huntington Station",
         "Under Armour Girls' Toddler Spine Surge Runni",
         21,
         839.7900314331055
        ],
        [
         "Lansdale",
         "Nike Men's Dri-FIT Victory Golf Polo",
         21,
         1050.0
        ],
        [
         "New Bedford",
         "Nike Men's CJ Elite 2 TD Football Cleat",
         21,
         2729.7901153564453
        ],
        [
         "Palmdale",
         "O'Brien Men's Neoprene Life Vest",
         21,
         1049.579990386963
        ],
        [
         "Pico Rivera",
         "Nike Men's Free 5.0+ Running Shoe",
         21,
         2099.78995513916
        ],
        [
         "Stamford",
         "Under Armour Girls' Toddler Spine Surge Runni",
         21,
         839.7900123596191
        ],
        [
         "Visalia",
         "Nike Men's CJ Elite 2 TD Football Cleat",
         21,
         2729.7901153564453
        ],
        [
         "Rialto",
         "Perfect Fitness Perfect Rip Deck",
         21,
         1259.7900314331055
        ],
        [
         "Baytown",
         "Nike Men's Free 5.0+ Running Shoe",
         21,
         2099.7899856567383
        ],
        [
         "Clarksville",
         "Under Armour Girls' Toddler Spine Surge Runni",
         21,
         839.7900047302246
        ],
        [
         "Germantown",
         "O'Brien Men's Neoprene Life Vest",
         21,
         1049.5799942016602
        ],
        [
         "Granada Hills",
         "Nike Men's CJ Elite 2 TD Football Cleat",
         21,
         2729.7901153564453
        ],
        [
         "Granite City",
         "Nike Men's Free 5.0+ Running Shoe",
         21,
         2099.790023803711
        ],
        [
         "Indio",
         "O'Brien Men's Neoprene Life Vest",
         21,
         1049.5799865722656
        ],
        [
         "Las Cruces",
         "Nike Men's Free 5.0+ Running Shoe",
         21,
         2099.789970397949
        ],
        [
         "Lawton",
         "Nike Men's Free 5.0+ Running Shoe",
         21,
         2099.7900161743164
        ],
        [
         "Norcross",
         "O'Brien Men's Neoprene Life Vest",
         21,
         1049.579990386963
        ],
        [
         "Pasadena",
         "Under Armour Girls' Toddler Spine Surge Runni",
         21,
         839.7900123596191
        ],
        [
         "Placentia",
         "Under Armour Girls' Toddler Spine Surge Runni",
         21,
         839.7900161743164
        ],
        [
         "Rancho Cordova",
         "Nike Men's Free 5.0+ Running Shoe",
         21,
         2099.790008544922
        ],
        [
         "Tracy",
         "Perfect Fitness Perfect Rip Deck",
         21,
         1259.790023803711
        ],
        [
         "Webster",
         "Nike Men's CJ Elite 2 TD Football Cleat",
         21,
         2729.7901153564453
        ],
        [
         "Webster",
         "Nike Men's Free 5.0+ Running Shoe",
         21,
         2099.790008544922
        ],
        [
         "Westland",
         "Nike Men's Dri-FIT Victory Golf Polo",
         21,
         1050.0
        ],
        [
         "Madison",
         "Nike Men's Free 5.0+ Running Shoe",
         21,
         2099.790008544922
        ],
        [
         "Littleton",
         "Nike Men's Free 5.0+ Running Shoe",
         21,
         2099.7899627685547
        ],
        [
         "Highland Park",
         "Nike Men's Free 5.0+ Running Shoe",
         21,
         2099.7899856567383
        ],
        [
         "Joliet",
         "Nike Men's CJ Elite 2 TD Football Cleat",
         21,
         2729.7901153564453
        ],
        [
         "Lewisville",
         "Perfect Fitness Perfect Rip Deck",
         21,
         1259.7900428771973
        ],
        [
         "O Fallon",
         "Under Armour Girls' Toddler Spine Surge Runni",
         21,
         839.7900085449219
        ],
        [
         "Pharr",
         "Nike Men's CJ Elite 2 TD Football Cleat",
         21,
         2729.7901153564453
        ],
        [
         "Rancho Cucamonga",
         "O'Brien Men's Neoprene Life Vest",
         21,
         1049.5799942016602
        ],
        [
         "West Haven",
         "Perfect Fitness Perfect Rip Deck",
         21,
         1259.7900314331055
        ],
        [
         "Winter Park",
         "Nike Men's CJ Elite 2 TD Football Cleat",
         21,
         2729.7901153564453
        ],
        [
         "Madera",
         "Perfect Fitness Perfect Rip Deck",
         21,
         1259.7900352478027
        ],
        [
         "Conway",
         "O'Brien Men's Neoprene Life Vest",
         20,
         999.5999984741211
        ],
        [
         "Cordova",
         "Nike Men's Free 5.0+ Running Shoe",
         20,
         1999.7999877929688
        ],
        [
         "Cypress",
         "Under Armour Girls' Toddler Spine Surge Runni",
         20,
         799.8000259399414
        ],
        [
         "Lynnwood",
         "Nike Men's Free 5.0+ Running Shoe",
         20,
         1999.8000030517578
        ],
        [
         "Potomac",
         "Field & Stream Sportsman 16 Gun Fire Safe",
         20,
         7999.6002197265625
        ],
        [
         "Des Plaines",
         "O'Brien Men's Neoprene Life Vest",
         20,
         999.599983215332
        ],
        [
         "Hanover",
         "Under Armour Girls' Toddler Spine Surge Runni",
         20,
         799.8000183105469
        ],
        [
         "Massillon",
         "Nike Men's Dri-FIT Victory Golf Polo",
         20,
         1000.0
        ],
        [
         "Metairie",
         "Nike Men's CJ Elite 2 TD Football Cleat",
         20,
         2599.8001098632812
        ],
        [
         "Roseville",
         "O'Brien Men's Neoprene Life Vest",
         20,
         999.5999870300293
        ],
        [
         "Poway",
         "O'Brien Men's Neoprene Life Vest",
         20,
         999.599983215332
        ],
        [
         "Edison",
         "Nike Men's Dri-FIT Victory Golf Polo",
         20,
         1000.0
        ],
        [
         "El Monte",
         "Under Armour Girls' Toddler Spine Surge Runni",
         20,
         799.8000183105469
        ],
        [
         "Harvey",
         "Under Armour Girls' Toddler Spine Surge Runni",
         20,
         799.8000106811523
        ],
        [
         "La Crosse",
         "Nike Men's CJ Elite 2 TD Football Cleat",
         20,
         2599.8001098632812
        ],
        [
         "Mcallen",
         "Nike Men's Dri-FIT Victory Golf Polo",
         20,
         1000.0
        ],
        [
         "Merced",
         "O'Brien Men's Neoprene Life Vest",
         20,
         999.5999870300293
        ],
        [
         "Montebello",
         "Nike Men's Free 5.0+ Running Shoe",
         20,
         1999.7999801635742
        ],
        [
         "North Hills",
         "Nike Men's Free 5.0+ Running Shoe",
         20,
         1999.7999801635742
        ],
        [
         "Saint Peters",
         "Nike Men's Dri-FIT Victory Golf Polo",
         20,
         1000.0
        ],
        [
         "Westland",
         "Under Armour Girls' Toddler Spine Surge Runni",
         20,
         799.8000106811523
        ],
        [
         "Rosemead",
         "Nike Men's Free 5.0+ Running Shoe",
         20,
         1999.7999954223633
        ],
        [
         "Asheboro",
         "Nike Men's Free 5.0+ Running Shoe",
         20,
         1999.8000183105469
        ],
        [
         "Findlay",
         "Under Armour Girls' Toddler Spine Surge Runni",
         20,
         799.8000183105469
        ],
        [
         "Goleta",
         "Under Armour Girls' Toddler Spine Surge Runni",
         20,
         799.8000030517578
        ],
        [
         "Irvington",
         "O'Brien Men's Neoprene Life Vest",
         20,
         999.5999946594238
        ],
        [
         "Lawrenceville",
         "Under Armour Girls' Toddler Spine Surge Runni",
         20,
         799.8000221252441
        ],
        [
         "Livermore",
         "Field & Stream Sportsman 16 Gun Fire Safe",
         20,
         7999.6002197265625
        ],
        [
         "Mcallen",
         "O'Brien Men's Neoprene Life Vest",
         20,
         999.5999908447266
        ],
        [
         "Meridian",
         "Nike Men's CJ Elite 2 TD Football Cleat",
         20,
         2599.8001098632812
        ],
        [
         "Mesquite",
         "O'Brien Men's Neoprene Life Vest",
         20,
         999.5999870300293
        ],
        [
         "Morrisville",
         "Nike Men's Free 5.0+ Running Shoe",
         20,
         1999.8000030517578
        ],
        [
         "Palatine",
         "Nike Men's CJ Elite 2 TD Football Cleat",
         20,
         2599.8001098632812
        ],
        [
         "Panorama City",
         "Nike Men's Free 5.0+ Running Shoe",
         20,
         1999.7999725341797
        ],
        [
         "Stockbridge",
         "Nike Men's CJ Elite 2 TD Football Cleat",
         20,
         2599.8001098632812
        ],
        [
         "Tulare",
         "Under Armour Girls' Toddler Spine Surge Runni",
         20,
         799.8000144958496
        ],
        [
         "Wheeling",
         "Under Armour Girls' Toddler Spine Surge Runni",
         20,
         799.8000106811523
        ],
        [
         "Ypsilanti",
         "Nike Men's Free 5.0+ Running Shoe",
         20,
         1999.800033569336
        ],
        [
         "West Jordan",
         "Nike Men's CJ Elite 2 TD Football Cleat",
         20,
         2599.8001098632812
        ],
        [
         "Charlotte",
         "Nike Men's Dri-FIT Victory Golf Polo",
         20,
         1000.0
        ],
        [
         "Alpharetta",
         "Nike Men's CJ Elite 2 TD Football Cleat",
         20,
         2599.8001098632812
        ],
        [
         "Aguadilla",
         "O'Brien Men's Neoprene Life Vest",
         20,
         999.5999908447266
        ],
        [
         "Grove City",
         "O'Brien Men's Neoprene Life Vest",
         20,
         999.5999908447266
        ],
        [
         "Jackson Heights",
         "Nike Men's Dri-FIT Victory Golf Polo",
         20,
         1000.0
        ],
        [
         "Lombard",
         "Under Armour Girls' Toddler Spine Surge Runni",
         20,
         799.8000106811523
        ],
        [
         "Metairie",
         "Nike Men's Free 5.0+ Running Shoe",
         20,
         1999.7999877929688
        ],
        [
         "Normal",
         "Perfect Fitness Perfect Rip Deck",
         20,
         1199.800033569336
        ],
        [
         "Pico Rivera",
         "Nike Men's CJ Elite 2 TD Football Cleat",
         20,
         2599.8001098632812
        ],
        [
         "West Haven",
         "Nike Men's CJ Elite 2 TD Football Cleat",
         20,
         2599.8001098632812
        ],
        [
         "Winter Park",
         "O'Brien Men's Neoprene Life Vest",
         20,
         999.5999870300293
        ],
        [
         "Yonkers",
         "Nike Men's Free 5.0+ Running Shoe",
         20,
         1999.8000030517578
        ],
        [
         "Allentown",
         "Nike Men's Dri-FIT Victory Golf Polo",
         20,
         1000.0
        ],
        [
         "Beloit",
         "Nike Men's CJ Elite 2 TD Football Cleat",
         19,
         2469.810104370117
        ],
        [
         "Beloit",
         "Field & Stream Sportsman 16 Gun Fire Safe",
         19,
         7599.620208740234
        ],
        [
         "Bowling Green",
         "Nike Men's Free 5.0+ Running Shoe",
         19,
         1899.8100051879883
        ],
        [
         "Carlsbad",
         "Nike Men's CJ Elite 2 TD Football Cleat",
         19,
         2469.810104370117
        ],
        [
         "Gilroy",
         "Nike Men's CJ Elite 2 TD Football Cleat",
         19,
         2469.810104370117
        ],
        [
         "Carol Stream",
         "Nike Men's CJ Elite 2 TD Football Cleat",
         19,
         2469.810104370117
        ],
        [
         "Hagerstown",
         "Under Armour Girls' Toddler Spine Surge Runni",
         19,
         759.8100166320801
        ],
        [
         "Morganton",
         "Under Armour Girls' Toddler Spine Surge Runni",
         19,
         759.8100051879883
        ],
        [
         "Santa Fe",
         "Perfect Fitness Perfect Rip Deck",
         19,
         1139.8100357055664
        ],
        [
         "Carol Stream",
         "Field & Stream Sportsman 16 Gun Fire Safe",
         19,
         7599.620208740234
        ],
        [
         "Clearfield",
         "Field & Stream Sportsman 16 Gun Fire Safe",
         19,
         7599.620208740234
        ],
        [
         "Hampton",
         "Diamondback Women's Serene Classic Comfort Bi",
         19,
         5699.620208740234
        ],
        [
         "Kent",
         "Nike Men's CJ Elite 2 TD Football Cleat",
         19,
         2469.810104370117
        ],
        [
         "Morristown",
         "Nike Men's CJ Elite 2 TD Football Cleat",
         19,
         2469.810104370117
        ],
        [
         "Oakland",
         "Perfect Fitness Perfect Rip Deck",
         19,
         1139.8100280761719
        ],
        [
         "South El Monte",
         "Nike Men's Free 5.0+ Running Shoe",
         19,
         1899.8099899291992
        ],
        [
         "Santee",
         "O'Brien Men's Neoprene Life Vest",
         19,
         949.6199836730957
        ],
        [
         "Chambersburg",
         "Nike Men's Free 5.0+ Running Shoe",
         19,
         1899.8099899291992
        ],
        [
         "Cupertino",
         "Nike Men's Free 5.0+ Running Shoe",
         19,
         1899.8099975585938
        ],
        [
         "Folsom",
         "Nike Men's Dri-FIT Victory Golf Polo",
         19,
         950.0
        ],
        [
         "Indianapolis",
         "Nike Men's CJ Elite 2 TD Football Cleat",
         19,
         2469.810104370117
        ],
        [
         "Ithaca",
         "Nike Men's Dri-FIT Victory Golf Polo",
         19,
         950.0
        ],
        [
         "La Puente",
         "O'Brien Men's Neoprene Life Vest",
         19,
         949.6199951171875
        ],
        [
         "Lithonia",
         "O'Brien Men's Neoprene Life Vest",
         19,
         949.619987487793
        ],
        [
         "New Castle",
         "Nike Men's Dri-FIT Victory Golf Polo",
         19,
         950.0
        ],
        [
         "Normal",
         "Nike Men's Free 5.0+ Running Shoe",
         19,
         1899.8099822998047
        ],
        [
         "Palo Alto",
         "O'Brien Men's Neoprene Life Vest",
         19,
         949.6199913024902
        ],
        [
         "Plainfield",
         "Nike Men's CJ Elite 2 TD Football Cleat",
         19,
         2469.810104370117
        ],
        [
         "Vacaville",
         "Nike Men's Free 5.0+ Running Shoe",
         19,
         1899.8100280761719
        ],
        [
         "West Haven",
         "Nike Men's Dri-FIT Victory Golf Polo",
         19,
         950.0
        ],
        [
         "Smyrna",
         "O'Brien Men's Neoprene Life Vest",
         19,
         949.619987487793
        ],
        [
         "Round Rock",
         "Nike Men's Free 5.0+ Running Shoe",
         19,
         1899.8099899291992
        ],
        [
         "Duluth",
         "Under Armour Girls' Toddler Spine Surge Runni",
         19,
         759.8100204467773
        ],
        [
         "Fond Du Lac",
         "Nike Men's Free 5.0+ Running Shoe",
         19,
         1899.8099975585938
        ],
        [
         "Fort Washington",
         "Nike Men's Free 5.0+ Running Shoe",
         19,
         1899.8099822998047
        ],
        [
         "Ithaca",
         "Perfect Fitness Perfect Rip Deck",
         19,
         1139.8100280761719
        ],
        [
         "Juana Diaz",
         "Nike Men's Free 5.0+ Running Shoe",
         19,
         1899.8099899291992
        ],
        [
         "Lawrence",
         "Pelican Sunstream 100 Kayak",
         19,
         3799.810104370117
        ],
        [
         "Lombard",
         "Nike Men's CJ Elite 2 TD Football Cleat",
         19,
         2469.810104370117
        ],
        [
         "Longview",
         "O'Brien Men's Neoprene Life Vest",
         19,
         949.6199836730957
        ],
        [
         "Norcross",
         "Nike Men's CJ Elite 2 TD Football Cleat",
         19,
         2469.810104370117
        ],
        [
         "North Bergen",
         "Nike Men's Free 5.0+ Running Shoe",
         19,
         1899.8100051879883
        ],
        [
         "North Hills",
         "Nike Men's CJ Elite 2 TD Football Cleat",
         19,
         2469.810104370117
        ],
        [
         "Panorama City",
         "Field & Stream Sportsman 16 Gun Fire Safe",
         19,
         7599.620208740234
        ],
        [
         "Potomac",
         "Nike Men's Free 5.0+ Running Shoe",
         19,
         1899.8099975585938
        ],
        [
         "Rego Park",
         "Under Armour Girls' Toddler Spine Surge Runni",
         19,
         759.8100051879883
        ],
        [
         "Vacaville",
         "Nike Men's Dri-FIT Victory Golf Polo",
         19,
         950.0
        ],
        [
         "Westerville",
         "Nike Men's Free 5.0+ Running Shoe",
         19,
         1899.8100128173828
        ],
        [
         "Yonkers",
         "Field & Stream Sportsman 16 Gun Fire Safe",
         19,
         7599.620208740234
        ],
        [
         "Valrico",
         "Nike Men's CJ Elite 2 TD Football Cleat",
         19,
         2469.810104370117
        ],
        [
         "Saginaw",
         "Nike Men's Free 5.0+ Running Shoe",
         19,
         1899.8100128173828
        ],
        [
         "Bayonne",
         "Nike Men's Free 5.0+ Running Shoe",
         19,
         1899.8100051879883
        ],
        [
         "Asheboro",
         "O'Brien Men's Neoprene Life Vest",
         19,
         949.6199951171875
        ],
        [
         "Elk Grove",
         "Nike Men's Free 5.0+ Running Shoe",
         19,
         1899.8099822998047
        ],
        [
         "Frankfort",
         "Under Armour Girls' Toddler Spine Surge Runni",
         19,
         759.8100204467773
        ],
        [
         "Kailua",
         "Nike Men's Dri-FIT Victory Golf Polo",
         19,
         950.0
        ],
        [
         "Lilburn",
         "O'Brien Men's Neoprene Life Vest",
         19,
         949.6199951171875
        ],
        [
         "Morganton",
         "Nike Men's Free 5.0+ Running Shoe",
         19,
         1899.8100204467773
        ],
        [
         "North Las Vegas",
         "Field & Stream Sportsman 16 Gun Fire Safe",
         19,
         7599.620208740234
        ],
        [
         "Paramount",
         "Nike Men's Free 5.0+ Running Shoe",
         19,
         1899.8100051879883
        ],
        [
         "Rosemead",
         "Under Armour Girls' Toddler Spine Surge Runni",
         19,
         759.8100166320801
        ],
        [
         "Wilkes Barre",
         "Nike Men's Free 5.0+ Running Shoe",
         19,
         1899.8099899291992
        ],
        [
         "Woodside",
         "Perfect Fitness Perfect Rip Deck",
         19,
         1139.8100357055664
        ],
        [
         "Astoria",
         "O'Brien Men's Neoprene Life Vest",
         19,
         949.619987487793
        ],
        [
         "Buena Park",
         "Under Armour Girls' Toddler Spine Surge Runni",
         18,
         719.8199996948242
        ],
        [
         "Chino Hills",
         "O'Brien Men's Neoprene Life Vest",
         18,
         899.6399917602539
        ],
        [
         "Guayama",
         "Field & Stream Sportsman 16 Gun Fire Safe",
         18,
         7199.640197753906
        ],
        [
         "Crown Point",
         "Nike Men's CJ Elite 2 TD Football Cleat",
         18,
         2339.820098876953
        ],
        [
         "Hacienda Heights",
         "Under Armour Girls' Toddler Spine Surge Runni",
         18,
         719.8200035095215
        ],
        [
         "Marrero",
         "O'Brien Men's Neoprene Life Vest",
         18,
         899.6399917602539
        ],
        [
         "Astoria",
         "Nike Men's Dri-FIT Victory Golf Polo",
         18,
         900.0
        ],
        [
         "Crystal Lake",
         "Pelican Sunstream 100 Kayak",
         18,
         3599.820098876953
        ],
        [
         "Edison",
         "Under Armour Girls' Toddler Spine Surge Runni",
         18,
         719.820011138916
        ],
        [
         "Hampton",
         "Nike Men's CJ Elite 2 TD Football Cleat",
         18,
         2339.820098876953
        ],
        [
         "Katy",
         "Under Armour Girls' Toddler Spine Surge Runni",
         18,
         719.8200149536133
        ],
        [
         "Mchenry",
         "Nike Men's Free 5.0+ Running Shoe",
         18,
         1799.8199996948242
        ],
        [
         "Pittsfield",
         "O'Brien Men's Neoprene Life Vest",
         18,
         899.6399917602539
        ],
        [
         "Scottsdale",
         "Nike Men's CJ Elite 2 TD Football Cleat",
         18,
         2339.820098876953
        ],
        [
         "Sandusky",
         "Nike Men's Free 5.0+ Running Shoe",
         18,
         1799.8199920654297
        ],
        [
         "Douglasville",
         "Perfect Fitness Perfect Rip Deck",
         18,
         1079.820026397705
        ],
        [
         "Elk Grove",
         "Under Armour Girls' Toddler Spine Surge Runni",
         18,
         719.819995880127
        ],
        [
         "Fountain Valley",
         "Under Armour Girls' Toddler Spine Surge Runni",
         18,
         719.8200187683105
        ],
        [
         "Harvey",
         "Nike Men's Dri-FIT Victory Golf Polo",
         18,
         900.0
        ],
        [
         "Hesperia",
         "Under Armour Girls' Toddler Spine Surge Runni",
         18,
         719.8200035095215
        ],
        [
         "La Crosse",
         "Pelican Sunstream 100 Kayak",
         18,
         3599.820098876953
        ],
        [
         "Lombard",
         "O'Brien Men's Neoprene Life Vest",
         18,
         899.6399879455566
        ],
        [
         "Mentor",
         "Nike Men's Free 5.0+ Running Shoe",
         18,
         1799.8199920654297
        ],
        [
         "Norwalk",
         "Perfect Fitness Perfect Rip Deck",
         18,
         1079.820026397705
        ],
        [
         "Plainfield",
         "Nike Men's Free 5.0+ Running Shoe",
         18,
         1799.8200073242188
        ],
        [
         "Rio Grande",
         "Field & Stream Sportsman 16 Gun Fire Safe",
         18,
         7199.640197753906
        ],
        [
         "Trujillo Alto",
         "Nike Men's Free 5.0+ Running Shoe",
         18,
         1799.8199844360352
        ],
        [
         "West New York",
         "Under Armour Girls' Toddler Spine Surge Runni",
         18,
         719.820011138916
        ],
        [
         "Santa Clara",
         "Nike Men's CJ Elite 2 TD Football Cleat",
         18,
         2339.820098876953
        ],
        [
         "Annapolis",
         "O'Brien Men's Neoprene Life Vest",
         18,
         899.6400032043457
        ],
        [
         "Ewa Beach",
         "Nike Men's CJ Elite 2 TD Football Cleat",
         18,
         2339.820098876953
        ],
        [
         "Glen Burnie",
         "Under Armour Girls' Toddler Spine Surge Runni",
         18,
         719.8200263977051
        ],
        [
         "Goose Creek",
         "Nike Men's Free 5.0+ Running Shoe",
         18,
         1799.8200073242188
        ],
        [
         "Jackson Heights",
         "O'Brien Men's Neoprene Life Vest",
         18,
         899.6399841308594
        ],
        [
         "Jackson Heights",
         "Nike Men's Free 5.0+ Running Shoe",
         18,
         1799.8200073242188
        ],
        [
         "La Crosse",
         "Field & Stream Sportsman 16 Gun Fire Safe",
         18,
         7199.640197753906
        ],
        [
         "Lutz",
         "Nike Men's Free 5.0+ Running Shoe",
         18,
         1799.8200073242188
        ],
        [
         "Madison",
         "Nike Men's CJ Elite 2 TD Football Cleat",
         18,
         2339.820098876953
        ],
        [
         "Mentor",
         "O'Brien Men's Neoprene Life Vest",
         18,
         899.6399879455566
        ],
        [
         "O Fallon",
         "Perfect Fitness Perfect Rip Deck",
         18,
         1079.8200149536133
        ],
        [
         "Passaic",
         "Under Armour Girls' Toddler Spine Surge Runni",
         18,
         719.819995880127
        ],
        [
         "Plymouth",
         "Diamondback Women's Serene Classic Comfort Bi",
         18,
         5399.640197753906
        ],
        [
         "Roseburg",
         "Nike Men's Free 5.0+ Running Shoe",
         18,
         1799.8199920654297
        ],
        [
         "San Ramon",
         "Nike Men's CJ Elite 2 TD Football Cleat",
         18,
         2339.820098876953
        ],
        [
         "Vacaville",
         "Perfect Fitness Perfect Rip Deck",
         18,
         1079.8200340270996
        ],
        [
         "Vega Baja",
         "Under Armour Girls' Toddler Spine Surge Runni",
         18,
         719.820011138916
        ],
        [
         "West Orange",
         "Under Armour Girls' Toddler Spine Surge Runni",
         18,
         719.8200149536133
        ],
        [
         "Yuma",
         "O'Brien Men's Neoprene Life Vest",
         18,
         899.6399879455566
        ],
        [
         "Scottsdale",
         "Field & Stream Sportsman 16 Gun Fire Safe",
         18,
         7199.640197753906
        ],
        [
         "Arlington Heights",
         "O'Brien Men's Neoprene Life Vest",
         18,
         899.6399879455566
        ],
        [
         "Allentown",
         "Under Armour Girls' Toddler Spine Surge Runni",
         18,
         719.8200073242188
        ],
        [
         "Fort Washington",
         "Nike Men's Dri-FIT Victory Golf Polo",
         18,
         900.0
        ],
        [
         "Grove City",
         "Under Armour Girls' Toddler Spine Surge Runni",
         18,
         719.8200263977051
        ],
        [
         "Juana Diaz",
         "Nike Men's CJ Elite 2 TD Football Cleat",
         18,
         2339.820098876953
        ],
        [
         "Lodi",
         "Nike Men's Free 5.0+ Running Shoe",
         18,
         1799.8200073242188
        ],
        [
         "Marrero",
         "Nike Men's CJ Elite 2 TD Football Cleat",
         18,
         2339.820098876953
        ],
        [
         "Pittsfield",
         "Field & Stream Sportsman 16 Gun Fire Safe",
         18,
         7199.640197753906
        ],
        [
         "Revere",
         "O'Brien Men's Neoprene Life Vest",
         18,
         899.6399917602539
        ],
        [
         "San Ramon",
         "Under Armour Girls' Toddler Spine Surge Runni",
         18,
         719.8200073242188
        ],
        [
         "Visalia",
         "Nike Men's Free 5.0+ Running Shoe",
         18,
         1799.8200149536133
        ],
        [
         "Williamsport",
         "Under Armour Girls' Toddler Spine Surge Runni",
         18,
         719.8200035095215
        ],
        [
         "Watsonville",
         "O'Brien Men's Neoprene Life Vest",
         18,
         899.6399955749512
        ],
        [
         "Alameda",
         "Pelican Sunstream 100 Kayak",
         18,
         3599.820098876953
        ],
        [
         "Bloomfield",
         "Under Armour Girls' Toddler Spine Surge Runni",
         17,
         679.830005645752
        ],
        [
         "Canyon Country",
         "Nike Men's Free 5.0+ Running Shoe",
         17,
         1699.8300094604492
        ],
        [
         "Cerritos",
         "Nike Men's CJ Elite 2 TD Football Cleat",
         17,
         2209.830093383789
        ],
        [
         "Gaithersburg",
         "O'Brien Men's Neoprene Life Vest",
         17,
         849.6600074768066
        ],
        [
         "Chapel Hill",
         "Nike Men's CJ Elite 2 TD Football Cleat",
         17,
         2209.830093383789
        ],
        [
         "Glen Burnie",
         "Nike Men's Dri-FIT Victory Golf Polo",
         17,
         850.0
        ],
        [
         "Mechanicsburg",
         "Under Armour Girls' Toddler Spine Surge Runni",
         17,
         679.8300132751465
        ],
        [
         "Sumner",
         "O'Brien Men's Neoprene Life Vest",
         17,
         849.6599960327148
        ],
        [
         "Chillicothe",
         "O'Brien Men's Neoprene Life Vest",
         17,
         849.6599960327148
        ],
        [
         "Crown Point",
         "Nike Men's Free 5.0+ Running Shoe",
         17,
         1699.8300018310547
        ],
        [
         "Glenview",
         "Nike Men's Free 5.0+ Running Shoe",
         17,
         1699.8299865722656
        ],
        [
         "Indianapolis",
         "Pelican Sunstream 100 Kayak",
         17,
         3399.830093383789
        ],
        [
         "Mechanicsburg",
         "Nike Men's CJ Elite 2 TD Football Cleat",
         17,
         2209.830093383789
        ],
        [
         "Saint Peters",
         "O'Brien Men's Neoprene Life Vest",
         17,
         849.659984588623
        ],
        [
         "Webster",
         "Field & Stream Sportsman 16 Gun Fire Safe",
         17,
         6799.660186767578
        ],
        [
         "Vacaville",
         "Under Armour Girls' Toddler Spine Surge Runni",
         17,
         679.8300285339355
        ],
        [
         "Chillicothe",
         "Field & Stream Sportsman 16 Gun Fire Safe",
         17,
         6799.660186767578
        ],
        [
         "Diamond Bar",
         "Nike Men's CJ Elite 2 TD Football Cleat",
         17,
         2209.830093383789
        ],
        [
         "El Monte",
         "Nike Men's CJ Elite 2 TD Football Cleat",
         17,
         2209.830093383789
        ],
        [
         "Hanford",
         "Nike Men's Free 5.0+ Running Shoe",
         17,
         1699.8299865722656
        ],
        [
         "Holland",
         "Nike Men's CJ Elite 2 TD Football Cleat",
         17,
         2209.830093383789
        ],
        [
         "Kaneohe",
         "Pelican Sunstream 100 Kayak",
         17,
         3399.830093383789
        ],
        [
         "Lynnwood",
         "O'Brien Men's Neoprene Life Vest",
         17,
         849.6599960327148
        ],
        [
         "Morganton",
         "O'Brien Men's Neoprene Life Vest",
         17,
         849.6599922180176
        ],
        [
         "Norwalk",
         "Nike Men's Dri-FIT Victory Golf Polo",
         17,
         850.0
        ],
        [
         "Saint Peters",
         "Perfect Fitness Perfect Rip Deck",
         17,
         1019.8300247192383
        ],
        [
         "Sanford",
         "Nike Men's Free 5.0+ Running Shoe",
         17,
         1699.8299713134766
        ],
        [
         "Westerville",
         "Nike Men's CJ Elite 2 TD Football Cleat",
         17,
         2209.830093383789
        ],
        [
         "Wilmington",
         "Nike Men's Free 5.0+ Running Shoe",
         17,
         1699.8299713134766
        ],
        [
         "Waukegan",
         "Nike Men's CJ Elite 2 TD Football Cleat",
         17,
         2209.830093383789
        ],
        [
         "Berwyn",
         "Nike Men's Free 5.0+ Running Shoe",
         17,
         1699.8299865722656
        ],
        [
         "Chillicothe",
         "Under Armour Girls' Toddler Spine Surge Runni",
         17,
         679.830005645752
        ],
        [
         "Douglasville",
         "Nike Men's Free 5.0+ Running Shoe",
         17,
         1699.8300094604492
        ],
        [
         "Enfield",
         "Field & Stream Sportsman 16 Gun Fire Safe",
         17,
         6799.660186767578
        ],
        [
         "Englewood",
         "O'Brien Men's Neoprene Life Vest",
         17,
         849.6599960327148
        ],
        [
         "Huntington Park",
         "O'Brien Men's Neoprene Life Vest",
         17,
         849.6600036621094
        ],
        [
         "Indianapolis",
         "Under Armour Girls' Toddler Spine Surge Runni",
         17,
         679.8300132751465
        ],
        [
         "Levittown",
         "Under Armour Girls' Toddler Spine Surge Runni",
         17,
         679.8300094604492
        ],
        [
         "Martinez",
         "Nike Men's CJ Elite 2 TD Football Cleat",
         17,
         2209.830093383789
        ],
        [
         "Mayaguez",
         "Nike Men's Free 5.0+ Running Shoe",
         17,
         1699.8299942016602
        ],
        [
         "Muskegon",
         "Nike Men's Dri-FIT Victory Golf Polo",
         17,
         850.0
        ],
        [
         "Paramount",
         "Nike Men's CJ Elite 2 TD Football Cleat",
         17,
         2209.830093383789
        ],
        [
         "Rancho Cordova",
         "Under Armour Girls' Toddler Spine Surge Runni",
         17,
         679.8300132751465
        ],
        [
         "San Pedro",
         "Perfect Fitness Perfect Rip Deck",
         17,
         1019.8300285339355
        ],
        [
         "Smyrna",
         "Under Armour Girls' Toddler Spine Surge Runni",
         17,
         679.8300247192383
        ],
        [
         "South San Francisco",
         "Perfect Fitness Perfect Rip Deck",
         17,
         1019.8300285339355
        ],
        [
         "Wheaton",
         "Nike Men's Dri-FIT Victory Golf Polo",
         17,
         850.0
        ],
        [
         "Woodside",
         "Nike Men's Free 5.0+ Running Shoe",
         17,
         1699.8300247192383
        ],
        [
         "Yuma",
         "Nike Men's Free 5.0+ Running Shoe",
         17,
         1699.829978942871
        ],
        [
         "Wayne",
         "Nike Men's CJ Elite 2 TD Football Cleat",
         17,
         2209.830093383789
        ],
        [
         "Berwyn",
         "Nike Men's Dri-FIT Victory Golf Polo",
         17,
         850.0
        ],
        [
         "Astoria",
         "Nike Men's Free 5.0+ Running Shoe",
         17,
         1699.8299865722656
        ],
        [
         "Eagle Pass",
         "Nike Men's Free 5.0+ Running Shoe",
         17,
         1699.8300323486328
        ],
        [
         "Federal Way",
         "Nike Men's Free 5.0+ Running Shoe",
         17,
         1699.8300247192383
        ],
        [
         "Indianapolis",
         "Diamondback Women's Serene Classic Comfort Bi",
         17,
         5099.660186767578
        ],
        [
         "Lombard",
         "Perfect Fitness Perfect Rip Deck",
         17,
         1019.8300361633301
        ],
        [
         "Mchenry",
         "Nike Men's Dri-FIT Victory Golf Polo",
         17,
         850.0
        ],
        [
         "Rio Grande",
         "Nike Men's CJ Elite 2 TD Football Cleat",
         17,
         2209.830093383789
        ],
        [
         "San Pedro",
         "Nike Men's Dri-FIT Victory Golf Polo",
         17,
         850.0
        ],
        [
         "Spokane",
         "Nike Men's Free 5.0+ Running Shoe",
         17,
         1699.8300170898438
        ],
        [
         "Wheaton",
         "Nike Men's CJ Elite 2 TD Football Cleat",
         17,
         2209.830093383789
        ],
        [
         "Woonsocket",
         "Nike Men's Dri-FIT Victory Golf Polo",
         17,
         850.0
        ],
        [
         "Wilmington",
         "Perfect Fitness Perfect Rip Deck",
         17,
         1019.8300247192383
        ],
        [
         "Alpharetta",
         "Under Armour Girls' Toddler Spine Surge Runni",
         17,
         679.8300247192383
        ],
        [
         "Canyon Country",
         "Under Armour Girls' Toddler Spine Surge Runni",
         16,
         639.8400115966797
        ],
        [
         "Chicago Heights",
         "Nike Men's Dri-FIT Victory Golf Polo",
         16,
         800.0
        ],
        [
         "Kaneohe",
         "Nike Men's Free 5.0+ Running Shoe",
         16,
         1599.8399658203125
        ],
        [
         "Chino",
         "Field & Stream Sportsman 16 Gun Fire Safe",
         16,
         6399.68017578125
        ],
        [
         "Lodi",
         "Under Armour Girls' Toddler Spine Surge Runni",
         16,
         639.8400039672852
        ],
        [
         "Pawtucket",
         "Diamondback Women's Serene Classic Comfort Bi",
         16,
         4799.68017578125
        ],
        [
         "Chino Hills",
         "Nike Men's Free 5.0+ Running Shoe",
         16,
         1599.8399963378906
        ],
        [
         "Douglasville",
         "Under Armour Girls' Toddler Spine Surge Runni",
         16,
         639.8400115966797
        ],
        [
         "Madera",
         "O'Brien Men's Neoprene Life Vest",
         16,
         799.6799964904785
        ],
        [
         "Muskegon",
         "Under Armour Girls' Toddler Spine Surge Runni",
         16,
         639.8400039672852
        ],
        [
         "Provo",
         "Nike Men's Free 5.0+ Running Shoe",
         16,
         1599.839988708496
        ],
        [
         "Spring",
         "Perfect Fitness Perfect Rip Deck",
         16,
         959.8400268554688
        ],
        [
         "Astoria",
         "Under Armour Girls' Toddler Spine Surge Runni",
         16,
         639.840015411377
        ],
        [
         "Decatur",
         "Under Armour Girls' Toddler Spine Surge Runni",
         16,
         639.840015411377
        ],
        [
         "Dundalk",
         "Nike Men's Free 5.0+ Running Shoe",
         16,
         1599.8399658203125
        ],
        [
         "Frankfort",
         "Nike Men's CJ Elite 2 TD Football Cleat",
         16,
         2079.840087890625
        ],
        [
         "Manchester",
         "Under Armour Girls' Toddler Spine Surge Runni",
         16,
         639.8400230407715
        ],
        [
         "Medina",
         "Nike Men's Free 5.0+ Running Shoe",
         16,
         1599.8399963378906
        ],
        [
         "Muskegon",
         "Perfect Fitness Perfect Rip Deck",
         16,
         959.8400192260742
        ],
        [
         "Norwalk",
         "Nike Men's Free 5.0+ Running Shoe",
         16,
         1599.8400192260742
        ],
        [
         "Rock Hill",
         "Nike Men's Free 5.0+ Running Shoe",
         16,
         1599.8399963378906
        ],
        [
         "Sandusky",
         "Under Armour Girls' Toddler Spine Surge Runni",
         16,
         639.8400115966797
        ],
        [
         "Taunton",
         "O'Brien Men's Neoprene Life Vest",
         16,
         799.679988861084
        ],
        [
         "Vacaville",
         "O'Brien Men's Neoprene Life Vest",
         16,
         799.679988861084
        ],
        [
         "Bay Shore",
         "Under Armour Girls' Toddler Spine Surge Runni",
         16,
         639.8400115966797
        ],
        [
         "Denton",
         "Pelican Sunstream 100 Kayak",
         16,
         3199.840087890625
        ],
        [
         "Folsom",
         "Nike Men's CJ Elite 2 TD Football Cleat",
         16,
         2079.840087890625
        ],
        [
         "Goleta",
         "O'Brien Men's Neoprene Life Vest",
         16,
         799.6799964904785
        ],
        [
         "Hawthorne",
         "Nike Men's Free 5.0+ Running Shoe",
         16,
         1599.8400192260742
        ],
        [
         "Milpitas",
         "Nike Men's CJ Elite 2 TD Football Cleat",
         16,
         2079.840087890625
        ],
        [
         "Montebello",
         "Nike Men's CJ Elite 2 TD Football Cleat",
         16,
         2079.840087890625
        ],
        [
         "Nashville",
         "Under Armour Girls' Toddler Spine Surge Runni",
         16,
         639.8399925231934
        ],
        [
         "O Fallon",
         "Nike Men's CJ Elite 2 TD Football Cleat",
         16,
         2079.840087890625
        ],
        [
         "Painesville",
         "O'Brien Men's Neoprene Life Vest",
         16,
         799.680004119873
        ],
        [
         "San Pedro",
         "O'Brien Men's Neoprene Life Vest",
         16,
         799.6800003051758
        ],
        [
         "Santa Maria",
         "Nike Men's Dri-FIT Victory Golf Polo",
         16,
         800.0
        ],
        [
         "Santa Maria",
         "O'Brien Men's Neoprene Life Vest",
         16,
         799.6799964904785
        ],
        [
         "Temecula",
         "Nike Men's Free 5.0+ Running Shoe",
         16,
         1599.839988708496
        ],
        [
         "Vallejo",
         "Under Armour Girls' Toddler Spine Surge Runni",
         16,
         639.8400039672852
        ],
        [
         "Waukegan",
         "Under Armour Girls' Toddler Spine Surge Runni",
         16,
         639.840015411377
        ],
        [
         "Winter Park",
         "Field & Stream Sportsman 16 Gun Fire Safe",
         16,
         6399.68017578125
        ],
        [
         "Bolingbrook",
         "Nike Men's CJ Elite 2 TD Football Cleat",
         16,
         2079.840087890625
        ],
        [
         "Fond Du Lac",
         "Nike Men's CJ Elite 2 TD Football Cleat",
         16,
         2079.840087890625
        ],
        [
         "Irvington",
         "Under Armour Girls' Toddler Spine Surge Runni",
         16,
         639.8400115966797
        ],
        [
         "Morganton",
         "Perfect Fitness Perfect Rip Deck",
         16,
         959.8400230407715
        ],
        [
         "National City",
         "Nike Men's Free 5.0+ Running Shoe",
         16,
         1599.8400115966797
        ],
        [
         "Pawtucket",
         "Field & Stream Sportsman 16 Gun Fire Safe",
         16,
         6399.68017578125
        ],
        [
         "South Gate",
         "O'Brien Men's Neoprene Life Vest",
         16,
         799.6799926757812
        ],
        [
         "Toa Baja",
         "Nike Men's Dri-FIT Victory Golf Polo",
         16,
         800.0
        ],
        [
         "Wheaton",
         "O'Brien Men's Neoprene Life Vest",
         16,
         799.679988861084
        ],
        [
         "Bowling Green",
         "Field & Stream Sportsman 16 Gun Fire Safe",
         16,
         6399.68017578125
        ],
        [
         "Alhambra",
         "Nike Men's Free 5.0+ Running Shoe",
         16,
         1599.8399963378906
        ],
        [
         "Charlotte",
         "O'Brien Men's Neoprene Life Vest",
         15,
         749.6999893188477
        ],
        [
         "Chillicothe",
         "Nike Men's CJ Elite 2 TD Football Cleat",
         15,
         1949.850082397461
        ],
        [
         "Garland",
         "O'Brien Men's Neoprene Life Vest",
         15,
         749.6999855041504
        ],
        [
         "Nashville",
         "Perfect Fitness Perfect Rip Deck",
         15,
         899.8500213623047
        ],
        [
         "Citrus Heights",
         "Nike Men's Free 5.0+ Running Shoe",
         15,
         1499.8499908447266
        ],
        [
         "Guaynabo",
         "Nike Men's Free 5.0+ Running Shoe",
         15,
         1499.8500213623047
        ],
        [
         "Jonesboro",
         "Nike Men's CJ Elite 2 TD Football Cleat",
         15,
         1949.850082397461
        ],
        [
         "North Tonawanda",
         "Under Armour Girls' Toddler Spine Surge Runni",
         15,
         599.8500099182129
        ],
        [
         "Peabody",
         "Under Armour Girls' Toddler Spine Surge Runni",
         15,
         599.8500022888184
        ],
        [
         "Bensalem",
         "Nike Men's Dri-FIT Victory Golf Polo",
         15,
         750.0
        ],
        [
         "Colton",
         "Nike Men's Free 5.0+ Running Shoe",
         15,
         1499.8499908447266
        ],
        [
         "Dubuque",
         "O'Brien Men's Neoprene Life Vest",
         15,
         749.6999931335449
        ],
        [
         "Gwynn Oak",
         "Nike Men's Free 5.0+ Running Shoe",
         15,
         1499.8500061035156
        ],
        [
         "Hacienda Heights",
         "Perfect Fitness Perfect Rip Deck",
         15,
         899.8500213623047
        ],
        [
         "Kenner",
         "Perfect Fitness Perfect Rip Deck",
         15,
         899.850025177002
        ],
        [
         "Lawton",
         "Under Armour Girls' Toddler Spine Surge Runni",
         15,
         599.8500213623047
        ],
        [
         "North Tonawanda",
         "Nike Men's CJ Elite 2 TD Football Cleat",
         15,
         1949.850082397461
        ],
        [
         "Palmdale",
         "Nike Men's Free 5.0+ Running Shoe",
         15,
         1499.849998474121
        ],
        [
         "Peabody",
         "Nike Men's Dri-FIT Victory Golf Polo",
         15,
         750.0
        ],
        [
         "Saginaw",
         "Pelican Sunstream 100 Kayak",
         15,
         2999.850082397461
        ],
        [
         "West Lafayette",
         "Nike Men's Free 5.0+ Running Shoe",
         15,
         1499.8500061035156
        ],
        [
         "Chambersburg",
         "Under Armour Girls' Toddler Spine Surge Runni",
         15,
         599.8500213623047
        ],
        [
         "Annandale",
         "Nike Men's Free 5.0+ Running Shoe",
         15,
         1499.8500137329102
        ],
        [
         "Des Plaines",
         "Nike Men's Free 5.0+ Running Shoe",
         15,
         1499.8499755859375
        ],
        [
         "El Centro",
         "Field & Stream Sportsman 16 Gun Fire Safe",
         15,
         5999.700164794922
        ],
        [
         "El Centro",
         "Under Armour Girls' Toddler Spine Surge Runni",
         15,
         599.8500213623047
        ],
        [
         "Hacienda Heights",
         "Nike Men's Dri-FIT Victory Golf Polo",
         15,
         750.0
        ],
        [
         "Hendersonville",
         "Under Armour Girls' Toddler Spine Surge Runni",
         15,
         599.8500099182129
        ],
        [
         "Hollister",
         "O'Brien Men's Neoprene Life Vest",
         15,
         749.6999969482422
        ],
        [
         "La Habra",
         "Pelican Sunstream 100 Kayak",
         15,
         2999.850082397461
        ],
        [
         "Lilburn",
         "Under Armour Girls' Toddler Spine Surge Runni",
         15,
         599.8500022888184
        ],
        [
         "Livermore",
         "Nike Men's CJ Elite 2 TD Football Cleat",
         15,
         1949.850082397461
        ],
        [
         "Palo Alto",
         "Nike Men's Dri-FIT Victory Golf Polo",
         15,
         750.0
        ],
        [
         "Parkville",
         "Nike Men's Dri-FIT Victory Golf Polo",
         15,
         750.0
        ],
        [
         "Perth Amboy",
         "Nike Men's CJ Elite 2 TD Football Cleat",
         15,
         1949.850082397461
        ],
        [
         "Sanford",
         "Pelican Sunstream 100 Kayak",
         15,
         2999.850082397461
        ],
        [
         "South San Francisco",
         "Under Armour Girls' Toddler Spine Surge Runni",
         15,
         599.850025177002
        ],
        [
         "Woonsocket",
         "Nike Men's Free 5.0+ Running Shoe",
         15,
         1499.849967956543
        ],
        [
         "Toa Baja",
         "Nike Men's Free 5.0+ Running Shoe",
         15,
         1499.8499908447266
        ],
        [
         "Marrero",
         "Pelican Sunstream 100 Kayak",
         15,
         2999.850082397461
        ],
        [
         "Annapolis",
         "Nike Men's CJ Elite 2 TD Football Cleat",
         15,
         1949.850082397461
        ],
        [
         "Annandale",
         "Nike Men's CJ Elite 2 TD Football Cleat",
         15,
         1949.850082397461
        ],
        [
         "Englewood",
         "Under Armour Girls' Toddler Spine Surge Runni",
         15,
         599.8500099182129
        ],
        [
         "Howell",
         "Perfect Fitness Perfect Rip Deck",
         15,
         899.8500289916992
        ],
        [
         "Laguna Hills",
         "O'Brien Men's Neoprene Life Vest",
         15,
         749.6999931335449
        ],
        [
         "Lynwood",
         "Under Armour Girls' Toddler Spine Surge Runni",
         15,
         599.8500022888184
        ],
        [
         "Passaic",
         "Nike Men's Free 5.0+ Running Shoe",
         15,
         1499.849998474121
        ],
        [
         "Roseburg",
         "Nike Men's CJ Elite 2 TD Football Cleat",
         15,
         1949.850082397461
        ],
        [
         "Sumner",
         "Perfect Fitness Perfect Rip Deck",
         15,
         899.850025177002
        ],
        [
         "Sylmar",
         "Field & Stream Sportsman 16 Gun Fire Safe",
         15,
         5999.700164794922
        ],
        [
         "Baldwin Park",
         "Nike Men's Free 5.0+ Running Shoe",
         15,
         1499.849998474121
        ],
        [
         "Azusa",
         "Under Armour Girls' Toddler Spine Surge Runni",
         14,
         559.8600196838379
        ],
        [
         "Bensalem",
         "Under Armour Girls' Toddler Spine Surge Runni",
         14,
         559.8600120544434
        ],
        [
         "Cayey",
         "Nike Men's Dri-FIT Victory Golf Polo",
         14,
         700.0
        ],
        [
         "Charlotte",
         "Field & Stream Sportsman 16 Gun Fire Safe",
         14,
         5599.720153808594
        ],
        [
         "Cincinnati",
         "Under Armour Girls' Toddler Spine Surge Runni",
         14,
         559.8600158691406
        ],
        [
         "Fountain Valley",
         "Nike Men's Free 5.0+ Running Shoe",
         14,
         1399.859992980957
        ],
        [
         "Citrus Heights",
         "O'Brien Men's Neoprene Life Vest",
         14,
         699.7199935913086
        ],
        [
         "Guaynabo",
         "Diamondback Women's Serene Classic Comfort Bi",
         14,
         4199.720153808594
        ],
        [
         "Longview",
         "Nike Men's CJ Elite 2 TD Football Cleat",
         14,
         1819.8600769042969
        ],
        [
         "Annandale",
         "Diamondback Women's Serene Classic Comfort Bi",
         14,
         4199.720153808594
        ],
        [
         "Crown Point",
         "Under Armour Girls' Toddler Spine Surge Runni",
         14,
         559.8600158691406
        ],
        [
         "Guaynabo",
         "Nike Men's CJ Elite 2 TD Football Cleat",
         14,
         1819.8600769042969
        ],
        [
         "Hendersonville",
         "Diamondback Women's Serene Classic Comfort Bi",
         14,
         4199.720153808594
        ],
        [
         "Morrisville",
         "O'Brien Men's Neoprene Life Vest",
         14,
         699.7199935913086
        ],
        [
         "Norwalk",
         "O'Brien Men's Neoprene Life Vest",
         14,
         699.7199935913086
        ],
        [
         "Scottsdale",
         "Under Armour Girls' Toddler Spine Surge Runni",
         14,
         559.8600120544434
        ],
        [
         "Azusa",
         "Diamondback Women's Serene Classic Comfort Bi",
         14,
         4199.720153808594
        ],
        [
         "Cypress",
         "Nike Men's CJ Elite 2 TD Football Cleat",
         14,
         1819.8600769042969
        ],
        [
         "Gwynn Oak",
         "Perfect Fitness Perfect Rip Deck",
         14,
         839.8600234985352
        ],
        [
         "Kenner",
         "O'Brien Men's Neoprene Life Vest",
         14,
         699.7199974060059
        ],
        [
         "Laguna Hills",
         "Under Armour Girls' Toddler Spine Surge Runni",
         14,
         559.8599967956543
        ],
        [
         "Muskegon",
         "Field & Stream Sportsman 16 Gun Fire Safe",
         14,
         5599.720153808594
        ],
        [
         "New Albany",
         "Nike Men's CJ Elite 2 TD Football Cleat",
         14,
         1819.8600769042969
        ],
        [
         "Oakland",
         "Nike Men's Free 5.0+ Running Shoe",
         14,
         1399.859992980957
        ],
        [
         "Peoria",
         "Nike Men's Free 5.0+ Running Shoe",
         14,
         1399.8600006103516
        ],
        [
         "Sheboygan",
         "Field & Stream Sportsman 16 Gun Fire Safe",
         14,
         5599.720153808594
        ],
        [
         "Stone Mountain",
         "Pelican Sunstream 100 Kayak",
         14,
         2799.860076904297
        ],
        [
         "Rio Rancho",
         "Under Armour Girls' Toddler Spine Surge Runni",
         14,
         559.8600082397461
        ],
        [
         "Elk Grove",
         "Nike Men's CJ Elite 2 TD Football Cleat",
         14,
         1819.8600769042969
        ],
        [
         "Des Plaines",
         "Field & Stream Sportsman 16 Gun Fire Safe",
         14,
         5599.720153808594
        ],
        [
         "Kenner",
         "Nike Men's Free 5.0+ Running Shoe",
         14,
         1399.859992980957
        ],
        [
         "Lawrenceville",
         "Pelican Sunstream 100 Kayak",
         14,
         2799.860076904297
        ],
        [
         "Levittown",
         "Nike Men's CJ Elite 2 TD Football Cleat",
         14,
         1819.8600769042969
        ],
        [
         "Nashville",
         "Nike Men's Dri-FIT Victory Golf Polo",
         14,
         700.0
        ],
        [
         "New Albany",
         "Field & Stream Sportsman 16 Gun Fire Safe",
         14,
         5599.720153808594
        ],
        [
         "New Braunfels",
         "Nike Men's CJ Elite 2 TD Football Cleat",
         14,
         1819.8600769042969
        ],
        [
         "Palo Alto",
         "Under Armour Girls' Toddler Spine Surge Runni",
         14,
         559.8600006103516
        ],
        [
         "Pico Rivera",
         "O'Brien Men's Neoprene Life Vest",
         14,
         699.7199935913086
        ],
        [
         "Redmond",
         "Nike Men's CJ Elite 2 TD Football Cleat",
         14,
         1819.8600769042969
        ],
        [
         "Toa Baja",
         "Under Armour Girls' Toddler Spine Surge Runni",
         14,
         559.8600120544434
        ],
        [
         "Toms River",
         "Under Armour Girls' Toddler Spine Surge Runni",
         14,
         559.8600006103516
        ],
        [
         "Roseville",
         "Nike Men's CJ Elite 2 TD Football Cleat",
         14,
         1819.8600769042969
        ],
        [
         "Federal Way",
         "Pelican Sunstream 100 Kayak",
         14,
         2799.860076904297
        ],
        [
         "Elk Grove",
         "Field & Stream Sportsman 16 Gun Fire Safe",
         14,
         5599.720153808594
        ],
        [
         "Dubuque",
         "Nike Men's Dri-FIT Victory Golf Polo",
         14,
         700.0
        ],
        [
         "Kenner",
         "Nike Men's Dri-FIT Victory Golf Polo",
         14,
         700.0
        ],
        [
         "Lilburn",
         "Nike Men's Free 5.0+ Running Shoe",
         14,
         1399.859977722168
        ],
        [
         "North Bergen",
         "Nike Men's CJ Elite 2 TD Football Cleat",
         14,
         1819.8600769042969
        ],
        [
         "Parkville",
         "O'Brien Men's Neoprene Life Vest",
         14,
         699.7199974060059
        ],
        [
         "Reseda",
         "Under Armour Girls' Toddler Spine Surge Runni",
         14,
         559.8600120544434
        ],
        [
         "Woodside",
         "Nike Men's CJ Elite 2 TD Football Cleat",
         14,
         1819.8600769042969
        ],
        [
         "Yauco",
         "Under Armour Girls' Toddler Spine Surge Runni",
         14,
         559.8600158691406
        ],
        [
         "Englewood",
         "Nike Men's Free 5.0+ Running Shoe",
         14,
         1399.859992980957
        ],
        [
         "Bristol",
         "Field & Stream Sportsman 16 Gun Fire Safe",
         13,
         5199.740142822266
        ],
        [
         "Canyon Country",
         "Diamondback Women's Serene Classic Comfort Bi",
         13,
         3899.7401428222656
        ],
        [
         "Ithaca",
         "Under Armour Girls' Toddler Spine Surge Runni",
         13,
         519.8700065612793
        ],
        [
         "Canyon Country",
         "Nike Men's CJ Elite 2 TD Football Cleat",
         13,
         1689.8700714111328
        ],
        [
         "Jackson Heights",
         "Under Armour Girls' Toddler Spine Surge Runni",
         13,
         519.8700065612793
        ],
        [
         "Placentia",
         "Nike Men's Dri-FIT Victory Golf Polo",
         13,
         650.0
        ],
        [
         "Carmichael",
         "Field & Stream Sportsman 16 Gun Fire Safe",
         13,
         5199.740142822266
        ],
        [
         "East Brunswick",
         "Under Armour Girls' Toddler Spine Surge Runni",
         13,
         519.8700103759766
        ],
        [
         "Lompoc",
         "Nike Men's CJ Elite 2 TD Football Cleat",
         13,
         1689.8700714111328
        ],
        [
         "National City",
         "Perfect Fitness Perfect Rip Deck",
         13,
         779.8700180053711
        ],
        [
         "Rancho Cucamonga",
         "Under Armour Girls' Toddler Spine Surge Runni",
         13,
         519.8700103759766
        ],
        [
         "Springfield",
         "Field & Stream Sportsman 16 Gun Fire Safe",
         13,
         5199.740142822266
        ],
        [
         "Blacksburg",
         "Nike Men's CJ Elite 2 TD Football Cleat",
         13,
         1689.8700714111328
        ],
        [
         "Carmichael",
         "Nike Men's CJ Elite 2 TD Football Cleat",
         13,
         1689.8700714111328
        ],
        [
         "Cicero",
         "Nike Men's Free 5.0+ Running Shoe",
         13,
         1299.870018005371
        ],
        [
         "Edison",
         "Nike Men's Free 5.0+ Running Shoe",
         13,
         1299.8700256347656
        ],
        [
         "Glenview",
         "Diamondback Women's Serene Classic Comfort Bi",
         13,
         3899.7401428222656
        ],
        [
         "Lynnwood",
         "Nike Men's CJ Elite 2 TD Football Cleat",
         13,
         1689.8700714111328
        ],
        [
         "New Castle",
         "Under Armour Girls' Toddler Spine Surge Runni",
         13,
         519.8699989318848
        ],
        [
         "Normal",
         "Pelican Sunstream 100 Kayak",
         13,
         2599.870071411133
        ],
        [
         "Reno",
         "Nike Men's Dri-FIT Victory Golf Polo",
         13,
         650.0
        ],
        [
         "Rialto",
         "Under Armour Girls' Toddler Spine Surge Runni",
         13,
         519.8700218200684
        ],
        [
         "Sun Valley",
         "Nike Men's Free 5.0+ Running Shoe",
         13,
         1299.870018005371
        ],
        [
         "Union",
         "Under Armour Girls' Toddler Spine Surge Runni",
         13,
         519.870002746582
        ],
        [
         "Westminster",
         "Nike Men's Free 5.0+ Running Shoe",
         13,
         1299.870018005371
        ],
        [
         "Brentwood",
         "O'Brien Men's Neoprene Life Vest",
         13,
         649.7399940490723
        ],
        [
         "Albany",
         "Under Armour Girls' Toddler Spine Surge Runni",
         13,
         519.8700103759766
        ],
        [
         "Chicago Heights",
         "Nike Men's Free 5.0+ Running Shoe",
         13,
         1299.870002746582
        ],
        [
         "Clovis",
         "Nike Men's CJ Elite 2 TD Football Cleat",
         13,
         1689.8700714111328
        ],
        [
         "Cupertino",
         "Diamondback Women's Serene Classic Comfort Bi",
         13,
         3899.7401428222656
        ],
        [
         "Everett",
         "Nike Men's CJ Elite 2 TD Football Cleat",
         13,
         1689.8700714111328
        ],
        [
         "Goleta",
         "Nike Men's Free 5.0+ Running Shoe",
         13,
         1299.8699951171875
        ],
        [
         "Grand Prairie",
         "Nike Men's Free 5.0+ Running Shoe",
         13,
         1299.8700103759766
        ],
        [
         "Marion",
         "Nike Men's Free 5.0+ Running Shoe",
         13,
         1299.8699951171875
        ],
        [
         "Martinez",
         "O'Brien Men's Neoprene Life Vest",
         13,
         649.7400016784668
        ],
        [
         "Norcross",
         "Diamondback Women's Serene Classic Comfort Bi",
         13,
         3899.7401428222656
        ],
        [
         "Oviedo",
         "Perfect Fitness Perfect Rip Deck",
         13,
         779.8700180053711
        ],
        [
         "Oviedo",
         "Nike Men's Dri-FIT Victory Golf Polo",
         13,
         650.0
        ],
        [
         "Revere",
         "Nike Men's Free 5.0+ Running Shoe",
         13,
         1299.869987487793
        ],
        [
         "Richardson",
         "Pelican Sunstream 100 Kayak",
         13,
         2599.870071411133
        ],
        [
         "Rosemead",
         "Pelican Sunstream 100 Kayak",
         13,
         2599.870071411133
        ],
        [
         "Sylmar",
         "Nike Men's Free 5.0+ Running Shoe",
         13,
         1299.8700103759766
        ],
        [
         "Upland",
         "O'Brien Men's Neoprene Life Vest",
         13,
         649.7400016784668
        ],
        [
         "Vacaville",
         "Nike Men's CJ Elite 2 TD Football Cleat",
         13,
         1689.8700714111328
        ],
        [
         "West Lafayette",
         "Under Armour Girls' Toddler Spine Surge Runni",
         13,
         519.8700103759766
        ],
        [
         "Hollister",
         "Nike Men's CJ Elite 2 TD Football Cleat",
         13,
         1689.8700714111328
        ],
        [
         "Allentown",
         "Nike Men's Free 5.0+ Running Shoe",
         13,
         1299.8699951171875
        ],
        [
         "East Brunswick",
         "Nike Men's Free 5.0+ Running Shoe",
         13,
         1299.869987487793
        ],
        [
         "Ewa Beach",
         "Pelican Sunstream 100 Kayak",
         13,
         2599.870071411133
        ],
        [
         "Henrico",
         "Nike Men's Free 5.0+ Running Shoe",
         13,
         1299.8700256347656
        ],
        [
         "Massapequa",
         "Nike Men's Free 5.0+ Running Shoe",
         13,
         1299.869972229004
        ],
        [
         "Normal",
         "Under Armour Girls' Toddler Spine Surge Runni",
         13,
         519.8700103759766
        ],
        [
         "Pacoima",
         "Field & Stream Sportsman 16 Gun Fire Safe",
         13,
         5199.740142822266
        ],
        [
         "San Pedro",
         "Nike Men's CJ Elite 2 TD Football Cleat",
         13,
         1689.8700714111328
        ],
        [
         "Tracy",
         "Nike Men's Dri-FIT Victory Golf Polo",
         13,
         650.0
        ],
        [
         "Vallejo",
         "Nike Men's Free 5.0+ Running Shoe",
         13,
         1299.870002746582
        ],
        [
         "Watsonville",
         "Nike Men's CJ Elite 2 TD Football Cleat",
         13,
         1689.8700714111328
        ],
        [
         "Bellingham",
         "Under Armour Girls' Toddler Spine Surge Runni",
         13,
         519.8699951171875
        ],
        [
         "Bountiful",
         "Nike Men's CJ Elite 2 TD Football Cleat",
         12,
         1559.8800659179688
        ],
        [
         "Brentwood",
         "Under Armour Girls' Toddler Spine Surge Runni",
         12,
         479.88000869750977
        ],
        [
         "Bristol",
         "Pelican Sunstream 100 Kayak",
         12,
         2399.8800659179688
        ],
        [
         "Canoga Park",
         "Nike Men's CJ Elite 2 TD Football Cleat",
         12,
         1559.8800659179688
        ],
        [
         "Hawthorne",
         "Under Armour Girls' Toddler Spine Surge Runni",
         12,
         479.88002014160156
        ],
        [
         "Rock Hill",
         "Field & Stream Sportsman 16 Gun Fire Safe",
         12,
         4799.7601318359375
        ],
        [
         "Clarksville",
         "Nike Men's CJ Elite 2 TD Football Cleat",
         12,
         1559.8800659179688
        ],
        [
         "Henrico",
         "Nike Men's CJ Elite 2 TD Football Cleat",
         12,
         1559.8800659179688
        ],
        [
         "Lynwood",
         "Pelican Sunstream 100 Kayak",
         12,
         2399.8800659179688
        ],
        [
         "Saint Peters",
         "Nike Men's Free 5.0+ Running Shoe",
         12,
         1199.880012512207
        ],
        [
         "Summerville",
         "Nike Men's CJ Elite 2 TD Football Cleat",
         12,
         1559.8800659179688
        ],
        [
         "Bartlett",
         "Nike Men's Dri-FIT Victory Golf Polo",
         12,
         600.0
        ],
        [
         "Dayton",
         "Perfect Fitness Perfect Rip Deck",
         12,
         719.8800201416016
        ],
        [
         "Howell",
         "Nike Men's CJ Elite 2 TD Football Cleat",
         12,
         1559.8800659179688
        ],
        [
         "Howell",
         "Pelican Sunstream 100 Kayak",
         12,
         2399.8800659179688
        ],
        [
         "Madera",
         "Under Armour Girls' Toddler Spine Surge Runni",
         12,
         479.88000869750977
        ],
        [
         "New Braunfels",
         "Field & Stream Sportsman 16 Gun Fire Safe",
         12,
         4799.7601318359375
        ],
        [
         "Smyrna",
         "Nike Men's Free 5.0+ Running Shoe",
         12,
         1199.8799896240234
        ],
        [
         "Sun Valley",
         "O'Brien Men's Neoprene Life Vest",
         12,
         599.7599983215332
        ],
        [
         "Toa Alta",
         "Perfect Fitness Perfect Rip Deck",
         12,
         719.8800239562988
        ],
        [
         "Wilmington",
         "O'Brien Men's Neoprene Life Vest",
         12,
         599.7599906921387
        ],
        [
         "Bellingham",
         "Nike Men's Free 5.0+ Running Shoe",
         12,
         1199.8799896240234
        ],
        [
         "Dubuque",
         "Under Armour Girls' Toddler Spine Surge Runni",
         12,
         479.88002014160156
        ],
        [
         "East Brunswick",
         "Field & Stream Sportsman 16 Gun Fire Safe",
         12,
         4799.7601318359375
        ],
        [
         "Howell",
         "O'Brien Men's Neoprene Life Vest",
         12,
         599.7599945068359
        ],
        [
         "Howell",
         "Field & Stream Sportsman 16 Gun Fire Safe",
         12,
         4799.7601318359375
        ],
        [
         "Huntington Park",
         "Nike Men's CJ Elite 2 TD Football Cleat",
         12,
         1559.8800659179688
        ],
        [
         "Mentor",
         "Under Armour Girls' Toddler Spine Surge Runni",
         12,
         479.88000869750977
        ],
        [
         "New Castle",
         "Nike Men's Free 5.0+ Running Shoe",
         12,
         1199.879981994629
        ],
        [
         "Normal",
         "Nike Men's CJ Elite 2 TD Football Cleat",
         12,
         1559.8800659179688
        ],
        [
         "Summerville",
         "Field & Stream Sportsman 16 Gun Fire Safe",
         12,
         4799.7601318359375
        ],
        [
         "Taylor",
         "Under Armour Girls' Toddler Spine Surge Runni",
         12,
         479.88001251220703
        ],
        [
         "Trujillo Alto",
         "Field & Stream Sportsman 16 Gun Fire Safe",
         12,
         4799.7601318359375
        ],
        [
         "Union",
         "Diamondback Women's Serene Classic Comfort Bi",
         12,
         3599.7601318359375
        ],
        [
         "Yuma",
         "Nike Men's Dri-FIT Victory Golf Polo",
         12,
         600.0
        ],
        [
         "Reno",
         "Under Armour Girls' Toddler Spine Surge Runni",
         12,
         479.87999725341797
        ],
        [
         "Painesville",
         "Under Armour Girls' Toddler Spine Surge Runni",
         12,
         479.88000869750977
        ],
        [
         "Allentown",
         "O'Brien Men's Neoprene Life Vest",
         12,
         599.7599945068359
        ],
        [
         "East Brunswick",
         "Pelican Sunstream 100 Kayak",
         12,
         2399.8800659179688
        ],
        [
         "Lindenhurst",
         "Nike Men's Free 5.0+ Running Shoe",
         12,
         1199.879997253418
        ],
        [
         "Merced",
         "Nike Men's Free 5.0+ Running Shoe",
         12,
         1199.879981994629
        ],
        [
         "North Bergen",
         "Under Armour Girls' Toddler Spine Surge Runni",
         12,
         479.88002014160156
        ],
        [
         "Summerville",
         "Pelican Sunstream 100 Kayak",
         12,
         2399.8800659179688
        ],
        [
         "Tinley Park",
         "Nike Men's Free 5.0+ Running Shoe",
         12,
         1199.8799896240234
        ],
        [
         "Westminster",
         "Nike Men's Dri-FIT Victory Golf Polo",
         12,
         600.0
        ],
        [
         "Pittsburg",
         "Nike Men's CJ Elite 2 TD Football Cleat",
         12,
         1559.8800659179688
        ],
        [
         "Arlington",
         "Under Armour Girls' Toddler Spine Surge Runni",
         12,
         479.88000869750977
        ],
        [
         "Bountiful",
         "Pelican Sunstream 100 Kayak",
         11,
         2199.8900604248047
        ],
        [
         "Brockton",
         "Under Armour Girls' Toddler Spine Surge Runni",
         11,
         439.89000701904297
        ],
        [
         "Grand Prairie",
         "Under Armour Girls' Toddler Spine Surge Runni",
         11,
         439.89000701904297
        ],
        [
         "Brockton",
         "Pelican Sunstream 100 Kayak",
         11,
         2199.8900604248047
        ],
        [
         "Grand Prairie",
         "O'Brien Men's Neoprene Life Vest",
         11,
         549.7799949645996
        ],
        [
         "Mentor",
         "Nike Men's CJ Elite 2 TD Football Cleat",
         11,
         1429.8900604248047
        ],
        [
         "Broomfield",
         "Nike Men's Free 5.0+ Running Shoe",
         11,
         1099.8900146484375
        ],
        [
         "Hempstead",
         "Nike Men's Dri-FIT Victory Golf Polo",
         11,
         550.0
        ],
        [
         "Knoxville",
         "Pelican Sunstream 100 Kayak",
         11,
         2199.8900604248047
        ],
        [
         "Michigan City",
         "Nike Men's CJ Elite 2 TD Football Cleat",
         11,
         1429.8900604248047
        ],
        [
         "Poway",
         "Under Armour Girls' Toddler Spine Surge Runni",
         11,
         439.8900146484375
        ],
        [
         "Victorville",
         "Nike Men's CJ Elite 2 TD Football Cleat",
         11,
         1429.8900604248047
        ],
        [
         "Canoga Park",
         "Pelican Sunstream 100 Kayak",
         11,
         2199.8900604248047
        ],
        [
         "Cicero",
         "Nike Men's CJ Elite 2 TD Football Cleat",
         11,
         1429.8900604248047
        ],
        [
         "Henrico",
         "Under Armour Girls' Toddler Spine Surge Runni",
         11,
         439.89000701904297
        ],
        [
         "Hollister",
         "Under Armour Girls' Toddler Spine Surge Runni",
         11,
         439.89001083374023
        ],
        [
         "Knoxville",
         "Field & Stream Sportsman 16 Gun Fire Safe",
         11,
         4399.780120849609
        ],
        [
         "Lynn",
         "Under Armour Girls' Toddler Spine Surge Runni",
         11,
         439.8900032043457
        ],
        [
         "Norwalk",
         "Under Armour Girls' Toddler Spine Surge Runni",
         11,
         439.8900146484375
        ],
        [
         "Parkville",
         "Pelican Sunstream 100 Kayak",
         11,
         2199.8900604248047
        ],
        [
         "Poway",
         "Nike Men's CJ Elite 2 TD Football Cleat",
         11,
         1429.8900604248047
        ],
        [
         "Saint Peters",
         "Under Armour Girls' Toddler Spine Surge Runni",
         11,
         439.8900032043457
        ],
        [
         "Williamsport",
         "Field & Stream Sportsman 16 Gun Fire Safe",
         11,
         4399.780120849609
        ],
        [
         "Bountiful",
         "Nike Men's Free 5.0+ Running Shoe",
         11,
         1099.8899765014648
        ],
        [
         "Bensalem",
         "Field & Stream Sportsman 16 Gun Fire Safe",
         11,
         4399.780120849609
        ],
        [
         "Cicero",
         "O'Brien Men's Neoprene Life Vest",
         11,
         549.7799911499023
        ],
        [
         "Conway",
         "Nike Men's CJ Elite 2 TD Football Cleat",
         11,
         1429.8900604248047
        ],
        [
         "Indio",
         "Field & Stream Sportsman 16 Gun Fire Safe",
         11,
         4399.780120849609
        ],
        [
         "Irvington",
         "Nike Men's Free 5.0+ Running Shoe",
         11,
         1099.8899841308594
        ],
        [
         "La Puente",
         "Nike Men's Free 5.0+ Running Shoe",
         11,
         1099.8899993896484
        ],
        [
         "Madera",
         "Field & Stream Sportsman 16 Gun Fire Safe",
         11,
         4399.780120849609
        ],
        [
         "Madera",
         "Nike Men's Free 5.0+ Running Shoe",
         11,
         1099.8899841308594
        ],
        [
         "Palmdale",
         "Diamondback Women's Serene Classic Comfort Bi",
         11,
         3299.7801208496094
        ],
        [
         "Parkville",
         "Nike Men's Free 5.0+ Running Shoe",
         11,
         1099.8899841308594
        ],
        [
         "Perth Amboy",
         "Diamondback Women's Serene Classic Comfort Bi",
         11,
         3299.7801208496094
        ],
        [
         "Rio Rancho",
         "Nike Men's CJ Elite 2 TD Football Cleat",
         11,
         1429.8900604248047
        ],
        [
         "South San Francisco",
         "Nike Men's CJ Elite 2 TD Football Cleat",
         11,
         1429.8900604248047
        ],
        [
         "Taylor",
         "Diamondback Women's Serene Classic Comfort Bi",
         11,
         3299.7801208496094
        ],
        [
         "Yuma",
         "Diamondback Women's Serene Classic Comfort Bi",
         11,
         3299.7801208496094
        ],
        [
         "Wilmington",
         "Under Armour Girls' Toddler Spine Surge Runni",
         11,
         439.88999938964844
        ],
        [
         "Tracy",
         "O'Brien Men's Neoprene Life Vest",
         11,
         549.7799911499023
        ],
        [
         "Bolingbrook",
         "Nike Men's Free 5.0+ Running Shoe",
         11,
         1099.8899993896484
        ],
        [
         "Billings",
         "Pelican Sunstream 100 Kayak",
         11,
         2199.8900604248047
        ],
        [
         "Doylestown",
         "Field & Stream Sportsman 16 Gun Fire Safe",
         11,
         4399.780120849609
        ],
        [
         "Ithaca",
         "Nike Men's CJ Elite 2 TD Football Cleat",
         11,
         1429.8900604248047
        ],
        [
         "Laguna Niguel",
         "Diamondback Women's Serene Classic Comfort Bi",
         11,
         3299.7801208496094
        ],
        [
         "Medford",
         "Nike Men's Free 5.0+ Running Shoe",
         11,
         1099.8899841308594
        ],
        [
         "Placentia",
         "Nike Men's CJ Elite 2 TD Football Cleat",
         11,
         1429.8900604248047
        ],
        [
         "Saint Peters",
         "Field & Stream Sportsman 16 Gun Fire Safe",
         11,
         4399.780120849609
        ],
        [
         "Toa Baja",
         "O'Brien Men's Neoprene Life Vest",
         11,
         549.7799911499023
        ],
        [
         "Yuma",
         "Field & Stream Sportsman 16 Gun Fire Safe",
         11,
         4399.780120849609
        ],
        [
         "Upland",
         "Under Armour Girls' Toddler Spine Surge Runni",
         11,
         439.8899955749512
        ],
        [
         "Billings",
         "Nike Men's Free 5.0+ Running Shoe",
         11,
         1099.8899765014648
        ],
        [
         "Arlington Heights",
         "Under Armour Girls' Toddler Spine Surge Runni",
         10,
         399.90000915527344
        ],
        [
         "Bartlett",
         "Under Armour Girls' Toddler Spine Surge Runni",
         10,
         399.8999938964844
        ],
        [
         "Cayey",
         "Nike Men's Free 5.0+ Running Shoe",
         10,
         999.9000015258789
        ],
        [
         "Brentwood",
         "Nike Men's Free 5.0+ Running Shoe",
         10,
         999.9000091552734
        ],
        [
         "Chambersburg",
         "Nike Men's Dri-FIT Victory Golf Polo",
         10,
         500.0
        ],
        [
         "Doylestown",
         "Diamondback Women's Serene Classic Comfort Bi",
         10,
         2999.8001098632812
        ],
        [
         "Malden",
         "O'Brien Men's Neoprene Life Vest",
         10,
         499.7999954223633
        ],
        [
         "Brockton",
         "Nike Men's CJ Elite 2 TD Football Cleat",
         10,
         1299.9000549316406
        ],
        [
         "Danbury",
         "Field & Stream Sportsman 16 Gun Fire Safe",
         10,
         3999.8001098632812
        ],
        [
         "Doylestown",
         "Under Armour Girls' Toddler Spine Surge Runni",
         10,
         399.9000053405762
        ],
        [
         "Harvey",
         "Diamondback Women's Serene Classic Comfort Bi",
         10,
         2999.8001098632812
        ],
        [
         "Marion",
         "O'Brien Men's Neoprene Life Vest",
         10,
         499.79999923706055
        ],
        [
         "Painesville",
         "Nike Men's CJ Elite 2 TD Football Cleat",
         10,
         1299.9000549316406
        ],
        [
         "Santa Fe",
         "Pelican Sunstream 100 Kayak",
         10,
         1999.9000549316406
        ],
        [
         "Brockton",
         "Diamondback Women's Serene Classic Comfort Bi",
         10,
         2999.8001098632812
        ],
        [
         "Doylestown",
         "Nike Men's CJ Elite 2 TD Football Cleat",
         10,
         1299.9000549316406
        ],
        [
         "Fargo",
         "Field & Stream Sportsman 16 Gun Fire Safe",
         10,
         3999.8001098632812
        ],
        [
         "Henderson",
         "Under Armour Girls' Toddler Spine Surge Runni",
         10,
         399.9000129699707
        ],
        [
         "Huntington Station",
         "Field & Stream Sportsman 16 Gun Fire Safe",
         10,
         3999.8001098632812
        ],
        [
         "Medford",
         "Diamondback Women's Serene Classic Comfort Bi",
         10,
         2999.8001098632812
        ],
        [
         "Medford",
         "Under Armour Girls' Toddler Spine Surge Runni",
         10,
         399.9000053405762
        ],
        [
         "Peoria",
         "Field & Stream Sportsman 16 Gun Fire Safe",
         10,
         3999.8001098632812
        ],
        [
         "Reseda",
         "Pelican Sunstream 100 Kayak",
         10,
         1999.9000549316406
        ],
        [
         "Spokane",
         "O'Brien Men's Neoprene Life Vest",
         10,
         499.7999954223633
        ],
        [
         "Stafford",
         "Under Armour Girls' Toddler Spine Surge Runni",
         10,
         399.9000015258789
        ],
        [
         "Upland",
         "Nike Men's Free 5.0+ Running Shoe",
         10,
         999.9000015258789
        ],
        [
         "Canovanas",
         "Nike Men's Free 5.0+ Running Shoe",
         10,
         999.9000015258789
        ],
        [
         "Edinburg",
         "Nike Men's Dri-FIT Victory Golf Polo",
         10,
         500.0
        ],
        [
         "Goleta",
         "Nike Men's Dri-FIT Victory Golf Polo",
         10,
         500.0
        ],
        [
         "Greensburg",
         "Pelican Sunstream 100 Kayak",
         10,
         1999.9000549316406
        ],
        [
         "Henderson",
         "Field & Stream Sportsman 16 Gun Fire Safe",
         10,
         3999.8001098632812
        ],
        [
         "Huntington Station",
         "Pelican Sunstream 100 Kayak",
         10,
         1999.9000549316406
        ],
        [
         "Indio",
         "Under Armour Girls' Toddler Spine Surge Runni",
         10,
         399.90000915527344
        ],
        [
         "Medford",
         "Pelican Sunstream 100 Kayak",
         10,
         1999.9000549316406
        ],
        [
         "Nashville",
         "Nike Men's Free 5.0+ Running Shoe",
         10,
         999.9000091552734
        ],
        [
         "Peoria",
         "Nike Men's CJ Elite 2 TD Football Cleat",
         10,
         1299.9000549316406
        ],
        [
         "Revere",
         "Nike Men's CJ Elite 2 TD Football Cleat",
         10,
         1299.9000549316406
        ],
        [
         "Rialto",
         "Nike Men's Free 5.0+ Running Shoe",
         10,
         999.9000244140625
        ],
        [
         "Spring",
         "Titleist Pro V1x Golf Balls",
         10,
         479.90001678466797
        ],
        [
         "Sun Valley",
         "Nike Men's CJ Elite 2 TD Football Cleat",
         10,
         1299.9000549316406
        ],
        [
         "Taunton",
         "Perfect Fitness Perfect Rip Deck",
         10,
         599.900016784668
        ],
        [
         "Vallejo",
         "Nike Men's CJ Elite 2 TD Football Cleat",
         10,
         1299.9000549316406
        ],
        [
         "Temecula",
         "Nike Men's Dri-FIT Victory Golf Polo",
         10,
         500.0
        ],
        [
         "Lodi",
         "Nike Men's Dri-FIT Victory Golf Polo",
         10,
         500.0
        ],
        [
         "Hacienda Heights",
         "Field & Stream Sportsman 16 Gun Fire Safe",
         10,
         3999.8001098632812
        ],
        [
         "Howell",
         "Nike Men's Free 5.0+ Running Shoe",
         10,
         999.9000015258789
        ],
        [
         "Lodi",
         "O'Brien Men's Neoprene Life Vest",
         10,
         499.7999954223633
        ],
        [
         "Normal",
         "Nike Men's Dri-FIT Victory Golf Polo",
         10,
         500.0
        ],
        [
         "Pittsburg",
         "O'Brien Men's Neoprene Life Vest",
         10,
         499.7999954223633
        ],
        [
         "Saint Peters",
         "Diamondback Women's Serene Classic Comfort Bi",
         10,
         2999.8001098632812
        ],
        [
         "Taunton",
         "Nike Men's Dri-FIT Victory Golf Polo",
         10,
         500.0
        ],
        [
         "West Lafayette",
         "Field & Stream Sportsman 16 Gun Fire Safe",
         10,
         3999.8001098632812
        ],
        [
         "Santa Fe",
         "Nike Men's Free 5.0+ Running Shoe",
         10,
         999.8999862670898
        ],
        [
         "Bloomfield",
         "Diamondback Women's Serene Classic Comfort Bi",
         9,
         2699.820098876953
        ],
        [
         "Brentwood",
         "Nike Men's Dri-FIT Victory Golf Polo",
         9,
         450.0
        ],
        [
         "Buena Park",
         "Field & Stream Sportsman 16 Gun Fire Safe",
         9,
         3599.820098876953
        ],
        [
         "Hacienda Heights",
         "Diamondback Women's Serene Classic Comfort Bi",
         9,
         2699.820098876953
        ],
        [
         "Bolingbrook",
         "O'Brien Men's Neoprene Life Vest",
         9,
         449.8199920654297
        ],
        [
         "Chicago Heights",
         "Field & Stream Sportsman 16 Gun Fire Safe",
         9,
         3599.820098876953
        ],
        [
         "Conway",
         "Under Armour Girls' Toddler Spine Surge Runni",
         9,
         359.9100036621094
        ],
        [
         "Hempstead",
         "Nike Men's CJ Elite 2 TD Football Cleat",
         9,
         1169.9100494384766
        ],
        [
         "Lynn",
         "Pelican Sunstream 100 Kayak",
         9,
         1799.9100494384766
        ],
        [
         "Poway",
         "Nike Men's Dri-FIT Victory Golf Polo",
         9,
         450.0
        ],
        [
         "Pacoima",
         "Under Armour Girls' Toddler Spine Surge Runni",
         9,
         359.9100112915039
        ],
        [
         "Citrus Heights",
         "Pelican Sunstream 100 Kayak",
         9,
         1799.9100494384766
        ],
        [
         "Dayton",
         "Nike Men's CJ Elite 2 TD Football Cleat",
         9,
         1169.9100494384766
        ],
        [
         "Edinburg",
         "Under Armour Girls' Toddler Spine Surge Runni",
         9,
         359.9100036621094
        ],
        [
         "Henrico",
         "Pelican Sunstream 100 Kayak",
         9,
         1799.9100494384766
        ],
        [
         "Kenner",
         "Field & Stream Sportsman 16 Gun Fire Safe",
         9,
         3599.820098876953
        ],
        [
         "Malden",
         "Perfect Fitness Perfect Rip Deck",
         9,
         539.9100112915039
        ],
        [
         "Medina",
         "Nike Men's CJ Elite 2 TD Football Cleat",
         9,
         1169.9100494384766
        ],
        [
         "Reno",
         "Nike Men's Free 5.0+ Running Shoe",
         9,
         899.9100036621094
        ],
        [
         "Santee",
         "Field & Stream Sportsman 16 Gun Fire Safe",
         9,
         3599.820098876953
        ],
        [
         "Spring",
         "Under Armour Girls' Toddler Spine Surge Runni",
         9,
         359.9100112915039
        ],
        [
         "Pacoima",
         "Nike Men's CJ Elite 2 TD Football Cleat",
         9,
         1169.9100494384766
        ],
        [
         "Bolingbrook",
         "Pelican Sunstream 100 Kayak",
         9,
         1799.9100494384766
        ],
        [
         "Citrus Heights",
         "Under Armour Girls' Toddler Spine Surge Runni",
         9,
         359.9100151062012
        ],
        [
         "Dubuque",
         "Nike Men's CJ Elite 2 TD Football Cleat",
         9,
         1169.9100494384766
        ],
        [
         "Forest Hills",
         "Under Armour Girls' Toddler Spine Surge Runni",
         9,
         359.9100112915039
        ],
        [
         "Forest Hills",
         "Nike Men's CJ Elite 2 TD Football Cleat",
         9,
         1169.9100494384766
        ],
        [
         "Howell",
         "Under Armour Girls' Toddler Spine Surge Runni",
         9,
         359.9100036621094
        ],
        [
         "Lewisville",
         "Nike Men's CJ Elite 2 TD Football Cleat",
         9,
         1169.9100494384766
        ],
        [
         "Lithonia",
         "Nike Men's CJ Elite 2 TD Football Cleat",
         9,
         1169.9100494384766
        ],
        [
         "Medina",
         "Pelican Sunstream 100 Kayak",
         9,
         1799.9100494384766
        ],
        [
         "Merced",
         "Diamondback Women's Serene Classic Comfort Bi",
         9,
         2699.820098876953
        ],
        [
         "Oakland",
         "Nike Men's CJ Elite 2 TD Football Cleat",
         9,
         1169.9100494384766
        ],
        [
         "South Gate",
         "Pelican Sunstream 100 Kayak",
         9,
         1799.9100494384766
        ],
        [
         "South Gate",
         "Nike Men's Free 5.0+ Running Shoe",
         9,
         899.9100112915039
        ],
        [
         "Spring",
         "Glove It Women's Mod Oval 3-Zip Carry All Gol",
         9,
         197.90999603271484
        ],
        [
         "Victorville",
         "Field & Stream Sportsman 16 Gun Fire Safe",
         9,
         3599.820098876953
        ],
        [
         "Spokane",
         "Perfect Fitness Perfect Rip Deck",
         9,
         539.9100112915039
        ],
        [
         "Bolingbrook",
         "Field & Stream Sportsman 16 Gun Fire Safe",
         9,
         3599.820098876953
        ],
        [
         "Berwyn",
         "Under Armour Girls' Toddler Spine Surge Runni",
         9,
         359.9100112915039
        ],
        [
         "Aguadilla",
         "Field & Stream Sportsman 16 Gun Fire Safe",
         9,
         3599.820098876953
        ],
        [
         "Dubuque",
         "Field & Stream Sportsman 16 Gun Fire Safe",
         9,
         3599.820098876953
        ],
        [
         "Gwynn Oak",
         "Nike Men's Dri-FIT Victory Golf Polo",
         9,
         450.0
        ],
        [
         "Lynn",
         "Nike Men's CJ Elite 2 TD Football Cleat",
         9,
         1169.9100494384766
        ],
        [
         "Medina",
         "Under Armour Girls' Toddler Spine Surge Runni",
         9,
         359.9100112915039
        ],
        [
         "Pacoima",
         "Diamondback Women's Serene Classic Comfort Bi",
         9,
         2699.820098876953
        ],
        [
         "South Gate",
         "Nike Men's CJ Elite 2 TD Football Cleat",
         9,
         1169.9100494384766
        ],
        [
         "Taylor",
         "O'Brien Men's Neoprene Life Vest",
         9,
         449.8200035095215
        ],
        [
         "Tinley Park",
         "Nike Men's CJ Elite 2 TD Football Cleat",
         9,
         1169.9100494384766
        ],
        [
         "Bay Shore",
         "Nike Men's Free 5.0+ Running Shoe",
         9,
         899.9100036621094
        ],
        [
         "Cayey",
         "Field & Stream Sportsman 16 Gun Fire Safe",
         8,
         3199.840087890625
        ],
        [
         "Colton",
         "Nike Men's CJ Elite 2 TD Football Cleat",
         8,
         1039.9200439453125
        ],
        [
         "Freehold",
         "Nike Men's Dri-FIT Victory Golf Polo",
         8,
         400.0
        ],
        [
         "Marion",
         "Under Armour Girls' Toddler Spine Surge Runni",
         8,
         319.9200134277344
        ],
        [
         "Gaithersburg",
         "Under Armour Girls' Toddler Spine Surge Runni",
         8,
         319.9200019836426
        ],
        [
         "Greensburg",
         "Under Armour Girls' Toddler Spine Surge Runni",
         8,
         319.9200134277344
        ],
        [
         "Mcallen",
         "Nike Men's Free 5.0+ Running Shoe",
         8,
         799.9199829101562
        ],
        [
         "Peabody",
         "Field & Stream Sportsman 16 Gun Fire Safe",
         8,
         3199.840087890625
        ],
        [
         "Birmingham",
         "Under Armour Girls' Toddler Spine Surge Runni",
         8,
         319.9200019836426
        ],
        [
         "Glen Burnie",
         "Nike Men's CJ Elite 2 TD Football Cleat",
         8,
         1039.9200439453125
        ],
        [
         "Henderson",
         "Nike Men's CJ Elite 2 TD Football Cleat",
         8,
         1039.9200439453125
        ],
        [
         "Juana Diaz",
         "Diamondback Women's Serene Classic Comfort Bi",
         8,
         2399.840087890625
        ],
        [
         "Mentor",
         "Diamondback Women's Serene Classic Comfort Bi",
         8,
         2399.840087890625
        ],
        [
         "Ponce",
         "Nike Men's Dri-FIT Victory Golf Polo",
         8,
         400.0
        ],
        [
         "San Pedro",
         "Under Armour Girls' Toddler Spine Surge Runni",
         8,
         319.9200019836426
        ],
        [
         "Temecula",
         "Nike Men's CJ Elite 2 TD Football Cleat",
         8,
         1039.9200439453125
        ],
        [
         "Birmingham",
         "Nike Men's Free 5.0+ Running Shoe",
         8,
         799.9199981689453
        ],
        [
         "Jackson Heights",
         "Nike Men's CJ Elite 2 TD Football Cleat",
         8,
         1039.9200439453125
        ],
        [
         "Kailua",
         "Field & Stream Sportsman 16 Gun Fire Safe",
         8,
         3199.840087890625
        ],
        [
         "Lithonia",
         "Pelican Sunstream 100 Kayak",
         8,
         1599.9200439453125
        ],
        [
         "National City",
         "Nike Men's Dri-FIT Victory Golf Polo",
         8,
         400.0
        ],
        [
         "Palo Alto",
         "Perfect Fitness Perfect Rip Deck",
         8,
         479.9200134277344
        ],
        [
         "Ponce",
         "Perfect Fitness Perfect Rip Deck",
         8,
         479.9200134277344
        ],
        [
         "Santee",
         "Nike Men's CJ Elite 2 TD Football Cleat",
         8,
         1039.9200439453125
        ],
        [
         "Taunton",
         "Nike Men's Free 5.0+ Running Shoe",
         8,
         799.9199829101562
        ],
        [
         "Tracy",
         "Field & Stream Sportsman 16 Gun Fire Safe",
         8,
         3199.840087890625
        ],
        [
         "Marion",
         "Nike Men's Dri-FIT Victory Golf Polo",
         8,
         400.0
        ],
        [
         "Canovanas",
         "O'Brien Men's Neoprene Life Vest",
         8,
         399.8399963378906
        ],
        [
         "Asheboro",
         "Field & Stream Sportsman 16 Gun Fire Safe",
         8,
         3199.840087890625
        ],
        [
         "Juana Diaz",
         "Team Golf San Francisco Giants Putter Grip",
         8,
         199.9199981689453
        ],
        [
         "Lithonia",
         "Nike Men's Free 5.0+ Running Shoe",
         8,
         799.9199981689453
        ],
        [
         "Parkville",
         "Nike Men's CJ Elite 2 TD Football Cleat",
         8,
         1039.9200439453125
        ],
        [
         "San Pedro",
         "Diamondback Women's Serene Classic Comfort Bi",
         8,
         2399.840087890625
        ],
        [
         "Temecula",
         "Pelican Sunstream 100 Kayak",
         8,
         1599.9200439453125
        ],
        [
         "Lompoc",
         "Field & Stream Sportsman 16 Gun Fire Safe",
         8,
         3199.840087890625
        ],
        [
         "Bellingham",
         "Perfect Fitness Perfect Rip Deck",
         8,
         479.9200096130371
        ],
        [
         "Berwyn",
         "Nike Men's CJ Elite 2 TD Football Cleat",
         7,
         909.9300384521484
        ],
        [
         "Blacksburg",
         "Bag Boy M330 Push Cart",
         7,
         559.9299926757812
        ],
        [
         "Broomfield",
         "Nike Men's CJ Elite 2 TD Football Cleat",
         7,
         909.9300384521484
        ],
        [
         "Freehold",
         "Perfect Fitness Perfect Rip Deck",
         7,
         419.93001556396484
        ],
        [
         "Buena Park",
         "Pelican Sunstream 100 Kayak",
         7,
         1399.9300384521484
        ],
        [
         "Gaithersburg",
         "Nike Men's CJ Elite 2 TD Football Cleat",
         7,
         909.9300384521484
        ],
        [
         "Morganton",
         "Pelican Sunstream 100 Kayak",
         7,
         1399.9300384521484
        ],
        [
         "Buena Park",
         "Nike Men's Free 5.0+ Running Shoe",
         7,
         699.9299926757812
        ],
        [
         "Gaithersburg",
         "Pelican Sunstream 100 Kayak",
         7,
         1399.9300384521484
        ],
        [
         "La Puente",
         "Field & Stream Sportsman 16 Gun Fire Safe",
         7,
         2799.860076904297
        ],
        [
         "Morganton",
         "Field & Stream Sportsman 16 Gun Fire Safe",
         7,
         2799.860076904297
        ],
        [
         "Poway",
         "LIJA Women's Eyelet Sleeveless Golf Polo",
         7,
         455.0
        ],
        [
         "South Gate",
         "Diamondback Women's Serene Classic Comfort Bi",
         7,
         2099.860076904297
        ],
        [
         "Canovanas",
         "Under Armour Girls' Toddler Spine Surge Runni",
         7,
         279.9300079345703
        ],
        [
         "Chicago Heights",
         "Diamondback Women's Serene Classic Comfort Bi",
         7,
         2099.860076904297
        ],
        [
         "Grand Prairie",
         "Nike Men's CJ Elite 2 TD Football Cleat",
         7,
         909.9300384521484
        ],
        [
         "Grove City",
         "Nike Men's Free 5.0+ Running Shoe",
         7,
         699.9299926757812
        ],
        [
         "Lewisville",
         "Diamondback Women's Serene Classic Comfort Bi",
         7,
         2099.860076904297
        ],
        [
         "Lodi",
         "Nike Men's CJ Elite 2 TD Football Cleat",
         7,
         909.9300384521484
        ],
        [
         "Oakland",
         "O'Brien Men's Neoprene Life Vest",
         7,
         349.8599967956543
        ],
        [
         "Oviedo",
         "Nike Men's CJ Elite 2 TD Football Cleat",
         7,
         909.9300384521484
        ],
        [
         "Poway",
         "Field & Stream Sportsman 16 Gun Fire Safe",
         7,
         2799.860076904297
        ],
        [
         "Rialto",
         "Diamondback Women's Serene Classic Comfort Bi",
         7,
         2099.860076904297
        ],
        [
         "Springfield",
         "Nike Men's CJ Elite 2 TD Football Cleat",
         7,
         909.9300384521484
        ],
        [
         "Berwyn",
         "Pelican Sunstream 100 Kayak",
         7,
         1399.9300384521484
        ],
        [
         "Clementon",
         "Field & Stream Sportsman 16 Gun Fire Safe",
         7,
         2799.860076904297
        ],
        [
         "Clementon",
         "Nike Men's CJ Elite 2 TD Football Cleat",
         7,
         909.9300384521484
        ],
        [
         "Gwynn Oak",
         "Under Armour Girls' Toddler Spine Surge Runni",
         7,
         279.9300003051758
        ],
        [
         "Kailua",
         "Nike Men's CJ Elite 2 TD Football Cleat",
         7,
         909.9300384521484
        ],
        [
         "Lewisville",
         "Pelican Sunstream 100 Kayak",
         7,
         1399.9300384521484
        ],
        [
         "Lodi",
         "Field & Stream Sportsman 16 Gun Fire Safe",
         7,
         2799.860076904297
        ],
        [
         "Mcallen",
         "Field & Stream Sportsman 16 Gun Fire Safe",
         7,
         2799.860076904297
        ],
        [
         "Oakland",
         "Pelican Sunstream 100 Kayak",
         7,
         1399.9300384521484
        ],
        [
         "Palo Alto",
         "Titleist Pro V1x Golf Balls",
         7,
         335.9300079345703
        ],
        [
         "Pittsburg",
         "Diamondback Women's Serene Classic Comfort Bi",
         7,
         2099.860076904297
        ],
        [
         "Reno",
         "O'Brien Men's Neoprene Life Vest",
         7,
         349.8599967956543
        ],
        [
         "San Pedro",
         "Field & Stream Sportsman 16 Gun Fire Safe",
         7,
         2799.860076904297
        ],
        [
         "Santa Fe",
         "Nike Men's CJ Elite 2 TD Football Cleat",
         7,
         909.9300384521484
        ],
        [
         "Sumner",
         "Under Armour Girls' Toddler Spine Surge Runni",
         7,
         279.9300079345703
        ],
        [
         "Santa Maria",
         "Under Armour Girls' Toddler Spine Surge Runni",
         7,
         279.9300079345703
        ],
        [
         "Berwyn",
         "Field & Stream Sportsman 16 Gun Fire Safe",
         7,
         2799.860076904297
        ],
        [
         "Bayonne",
         "Field & Stream Sportsman 16 Gun Fire Safe",
         7,
         2799.860076904297
        ],
        [
         "Edinburg",
         "Nike Men's CJ Elite 2 TD Football Cleat",
         7,
         909.9300384521484
        ],
        [
         "Kailua",
         "Under Armour Girls' Toddler Spine Surge Runni",
         7,
         279.9300117492676
        ],
        [
         "Lewisville",
         "Nike Men's Free 5.0+ Running Shoe",
         7,
         699.9300003051758
        ],
        [
         "Mcallen",
         "Nike Men's CJ Elite 2 TD Football Cleat",
         7,
         909.9300384521484
        ],
        [
         "Ponce",
         "Diamondback Women's Serene Classic Comfort Bi",
         7,
         2099.860076904297
        ],
        [
         "Reno",
         "Nike Men's CJ Elite 2 TD Football Cleat",
         7,
         909.9300384521484
        ],
        [
         "Santa Fe",
         "Field & Stream Sportsman 16 Gun Fire Safe",
         7,
         2799.860076904297
        ],
        [
         "Wilmington",
         "Field & Stream Sportsman 16 Gun Fire Safe",
         7,
         2799.860076904297
        ],
        [
         "South Gate",
         "Under Armour Girls' Toddler Spine Surge Runni",
         7,
         279.9300079345703
        ],
        [
         "Bayonne",
         "Nike Men's CJ Elite 2 TD Football Cleat",
         7,
         909.9300384521484
        ],
        [
         "Longview",
         "Under Armour Girls' Toddler Spine Surge Runni",
         6,
         239.94001007080078
        ],
        [
         "Aguadilla",
         "Diamondback Women's Serene Classic Comfort Bi",
         6,
         1799.8800659179688
        ],
        [
         "Mcallen",
         "Under Armour Girls' Toddler Spine Surge Runni",
         6,
         239.94001007080078
        ],
        [
         "Reno",
         "Titleist Pro V1 High Numbers Personalized Gol",
         6,
         311.94001388549805
        ],
        [
         "Aguadilla",
         "Nike Men's CJ Elite 2 TD Football Cleat",
         6,
         779.9400329589844
        ],
        [
         "Oviedo",
         "Nike Men's Free 5.0+ Running Shoe",
         6,
         599.9399871826172
        ],
        [
         "Reno",
         "Diamondback Women's Serene Classic Comfort Bi",
         6,
         1799.8800659179688
        ],
        [
         "Santa Maria",
         "Nike Men's CJ Elite 2 TD Football Cleat",
         6,
         779.9400329589844
        ],
        [
         "Longview",
         "Field & Stream Sportsman 16 Gun Fire Safe",
         6,
         2399.8800659179688
        ],
        [
         "Aguadilla",
         "Nike Men's Dri-FIT Victory Golf Polo",
         6,
         300.0
        ],
        [
         "Santa Maria",
         "Field & Stream Sportsman 16 Gun Fire Safe",
         6,
         2399.8800659179688
        ],
        [
         "Toa Alta",
         "Nike Men's CJ Elite 2 TD Football Cleat",
         6,
         779.9400329589844
        ],
        [
         "Toa Alta",
         "Under Armour Girls' Toddler Spine Surge Runni",
         6,
         239.94000625610352
        ],
        [
         "Ponce",
         "Nike Men's Free 5.0+ Running Shoe",
         6,
         599.9399871826172
        ],
        [
         "Kenner",
         "Diamondback Women's Serene Classic Comfort Bi",
         6,
         1799.8800659179688
        ],
        [
         "Edinburg",
         "Pelican Sunstream 100 Kayak",
         6,
         1199.9400329589844
        ],
        [
         "Toa Alta",
         "Nike Men's Free 5.0+ Running Shoe",
         6,
         599.9400024414062
        ],
        [
         "Tracy",
         "Nike Men's Free 5.0+ Running Shoe",
         6,
         599.9400100708008
        ],
        [
         "Henderson",
         "Pelican Sunstream 100 Kayak",
         6,
         1199.9400329589844
        ],
        [
         "Grand Prairie",
         "Nike Men's Dri-FIT Victory Golf Polo",
         5,
         250.0
        ],
        [
         "Grand Prairie",
         "Diamondback Women's Serene Classic Comfort Bi",
         5,
         1499.9000549316406
        ],
        [
         "Gwynn Oak",
         "O'Brien Men's Neoprene Life Vest",
         5,
         249.89999771118164
        ],
        [
         "National City",
         "Nike Men's CJ Elite 2 TD Football Cleat",
         5,
         649.9500274658203
        ],
        [
         "Stafford",
         "Nike Men's Free 5.0+ Running Shoe",
         5,
         499.9499969482422
        ],
        [
         "Bartlett",
         "adidas Men's Germany Black Crest Away Tee",
         5,
         125.0
        ],
        [
         "Gwynn Oak",
         "Nike Men's CJ Elite 2 TD Football Cleat",
         5,
         649.9500274658203
        ],
        [
         "Hempstead",
         "Under Armour Girls' Toddler Spine Surge Runni",
         5,
         199.95000457763672
        ],
        [
         "Oviedo",
         "Field & Stream Sportsman 16 Gun Fire Safe",
         5,
         1999.9000549316406
        ],
        [
         "Spokane",
         "Field & Stream Sportsman 16 Gun Fire Safe",
         5,
         1999.9000549316406
        ],
        [
         "Stafford",
         "Diamondback Women's Serene Classic Comfort Bi",
         5,
         1499.9000549316406
        ],
        [
         "Taunton",
         "Diamondback Women's Serene Classic Comfort Bi",
         5,
         1499.9000549316406
        ],
        [
         "Grand Prairie",
         "Field & Stream Sportsman 16 Gun Fire Safe",
         5,
         1999.9000549316406
        ],
        [
         "Birmingham",
         "Perfect Fitness Perfect Rip Deck",
         5,
         299.950008392334
        ],
        [
         "Hempstead",
         "Bag Boy M330 Push Cart",
         5,
         399.95001220703125
        ],
        [
         "Lindenhurst",
         "Diamondback Women's Serene Classic Comfort Bi",
         5,
         1499.9000549316406
        ],
        [
         "Ponce",
         "Top Flite Women's 2014 XL Hybrid",
         5,
         99.94999694824219
        ],
        [
         "Stafford",
         "Team Golf New England Patriots Putter Grip",
         5,
         124.94999694824219
        ],
        [
         "Stafford",
         "Field & Stream Sportsman 16 Gun Fire Safe",
         5,
         1999.9000549316406
        ],
        [
         "Stafford",
         "Pelican Sunstream 100 Kayak",
         5,
         999.9500274658203
        ],
        [
         "Taunton",
         "Clicgear 8.0 Shoe Brush",
         5,
         49.95000076293945
        ],
        [
         "Toa Alta",
         "Diamondback Women's Serene Classic Comfort Bi",
         5,
         1499.9000549316406
        ],
        [
         "Grand Prairie",
         "Bridgestone e6 Straight Distance NFL San Dieg",
         5,
         159.9499969482422
        ],
        [
         "Birmingham",
         "Field & Stream Sportsman 16 Gun Fire Safe",
         5,
         1999.9000549316406
        ],
        [
         "Birmingham",
         "Pelican Sunstream 100 Kayak",
         5,
         999.9500274658203
        ],
        [
         "Malden",
         "Nike Men's CJ Elite 2 TD Football Cleat",
         5,
         649.9500274658203
        ],
        [
         "Ponce",
         "Glove It Women's Mod Oval 3-Zip Carry All Gol",
         5,
         109.94999694824219
        ],
        [
         "Stafford",
         "Columbia Men's PFG Anchor Tough T-Shirt",
         5,
         150.0
        ],
        [
         "Toa Alta",
         "Pelican Sunstream 100 Kayak",
         5,
         999.9500274658203
        ],
        [
         "Stafford",
         "Nike Men's CJ Elite 2 TD Football Cleat",
         5,
         649.9500274658203
        ],
        [
         "Birmingham",
         "O'Brien Men's Neoprene Life Vest",
         5,
         249.89999771118164
        ],
        [
         "Birmingham",
         "Nike Men's CJ Elite 2 TD Football Cleat",
         4,
         519.9600219726562
        ],
        [
         "Hempstead",
         "Perfect Fitness Perfect Rip Deck",
         4,
         239.9600067138672
        ],
        [
         "Hempstead",
         "Nike Men's Free 5.0+ Running Shoe",
         4,
         399.9599914550781
        ],
        [
         "Birmingham",
         "Under Armour Kids' Mercenary Slide",
         4,
         111.95999908447266
        ],
        [
         "Marion",
         "Field & Stream Sportsman 16 Gun Fire Safe",
         4,
         1599.9200439453125
        ],
        [
         "Birmingham",
         "Nike Men's Dri-FIT Victory Golf Polo",
         4,
         200.0
        ],
        [
         "National City",
         "O'Brien Men's Neoprene Life Vest",
         4,
         199.9199981689453
        ],
        [
         "Taunton",
         "Titleist Pro V1x High Numbers Golf Balls",
         4,
         191.9600067138672
        ],
        [
         "Kenner",
         "Under Armour Girls' Toddler Spine Surge Runni",
         4,
         159.9600067138672
        ],
        [
         "Bartlett",
         "Nike Men's CJ Elite 2 TD Football Cleat",
         4,
         519.9600219726562
        ],
        [
         "National City",
         "Nike Women's Legend V-Neck T-Shirt",
         4,
         100.0
        ],
        [
         "Santa Maria",
         "Diamondback Women's Serene Classic Comfort Bi",
         4,
         1199.9200439453125
        ],
        [
         "Taunton",
         "Field & Stream Sportsman 16 Gun Fire Safe",
         4,
         1599.9200439453125
        ],
        [
         "Sumner",
         "Pelican Sunstream 100 Kayak",
         4,
         799.9600219726562
        ],
        [
         "Kenner",
         "Under Armour Kids' Mercenary Slide",
         4,
         111.95999908447266
        ],
        [
         "Bartlett",
         "Field & Stream Sportsman 16 Gun Fire Safe",
         4,
         1599.9200439453125
        ],
        [
         "Aguadilla",
         "Under Armour Girls' Toddler Spine Surge Runni",
         4,
         159.9600067138672
        ],
        [
         "Sumner",
         "Nike Kids' Grade School KD VI Basketball Shoe",
         4,
         399.9599914550781
        ],
        [
         "Toa Alta",
         "Field & Stream Sportsman 16 Gun Fire Safe",
         4,
         1599.9200439453125
        ],
        [
         "Kenner",
         "Nike Men's CJ Elite 2 TD Football Cleat",
         4,
         519.9600219726562
        ],
        [
         "Birmingham",
         "Diamondback Women's Serene Classic Comfort Bi",
         3,
         899.9400329589844
        ],
        [
         "Malden",
         "Diamondback Women's Serene Classic Comfort Bi",
         3,
         899.9400329589844
        ],
        [
         "Ponce",
         "Nike Men's CJ Elite 2 TD Football Cleat",
         3,
         389.9700164794922
        ],
        [
         "Ponce",
         "Under Armour Girls' Toddler Spine Surge Runni",
         3,
         119.97000122070312
        ],
        [
         "Sumner",
         "Nike Men's Dri-FIT Victory Golf Polo",
         3,
         150.0
        ],
        [
         "Freehold",
         "Nike Men's Free 5.0+ Running Shoe",
         2,
         199.97999572753906
        ],
        [
         "Freehold",
         "Diamondback Women's Serene Classic Comfort Bi",
         2,
         599.9600219726562
        ],
        [
         "Freehold",
         "Pelican Sunstream 100 Kayak",
         2,
         399.9800109863281
        ],
        [
         "Malden",
         "Field & Stream Sportsman 16 Gun Fire Safe",
         2,
         799.9600219726562
        ],
        [
         "Freehold",
         "Nike Men's CJ Elite 2 TD Football Cleat",
         1,
         129.99000549316406
        ],
        [
         "Freehold",
         "Team Golf Tennessee Volunteers Putter Grip",
         1,
         24.989999771118164
        ],
        [
         "Freehold",
         "O'Brien Men's Neoprene Life Vest",
         1,
         49.97999954223633
        ]
       ],
       "datasetInfos": [],
       "dbfsResultPath": null,
       "isJsonSchema": true,
       "metadata": {},
       "overflow": false,
       "plotOptions": {
        "customPlotOptions": {},
        "displayType": "table",
        "pivotAggregation": null,
        "pivotColumns": null,
        "xColumns": null,
        "yColumns": null
       },
       "removedWidgets": [],
       "schema": [
        {
         "metadata": "{}",
         "name": "customer_city",
         "type": "\"string\""
        },
        {
         "metadata": "{}",
         "name": "product_name",
         "type": "\"string\""
        },
        {
         "metadata": "{}",
         "name": "quantity",
         "type": "\"long\""
        },
        {
         "metadata": "{}",
         "name": "total",
         "type": "\"double\""
        }
       ],
       "type": "table"
      }
     },
     "output_type": "display_data"
    }
   ],
   "source": [
    "display(statement4)"
   ]
  },
  {
   "cell_type": "code",
   "execution_count": 0,
   "metadata": {
    "application/vnd.databricks.v1+cell": {
     "cellMetadata": {
      "byteLimit": 2048000,
      "rowLimit": 10000
     },
     "inputWidgets": {},
     "nuid": "b74db34a-c2a1-47c4-b3dc-ccb48d46bb9a",
     "showTitle": false,
     "title": ""
    }
   },
   "outputs": [
    {
     "output_type": "display_data",
     "data": {
      "text/html": [
       "<style scoped>\n",
       "  .ansiout {\n",
       "    display: block;\n",
       "    unicode-bidi: embed;\n",
       "    white-space: pre-wrap;\n",
       "    word-wrap: break-word;\n",
       "    word-break: break-all;\n",
       "    font-family: \"Menlo\", \"Monaco\", \"Consolas\", \"Ubuntu Mono\", \"Source Code Pro\", monospace;\n",
       "    font-size: 13px;\n",
       "    color: #555;\n",
       "    margin-left: 4px;\n",
       "    line-height: 19px;\n",
       "  }\n",
       "</style>\n",
       "<div class=\"ansiout\"></div>"
      ]
     },
     "metadata": {
      "application/vnd.databricks.v1+output": {
       "addedWidgets": {},
       "arguments": {},
       "data": "<div class=\"ansiout\"></div>",
       "datasetInfos": [],
       "metadata": {},
       "removedWidgets": [],
       "type": "html"
      }
     },
     "output_type": "display_data"
    }
   ],
   "source": [
    "statement4.write.mode(\"overwrite\").format(\"delta\").save(f\"{silver_path}/statement4\")\n"
   ]
  }
 ],
 "metadata": {
  "application/vnd.databricks.v1+notebook": {
   "dashboards": [],
   "environmentMetadata": null,
   "language": "python",
   "notebookMetadata": {
    "mostRecentlyExecutedCommandWithImplicitDF": {
     "commandId": -1,
     "dataframes": [
      "_sqldf"
     ]
    },
    "pythonIndentUnit": 4
   },
   "notebookName": "Transform",
   "widgets": {}
  }
 },
 "nbformat": 4,
 "nbformat_minor": 0
}
